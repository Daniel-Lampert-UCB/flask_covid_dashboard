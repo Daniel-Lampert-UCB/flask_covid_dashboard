{
 "cells": [
  {
   "cell_type": "code",
   "execution_count": 1,
   "metadata": {},
   "outputs": [
    {
     "data": {
      "text/html": [
       "        <script type=\"text/javascript\">\n",
       "        window.PlotlyConfig = {MathJaxConfig: 'local'};\n",
       "        if (window.MathJax) {MathJax.Hub.Config({SVG: {font: \"STIX-Web\"}});}\n",
       "        if (typeof require !== 'undefined') {\n",
       "        require.undef(\"plotly\");\n",
       "        requirejs.config({\n",
       "            paths: {\n",
       "                'plotly': ['https://cdn.plot.ly/plotly-latest.min']\n",
       "            }\n",
       "        });\n",
       "        require(['plotly'], function(Plotly) {\n",
       "            window._Plotly = Plotly;\n",
       "        });\n",
       "        }\n",
       "        </script>\n",
       "        "
      ]
     },
     "metadata": {},
     "output_type": "display_data"
    }
   ],
   "source": [
    "import pandas as pd\n",
    "import numpy as np\n",
    "import dateutil\n",
    "import datetime\n",
    "import numpy as np\n",
    "import pandas as pd\n",
    "import plotly.graph_objects as go\n",
    "import numpy as np\n",
    "import pandas as pd\n",
    "import altair as alt\n",
    "from vega_datasets import data\n",
    "from plotly.subplots import make_subplots\n",
    "import plotly.express as px\n",
    "import json\n",
    "\n",
    "#only in jupyter notebook need plotly offline mode\n",
    "#I still got some error when using Jupyterlab\n",
    "from plotly.offline import download_plotlyjs, init_notebook_mode, iplot\n",
    "init_notebook_mode(connected=True)\n"
   ]
  },
  {
   "cell_type": "markdown",
   "metadata": {},
   "source": [
    "# Data cleaning and plot testing for flask dashboard <a name=\"main\"></a>\n",
    "\n"
   ]
  },
  {
   "cell_type": "markdown",
   "metadata": {},
   "source": [
    "### Table of contents\n",
    "* [1. Get country-grouped and global time series data frame](#ch1)\n",
    "* [2. Altair Plot](#ch2)\n",
    "* [3. Plotly Plot](#ch3)\n",
    "* [4. Put all of it into functions ](#ch4)"
   ]
  },
  {
   "cell_type": "code",
   "execution_count": 2,
   "metadata": {},
   "outputs": [],
   "source": [
    "\n",
    "#loading data\n",
    "total_confirmed=pd.read_csv('https://raw.githubusercontent.com/CSSEGISandData/COVID-19/master/csse_covid_19_data/csse_covid_19_time_series/time_series_covid19_confirmed_global.csv',encoding='utf-8',na_values=None)\n",
    "#Replace US with United States\n",
    "total_confirmed.replace(to_replace='US', value='United States', regex=True, inplace=True)\n",
    "total_death=pd.read_csv('https://raw.githubusercontent.com/CSSEGISandData/COVID-19/master/csse_covid_19_data/csse_covid_19_time_series/time_series_covid19_deaths_global.csv',encoding='utf-8',na_values=None)\n",
    "total_death.replace(to_replace='US', value='United States', regex=True, inplace=True)\n",
    "total_recovered=pd.read_csv('https://raw.githubusercontent.com/CSSEGISandData/COVID-19/master/csse_covid_19_data/csse_covid_19_time_series/time_series_covid19_recovered_global.csv',encoding='utf-8',na_values=None)\n",
    "total_recovered.replace(to_replace='US', value='United States', regex=True, inplace=True)"
   ]
  },
  {
   "cell_type": "code",
   "execution_count": 3,
   "metadata": {},
   "outputs": [
    {
     "data": {
      "text/html": [
       "<div>\n",
       "<style scoped>\n",
       "    .dataframe tbody tr th:only-of-type {\n",
       "        vertical-align: middle;\n",
       "    }\n",
       "\n",
       "    .dataframe tbody tr th {\n",
       "        vertical-align: top;\n",
       "    }\n",
       "\n",
       "    .dataframe thead th {\n",
       "        text-align: right;\n",
       "    }\n",
       "</style>\n",
       "<table border=\"1\" class=\"dataframe\">\n",
       "  <thead>\n",
       "    <tr style=\"text-align: right;\">\n",
       "      <th></th>\n",
       "      <th>Province/State</th>\n",
       "      <th>Country/Region</th>\n",
       "      <th>Lat</th>\n",
       "      <th>Long</th>\n",
       "      <th>1/22/20</th>\n",
       "      <th>1/23/20</th>\n",
       "      <th>1/24/20</th>\n",
       "      <th>1/25/20</th>\n",
       "      <th>1/26/20</th>\n",
       "      <th>1/27/20</th>\n",
       "      <th>...</th>\n",
       "      <th>11/7/20</th>\n",
       "      <th>11/8/20</th>\n",
       "      <th>11/9/20</th>\n",
       "      <th>11/10/20</th>\n",
       "      <th>11/11/20</th>\n",
       "      <th>11/12/20</th>\n",
       "      <th>11/13/20</th>\n",
       "      <th>11/14/20</th>\n",
       "      <th>11/15/20</th>\n",
       "      <th>11/16/20</th>\n",
       "    </tr>\n",
       "  </thead>\n",
       "  <tbody>\n",
       "    <tr>\n",
       "      <th>0</th>\n",
       "      <td>NaN</td>\n",
       "      <td>Afghanistan</td>\n",
       "      <td>33.93911</td>\n",
       "      <td>67.709953</td>\n",
       "      <td>0</td>\n",
       "      <td>0</td>\n",
       "      <td>0</td>\n",
       "      <td>0</td>\n",
       "      <td>0</td>\n",
       "      <td>0</td>\n",
       "      <td>...</td>\n",
       "      <td>42033</td>\n",
       "      <td>42092</td>\n",
       "      <td>42297</td>\n",
       "      <td>42463</td>\n",
       "      <td>42609</td>\n",
       "      <td>42795</td>\n",
       "      <td>42969</td>\n",
       "      <td>43035</td>\n",
       "      <td>43240</td>\n",
       "      <td>43403</td>\n",
       "    </tr>\n",
       "    <tr>\n",
       "      <th>1</th>\n",
       "      <td>NaN</td>\n",
       "      <td>Albania</td>\n",
       "      <td>41.15330</td>\n",
       "      <td>20.168300</td>\n",
       "      <td>0</td>\n",
       "      <td>0</td>\n",
       "      <td>0</td>\n",
       "      <td>0</td>\n",
       "      <td>0</td>\n",
       "      <td>0</td>\n",
       "      <td>...</td>\n",
       "      <td>23705</td>\n",
       "      <td>24206</td>\n",
       "      <td>24731</td>\n",
       "      <td>25294</td>\n",
       "      <td>25801</td>\n",
       "      <td>26211</td>\n",
       "      <td>26701</td>\n",
       "      <td>27233</td>\n",
       "      <td>27830</td>\n",
       "      <td>28432</td>\n",
       "    </tr>\n",
       "    <tr>\n",
       "      <th>2</th>\n",
       "      <td>NaN</td>\n",
       "      <td>Algeria</td>\n",
       "      <td>28.03390</td>\n",
       "      <td>1.659600</td>\n",
       "      <td>0</td>\n",
       "      <td>0</td>\n",
       "      <td>0</td>\n",
       "      <td>0</td>\n",
       "      <td>0</td>\n",
       "      <td>0</td>\n",
       "      <td>...</td>\n",
       "      <td>61381</td>\n",
       "      <td>62051</td>\n",
       "      <td>62693</td>\n",
       "      <td>63446</td>\n",
       "      <td>64257</td>\n",
       "      <td>65108</td>\n",
       "      <td>65975</td>\n",
       "      <td>66819</td>\n",
       "      <td>67679</td>\n",
       "      <td>68589</td>\n",
       "    </tr>\n",
       "    <tr>\n",
       "      <th>3</th>\n",
       "      <td>NaN</td>\n",
       "      <td>Andorra</td>\n",
       "      <td>42.50630</td>\n",
       "      <td>1.521800</td>\n",
       "      <td>0</td>\n",
       "      <td>0</td>\n",
       "      <td>0</td>\n",
       "      <td>0</td>\n",
       "      <td>0</td>\n",
       "      <td>0</td>\n",
       "      <td>...</td>\n",
       "      <td>5319</td>\n",
       "      <td>5383</td>\n",
       "      <td>5437</td>\n",
       "      <td>5477</td>\n",
       "      <td>5567</td>\n",
       "      <td>5616</td>\n",
       "      <td>5725</td>\n",
       "      <td>5725</td>\n",
       "      <td>5872</td>\n",
       "      <td>5914</td>\n",
       "    </tr>\n",
       "    <tr>\n",
       "      <th>4</th>\n",
       "      <td>NaN</td>\n",
       "      <td>Angola</td>\n",
       "      <td>-11.20270</td>\n",
       "      <td>17.873900</td>\n",
       "      <td>0</td>\n",
       "      <td>0</td>\n",
       "      <td>0</td>\n",
       "      <td>0</td>\n",
       "      <td>0</td>\n",
       "      <td>0</td>\n",
       "      <td>...</td>\n",
       "      <td>12335</td>\n",
       "      <td>12433</td>\n",
       "      <td>12680</td>\n",
       "      <td>12816</td>\n",
       "      <td>12953</td>\n",
       "      <td>13053</td>\n",
       "      <td>13228</td>\n",
       "      <td>13374</td>\n",
       "      <td>13451</td>\n",
       "      <td>13615</td>\n",
       "    </tr>\n",
       "  </tbody>\n",
       "</table>\n",
       "<p>5 rows × 304 columns</p>\n",
       "</div>"
      ],
      "text/plain": [
       "  Province/State Country/Region       Lat       Long  1/22/20  1/23/20  \\\n",
       "0            NaN    Afghanistan  33.93911  67.709953        0        0   \n",
       "1            NaN        Albania  41.15330  20.168300        0        0   \n",
       "2            NaN        Algeria  28.03390   1.659600        0        0   \n",
       "3            NaN        Andorra  42.50630   1.521800        0        0   \n",
       "4            NaN         Angola -11.20270  17.873900        0        0   \n",
       "\n",
       "   1/24/20  1/25/20  1/26/20  1/27/20  ...  11/7/20  11/8/20  11/9/20  \\\n",
       "0        0        0        0        0  ...    42033    42092    42297   \n",
       "1        0        0        0        0  ...    23705    24206    24731   \n",
       "2        0        0        0        0  ...    61381    62051    62693   \n",
       "3        0        0        0        0  ...     5319     5383     5437   \n",
       "4        0        0        0        0  ...    12335    12433    12680   \n",
       "\n",
       "   11/10/20  11/11/20  11/12/20  11/13/20  11/14/20  11/15/20  11/16/20  \n",
       "0     42463     42609     42795     42969     43035     43240     43403  \n",
       "1     25294     25801     26211     26701     27233     27830     28432  \n",
       "2     63446     64257     65108     65975     66819     67679     68589  \n",
       "3      5477      5567      5616      5725      5725      5872      5914  \n",
       "4     12816     12953     13053     13228     13374     13451     13615  \n",
       "\n",
       "[5 rows x 304 columns]"
      ]
     },
     "execution_count": 3,
     "metadata": {},
     "output_type": "execute_result"
    }
   ],
   "source": [
    "total_confirmed.head()"
   ]
  },
  {
   "cell_type": "code",
   "execution_count": null,
   "metadata": {},
   "outputs": [],
   "source": []
  },
  {
   "cell_type": "markdown",
   "metadata": {},
   "source": [
    "## 1. Get country-grouped  and global time series data frame<a name=\"ch1\"></a>"
   ]
  },
  {
   "cell_type": "code",
   "execution_count": 4,
   "metadata": {},
   "outputs": [
    {
     "data": {
      "text/html": [
       "<div>\n",
       "<style scoped>\n",
       "    .dataframe tbody tr th:only-of-type {\n",
       "        vertical-align: middle;\n",
       "    }\n",
       "\n",
       "    .dataframe tbody tr th {\n",
       "        vertical-align: top;\n",
       "    }\n",
       "\n",
       "    .dataframe thead th {\n",
       "        text-align: right;\n",
       "    }\n",
       "</style>\n",
       "<table border=\"1\" class=\"dataframe\">\n",
       "  <thead>\n",
       "    <tr style=\"text-align: right;\">\n",
       "      <th></th>\n",
       "      <th>Country/Region</th>\n",
       "      <th>confirmed</th>\n",
       "    </tr>\n",
       "  </thead>\n",
       "  <tbody>\n",
       "    <tr>\n",
       "      <th>0</th>\n",
       "      <td>United States</td>\n",
       "      <td>11202980</td>\n",
       "    </tr>\n",
       "    <tr>\n",
       "      <th>1</th>\n",
       "      <td>India</td>\n",
       "      <td>8873541</td>\n",
       "    </tr>\n",
       "    <tr>\n",
       "      <th>2</th>\n",
       "      <td>Brazil</td>\n",
       "      <td>5876464</td>\n",
       "    </tr>\n",
       "    <tr>\n",
       "      <th>3</th>\n",
       "      <td>France</td>\n",
       "      <td>2041293</td>\n",
       "    </tr>\n",
       "    <tr>\n",
       "      <th>4</th>\n",
       "      <td>Russia</td>\n",
       "      <td>1932711</td>\n",
       "    </tr>\n",
       "    <tr>\n",
       "      <th>...</th>\n",
       "      <td>...</td>\n",
       "      <td>...</td>\n",
       "    </tr>\n",
       "    <tr>\n",
       "      <th>186</th>\n",
       "      <td>Solomon Islands</td>\n",
       "      <td>16</td>\n",
       "    </tr>\n",
       "    <tr>\n",
       "      <th>187</th>\n",
       "      <td>Western Sahara</td>\n",
       "      <td>10</td>\n",
       "    </tr>\n",
       "    <tr>\n",
       "      <th>188</th>\n",
       "      <td>MS Zaandam</td>\n",
       "      <td>9</td>\n",
       "    </tr>\n",
       "    <tr>\n",
       "      <th>189</th>\n",
       "      <td>Vanuatu</td>\n",
       "      <td>1</td>\n",
       "    </tr>\n",
       "    <tr>\n",
       "      <th>190</th>\n",
       "      <td>Marshall Islands</td>\n",
       "      <td>1</td>\n",
       "    </tr>\n",
       "  </tbody>\n",
       "</table>\n",
       "<p>191 rows × 2 columns</p>\n",
       "</div>"
      ],
      "text/plain": [
       "       Country/Region  confirmed\n",
       "0       United States   11202980\n",
       "1               India    8873541\n",
       "2              Brazil    5876464\n",
       "3              France    2041293\n",
       "4              Russia    1932711\n",
       "..                ...        ...\n",
       "186   Solomon Islands         16\n",
       "187    Western Sahara         10\n",
       "188        MS Zaandam          9\n",
       "189           Vanuatu          1\n",
       "190  Marshall Islands          1\n",
       "\n",
       "[191 rows x 2 columns]"
      ]
     },
     "execution_count": 4,
     "metadata": {},
     "output_type": "execute_result"
    }
   ],
   "source": [
    "#grouped total confirmed data\n",
    "grouped_total_confirmed = total_confirmed[[\"Country/Region\",total_confirmed.columns[-1]]].groupby(\"Country/Region\").sum().sort_values(by=total_confirmed.columns[-1], ascending=False)\n",
    "grouped_total_confirmed.reset_index(inplace=True)\n",
    "grouped_total_confirmed.columns=[\"Country/Region\", 'confirmed']\n",
    "grouped_total_confirmed.replace(to_replace='US', value='United States', regex=True, inplace=True)\n",
    "\n",
    "#Chart.js can't plot dataframe object, so we need to change some to list\n",
    "barplot_confirmed_values=grouped_total_confirmed[\"confirmed\"].values.tolist()\n",
    "country_names=grouped_total_confirmed[\"Country/Region\"].values.tolist()\n",
    "grouped_total_confirmed"
   ]
  },
  {
   "cell_type": "code",
   "execution_count": 5,
   "metadata": {},
   "outputs": [
    {
     "data": {
      "text/html": [
       "<div>\n",
       "<style scoped>\n",
       "    .dataframe tbody tr th:only-of-type {\n",
       "        vertical-align: middle;\n",
       "    }\n",
       "\n",
       "    .dataframe tbody tr th {\n",
       "        vertical-align: top;\n",
       "    }\n",
       "\n",
       "    .dataframe thead th {\n",
       "        text-align: right;\n",
       "    }\n",
       "</style>\n",
       "<table border=\"1\" class=\"dataframe\">\n",
       "  <thead>\n",
       "    <tr style=\"text-align: right;\">\n",
       "      <th></th>\n",
       "      <th>date</th>\n",
       "      <th>total confirmed</th>\n",
       "      <th>daily new cases</th>\n",
       "    </tr>\n",
       "  </thead>\n",
       "  <tbody>\n",
       "    <tr>\n",
       "      <th>0</th>\n",
       "      <td>1/22/20</td>\n",
       "      <td>555</td>\n",
       "      <td>0.0</td>\n",
       "    </tr>\n",
       "    <tr>\n",
       "      <th>1</th>\n",
       "      <td>1/23/20</td>\n",
       "      <td>654</td>\n",
       "      <td>99.0</td>\n",
       "    </tr>\n",
       "    <tr>\n",
       "      <th>2</th>\n",
       "      <td>1/24/20</td>\n",
       "      <td>941</td>\n",
       "      <td>287.0</td>\n",
       "    </tr>\n",
       "    <tr>\n",
       "      <th>3</th>\n",
       "      <td>1/25/20</td>\n",
       "      <td>1434</td>\n",
       "      <td>493.0</td>\n",
       "    </tr>\n",
       "    <tr>\n",
       "      <th>4</th>\n",
       "      <td>1/26/20</td>\n",
       "      <td>2118</td>\n",
       "      <td>684.0</td>\n",
       "    </tr>\n",
       "    <tr>\n",
       "      <th>...</th>\n",
       "      <td>...</td>\n",
       "      <td>...</td>\n",
       "      <td>...</td>\n",
       "    </tr>\n",
       "    <tr>\n",
       "      <th>295</th>\n",
       "      <td>11/12/20</td>\n",
       "      <td>52773432</td>\n",
       "      <td>646835.0</td>\n",
       "    </tr>\n",
       "    <tr>\n",
       "      <th>296</th>\n",
       "      <td>11/13/20</td>\n",
       "      <td>53421872</td>\n",
       "      <td>648440.0</td>\n",
       "    </tr>\n",
       "    <tr>\n",
       "      <th>297</th>\n",
       "      <td>11/14/20</td>\n",
       "      <td>54015689</td>\n",
       "      <td>593817.0</td>\n",
       "    </tr>\n",
       "    <tr>\n",
       "      <th>298</th>\n",
       "      <td>11/15/20</td>\n",
       "      <td>54485945</td>\n",
       "      <td>470256.0</td>\n",
       "    </tr>\n",
       "    <tr>\n",
       "      <th>299</th>\n",
       "      <td>11/16/20</td>\n",
       "      <td>55021938</td>\n",
       "      <td>535993.0</td>\n",
       "    </tr>\n",
       "  </tbody>\n",
       "</table>\n",
       "<p>300 rows × 3 columns</p>\n",
       "</div>"
      ],
      "text/plain": [
       "         date  total confirmed  daily new cases\n",
       "0     1/22/20              555              0.0\n",
       "1     1/23/20              654             99.0\n",
       "2     1/24/20              941            287.0\n",
       "3     1/25/20             1434            493.0\n",
       "4     1/26/20             2118            684.0\n",
       "..        ...              ...              ...\n",
       "295  11/12/20         52773432         646835.0\n",
       "296  11/13/20         53421872         648440.0\n",
       "297  11/14/20         54015689         593817.0\n",
       "298  11/15/20         54485945         470256.0\n",
       "299  11/16/20         55021938         535993.0\n",
       "\n",
       "[300 rows x 3 columns]"
      ]
     },
     "execution_count": 5,
     "metadata": {},
     "output_type": "execute_result"
    }
   ],
   "source": [
    "#global time series confirmed data frame\n",
    "global_confirmed_timeseries = pd.DataFrame(total_confirmed[total_confirmed.columns[4:]].sum())\n",
    "global_confirmed_timeseries.reset_index(inplace=True)\n",
    "global_confirmed_timeseries.columns= ['date', 'total confirmed']\n",
    "\n",
    "#global daily new cases = global daily confirmed at date (t) -  global daily confirmed at date (t-1)\n",
    "global_confirmed_timeseries[\"daily new cases\"] = global_confirmed_timeseries['total confirmed'] - global_confirmed_timeseries['total confirmed'].shift()\n",
    "global_confirmed_timeseries=global_confirmed_timeseries.fillna(0)\n",
    "global_confirmed_timeseries."
   ]
  },
  {
   "cell_type": "code",
   "execution_count": 6,
   "metadata": {},
   "outputs": [
    {
     "data": {
      "text/html": [
       "<div>\n",
       "<style scoped>\n",
       "    .dataframe tbody tr th:only-of-type {\n",
       "        vertical-align: middle;\n",
       "    }\n",
       "\n",
       "    .dataframe tbody tr th {\n",
       "        vertical-align: top;\n",
       "    }\n",
       "\n",
       "    .dataframe thead th {\n",
       "        text-align: right;\n",
       "    }\n",
       "</style>\n",
       "<table border=\"1\" class=\"dataframe\">\n",
       "  <thead>\n",
       "    <tr style=\"text-align: right;\">\n",
       "      <th></th>\n",
       "      <th>Country/Region</th>\n",
       "      <th>recovered</th>\n",
       "    </tr>\n",
       "  </thead>\n",
       "  <tbody>\n",
       "    <tr>\n",
       "      <th>0</th>\n",
       "      <td>India</td>\n",
       "      <td>8289073</td>\n",
       "    </tr>\n",
       "    <tr>\n",
       "      <th>1</th>\n",
       "      <td>Brazil</td>\n",
       "      <td>5335498</td>\n",
       "    </tr>\n",
       "    <tr>\n",
       "      <th>2</th>\n",
       "      <td>United States</td>\n",
       "      <td>4244811</td>\n",
       "    </tr>\n",
       "    <tr>\n",
       "      <th>3</th>\n",
       "      <td>Russia</td>\n",
       "      <td>1443393</td>\n",
       "    </tr>\n",
       "    <tr>\n",
       "      <th>4</th>\n",
       "      <td>Argentina</td>\n",
       "      <td>1140196</td>\n",
       "    </tr>\n",
       "    <tr>\n",
       "      <th>...</th>\n",
       "      <td>...</td>\n",
       "      <td>...</td>\n",
       "    </tr>\n",
       "    <tr>\n",
       "      <th>186</th>\n",
       "      <td>Belgium</td>\n",
       "      <td>0</td>\n",
       "    </tr>\n",
       "    <tr>\n",
       "      <th>187</th>\n",
       "      <td>MS Zaandam</td>\n",
       "      <td>0</td>\n",
       "    </tr>\n",
       "    <tr>\n",
       "      <th>188</th>\n",
       "      <td>Vanuatu</td>\n",
       "      <td>0</td>\n",
       "    </tr>\n",
       "    <tr>\n",
       "      <th>189</th>\n",
       "      <td>Sweden</td>\n",
       "      <td>0</td>\n",
       "    </tr>\n",
       "    <tr>\n",
       "      <th>190</th>\n",
       "      <td>Serbia</td>\n",
       "      <td>0</td>\n",
       "    </tr>\n",
       "  </tbody>\n",
       "</table>\n",
       "<p>191 rows × 2 columns</p>\n",
       "</div>"
      ],
      "text/plain": [
       "    Country/Region  recovered\n",
       "0            India    8289073\n",
       "1           Brazil    5335498\n",
       "2    United States    4244811\n",
       "3           Russia    1443393\n",
       "4        Argentina    1140196\n",
       "..             ...        ...\n",
       "186        Belgium          0\n",
       "187     MS Zaandam          0\n",
       "188        Vanuatu          0\n",
       "189         Sweden          0\n",
       "190         Serbia          0\n",
       "\n",
       "[191 rows x 2 columns]"
      ]
     },
     "execution_count": 6,
     "metadata": {},
     "output_type": "execute_result"
    }
   ],
   "source": [
    "#grouped total recovered data\n",
    "grouped_total_recovered = total_recovered[[\"Country/Region\",total_recovered.columns[-1]]].groupby(\"Country/Region\").sum().sort_values(by=total_recovered.columns[-1], ascending=False)\n",
    "grouped_total_recovered.reset_index(inplace=True)\n",
    "grouped_total_recovered.columns=[\"Country/Region\", 'recovered']\n",
    "grouped_total_recovered.replace(to_replace='US', value='United States', regex=True, inplace=True)\n",
    "\n",
    "#Chart.js can't plot dataframe object, so we need to change some to list\n",
    "barplot_recovered_values=grouped_total_recovered[\"recovered\"].values.tolist()\n",
    "country_names=grouped_total_confirmed[\"Country/Region\"].values.tolist()\n",
    "grouped_total_recovered"
   ]
  },
  {
   "cell_type": "code",
   "execution_count": 7,
   "metadata": {},
   "outputs": [
    {
     "data": {
      "text/html": [
       "<div>\n",
       "<style scoped>\n",
       "    .dataframe tbody tr th:only-of-type {\n",
       "        vertical-align: middle;\n",
       "    }\n",
       "\n",
       "    .dataframe tbody tr th {\n",
       "        vertical-align: top;\n",
       "    }\n",
       "\n",
       "    .dataframe thead th {\n",
       "        text-align: right;\n",
       "    }\n",
       "</style>\n",
       "<table border=\"1\" class=\"dataframe\">\n",
       "  <thead>\n",
       "    <tr style=\"text-align: right;\">\n",
       "      <th></th>\n",
       "      <th>date</th>\n",
       "      <th>total recovered</th>\n",
       "      <th>daily new recovered</th>\n",
       "    </tr>\n",
       "  </thead>\n",
       "  <tbody>\n",
       "    <tr>\n",
       "      <th>0</th>\n",
       "      <td>1/22/20</td>\n",
       "      <td>28</td>\n",
       "      <td>0.0</td>\n",
       "    </tr>\n",
       "    <tr>\n",
       "      <th>1</th>\n",
       "      <td>1/23/20</td>\n",
       "      <td>30</td>\n",
       "      <td>2.0</td>\n",
       "    </tr>\n",
       "    <tr>\n",
       "      <th>2</th>\n",
       "      <td>1/24/20</td>\n",
       "      <td>36</td>\n",
       "      <td>6.0</td>\n",
       "    </tr>\n",
       "    <tr>\n",
       "      <th>3</th>\n",
       "      <td>1/25/20</td>\n",
       "      <td>39</td>\n",
       "      <td>3.0</td>\n",
       "    </tr>\n",
       "    <tr>\n",
       "      <th>4</th>\n",
       "      <td>1/26/20</td>\n",
       "      <td>52</td>\n",
       "      <td>13.0</td>\n",
       "    </tr>\n",
       "    <tr>\n",
       "      <th>...</th>\n",
       "      <td>...</td>\n",
       "      <td>...</td>\n",
       "      <td>...</td>\n",
       "    </tr>\n",
       "    <tr>\n",
       "      <th>295</th>\n",
       "      <td>11/12/20</td>\n",
       "      <td>34150481</td>\n",
       "      <td>224130.0</td>\n",
       "    </tr>\n",
       "    <tr>\n",
       "      <th>296</th>\n",
       "      <td>11/13/20</td>\n",
       "      <td>34453243</td>\n",
       "      <td>302762.0</td>\n",
       "    </tr>\n",
       "    <tr>\n",
       "      <th>297</th>\n",
       "      <td>11/14/20</td>\n",
       "      <td>34731314</td>\n",
       "      <td>278071.0</td>\n",
       "    </tr>\n",
       "    <tr>\n",
       "      <th>298</th>\n",
       "      <td>11/15/20</td>\n",
       "      <td>34960714</td>\n",
       "      <td>229400.0</td>\n",
       "    </tr>\n",
       "    <tr>\n",
       "      <th>299</th>\n",
       "      <td>11/16/20</td>\n",
       "      <td>35349444</td>\n",
       "      <td>388730.0</td>\n",
       "    </tr>\n",
       "  </tbody>\n",
       "</table>\n",
       "<p>300 rows × 3 columns</p>\n",
       "</div>"
      ],
      "text/plain": [
       "         date  total recovered  daily new recovered\n",
       "0     1/22/20               28                  0.0\n",
       "1     1/23/20               30                  2.0\n",
       "2     1/24/20               36                  6.0\n",
       "3     1/25/20               39                  3.0\n",
       "4     1/26/20               52                 13.0\n",
       "..        ...              ...                  ...\n",
       "295  11/12/20         34150481             224130.0\n",
       "296  11/13/20         34453243             302762.0\n",
       "297  11/14/20         34731314             278071.0\n",
       "298  11/15/20         34960714             229400.0\n",
       "299  11/16/20         35349444             388730.0\n",
       "\n",
       "[300 rows x 3 columns]"
      ]
     },
     "execution_count": 7,
     "metadata": {},
     "output_type": "execute_result"
    }
   ],
   "source": [
    "#global time series recovered data frame\n",
    "global_recovered_timeseries = pd.DataFrame(total_recovered[total_recovered.columns[4:]].sum())\n",
    "global_recovered_timeseries.reset_index(inplace=True)\n",
    "global_recovered_timeseries.columns= ['date', 'total recovered']\n",
    "\n",
    "#global daily recovered = global daily recovered at date (t) -  global daily recovered at date (t-1)\n",
    "global_recovered_timeseries[\"daily new recovered\"] = global_recovered_timeseries['total recovered'] - global_recovered_timeseries['total recovered'].shift()\n",
    "global_recovered_timeseries=global_recovered_timeseries.fillna(0)\n",
    "global_recovered_timeseries"
   ]
  },
  {
   "cell_type": "code",
   "execution_count": 8,
   "metadata": {},
   "outputs": [],
   "source": [
    "# grouping the data by each country to get total confirmed cases\n",
    "grouped_total_death = total_death[[\"Country/Region\",total_death.columns[-1]]].groupby(\"Country/Region\").sum().sort_values(by=total_death.columns[-1], ascending=False)\n",
    "grouped_total_death.reset_index(inplace=True)\n",
    "grouped_total_death.columns=[\"Country/Region\", 'deaths']\n",
    "grouped_total_death.replace(to_replace='US', value='United States', regex=True, inplace=True)\n",
    "\n",
    "#Chart.js can't plot dataframe object, so we need to change some to list\n",
    "barplot_death_values=grouped_total_death[\"deaths\"].values.tolist()\n",
    "global_death_timeseries = total_death[total_death.columns[4:]].sum()"
   ]
  },
  {
   "cell_type": "code",
   "execution_count": 9,
   "metadata": {},
   "outputs": [
    {
     "data": {
      "text/html": [
       "<div>\n",
       "<style scoped>\n",
       "    .dataframe tbody tr th:only-of-type {\n",
       "        vertical-align: middle;\n",
       "    }\n",
       "\n",
       "    .dataframe tbody tr th {\n",
       "        vertical-align: top;\n",
       "    }\n",
       "\n",
       "    .dataframe thead th {\n",
       "        text-align: right;\n",
       "    }\n",
       "</style>\n",
       "<table border=\"1\" class=\"dataframe\">\n",
       "  <thead>\n",
       "    <tr style=\"text-align: right;\">\n",
       "      <th></th>\n",
       "      <th>date</th>\n",
       "      <th>total deaths</th>\n",
       "      <th>daily new deaths</th>\n",
       "    </tr>\n",
       "  </thead>\n",
       "  <tbody>\n",
       "    <tr>\n",
       "      <th>0</th>\n",
       "      <td>1/22/20</td>\n",
       "      <td>17</td>\n",
       "      <td>0.0</td>\n",
       "    </tr>\n",
       "    <tr>\n",
       "      <th>1</th>\n",
       "      <td>1/23/20</td>\n",
       "      <td>18</td>\n",
       "      <td>1.0</td>\n",
       "    </tr>\n",
       "    <tr>\n",
       "      <th>2</th>\n",
       "      <td>1/24/20</td>\n",
       "      <td>26</td>\n",
       "      <td>8.0</td>\n",
       "    </tr>\n",
       "    <tr>\n",
       "      <th>3</th>\n",
       "      <td>1/25/20</td>\n",
       "      <td>42</td>\n",
       "      <td>16.0</td>\n",
       "    </tr>\n",
       "    <tr>\n",
       "      <th>4</th>\n",
       "      <td>1/26/20</td>\n",
       "      <td>56</td>\n",
       "      <td>14.0</td>\n",
       "    </tr>\n",
       "    <tr>\n",
       "      <th>...</th>\n",
       "      <td>...</td>\n",
       "      <td>...</td>\n",
       "      <td>...</td>\n",
       "    </tr>\n",
       "    <tr>\n",
       "      <th>295</th>\n",
       "      <td>11/12/20</td>\n",
       "      <td>1294372</td>\n",
       "      <td>9744.0</td>\n",
       "    </tr>\n",
       "    <tr>\n",
       "      <th>296</th>\n",
       "      <td>11/13/20</td>\n",
       "      <td>1303906</td>\n",
       "      <td>9534.0</td>\n",
       "    </tr>\n",
       "    <tr>\n",
       "      <th>297</th>\n",
       "      <td>11/14/20</td>\n",
       "      <td>1312896</td>\n",
       "      <td>8990.0</td>\n",
       "    </tr>\n",
       "    <tr>\n",
       "      <th>298</th>\n",
       "      <td>11/15/20</td>\n",
       "      <td>1319144</td>\n",
       "      <td>6248.0</td>\n",
       "    </tr>\n",
       "    <tr>\n",
       "      <th>299</th>\n",
       "      <td>11/16/20</td>\n",
       "      <td>1327228</td>\n",
       "      <td>8084.0</td>\n",
       "    </tr>\n",
       "  </tbody>\n",
       "</table>\n",
       "<p>300 rows × 3 columns</p>\n",
       "</div>"
      ],
      "text/plain": [
       "         date  total deaths  daily new deaths\n",
       "0     1/22/20            17               0.0\n",
       "1     1/23/20            18               1.0\n",
       "2     1/24/20            26               8.0\n",
       "3     1/25/20            42              16.0\n",
       "4     1/26/20            56              14.0\n",
       "..        ...           ...               ...\n",
       "295  11/12/20       1294372            9744.0\n",
       "296  11/13/20       1303906            9534.0\n",
       "297  11/14/20       1312896            8990.0\n",
       "298  11/15/20       1319144            6248.0\n",
       "299  11/16/20       1327228            8084.0\n",
       "\n",
       "[300 rows x 3 columns]"
      ]
     },
     "execution_count": 9,
     "metadata": {},
     "output_type": "execute_result"
    }
   ],
   "source": [
    "#global time series death data frame\n",
    "global_death_timeseries = pd.DataFrame(total_death[total_death.columns[4:]].sum())\n",
    "global_death_timeseries.reset_index(inplace=True)\n",
    "global_death_timeseries.columns= ['date', 'total deaths']\n",
    "\n",
    "#global daily deaths = global daily deaths at date (t) -  global daily deaths at date (t-1)\n",
    "global_death_timeseries[\"daily new deaths\"] = global_death_timeseries['total deaths'] - global_death_timeseries['total deaths'].shift()\n",
    "global_death_timeseries=global_death_timeseries.fillna(0)\n",
    "global_death_timeseries\n"
   ]
  },
  {
   "cell_type": "code",
   "execution_count": 10,
   "metadata": {},
   "outputs": [
    {
     "data": {
      "text/html": [
       "<div>\n",
       "<style scoped>\n",
       "    .dataframe tbody tr th:only-of-type {\n",
       "        vertical-align: middle;\n",
       "    }\n",
       "\n",
       "    .dataframe tbody tr th {\n",
       "        vertical-align: top;\n",
       "    }\n",
       "\n",
       "    .dataframe thead th {\n",
       "        text-align: right;\n",
       "    }\n",
       "</style>\n",
       "<table border=\"1\" class=\"dataframe\">\n",
       "  <thead>\n",
       "    <tr style=\"text-align: right;\">\n",
       "      <th></th>\n",
       "      <th>date</th>\n",
       "      <th>total confirmed</th>\n",
       "      <th>daily new cases</th>\n",
       "      <th>total recovered</th>\n",
       "      <th>daily new recovered</th>\n",
       "      <th>total deaths</th>\n",
       "      <th>daily new deaths</th>\n",
       "    </tr>\n",
       "  </thead>\n",
       "  <tbody>\n",
       "    <tr>\n",
       "      <th>0</th>\n",
       "      <td>1/22/20</td>\n",
       "      <td>555</td>\n",
       "      <td>0.0</td>\n",
       "      <td>28</td>\n",
       "      <td>0.0</td>\n",
       "      <td>17</td>\n",
       "      <td>0.0</td>\n",
       "    </tr>\n",
       "    <tr>\n",
       "      <th>1</th>\n",
       "      <td>1/23/20</td>\n",
       "      <td>654</td>\n",
       "      <td>99.0</td>\n",
       "      <td>30</td>\n",
       "      <td>2.0</td>\n",
       "      <td>18</td>\n",
       "      <td>1.0</td>\n",
       "    </tr>\n",
       "    <tr>\n",
       "      <th>2</th>\n",
       "      <td>1/24/20</td>\n",
       "      <td>941</td>\n",
       "      <td>287.0</td>\n",
       "      <td>36</td>\n",
       "      <td>6.0</td>\n",
       "      <td>26</td>\n",
       "      <td>8.0</td>\n",
       "    </tr>\n",
       "    <tr>\n",
       "      <th>3</th>\n",
       "      <td>1/25/20</td>\n",
       "      <td>1434</td>\n",
       "      <td>493.0</td>\n",
       "      <td>39</td>\n",
       "      <td>3.0</td>\n",
       "      <td>42</td>\n",
       "      <td>16.0</td>\n",
       "    </tr>\n",
       "    <tr>\n",
       "      <th>4</th>\n",
       "      <td>1/26/20</td>\n",
       "      <td>2118</td>\n",
       "      <td>684.0</td>\n",
       "      <td>52</td>\n",
       "      <td>13.0</td>\n",
       "      <td>56</td>\n",
       "      <td>14.0</td>\n",
       "    </tr>\n",
       "    <tr>\n",
       "      <th>...</th>\n",
       "      <td>...</td>\n",
       "      <td>...</td>\n",
       "      <td>...</td>\n",
       "      <td>...</td>\n",
       "      <td>...</td>\n",
       "      <td>...</td>\n",
       "      <td>...</td>\n",
       "    </tr>\n",
       "    <tr>\n",
       "      <th>295</th>\n",
       "      <td>11/12/20</td>\n",
       "      <td>52773432</td>\n",
       "      <td>646835.0</td>\n",
       "      <td>34150481</td>\n",
       "      <td>224130.0</td>\n",
       "      <td>1294372</td>\n",
       "      <td>9744.0</td>\n",
       "    </tr>\n",
       "    <tr>\n",
       "      <th>296</th>\n",
       "      <td>11/13/20</td>\n",
       "      <td>53421872</td>\n",
       "      <td>648440.0</td>\n",
       "      <td>34453243</td>\n",
       "      <td>302762.0</td>\n",
       "      <td>1303906</td>\n",
       "      <td>9534.0</td>\n",
       "    </tr>\n",
       "    <tr>\n",
       "      <th>297</th>\n",
       "      <td>11/14/20</td>\n",
       "      <td>54015689</td>\n",
       "      <td>593817.0</td>\n",
       "      <td>34731314</td>\n",
       "      <td>278071.0</td>\n",
       "      <td>1312896</td>\n",
       "      <td>8990.0</td>\n",
       "    </tr>\n",
       "    <tr>\n",
       "      <th>298</th>\n",
       "      <td>11/15/20</td>\n",
       "      <td>54485945</td>\n",
       "      <td>470256.0</td>\n",
       "      <td>34960714</td>\n",
       "      <td>229400.0</td>\n",
       "      <td>1319144</td>\n",
       "      <td>6248.0</td>\n",
       "    </tr>\n",
       "    <tr>\n",
       "      <th>299</th>\n",
       "      <td>11/16/20</td>\n",
       "      <td>55021938</td>\n",
       "      <td>535993.0</td>\n",
       "      <td>35349444</td>\n",
       "      <td>388730.0</td>\n",
       "      <td>1327228</td>\n",
       "      <td>8084.0</td>\n",
       "    </tr>\n",
       "  </tbody>\n",
       "</table>\n",
       "<p>300 rows × 7 columns</p>\n",
       "</div>"
      ],
      "text/plain": [
       "         date  total confirmed  daily new cases  total recovered  \\\n",
       "0     1/22/20              555              0.0               28   \n",
       "1     1/23/20              654             99.0               30   \n",
       "2     1/24/20              941            287.0               36   \n",
       "3     1/25/20             1434            493.0               39   \n",
       "4     1/26/20             2118            684.0               52   \n",
       "..        ...              ...              ...              ...   \n",
       "295  11/12/20         52773432         646835.0         34150481   \n",
       "296  11/13/20         53421872         648440.0         34453243   \n",
       "297  11/14/20         54015689         593817.0         34731314   \n",
       "298  11/15/20         54485945         470256.0         34960714   \n",
       "299  11/16/20         55021938         535993.0         35349444   \n",
       "\n",
       "     daily new recovered  total deaths  daily new deaths  \n",
       "0                    0.0            17               0.0  \n",
       "1                    2.0            18               1.0  \n",
       "2                    6.0            26               8.0  \n",
       "3                    3.0            42              16.0  \n",
       "4                   13.0            56              14.0  \n",
       "..                   ...           ...               ...  \n",
       "295             224130.0       1294372            9744.0  \n",
       "296             302762.0       1303906            9534.0  \n",
       "297             278071.0       1312896            8990.0  \n",
       "298             229400.0       1319144            6248.0  \n",
       "299             388730.0       1327228            8084.0  \n",
       "\n",
       "[300 rows x 7 columns]"
      ]
     },
     "execution_count": 10,
     "metadata": {},
     "output_type": "execute_result"
    }
   ],
   "source": [
    "#merge all the data to get full time series dataframe\n",
    "timeseries_final=pd.merge(global_confirmed_timeseries,global_recovered_timeseries,how='inner',on='date')\n",
    "timeseries_final = pd.merge(timeseries_final,global_death_timeseries,how='inner',on='date')\n",
    "timeseries_final"
   ]
  },
  {
   "cell_type": "code",
   "execution_count": 11,
   "metadata": {},
   "outputs": [
    {
     "data": {
      "text/plain": [
       "55021938"
      ]
     },
     "execution_count": 11,
     "metadata": {},
     "output_type": "execute_result"
    }
   ],
   "source": [
    "# total confirmed cases globally\n",
    "total_confirmed[total_confirmed.columns[-1]].sum()"
   ]
  },
  {
   "cell_type": "code",
   "execution_count": 12,
   "metadata": {},
   "outputs": [
    {
     "data": {
      "text/plain": [
       "35349444"
      ]
     },
     "execution_count": 12,
     "metadata": {},
     "output_type": "execute_result"
    }
   ],
   "source": [
    "# total recovered cases globally\n",
    "total_recovered[total_recovered.columns[-1]].sum()\n"
   ]
  },
  {
   "cell_type": "code",
   "execution_count": 13,
   "metadata": {},
   "outputs": [
    {
     "data": {
      "text/plain": [
       "1327228"
      ]
     },
     "execution_count": 13,
     "metadata": {},
     "output_type": "execute_result"
    }
   ],
   "source": [
    "# total recovered cases globally\n",
    "total_death[total_death.columns[-1]].sum()"
   ]
  },
  {
   "cell_type": "code",
   "execution_count": 14,
   "metadata": {},
   "outputs": [
    {
     "data": {
      "text/html": [
       "<div>\n",
       "<style scoped>\n",
       "    .dataframe tbody tr th:only-of-type {\n",
       "        vertical-align: middle;\n",
       "    }\n",
       "\n",
       "    .dataframe tbody tr th {\n",
       "        vertical-align: top;\n",
       "    }\n",
       "\n",
       "    .dataframe thead th {\n",
       "        text-align: right;\n",
       "    }\n",
       "</style>\n",
       "<table border=\"1\" class=\"dataframe\">\n",
       "  <thead>\n",
       "    <tr style=\"text-align: right;\">\n",
       "      <th></th>\n",
       "      <th>country</th>\n",
       "      <th>population</th>\n",
       "    </tr>\n",
       "  </thead>\n",
       "  <tbody>\n",
       "    <tr>\n",
       "      <th>0</th>\n",
       "      <td>Afghanistan</td>\n",
       "      <td>37172386</td>\n",
       "    </tr>\n",
       "    <tr>\n",
       "      <th>1</th>\n",
       "      <td>Albania</td>\n",
       "      <td>2866376</td>\n",
       "    </tr>\n",
       "    <tr>\n",
       "      <th>2</th>\n",
       "      <td>Algeria</td>\n",
       "      <td>42228429</td>\n",
       "    </tr>\n",
       "    <tr>\n",
       "      <th>3</th>\n",
       "      <td>American Samoa</td>\n",
       "      <td>55465</td>\n",
       "    </tr>\n",
       "    <tr>\n",
       "      <th>4</th>\n",
       "      <td>Andorra</td>\n",
       "      <td>77006</td>\n",
       "    </tr>\n",
       "    <tr>\n",
       "      <th>...</th>\n",
       "      <td>...</td>\n",
       "      <td>...</td>\n",
       "    </tr>\n",
       "    <tr>\n",
       "      <th>239</th>\n",
       "      <td>Wallis and Futuna</td>\n",
       "      <td>15289</td>\n",
       "    </tr>\n",
       "    <tr>\n",
       "      <th>240</th>\n",
       "      <td>Western Sahara</td>\n",
       "      <td>652271</td>\n",
       "    </tr>\n",
       "    <tr>\n",
       "      <th>241</th>\n",
       "      <td>Yemen</td>\n",
       "      <td>28498687</td>\n",
       "    </tr>\n",
       "    <tr>\n",
       "      <th>242</th>\n",
       "      <td>Zambia</td>\n",
       "      <td>17351822</td>\n",
       "    </tr>\n",
       "    <tr>\n",
       "      <th>243</th>\n",
       "      <td>Zimbabwe</td>\n",
       "      <td>14439018</td>\n",
       "    </tr>\n",
       "  </tbody>\n",
       "</table>\n",
       "<p>244 rows × 2 columns</p>\n",
       "</div>"
      ],
      "text/plain": [
       "               country  population\n",
       "0          Afghanistan    37172386\n",
       "1              Albania     2866376\n",
       "2              Algeria    42228429\n",
       "3       American Samoa       55465\n",
       "4              Andorra       77006\n",
       "..                 ...         ...\n",
       "239  Wallis and Futuna       15289\n",
       "240     Western Sahara      652271\n",
       "241              Yemen    28498687\n",
       "242             Zambia    17351822\n",
       "243           Zimbabwe    14439018\n",
       "\n",
       "[244 rows x 2 columns]"
      ]
     },
     "execution_count": 14,
     "metadata": {},
     "output_type": "execute_result"
    }
   ],
   "source": [
    "# I need data that contain population for each country to calculate confirmed cases/population\n",
    "# I download it from : https://github.com/samayo/country-json/blob/master/src/country-by-population.json\n",
    "df_pop = pd.read_json('https://raw.githubusercontent.com/samayo/country-json/master/src/country-by-population.json')\n",
    "df_pop"
   ]
  },
  {
   "cell_type": "code",
   "execution_count": 16,
   "metadata": {},
   "outputs": [],
   "source": [
    "#some country name has different  format, so I need to change it to match my first dataset\n",
    "df_pop.columns=['Country/Region','population']\n",
    "df_pop=df_pop.replace(to_replace='Russian Federation', value='Russia')\n"
   ]
  },
  {
   "cell_type": "code",
   "execution_count": 17,
   "metadata": {},
   "outputs": [
    {
     "data": {
      "text/html": [
       "<div>\n",
       "<style scoped>\n",
       "    .dataframe tbody tr th:only-of-type {\n",
       "        vertical-align: middle;\n",
       "    }\n",
       "\n",
       "    .dataframe tbody tr th {\n",
       "        vertical-align: top;\n",
       "    }\n",
       "\n",
       "    .dataframe thead th {\n",
       "        text-align: right;\n",
       "    }\n",
       "</style>\n",
       "<table border=\"1\" class=\"dataframe\">\n",
       "  <thead>\n",
       "    <tr style=\"text-align: right;\">\n",
       "      <th></th>\n",
       "      <th>Country/Region</th>\n",
       "      <th>code3</th>\n",
       "      <th>id</th>\n",
       "    </tr>\n",
       "  </thead>\n",
       "  <tbody>\n",
       "    <tr>\n",
       "      <th>0</th>\n",
       "      <td>Afghanistan</td>\n",
       "      <td>AFG</td>\n",
       "      <td>4</td>\n",
       "    </tr>\n",
       "    <tr>\n",
       "      <th>1</th>\n",
       "      <td>Åland Islands</td>\n",
       "      <td>ALA</td>\n",
       "      <td>248</td>\n",
       "    </tr>\n",
       "    <tr>\n",
       "      <th>2</th>\n",
       "      <td>Albania</td>\n",
       "      <td>ALB</td>\n",
       "      <td>8</td>\n",
       "    </tr>\n",
       "    <tr>\n",
       "      <th>3</th>\n",
       "      <td>Algeria</td>\n",
       "      <td>DZA</td>\n",
       "      <td>12</td>\n",
       "    </tr>\n",
       "    <tr>\n",
       "      <th>4</th>\n",
       "      <td>American Samoa</td>\n",
       "      <td>ASM</td>\n",
       "      <td>16</td>\n",
       "    </tr>\n",
       "    <tr>\n",
       "      <th>...</th>\n",
       "      <td>...</td>\n",
       "      <td>...</td>\n",
       "      <td>...</td>\n",
       "    </tr>\n",
       "    <tr>\n",
       "      <th>244</th>\n",
       "      <td>Wallis and Futuna</td>\n",
       "      <td>WLF</td>\n",
       "      <td>876</td>\n",
       "    </tr>\n",
       "    <tr>\n",
       "      <th>245</th>\n",
       "      <td>Western Sahara*</td>\n",
       "      <td>ESH</td>\n",
       "      <td>732</td>\n",
       "    </tr>\n",
       "    <tr>\n",
       "      <th>246</th>\n",
       "      <td>Yemen</td>\n",
       "      <td>YEM</td>\n",
       "      <td>887</td>\n",
       "    </tr>\n",
       "    <tr>\n",
       "      <th>247</th>\n",
       "      <td>Zambia</td>\n",
       "      <td>ZMB</td>\n",
       "      <td>894</td>\n",
       "    </tr>\n",
       "    <tr>\n",
       "      <th>248</th>\n",
       "      <td>Zimbabwe</td>\n",
       "      <td>ZWE</td>\n",
       "      <td>716</td>\n",
       "    </tr>\n",
       "  </tbody>\n",
       "</table>\n",
       "<p>249 rows × 3 columns</p>\n",
       "</div>"
      ],
      "text/plain": [
       "        Country/Region code3   id\n",
       "0          Afghanistan   AFG    4\n",
       "1        Åland Islands   ALA  248\n",
       "2              Albania   ALB    8\n",
       "3              Algeria   DZA   12\n",
       "4       American Samoa   ASM   16\n",
       "..                 ...   ...  ...\n",
       "244  Wallis and Futuna   WLF  876\n",
       "245    Western Sahara*   ESH  732\n",
       "246              Yemen   YEM  887\n",
       "247             Zambia   ZMB  894\n",
       "248           Zimbabwe   ZWE  716\n",
       "\n",
       "[249 rows x 3 columns]"
      ]
     },
     "execution_count": 17,
     "metadata": {},
     "output_type": "execute_result"
    }
   ],
   "source": [
    "# I also need country code for geographical analysis, Altair need numerical code and Plotly need alfabetical code\n",
    "#country code and id for later geographical analysis\n",
    "url = \"https://gist.githubusercontent.com/komasaru/9303029/raw/9ea6e5900715afec6ce4ff79a0c4102b09180ddd/iso_3166_1.csv\"\n",
    "country_code = pd.read_csv(url)\n",
    "country_code = country_code[[\"English short name\",\"Alpha-3 code\",\"Numeric\"]]\n",
    "country_code.columns=[\"Country/Region\", \"code3\", \"id\"]\n",
    "\n",
    "#Change the data for later merging\n",
    "#If not match the value will be deleted, so we need to make sure each country name from each table has same value\n",
    "country_code=country_code.replace(to_replace='Russian Federation (the)', value='Russia')\n",
    "country_code=country_code.replace(to_replace='United Kingdom (the)', value='United Kingdom')\n",
    "country_code=country_code.replace(to_replace='United States (the)', value='United States')\n",
    "country_code=country_code.replace(to_replace='Viet Nam', value='Vietnam')\n",
    "country_code"
   ]
  },
  {
   "cell_type": "code",
   "execution_count": 18,
   "metadata": {},
   "outputs": [
    {
     "data": {
      "text/html": [
       "<div>\n",
       "<style scoped>\n",
       "    .dataframe tbody tr th:only-of-type {\n",
       "        vertical-align: middle;\n",
       "    }\n",
       "\n",
       "    .dataframe tbody tr th {\n",
       "        vertical-align: top;\n",
       "    }\n",
       "\n",
       "    .dataframe thead th {\n",
       "        text-align: right;\n",
       "    }\n",
       "</style>\n",
       "<table border=\"1\" class=\"dataframe\">\n",
       "  <thead>\n",
       "    <tr style=\"text-align: right;\">\n",
       "      <th></th>\n",
       "      <th>Country/Region</th>\n",
       "      <th>code3</th>\n",
       "      <th>id</th>\n",
       "      <th>confirmed</th>\n",
       "      <th>recovered</th>\n",
       "      <th>deaths</th>\n",
       "      <th>population</th>\n",
       "    </tr>\n",
       "  </thead>\n",
       "  <tbody>\n",
       "    <tr>\n",
       "      <th>0</th>\n",
       "      <td>United States</td>\n",
       "      <td>USA</td>\n",
       "      <td>840</td>\n",
       "      <td>11202980</td>\n",
       "      <td>4244811</td>\n",
       "      <td>247202</td>\n",
       "      <td>326687501</td>\n",
       "    </tr>\n",
       "    <tr>\n",
       "      <th>1</th>\n",
       "      <td>India</td>\n",
       "      <td>IND</td>\n",
       "      <td>356</td>\n",
       "      <td>8873541</td>\n",
       "      <td>8289073</td>\n",
       "      <td>130503</td>\n",
       "      <td>1352617328</td>\n",
       "    </tr>\n",
       "    <tr>\n",
       "      <th>2</th>\n",
       "      <td>Brazil</td>\n",
       "      <td>BRA</td>\n",
       "      <td>76</td>\n",
       "      <td>5876464</td>\n",
       "      <td>5335498</td>\n",
       "      <td>166014</td>\n",
       "      <td>209469333</td>\n",
       "    </tr>\n",
       "    <tr>\n",
       "      <th>3</th>\n",
       "      <td>France</td>\n",
       "      <td>FRA</td>\n",
       "      <td>250</td>\n",
       "      <td>2041293</td>\n",
       "      <td>146396</td>\n",
       "      <td>45122</td>\n",
       "      <td>66977107</td>\n",
       "    </tr>\n",
       "    <tr>\n",
       "      <th>4</th>\n",
       "      <td>Russia</td>\n",
       "      <td>RUS</td>\n",
       "      <td>643</td>\n",
       "      <td>1932711</td>\n",
       "      <td>1443393</td>\n",
       "      <td>33184</td>\n",
       "      <td>144478050</td>\n",
       "    </tr>\n",
       "    <tr>\n",
       "      <th>...</th>\n",
       "      <td>...</td>\n",
       "      <td>...</td>\n",
       "      <td>...</td>\n",
       "      <td>...</td>\n",
       "      <td>...</td>\n",
       "      <td>...</td>\n",
       "      <td>...</td>\n",
       "    </tr>\n",
       "    <tr>\n",
       "      <th>146</th>\n",
       "      <td>Saint Vincent and the Grenadines</td>\n",
       "      <td>VCT</td>\n",
       "      <td>670</td>\n",
       "      <td>78</td>\n",
       "      <td>77</td>\n",
       "      <td>0</td>\n",
       "      <td>110210</td>\n",
       "    </tr>\n",
       "    <tr>\n",
       "      <th>147</th>\n",
       "      <td>Dominica</td>\n",
       "      <td>DMA</td>\n",
       "      <td>212</td>\n",
       "      <td>68</td>\n",
       "      <td>41</td>\n",
       "      <td>0</td>\n",
       "      <td>71625</td>\n",
       "    </tr>\n",
       "    <tr>\n",
       "      <th>148</th>\n",
       "      <td>Grenada</td>\n",
       "      <td>GRD</td>\n",
       "      <td>308</td>\n",
       "      <td>33</td>\n",
       "      <td>29</td>\n",
       "      <td>0</td>\n",
       "      <td>111454</td>\n",
       "    </tr>\n",
       "    <tr>\n",
       "      <th>149</th>\n",
       "      <td>Saint Kitts and Nevis</td>\n",
       "      <td>KNA</td>\n",
       "      <td>659</td>\n",
       "      <td>19</td>\n",
       "      <td>19</td>\n",
       "      <td>0</td>\n",
       "      <td>52441</td>\n",
       "    </tr>\n",
       "    <tr>\n",
       "      <th>150</th>\n",
       "      <td>Vanuatu</td>\n",
       "      <td>VUT</td>\n",
       "      <td>548</td>\n",
       "      <td>1</td>\n",
       "      <td>0</td>\n",
       "      <td>0</td>\n",
       "      <td>292680</td>\n",
       "    </tr>\n",
       "  </tbody>\n",
       "</table>\n",
       "<p>151 rows × 7 columns</p>\n",
       "</div>"
      ],
      "text/plain": [
       "                       Country/Region code3   id  confirmed  recovered  \\\n",
       "0                       United States   USA  840   11202980    4244811   \n",
       "1                               India   IND  356    8873541    8289073   \n",
       "2                              Brazil   BRA   76    5876464    5335498   \n",
       "3                              France   FRA  250    2041293     146396   \n",
       "4                              Russia   RUS  643    1932711    1443393   \n",
       "..                                ...   ...  ...        ...        ...   \n",
       "146  Saint Vincent and the Grenadines   VCT  670         78         77   \n",
       "147                          Dominica   DMA  212         68         41   \n",
       "148                           Grenada   GRD  308         33         29   \n",
       "149             Saint Kitts and Nevis   KNA  659         19         19   \n",
       "150                           Vanuatu   VUT  548          1          0   \n",
       "\n",
       "     deaths  population  \n",
       "0    247202   326687501  \n",
       "1    130503  1352617328  \n",
       "2    166014   209469333  \n",
       "3     45122    66977107  \n",
       "4     33184   144478050  \n",
       "..      ...         ...  \n",
       "146       0      110210  \n",
       "147       0       71625  \n",
       "148       0      111454  \n",
       "149       0       52441  \n",
       "150       0      292680  \n",
       "\n",
       "[151 rows x 7 columns]"
      ]
     },
     "execution_count": 18,
     "metadata": {},
     "output_type": "execute_result"
    }
   ],
   "source": [
    "# merge them all\n",
    "final_df=pd.merge(grouped_total_confirmed,grouped_total_recovered,how='inner',on='Country/Region')\n",
    "final_df=pd.merge(final_df,grouped_total_death,how='inner',on='Country/Region')\n",
    "final_df=pd.merge(final_df,df_pop,how='inner',on='Country/Region')\n",
    "final_df=pd.merge(country_code,final_df,how='inner',on='Country/Region')\n",
    "final_df = final_df.sort_values(by=\"confirmed\", ascending=False)\n",
    "final_df.reset_index(inplace=True, drop=True)\n",
    "final_df.to_json(\"new_map.json\")\n",
    "final_df"
   ]
  },
  {
   "cell_type": "code",
   "execution_count": 19,
   "metadata": {},
   "outputs": [
    {
     "data": {
      "text/html": [
       "<div>\n",
       "<style scoped>\n",
       "    .dataframe tbody tr th:only-of-type {\n",
       "        vertical-align: middle;\n",
       "    }\n",
       "\n",
       "    .dataframe tbody tr th {\n",
       "        vertical-align: top;\n",
       "    }\n",
       "\n",
       "    .dataframe thead th {\n",
       "        text-align: right;\n",
       "    }\n",
       "</style>\n",
       "<table border=\"1\" class=\"dataframe\">\n",
       "  <thead>\n",
       "    <tr style=\"text-align: right;\">\n",
       "      <th></th>\n",
       "      <th>Country/Region</th>\n",
       "      <th>code3</th>\n",
       "      <th>id</th>\n",
       "      <th>confirmed</th>\n",
       "      <th>recovered</th>\n",
       "      <th>deaths</th>\n",
       "      <th>population</th>\n",
       "      <th>cases/million</th>\n",
       "      <th>death rate(%)</th>\n",
       "    </tr>\n",
       "  </thead>\n",
       "  <tbody>\n",
       "    <tr>\n",
       "      <th>0</th>\n",
       "      <td>United States</td>\n",
       "      <td>USA</td>\n",
       "      <td>840</td>\n",
       "      <td>11202980</td>\n",
       "      <td>4244811</td>\n",
       "      <td>247202</td>\n",
       "      <td>326687501</td>\n",
       "      <td>34292.65</td>\n",
       "      <td>2.21</td>\n",
       "    </tr>\n",
       "    <tr>\n",
       "      <th>1</th>\n",
       "      <td>India</td>\n",
       "      <td>IND</td>\n",
       "      <td>356</td>\n",
       "      <td>8873541</td>\n",
       "      <td>8289073</td>\n",
       "      <td>130503</td>\n",
       "      <td>1352617328</td>\n",
       "      <td>6560.27</td>\n",
       "      <td>1.47</td>\n",
       "    </tr>\n",
       "    <tr>\n",
       "      <th>2</th>\n",
       "      <td>Brazil</td>\n",
       "      <td>BRA</td>\n",
       "      <td>76</td>\n",
       "      <td>5876464</td>\n",
       "      <td>5335498</td>\n",
       "      <td>166014</td>\n",
       "      <td>209469333</td>\n",
       "      <td>28054.05</td>\n",
       "      <td>2.83</td>\n",
       "    </tr>\n",
       "    <tr>\n",
       "      <th>3</th>\n",
       "      <td>France</td>\n",
       "      <td>FRA</td>\n",
       "      <td>250</td>\n",
       "      <td>2041293</td>\n",
       "      <td>146396</td>\n",
       "      <td>45122</td>\n",
       "      <td>66977107</td>\n",
       "      <td>30477.47</td>\n",
       "      <td>2.21</td>\n",
       "    </tr>\n",
       "    <tr>\n",
       "      <th>4</th>\n",
       "      <td>Russia</td>\n",
       "      <td>RUS</td>\n",
       "      <td>643</td>\n",
       "      <td>1932711</td>\n",
       "      <td>1443393</td>\n",
       "      <td>33184</td>\n",
       "      <td>144478050</td>\n",
       "      <td>13377.19</td>\n",
       "      <td>1.72</td>\n",
       "    </tr>\n",
       "    <tr>\n",
       "      <th>...</th>\n",
       "      <td>...</td>\n",
       "      <td>...</td>\n",
       "      <td>...</td>\n",
       "      <td>...</td>\n",
       "      <td>...</td>\n",
       "      <td>...</td>\n",
       "      <td>...</td>\n",
       "      <td>...</td>\n",
       "      <td>...</td>\n",
       "    </tr>\n",
       "    <tr>\n",
       "      <th>146</th>\n",
       "      <td>Saint Vincent and the Grenadines</td>\n",
       "      <td>VCT</td>\n",
       "      <td>670</td>\n",
       "      <td>78</td>\n",
       "      <td>77</td>\n",
       "      <td>0</td>\n",
       "      <td>110210</td>\n",
       "      <td>707.74</td>\n",
       "      <td>0.00</td>\n",
       "    </tr>\n",
       "    <tr>\n",
       "      <th>147</th>\n",
       "      <td>Dominica</td>\n",
       "      <td>DMA</td>\n",
       "      <td>212</td>\n",
       "      <td>68</td>\n",
       "      <td>41</td>\n",
       "      <td>0</td>\n",
       "      <td>71625</td>\n",
       "      <td>949.39</td>\n",
       "      <td>0.00</td>\n",
       "    </tr>\n",
       "    <tr>\n",
       "      <th>148</th>\n",
       "      <td>Grenada</td>\n",
       "      <td>GRD</td>\n",
       "      <td>308</td>\n",
       "      <td>33</td>\n",
       "      <td>29</td>\n",
       "      <td>0</td>\n",
       "      <td>111454</td>\n",
       "      <td>296.09</td>\n",
       "      <td>0.00</td>\n",
       "    </tr>\n",
       "    <tr>\n",
       "      <th>149</th>\n",
       "      <td>Saint Kitts and Nevis</td>\n",
       "      <td>KNA</td>\n",
       "      <td>659</td>\n",
       "      <td>19</td>\n",
       "      <td>19</td>\n",
       "      <td>0</td>\n",
       "      <td>52441</td>\n",
       "      <td>362.31</td>\n",
       "      <td>0.00</td>\n",
       "    </tr>\n",
       "    <tr>\n",
       "      <th>150</th>\n",
       "      <td>Vanuatu</td>\n",
       "      <td>VUT</td>\n",
       "      <td>548</td>\n",
       "      <td>1</td>\n",
       "      <td>0</td>\n",
       "      <td>0</td>\n",
       "      <td>292680</td>\n",
       "      <td>3.42</td>\n",
       "      <td>0.00</td>\n",
       "    </tr>\n",
       "  </tbody>\n",
       "</table>\n",
       "<p>151 rows × 9 columns</p>\n",
       "</div>"
      ],
      "text/plain": [
       "                       Country/Region code3   id  confirmed  recovered  \\\n",
       "0                       United States   USA  840   11202980    4244811   \n",
       "1                               India   IND  356    8873541    8289073   \n",
       "2                              Brazil   BRA   76    5876464    5335498   \n",
       "3                              France   FRA  250    2041293     146396   \n",
       "4                              Russia   RUS  643    1932711    1443393   \n",
       "..                                ...   ...  ...        ...        ...   \n",
       "146  Saint Vincent and the Grenadines   VCT  670         78         77   \n",
       "147                          Dominica   DMA  212         68         41   \n",
       "148                           Grenada   GRD  308         33         29   \n",
       "149             Saint Kitts and Nevis   KNA  659         19         19   \n",
       "150                           Vanuatu   VUT  548          1          0   \n",
       "\n",
       "     deaths  population  cases/million  death rate(%)  \n",
       "0    247202   326687501       34292.65           2.21  \n",
       "1    130503  1352617328        6560.27           1.47  \n",
       "2    166014   209469333       28054.05           2.83  \n",
       "3     45122    66977107       30477.47           2.21  \n",
       "4     33184   144478050       13377.19           1.72  \n",
       "..      ...         ...            ...            ...  \n",
       "146       0      110210         707.74           0.00  \n",
       "147       0       71625         949.39           0.00  \n",
       "148       0      111454         296.09           0.00  \n",
       "149       0       52441         362.31           0.00  \n",
       "150       0      292680           3.42           0.00  \n",
       "\n",
       "[151 rows x 9 columns]"
      ]
     },
     "execution_count": 19,
     "metadata": {},
     "output_type": "execute_result"
    }
   ],
   "source": [
    "# calculate cases/million and total death rate\n",
    "final_df['cases/million'] = ((final_df['confirmed']/final_df['population'])*1000000).round(2)\n",
    "final_df['death rate(%)'] = ((final_df['deaths']/final_df['confirmed'])*100).round(2)\n",
    "final_df"
   ]
  },
  {
   "cell_type": "code",
   "execution_count": 64,
   "metadata": {},
   "outputs": [
    {
     "data": {
      "text/plain": [
       "470648"
      ]
     },
     "execution_count": 64,
     "metadata": {},
     "output_type": "execute_result"
    }
   ],
   "source": [
    "country = \"Indonesia\"\n",
    "total_all_confirmed = total_confirmed.groupby(\"Country/Region\").sum()\n",
    "total_all_confirmed.reset_index(inplace=True)\n",
    "mask = (total_all_confirmed['Country/Region'] == country) \n",
    "total_all_confirmed=total_all_confirmed.loc[mask]\n",
    "total_all_confirmed = total_all_confirmed[total_all_confirmed.columns[-1]].sum()\n",
    "total_all_confirmed"
   ]
  },
  {
   "cell_type": "code",
   "execution_count": 21,
   "metadata": {},
   "outputs": [],
   "source": [
    "# function to filter timeseries analysis by country\n",
    "# I use \"case\" variable just for column name: e.g, case = confirmed, case = deaths\n",
    "def get_by_country(df, country, case):\n",
    "    mask = (df['Country/Region'] == country) \n",
    "    df = df.loc[mask]\n",
    "    df_country = df.groupby(\"Country/Region\").sum()\n",
    "    df_country = pd.DataFrame(df[df.columns[4:]].sum())\n",
    "    df_country.reset_index(inplace=True)\n",
    "    df_country.columns=['date', f\"value_{case}\"]\n",
    "    df_country[f\"daily_new_{case}\"] = df_country[f\"value_{case}\"] - df_country[f\"value_{case}\"].shift()\n",
    "    df_country=df_country.fillna(0)\n",
    "    return df_country\n",
    "\n",
    "\n",
    "#use function above to get merged dataframe\n",
    "def get_by_country_merged(total_confirmed, total_death, total_recovered, country):\n",
    "    #apply to each timeseries\n",
    "    country_confirmed_tseries = get_by_country(total_confirmed, country, \"confirmed\" )\n",
    "    country_death_tseries = get_by_country(total_death, country, \"death\" )\n",
    "    country_recovered_tseries = get_by_country(total_recovered, country, \"recovered\" )\n",
    "    \n",
    "    #merge them all\n",
    "    country_timeseries_final=pd.merge(country_confirmed_tseries,country_death_tseries,how='inner',on='date')\n",
    "    country_timeseries_final = pd.merge(country_timeseries_final,country_recovered_tseries,how='inner',on='date')\n",
    "    country_timeseries_final\n",
    "    return country_timeseries_final"
   ]
  },
  {
   "cell_type": "code",
   "execution_count": 22,
   "metadata": {},
   "outputs": [
    {
     "data": {
      "text/html": [
       "<div>\n",
       "<style scoped>\n",
       "    .dataframe tbody tr th:only-of-type {\n",
       "        vertical-align: middle;\n",
       "    }\n",
       "\n",
       "    .dataframe tbody tr th {\n",
       "        vertical-align: top;\n",
       "    }\n",
       "\n",
       "    .dataframe thead th {\n",
       "        text-align: right;\n",
       "    }\n",
       "</style>\n",
       "<table border=\"1\" class=\"dataframe\">\n",
       "  <thead>\n",
       "    <tr style=\"text-align: right;\">\n",
       "      <th></th>\n",
       "      <th>date</th>\n",
       "      <th>value_confirmed</th>\n",
       "      <th>daily_new_confirmed</th>\n",
       "    </tr>\n",
       "  </thead>\n",
       "  <tbody>\n",
       "    <tr>\n",
       "      <th>0</th>\n",
       "      <td>1/22/20</td>\n",
       "      <td>548</td>\n",
       "      <td>0.0</td>\n",
       "    </tr>\n",
       "    <tr>\n",
       "      <th>1</th>\n",
       "      <td>1/23/20</td>\n",
       "      <td>643</td>\n",
       "      <td>95.0</td>\n",
       "    </tr>\n",
       "    <tr>\n",
       "      <th>2</th>\n",
       "      <td>1/24/20</td>\n",
       "      <td>920</td>\n",
       "      <td>277.0</td>\n",
       "    </tr>\n",
       "    <tr>\n",
       "      <th>3</th>\n",
       "      <td>1/25/20</td>\n",
       "      <td>1406</td>\n",
       "      <td>486.0</td>\n",
       "    </tr>\n",
       "    <tr>\n",
       "      <th>4</th>\n",
       "      <td>1/26/20</td>\n",
       "      <td>2075</td>\n",
       "      <td>669.0</td>\n",
       "    </tr>\n",
       "    <tr>\n",
       "      <th>...</th>\n",
       "      <td>...</td>\n",
       "      <td>...</td>\n",
       "      <td>...</td>\n",
       "    </tr>\n",
       "    <tr>\n",
       "      <th>295</th>\n",
       "      <td>11/12/20</td>\n",
       "      <td>91783</td>\n",
       "      <td>31.0</td>\n",
       "    </tr>\n",
       "    <tr>\n",
       "      <th>296</th>\n",
       "      <td>11/13/20</td>\n",
       "      <td>91807</td>\n",
       "      <td>24.0</td>\n",
       "    </tr>\n",
       "    <tr>\n",
       "      <th>297</th>\n",
       "      <td>11/14/20</td>\n",
       "      <td>91828</td>\n",
       "      <td>21.0</td>\n",
       "    </tr>\n",
       "    <tr>\n",
       "      <th>298</th>\n",
       "      <td>11/15/20</td>\n",
       "      <td>91850</td>\n",
       "      <td>22.0</td>\n",
       "    </tr>\n",
       "    <tr>\n",
       "      <th>299</th>\n",
       "      <td>11/16/20</td>\n",
       "      <td>91872</td>\n",
       "      <td>22.0</td>\n",
       "    </tr>\n",
       "  </tbody>\n",
       "</table>\n",
       "<p>300 rows × 3 columns</p>\n",
       "</div>"
      ],
      "text/plain": [
       "         date  value_confirmed  daily_new_confirmed\n",
       "0     1/22/20              548                  0.0\n",
       "1     1/23/20              643                 95.0\n",
       "2     1/24/20              920                277.0\n",
       "3     1/25/20             1406                486.0\n",
       "4     1/26/20             2075                669.0\n",
       "..        ...              ...                  ...\n",
       "295  11/12/20            91783                 31.0\n",
       "296  11/13/20            91807                 24.0\n",
       "297  11/14/20            91828                 21.0\n",
       "298  11/15/20            91850                 22.0\n",
       "299  11/16/20            91872                 22.0\n",
       "\n",
       "[300 rows x 3 columns]"
      ]
     },
     "execution_count": 22,
     "metadata": {},
     "output_type": "execute_result"
    }
   ],
   "source": [
    "#example for China:\n",
    "country_tseries = get_by_country(total_confirmed, \"China\", \"confirmed\")\n",
    "# it will give me total confirmed cases per day in US, also I can use this for total_deaths and total_recovered too\n",
    "country_tseries"
   ]
  },
  {
   "cell_type": "code",
   "execution_count": 23,
   "metadata": {},
   "outputs": [
    {
     "data": {
      "text/html": [
       "<div>\n",
       "<style scoped>\n",
       "    .dataframe tbody tr th:only-of-type {\n",
       "        vertical-align: middle;\n",
       "    }\n",
       "\n",
       "    .dataframe tbody tr th {\n",
       "        vertical-align: top;\n",
       "    }\n",
       "\n",
       "    .dataframe thead th {\n",
       "        text-align: right;\n",
       "    }\n",
       "</style>\n",
       "<table border=\"1\" class=\"dataframe\">\n",
       "  <thead>\n",
       "    <tr style=\"text-align: right;\">\n",
       "      <th></th>\n",
       "      <th>date</th>\n",
       "      <th>value_confirmed</th>\n",
       "      <th>daily_new_confirmed</th>\n",
       "      <th>value_death</th>\n",
       "      <th>daily_new_death</th>\n",
       "      <th>value_recovered</th>\n",
       "      <th>daily_new_recovered</th>\n",
       "    </tr>\n",
       "  </thead>\n",
       "  <tbody>\n",
       "    <tr>\n",
       "      <th>0</th>\n",
       "      <td>1/22/20</td>\n",
       "      <td>1</td>\n",
       "      <td>0.0</td>\n",
       "      <td>0</td>\n",
       "      <td>0.0</td>\n",
       "      <td>0</td>\n",
       "      <td>0.0</td>\n",
       "    </tr>\n",
       "    <tr>\n",
       "      <th>1</th>\n",
       "      <td>1/23/20</td>\n",
       "      <td>1</td>\n",
       "      <td>0.0</td>\n",
       "      <td>0</td>\n",
       "      <td>0.0</td>\n",
       "      <td>0</td>\n",
       "      <td>0.0</td>\n",
       "    </tr>\n",
       "    <tr>\n",
       "      <th>2</th>\n",
       "      <td>1/24/20</td>\n",
       "      <td>2</td>\n",
       "      <td>1.0</td>\n",
       "      <td>0</td>\n",
       "      <td>0.0</td>\n",
       "      <td>0</td>\n",
       "      <td>0.0</td>\n",
       "    </tr>\n",
       "    <tr>\n",
       "      <th>3</th>\n",
       "      <td>1/25/20</td>\n",
       "      <td>2</td>\n",
       "      <td>0.0</td>\n",
       "      <td>0</td>\n",
       "      <td>0.0</td>\n",
       "      <td>0</td>\n",
       "      <td>0.0</td>\n",
       "    </tr>\n",
       "    <tr>\n",
       "      <th>4</th>\n",
       "      <td>1/26/20</td>\n",
       "      <td>5</td>\n",
       "      <td>3.0</td>\n",
       "      <td>0</td>\n",
       "      <td>0.0</td>\n",
       "      <td>0</td>\n",
       "      <td>0.0</td>\n",
       "    </tr>\n",
       "    <tr>\n",
       "      <th>...</th>\n",
       "      <td>...</td>\n",
       "      <td>...</td>\n",
       "      <td>...</td>\n",
       "      <td>...</td>\n",
       "      <td>...</td>\n",
       "      <td>...</td>\n",
       "      <td>...</td>\n",
       "    </tr>\n",
       "    <tr>\n",
       "      <th>295</th>\n",
       "      <td>11/12/20</td>\n",
       "      <td>10560111</td>\n",
       "      <td>160786.0</td>\n",
       "      <td>243187</td>\n",
       "      <td>1218.0</td>\n",
       "      <td>4051256</td>\n",
       "      <td>54081.0</td>\n",
       "    </tr>\n",
       "    <tr>\n",
       "      <th>296</th>\n",
       "      <td>11/13/20</td>\n",
       "      <td>10737335</td>\n",
       "      <td>177224.0</td>\n",
       "      <td>244325</td>\n",
       "      <td>1138.0</td>\n",
       "      <td>4095146</td>\n",
       "      <td>43890.0</td>\n",
       "    </tr>\n",
       "    <tr>\n",
       "      <th>297</th>\n",
       "      <td>11/14/20</td>\n",
       "      <td>10903890</td>\n",
       "      <td>166555.0</td>\n",
       "      <td>245591</td>\n",
       "      <td>1266.0</td>\n",
       "      <td>4148444</td>\n",
       "      <td>53298.0</td>\n",
       "    </tr>\n",
       "    <tr>\n",
       "      <th>298</th>\n",
       "      <td>11/15/20</td>\n",
       "      <td>11036935</td>\n",
       "      <td>133045.0</td>\n",
       "      <td>246207</td>\n",
       "      <td>616.0</td>\n",
       "      <td>4174884</td>\n",
       "      <td>26440.0</td>\n",
       "    </tr>\n",
       "    <tr>\n",
       "      <th>299</th>\n",
       "      <td>11/16/20</td>\n",
       "      <td>11202980</td>\n",
       "      <td>166045.0</td>\n",
       "      <td>247202</td>\n",
       "      <td>995.0</td>\n",
       "      <td>4244811</td>\n",
       "      <td>69927.0</td>\n",
       "    </tr>\n",
       "  </tbody>\n",
       "</table>\n",
       "<p>300 rows × 7 columns</p>\n",
       "</div>"
      ],
      "text/plain": [
       "         date  value_confirmed  daily_new_confirmed  value_death  \\\n",
       "0     1/22/20                1                  0.0            0   \n",
       "1     1/23/20                1                  0.0            0   \n",
       "2     1/24/20                2                  1.0            0   \n",
       "3     1/25/20                2                  0.0            0   \n",
       "4     1/26/20                5                  3.0            0   \n",
       "..        ...              ...                  ...          ...   \n",
       "295  11/12/20         10560111             160786.0       243187   \n",
       "296  11/13/20         10737335             177224.0       244325   \n",
       "297  11/14/20         10903890             166555.0       245591   \n",
       "298  11/15/20         11036935             133045.0       246207   \n",
       "299  11/16/20         11202980             166045.0       247202   \n",
       "\n",
       "     daily_new_death  value_recovered  daily_new_recovered  \n",
       "0                0.0                0                  0.0  \n",
       "1                0.0                0                  0.0  \n",
       "2                0.0                0                  0.0  \n",
       "3                0.0                0                  0.0  \n",
       "4                0.0                0                  0.0  \n",
       "..               ...              ...                  ...  \n",
       "295           1218.0          4051256              54081.0  \n",
       "296           1138.0          4095146              43890.0  \n",
       "297           1266.0          4148444              53298.0  \n",
       "298            616.0          4174884              26440.0  \n",
       "299            995.0          4244811              69927.0  \n",
       "\n",
       "[300 rows x 7 columns]"
      ]
     },
     "execution_count": 23,
     "metadata": {},
     "output_type": "execute_result"
    }
   ],
   "source": [
    "#example merged for US:\n",
    "US_ts = get_by_country_merged(total_confirmed, total_death, total_recovered, \"United States\")\n",
    "US_ts"
   ]
  },
  {
   "cell_type": "markdown",
   "metadata": {},
   "source": [
    "#### Optional for chart.js geographical analysis\n",
    "\n",
    "* chart.js doesnt have any map/world map chart, so I need to use 3rd party(highcharts), you can skip this part (2 cells below) if you find it confusing\n",
    "\n",
    "* that 3rd party use this json file as its data, so I need to mimick its structure"
   ]
  },
  {
   "cell_type": "code",
   "execution_count": 24,
   "metadata": {},
   "outputs": [
    {
     "data": {
      "text/html": [
       "<div>\n",
       "<style scoped>\n",
       "    .dataframe tbody tr th:only-of-type {\n",
       "        vertical-align: middle;\n",
       "    }\n",
       "\n",
       "    .dataframe tbody tr th {\n",
       "        vertical-align: top;\n",
       "    }\n",
       "\n",
       "    .dataframe thead th {\n",
       "        text-align: right;\n",
       "    }\n",
       "</style>\n",
       "<table border=\"1\" class=\"dataframe\">\n",
       "  <thead>\n",
       "    <tr style=\"text-align: right;\">\n",
       "      <th></th>\n",
       "      <th>code3</th>\n",
       "      <th>name</th>\n",
       "      <th>value</th>\n",
       "      <th>code</th>\n",
       "    </tr>\n",
       "  </thead>\n",
       "  <tbody>\n",
       "    <tr>\n",
       "      <th>0</th>\n",
       "      <td>ABW</td>\n",
       "      <td>Aruba</td>\n",
       "      <td>582.34</td>\n",
       "      <td>AW</td>\n",
       "    </tr>\n",
       "    <tr>\n",
       "      <th>1</th>\n",
       "      <td>AFG</td>\n",
       "      <td>Afghanistan</td>\n",
       "      <td>53.08</td>\n",
       "      <td>AF</td>\n",
       "    </tr>\n",
       "    <tr>\n",
       "      <th>2</th>\n",
       "      <td>AGO</td>\n",
       "      <td>Angola</td>\n",
       "      <td>23.11</td>\n",
       "      <td>AO</td>\n",
       "    </tr>\n",
       "    <tr>\n",
       "      <th>3</th>\n",
       "      <td>ALB</td>\n",
       "      <td>Albania</td>\n",
       "      <td>104.97</td>\n",
       "      <td>AL</td>\n",
       "    </tr>\n",
       "    <tr>\n",
       "      <th>4</th>\n",
       "      <td>AND</td>\n",
       "      <td>Andorra</td>\n",
       "      <td>164.43</td>\n",
       "      <td>AD</td>\n",
       "    </tr>\n",
       "    <tr>\n",
       "      <th>...</th>\n",
       "      <td>...</td>\n",
       "      <td>...</td>\n",
       "      <td>...</td>\n",
       "      <td>...</td>\n",
       "    </tr>\n",
       "    <tr>\n",
       "      <th>208</th>\n",
       "      <td>WSM</td>\n",
       "      <td>Samoa</td>\n",
       "      <td>68.95</td>\n",
       "      <td>WS</td>\n",
       "    </tr>\n",
       "    <tr>\n",
       "      <th>209</th>\n",
       "      <td>YEM</td>\n",
       "      <td>Yemen, Rep.</td>\n",
       "      <td>52.25</td>\n",
       "      <td>YE</td>\n",
       "    </tr>\n",
       "    <tr>\n",
       "      <th>210</th>\n",
       "      <td>ZAF</td>\n",
       "      <td>South Africa</td>\n",
       "      <td>46.18</td>\n",
       "      <td>ZA</td>\n",
       "    </tr>\n",
       "    <tr>\n",
       "      <th>211</th>\n",
       "      <td>ZMB</td>\n",
       "      <td>Zambia</td>\n",
       "      <td>22.32</td>\n",
       "      <td>ZM</td>\n",
       "    </tr>\n",
       "    <tr>\n",
       "      <th>212</th>\n",
       "      <td>ZWE</td>\n",
       "      <td>Zimbabwe</td>\n",
       "      <td>41.75</td>\n",
       "      <td>ZW</td>\n",
       "    </tr>\n",
       "  </tbody>\n",
       "</table>\n",
       "<p>213 rows × 4 columns</p>\n",
       "</div>"
      ],
      "text/plain": [
       "    code3          name   value code\n",
       "0     ABW         Aruba  582.34   AW\n",
       "1     AFG   Afghanistan   53.08   AF\n",
       "2     AGO        Angola   23.11   AO\n",
       "3     ALB       Albania  104.97   AL\n",
       "4     AND       Andorra  164.43   AD\n",
       "..    ...           ...     ...  ...\n",
       "208   WSM         Samoa   68.95   WS\n",
       "209   YEM   Yemen, Rep.   52.25   YE\n",
       "210   ZAF  South Africa   46.18   ZA\n",
       "211   ZMB        Zambia   22.32   ZM\n",
       "212   ZWE      Zimbabwe   41.75   ZW\n",
       "\n",
       "[213 rows x 4 columns]"
      ]
     },
     "execution_count": 24,
     "metadata": {},
     "output_type": "execute_result"
    }
   ],
   "source": [
    "# ref : https://www.highcharts.com/demo/maps/tooltip\n",
    "chartjs_ccode = pd.read_json(\"https://cdn.jsdelivr.net/gh/highcharts/highcharts@v7.0.0/samples/data/world-population-density.json\")\n",
    "chartjs_ccode"
   ]
  },
  {
   "cell_type": "code",
   "execution_count": 25,
   "metadata": {},
   "outputs": [
    {
     "data": {
      "text/plain": [
       "[{'code3': 'USA', 'name': 'United States', 'value': 11202980},\n",
       " {'code3': 'IND', 'name': 'India', 'value': 8873541},\n",
       " {'code3': 'BRA', 'name': 'Brazil', 'value': 5876464},\n",
       " {'code3': 'FRA', 'name': 'France', 'value': 2041293},\n",
       " {'code3': 'RUS', 'name': 'Russia', 'value': 1932711},\n",
       " {'code3': 'ESP', 'name': 'Spain', 'value': 1496864},\n",
       " {'code3': 'GBR', 'name': 'United Kingdom', 'value': 1394299},\n",
       " {'code3': 'ARG', 'name': 'Argentina', 'value': 1318384},\n",
       " {'code3': 'ITA', 'name': 'Italy', 'value': 1205881},\n",
       " {'code3': 'COL', 'name': 'Colombia', 'value': 1205217},\n",
       " {'code3': 'MEX', 'name': 'Mexico', 'value': 1009396},\n",
       " {'code3': 'PER', 'name': 'Peru', 'value': 937011},\n",
       " {'code3': 'DEU', 'name': 'Germany', 'value': 817526},\n",
       " {'code3': 'ZAF', 'name': 'South Africa', 'value': 752269},\n",
       " {'code3': 'POL', 'name': 'Poland', 'value': 733788},\n",
       " {'code3': 'UKR', 'name': 'Ukraine', 'value': 561581},\n",
       " {'code3': 'BEL', 'name': 'Belgium', 'value': 537871},\n",
       " {'code3': 'CHL', 'name': 'Chile', 'value': 532604},\n",
       " {'code3': 'IRQ', 'name': 'Iraq', 'value': 521542},\n",
       " {'code3': 'IDN', 'name': 'Indonesia', 'value': 470648},\n",
       " {'code3': 'BGD', 'name': 'Bangladesh', 'value': 434472},\n",
       " {'code3': 'TUR', 'name': 'Turkey', 'value': 417594},\n",
       " {'code3': 'ROU', 'name': 'Romania', 'value': 365212},\n",
       " {'code3': 'PAK', 'name': 'Pakistan', 'value': 361082},\n",
       " {'code3': 'SAU', 'name': 'Saudi Arabia', 'value': 353556},\n",
       " {'code3': 'ISR', 'name': 'Israel', 'value': 324755},\n",
       " {'code3': 'CAN', 'name': 'Canada', 'value': 305449},\n",
       " {'code3': 'MAR', 'name': 'Morocco', 'value': 296189},\n",
       " {'code3': 'CHE', 'name': 'Switzerland', 'value': 269974},\n",
       " {'code3': 'PRT', 'name': 'Portugal', 'value': 225672},\n",
       " {'code3': 'NPL', 'name': 'Nepal', 'value': 210973},\n",
       " {'code3': 'AUT', 'name': 'Austria', 'value': 208613},\n",
       " {'code3': 'ECU', 'name': 'Ecuador', 'value': 180676},\n",
       " {'code3': 'SWE', 'name': 'Sweden', 'value': 177355},\n",
       " {'code3': 'JOR', 'name': 'Jordan', 'value': 149539},\n",
       " {'code3': 'PAN', 'name': 'Panama', 'value': 147667},\n",
       " {'code3': 'HUN', 'name': 'Hungary', 'value': 147456},\n",
       " {'code3': 'KWT', 'name': 'Kuwait', 'value': 137329},\n",
       " {'code3': 'QAT', 'name': 'Qatar', 'value': 136028},\n",
       " {'code3': 'CRI', 'name': 'Costa Rica', 'value': 124592},\n",
       " {'code3': 'KAZ', 'name': 'Kazakhstan', 'value': 121653},\n",
       " {'code3': 'OMN', 'name': 'Oman', 'value': 120718},\n",
       " {'code3': 'JPN', 'name': 'Japan', 'value': 119557},\n",
       " {'code3': 'ARM', 'name': 'Armenia', 'value': 117886},\n",
       " {'code3': 'BLR', 'name': 'Belarus', 'value': 115448},\n",
       " {'code3': 'GTM', 'name': 'Guatemala', 'value': 115032},\n",
       " {'code3': 'EGY', 'name': 'Egypt', 'value': 111009},\n",
       " {'code3': 'LBN', 'name': 'Lebanon', 'value': 106446},\n",
       " {'code3': 'HND', 'name': 'Honduras', 'value': 103239},\n",
       " {'code3': 'ETH', 'name': 'Ethiopia', 'value': 103056},\n",
       " {'code3': 'BGR', 'name': 'Bulgaria', 'value': 101770},\n",
       " {'code3': 'CHN', 'name': 'China', 'value': 91872},\n",
       " {'code3': 'SRB', 'name': 'Serbia', 'value': 87381},\n",
       " {'code3': 'SVK', 'name': 'Slovakia', 'value': 87276},\n",
       " {'code3': 'HRV', 'name': 'Croatia', 'value': 85519},\n",
       " {'code3': 'BHR', 'name': 'Bahrain', 'value': 84882},\n",
       " {'code3': 'GEO', 'name': 'Georgia', 'value': 82835},\n",
       " {'code3': 'TUN', 'name': 'Tunisia', 'value': 81003},\n",
       " {'code3': 'AZE', 'name': 'Azerbaijan', 'value': 77083},\n",
       " {'code3': 'GRC', 'name': 'Greece', 'value': 76403},\n",
       " {'code3': 'BIH', 'name': 'Bosnia and Herzegovina', 'value': 72689},\n",
       " {'code3': 'PRY', 'name': 'Paraguay', 'value': 72099},\n",
       " {'code3': 'KEN', 'name': 'Kenya', 'value': 70804},\n",
       " {'code3': 'UZB', 'name': 'Uzbekistan', 'value': 70381},\n",
       " {'code3': 'DZA', 'name': 'Algeria', 'value': 68589},\n",
       " {'code3': 'IRL', 'name': 'Ireland', 'value': 68356},\n",
       " {'code3': 'KGZ', 'name': 'Kyrgyzstan', 'value': 66983},\n",
       " {'code3': 'NGA', 'name': 'Nigeria', 'value': 65305},\n",
       " {'code3': 'DNK', 'name': 'Denmark', 'value': 63847},\n",
       " {'code3': 'SGP', 'name': 'Singapore', 'value': 58124},\n",
       " {'code3': 'SVN', 'name': 'Slovenia', 'value': 55544},\n",
       " {'code3': 'GHA', 'name': 'Ghana', 'value': 50376},\n",
       " {'code3': 'MYS', 'name': 'Malaysia', 'value': 48520},\n",
       " {'code3': 'AFG', 'name': 'Afghanistan', 'value': 43403},\n",
       " {'code3': 'SLV', 'name': 'El Salvador', 'value': 36669},\n",
       " {'code3': 'LTU', 'name': 'Lithuania', 'value': 35911},\n",
       " {'code3': 'NOR', 'name': 'Norway', 'value': 28434},\n",
       " {'code3': 'ALB', 'name': 'Albania', 'value': 28432},\n",
       " {'code3': 'MNE', 'name': 'Montenegro', 'value': 27773},\n",
       " {'code3': 'AUS', 'name': 'Australia', 'value': 27758},\n",
       " {'code3': 'LUX', 'name': 'Luxembourg', 'value': 27256},\n",
       " {'code3': 'CMR', 'name': 'Cameroon', 'value': 22692},\n",
       " {'code3': 'FIN', 'name': 'Finland', 'value': 19419},\n",
       " {'code3': 'MDG', 'name': 'Madagascar', 'value': 17310},\n",
       " {'code3': 'ZMB', 'name': 'Zambia', 'value': 17187},\n",
       " {'code3': 'UGA', 'name': 'Uganda', 'value': 16257},\n",
       " {'code3': 'SEN', 'name': 'Senegal', 'value': 15801},\n",
       " {'code3': 'MOZ', 'name': 'Mozambique', 'value': 14514},\n",
       " {'code3': 'AGO', 'name': 'Angola', 'value': 13615},\n",
       " {'code3': 'NAM', 'name': 'Namibia', 'value': 13555},\n",
       " {'code3': 'GIN', 'name': 'Guinea', 'value': 12624},\n",
       " {'code3': 'MDV', 'name': 'Maldives', 'value': 12314},\n",
       " {'code3': 'TJK', 'name': 'Tajikistan', 'value': 11649},\n",
       " {'code3': 'LVA', 'name': 'Latvia', 'value': 10636},\n",
       " {'code3': 'JAM', 'name': 'Jamaica', 'value': 9929},\n",
       " {'code3': 'HTI', 'name': 'Haiti', 'value': 9188},\n",
       " {'code3': 'BWA', 'name': 'Botswana', 'value': 9103},\n",
       " {'code3': 'GAB', 'name': 'Gabon', 'value': 9084},\n",
       " {'code3': 'ZWE', 'name': 'Zimbabwe', 'value': 8897},\n",
       " {'code3': 'MLT', 'name': 'Malta', 'value': 8137},\n",
       " {'code3': 'MRT', 'name': 'Mauritania', 'value': 7979},\n",
       " {'code3': 'EST', 'name': 'Estonia', 'value': 7848},\n",
       " {'code3': 'CUB', 'name': 'Cuba', 'value': 7639},\n",
       " {'code3': 'CYP', 'name': 'Cyprus', 'value': 7285},\n",
       " {'code3': 'TTO', 'name': 'Trinidad and Tobago', 'value': 6096},\n",
       " {'code3': 'MWI', 'name': 'Malawi', 'value': 5971},\n",
       " {'code3': 'AND', 'name': 'Andorra', 'value': 5914},\n",
       " {'code3': 'NIC', 'name': 'Nicaragua', 'value': 5661},\n",
       " {'code3': 'DJI', 'name': 'Djibouti', 'value': 5655},\n",
       " {'code3': 'RWA', 'name': 'Rwanda', 'value': 5491},\n",
       " {'code3': 'SUR', 'name': 'Suriname', 'value': 5275},\n",
       " {'code3': 'ISL', 'name': 'Iceland', 'value': 5205},\n",
       " {'code3': 'GNQ', 'name': 'Equatorial Guinea', 'value': 5104},\n",
       " {'code3': 'GUY', 'name': 'Guyana', 'value': 4894},\n",
       " {'code3': 'BLZ', 'name': 'Belize', 'value': 4883},\n",
       " {'code3': 'SOM', 'name': 'Somalia', 'value': 4301},\n",
       " {'code3': 'URY', 'name': 'Uruguay', 'value': 4104},\n",
       " {'code3': 'MLI', 'name': 'Mali', 'value': 3948},\n",
       " {'code3': 'THA', 'name': 'Thailand', 'value': 3878},\n",
       " {'code3': 'BEN', 'name': 'Benin', 'value': 2884},\n",
       " {'code3': 'TGO', 'name': 'Togo', 'value': 2693},\n",
       " {'code3': 'BFA', 'name': 'Burkina Faso', 'value': 2652},\n",
       " {'code3': 'GNB', 'name': 'Guinea-Bissau', 'value': 2419},\n",
       " {'code3': 'SLE', 'name': 'Sierra Leone', 'value': 2391},\n",
       " {'code3': 'YEM', 'name': 'Yemen', 'value': 2078},\n",
       " {'code3': 'LSO', 'name': 'Lesotho', 'value': 2041},\n",
       " {'code3': 'NZL', 'name': 'New Zealand', 'value': 2005},\n",
       " {'code3': 'TCD', 'name': 'Chad', 'value': 1603},\n",
       " {'code3': 'LBR', 'name': 'Liberia', 'value': 1512},\n",
       " {'code3': 'SMR', 'name': 'San Marino', 'value': 1290},\n",
       " {'code3': 'VNM', 'name': 'Vietnam', 'value': 1283},\n",
       " {'code3': 'LIE', 'name': 'Liechtenstein', 'value': 989},\n",
       " {'code3': 'STP', 'name': 'Sao Tome and Principe', 'value': 965},\n",
       " {'code3': 'BDI', 'name': 'Burundi', 'value': 630},\n",
       " {'code3': 'PNG', 'name': 'Papua New Guinea', 'value': 602},\n",
       " {'code3': 'COM', 'name': 'Comoros', 'value': 579},\n",
       " {'code3': 'MCO', 'name': 'Monaco', 'value': 552},\n",
       " {'code3': 'ERI', 'name': 'Eritrea', 'value': 518},\n",
       " {'code3': 'MUS', 'name': 'Mauritius', 'value': 491},\n",
       " {'code3': 'MNG', 'name': 'Mongolia', 'value': 434},\n",
       " {'code3': 'BTN', 'name': 'Bhutan', 'value': 377},\n",
       " {'code3': 'KHM', 'name': 'Cambodia', 'value': 303},\n",
       " {'code3': 'BRB', 'name': 'Barbados', 'value': 250},\n",
       " {'code3': 'LCA', 'name': 'Saint Lucia', 'value': 171},\n",
       " {'code3': 'SYC', 'name': 'Seychelles', 'value': 160},\n",
       " {'code3': 'ATG', 'name': 'Antigua and Barbuda', 'value': 134},\n",
       " {'code3': 'VCT', 'name': 'Saint Vincent and the Grenadines', 'value': 78},\n",
       " {'code3': 'DMA', 'name': 'Dominica', 'value': 68},\n",
       " {'code3': 'GRD', 'name': 'Grenada', 'value': 33},\n",
       " {'code3': 'KNA', 'name': 'Saint Kitts and Nevis', 'value': 19},\n",
       " {'code3': 'VUT', 'name': 'Vanuatu', 'value': 1}]"
      ]
     },
     "execution_count": 25,
     "metadata": {},
     "output_type": "execute_result"
    }
   ],
   "source": [
    "#dump it to external json_file\n",
    "import json\n",
    "chartjs_map = final_df[[\"code3\", \"Country/Region\", \"confirmed\" ]]\n",
    "chartjs_map.columns = [\"code3\", \"name\", \"value\"]\n",
    "chart_json = chartjs_map.to_dict('records')\n",
    "\n",
    "with open('chart_js.json', 'w') as fout:\n",
    "    json.dump(chart_json, fout)\n",
    "\n",
    "chart_json"
   ]
  },
  {
   "cell_type": "markdown",
   "metadata": {},
   "source": [
    "### [Back to table of content](#main)"
   ]
  },
  {
   "cell_type": "markdown",
   "metadata": {},
   "source": [
    "## 2. Altair Plot <a name=\"ch2\"></a>"
   ]
  },
  {
   "cell_type": "code",
   "execution_count": 29,
   "metadata": {},
   "outputs": [
    {
     "data": {
      "text/html": [
       "\n",
       "<div id=\"altair-viz-f50ae76f24af464e96c411c77935d63d\"></div>\n",
       "<script type=\"text/javascript\">\n",
       "  (function(spec, embedOpt){\n",
       "    let outputDiv = document.currentScript.previousElementSibling;\n",
       "    if (outputDiv.id !== \"altair-viz-f50ae76f24af464e96c411c77935d63d\") {\n",
       "      outputDiv = document.getElementById(\"altair-viz-f50ae76f24af464e96c411c77935d63d\");\n",
       "    }\n",
       "    const paths = {\n",
       "      \"vega\": \"https://cdn.jsdelivr.net/npm//vega@5?noext\",\n",
       "      \"vega-lib\": \"https://cdn.jsdelivr.net/npm//vega-lib?noext\",\n",
       "      \"vega-lite\": \"https://cdn.jsdelivr.net/npm//vega-lite@4.8.1?noext\",\n",
       "      \"vega-embed\": \"https://cdn.jsdelivr.net/npm//vega-embed@6?noext\",\n",
       "    };\n",
       "\n",
       "    function loadScript(lib) {\n",
       "      return new Promise(function(resolve, reject) {\n",
       "        var s = document.createElement('script');\n",
       "        s.src = paths[lib];\n",
       "        s.async = true;\n",
       "        s.onload = () => resolve(paths[lib]);\n",
       "        s.onerror = () => reject(`Error loading script: ${paths[lib]}`);\n",
       "        document.getElementsByTagName(\"head\")[0].appendChild(s);\n",
       "      });\n",
       "    }\n",
       "\n",
       "    function showError(err) {\n",
       "      outputDiv.innerHTML = `<div class=\"error\" style=\"color:red;\">${err}</div>`;\n",
       "      throw err;\n",
       "    }\n",
       "\n",
       "    function displayChart(vegaEmbed) {\n",
       "      vegaEmbed(outputDiv, spec, embedOpt)\n",
       "        .catch(err => showError(`Javascript Error: ${err.message}<br>This usually means there's a typo in your chart specification. See the javascript console for the full traceback.`));\n",
       "    }\n",
       "\n",
       "    if(typeof define === \"function\" && define.amd) {\n",
       "      requirejs.config({paths});\n",
       "      require([\"vega-embed\"], displayChart, err => showError(`Error loading script: ${err.message}`));\n",
       "    } else if (typeof vegaEmbed === \"function\") {\n",
       "      displayChart(vegaEmbed);\n",
       "    } else {\n",
       "      loadScript(\"vega\")\n",
       "        .then(() => loadScript(\"vega-lite\"))\n",
       "        .then(() => loadScript(\"vega-embed\"))\n",
       "        .catch(showError)\n",
       "        .then(() => displayChart(vegaEmbed));\n",
       "    }\n",
       "  })({\"config\": {\"view\": {\"continuousWidth\": 400, \"continuousHeight\": 300}}, \"layer\": [{\"mark\": {\"type\": \"bar\", \"color\": \"#5276A7\"}, \"encoding\": {\"tooltip\": [{\"type\": \"nominal\", \"field\": \"Country/Region\"}, {\"type\": \"quantitative\", \"field\": \"confirmed\"}, {\"type\": \"quantitative\", \"field\": \"cases/million\"}], \"x\": {\"type\": \"nominal\", \"field\": \"Country/Region\", \"sort\": null}, \"y\": {\"type\": \"quantitative\", \"axis\": {\"titleColor\": \"#5276A7\"}, \"field\": \"confirmed\"}}, \"height\": 500, \"title\": \"Total Confirmed Cases/Country\"}, {\"mark\": {\"type\": \"circle\", \"color\": \"red\", \"size\": 60}, \"encoding\": {\"tooltip\": [{\"type\": \"nominal\", \"field\": \"Country/Region\"}, {\"type\": \"quantitative\", \"field\": \"confirmed\"}, {\"type\": \"quantitative\", \"field\": \"cases/million\"}], \"x\": {\"type\": \"nominal\", \"field\": \"Country/Region\", \"sort\": null}, \"y\": {\"type\": \"quantitative\", \"axis\": {\"titleColor\": \"red\"}, \"field\": \"cases/million\"}}, \"height\": 500, \"title\": \"Total Confirmed Cases/Country\"}], \"data\": {\"name\": \"data-4855839c04d142872c011215e6c359be\"}, \"resolve\": {\"scale\": {\"y\": \"independent\"}}, \"$schema\": \"https://vega.github.io/schema/vega-lite/v4.8.1.json\", \"datasets\": {\"data-4855839c04d142872c011215e6c359be\": [{\"Country/Region\": \"United States\", \"code3\": \"USA\", \"id\": 840, \"confirmed\": 11202980, \"recovered\": 4244811, \"deaths\": 247202, \"population\": 326687501, \"cases/million\": 34292.65, \"death rate(%)\": 2.21}, {\"Country/Region\": \"India\", \"code3\": \"IND\", \"id\": 356, \"confirmed\": 8873541, \"recovered\": 8289073, \"deaths\": 130503, \"population\": 1352617328, \"cases/million\": 6560.27, \"death rate(%)\": 1.47}, {\"Country/Region\": \"Brazil\", \"code3\": \"BRA\", \"id\": 76, \"confirmed\": 5876464, \"recovered\": 5335498, \"deaths\": 166014, \"population\": 209469333, \"cases/million\": 28054.05, \"death rate(%)\": 2.83}, {\"Country/Region\": \"France\", \"code3\": \"FRA\", \"id\": 250, \"confirmed\": 2041293, \"recovered\": 146396, \"deaths\": 45122, \"population\": 66977107, \"cases/million\": 30477.47, \"death rate(%)\": 2.21}, {\"Country/Region\": \"Russia\", \"code3\": \"RUS\", \"id\": 643, \"confirmed\": 1932711, \"recovered\": 1443393, \"deaths\": 33184, \"population\": 144478050, \"cases/million\": 13377.19, \"death rate(%)\": 1.72}, {\"Country/Region\": \"Spain\", \"code3\": \"ESP\", \"id\": 724, \"confirmed\": 1496864, \"recovered\": 150376, \"deaths\": 41253, \"population\": 46796540, \"cases/million\": 31986.64, \"death rate(%)\": 2.76}, {\"Country/Region\": \"United Kingdom\", \"code3\": \"GBR\", \"id\": 826, \"confirmed\": 1394299, \"recovered\": 3135, \"deaths\": 52240, \"population\": 66460344, \"cases/million\": 20979.41, \"death rate(%)\": 3.75}, {\"Country/Region\": \"Argentina\", \"code3\": \"ARG\", \"id\": 32, \"confirmed\": 1318384, \"recovered\": 1140196, \"deaths\": 35727, \"population\": 44494502, \"cases/million\": 29630.27, \"death rate(%)\": 2.71}, {\"Country/Region\": \"Italy\", \"code3\": \"ITA\", \"id\": 380, \"confirmed\": 1205881, \"recovered\": 442364, \"deaths\": 45733, \"population\": 60421760, \"cases/million\": 19957.73, \"death rate(%)\": 3.79}, {\"Country/Region\": \"Colombia\", \"code3\": \"COL\", \"id\": 170, \"confirmed\": 1205217, \"recovered\": 1111867, \"deaths\": 34223, \"population\": 49648685, \"cases/million\": 24274.9, \"death rate(%)\": 2.84}, {\"Country/Region\": \"Mexico\", \"code3\": \"MEX\", \"id\": 484, \"confirmed\": 1009396, \"recovered\": 754200, \"deaths\": 98861, \"population\": 126190788, \"cases/million\": 7998.97, \"death rate(%)\": 9.79}, {\"Country/Region\": \"Peru\", \"code3\": \"PER\", \"id\": 604, \"confirmed\": 937011, \"recovered\": 865348, \"deaths\": 35231, \"population\": 31989256, \"cases/million\": 29291.43, \"death rate(%)\": 3.76}, {\"Country/Region\": \"Germany\", \"code3\": \"DEU\", \"id\": 276, \"confirmed\": 817526, \"recovered\": 522313, \"deaths\": 12833, \"population\": 82905782, \"cases/million\": 9860.9, \"death rate(%)\": 1.57}, {\"Country/Region\": \"South Africa\", \"code3\": \"ZAF\", \"id\": 710, \"confirmed\": 752269, \"recovered\": 695496, \"deaths\": 20314, \"population\": 57779622, \"cases/million\": 13019.62, \"death rate(%)\": 2.7}, {\"Country/Region\": \"Poland\", \"code3\": \"POL\", \"id\": 616, \"confirmed\": 733788, \"recovered\": 306022, \"deaths\": 10491, \"population\": 37974750, \"cases/million\": 19323.05, \"death rate(%)\": 1.43}, {\"Country/Region\": \"Ukraine\", \"code3\": \"UKR\", \"id\": 804, \"confirmed\": 561581, \"recovered\": 254653, \"deaths\": 10002, \"population\": 44622516, \"cases/million\": 12585.15, \"death rate(%)\": 1.78}, {\"Country/Region\": \"Belgium\", \"code3\": \"BEL\", \"id\": 56, \"confirmed\": 537871, \"recovered\": 0, \"deaths\": 14616, \"population\": 11433256, \"cases/million\": 47044.43, \"death rate(%)\": 2.72}, {\"Country/Region\": \"Chile\", \"code3\": \"CHL\", \"id\": 152, \"confirmed\": 532604, \"recovered\": 508067, \"deaths\": 14863, \"population\": 18729160, \"cases/million\": 28437.15, \"death rate(%)\": 2.79}, {\"Country/Region\": \"Iraq\", \"code3\": \"IRQ\", \"id\": 368, \"confirmed\": 521542, \"recovered\": 449565, \"deaths\": 11712, \"population\": 38433600, \"cases/million\": 13569.95, \"death rate(%)\": 2.25}, {\"Country/Region\": \"Indonesia\", \"code3\": \"IDN\", \"id\": 360, \"confirmed\": 470648, \"recovered\": 395443, \"deaths\": 15296, \"population\": 267663435, \"cases/million\": 1758.36, \"death rate(%)\": 3.25}, {\"Country/Region\": \"Bangladesh\", \"code3\": \"BGD\", \"id\": 50, \"confirmed\": 434472, \"recovered\": 351146, \"deaths\": 6215, \"population\": 161356039, \"cases/million\": 2692.63, \"death rate(%)\": 1.43}, {\"Country/Region\": \"Turkey\", \"code3\": \"TUR\", \"id\": 792, \"confirmed\": 417594, \"recovered\": 356375, \"deaths\": 11601, \"population\": 82319724, \"cases/million\": 5072.83, \"death rate(%)\": 2.78}, {\"Country/Region\": \"Romania\", \"code3\": \"ROU\", \"id\": 642, \"confirmed\": 365212, \"recovered\": 246633, \"deaths\": 9075, \"population\": 19466145, \"cases/million\": 18761.39, \"death rate(%)\": 2.48}, {\"Country/Region\": \"Pakistan\", \"code3\": \"PAK\", \"id\": 586, \"confirmed\": 361082, \"recovered\": 324834, \"deaths\": 7193, \"population\": 212215030, \"cases/million\": 1701.49, \"death rate(%)\": 1.99}, {\"Country/Region\": \"Saudi Arabia\", \"code3\": \"SAU\", \"id\": 682, \"confirmed\": 353556, \"recovered\": 340668, \"deaths\": 5676, \"population\": 33699947, \"cases/million\": 10491.29, \"death rate(%)\": 1.61}, {\"Country/Region\": \"Israel\", \"code3\": \"ISR\", \"id\": 376, \"confirmed\": 324755, \"recovered\": 314093, \"deaths\": 2735, \"population\": 8882800, \"cases/million\": 36559.98, \"death rate(%)\": 0.84}, {\"Country/Region\": \"Canada\", \"code3\": \"CAN\", \"id\": 124, \"confirmed\": 305449, \"recovered\": 244699, \"deaths\": 11075, \"population\": 37057765, \"cases/million\": 8242.51, \"death rate(%)\": 3.63}, {\"Country/Region\": \"Morocco\", \"code3\": \"MAR\", \"id\": 504, \"confirmed\": 296189, \"recovered\": 243359, \"deaths\": 4850, \"population\": 36029138, \"cases/million\": 8220.82, \"death rate(%)\": 1.64}, {\"Country/Region\": \"Switzerland\", \"code3\": \"CHE\", \"id\": 756, \"confirmed\": 269974, \"recovered\": 141000, \"deaths\": 3536, \"population\": 8513227, \"cases/million\": 31712.3, \"death rate(%)\": 1.31}, {\"Country/Region\": \"Portugal\", \"code3\": \"PRT\", \"id\": 620, \"confirmed\": 225672, \"recovered\": 142155, \"deaths\": 3472, \"population\": 10283822, \"cases/million\": 21944.37, \"death rate(%)\": 1.54}, {\"Country/Region\": \"Nepal\", \"code3\": \"NPL\", \"id\": 524, \"confirmed\": 210973, \"recovered\": 176364, \"deaths\": 1230, \"population\": 28087871, \"cases/million\": 7511.18, \"death rate(%)\": 0.58}, {\"Country/Region\": \"Austria\", \"code3\": \"AUT\", \"id\": 40, \"confirmed\": 208613, \"recovered\": 129671, \"deaths\": 1887, \"population\": 8840521, \"cases/million\": 23597.36, \"death rate(%)\": 0.9}, {\"Country/Region\": \"Ecuador\", \"code3\": \"ECU\", \"id\": 218, \"confirmed\": 180676, \"recovered\": 160639, \"deaths\": 13016, \"population\": 17084357, \"cases/million\": 10575.52, \"death rate(%)\": 7.2}, {\"Country/Region\": \"Sweden\", \"code3\": \"SWE\", \"id\": 752, \"confirmed\": 177355, \"recovered\": 0, \"deaths\": 6164, \"population\": 10175214, \"cases/million\": 17430.1, \"death rate(%)\": 3.48}, {\"Country/Region\": \"Jordan\", \"code3\": \"JOR\", \"id\": 400, \"confirmed\": 149539, \"recovered\": 10311, \"deaths\": 1843, \"population\": 9956011, \"cases/million\": 15019.97, \"death rate(%)\": 1.23}, {\"Country/Region\": \"Panama\", \"code3\": \"PAN\", \"id\": 591, \"confirmed\": 147667, \"recovered\": 126746, \"deaths\": 2881, \"population\": 4176873, \"cases/million\": 35353.48, \"death rate(%)\": 1.95}, {\"Country/Region\": \"Hungary\", \"code3\": \"HUN\", \"id\": 348, \"confirmed\": 147456, \"recovered\": 34010, \"deaths\": 3190, \"population\": 9775564, \"cases/million\": 15084.14, \"death rate(%)\": 2.16}, {\"Country/Region\": \"Kuwait\", \"code3\": \"KWT\", \"id\": 414, \"confirmed\": 137329, \"recovered\": 128414, \"deaths\": 842, \"population\": 4137309, \"cases/million\": 33192.83, \"death rate(%)\": 0.61}, {\"Country/Region\": \"Qatar\", \"code3\": \"QAT\", \"id\": 634, \"confirmed\": 136028, \"recovered\": 133010, \"deaths\": 235, \"population\": 2781677, \"cases/million\": 48901.44, \"death rate(%)\": 0.17}, {\"Country/Region\": \"Costa Rica\", \"code3\": \"CRI\", \"id\": 188, \"confirmed\": 124592, \"recovered\": 77164, \"deaths\": 1566, \"population\": 4999441, \"cases/million\": 24921.19, \"death rate(%)\": 1.26}, {\"Country/Region\": \"Kazakhstan\", \"code3\": \"KAZ\", \"id\": 398, \"confirmed\": 121653, \"recovered\": 110382, \"deaths\": 1899, \"population\": 18272430, \"cases/million\": 6657.74, \"death rate(%)\": 1.56}, {\"Country/Region\": \"Oman\", \"code3\": \"OMN\", \"id\": 512, \"confirmed\": 120718, \"recovered\": 111446, \"deaths\": 1350, \"population\": 4829483, \"cases/million\": 24996.05, \"death rate(%)\": 1.12}, {\"Country/Region\": \"Japan\", \"code3\": \"JPN\", \"id\": 392, \"confirmed\": 119557, \"recovered\": 102810, \"deaths\": 1883, \"population\": 126529100, \"cases/million\": 944.9, \"death rate(%)\": 1.57}, {\"Country/Region\": \"Armenia\", \"code3\": \"ARM\", \"id\": 51, \"confirmed\": 117886, \"recovered\": 75865, \"deaths\": 1788, \"population\": 2951776, \"cases/million\": 39937.31, \"death rate(%)\": 1.52}, {\"Country/Region\": \"Belarus\", \"code3\": \"BLR\", \"id\": 112, \"confirmed\": 115448, \"recovered\": 96462, \"deaths\": 1053, \"population\": 9483499, \"cases/million\": 12173.57, \"death rate(%)\": 0.91}, {\"Country/Region\": \"Guatemala\", \"code3\": \"GTM\", \"id\": 320, \"confirmed\": 115032, \"recovered\": 104786, \"deaths\": 3938, \"population\": 17247807, \"cases/million\": 6669.37, \"death rate(%)\": 3.42}, {\"Country/Region\": \"Egypt\", \"code3\": \"EGY\", \"id\": 818, \"confirmed\": 111009, \"recovered\": 101179, \"deaths\": 6465, \"population\": 98423595, \"cases/million\": 1127.87, \"death rate(%)\": 5.82}, {\"Country/Region\": \"Lebanon\", \"code3\": \"LBN\", \"id\": 422, \"confirmed\": 106446, \"recovered\": 61263, \"deaths\": 827, \"population\": 6848925, \"cases/million\": 15542.0, \"death rate(%)\": 0.78}, {\"Country/Region\": \"Honduras\", \"code3\": \"HND\", \"id\": 340, \"confirmed\": 103239, \"recovered\": 44915, \"deaths\": 2839, \"population\": 9587522, \"cases/million\": 10768.06, \"death rate(%)\": 2.75}, {\"Country/Region\": \"Ethiopia\", \"code3\": \"ETH\", \"id\": 231, \"confirmed\": 103056, \"recovered\": 64130, \"deaths\": 1581, \"population\": 109224559, \"cases/million\": 943.52, \"death rate(%)\": 1.53}, {\"Country/Region\": \"Bulgaria\", \"code3\": \"BGR\", \"id\": 100, \"confirmed\": 101770, \"recovered\": 30317, \"deaths\": 2282, \"population\": 7025037, \"cases/million\": 14486.76, \"death rate(%)\": 2.24}, {\"Country/Region\": \"China\", \"code3\": \"CHN\", \"id\": 156, \"confirmed\": 91872, \"recovered\": 86616, \"deaths\": 4742, \"population\": 1392730000, \"cases/million\": 65.97, \"death rate(%)\": 5.16}, {\"Country/Region\": \"Serbia\", \"code3\": \"SRB\", \"id\": 688, \"confirmed\": 87381, \"recovered\": 0, \"deaths\": 1030, \"population\": 6963764, \"cases/million\": 12547.96, \"death rate(%)\": 1.18}, {\"Country/Region\": \"Slovakia\", \"code3\": \"SVK\", \"id\": 703, \"confirmed\": 87276, \"recovered\": 31053, \"deaths\": 526, \"population\": 5446771, \"cases/million\": 16023.44, \"death rate(%)\": 0.6}, {\"Country/Region\": \"Croatia\", \"code3\": \"HRV\", \"id\": 191, \"confirmed\": 85519, \"recovered\": 68738, \"deaths\": 1082, \"population\": 4087843, \"cases/million\": 20920.32, \"death rate(%)\": 1.27}, {\"Country/Region\": \"Bahrain\", \"code3\": \"BHR\", \"id\": 48, \"confirmed\": 84882, \"recovered\": 82680, \"deaths\": 337, \"population\": 1569439, \"cases/million\": 54084.29, \"death rate(%)\": 0.4}, {\"Country/Region\": \"Georgia\", \"code3\": \"GEO\", \"id\": 268, \"confirmed\": 82835, \"recovered\": 65291, \"deaths\": 733, \"population\": 3726549, \"cases/million\": 22228.34, \"death rate(%)\": 0.88}, {\"Country/Region\": \"Tunisia\", \"code3\": \"TUN\", \"id\": 788, \"confirmed\": 81003, \"recovered\": 55551, \"deaths\": 2396, \"population\": 11565204, \"cases/million\": 7004.03, \"death rate(%)\": 2.96}, {\"Country/Region\": \"Azerbaijan\", \"code3\": \"AZE\", \"id\": 31, \"confirmed\": 77083, \"recovered\": 55755, \"deaths\": 985, \"population\": 9939800, \"cases/million\": 7754.99, \"death rate(%)\": 1.28}, {\"Country/Region\": \"Greece\", \"code3\": \"GRC\", \"id\": 300, \"confirmed\": 76403, \"recovered\": 23074, \"deaths\": 1165, \"population\": 10731726, \"cases/million\": 7119.36, \"death rate(%)\": 1.52}, {\"Country/Region\": \"Bosnia and Herzegovina\", \"code3\": \"BIH\", \"id\": 70, \"confirmed\": 72689, \"recovered\": 36473, \"deaths\": 1973, \"population\": 3323929, \"cases/million\": 21868.4, \"death rate(%)\": 2.71}, {\"Country/Region\": \"Paraguay\", \"code3\": \"PRY\", \"id\": 600, \"confirmed\": 72099, \"recovered\": 51776, \"deaths\": 1602, \"population\": 6956071, \"cases/million\": 10364.9, \"death rate(%)\": 2.22}, {\"Country/Region\": \"Kenya\", \"code3\": \"KEN\", \"id\": 404, \"confirmed\": 70804, \"recovered\": 46244, \"deaths\": 1287, \"population\": 51393010, \"cases/million\": 1377.7, \"death rate(%)\": 1.82}, {\"Country/Region\": \"Uzbekistan\", \"code3\": \"UZB\", \"id\": 860, \"confirmed\": 70381, \"recovered\": 67655, \"deaths\": 598, \"population\": 32955400, \"cases/million\": 2135.64, \"death rate(%)\": 0.85}, {\"Country/Region\": \"Algeria\", \"code3\": \"DZA\", \"id\": 12, \"confirmed\": 68589, \"recovered\": 45148, \"deaths\": 2168, \"population\": 42228429, \"cases/million\": 1624.24, \"death rate(%)\": 3.16}, {\"Country/Region\": \"Ireland\", \"code3\": \"IRL\", \"id\": 372, \"confirmed\": 68356, \"recovered\": 23364, \"deaths\": 1984, \"population\": 4867309, \"cases/million\": 14043.9, \"death rate(%)\": 2.9}, {\"Country/Region\": \"Kyrgyzstan\", \"code3\": \"KGZ\", \"id\": 417, \"confirmed\": 66983, \"recovered\": 57760, \"deaths\": 1203, \"population\": 6322800, \"cases/million\": 10593.88, \"death rate(%)\": 1.8}, {\"Country/Region\": \"Nigeria\", \"code3\": \"NGA\", \"id\": 566, \"confirmed\": 65305, \"recovered\": 61162, \"deaths\": 1163, \"population\": 195874740, \"cases/million\": 333.4, \"death rate(%)\": 1.78}, {\"Country/Region\": \"Denmark\", \"code3\": \"DNK\", \"id\": 208, \"confirmed\": 63847, \"recovered\": 49208, \"deaths\": 764, \"population\": 5793636, \"cases/million\": 11020.2, \"death rate(%)\": 1.2}, {\"Country/Region\": \"Singapore\", \"code3\": \"SGP\", \"id\": 702, \"confirmed\": 58124, \"recovered\": 58033, \"deaths\": 28, \"population\": 5638676, \"cases/million\": 10308.09, \"death rate(%)\": 0.05}, {\"Country/Region\": \"Slovenia\", \"code3\": \"SVN\", \"id\": 705, \"confirmed\": 55544, \"recovered\": 35387, \"deaths\": 831, \"population\": 2073894, \"cases/million\": 26782.47, \"death rate(%)\": 1.5}, {\"Country/Region\": \"Ghana\", \"code3\": \"GHA\", \"id\": 288, \"confirmed\": 50376, \"recovered\": 48626, \"deaths\": 323, \"population\": 29767108, \"cases/million\": 1692.34, \"death rate(%)\": 0.64}, {\"Country/Region\": \"Malaysia\", \"code3\": \"MYS\", \"id\": 458, \"confirmed\": 48520, \"recovered\": 35606, \"deaths\": 313, \"population\": 31528585, \"cases/million\": 1538.92, \"death rate(%)\": 0.65}, {\"Country/Region\": \"Afghanistan\", \"code3\": \"AFG\", \"id\": 4, \"confirmed\": 43403, \"recovered\": 35137, \"deaths\": 1626, \"population\": 37172386, \"cases/million\": 1167.61, \"death rate(%)\": 3.75}, {\"Country/Region\": \"El Salvador\", \"code3\": \"SLV\", \"id\": 222, \"confirmed\": 36669, \"recovered\": 33064, \"deaths\": 1047, \"population\": 6420744, \"cases/million\": 5711.02, \"death rate(%)\": 2.86}, {\"Country/Region\": \"Lithuania\", \"code3\": \"LTU\", \"id\": 440, \"confirmed\": 35911, \"recovered\": 7882, \"deaths\": 285, \"population\": 2801543, \"cases/million\": 12818.29, \"death rate(%)\": 0.79}, {\"Country/Region\": \"Norway\", \"code3\": \"NOR\", \"id\": 578, \"confirmed\": 28434, \"recovered\": 17998, \"deaths\": 294, \"population\": 5311916, \"cases/million\": 5352.87, \"death rate(%)\": 1.03}, {\"Country/Region\": \"Albania\", \"code3\": \"ALB\", \"id\": 8, \"confirmed\": 28432, \"recovered\": 13453, \"deaths\": 631, \"population\": 2866376, \"cases/million\": 9919.15, \"death rate(%)\": 2.22}, {\"Country/Region\": \"Montenegro\", \"code3\": \"MNE\", \"id\": 499, \"confirmed\": 27773, \"recovered\": 17862, \"deaths\": 396, \"population\": 631219, \"cases/million\": 43998.99, \"death rate(%)\": 1.43}, {\"Country/Region\": \"Australia\", \"code3\": \"AUS\", \"id\": 36, \"confirmed\": 27758, \"recovered\": 25499, \"deaths\": 907, \"population\": 24982688, \"cases/million\": 1111.09, \"death rate(%)\": 3.27}, {\"Country/Region\": \"Luxembourg\", \"code3\": \"LUX\", \"id\": 442, \"confirmed\": 27256, \"recovered\": 17734, \"deaths\": 236, \"population\": 607950, \"cases/million\": 44832.63, \"death rate(%)\": 0.87}, {\"Country/Region\": \"Cameroon\", \"code3\": \"CMR\", \"id\": 120, \"confirmed\": 22692, \"recovered\": 21510, \"deaths\": 433, \"population\": 25216237, \"cases/million\": 899.9, \"death rate(%)\": 1.91}, {\"Country/Region\": \"Finland\", \"code3\": \"FIN\", \"id\": 246, \"confirmed\": 19419, \"recovered\": 14000, \"deaths\": 371, \"population\": 5515525, \"cases/million\": 3520.79, \"death rate(%)\": 1.91}, {\"Country/Region\": \"Madagascar\", \"code3\": \"MDG\", \"id\": 450, \"confirmed\": 17310, \"recovered\": 16592, \"deaths\": 250, \"population\": 26262368, \"cases/million\": 659.12, \"death rate(%)\": 1.44}, {\"Country/Region\": \"Zambia\", \"code3\": \"ZMB\", \"id\": 894, \"confirmed\": 17187, \"recovered\": 16400, \"deaths\": 353, \"population\": 17351822, \"cases/million\": 990.5, \"death rate(%)\": 2.05}, {\"Country/Region\": \"Uganda\", \"code3\": \"UGA\", \"id\": 800, \"confirmed\": 16257, \"recovered\": 8170, \"deaths\": 150, \"population\": 42723139, \"cases/million\": 380.52, \"death rate(%)\": 0.92}, {\"Country/Region\": \"Senegal\", \"code3\": \"SEN\", \"id\": 686, \"confirmed\": 15801, \"recovered\": 15421, \"deaths\": 329, \"population\": 15854360, \"cases/million\": 996.63, \"death rate(%)\": 2.08}, {\"Country/Region\": \"Mozambique\", \"code3\": \"MOZ\", \"id\": 508, \"confirmed\": 14514, \"recovered\": 12599, \"deaths\": 116, \"population\": 29495962, \"cases/million\": 492.07, \"death rate(%)\": 0.8}, {\"Country/Region\": \"Angola\", \"code3\": \"AGO\", \"id\": 24, \"confirmed\": 13615, \"recovered\": 6523, \"deaths\": 324, \"population\": 30809762, \"cases/million\": 441.91, \"death rate(%)\": 2.38}, {\"Country/Region\": \"Namibia\", \"code3\": \"NAM\", \"id\": 516, \"confirmed\": 13555, \"recovered\": 12843, \"deaths\": 138, \"population\": 2448255, \"cases/million\": 5536.6, \"death rate(%)\": 1.02}, {\"Country/Region\": \"Guinea\", \"code3\": \"GIN\", \"id\": 324, \"confirmed\": 12624, \"recovered\": 11270, \"deaths\": 75, \"population\": 12414318, \"cases/million\": 1016.89, \"death rate(%)\": 0.59}, {\"Country/Region\": \"Maldives\", \"code3\": \"MDV\", \"id\": 462, \"confirmed\": 12314, \"recovered\": 11316, \"deaths\": 44, \"population\": 515696, \"cases/million\": 23878.41, \"death rate(%)\": 0.36}, {\"Country/Region\": \"Tajikistan\", \"code3\": \"TJK\", \"id\": 762, \"confirmed\": 11649, \"recovered\": 11019, \"deaths\": 85, \"population\": 9100837, \"cases/million\": 1279.99, \"death rate(%)\": 0.73}, {\"Country/Region\": \"Latvia\", \"code3\": \"LVA\", \"id\": 428, \"confirmed\": 10636, \"recovered\": 1515, \"deaths\": 126, \"population\": 1927174, \"cases/million\": 5518.96, \"death rate(%)\": 1.18}, {\"Country/Region\": \"Jamaica\", \"code3\": \"JAM\", \"id\": 388, \"confirmed\": 9929, \"recovered\": 5330, \"deaths\": 231, \"population\": 2934855, \"cases/million\": 3383.13, \"death rate(%)\": 2.33}, {\"Country/Region\": \"Haiti\", \"code3\": \"HTI\", \"id\": 332, \"confirmed\": 9188, \"recovered\": 7801, \"deaths\": 232, \"population\": 11123176, \"cases/million\": 826.02, \"death rate(%)\": 2.53}, {\"Country/Region\": \"Botswana\", \"code3\": \"BWA\", \"id\": 72, \"confirmed\": 9103, \"recovered\": 6801, \"deaths\": 30, \"population\": 2254126, \"cases/million\": 4038.37, \"death rate(%)\": 0.33}, {\"Country/Region\": \"Gabon\", \"code3\": \"GAB\", \"id\": 266, \"confirmed\": 9084, \"recovered\": 8957, \"deaths\": 58, \"population\": 2119275, \"cases/million\": 4286.37, \"death rate(%)\": 0.64}, {\"Country/Region\": \"Zimbabwe\", \"code3\": \"ZWE\", \"id\": 716, \"confirmed\": 8897, \"recovered\": 8116, \"deaths\": 257, \"population\": 14439018, \"cases/million\": 616.18, \"death rate(%)\": 2.89}, {\"Country/Region\": \"Malta\", \"code3\": \"MLT\", \"id\": 470, \"confirmed\": 8137, \"recovered\": 5888, \"deaths\": 98, \"population\": 484630, \"cases/million\": 16790.13, \"death rate(%)\": 1.2}, {\"Country/Region\": \"Mauritania\", \"code3\": \"MRT\", \"id\": 478, \"confirmed\": 7979, \"recovered\": 7536, \"deaths\": 165, \"population\": 4403319, \"cases/million\": 1812.04, \"death rate(%)\": 2.07}, {\"Country/Region\": \"Estonia\", \"code3\": \"EST\", \"id\": 233, \"confirmed\": 7848, \"recovered\": 4749, \"deaths\": 81, \"population\": 1321977, \"cases/million\": 5936.56, \"death rate(%)\": 1.03}, {\"Country/Region\": \"Cuba\", \"code3\": \"CUB\", \"id\": 192, \"confirmed\": 7639, \"recovered\": 7078, \"deaths\": 131, \"population\": 11338138, \"cases/million\": 673.74, \"death rate(%)\": 1.71}, {\"Country/Region\": \"Cyprus\", \"code3\": \"CYP\", \"id\": 196, \"confirmed\": 7285, \"recovered\": 2021, \"deaths\": 40, \"population\": 1189265, \"cases/million\": 6125.63, \"death rate(%)\": 0.55}, {\"Country/Region\": \"Trinidad and Tobago\", \"code3\": \"TTO\", \"id\": 780, \"confirmed\": 6096, \"recovered\": 5440, \"deaths\": 112, \"population\": 1389858, \"cases/million\": 4386.06, \"death rate(%)\": 1.84}, {\"Country/Region\": \"Malawi\", \"code3\": \"MWI\", \"id\": 454, \"confirmed\": 5971, \"recovered\": 5402, \"deaths\": 185, \"population\": 18143315, \"cases/million\": 329.1, \"death rate(%)\": 3.1}, {\"Country/Region\": \"Andorra\", \"code3\": \"AND\", \"id\": 20, \"confirmed\": 5914, \"recovered\": 4830, \"deaths\": 76, \"population\": 77006, \"cases/million\": 76799.21, \"death rate(%)\": 1.29}, {\"Country/Region\": \"Nicaragua\", \"code3\": \"NIC\", \"id\": 558, \"confirmed\": 5661, \"recovered\": 4225, \"deaths\": 158, \"population\": 6465513, \"cases/million\": 875.57, \"death rate(%)\": 2.79}, {\"Country/Region\": \"Djibouti\", \"code3\": \"DJI\", \"id\": 262, \"confirmed\": 5655, \"recovered\": 5542, \"deaths\": 61, \"population\": 958920, \"cases/million\": 5897.26, \"death rate(%)\": 1.08}, {\"Country/Region\": \"Rwanda\", \"code3\": \"RWA\", \"id\": 646, \"confirmed\": 5491, \"recovered\": 5004, \"deaths\": 45, \"population\": 12301939, \"cases/million\": 446.35, \"death rate(%)\": 0.82}, {\"Country/Region\": \"Suriname\", \"code3\": \"SUR\", \"id\": 740, \"confirmed\": 5275, \"recovered\": 5148, \"deaths\": 115, \"population\": 575991, \"cases/million\": 9158.13, \"death rate(%)\": 2.18}, {\"Country/Region\": \"Iceland\", \"code3\": \"ISL\", \"id\": 352, \"confirmed\": 5205, \"recovered\": 4840, \"deaths\": 25, \"population\": 352721, \"cases/million\": 14756.71, \"death rate(%)\": 0.48}, {\"Country/Region\": \"Equatorial Guinea\", \"code3\": \"GNQ\", \"id\": 226, \"confirmed\": 5104, \"recovered\": 4973, \"deaths\": 85, \"population\": 1308974, \"cases/million\": 3899.24, \"death rate(%)\": 1.67}, {\"Country/Region\": \"Guyana\", \"code3\": \"GUY\", \"id\": 328, \"confirmed\": 4894, \"recovered\": 3791, \"deaths\": 139, \"population\": 779004, \"cases/million\": 6282.38, \"death rate(%)\": 2.84}, {\"Country/Region\": \"Belize\", \"code3\": \"BLZ\", \"id\": 84, \"confirmed\": 4883, \"recovered\": 2608, \"deaths\": 94, \"population\": 383071, \"cases/million\": 12746.98, \"death rate(%)\": 1.93}, {\"Country/Region\": \"Somalia\", \"code3\": \"SOM\", \"id\": 706, \"confirmed\": 4301, \"recovered\": 3330, \"deaths\": 107, \"population\": 15008154, \"cases/million\": 286.58, \"death rate(%)\": 2.49}, {\"Country/Region\": \"Uruguay\", \"code3\": \"URY\", \"id\": 858, \"confirmed\": 4104, \"recovered\": 3284, \"deaths\": 67, \"population\": 3449299, \"cases/million\": 1189.81, \"death rate(%)\": 1.63}, {\"Country/Region\": \"Mali\", \"code3\": \"MLI\", \"id\": 466, \"confirmed\": 3948, \"recovered\": 2965, \"deaths\": 141, \"population\": 19077690, \"cases/million\": 206.94, \"death rate(%)\": 3.57}, {\"Country/Region\": \"Thailand\", \"code3\": \"THA\", \"id\": 764, \"confirmed\": 3878, \"recovered\": 3724, \"deaths\": 60, \"population\": 69428524, \"cases/million\": 55.86, \"death rate(%)\": 1.55}, {\"Country/Region\": \"Benin\", \"code3\": \"BEN\", \"id\": 204, \"confirmed\": 2884, \"recovered\": 2579, \"deaths\": 43, \"population\": 11485048, \"cases/million\": 251.11, \"death rate(%)\": 1.49}, {\"Country/Region\": \"Togo\", \"code3\": \"TGO\", \"id\": 768, \"confirmed\": 2693, \"recovered\": 1952, \"deaths\": 61, \"population\": 7889094, \"cases/million\": 341.36, \"death rate(%)\": 2.27}, {\"Country/Region\": \"Burkina Faso\", \"code3\": \"BFA\", \"id\": 854, \"confirmed\": 2652, \"recovered\": 2454, \"deaths\": 68, \"population\": 19751535, \"cases/million\": 134.27, \"death rate(%)\": 2.56}, {\"Country/Region\": \"Guinea-Bissau\", \"code3\": \"GNB\", \"id\": 624, \"confirmed\": 2419, \"recovered\": 2255, \"deaths\": 43, \"population\": 1874309, \"cases/million\": 1290.61, \"death rate(%)\": 1.78}, {\"Country/Region\": \"Sierra Leone\", \"code3\": \"SLE\", \"id\": 694, \"confirmed\": 2391, \"recovered\": 1822, \"deaths\": 74, \"population\": 7650154, \"cases/million\": 312.54, \"death rate(%)\": 3.09}, {\"Country/Region\": \"Yemen\", \"code3\": \"YEM\", \"id\": 887, \"confirmed\": 2078, \"recovered\": 1406, \"deaths\": 605, \"population\": 28498687, \"cases/million\": 72.92, \"death rate(%)\": 29.11}, {\"Country/Region\": \"Lesotho\", \"code3\": \"LSO\", \"id\": 426, \"confirmed\": 2041, \"recovered\": 1056, \"deaths\": 44, \"population\": 2108132, \"cases/million\": 968.16, \"death rate(%)\": 2.16}, {\"Country/Region\": \"New Zealand\", \"code3\": \"NZL\", \"id\": 554, \"confirmed\": 2005, \"recovered\": 1919, \"deaths\": 25, \"population\": 4841000, \"cases/million\": 414.17, \"death rate(%)\": 1.25}, {\"Country/Region\": \"Chad\", \"code3\": \"TCD\", \"id\": 148, \"confirmed\": 1603, \"recovered\": 1448, \"deaths\": 101, \"population\": 15477751, \"cases/million\": 103.57, \"death rate(%)\": 6.3}, {\"Country/Region\": \"Liberia\", \"code3\": \"LBR\", \"id\": 430, \"confirmed\": 1512, \"recovered\": 1318, \"deaths\": 82, \"population\": 4818977, \"cases/million\": 313.76, \"death rate(%)\": 5.42}, {\"Country/Region\": \"San Marino\", \"code3\": \"SMR\", \"id\": 674, \"confirmed\": 1290, \"recovered\": 920, \"deaths\": 42, \"population\": 33785, \"cases/million\": 38182.63, \"death rate(%)\": 3.26}, {\"Country/Region\": \"Vietnam\", \"code3\": \"VNM\", \"id\": 704, \"confirmed\": 1283, \"recovered\": 1124, \"deaths\": 35, \"population\": 95540395, \"cases/million\": 13.43, \"death rate(%)\": 2.73}, {\"Country/Region\": \"Liechtenstein\", \"code3\": \"LIE\", \"id\": 438, \"confirmed\": 989, \"recovered\": 763, \"deaths\": 7, \"population\": 37910, \"cases/million\": 26088.1, \"death rate(%)\": 0.71}, {\"Country/Region\": \"Sao Tome and Principe\", \"code3\": \"STP\", \"id\": 678, \"confirmed\": 965, \"recovered\": 917, \"deaths\": 16, \"population\": 211028, \"cases/million\": 4572.85, \"death rate(%)\": 1.66}, {\"Country/Region\": \"Burundi\", \"code3\": \"BDI\", \"id\": 108, \"confirmed\": 630, \"recovered\": 549, \"deaths\": 1, \"population\": 11175378, \"cases/million\": 56.37, \"death rate(%)\": 0.16}, {\"Country/Region\": \"Papua New Guinea\", \"code3\": \"PNG\", \"id\": 598, \"confirmed\": 602, \"recovered\": 586, \"deaths\": 7, \"population\": 8606316, \"cases/million\": 69.95, \"death rate(%)\": 1.16}, {\"Country/Region\": \"Comoros\", \"code3\": \"COM\", \"id\": 174, \"confirmed\": 579, \"recovered\": 549, \"deaths\": 7, \"population\": 832322, \"cases/million\": 695.64, \"death rate(%)\": 1.21}, {\"Country/Region\": \"Monaco\", \"code3\": \"MCO\", \"id\": 492, \"confirmed\": 552, \"recovered\": 462, \"deaths\": 2, \"population\": 38682, \"cases/million\": 14270.2, \"death rate(%)\": 0.36}, {\"Country/Region\": \"Eritrea\", \"code3\": \"ERI\", \"id\": 232, \"confirmed\": 518, \"recovered\": 451, \"deaths\": 0, \"population\": 3213972, \"cases/million\": 161.17, \"death rate(%)\": 0.0}, {\"Country/Region\": \"Mauritius\", \"code3\": \"MUS\", \"id\": 480, \"confirmed\": 491, \"recovered\": 431, \"deaths\": 10, \"population\": 1265303, \"cases/million\": 388.05, \"death rate(%)\": 2.04}, {\"Country/Region\": \"Mongolia\", \"code3\": \"MNG\", \"id\": 496, \"confirmed\": 434, \"recovered\": 328, \"deaths\": 0, \"population\": 3170208, \"cases/million\": 136.9, \"death rate(%)\": 0.0}, {\"Country/Region\": \"Bhutan\", \"code3\": \"BTN\", \"id\": 64, \"confirmed\": 377, \"recovered\": 355, \"deaths\": 0, \"population\": 754394, \"cases/million\": 499.74, \"death rate(%)\": 0.0}, {\"Country/Region\": \"Cambodia\", \"code3\": \"KHM\", \"id\": 116, \"confirmed\": 303, \"recovered\": 291, \"deaths\": 0, \"population\": 16249798, \"cases/million\": 18.65, \"death rate(%)\": 0.0}, {\"Country/Region\": \"Barbados\", \"code3\": \"BRB\", \"id\": 52, \"confirmed\": 250, \"recovered\": 238, \"deaths\": 7, \"population\": 286641, \"cases/million\": 872.17, \"death rate(%)\": 2.8}, {\"Country/Region\": \"Saint Lucia\", \"code3\": \"LCA\", \"id\": 662, \"confirmed\": 171, \"recovered\": 59, \"deaths\": 2, \"population\": 181889, \"cases/million\": 940.13, \"death rate(%)\": 1.17}, {\"Country/Region\": \"Seychelles\", \"code3\": \"SYC\", \"id\": 690, \"confirmed\": 160, \"recovered\": 157, \"deaths\": 0, \"population\": 96762, \"cases/million\": 1653.54, \"death rate(%)\": 0.0}, {\"Country/Region\": \"Antigua and Barbuda\", \"code3\": \"ATG\", \"id\": 28, \"confirmed\": 134, \"recovered\": 127, \"deaths\": 4, \"population\": 96286, \"cases/million\": 1391.69, \"death rate(%)\": 2.99}, {\"Country/Region\": \"Saint Vincent and the Grenadines\", \"code3\": \"VCT\", \"id\": 670, \"confirmed\": 78, \"recovered\": 77, \"deaths\": 0, \"population\": 110210, \"cases/million\": 707.74, \"death rate(%)\": 0.0}, {\"Country/Region\": \"Dominica\", \"code3\": \"DMA\", \"id\": 212, \"confirmed\": 68, \"recovered\": 41, \"deaths\": 0, \"population\": 71625, \"cases/million\": 949.39, \"death rate(%)\": 0.0}, {\"Country/Region\": \"Grenada\", \"code3\": \"GRD\", \"id\": 308, \"confirmed\": 33, \"recovered\": 29, \"deaths\": 0, \"population\": 111454, \"cases/million\": 296.09, \"death rate(%)\": 0.0}, {\"Country/Region\": \"Saint Kitts and Nevis\", \"code3\": \"KNA\", \"id\": 659, \"confirmed\": 19, \"recovered\": 19, \"deaths\": 0, \"population\": 52441, \"cases/million\": 362.31, \"death rate(%)\": 0.0}, {\"Country/Region\": \"Vanuatu\", \"code3\": \"VUT\", \"id\": 548, \"confirmed\": 1, \"recovered\": 0, \"deaths\": 0, \"population\": 292680, \"cases/million\": 3.42, \"death rate(%)\": 0.0}]}}, {\"mode\": \"vega-lite\"});\n",
       "</script>"
      ],
      "text/plain": [
       "alt.LayerChart(...)"
      ]
     },
     "execution_count": 29,
     "metadata": {},
     "output_type": "execute_result"
    }
   ],
   "source": [
    "# Plot Altair 1: Per country total cases and cases/million populations\n",
    "\n",
    "source = final_df\n",
    "\n",
    "#base configuration\n",
    "base = alt.Chart(source).encode(\n",
    "        alt.X('Country/Region:N',sort=None), tooltip=['Country/Region', 'confirmed', 'cases/million']\n",
    ").properties( height = 500,\n",
    "        title='Total Confirmed Cases/Country'\n",
    ")\n",
    "\n",
    "#base title configuration\n",
    "\n",
    "#bar chart\n",
    "bar = base.mark_bar(color='#5276A7').encode(\n",
    "    alt.Y('confirmed:Q', axis=alt.Axis(titleColor='#5276A7'))\n",
    ")\n",
    "#point for cases/million and its axis\n",
    "point = base.mark_circle(size=60, color='red').encode(\n",
    "    alt.Y('cases/million:Q', axis=alt.Axis(titleColor='red'))\n",
    ")\n",
    "#merge the plot\n",
    "alt.layer(bar, point).resolve_scale(y='independent')"
   ]
  },
  {
   "cell_type": "code",
   "execution_count": 30,
   "metadata": {},
   "outputs": [
    {
     "data": {
      "text/html": [
       "\n",
       "<div id=\"altair-viz-8a3f5ebfb2524d4499ad0b89eac1c820\"></div>\n",
       "<script type=\"text/javascript\">\n",
       "  (function(spec, embedOpt){\n",
       "    let outputDiv = document.currentScript.previousElementSibling;\n",
       "    if (outputDiv.id !== \"altair-viz-8a3f5ebfb2524d4499ad0b89eac1c820\") {\n",
       "      outputDiv = document.getElementById(\"altair-viz-8a3f5ebfb2524d4499ad0b89eac1c820\");\n",
       "    }\n",
       "    const paths = {\n",
       "      \"vega\": \"https://cdn.jsdelivr.net/npm//vega@5?noext\",\n",
       "      \"vega-lib\": \"https://cdn.jsdelivr.net/npm//vega-lib?noext\",\n",
       "      \"vega-lite\": \"https://cdn.jsdelivr.net/npm//vega-lite@4.8.1?noext\",\n",
       "      \"vega-embed\": \"https://cdn.jsdelivr.net/npm//vega-embed@6?noext\",\n",
       "    };\n",
       "\n",
       "    function loadScript(lib) {\n",
       "      return new Promise(function(resolve, reject) {\n",
       "        var s = document.createElement('script');\n",
       "        s.src = paths[lib];\n",
       "        s.async = true;\n",
       "        s.onload = () => resolve(paths[lib]);\n",
       "        s.onerror = () => reject(`Error loading script: ${paths[lib]}`);\n",
       "        document.getElementsByTagName(\"head\")[0].appendChild(s);\n",
       "      });\n",
       "    }\n",
       "\n",
       "    function showError(err) {\n",
       "      outputDiv.innerHTML = `<div class=\"error\" style=\"color:red;\">${err}</div>`;\n",
       "      throw err;\n",
       "    }\n",
       "\n",
       "    function displayChart(vegaEmbed) {\n",
       "      vegaEmbed(outputDiv, spec, embedOpt)\n",
       "        .catch(err => showError(`Javascript Error: ${err.message}<br>This usually means there's a typo in your chart specification. See the javascript console for the full traceback.`));\n",
       "    }\n",
       "\n",
       "    if(typeof define === \"function\" && define.amd) {\n",
       "      requirejs.config({paths});\n",
       "      require([\"vega-embed\"], displayChart, err => showError(`Error loading script: ${err.message}`));\n",
       "    } else if (typeof vegaEmbed === \"function\") {\n",
       "      displayChart(vegaEmbed);\n",
       "    } else {\n",
       "      loadScript(\"vega\")\n",
       "        .then(() => loadScript(\"vega-lite\"))\n",
       "        .then(() => loadScript(\"vega-embed\"))\n",
       "        .catch(showError)\n",
       "        .then(() => displayChart(vegaEmbed));\n",
       "    }\n",
       "  })({\"config\": {\"view\": {\"continuousWidth\": 400, \"continuousHeight\": 300}}, \"layer\": [{\"mark\": {\"type\": \"line\", \"color\": \"green\"}, \"encoding\": {\"x\": {\"type\": \"temporal\", \"field\": \"date\"}, \"y\": {\"type\": \"quantitative\", \"field\": \"total confirmed\"}}}, {\"mark\": {\"type\": \"line\", \"color\": \"blue\"}, \"encoding\": {\"x\": {\"type\": \"temporal\", \"field\": \"date\"}, \"y\": {\"type\": \"quantitative\", \"field\": \"total recovered\"}}}, {\"mark\": {\"type\": \"line\", \"color\": \"red\"}, \"encoding\": {\"x\": {\"type\": \"temporal\", \"field\": \"date\"}, \"y\": {\"type\": \"quantitative\", \"field\": \"total deaths\"}}}], \"data\": {\"name\": \"data-9050e07eb35b564169fcd7ec44c8faad\"}, \"width\": 600, \"$schema\": \"https://vega.github.io/schema/vega-lite/v4.8.1.json\", \"datasets\": {\"data-9050e07eb35b564169fcd7ec44c8faad\": [{\"date\": \"1/22/20\", \"total confirmed\": 555, \"daily new cases\": 0.0, \"total recovered\": 28, \"daily new recovered\": 0.0, \"total deaths\": 17, \"daily new deaths\": 0.0}, {\"date\": \"1/23/20\", \"total confirmed\": 654, \"daily new cases\": 99.0, \"total recovered\": 30, \"daily new recovered\": 2.0, \"total deaths\": 18, \"daily new deaths\": 1.0}, {\"date\": \"1/24/20\", \"total confirmed\": 941, \"daily new cases\": 287.0, \"total recovered\": 36, \"daily new recovered\": 6.0, \"total deaths\": 26, \"daily new deaths\": 8.0}, {\"date\": \"1/25/20\", \"total confirmed\": 1434, \"daily new cases\": 493.0, \"total recovered\": 39, \"daily new recovered\": 3.0, \"total deaths\": 42, \"daily new deaths\": 16.0}, {\"date\": \"1/26/20\", \"total confirmed\": 2118, \"daily new cases\": 684.0, \"total recovered\": 52, \"daily new recovered\": 13.0, \"total deaths\": 56, \"daily new deaths\": 14.0}, {\"date\": \"1/27/20\", \"total confirmed\": 2927, \"daily new cases\": 809.0, \"total recovered\": 61, \"daily new recovered\": 9.0, \"total deaths\": 82, \"daily new deaths\": 26.0}, {\"date\": \"1/28/20\", \"total confirmed\": 5578, \"daily new cases\": 2651.0, \"total recovered\": 107, \"daily new recovered\": 46.0, \"total deaths\": 131, \"daily new deaths\": 49.0}, {\"date\": \"1/29/20\", \"total confirmed\": 6167, \"daily new cases\": 589.0, \"total recovered\": 126, \"daily new recovered\": 19.0, \"total deaths\": 133, \"daily new deaths\": 2.0}, {\"date\": \"1/30/20\", \"total confirmed\": 8235, \"daily new cases\": 2068.0, \"total recovered\": 143, \"daily new recovered\": 17.0, \"total deaths\": 171, \"daily new deaths\": 38.0}, {\"date\": \"1/31/20\", \"total confirmed\": 9927, \"daily new cases\": 1692.0, \"total recovered\": 222, \"daily new recovered\": 79.0, \"total deaths\": 213, \"daily new deaths\": 42.0}, {\"date\": \"2/1/20\", \"total confirmed\": 12038, \"daily new cases\": 2111.0, \"total recovered\": 284, \"daily new recovered\": 62.0, \"total deaths\": 259, \"daily new deaths\": 46.0}, {\"date\": \"2/2/20\", \"total confirmed\": 16787, \"daily new cases\": 4749.0, \"total recovered\": 472, \"daily new recovered\": 188.0, \"total deaths\": 362, \"daily new deaths\": 103.0}, {\"date\": \"2/3/20\", \"total confirmed\": 19887, \"daily new cases\": 3100.0, \"total recovered\": 623, \"daily new recovered\": 151.0, \"total deaths\": 426, \"daily new deaths\": 64.0}, {\"date\": \"2/4/20\", \"total confirmed\": 23898, \"daily new cases\": 4011.0, \"total recovered\": 852, \"daily new recovered\": 229.0, \"total deaths\": 492, \"daily new deaths\": 66.0}, {\"date\": \"2/5/20\", \"total confirmed\": 27643, \"daily new cases\": 3745.0, \"total recovered\": 1124, \"daily new recovered\": 272.0, \"total deaths\": 564, \"daily new deaths\": 72.0}, {\"date\": \"2/6/20\", \"total confirmed\": 30803, \"daily new cases\": 3160.0, \"total recovered\": 1487, \"daily new recovered\": 363.0, \"total deaths\": 634, \"daily new deaths\": 70.0}, {\"date\": \"2/7/20\", \"total confirmed\": 34396, \"daily new cases\": 3593.0, \"total recovered\": 2011, \"daily new recovered\": 524.0, \"total deaths\": 719, \"daily new deaths\": 85.0}, {\"date\": \"2/8/20\", \"total confirmed\": 37130, \"daily new cases\": 2734.0, \"total recovered\": 2616, \"daily new recovered\": 605.0, \"total deaths\": 806, \"daily new deaths\": 87.0}, {\"date\": \"2/9/20\", \"total confirmed\": 40160, \"daily new cases\": 3030.0, \"total recovered\": 3244, \"daily new recovered\": 628.0, \"total deaths\": 906, \"daily new deaths\": 100.0}, {\"date\": \"2/10/20\", \"total confirmed\": 42769, \"daily new cases\": 2609.0, \"total recovered\": 3946, \"daily new recovered\": 702.0, \"total deaths\": 1013, \"daily new deaths\": 107.0}, {\"date\": \"2/11/20\", \"total confirmed\": 44811, \"daily new cases\": 2042.0, \"total recovered\": 4683, \"daily new recovered\": 737.0, \"total deaths\": 1113, \"daily new deaths\": 100.0}, {\"date\": \"2/12/20\", \"total confirmed\": 45229, \"daily new cases\": 418.0, \"total recovered\": 5150, \"daily new recovered\": 467.0, \"total deaths\": 1118, \"daily new deaths\": 5.0}, {\"date\": \"2/13/20\", \"total confirmed\": 60382, \"daily new cases\": 15153.0, \"total recovered\": 6295, \"daily new recovered\": 1145.0, \"total deaths\": 1371, \"daily new deaths\": 253.0}, {\"date\": \"2/14/20\", \"total confirmed\": 66909, \"daily new cases\": 6527.0, \"total recovered\": 8058, \"daily new recovered\": 1763.0, \"total deaths\": 1523, \"daily new deaths\": 152.0}, {\"date\": \"2/15/20\", \"total confirmed\": 69051, \"daily new cases\": 2142.0, \"total recovered\": 9395, \"daily new recovered\": 1337.0, \"total deaths\": 1666, \"daily new deaths\": 143.0}, {\"date\": \"2/16/20\", \"total confirmed\": 71235, \"daily new cases\": 2184.0, \"total recovered\": 10865, \"daily new recovered\": 1470.0, \"total deaths\": 1770, \"daily new deaths\": 104.0}, {\"date\": \"2/17/20\", \"total confirmed\": 73270, \"daily new cases\": 2035.0, \"total recovered\": 12583, \"daily new recovered\": 1718.0, \"total deaths\": 1868, \"daily new deaths\": 98.0}, {\"date\": \"2/18/20\", \"total confirmed\": 75152, \"daily new cases\": 1882.0, \"total recovered\": 14352, \"daily new recovered\": 1769.0, \"total deaths\": 2008, \"daily new deaths\": 140.0}, {\"date\": \"2/19/20\", \"total confirmed\": 75652, \"daily new cases\": 500.0, \"total recovered\": 16121, \"daily new recovered\": 1769.0, \"total deaths\": 2123, \"daily new deaths\": 115.0}, {\"date\": \"2/20/20\", \"total confirmed\": 76212, \"daily new cases\": 560.0, \"total recovered\": 18177, \"daily new recovered\": 2056.0, \"total deaths\": 2248, \"daily new deaths\": 125.0}, {\"date\": \"2/21/20\", \"total confirmed\": 76841, \"daily new cases\": 629.0, \"total recovered\": 18890, \"daily new recovered\": 713.0, \"total deaths\": 2252, \"daily new deaths\": 4.0}, {\"date\": \"2/22/20\", \"total confirmed\": 78602, \"daily new cases\": 1761.0, \"total recovered\": 22886, \"daily new recovered\": 3996.0, \"total deaths\": 2459, \"daily new deaths\": 207.0}, {\"date\": \"2/23/20\", \"total confirmed\": 78982, \"daily new cases\": 380.0, \"total recovered\": 23394, \"daily new recovered\": 508.0, \"total deaths\": 2470, \"daily new deaths\": 11.0}, {\"date\": \"2/24/20\", \"total confirmed\": 79546, \"daily new cases\": 564.0, \"total recovered\": 25227, \"daily new recovered\": 1833.0, \"total deaths\": 2630, \"daily new deaths\": 160.0}, {\"date\": \"2/25/20\", \"total confirmed\": 80399, \"daily new cases\": 853.0, \"total recovered\": 27905, \"daily new recovered\": 2678.0, \"total deaths\": 2710, \"daily new deaths\": 80.0}, {\"date\": \"2/26/20\", \"total confirmed\": 81376, \"daily new cases\": 977.0, \"total recovered\": 30384, \"daily new recovered\": 2479.0, \"total deaths\": 2771, \"daily new deaths\": 61.0}, {\"date\": \"2/27/20\", \"total confirmed\": 82736, \"daily new cases\": 1360.0, \"total recovered\": 33277, \"daily new recovered\": 2893.0, \"total deaths\": 2814, \"daily new deaths\": 43.0}, {\"date\": \"2/28/20\", \"total confirmed\": 84121, \"daily new cases\": 1385.0, \"total recovered\": 36711, \"daily new recovered\": 3434.0, \"total deaths\": 2873, \"daily new deaths\": 59.0}, {\"date\": \"2/29/20\", \"total confirmed\": 86014, \"daily new cases\": 1893.0, \"total recovered\": 39782, \"daily new recovered\": 3071.0, \"total deaths\": 2942, \"daily new deaths\": 69.0}, {\"date\": \"3/1/20\", \"total confirmed\": 88397, \"daily new cases\": 2383.0, \"total recovered\": 42716, \"daily new recovered\": 2934.0, \"total deaths\": 2996, \"daily new deaths\": 54.0}, {\"date\": \"3/2/20\", \"total confirmed\": 90375, \"daily new cases\": 1978.0, \"total recovered\": 45602, \"daily new recovered\": 2886.0, \"total deaths\": 3085, \"daily new deaths\": 89.0}, {\"date\": \"3/3/20\", \"total confirmed\": 92959, \"daily new cases\": 2584.0, \"total recovered\": 48228, \"daily new recovered\": 2626.0, \"total deaths\": 3160, \"daily new deaths\": 75.0}, {\"date\": \"3/4/20\", \"total confirmed\": 95276, \"daily new cases\": 2317.0, \"total recovered\": 51170, \"daily new recovered\": 2942.0, \"total deaths\": 3255, \"daily new deaths\": 95.0}, {\"date\": \"3/5/20\", \"total confirmed\": 98040, \"daily new cases\": 2764.0, \"total recovered\": 53796, \"daily new recovered\": 2626.0, \"total deaths\": 3348, \"daily new deaths\": 93.0}, {\"date\": \"3/6/20\", \"total confirmed\": 102040, \"daily new cases\": 4000.0, \"total recovered\": 55865, \"daily new recovered\": 2069.0, \"total deaths\": 3460, \"daily new deaths\": 112.0}, {\"date\": \"3/7/20\", \"total confirmed\": 106102, \"daily new cases\": 4062.0, \"total recovered\": 58359, \"daily new recovered\": 2494.0, \"total deaths\": 3559, \"daily new deaths\": 99.0}, {\"date\": \"3/8/20\", \"total confirmed\": 110062, \"daily new cases\": 3960.0, \"total recovered\": 60694, \"daily new recovered\": 2335.0, \"total deaths\": 3803, \"daily new deaths\": 244.0}, {\"date\": \"3/9/20\", \"total confirmed\": 114025, \"daily new cases\": 3963.0, \"total recovered\": 62493, \"daily new recovered\": 1799.0, \"total deaths\": 3987, \"daily new deaths\": 184.0}, {\"date\": \"3/10/20\", \"total confirmed\": 119036, \"daily new cases\": 5011.0, \"total recovered\": 64404, \"daily new recovered\": 1911.0, \"total deaths\": 4267, \"daily new deaths\": 280.0}, {\"date\": \"3/11/20\", \"total confirmed\": 126717, \"daily new cases\": 7681.0, \"total recovered\": 67002, \"daily new recovered\": 2598.0, \"total deaths\": 4611, \"daily new deaths\": 344.0}, {\"date\": \"3/12/20\", \"total confirmed\": 132506, \"daily new cases\": 5789.0, \"total recovered\": 68324, \"daily new recovered\": 1322.0, \"total deaths\": 4917, \"daily new deaths\": 306.0}, {\"date\": \"3/13/20\", \"total confirmed\": 146887, \"daily new cases\": 14381.0, \"total recovered\": 70251, \"daily new recovered\": 1927.0, \"total deaths\": 5414, \"daily new deaths\": 497.0}, {\"date\": \"3/14/20\", \"total confirmed\": 157965, \"daily new cases\": 11078.0, \"total recovered\": 72622, \"daily new recovered\": 2371.0, \"total deaths\": 5834, \"daily new deaths\": 420.0}, {\"date\": \"3/15/20\", \"total confirmed\": 169258, \"daily new cases\": 11293.0, \"total recovered\": 76032, \"daily new recovered\": 3410.0, \"total deaths\": 6475, \"daily new deaths\": 641.0}, {\"date\": \"3/16/20\", \"total confirmed\": 184002, \"daily new cases\": 14744.0, \"total recovered\": 78086, \"daily new recovered\": 2054.0, \"total deaths\": 7153, \"daily new deaths\": 678.0}, {\"date\": \"3/17/20\", \"total confirmed\": 199933, \"daily new cases\": 15931.0, \"total recovered\": 80838, \"daily new recovered\": 2752.0, \"total deaths\": 7964, \"daily new deaths\": 811.0}, {\"date\": \"3/18/20\", \"total confirmed\": 219466, \"daily new cases\": 19533.0, \"total recovered\": 83321, \"daily new recovered\": 2483.0, \"total deaths\": 8867, \"daily new deaths\": 903.0}, {\"date\": \"3/19/20\", \"total confirmed\": 246622, \"daily new cases\": 27156.0, \"total recovered\": 84958, \"daily new recovered\": 1637.0, \"total deaths\": 9980, \"daily new deaths\": 1113.0}, {\"date\": \"3/20/20\", \"total confirmed\": 277257, \"daily new cases\": 30635.0, \"total recovered\": 87403, \"daily new recovered\": 2445.0, \"total deaths\": 11461, \"daily new deaths\": 1481.0}, {\"date\": \"3/21/20\", \"total confirmed\": 309226, \"daily new cases\": 31969.0, \"total recovered\": 91670, \"daily new recovered\": 4267.0, \"total deaths\": 13181, \"daily new deaths\": 1720.0}, {\"date\": \"3/22/20\", \"total confirmed\": 343464, \"daily new cases\": 34238.0, \"total recovered\": 97885, \"daily new recovered\": 6215.0, \"total deaths\": 14855, \"daily new deaths\": 1674.0}, {\"date\": \"3/23/20\", \"total confirmed\": 386832, \"daily new cases\": 43368.0, \"total recovered\": 98351, \"daily new recovered\": 466.0, \"total deaths\": 16797, \"daily new deaths\": 1942.0}, {\"date\": \"3/24/20\", \"total confirmed\": 428304, \"daily new cases\": 41472.0, \"total recovered\": 107992, \"daily new recovered\": 9641.0, \"total deaths\": 19081, \"daily new deaths\": 2284.0}, {\"date\": \"3/25/20\", \"total confirmed\": 479288, \"daily new cases\": 50984.0, \"total recovered\": 113775, \"daily new recovered\": 5783.0, \"total deaths\": 21881, \"daily new deaths\": 2800.0}, {\"date\": \"3/26/20\", \"total confirmed\": 542014, \"daily new cases\": 62726.0, \"total recovered\": 122145, \"daily new recovered\": 8370.0, \"total deaths\": 24901, \"daily new deaths\": 3020.0}, {\"date\": \"3/27/20\", \"total confirmed\": 607005, \"daily new cases\": 64991.0, \"total recovered\": 130921, \"daily new recovered\": 8776.0, \"total deaths\": 28394, \"daily new deaths\": 3493.0}, {\"date\": \"3/28/20\", \"total confirmed\": 674387, \"daily new cases\": 67382.0, \"total recovered\": 139424, \"daily new recovered\": 8503.0, \"total deaths\": 32107, \"daily new deaths\": 3713.0}, {\"date\": \"3/29/20\", \"total confirmed\": 733786, \"daily new cases\": 59399.0, \"total recovered\": 148891, \"daily new recovered\": 9467.0, \"total deaths\": 35584, \"daily new deaths\": 3477.0}, {\"date\": \"3/30/20\", \"total confirmed\": 799023, \"daily new cases\": 65237.0, \"total recovered\": 164337, \"daily new recovered\": 15446.0, \"total deaths\": 39636, \"daily new deaths\": 4052.0}, {\"date\": \"3/31/20\", \"total confirmed\": 875852, \"daily new cases\": 76829.0, \"total recovered\": 177825, \"daily new recovered\": 13488.0, \"total deaths\": 44388, \"daily new deaths\": 4752.0}, {\"date\": \"4/1/20\", \"total confirmed\": 952378, \"daily new cases\": 76526.0, \"total recovered\": 192918, \"daily new recovered\": 15093.0, \"total deaths\": 49894, \"daily new deaths\": 5506.0}, {\"date\": \"4/2/20\", \"total confirmed\": 1033709, \"daily new cases\": 81331.0, \"total recovered\": 209967, \"daily new recovered\": 17049.0, \"total deaths\": 56131, \"daily new deaths\": 6237.0}, {\"date\": \"4/3/20\", \"total confirmed\": 1116962, \"daily new cases\": 83253.0, \"total recovered\": 225415, \"daily new recovered\": 15448.0, \"total deaths\": 62237, \"daily new deaths\": 6106.0}, {\"date\": \"4/4/20\", \"total confirmed\": 1197316, \"daily new cases\": 80354.0, \"total recovered\": 245832, \"daily new recovered\": 20417.0, \"total deaths\": 68404, \"daily new deaths\": 6167.0}, {\"date\": \"4/5/20\", \"total confirmed\": 1269293, \"daily new cases\": 71977.0, \"total recovered\": 259672, \"daily new recovered\": 13840.0, \"total deaths\": 73569, \"daily new deaths\": 5165.0}, {\"date\": \"4/6/20\", \"total confirmed\": 1342527, \"daily new cases\": 73234.0, \"total recovered\": 276252, \"daily new recovered\": 16580.0, \"total deaths\": 79516, \"daily new deaths\": 5947.0}, {\"date\": \"4/7/20\", \"total confirmed\": 1420267, \"daily new cases\": 77740.0, \"total recovered\": 299643, \"daily new recovered\": 23391.0, \"total deaths\": 87740, \"daily new deaths\": 8224.0}, {\"date\": \"4/8/20\", \"total confirmed\": 1504298, \"daily new cases\": 84031.0, \"total recovered\": 328359, \"daily new recovered\": 28716.0, \"total deaths\": 94501, \"daily new deaths\": 6761.0}, {\"date\": \"4/9/20\", \"total confirmed\": 1590779, \"daily new cases\": 86481.0, \"total recovered\": 353707, \"daily new recovered\": 25348.0, \"total deaths\": 102277, \"daily new deaths\": 7776.0}, {\"date\": \"4/10/20\", \"total confirmed\": 1678319, \"daily new cases\": 87540.0, \"total recovered\": 375509, \"daily new recovered\": 21802.0, \"total deaths\": 109662, \"daily new deaths\": 7385.0}, {\"date\": \"4/11/20\", \"total confirmed\": 1754535, \"daily new cases\": 76216.0, \"total recovered\": 401766, \"daily new recovered\": 26257.0, \"total deaths\": 115903, \"daily new deaths\": 6241.0}, {\"date\": \"4/12/20\", \"total confirmed\": 1849888, \"daily new cases\": 95353.0, \"total recovered\": 421180, \"daily new recovered\": 19414.0, \"total deaths\": 121712, \"daily new deaths\": 5809.0}, {\"date\": \"4/13/20\", \"total confirmed\": 1920033, \"daily new cases\": 70145.0, \"total recovered\": 448347, \"daily new recovered\": 27167.0, \"total deaths\": 127628, \"daily new deaths\": 5916.0}, {\"date\": \"4/14/20\", \"total confirmed\": 1991379, \"daily new cases\": 71346.0, \"total recovered\": 473436, \"daily new recovered\": 25089.0, \"total deaths\": 134598, \"daily new deaths\": 6970.0}, {\"date\": \"4/15/20\", \"total confirmed\": 2073252, \"daily new cases\": 81873.0, \"total recovered\": 510106, \"daily new recovered\": 36670.0, \"total deaths\": 142949, \"daily new deaths\": 8351.0}, {\"date\": \"4/16/20\", \"total confirmed\": 2170173, \"daily new cases\": 96921.0, \"total recovered\": 540926, \"daily new recovered\": 30820.0, \"total deaths\": 150247, \"daily new deaths\": 7298.0}, {\"date\": \"4/17/20\", \"total confirmed\": 2257986, \"daily new cases\": 87813.0, \"total recovered\": 567049, \"daily new recovered\": 26123.0, \"total deaths\": 158612, \"daily new deaths\": 8365.0}, {\"date\": \"4/18/20\", \"total confirmed\": 2331380, \"daily new cases\": 73394.0, \"total recovered\": 590968, \"daily new recovered\": 23919.0, \"total deaths\": 164635, \"daily new deaths\": 6023.0}, {\"date\": \"4/19/20\", \"total confirmed\": 2411352, \"daily new cases\": 79972.0, \"total recovered\": 622623, \"daily new recovered\": 31655.0, \"total deaths\": 169897, \"daily new deaths\": 5262.0}, {\"date\": \"4/20/20\", \"total confirmed\": 2485855, \"daily new cases\": 74503.0, \"total recovered\": 644613, \"daily new recovered\": 21990.0, \"total deaths\": 175755, \"daily new deaths\": 5858.0}, {\"date\": \"4/21/20\", \"total confirmed\": 2561734, \"daily new cases\": 75879.0, \"total recovered\": 679456, \"daily new recovered\": 34843.0, \"total deaths\": 182940, \"daily new deaths\": 7185.0}, {\"date\": \"4/22/20\", \"total confirmed\": 2639753, \"daily new cases\": 78019.0, \"total recovered\": 709881, \"daily new recovered\": 30425.0, \"total deaths\": 189671, \"daily new deaths\": 6731.0}, {\"date\": \"4/23/20\", \"total confirmed\": 2727810, \"daily new cases\": 88057.0, \"total recovered\": 738661, \"daily new recovered\": 28780.0, \"total deaths\": 196509, \"daily new deaths\": 6838.0}, {\"date\": \"4/24/20\", \"total confirmed\": 2812183, \"daily new cases\": 84373.0, \"total recovered\": 788712, \"daily new recovered\": 50051.0, \"total deaths\": 203172, \"daily new deaths\": 6663.0}, {\"date\": \"4/25/20\", \"total confirmed\": 2895430, \"daily new cases\": 83247.0, \"total recovered\": 816491, \"daily new recovered\": 27779.0, \"total deaths\": 208809, \"daily new deaths\": 5637.0}, {\"date\": \"4/26/20\", \"total confirmed\": 2967570, \"daily new cases\": 72140.0, \"total recovered\": 845096, \"daily new recovered\": 28605.0, \"total deaths\": 212748, \"daily new deaths\": 3939.0}, {\"date\": \"4/27/20\", \"total confirmed\": 3037260, \"daily new cases\": 69690.0, \"total recovered\": 872865, \"daily new recovered\": 27769.0, \"total deaths\": 217421, \"daily new deaths\": 4673.0}, {\"date\": \"4/28/20\", \"total confirmed\": 3112744, \"daily new cases\": 75484.0, \"total recovered\": 906136, \"daily new recovered\": 33271.0, \"total deaths\": 223968, \"daily new deaths\": 6547.0}, {\"date\": \"4/29/20\", \"total confirmed\": 3190206, \"daily new cases\": 77462.0, \"total recovered\": 948318, \"daily new recovered\": 42182.0, \"total deaths\": 230702, \"daily new deaths\": 6734.0}, {\"date\": \"4/30/20\", \"total confirmed\": 3273554, \"daily new cases\": 83348.0, \"total recovered\": 1013284, \"daily new recovered\": 64966.0, \"total deaths\": 236698, \"daily new deaths\": 5996.0}, {\"date\": \"5/1/20\", \"total confirmed\": 3360744, \"daily new cases\": 87190.0, \"total recovered\": 1051537, \"daily new recovered\": 38253.0, \"total deaths\": 241847, \"daily new deaths\": 5149.0}, {\"date\": \"5/2/20\", \"total confirmed\": 3440791, \"daily new cases\": 80047.0, \"total recovered\": 1092416, \"daily new recovered\": 40879.0, \"total deaths\": 247325, \"daily new deaths\": 5478.0}, {\"date\": \"5/3/20\", \"total confirmed\": 3517314, \"daily new cases\": 76523.0, \"total recovered\": 1124732, \"daily new recovered\": 32316.0, \"total deaths\": 250797, \"daily new deaths\": 3472.0}, {\"date\": \"5/4/20\", \"total confirmed\": 3594392, \"daily new cases\": 77078.0, \"total recovered\": 1158819, \"daily new recovered\": 34087.0, \"total deaths\": 254896, \"daily new deaths\": 4099.0}, {\"date\": \"5/5/20\", \"total confirmed\": 3674847, \"daily new cases\": 80455.0, \"total recovered\": 1195359, \"daily new recovered\": 36540.0, \"total deaths\": 260783, \"daily new deaths\": 5887.0}, {\"date\": \"5/6/20\", \"total confirmed\": 3764761, \"daily new cases\": 89914.0, \"total recovered\": 1241365, \"daily new recovered\": 46006.0, \"total deaths\": 267326, \"daily new deaths\": 6543.0}, {\"date\": \"5/7/20\", \"total confirmed\": 3853781, \"daily new cases\": 89020.0, \"total recovered\": 1280833, \"daily new recovered\": 39468.0, \"total deaths\": 272618, \"daily new deaths\": 5292.0}, {\"date\": \"5/8/20\", \"total confirmed\": 3944952, \"daily new cases\": 91171.0, \"total recovered\": 1317383, \"daily new recovered\": 36550.0, \"total deaths\": 278098, \"daily new deaths\": 5480.0}, {\"date\": \"5/9/20\", \"total confirmed\": 4029875, \"daily new cases\": 84923.0, \"total recovered\": 1370933, \"daily new recovered\": 53550.0, \"total deaths\": 282385, \"daily new deaths\": 4287.0}, {\"date\": \"5/10/20\", \"total confirmed\": 4105071, \"daily new cases\": 75196.0, \"total recovered\": 1404527, \"daily new recovered\": 33594.0, \"total deaths\": 285979, \"daily new deaths\": 3594.0}, {\"date\": \"5/11/20\", \"total confirmed\": 4181946, \"daily new cases\": 76875.0, \"total recovered\": 1451521, \"daily new recovered\": 46994.0, \"total deaths\": 289447, \"daily new deaths\": 3468.0}, {\"date\": \"5/12/20\", \"total confirmed\": 4266204, \"daily new cases\": 84258.0, \"total recovered\": 1488542, \"daily new recovered\": 37021.0, \"total deaths\": 294969, \"daily new deaths\": 5522.0}, {\"date\": \"5/13/20\", \"total confirmed\": 4351024, \"daily new cases\": 84820.0, \"total recovered\": 1544398, \"daily new recovered\": 55856.0, \"total deaths\": 300046, \"daily new deaths\": 5077.0}, {\"date\": \"5/14/20\", \"total confirmed\": 4447706, \"daily new cases\": 96682.0, \"total recovered\": 1584114, \"daily new recovered\": 39716.0, \"total deaths\": 305227, \"daily new deaths\": 5181.0}, {\"date\": \"5/15/20\", \"total confirmed\": 4544030, \"daily new cases\": 96324.0, \"total recovered\": 1632122, \"daily new recovered\": 48008.0, \"total deaths\": 310343, \"daily new deaths\": 5116.0}, {\"date\": \"5/16/20\", \"total confirmed\": 4638236, \"daily new cases\": 94206.0, \"total recovered\": 1688714, \"daily new recovered\": 56592.0, \"total deaths\": 314519, \"daily new deaths\": 4176.0}, {\"date\": \"5/17/20\", \"total confirmed\": 4715641, \"daily new cases\": 77405.0, \"total recovered\": 1729621, \"daily new recovered\": 40907.0, \"total deaths\": 317804, \"daily new deaths\": 3285.0}, {\"date\": \"5/18/20\", \"total confirmed\": 4804359, \"daily new cases\": 88718.0, \"total recovered\": 1782542, \"daily new recovered\": 52921.0, \"total deaths\": 321499, \"daily new deaths\": 3695.0}, {\"date\": \"5/19/20\", \"total confirmed\": 4901497, \"daily new cases\": 97138.0, \"total recovered\": 1834647, \"daily new recovered\": 52105.0, \"total deaths\": 326219, \"daily new deaths\": 4720.0}, {\"date\": \"5/20/20\", \"total confirmed\": 5004250, \"daily new cases\": 102753.0, \"total recovered\": 1893575, \"daily new recovered\": 58928.0, \"total deaths\": 330979, \"daily new deaths\": 4760.0}, {\"date\": \"5/21/20\", \"total confirmed\": 5110815, \"daily new cases\": 106565.0, \"total recovered\": 1944840, \"daily new recovered\": 51265.0, \"total deaths\": 335704, \"daily new deaths\": 4725.0}, {\"date\": \"5/22/20\", \"total confirmed\": 5216798, \"daily new cases\": 105983.0, \"total recovered\": 2053491, \"daily new recovered\": 108651.0, \"total deaths\": 340899, \"daily new deaths\": 5195.0}, {\"date\": \"5/23/20\", \"total confirmed\": 5321424, \"daily new cases\": 104626.0, \"total recovered\": 2108462, \"daily new recovered\": 54971.0, \"total deaths\": 344815, \"daily new deaths\": 3916.0}, {\"date\": \"5/24/20\", \"total confirmed\": 5415901, \"daily new cases\": 94477.0, \"total recovered\": 2163902, \"daily new recovered\": 55440.0, \"total deaths\": 347937, \"daily new deaths\": 3122.0}, {\"date\": \"5/25/20\", \"total confirmed\": 5502250, \"daily new cases\": 86349.0, \"total recovered\": 2227625, \"daily new recovered\": 63723.0, \"total deaths\": 349138, \"daily new deaths\": 1201.0}, {\"date\": \"5/26/20\", \"total confirmed\": 5595501, \"daily new cases\": 93251.0, \"total recovered\": 2282839, \"daily new recovered\": 55214.0, \"total deaths\": 353258, \"daily new deaths\": 4120.0}, {\"date\": \"5/27/20\", \"total confirmed\": 5698506, \"daily new cases\": 103005.0, \"total recovered\": 2346232, \"daily new recovered\": 63393.0, \"total deaths\": 358394, \"daily new deaths\": 5136.0}, {\"date\": \"5/28/20\", \"total confirmed\": 5818020, \"daily new cases\": 119514.0, \"total recovered\": 2413089, \"daily new recovered\": 66857.0, \"total deaths\": 363017, \"daily new deaths\": 4623.0}, {\"date\": \"5/29/20\", \"total confirmed\": 5938915, \"daily new cases\": 120895.0, \"total recovered\": 2490435, \"daily new recovered\": 77346.0, \"total deaths\": 367604, \"daily new deaths\": 4587.0}, {\"date\": \"5/30/20\", \"total confirmed\": 6075869, \"daily new cases\": 136954.0, \"total recovered\": 2560888, \"daily new recovered\": 70453.0, \"total deaths\": 371669, \"daily new deaths\": 4065.0}, {\"date\": \"5/31/20\", \"total confirmed\": 6182468, \"daily new cases\": 106599.0, \"total recovered\": 2637208, \"daily new recovered\": 76320.0, \"total deaths\": 374645, \"daily new deaths\": 2976.0}, {\"date\": \"6/1/20\", \"total confirmed\": 6277971, \"daily new cases\": 95503.0, \"total recovered\": 2692105, \"daily new recovered\": 54897.0, \"total deaths\": 377722, \"daily new deaths\": 3077.0}, {\"date\": \"6/2/20\", \"total confirmed\": 6399352, \"daily new cases\": 121381.0, \"total recovered\": 2796228, \"daily new recovered\": 104123.0, \"total deaths\": 382445, \"daily new deaths\": 4723.0}, {\"date\": \"6/3/20\", \"total confirmed\": 6517447, \"daily new cases\": 118095.0, \"total recovered\": 2875332, \"daily new recovered\": 79104.0, \"total deaths\": 387881, \"daily new deaths\": 5436.0}, {\"date\": \"6/4/20\", \"total confirmed\": 6644274, \"daily new cases\": 126827.0, \"total recovered\": 2945385, \"daily new recovered\": 70053.0, \"total deaths\": 392997, \"daily new deaths\": 5116.0}, {\"date\": \"6/5/20\", \"total confirmed\": 6775073, \"daily new cases\": 130799.0, \"total recovered\": 3014544, \"daily new recovered\": 69159.0, \"total deaths\": 397563, \"daily new deaths\": 4566.0}, {\"date\": \"6/6/20\", \"total confirmed\": 6909702, \"daily new cases\": 134629.0, \"total recovered\": 3086748, \"daily new recovered\": 72204.0, \"total deaths\": 401413, \"daily new deaths\": 3850.0}, {\"date\": \"6/7/20\", \"total confirmed\": 7021606, \"daily new cases\": 111904.0, \"total recovered\": 3141849, \"daily new recovered\": 55101.0, \"total deaths\": 404157, \"daily new deaths\": 2744.0}, {\"date\": \"6/8/20\", \"total confirmed\": 7124085, \"daily new cases\": 102479.0, \"total recovered\": 3293412, \"daily new recovered\": 151563.0, \"total deaths\": 407836, \"daily new deaths\": 3679.0}, {\"date\": \"6/9/20\", \"total confirmed\": 7248720, \"daily new cases\": 124635.0, \"total recovered\": 3375694, \"daily new recovered\": 82282.0, \"total deaths\": 412671, \"daily new deaths\": 4835.0}, {\"date\": \"6/10/20\", \"total confirmed\": 7383167, \"daily new cases\": 134447.0, \"total recovered\": 3454832, \"daily new recovered\": 79138.0, \"total deaths\": 417730, \"daily new deaths\": 5059.0}, {\"date\": \"6/11/20\", \"total confirmed\": 7521337, \"daily new cases\": 138170.0, \"total recovered\": 3540714, \"daily new recovered\": 85882.0, \"total deaths\": 422412, \"daily new deaths\": 4682.0}, {\"date\": \"6/12/20\", \"total confirmed\": 7649809, \"daily new cases\": 128472.0, \"total recovered\": 3620438, \"daily new recovered\": 79724.0, \"total deaths\": 426627, \"daily new deaths\": 4215.0}, {\"date\": \"6/13/20\", \"total confirmed\": 7785133, \"daily new cases\": 135324.0, \"total recovered\": 3706372, \"daily new recovered\": 85934.0, \"total deaths\": 430818, \"daily new deaths\": 4191.0}, {\"date\": \"6/14/20\", \"total confirmed\": 7917785, \"daily new cases\": 132652.0, \"total recovered\": 3777157, \"daily new recovered\": 70785.0, \"total deaths\": 434230, \"daily new deaths\": 3412.0}, {\"date\": \"6/15/20\", \"total confirmed\": 8037530, \"daily new cases\": 119745.0, \"total recovered\": 3857365, \"daily new recovered\": 80208.0, \"total deaths\": 437649, \"daily new deaths\": 3419.0}, {\"date\": \"6/16/20\", \"total confirmed\": 8179373, \"daily new cases\": 141843.0, \"total recovered\": 3955205, \"daily new recovered\": 97840.0, \"total deaths\": 444367, \"daily new deaths\": 6718.0}, {\"date\": \"6/17/20\", \"total confirmed\": 8321890, \"daily new cases\": 142517.0, \"total recovered\": 4073992, \"daily new recovered\": 118787.0, \"total deaths\": 449456, \"daily new deaths\": 5089.0}, {\"date\": \"6/18/20\", \"total confirmed\": 8462195, \"daily new cases\": 140305.0, \"total recovered\": 4155134, \"daily new recovered\": 81142.0, \"total deaths\": 454436, \"daily new deaths\": 4980.0}, {\"date\": \"6/19/20\", \"total confirmed\": 8642028, \"daily new cases\": 179833.0, \"total recovered\": 4250149, \"daily new recovered\": 95015.0, \"total deaths\": 460586, \"daily new deaths\": 6150.0}, {\"date\": \"6/20/20\", \"total confirmed\": 8799120, \"daily new cases\": 157092.0, \"total recovered\": 4365974, \"daily new recovered\": 115825.0, \"total deaths\": 464790, \"daily new deaths\": 4204.0}, {\"date\": \"6/21/20\", \"total confirmed\": 8927408, \"daily new cases\": 128288.0, \"total recovered\": 4434711, \"daily new recovered\": 68737.0, \"total deaths\": 468799, \"daily new deaths\": 4009.0}, {\"date\": \"6/22/20\", \"total confirmed\": 9065315, \"daily new cases\": 137907.0, \"total recovered\": 4526337, \"daily new recovered\": 91626.0, \"total deaths\": 472358, \"daily new deaths\": 3559.0}, {\"date\": \"6/23/20\", \"total confirmed\": 9230605, \"daily new cases\": 165290.0, \"total recovered\": 4630412, \"daily new recovered\": 104075.0, \"total deaths\": 477580, \"daily new deaths\": 5222.0}, {\"date\": \"6/24/20\", \"total confirmed\": 9401467, \"daily new cases\": 170862.0, \"total recovered\": 4746172, \"daily new recovered\": 115760.0, \"total deaths\": 482750, \"daily new deaths\": 5170.0}, {\"date\": \"6/25/20\", \"total confirmed\": 9579792, \"daily new cases\": 178325.0, \"total recovered\": 4839028, \"daily new recovered\": 92856.0, \"total deaths\": 487444, \"daily new deaths\": 4694.0}, {\"date\": \"6/26/20\", \"total confirmed\": 9771190, \"daily new cases\": 191398.0, \"total recovered\": 4945742, \"daily new recovered\": 106714.0, \"total deaths\": 492146, \"daily new deaths\": 4702.0}, {\"date\": \"6/27/20\", \"total confirmed\": 9949650, \"daily new cases\": 178460.0, \"total recovered\": 5052107, \"daily new recovered\": 106365.0, \"total deaths\": 496609, \"daily new deaths\": 4463.0}, {\"date\": \"6/28/20\", \"total confirmed\": 10111445, \"daily new cases\": 161795.0, \"total recovered\": 5141227, \"daily new recovered\": 89120.0, \"total deaths\": 499752, \"daily new deaths\": 3143.0}, {\"date\": \"6/29/20\", \"total confirmed\": 10267631, \"daily new cases\": 156186.0, \"total recovered\": 5235793, \"daily new recovered\": 94566.0, \"total deaths\": 503476, \"daily new deaths\": 3724.0}, {\"date\": \"6/30/20\", \"total confirmed\": 10441739, \"daily new cases\": 174108.0, \"total recovered\": 5353115, \"daily new recovered\": 117322.0, \"total deaths\": 508425, \"daily new deaths\": 4949.0}, {\"date\": \"7/1/20\", \"total confirmed\": 10658951, \"daily new cases\": 217212.0, \"total recovered\": 5469041, \"daily new recovered\": 115926.0, \"total deaths\": 513353, \"daily new deaths\": 4928.0}, {\"date\": \"7/2/20\", \"total confirmed\": 10867065, \"daily new cases\": 208114.0, \"total recovered\": 5753918, \"daily new recovered\": 284877.0, \"total deaths\": 518416, \"daily new deaths\": 5063.0}, {\"date\": \"7/3/20\", \"total confirmed\": 11069750, \"daily new cases\": 202685.0, \"total recovered\": 5863818, \"daily new recovered\": 109900.0, \"total deaths\": 523351, \"daily new deaths\": 4935.0}, {\"date\": \"7/4/20\", \"total confirmed\": 11263591, \"daily new cases\": 193841.0, \"total recovered\": 6059651, \"daily new recovered\": 195833.0, \"total deaths\": 527719, \"daily new deaths\": 4368.0}, {\"date\": \"7/5/20\", \"total confirmed\": 11446487, \"daily new cases\": 182896.0, \"total recovered\": 6178973, \"daily new recovered\": 119322.0, \"total deaths\": 531192, \"daily new deaths\": 3473.0}, {\"date\": \"7/6/20\", \"total confirmed\": 11611692, \"daily new cases\": 165205.0, \"total recovered\": 6302585, \"daily new recovered\": 123612.0, \"total deaths\": 535019, \"daily new deaths\": 3827.0}, {\"date\": \"7/7/20\", \"total confirmed\": 11822619, \"daily new cases\": 210927.0, \"total recovered\": 6447610, \"daily new recovered\": 145025.0, \"total deaths\": 541034, \"daily new deaths\": 6015.0}, {\"date\": \"7/8/20\", \"total confirmed\": 12035018, \"daily new cases\": 212399.0, \"total recovered\": 6605559, \"daily new recovered\": 157949.0, \"total deaths\": 546307, \"daily new deaths\": 5273.0}, {\"date\": \"7/9/20\", \"total confirmed\": 12263083, \"daily new cases\": 228065.0, \"total recovered\": 6740073, \"daily new recovered\": 134514.0, \"total deaths\": 551715, \"daily new deaths\": 5408.0}, {\"date\": \"7/10/20\", \"total confirmed\": 12495240, \"daily new cases\": 232157.0, \"total recovered\": 6879465, \"daily new recovered\": 139392.0, \"total deaths\": 557007, \"daily new deaths\": 5292.0}, {\"date\": \"7/11/20\", \"total confirmed\": 12711512, \"daily new cases\": 216272.0, \"total recovered\": 7005174, \"daily new recovered\": 125709.0, \"total deaths\": 561795, \"daily new deaths\": 4788.0}, {\"date\": \"7/12/20\", \"total confirmed\": 12904017, \"daily new cases\": 192505.0, \"total recovered\": 7116853, \"daily new recovered\": 111679.0, \"total deaths\": 565787, \"daily new deaths\": 3992.0}, {\"date\": \"7/13/20\", \"total confirmed\": 13096205, \"daily new cases\": 192188.0, \"total recovered\": 7257197, \"daily new recovered\": 140344.0, \"total deaths\": 569601, \"daily new deaths\": 3814.0}, {\"date\": \"7/14/20\", \"total confirmed\": 13317524, \"daily new cases\": 221319.0, \"total recovered\": 7399397, \"daily new recovered\": 142200.0, \"total deaths\": 575190, \"daily new deaths\": 5589.0}, {\"date\": \"7/15/20\", \"total confirmed\": 13548634, \"daily new cases\": 231110.0, \"total recovered\": 7559178, \"daily new recovered\": 159781.0, \"total deaths\": 580628, \"daily new deaths\": 5438.0}, {\"date\": \"7/16/20\", \"total confirmed\": 13801199, \"daily new cases\": 252565.0, \"total recovered\": 7711548, \"daily new recovered\": 152370.0, \"total deaths\": 586385, \"daily new deaths\": 5757.0}, {\"date\": \"7/17/20\", \"total confirmed\": 14043071, \"daily new cases\": 241872.0, \"total recovered\": 7894858, \"daily new recovered\": 183310.0, \"total deaths\": 593044, \"daily new deaths\": 6659.0}, {\"date\": \"7/18/20\", \"total confirmed\": 14279827, \"daily new cases\": 236756.0, \"total recovered\": 8045815, \"daily new recovered\": 150957.0, \"total deaths\": 598659, \"daily new deaths\": 5615.0}, {\"date\": \"7/19/20\", \"total confirmed\": 14493749, \"daily new cases\": 213922.0, \"total recovered\": 8133692, \"daily new recovered\": 87877.0, \"total deaths\": 602717, \"daily new deaths\": 4058.0}, {\"date\": \"7/20/20\", \"total confirmed\": 14700303, \"daily new cases\": 206554.0, \"total recovered\": 8292688, \"daily new recovered\": 158996.0, \"total deaths\": 606895, \"daily new deaths\": 4178.0}, {\"date\": \"7/21/20\", \"total confirmed\": 14933710, \"daily new cases\": 233407.0, \"total recovered\": 8467335, \"daily new recovered\": 174647.0, \"total deaths\": 613058, \"daily new deaths\": 6163.0}, {\"date\": \"7/22/20\", \"total confirmed\": 15214538, \"daily new cases\": 280828.0, \"total recovered\": 8643722, \"daily new recovered\": 176387.0, \"total deaths\": 619984, \"daily new deaths\": 6926.0}, {\"date\": \"7/23/20\", \"total confirmed\": 15497459, \"daily new cases\": 282921.0, \"total recovered\": 8813886, \"daily new recovered\": 170164.0, \"total deaths\": 629879, \"daily new deaths\": 9895.0}, {\"date\": \"7/24/20\", \"total confirmed\": 15777780, \"daily new cases\": 280321.0, \"total recovered\": 9043203, \"daily new recovered\": 229317.0, \"total deaths\": 635912, \"daily new deaths\": 6033.0}, {\"date\": \"7/25/20\", \"total confirmed\": 16033181, \"daily new cases\": 255401.0, \"total recovered\": 9262520, \"daily new recovered\": 219317.0, \"total deaths\": 641447, \"daily new deaths\": 5535.0}, {\"date\": \"7/26/20\", \"total confirmed\": 16245990, \"daily new cases\": 212809.0, \"total recovered\": 9402996, \"daily new recovered\": 140476.0, \"total deaths\": 645118, \"daily new deaths\": 3671.0}, {\"date\": \"7/27/20\", \"total confirmed\": 16472188, \"daily new cases\": 226198.0, \"total recovered\": 9572619, \"daily new recovered\": 169623.0, \"total deaths\": 650290, \"daily new deaths\": 5172.0}, {\"date\": \"7/28/20\", \"total confirmed\": 16724421, \"daily new cases\": 252233.0, \"total recovered\": 9746473, \"daily new recovered\": 173854.0, \"total deaths\": 656599, \"daily new deaths\": 6309.0}, {\"date\": \"7/29/20\", \"total confirmed\": 17014028, \"daily new cases\": 289607.0, \"total recovered\": 9948163, \"daily new recovered\": 201690.0, \"total deaths\": 663171, \"daily new deaths\": 6572.0}, {\"date\": \"7/30/20\", \"total confirmed\": 17294158, \"daily new cases\": 280130.0, \"total recovered\": 10170650, \"daily new recovered\": 222487.0, \"total deaths\": 669184, \"daily new deaths\": 6013.0}, {\"date\": \"7/31/20\", \"total confirmed\": 17584349, \"daily new cases\": 290191.0, \"total recovered\": 10369255, \"daily new recovered\": 198605.0, \"total deaths\": 675387, \"daily new deaths\": 6203.0}, {\"date\": \"8/1/20\", \"total confirmed\": 17834465, \"daily new cases\": 250116.0, \"total recovered\": 10553852, \"daily new recovered\": 184597.0, \"total deaths\": 680873, \"daily new deaths\": 5486.0}, {\"date\": \"8/2/20\", \"total confirmed\": 18062665, \"daily new cases\": 228200.0, \"total recovered\": 10690555, \"daily new recovered\": 136703.0, \"total deaths\": 685148, \"daily new deaths\": 4275.0}, {\"date\": \"8/3/20\", \"total confirmed\": 18264102, \"daily new cases\": 201437.0, \"total recovered\": 10913000, \"daily new recovered\": 222445.0, \"total deaths\": 689472, \"daily new deaths\": 4324.0}, {\"date\": \"8/4/20\", \"total confirmed\": 18522551, \"daily new cases\": 258449.0, \"total recovered\": 11137165, \"daily new recovered\": 224165.0, \"total deaths\": 696389, \"daily new deaths\": 6917.0}, {\"date\": \"8/5/20\", \"total confirmed\": 18794790, \"daily new cases\": 272239.0, \"total recovered\": 11358861, \"daily new recovered\": 221696.0, \"total deaths\": 703356, \"daily new deaths\": 6967.0}, {\"date\": \"8/6/20\", \"total confirmed\": 19079535, \"daily new cases\": 284745.0, \"total recovered\": 11547831, \"daily new recovered\": 188970.0, \"total deaths\": 709848, \"daily new deaths\": 6492.0}, {\"date\": \"8/7/20\", \"total confirmed\": 19360274, \"daily new cases\": 280739.0, \"total recovered\": 11740482, \"daily new recovered\": 192651.0, \"total deaths\": 716145, \"daily new deaths\": 6297.0}, {\"date\": \"8/8/20\", \"total confirmed\": 19619325, \"daily new cases\": 259051.0, \"total recovered\": 11941861, \"daily new recovered\": 201379.0, \"total deaths\": 721574, \"daily new deaths\": 5429.0}, {\"date\": \"8/9/20\", \"total confirmed\": 19842617, \"daily new cases\": 223292.0, \"total recovered\": 12118746, \"daily new recovered\": 176885.0, \"total deaths\": 726131, \"daily new deaths\": 4557.0}, {\"date\": \"8/10/20\", \"total confirmed\": 20069642, \"daily new cases\": 227025.0, \"total recovered\": 12282977, \"daily new recovered\": 164231.0, \"total deaths\": 731039, \"daily new deaths\": 4908.0}, {\"date\": \"8/11/20\", \"total confirmed\": 20324450, \"daily new cases\": 254808.0, \"total recovered\": 12588120, \"daily new recovered\": 305143.0, \"total deaths\": 737475, \"daily new deaths\": 6436.0}, {\"date\": \"8/12/20\", \"total confirmed\": 20602423, \"daily new cases\": 277973.0, \"total recovered\": 12829625, \"daily new recovered\": 241505.0, \"total deaths\": 744095, \"daily new deaths\": 6620.0}, {\"date\": \"8/13/20\", \"total confirmed\": 20888374, \"daily new cases\": 285951.0, \"total recovered\": 12994838, \"daily new recovered\": 165213.0, \"total deaths\": 750306, \"daily new deaths\": 6211.0}, {\"date\": \"8/14/20\", \"total confirmed\": 21192603, \"daily new cases\": 304229.0, \"total recovered\": 13279288, \"daily new recovered\": 284450.0, \"total deaths\": 760437, \"daily new deaths\": 10131.0}, {\"date\": \"8/15/20\", \"total confirmed\": 21440241, \"daily new cases\": 247638.0, \"total recovered\": 13448301, \"daily new recovered\": 169013.0, \"total deaths\": 765782, \"daily new deaths\": 5345.0}, {\"date\": \"8/16/20\", \"total confirmed\": 21652169, \"daily new cases\": 211928.0, \"total recovered\": 13679557, \"daily new recovered\": 231256.0, \"total deaths\": 769985, \"daily new deaths\": 4203.0}, {\"date\": \"8/17/20\", \"total confirmed\": 21861938, \"daily new cases\": 209769.0, \"total recovered\": 13891142, \"daily new recovered\": 211585.0, \"total deaths\": 774126, \"daily new deaths\": 4141.0}, {\"date\": \"8/18/20\", \"total confirmed\": 22118012, \"daily new cases\": 256074.0, \"total recovered\": 14119129, \"daily new recovered\": 227987.0, \"total deaths\": 781012, \"daily new deaths\": 6886.0}, {\"date\": \"8/19/20\", \"total confirmed\": 22392471, \"daily new cases\": 274459.0, \"total recovered\": 14336714, \"daily new recovered\": 217585.0, \"total deaths\": 787749, \"daily new deaths\": 6737.0}, {\"date\": \"8/20/20\", \"total confirmed\": 22659722, \"daily new cases\": 267251.0, \"total recovered\": 14544618, \"daily new recovered\": 207904.0, \"total deaths\": 793786, \"daily new deaths\": 6037.0}, {\"date\": \"8/21/20\", \"total confirmed\": 22929317, \"daily new cases\": 269595.0, \"total recovered\": 14714711, \"daily new recovered\": 170093.0, \"total deaths\": 799284, \"daily new deaths\": 5498.0}, {\"date\": \"8/22/20\", \"total confirmed\": 23194351, \"daily new cases\": 265034.0, \"total recovered\": 14924833, \"daily new recovered\": 210122.0, \"total deaths\": 804858, \"daily new deaths\": 5574.0}, {\"date\": \"8/23/20\", \"total confirmed\": 23399855, \"daily new cases\": 205504.0, \"total recovered\": 15140069, \"daily new recovered\": 215236.0, \"total deaths\": 808715, \"daily new deaths\": 3857.0}, {\"date\": \"8/24/20\", \"total confirmed\": 23625991, \"daily new cases\": 226136.0, \"total recovered\": 15340270, \"daily new recovered\": 200201.0, \"total deaths\": 813080, \"daily new deaths\": 4365.0}, {\"date\": \"8/25/20\", \"total confirmed\": 23867949, \"daily new cases\": 241958.0, \"total recovered\": 15573057, \"daily new recovered\": 232787.0, \"total deaths\": 819456, \"daily new deaths\": 6376.0}, {\"date\": \"8/26/20\", \"total confirmed\": 24157646, \"daily new cases\": 289697.0, \"total recovered\": 15797560, \"daily new recovered\": 224503.0, \"total deaths\": 825747, \"daily new deaths\": 6291.0}, {\"date\": \"8/27/20\", \"total confirmed\": 24436720, \"daily new cases\": 279074.0, \"total recovered\": 15999266, \"daily new recovered\": 201706.0, \"total deaths\": 831632, \"daily new deaths\": 5885.0}, {\"date\": \"8/28/20\", \"total confirmed\": 24718050, \"daily new cases\": 281330.0, \"total recovered\": 16199844, \"daily new recovered\": 200578.0, \"total deaths\": 837148, \"daily new deaths\": 5516.0}, {\"date\": \"8/29/20\", \"total confirmed\": 24978746, \"daily new cases\": 260696.0, \"total recovered\": 16411585, \"daily new recovered\": 211741.0, \"total deaths\": 842535, \"daily new deaths\": 5387.0}, {\"date\": \"8/30/20\", \"total confirmed\": 25205088, \"daily new cases\": 226342.0, \"total recovered\": 16620139, \"daily new recovered\": 208554.0, \"total deaths\": 846446, \"daily new deaths\": 3911.0}, {\"date\": \"8/31/20\", \"total confirmed\": 25467520, \"daily new cases\": 262432.0, \"total recovered\": 16821702, \"daily new recovered\": 201563.0, \"total deaths\": 850659, \"daily new deaths\": 4213.0}, {\"date\": \"9/1/20\", \"total confirmed\": 25731709, \"daily new cases\": 264189.0, \"total recovered\": 17079381, \"daily new recovered\": 257679.0, \"total deaths\": 857145, \"daily new deaths\": 6486.0}, {\"date\": \"9/2/20\", \"total confirmed\": 26014463, \"daily new cases\": 282754.0, \"total recovered\": 17298150, \"daily new recovered\": 218769.0, \"total deaths\": 863160, \"daily new deaths\": 6015.0}, {\"date\": \"9/3/20\", \"total confirmed\": 26295319, \"daily new cases\": 280856.0, \"total recovered\": 17519051, \"daily new recovered\": 220901.0, \"total deaths\": 868871, \"daily new deaths\": 5711.0}, {\"date\": \"9/4/20\", \"total confirmed\": 26608153, \"daily new cases\": 312834.0, \"total recovered\": 17732989, \"daily new recovered\": 213938.0, \"total deaths\": 874782, \"daily new deaths\": 5911.0}, {\"date\": \"9/5/20\", \"total confirmed\": 26871379, \"daily new cases\": 263226.0, \"total recovered\": 17933979, \"daily new recovered\": 200990.0, \"total deaths\": 879715, \"daily new deaths\": 4933.0}, {\"date\": \"9/6/20\", \"total confirmed\": 27093507, \"daily new cases\": 222128.0, \"total recovered\": 18144209, \"daily new recovered\": 210230.0, \"total deaths\": 883492, \"daily new deaths\": 3777.0}, {\"date\": \"9/7/20\", \"total confirmed\": 27326895, \"daily new cases\": 233388.0, \"total recovered\": 18343108, \"daily new recovered\": 198899.0, \"total deaths\": 892811, \"daily new deaths\": 9319.0}, {\"date\": \"9/8/20\", \"total confirmed\": 27568271, \"daily new cases\": 241376.0, \"total recovered\": 18544747, \"daily new recovered\": 201639.0, \"total deaths\": 897756, \"daily new deaths\": 4945.0}, {\"date\": \"9/9/20\", \"total confirmed\": 27852706, \"daily new cases\": 284435.0, \"total recovered\": 18784778, \"daily new recovered\": 240031.0, \"total deaths\": 903836, \"daily new deaths\": 6080.0}, {\"date\": \"9/10/20\", \"total confirmed\": 28151687, \"daily new cases\": 298981.0, \"total recovered\": 19000545, \"daily new recovered\": 215767.0, \"total deaths\": 909636, \"daily new deaths\": 5800.0}, {\"date\": \"9/11/20\", \"total confirmed\": 28471545, \"daily new cases\": 319858.0, \"total recovered\": 19224079, \"daily new recovered\": 223534.0, \"total deaths\": 915518, \"daily new deaths\": 5882.0}, {\"date\": \"9/12/20\", \"total confirmed\": 28748552, \"daily new cases\": 277007.0, \"total recovered\": 19447558, \"daily new recovered\": 223479.0, \"total deaths\": 920392, \"daily new deaths\": 4874.0}, {\"date\": \"9/13/20\", \"total confirmed\": 28984632, \"daily new cases\": 236080.0, \"total recovered\": 19633499, \"daily new recovered\": 185941.0, \"total deaths\": 924049, \"daily new deaths\": 3657.0}, {\"date\": \"9/14/20\", \"total confirmed\": 29264226, \"daily new cases\": 279594.0, \"total recovered\": 19863106, \"daily new recovered\": 229607.0, \"total deaths\": 928485, \"daily new deaths\": 4436.0}, {\"date\": \"9/15/20\", \"total confirmed\": 29547908, \"daily new cases\": 283682.0, \"total recovered\": 20089476, \"daily new recovered\": 226370.0, \"total deaths\": 935035, \"daily new deaths\": 6550.0}, {\"date\": \"9/16/20\", \"total confirmed\": 29852879, \"daily new cases\": 304971.0, \"total recovered\": 20318600, \"daily new recovered\": 229124.0, \"total deaths\": 940788, \"daily new deaths\": 5753.0}, {\"date\": \"9/17/20\", \"total confirmed\": 30166465, \"daily new cases\": 313586.0, \"total recovered\": 20538086, \"daily new recovered\": 219486.0, \"total deaths\": 946247, \"daily new deaths\": 5459.0}, {\"date\": \"9/18/20\", \"total confirmed\": 30489632, \"daily new cases\": 323167.0, \"total recovered\": 20790028, \"daily new recovered\": 251942.0, \"total deaths\": 951952, \"daily new deaths\": 5705.0}, {\"date\": \"9/19/20\", \"total confirmed\": 30770188, \"daily new cases\": 280556.0, \"total recovered\": 21027965, \"daily new recovered\": 237937.0, \"total deaths\": 957190, \"daily new deaths\": 5238.0}, {\"date\": \"9/20/20\", \"total confirmed\": 31012629, \"daily new cases\": 242441.0, \"total recovered\": 21264098, \"daily new recovered\": 236133.0, \"total deaths\": 960901, \"daily new deaths\": 3711.0}, {\"date\": \"9/21/20\", \"total confirmed\": 31311005, \"daily new cases\": 298376.0, \"total recovered\": 21507448, \"daily new recovered\": 243350.0, \"total deaths\": 965023, \"daily new deaths\": 4122.0}, {\"date\": \"9/22/20\", \"total confirmed\": 31590903, \"daily new cases\": 279898.0, \"total recovered\": 21727303, \"daily new recovered\": 219855.0, \"total deaths\": 971005, \"daily new deaths\": 5982.0}, {\"date\": \"9/23/20\", \"total confirmed\": 31857635, \"daily new cases\": 266732.0, \"total recovered\": 21991024, \"daily new recovered\": 263721.0, \"total deaths\": 976616, \"daily new deaths\": 5611.0}, {\"date\": \"9/24/20\", \"total confirmed\": 32218899, \"daily new cases\": 361264.0, \"total recovered\": 22245775, \"daily new recovered\": 254751.0, \"total deaths\": 983336, \"daily new deaths\": 6720.0}, {\"date\": \"9/25/20\", \"total confirmed\": 32548215, \"daily new cases\": 329316.0, \"total recovered\": 22485502, \"daily new recovered\": 239727.0, \"total deaths\": 989239, \"daily new deaths\": 5903.0}, {\"date\": \"9/26/20\", \"total confirmed\": 32825265, \"daily new cases\": 277050.0, \"total recovered\": 22728853, \"daily new recovered\": 243351.0, \"total deaths\": 994526, \"daily new deaths\": 5287.0}, {\"date\": \"9/27/20\", \"total confirmed\": 33066434, \"daily new cases\": 241169.0, \"total recovered\": 22939253, \"daily new recovered\": 210400.0, \"total deaths\": 998144, \"daily new deaths\": 3618.0}, {\"date\": \"9/28/20\", \"total confirmed\": 33342317, \"daily new cases\": 275883.0, \"total recovered\": 23164809, \"daily new recovered\": 225556.0, \"total deaths\": 1002070, \"daily new deaths\": 3926.0}, {\"date\": \"9/29/20\", \"total confirmed\": 33626366, \"daily new cases\": 284049.0, \"total recovered\": 23402735, \"daily new recovered\": 237926.0, \"total deaths\": 1008163, \"daily new deaths\": 6093.0}, {\"date\": \"9/30/20\", \"total confirmed\": 33953087, \"daily new cases\": 326721.0, \"total recovered\": 23652271, \"daily new recovered\": 249536.0, \"total deaths\": 1014556, \"daily new deaths\": 6393.0}, {\"date\": \"10/1/20\", \"total confirmed\": 34271069, \"daily new cases\": 317982.0, \"total recovered\": 23872886, \"daily new recovered\": 220615.0, \"total deaths\": 1023252, \"daily new deaths\": 8696.0}, {\"date\": \"10/2/20\", \"total confirmed\": 34565494, \"daily new cases\": 294425.0, \"total recovered\": 24044783, \"daily new recovered\": 171897.0, \"total deaths\": 1028237, \"daily new deaths\": 4985.0}, {\"date\": \"10/3/20\", \"total confirmed\": 34884965, \"daily new cases\": 319471.0, \"total recovered\": 24302969, \"daily new recovered\": 258186.0, \"total deaths\": 1033584, \"daily new deaths\": 5347.0}, {\"date\": \"10/4/20\", \"total confirmed\": 35133661, \"daily new cases\": 248696.0, \"total recovered\": 24521170, \"daily new recovered\": 218201.0, \"total deaths\": 1037360, \"daily new deaths\": 3776.0}, {\"date\": \"10/5/20\", \"total confirmed\": 35462777, \"daily new cases\": 329116.0, \"total recovered\": 24760057, \"daily new recovered\": 238887.0, \"total deaths\": 1044369, \"daily new deaths\": 7009.0}, {\"date\": \"10/6/20\", \"total confirmed\": 35786652, \"daily new cases\": 323875.0, \"total recovered\": 24993149, \"daily new recovered\": 233092.0, \"total deaths\": 1050154, \"daily new deaths\": 5785.0}, {\"date\": \"10/7/20\", \"total confirmed\": 36136477, \"daily new cases\": 349825.0, \"total recovered\": 25248549, \"daily new recovered\": 255400.0, \"total deaths\": 1055972, \"daily new deaths\": 5818.0}, {\"date\": \"10/8/20\", \"total confirmed\": 36496941, \"daily new cases\": 360464.0, \"total recovered\": 25468041, \"daily new recovered\": 219492.0, \"total deaths\": 1062229, \"daily new deaths\": 6257.0}, {\"date\": \"10/9/20\", \"total confirmed\": 36856619, \"daily new cases\": 359678.0, \"total recovered\": 25673338, \"daily new recovered\": 205297.0, \"total deaths\": 1068322, \"daily new deaths\": 6093.0}, {\"date\": \"10/10/20\", \"total confirmed\": 37187024, \"daily new cases\": 330405.0, \"total recovered\": 25865384, \"daily new recovered\": 192046.0, \"total deaths\": 1073154, \"daily new deaths\": 4832.0}, {\"date\": \"10/11/20\", \"total confirmed\": 37456778, \"daily new cases\": 269754.0, \"total recovered\": 26083210, \"daily new recovered\": 217826.0, \"total deaths\": 1077072, \"daily new deaths\": 3918.0}, {\"date\": \"10/12/20\", \"total confirmed\": 37781897, \"daily new cases\": 325119.0, \"total recovered\": 26287563, \"daily new recovered\": 204353.0, \"total deaths\": 1081015, \"daily new deaths\": 3943.0}, {\"date\": \"10/13/20\", \"total confirmed\": 38110901, \"daily new cases\": 329004.0, \"total recovered\": 26481246, \"daily new recovered\": 193683.0, \"total deaths\": 1086471, \"daily new deaths\": 5456.0}, {\"date\": \"10/14/20\", \"total confirmed\": 38490953, \"daily new cases\": 380052.0, \"total recovered\": 26693195, \"daily new recovered\": 211949.0, \"total deaths\": 1092469, \"daily new deaths\": 5998.0}, {\"date\": \"10/15/20\", \"total confirmed\": 38898224, \"daily new cases\": 407271.0, \"total recovered\": 26900376, \"daily new recovered\": 207181.0, \"total deaths\": 1098587, \"daily new deaths\": 6118.0}, {\"date\": \"10/16/20\", \"total confirmed\": 39308667, \"daily new cases\": 410443.0, \"total recovered\": 27105030, \"daily new recovered\": 204654.0, \"total deaths\": 1104713, \"daily new deaths\": 6126.0}, {\"date\": \"10/17/20\", \"total confirmed\": 39649909, \"daily new cases\": 341242.0, \"total recovered\": 27303710, \"daily new recovered\": 198680.0, \"total deaths\": 1110228, \"daily new deaths\": 5515.0}, {\"date\": \"10/18/20\", \"total confirmed\": 39935847, \"daily new cases\": 285938.0, \"total recovered\": 27502706, \"daily new recovered\": 198996.0, \"total deaths\": 1113613, \"daily new deaths\": 3385.0}, {\"date\": \"10/19/20\", \"total confirmed\": 40383933, \"daily new cases\": 448086.0, \"total recovered\": 27713008, \"daily new recovered\": 210302.0, \"total deaths\": 1118614, \"daily new deaths\": 5001.0}, {\"date\": \"10/20/20\", \"total confirmed\": 40772455, \"daily new cases\": 388522.0, \"total recovered\": 27926735, \"daily new recovered\": 213727.0, \"total deaths\": 1125203, \"daily new deaths\": 6589.0}, {\"date\": \"10/21/20\", \"total confirmed\": 41216105, \"daily new cases\": 443650.0, \"total recovered\": 28137873, \"daily new recovered\": 211138.0, \"total deaths\": 1131759, \"daily new deaths\": 6556.0}, {\"date\": \"10/22/20\", \"total confirmed\": 41685750, \"daily new cases\": 469645.0, \"total recovered\": 28364277, \"daily new recovered\": 226404.0, \"total deaths\": 1137661, \"daily new deaths\": 5902.0}, {\"date\": \"10/23/20\", \"total confirmed\": 42182515, \"daily new cases\": 496765.0, \"total recovered\": 28570400, \"daily new recovered\": 206123.0, \"total deaths\": 1144583, \"daily new deaths\": 6922.0}, {\"date\": \"10/24/20\", \"total confirmed\": 42595348, \"daily new cases\": 412833.0, \"total recovered\": 28781667, \"daily new recovered\": 211267.0, \"total deaths\": 1150279, \"daily new deaths\": 5696.0}, {\"date\": \"10/25/20\", \"total confirmed\": 42948826, \"daily new cases\": 353478.0, \"total recovered\": 28978022, \"daily new recovered\": 196355.0, \"total deaths\": 1154419, \"daily new deaths\": 4140.0}, {\"date\": \"10/26/20\", \"total confirmed\": 43485889, \"daily new cases\": 537063.0, \"total recovered\": 29217448, \"daily new recovered\": 239426.0, \"total deaths\": 1160063, \"daily new deaths\": 5644.0}, {\"date\": \"10/27/20\", \"total confirmed\": 43954797, \"daily new cases\": 468908.0, \"total recovered\": 29807969, \"daily new recovered\": 590521.0, \"total deaths\": 1167477, \"daily new deaths\": 7414.0}, {\"date\": \"10/28/20\", \"total confirmed\": 44463732, \"daily new cases\": 508935.0, \"total recovered\": 30073936, \"daily new recovered\": 265967.0, \"total deaths\": 1174558, \"daily new deaths\": 7081.0}, {\"date\": \"10/29/20\", \"total confirmed\": 45014520, \"daily new cases\": 550788.0, \"total recovered\": 30320483, \"daily new recovered\": 246547.0, \"total deaths\": 1181617, \"daily new deaths\": 7059.0}, {\"date\": \"10/30/20\", \"total confirmed\": 45583754, \"daily new cases\": 569234.0, \"total recovered\": 30575509, \"daily new recovered\": 255026.0, \"total deaths\": 1189160, \"daily new deaths\": 7543.0}, {\"date\": \"10/31/20\", \"total confirmed\": 46060084, \"daily new cases\": 476330.0, \"total recovered\": 30820526, \"daily new recovered\": 245017.0, \"total deaths\": 1195706, \"daily new deaths\": 6546.0}, {\"date\": \"11/1/20\", \"total confirmed\": 46494219, \"daily new cases\": 434135.0, \"total recovered\": 31078260, \"daily new recovered\": 257734.0, \"total deaths\": 1200630, \"daily new deaths\": 4924.0}, {\"date\": \"11/2/20\", \"total confirmed\": 47001076, \"daily new cases\": 506857.0, \"total recovered\": 31357886, \"daily new recovered\": 279626.0, \"total deaths\": 1206744, \"daily new deaths\": 6114.0}, {\"date\": \"11/3/20\", \"total confirmed\": 47514619, \"daily new cases\": 513543.0, \"total recovered\": 31609242, \"daily new recovered\": 251356.0, \"total deaths\": 1215196, \"daily new deaths\": 8452.0}, {\"date\": \"11/4/20\", \"total confirmed\": 48112246, \"daily new cases\": 597627.0, \"total recovered\": 31889030, \"daily new recovered\": 279788.0, \"total deaths\": 1226196, \"daily new deaths\": 11000.0}, {\"date\": \"11/5/20\", \"total confirmed\": 48705471, \"daily new cases\": 593225.0, \"total recovered\": 32192465, \"daily new recovered\": 303435.0, \"total deaths\": 1234256, \"daily new deaths\": 8060.0}, {\"date\": \"11/6/20\", \"total confirmed\": 49346623, \"daily new cases\": 641152.0, \"total recovered\": 32480626, \"daily new recovered\": 288161.0, \"total deaths\": 1243795, \"daily new deaths\": 9539.0}, {\"date\": \"11/7/20\", \"total confirmed\": 49858197, \"daily new cases\": 511574.0, \"total recovered\": 32779541, \"daily new recovered\": 298915.0, \"total deaths\": 1251346, \"daily new deaths\": 7551.0}, {\"date\": \"11/8/20\", \"total confirmed\": 50423019, \"daily new cases\": 564822.0, \"total recovered\": 33032762, \"daily new recovered\": 253221.0, \"total deaths\": 1257096, \"daily new deaths\": 5750.0}, {\"date\": \"11/9/20\", \"total confirmed\": 50923398, \"daily new cases\": 500379.0, \"total recovered\": 33289404, \"daily new recovered\": 256642.0, \"total deaths\": 1264218, \"daily new deaths\": 7122.0}, {\"date\": \"11/10/20\", \"total confirmed\": 51481929, \"daily new cases\": 558531.0, \"total recovered\": 33546421, \"daily new recovered\": 257017.0, \"total deaths\": 1274213, \"daily new deaths\": 9995.0}, {\"date\": \"11/11/20\", \"total confirmed\": 52126597, \"daily new cases\": 644668.0, \"total recovered\": 33926351, \"daily new recovered\": 379930.0, \"total deaths\": 1284628, \"daily new deaths\": 10415.0}, {\"date\": \"11/12/20\", \"total confirmed\": 52773432, \"daily new cases\": 646835.0, \"total recovered\": 34150481, \"daily new recovered\": 224130.0, \"total deaths\": 1294372, \"daily new deaths\": 9744.0}, {\"date\": \"11/13/20\", \"total confirmed\": 53421872, \"daily new cases\": 648440.0, \"total recovered\": 34453243, \"daily new recovered\": 302762.0, \"total deaths\": 1303906, \"daily new deaths\": 9534.0}, {\"date\": \"11/14/20\", \"total confirmed\": 54015689, \"daily new cases\": 593817.0, \"total recovered\": 34731314, \"daily new recovered\": 278071.0, \"total deaths\": 1312896, \"daily new deaths\": 8990.0}, {\"date\": \"11/15/20\", \"total confirmed\": 54485945, \"daily new cases\": 470256.0, \"total recovered\": 34960714, \"daily new recovered\": 229400.0, \"total deaths\": 1319144, \"daily new deaths\": 6248.0}, {\"date\": \"11/16/20\", \"total confirmed\": 55021938, \"daily new cases\": 535993.0, \"total recovered\": 35349444, \"daily new recovered\": 388730.0, \"total deaths\": 1327228, \"daily new deaths\": 8084.0}]}}, {\"mode\": \"vega-lite\"});\n",
       "</script>"
      ],
      "text/plain": [
       "alt.LayerChart(...)"
      ]
     },
     "execution_count": 30,
     "metadata": {},
     "output_type": "execute_result"
    }
   ],
   "source": [
    "# Plot Altair 2: Global aggregates confirmed, recovered, and deaths (Im not using this at my webapp, only for example)\n",
    "source = timeseries_final\n",
    "\n",
    "base = alt.Chart(source).encode(x='date:T')\n",
    "\n",
    "line1 =  base.mark_line(color='green').encode(\n",
    "    y='total confirmed:Q'\n",
    ")\n",
    "\n",
    "\n",
    "line2=  base.mark_line(color='blue').encode(\n",
    "    y='total recovered:Q'\n",
    ")\n",
    "line3=  base.mark_line(color='red').encode(\n",
    "    y='total deaths:Q'\n",
    ")\n",
    "(line1 + line2 + line3).properties(width=600)"
   ]
  },
  {
   "cell_type": "code",
   "execution_count": 31,
   "metadata": {},
   "outputs": [
    {
     "data": {
      "text/html": [
       "\n",
       "<div id=\"altair-viz-6a0459e4c33c4f0e92f324ae58e1ecd1\"></div>\n",
       "<script type=\"text/javascript\">\n",
       "  (function(spec, embedOpt){\n",
       "    let outputDiv = document.currentScript.previousElementSibling;\n",
       "    if (outputDiv.id !== \"altair-viz-6a0459e4c33c4f0e92f324ae58e1ecd1\") {\n",
       "      outputDiv = document.getElementById(\"altair-viz-6a0459e4c33c4f0e92f324ae58e1ecd1\");\n",
       "    }\n",
       "    const paths = {\n",
       "      \"vega\": \"https://cdn.jsdelivr.net/npm//vega@5?noext\",\n",
       "      \"vega-lib\": \"https://cdn.jsdelivr.net/npm//vega-lib?noext\",\n",
       "      \"vega-lite\": \"https://cdn.jsdelivr.net/npm//vega-lite@4.8.1?noext\",\n",
       "      \"vega-embed\": \"https://cdn.jsdelivr.net/npm//vega-embed@6?noext\",\n",
       "    };\n",
       "\n",
       "    function loadScript(lib) {\n",
       "      return new Promise(function(resolve, reject) {\n",
       "        var s = document.createElement('script');\n",
       "        s.src = paths[lib];\n",
       "        s.async = true;\n",
       "        s.onload = () => resolve(paths[lib]);\n",
       "        s.onerror = () => reject(`Error loading script: ${paths[lib]}`);\n",
       "        document.getElementsByTagName(\"head\")[0].appendChild(s);\n",
       "      });\n",
       "    }\n",
       "\n",
       "    function showError(err) {\n",
       "      outputDiv.innerHTML = `<div class=\"error\" style=\"color:red;\">${err}</div>`;\n",
       "      throw err;\n",
       "    }\n",
       "\n",
       "    function displayChart(vegaEmbed) {\n",
       "      vegaEmbed(outputDiv, spec, embedOpt)\n",
       "        .catch(err => showError(`Javascript Error: ${err.message}<br>This usually means there's a typo in your chart specification. See the javascript console for the full traceback.`));\n",
       "    }\n",
       "\n",
       "    if(typeof define === \"function\" && define.amd) {\n",
       "      requirejs.config({paths});\n",
       "      require([\"vega-embed\"], displayChart, err => showError(`Error loading script: ${err.message}`));\n",
       "    } else if (typeof vegaEmbed === \"function\") {\n",
       "      displayChart(vegaEmbed);\n",
       "    } else {\n",
       "      loadScript(\"vega\")\n",
       "        .then(() => loadScript(\"vega-lite\"))\n",
       "        .then(() => loadScript(\"vega-embed\"))\n",
       "        .catch(showError)\n",
       "        .then(() => displayChart(vegaEmbed));\n",
       "    }\n",
       "  })({\"config\": {\"view\": {\"continuousWidth\": 400, \"continuousHeight\": 300}}, \"data\": {\"name\": \"data-9050e07eb35b564169fcd7ec44c8faad\"}, \"mark\": {\"type\": \"line\", \"color\": \"blue\"}, \"encoding\": {\"tooltip\": [{\"type\": \"temporal\", \"field\": \"date\", \"timeUnit\": \"yearmonthdate\"}, {\"type\": \"quantitative\", \"field\": \"daily new cases\"}], \"x\": {\"type\": \"temporal\", \"field\": \"date\"}, \"y\": {\"type\": \"quantitative\", \"field\": \"daily new cases\"}}, \"width\": 600, \"$schema\": \"https://vega.github.io/schema/vega-lite/v4.8.1.json\", \"datasets\": {\"data-9050e07eb35b564169fcd7ec44c8faad\": [{\"date\": \"1/22/20\", \"total confirmed\": 555, \"daily new cases\": 0.0, \"total recovered\": 28, \"daily new recovered\": 0.0, \"total deaths\": 17, \"daily new deaths\": 0.0}, {\"date\": \"1/23/20\", \"total confirmed\": 654, \"daily new cases\": 99.0, \"total recovered\": 30, \"daily new recovered\": 2.0, \"total deaths\": 18, \"daily new deaths\": 1.0}, {\"date\": \"1/24/20\", \"total confirmed\": 941, \"daily new cases\": 287.0, \"total recovered\": 36, \"daily new recovered\": 6.0, \"total deaths\": 26, \"daily new deaths\": 8.0}, {\"date\": \"1/25/20\", \"total confirmed\": 1434, \"daily new cases\": 493.0, \"total recovered\": 39, \"daily new recovered\": 3.0, \"total deaths\": 42, \"daily new deaths\": 16.0}, {\"date\": \"1/26/20\", \"total confirmed\": 2118, \"daily new cases\": 684.0, \"total recovered\": 52, \"daily new recovered\": 13.0, \"total deaths\": 56, \"daily new deaths\": 14.0}, {\"date\": \"1/27/20\", \"total confirmed\": 2927, \"daily new cases\": 809.0, \"total recovered\": 61, \"daily new recovered\": 9.0, \"total deaths\": 82, \"daily new deaths\": 26.0}, {\"date\": \"1/28/20\", \"total confirmed\": 5578, \"daily new cases\": 2651.0, \"total recovered\": 107, \"daily new recovered\": 46.0, \"total deaths\": 131, \"daily new deaths\": 49.0}, {\"date\": \"1/29/20\", \"total confirmed\": 6167, \"daily new cases\": 589.0, \"total recovered\": 126, \"daily new recovered\": 19.0, \"total deaths\": 133, \"daily new deaths\": 2.0}, {\"date\": \"1/30/20\", \"total confirmed\": 8235, \"daily new cases\": 2068.0, \"total recovered\": 143, \"daily new recovered\": 17.0, \"total deaths\": 171, \"daily new deaths\": 38.0}, {\"date\": \"1/31/20\", \"total confirmed\": 9927, \"daily new cases\": 1692.0, \"total recovered\": 222, \"daily new recovered\": 79.0, \"total deaths\": 213, \"daily new deaths\": 42.0}, {\"date\": \"2/1/20\", \"total confirmed\": 12038, \"daily new cases\": 2111.0, \"total recovered\": 284, \"daily new recovered\": 62.0, \"total deaths\": 259, \"daily new deaths\": 46.0}, {\"date\": \"2/2/20\", \"total confirmed\": 16787, \"daily new cases\": 4749.0, \"total recovered\": 472, \"daily new recovered\": 188.0, \"total deaths\": 362, \"daily new deaths\": 103.0}, {\"date\": \"2/3/20\", \"total confirmed\": 19887, \"daily new cases\": 3100.0, \"total recovered\": 623, \"daily new recovered\": 151.0, \"total deaths\": 426, \"daily new deaths\": 64.0}, {\"date\": \"2/4/20\", \"total confirmed\": 23898, \"daily new cases\": 4011.0, \"total recovered\": 852, \"daily new recovered\": 229.0, \"total deaths\": 492, \"daily new deaths\": 66.0}, {\"date\": \"2/5/20\", \"total confirmed\": 27643, \"daily new cases\": 3745.0, \"total recovered\": 1124, \"daily new recovered\": 272.0, \"total deaths\": 564, \"daily new deaths\": 72.0}, {\"date\": \"2/6/20\", \"total confirmed\": 30803, \"daily new cases\": 3160.0, \"total recovered\": 1487, \"daily new recovered\": 363.0, \"total deaths\": 634, \"daily new deaths\": 70.0}, {\"date\": \"2/7/20\", \"total confirmed\": 34396, \"daily new cases\": 3593.0, \"total recovered\": 2011, \"daily new recovered\": 524.0, \"total deaths\": 719, \"daily new deaths\": 85.0}, {\"date\": \"2/8/20\", \"total confirmed\": 37130, \"daily new cases\": 2734.0, \"total recovered\": 2616, \"daily new recovered\": 605.0, \"total deaths\": 806, \"daily new deaths\": 87.0}, {\"date\": \"2/9/20\", \"total confirmed\": 40160, \"daily new cases\": 3030.0, \"total recovered\": 3244, \"daily new recovered\": 628.0, \"total deaths\": 906, \"daily new deaths\": 100.0}, {\"date\": \"2/10/20\", \"total confirmed\": 42769, \"daily new cases\": 2609.0, \"total recovered\": 3946, \"daily new recovered\": 702.0, \"total deaths\": 1013, \"daily new deaths\": 107.0}, {\"date\": \"2/11/20\", \"total confirmed\": 44811, \"daily new cases\": 2042.0, \"total recovered\": 4683, \"daily new recovered\": 737.0, \"total deaths\": 1113, \"daily new deaths\": 100.0}, {\"date\": \"2/12/20\", \"total confirmed\": 45229, \"daily new cases\": 418.0, \"total recovered\": 5150, \"daily new recovered\": 467.0, \"total deaths\": 1118, \"daily new deaths\": 5.0}, {\"date\": \"2/13/20\", \"total confirmed\": 60382, \"daily new cases\": 15153.0, \"total recovered\": 6295, \"daily new recovered\": 1145.0, \"total deaths\": 1371, \"daily new deaths\": 253.0}, {\"date\": \"2/14/20\", \"total confirmed\": 66909, \"daily new cases\": 6527.0, \"total recovered\": 8058, \"daily new recovered\": 1763.0, \"total deaths\": 1523, \"daily new deaths\": 152.0}, {\"date\": \"2/15/20\", \"total confirmed\": 69051, \"daily new cases\": 2142.0, \"total recovered\": 9395, \"daily new recovered\": 1337.0, \"total deaths\": 1666, \"daily new deaths\": 143.0}, {\"date\": \"2/16/20\", \"total confirmed\": 71235, \"daily new cases\": 2184.0, \"total recovered\": 10865, \"daily new recovered\": 1470.0, \"total deaths\": 1770, \"daily new deaths\": 104.0}, {\"date\": \"2/17/20\", \"total confirmed\": 73270, \"daily new cases\": 2035.0, \"total recovered\": 12583, \"daily new recovered\": 1718.0, \"total deaths\": 1868, \"daily new deaths\": 98.0}, {\"date\": \"2/18/20\", \"total confirmed\": 75152, \"daily new cases\": 1882.0, \"total recovered\": 14352, \"daily new recovered\": 1769.0, \"total deaths\": 2008, \"daily new deaths\": 140.0}, {\"date\": \"2/19/20\", \"total confirmed\": 75652, \"daily new cases\": 500.0, \"total recovered\": 16121, \"daily new recovered\": 1769.0, \"total deaths\": 2123, \"daily new deaths\": 115.0}, {\"date\": \"2/20/20\", \"total confirmed\": 76212, \"daily new cases\": 560.0, \"total recovered\": 18177, \"daily new recovered\": 2056.0, \"total deaths\": 2248, \"daily new deaths\": 125.0}, {\"date\": \"2/21/20\", \"total confirmed\": 76841, \"daily new cases\": 629.0, \"total recovered\": 18890, \"daily new recovered\": 713.0, \"total deaths\": 2252, \"daily new deaths\": 4.0}, {\"date\": \"2/22/20\", \"total confirmed\": 78602, \"daily new cases\": 1761.0, \"total recovered\": 22886, \"daily new recovered\": 3996.0, \"total deaths\": 2459, \"daily new deaths\": 207.0}, {\"date\": \"2/23/20\", \"total confirmed\": 78982, \"daily new cases\": 380.0, \"total recovered\": 23394, \"daily new recovered\": 508.0, \"total deaths\": 2470, \"daily new deaths\": 11.0}, {\"date\": \"2/24/20\", \"total confirmed\": 79546, \"daily new cases\": 564.0, \"total recovered\": 25227, \"daily new recovered\": 1833.0, \"total deaths\": 2630, \"daily new deaths\": 160.0}, {\"date\": \"2/25/20\", \"total confirmed\": 80399, \"daily new cases\": 853.0, \"total recovered\": 27905, \"daily new recovered\": 2678.0, \"total deaths\": 2710, \"daily new deaths\": 80.0}, {\"date\": \"2/26/20\", \"total confirmed\": 81376, \"daily new cases\": 977.0, \"total recovered\": 30384, \"daily new recovered\": 2479.0, \"total deaths\": 2771, \"daily new deaths\": 61.0}, {\"date\": \"2/27/20\", \"total confirmed\": 82736, \"daily new cases\": 1360.0, \"total recovered\": 33277, \"daily new recovered\": 2893.0, \"total deaths\": 2814, \"daily new deaths\": 43.0}, {\"date\": \"2/28/20\", \"total confirmed\": 84121, \"daily new cases\": 1385.0, \"total recovered\": 36711, \"daily new recovered\": 3434.0, \"total deaths\": 2873, \"daily new deaths\": 59.0}, {\"date\": \"2/29/20\", \"total confirmed\": 86014, \"daily new cases\": 1893.0, \"total recovered\": 39782, \"daily new recovered\": 3071.0, \"total deaths\": 2942, \"daily new deaths\": 69.0}, {\"date\": \"3/1/20\", \"total confirmed\": 88397, \"daily new cases\": 2383.0, \"total recovered\": 42716, \"daily new recovered\": 2934.0, \"total deaths\": 2996, \"daily new deaths\": 54.0}, {\"date\": \"3/2/20\", \"total confirmed\": 90375, \"daily new cases\": 1978.0, \"total recovered\": 45602, \"daily new recovered\": 2886.0, \"total deaths\": 3085, \"daily new deaths\": 89.0}, {\"date\": \"3/3/20\", \"total confirmed\": 92959, \"daily new cases\": 2584.0, \"total recovered\": 48228, \"daily new recovered\": 2626.0, \"total deaths\": 3160, \"daily new deaths\": 75.0}, {\"date\": \"3/4/20\", \"total confirmed\": 95276, \"daily new cases\": 2317.0, \"total recovered\": 51170, \"daily new recovered\": 2942.0, \"total deaths\": 3255, \"daily new deaths\": 95.0}, {\"date\": \"3/5/20\", \"total confirmed\": 98040, \"daily new cases\": 2764.0, \"total recovered\": 53796, \"daily new recovered\": 2626.0, \"total deaths\": 3348, \"daily new deaths\": 93.0}, {\"date\": \"3/6/20\", \"total confirmed\": 102040, \"daily new cases\": 4000.0, \"total recovered\": 55865, \"daily new recovered\": 2069.0, \"total deaths\": 3460, \"daily new deaths\": 112.0}, {\"date\": \"3/7/20\", \"total confirmed\": 106102, \"daily new cases\": 4062.0, \"total recovered\": 58359, \"daily new recovered\": 2494.0, \"total deaths\": 3559, \"daily new deaths\": 99.0}, {\"date\": \"3/8/20\", \"total confirmed\": 110062, \"daily new cases\": 3960.0, \"total recovered\": 60694, \"daily new recovered\": 2335.0, \"total deaths\": 3803, \"daily new deaths\": 244.0}, {\"date\": \"3/9/20\", \"total confirmed\": 114025, \"daily new cases\": 3963.0, \"total recovered\": 62493, \"daily new recovered\": 1799.0, \"total deaths\": 3987, \"daily new deaths\": 184.0}, {\"date\": \"3/10/20\", \"total confirmed\": 119036, \"daily new cases\": 5011.0, \"total recovered\": 64404, \"daily new recovered\": 1911.0, \"total deaths\": 4267, \"daily new deaths\": 280.0}, {\"date\": \"3/11/20\", \"total confirmed\": 126717, \"daily new cases\": 7681.0, \"total recovered\": 67002, \"daily new recovered\": 2598.0, \"total deaths\": 4611, \"daily new deaths\": 344.0}, {\"date\": \"3/12/20\", \"total confirmed\": 132506, \"daily new cases\": 5789.0, \"total recovered\": 68324, \"daily new recovered\": 1322.0, \"total deaths\": 4917, \"daily new deaths\": 306.0}, {\"date\": \"3/13/20\", \"total confirmed\": 146887, \"daily new cases\": 14381.0, \"total recovered\": 70251, \"daily new recovered\": 1927.0, \"total deaths\": 5414, \"daily new deaths\": 497.0}, {\"date\": \"3/14/20\", \"total confirmed\": 157965, \"daily new cases\": 11078.0, \"total recovered\": 72622, \"daily new recovered\": 2371.0, \"total deaths\": 5834, \"daily new deaths\": 420.0}, {\"date\": \"3/15/20\", \"total confirmed\": 169258, \"daily new cases\": 11293.0, \"total recovered\": 76032, \"daily new recovered\": 3410.0, \"total deaths\": 6475, \"daily new deaths\": 641.0}, {\"date\": \"3/16/20\", \"total confirmed\": 184002, \"daily new cases\": 14744.0, \"total recovered\": 78086, \"daily new recovered\": 2054.0, \"total deaths\": 7153, \"daily new deaths\": 678.0}, {\"date\": \"3/17/20\", \"total confirmed\": 199933, \"daily new cases\": 15931.0, \"total recovered\": 80838, \"daily new recovered\": 2752.0, \"total deaths\": 7964, \"daily new deaths\": 811.0}, {\"date\": \"3/18/20\", \"total confirmed\": 219466, \"daily new cases\": 19533.0, \"total recovered\": 83321, \"daily new recovered\": 2483.0, \"total deaths\": 8867, \"daily new deaths\": 903.0}, {\"date\": \"3/19/20\", \"total confirmed\": 246622, \"daily new cases\": 27156.0, \"total recovered\": 84958, \"daily new recovered\": 1637.0, \"total deaths\": 9980, \"daily new deaths\": 1113.0}, {\"date\": \"3/20/20\", \"total confirmed\": 277257, \"daily new cases\": 30635.0, \"total recovered\": 87403, \"daily new recovered\": 2445.0, \"total deaths\": 11461, \"daily new deaths\": 1481.0}, {\"date\": \"3/21/20\", \"total confirmed\": 309226, \"daily new cases\": 31969.0, \"total recovered\": 91670, \"daily new recovered\": 4267.0, \"total deaths\": 13181, \"daily new deaths\": 1720.0}, {\"date\": \"3/22/20\", \"total confirmed\": 343464, \"daily new cases\": 34238.0, \"total recovered\": 97885, \"daily new recovered\": 6215.0, \"total deaths\": 14855, \"daily new deaths\": 1674.0}, {\"date\": \"3/23/20\", \"total confirmed\": 386832, \"daily new cases\": 43368.0, \"total recovered\": 98351, \"daily new recovered\": 466.0, \"total deaths\": 16797, \"daily new deaths\": 1942.0}, {\"date\": \"3/24/20\", \"total confirmed\": 428304, \"daily new cases\": 41472.0, \"total recovered\": 107992, \"daily new recovered\": 9641.0, \"total deaths\": 19081, \"daily new deaths\": 2284.0}, {\"date\": \"3/25/20\", \"total confirmed\": 479288, \"daily new cases\": 50984.0, \"total recovered\": 113775, \"daily new recovered\": 5783.0, \"total deaths\": 21881, \"daily new deaths\": 2800.0}, {\"date\": \"3/26/20\", \"total confirmed\": 542014, \"daily new cases\": 62726.0, \"total recovered\": 122145, \"daily new recovered\": 8370.0, \"total deaths\": 24901, \"daily new deaths\": 3020.0}, {\"date\": \"3/27/20\", \"total confirmed\": 607005, \"daily new cases\": 64991.0, \"total recovered\": 130921, \"daily new recovered\": 8776.0, \"total deaths\": 28394, \"daily new deaths\": 3493.0}, {\"date\": \"3/28/20\", \"total confirmed\": 674387, \"daily new cases\": 67382.0, \"total recovered\": 139424, \"daily new recovered\": 8503.0, \"total deaths\": 32107, \"daily new deaths\": 3713.0}, {\"date\": \"3/29/20\", \"total confirmed\": 733786, \"daily new cases\": 59399.0, \"total recovered\": 148891, \"daily new recovered\": 9467.0, \"total deaths\": 35584, \"daily new deaths\": 3477.0}, {\"date\": \"3/30/20\", \"total confirmed\": 799023, \"daily new cases\": 65237.0, \"total recovered\": 164337, \"daily new recovered\": 15446.0, \"total deaths\": 39636, \"daily new deaths\": 4052.0}, {\"date\": \"3/31/20\", \"total confirmed\": 875852, \"daily new cases\": 76829.0, \"total recovered\": 177825, \"daily new recovered\": 13488.0, \"total deaths\": 44388, \"daily new deaths\": 4752.0}, {\"date\": \"4/1/20\", \"total confirmed\": 952378, \"daily new cases\": 76526.0, \"total recovered\": 192918, \"daily new recovered\": 15093.0, \"total deaths\": 49894, \"daily new deaths\": 5506.0}, {\"date\": \"4/2/20\", \"total confirmed\": 1033709, \"daily new cases\": 81331.0, \"total recovered\": 209967, \"daily new recovered\": 17049.0, \"total deaths\": 56131, \"daily new deaths\": 6237.0}, {\"date\": \"4/3/20\", \"total confirmed\": 1116962, \"daily new cases\": 83253.0, \"total recovered\": 225415, \"daily new recovered\": 15448.0, \"total deaths\": 62237, \"daily new deaths\": 6106.0}, {\"date\": \"4/4/20\", \"total confirmed\": 1197316, \"daily new cases\": 80354.0, \"total recovered\": 245832, \"daily new recovered\": 20417.0, \"total deaths\": 68404, \"daily new deaths\": 6167.0}, {\"date\": \"4/5/20\", \"total confirmed\": 1269293, \"daily new cases\": 71977.0, \"total recovered\": 259672, \"daily new recovered\": 13840.0, \"total deaths\": 73569, \"daily new deaths\": 5165.0}, {\"date\": \"4/6/20\", \"total confirmed\": 1342527, \"daily new cases\": 73234.0, \"total recovered\": 276252, \"daily new recovered\": 16580.0, \"total deaths\": 79516, \"daily new deaths\": 5947.0}, {\"date\": \"4/7/20\", \"total confirmed\": 1420267, \"daily new cases\": 77740.0, \"total recovered\": 299643, \"daily new recovered\": 23391.0, \"total deaths\": 87740, \"daily new deaths\": 8224.0}, {\"date\": \"4/8/20\", \"total confirmed\": 1504298, \"daily new cases\": 84031.0, \"total recovered\": 328359, \"daily new recovered\": 28716.0, \"total deaths\": 94501, \"daily new deaths\": 6761.0}, {\"date\": \"4/9/20\", \"total confirmed\": 1590779, \"daily new cases\": 86481.0, \"total recovered\": 353707, \"daily new recovered\": 25348.0, \"total deaths\": 102277, \"daily new deaths\": 7776.0}, {\"date\": \"4/10/20\", \"total confirmed\": 1678319, \"daily new cases\": 87540.0, \"total recovered\": 375509, \"daily new recovered\": 21802.0, \"total deaths\": 109662, \"daily new deaths\": 7385.0}, {\"date\": \"4/11/20\", \"total confirmed\": 1754535, \"daily new cases\": 76216.0, \"total recovered\": 401766, \"daily new recovered\": 26257.0, \"total deaths\": 115903, \"daily new deaths\": 6241.0}, {\"date\": \"4/12/20\", \"total confirmed\": 1849888, \"daily new cases\": 95353.0, \"total recovered\": 421180, \"daily new recovered\": 19414.0, \"total deaths\": 121712, \"daily new deaths\": 5809.0}, {\"date\": \"4/13/20\", \"total confirmed\": 1920033, \"daily new cases\": 70145.0, \"total recovered\": 448347, \"daily new recovered\": 27167.0, \"total deaths\": 127628, \"daily new deaths\": 5916.0}, {\"date\": \"4/14/20\", \"total confirmed\": 1991379, \"daily new cases\": 71346.0, \"total recovered\": 473436, \"daily new recovered\": 25089.0, \"total deaths\": 134598, \"daily new deaths\": 6970.0}, {\"date\": \"4/15/20\", \"total confirmed\": 2073252, \"daily new cases\": 81873.0, \"total recovered\": 510106, \"daily new recovered\": 36670.0, \"total deaths\": 142949, \"daily new deaths\": 8351.0}, {\"date\": \"4/16/20\", \"total confirmed\": 2170173, \"daily new cases\": 96921.0, \"total recovered\": 540926, \"daily new recovered\": 30820.0, \"total deaths\": 150247, \"daily new deaths\": 7298.0}, {\"date\": \"4/17/20\", \"total confirmed\": 2257986, \"daily new cases\": 87813.0, \"total recovered\": 567049, \"daily new recovered\": 26123.0, \"total deaths\": 158612, \"daily new deaths\": 8365.0}, {\"date\": \"4/18/20\", \"total confirmed\": 2331380, \"daily new cases\": 73394.0, \"total recovered\": 590968, \"daily new recovered\": 23919.0, \"total deaths\": 164635, \"daily new deaths\": 6023.0}, {\"date\": \"4/19/20\", \"total confirmed\": 2411352, \"daily new cases\": 79972.0, \"total recovered\": 622623, \"daily new recovered\": 31655.0, \"total deaths\": 169897, \"daily new deaths\": 5262.0}, {\"date\": \"4/20/20\", \"total confirmed\": 2485855, \"daily new cases\": 74503.0, \"total recovered\": 644613, \"daily new recovered\": 21990.0, \"total deaths\": 175755, \"daily new deaths\": 5858.0}, {\"date\": \"4/21/20\", \"total confirmed\": 2561734, \"daily new cases\": 75879.0, \"total recovered\": 679456, \"daily new recovered\": 34843.0, \"total deaths\": 182940, \"daily new deaths\": 7185.0}, {\"date\": \"4/22/20\", \"total confirmed\": 2639753, \"daily new cases\": 78019.0, \"total recovered\": 709881, \"daily new recovered\": 30425.0, \"total deaths\": 189671, \"daily new deaths\": 6731.0}, {\"date\": \"4/23/20\", \"total confirmed\": 2727810, \"daily new cases\": 88057.0, \"total recovered\": 738661, \"daily new recovered\": 28780.0, \"total deaths\": 196509, \"daily new deaths\": 6838.0}, {\"date\": \"4/24/20\", \"total confirmed\": 2812183, \"daily new cases\": 84373.0, \"total recovered\": 788712, \"daily new recovered\": 50051.0, \"total deaths\": 203172, \"daily new deaths\": 6663.0}, {\"date\": \"4/25/20\", \"total confirmed\": 2895430, \"daily new cases\": 83247.0, \"total recovered\": 816491, \"daily new recovered\": 27779.0, \"total deaths\": 208809, \"daily new deaths\": 5637.0}, {\"date\": \"4/26/20\", \"total confirmed\": 2967570, \"daily new cases\": 72140.0, \"total recovered\": 845096, \"daily new recovered\": 28605.0, \"total deaths\": 212748, \"daily new deaths\": 3939.0}, {\"date\": \"4/27/20\", \"total confirmed\": 3037260, \"daily new cases\": 69690.0, \"total recovered\": 872865, \"daily new recovered\": 27769.0, \"total deaths\": 217421, \"daily new deaths\": 4673.0}, {\"date\": \"4/28/20\", \"total confirmed\": 3112744, \"daily new cases\": 75484.0, \"total recovered\": 906136, \"daily new recovered\": 33271.0, \"total deaths\": 223968, \"daily new deaths\": 6547.0}, {\"date\": \"4/29/20\", \"total confirmed\": 3190206, \"daily new cases\": 77462.0, \"total recovered\": 948318, \"daily new recovered\": 42182.0, \"total deaths\": 230702, \"daily new deaths\": 6734.0}, {\"date\": \"4/30/20\", \"total confirmed\": 3273554, \"daily new cases\": 83348.0, \"total recovered\": 1013284, \"daily new recovered\": 64966.0, \"total deaths\": 236698, \"daily new deaths\": 5996.0}, {\"date\": \"5/1/20\", \"total confirmed\": 3360744, \"daily new cases\": 87190.0, \"total recovered\": 1051537, \"daily new recovered\": 38253.0, \"total deaths\": 241847, \"daily new deaths\": 5149.0}, {\"date\": \"5/2/20\", \"total confirmed\": 3440791, \"daily new cases\": 80047.0, \"total recovered\": 1092416, \"daily new recovered\": 40879.0, \"total deaths\": 247325, \"daily new deaths\": 5478.0}, {\"date\": \"5/3/20\", \"total confirmed\": 3517314, \"daily new cases\": 76523.0, \"total recovered\": 1124732, \"daily new recovered\": 32316.0, \"total deaths\": 250797, \"daily new deaths\": 3472.0}, {\"date\": \"5/4/20\", \"total confirmed\": 3594392, \"daily new cases\": 77078.0, \"total recovered\": 1158819, \"daily new recovered\": 34087.0, \"total deaths\": 254896, \"daily new deaths\": 4099.0}, {\"date\": \"5/5/20\", \"total confirmed\": 3674847, \"daily new cases\": 80455.0, \"total recovered\": 1195359, \"daily new recovered\": 36540.0, \"total deaths\": 260783, \"daily new deaths\": 5887.0}, {\"date\": \"5/6/20\", \"total confirmed\": 3764761, \"daily new cases\": 89914.0, \"total recovered\": 1241365, \"daily new recovered\": 46006.0, \"total deaths\": 267326, \"daily new deaths\": 6543.0}, {\"date\": \"5/7/20\", \"total confirmed\": 3853781, \"daily new cases\": 89020.0, \"total recovered\": 1280833, \"daily new recovered\": 39468.0, \"total deaths\": 272618, \"daily new deaths\": 5292.0}, {\"date\": \"5/8/20\", \"total confirmed\": 3944952, \"daily new cases\": 91171.0, \"total recovered\": 1317383, \"daily new recovered\": 36550.0, \"total deaths\": 278098, \"daily new deaths\": 5480.0}, {\"date\": \"5/9/20\", \"total confirmed\": 4029875, \"daily new cases\": 84923.0, \"total recovered\": 1370933, \"daily new recovered\": 53550.0, \"total deaths\": 282385, \"daily new deaths\": 4287.0}, {\"date\": \"5/10/20\", \"total confirmed\": 4105071, \"daily new cases\": 75196.0, \"total recovered\": 1404527, \"daily new recovered\": 33594.0, \"total deaths\": 285979, \"daily new deaths\": 3594.0}, {\"date\": \"5/11/20\", \"total confirmed\": 4181946, \"daily new cases\": 76875.0, \"total recovered\": 1451521, \"daily new recovered\": 46994.0, \"total deaths\": 289447, \"daily new deaths\": 3468.0}, {\"date\": \"5/12/20\", \"total confirmed\": 4266204, \"daily new cases\": 84258.0, \"total recovered\": 1488542, \"daily new recovered\": 37021.0, \"total deaths\": 294969, \"daily new deaths\": 5522.0}, {\"date\": \"5/13/20\", \"total confirmed\": 4351024, \"daily new cases\": 84820.0, \"total recovered\": 1544398, \"daily new recovered\": 55856.0, \"total deaths\": 300046, \"daily new deaths\": 5077.0}, {\"date\": \"5/14/20\", \"total confirmed\": 4447706, \"daily new cases\": 96682.0, \"total recovered\": 1584114, \"daily new recovered\": 39716.0, \"total deaths\": 305227, \"daily new deaths\": 5181.0}, {\"date\": \"5/15/20\", \"total confirmed\": 4544030, \"daily new cases\": 96324.0, \"total recovered\": 1632122, \"daily new recovered\": 48008.0, \"total deaths\": 310343, \"daily new deaths\": 5116.0}, {\"date\": \"5/16/20\", \"total confirmed\": 4638236, \"daily new cases\": 94206.0, \"total recovered\": 1688714, \"daily new recovered\": 56592.0, \"total deaths\": 314519, \"daily new deaths\": 4176.0}, {\"date\": \"5/17/20\", \"total confirmed\": 4715641, \"daily new cases\": 77405.0, \"total recovered\": 1729621, \"daily new recovered\": 40907.0, \"total deaths\": 317804, \"daily new deaths\": 3285.0}, {\"date\": \"5/18/20\", \"total confirmed\": 4804359, \"daily new cases\": 88718.0, \"total recovered\": 1782542, \"daily new recovered\": 52921.0, \"total deaths\": 321499, \"daily new deaths\": 3695.0}, {\"date\": \"5/19/20\", \"total confirmed\": 4901497, \"daily new cases\": 97138.0, \"total recovered\": 1834647, \"daily new recovered\": 52105.0, \"total deaths\": 326219, \"daily new deaths\": 4720.0}, {\"date\": \"5/20/20\", \"total confirmed\": 5004250, \"daily new cases\": 102753.0, \"total recovered\": 1893575, \"daily new recovered\": 58928.0, \"total deaths\": 330979, \"daily new deaths\": 4760.0}, {\"date\": \"5/21/20\", \"total confirmed\": 5110815, \"daily new cases\": 106565.0, \"total recovered\": 1944840, \"daily new recovered\": 51265.0, \"total deaths\": 335704, \"daily new deaths\": 4725.0}, {\"date\": \"5/22/20\", \"total confirmed\": 5216798, \"daily new cases\": 105983.0, \"total recovered\": 2053491, \"daily new recovered\": 108651.0, \"total deaths\": 340899, \"daily new deaths\": 5195.0}, {\"date\": \"5/23/20\", \"total confirmed\": 5321424, \"daily new cases\": 104626.0, \"total recovered\": 2108462, \"daily new recovered\": 54971.0, \"total deaths\": 344815, \"daily new deaths\": 3916.0}, {\"date\": \"5/24/20\", \"total confirmed\": 5415901, \"daily new cases\": 94477.0, \"total recovered\": 2163902, \"daily new recovered\": 55440.0, \"total deaths\": 347937, \"daily new deaths\": 3122.0}, {\"date\": \"5/25/20\", \"total confirmed\": 5502250, \"daily new cases\": 86349.0, \"total recovered\": 2227625, \"daily new recovered\": 63723.0, \"total deaths\": 349138, \"daily new deaths\": 1201.0}, {\"date\": \"5/26/20\", \"total confirmed\": 5595501, \"daily new cases\": 93251.0, \"total recovered\": 2282839, \"daily new recovered\": 55214.0, \"total deaths\": 353258, \"daily new deaths\": 4120.0}, {\"date\": \"5/27/20\", \"total confirmed\": 5698506, \"daily new cases\": 103005.0, \"total recovered\": 2346232, \"daily new recovered\": 63393.0, \"total deaths\": 358394, \"daily new deaths\": 5136.0}, {\"date\": \"5/28/20\", \"total confirmed\": 5818020, \"daily new cases\": 119514.0, \"total recovered\": 2413089, \"daily new recovered\": 66857.0, \"total deaths\": 363017, \"daily new deaths\": 4623.0}, {\"date\": \"5/29/20\", \"total confirmed\": 5938915, \"daily new cases\": 120895.0, \"total recovered\": 2490435, \"daily new recovered\": 77346.0, \"total deaths\": 367604, \"daily new deaths\": 4587.0}, {\"date\": \"5/30/20\", \"total confirmed\": 6075869, \"daily new cases\": 136954.0, \"total recovered\": 2560888, \"daily new recovered\": 70453.0, \"total deaths\": 371669, \"daily new deaths\": 4065.0}, {\"date\": \"5/31/20\", \"total confirmed\": 6182468, \"daily new cases\": 106599.0, \"total recovered\": 2637208, \"daily new recovered\": 76320.0, \"total deaths\": 374645, \"daily new deaths\": 2976.0}, {\"date\": \"6/1/20\", \"total confirmed\": 6277971, \"daily new cases\": 95503.0, \"total recovered\": 2692105, \"daily new recovered\": 54897.0, \"total deaths\": 377722, \"daily new deaths\": 3077.0}, {\"date\": \"6/2/20\", \"total confirmed\": 6399352, \"daily new cases\": 121381.0, \"total recovered\": 2796228, \"daily new recovered\": 104123.0, \"total deaths\": 382445, \"daily new deaths\": 4723.0}, {\"date\": \"6/3/20\", \"total confirmed\": 6517447, \"daily new cases\": 118095.0, \"total recovered\": 2875332, \"daily new recovered\": 79104.0, \"total deaths\": 387881, \"daily new deaths\": 5436.0}, {\"date\": \"6/4/20\", \"total confirmed\": 6644274, \"daily new cases\": 126827.0, \"total recovered\": 2945385, \"daily new recovered\": 70053.0, \"total deaths\": 392997, \"daily new deaths\": 5116.0}, {\"date\": \"6/5/20\", \"total confirmed\": 6775073, \"daily new cases\": 130799.0, \"total recovered\": 3014544, \"daily new recovered\": 69159.0, \"total deaths\": 397563, \"daily new deaths\": 4566.0}, {\"date\": \"6/6/20\", \"total confirmed\": 6909702, \"daily new cases\": 134629.0, \"total recovered\": 3086748, \"daily new recovered\": 72204.0, \"total deaths\": 401413, \"daily new deaths\": 3850.0}, {\"date\": \"6/7/20\", \"total confirmed\": 7021606, \"daily new cases\": 111904.0, \"total recovered\": 3141849, \"daily new recovered\": 55101.0, \"total deaths\": 404157, \"daily new deaths\": 2744.0}, {\"date\": \"6/8/20\", \"total confirmed\": 7124085, \"daily new cases\": 102479.0, \"total recovered\": 3293412, \"daily new recovered\": 151563.0, \"total deaths\": 407836, \"daily new deaths\": 3679.0}, {\"date\": \"6/9/20\", \"total confirmed\": 7248720, \"daily new cases\": 124635.0, \"total recovered\": 3375694, \"daily new recovered\": 82282.0, \"total deaths\": 412671, \"daily new deaths\": 4835.0}, {\"date\": \"6/10/20\", \"total confirmed\": 7383167, \"daily new cases\": 134447.0, \"total recovered\": 3454832, \"daily new recovered\": 79138.0, \"total deaths\": 417730, \"daily new deaths\": 5059.0}, {\"date\": \"6/11/20\", \"total confirmed\": 7521337, \"daily new cases\": 138170.0, \"total recovered\": 3540714, \"daily new recovered\": 85882.0, \"total deaths\": 422412, \"daily new deaths\": 4682.0}, {\"date\": \"6/12/20\", \"total confirmed\": 7649809, \"daily new cases\": 128472.0, \"total recovered\": 3620438, \"daily new recovered\": 79724.0, \"total deaths\": 426627, \"daily new deaths\": 4215.0}, {\"date\": \"6/13/20\", \"total confirmed\": 7785133, \"daily new cases\": 135324.0, \"total recovered\": 3706372, \"daily new recovered\": 85934.0, \"total deaths\": 430818, \"daily new deaths\": 4191.0}, {\"date\": \"6/14/20\", \"total confirmed\": 7917785, \"daily new cases\": 132652.0, \"total recovered\": 3777157, \"daily new recovered\": 70785.0, \"total deaths\": 434230, \"daily new deaths\": 3412.0}, {\"date\": \"6/15/20\", \"total confirmed\": 8037530, \"daily new cases\": 119745.0, \"total recovered\": 3857365, \"daily new recovered\": 80208.0, \"total deaths\": 437649, \"daily new deaths\": 3419.0}, {\"date\": \"6/16/20\", \"total confirmed\": 8179373, \"daily new cases\": 141843.0, \"total recovered\": 3955205, \"daily new recovered\": 97840.0, \"total deaths\": 444367, \"daily new deaths\": 6718.0}, {\"date\": \"6/17/20\", \"total confirmed\": 8321890, \"daily new cases\": 142517.0, \"total recovered\": 4073992, \"daily new recovered\": 118787.0, \"total deaths\": 449456, \"daily new deaths\": 5089.0}, {\"date\": \"6/18/20\", \"total confirmed\": 8462195, \"daily new cases\": 140305.0, \"total recovered\": 4155134, \"daily new recovered\": 81142.0, \"total deaths\": 454436, \"daily new deaths\": 4980.0}, {\"date\": \"6/19/20\", \"total confirmed\": 8642028, \"daily new cases\": 179833.0, \"total recovered\": 4250149, \"daily new recovered\": 95015.0, \"total deaths\": 460586, \"daily new deaths\": 6150.0}, {\"date\": \"6/20/20\", \"total confirmed\": 8799120, \"daily new cases\": 157092.0, \"total recovered\": 4365974, \"daily new recovered\": 115825.0, \"total deaths\": 464790, \"daily new deaths\": 4204.0}, {\"date\": \"6/21/20\", \"total confirmed\": 8927408, \"daily new cases\": 128288.0, \"total recovered\": 4434711, \"daily new recovered\": 68737.0, \"total deaths\": 468799, \"daily new deaths\": 4009.0}, {\"date\": \"6/22/20\", \"total confirmed\": 9065315, \"daily new cases\": 137907.0, \"total recovered\": 4526337, \"daily new recovered\": 91626.0, \"total deaths\": 472358, \"daily new deaths\": 3559.0}, {\"date\": \"6/23/20\", \"total confirmed\": 9230605, \"daily new cases\": 165290.0, \"total recovered\": 4630412, \"daily new recovered\": 104075.0, \"total deaths\": 477580, \"daily new deaths\": 5222.0}, {\"date\": \"6/24/20\", \"total confirmed\": 9401467, \"daily new cases\": 170862.0, \"total recovered\": 4746172, \"daily new recovered\": 115760.0, \"total deaths\": 482750, \"daily new deaths\": 5170.0}, {\"date\": \"6/25/20\", \"total confirmed\": 9579792, \"daily new cases\": 178325.0, \"total recovered\": 4839028, \"daily new recovered\": 92856.0, \"total deaths\": 487444, \"daily new deaths\": 4694.0}, {\"date\": \"6/26/20\", \"total confirmed\": 9771190, \"daily new cases\": 191398.0, \"total recovered\": 4945742, \"daily new recovered\": 106714.0, \"total deaths\": 492146, \"daily new deaths\": 4702.0}, {\"date\": \"6/27/20\", \"total confirmed\": 9949650, \"daily new cases\": 178460.0, \"total recovered\": 5052107, \"daily new recovered\": 106365.0, \"total deaths\": 496609, \"daily new deaths\": 4463.0}, {\"date\": \"6/28/20\", \"total confirmed\": 10111445, \"daily new cases\": 161795.0, \"total recovered\": 5141227, \"daily new recovered\": 89120.0, \"total deaths\": 499752, \"daily new deaths\": 3143.0}, {\"date\": \"6/29/20\", \"total confirmed\": 10267631, \"daily new cases\": 156186.0, \"total recovered\": 5235793, \"daily new recovered\": 94566.0, \"total deaths\": 503476, \"daily new deaths\": 3724.0}, {\"date\": \"6/30/20\", \"total confirmed\": 10441739, \"daily new cases\": 174108.0, \"total recovered\": 5353115, \"daily new recovered\": 117322.0, \"total deaths\": 508425, \"daily new deaths\": 4949.0}, {\"date\": \"7/1/20\", \"total confirmed\": 10658951, \"daily new cases\": 217212.0, \"total recovered\": 5469041, \"daily new recovered\": 115926.0, \"total deaths\": 513353, \"daily new deaths\": 4928.0}, {\"date\": \"7/2/20\", \"total confirmed\": 10867065, \"daily new cases\": 208114.0, \"total recovered\": 5753918, \"daily new recovered\": 284877.0, \"total deaths\": 518416, \"daily new deaths\": 5063.0}, {\"date\": \"7/3/20\", \"total confirmed\": 11069750, \"daily new cases\": 202685.0, \"total recovered\": 5863818, \"daily new recovered\": 109900.0, \"total deaths\": 523351, \"daily new deaths\": 4935.0}, {\"date\": \"7/4/20\", \"total confirmed\": 11263591, \"daily new cases\": 193841.0, \"total recovered\": 6059651, \"daily new recovered\": 195833.0, \"total deaths\": 527719, \"daily new deaths\": 4368.0}, {\"date\": \"7/5/20\", \"total confirmed\": 11446487, \"daily new cases\": 182896.0, \"total recovered\": 6178973, \"daily new recovered\": 119322.0, \"total deaths\": 531192, \"daily new deaths\": 3473.0}, {\"date\": \"7/6/20\", \"total confirmed\": 11611692, \"daily new cases\": 165205.0, \"total recovered\": 6302585, \"daily new recovered\": 123612.0, \"total deaths\": 535019, \"daily new deaths\": 3827.0}, {\"date\": \"7/7/20\", \"total confirmed\": 11822619, \"daily new cases\": 210927.0, \"total recovered\": 6447610, \"daily new recovered\": 145025.0, \"total deaths\": 541034, \"daily new deaths\": 6015.0}, {\"date\": \"7/8/20\", \"total confirmed\": 12035018, \"daily new cases\": 212399.0, \"total recovered\": 6605559, \"daily new recovered\": 157949.0, \"total deaths\": 546307, \"daily new deaths\": 5273.0}, {\"date\": \"7/9/20\", \"total confirmed\": 12263083, \"daily new cases\": 228065.0, \"total recovered\": 6740073, \"daily new recovered\": 134514.0, \"total deaths\": 551715, \"daily new deaths\": 5408.0}, {\"date\": \"7/10/20\", \"total confirmed\": 12495240, \"daily new cases\": 232157.0, \"total recovered\": 6879465, \"daily new recovered\": 139392.0, \"total deaths\": 557007, \"daily new deaths\": 5292.0}, {\"date\": \"7/11/20\", \"total confirmed\": 12711512, \"daily new cases\": 216272.0, \"total recovered\": 7005174, \"daily new recovered\": 125709.0, \"total deaths\": 561795, \"daily new deaths\": 4788.0}, {\"date\": \"7/12/20\", \"total confirmed\": 12904017, \"daily new cases\": 192505.0, \"total recovered\": 7116853, \"daily new recovered\": 111679.0, \"total deaths\": 565787, \"daily new deaths\": 3992.0}, {\"date\": \"7/13/20\", \"total confirmed\": 13096205, \"daily new cases\": 192188.0, \"total recovered\": 7257197, \"daily new recovered\": 140344.0, \"total deaths\": 569601, \"daily new deaths\": 3814.0}, {\"date\": \"7/14/20\", \"total confirmed\": 13317524, \"daily new cases\": 221319.0, \"total recovered\": 7399397, \"daily new recovered\": 142200.0, \"total deaths\": 575190, \"daily new deaths\": 5589.0}, {\"date\": \"7/15/20\", \"total confirmed\": 13548634, \"daily new cases\": 231110.0, \"total recovered\": 7559178, \"daily new recovered\": 159781.0, \"total deaths\": 580628, \"daily new deaths\": 5438.0}, {\"date\": \"7/16/20\", \"total confirmed\": 13801199, \"daily new cases\": 252565.0, \"total recovered\": 7711548, \"daily new recovered\": 152370.0, \"total deaths\": 586385, \"daily new deaths\": 5757.0}, {\"date\": \"7/17/20\", \"total confirmed\": 14043071, \"daily new cases\": 241872.0, \"total recovered\": 7894858, \"daily new recovered\": 183310.0, \"total deaths\": 593044, \"daily new deaths\": 6659.0}, {\"date\": \"7/18/20\", \"total confirmed\": 14279827, \"daily new cases\": 236756.0, \"total recovered\": 8045815, \"daily new recovered\": 150957.0, \"total deaths\": 598659, \"daily new deaths\": 5615.0}, {\"date\": \"7/19/20\", \"total confirmed\": 14493749, \"daily new cases\": 213922.0, \"total recovered\": 8133692, \"daily new recovered\": 87877.0, \"total deaths\": 602717, \"daily new deaths\": 4058.0}, {\"date\": \"7/20/20\", \"total confirmed\": 14700303, \"daily new cases\": 206554.0, \"total recovered\": 8292688, \"daily new recovered\": 158996.0, \"total deaths\": 606895, \"daily new deaths\": 4178.0}, {\"date\": \"7/21/20\", \"total confirmed\": 14933710, \"daily new cases\": 233407.0, \"total recovered\": 8467335, \"daily new recovered\": 174647.0, \"total deaths\": 613058, \"daily new deaths\": 6163.0}, {\"date\": \"7/22/20\", \"total confirmed\": 15214538, \"daily new cases\": 280828.0, \"total recovered\": 8643722, \"daily new recovered\": 176387.0, \"total deaths\": 619984, \"daily new deaths\": 6926.0}, {\"date\": \"7/23/20\", \"total confirmed\": 15497459, \"daily new cases\": 282921.0, \"total recovered\": 8813886, \"daily new recovered\": 170164.0, \"total deaths\": 629879, \"daily new deaths\": 9895.0}, {\"date\": \"7/24/20\", \"total confirmed\": 15777780, \"daily new cases\": 280321.0, \"total recovered\": 9043203, \"daily new recovered\": 229317.0, \"total deaths\": 635912, \"daily new deaths\": 6033.0}, {\"date\": \"7/25/20\", \"total confirmed\": 16033181, \"daily new cases\": 255401.0, \"total recovered\": 9262520, \"daily new recovered\": 219317.0, \"total deaths\": 641447, \"daily new deaths\": 5535.0}, {\"date\": \"7/26/20\", \"total confirmed\": 16245990, \"daily new cases\": 212809.0, \"total recovered\": 9402996, \"daily new recovered\": 140476.0, \"total deaths\": 645118, \"daily new deaths\": 3671.0}, {\"date\": \"7/27/20\", \"total confirmed\": 16472188, \"daily new cases\": 226198.0, \"total recovered\": 9572619, \"daily new recovered\": 169623.0, \"total deaths\": 650290, \"daily new deaths\": 5172.0}, {\"date\": \"7/28/20\", \"total confirmed\": 16724421, \"daily new cases\": 252233.0, \"total recovered\": 9746473, \"daily new recovered\": 173854.0, \"total deaths\": 656599, \"daily new deaths\": 6309.0}, {\"date\": \"7/29/20\", \"total confirmed\": 17014028, \"daily new cases\": 289607.0, \"total recovered\": 9948163, \"daily new recovered\": 201690.0, \"total deaths\": 663171, \"daily new deaths\": 6572.0}, {\"date\": \"7/30/20\", \"total confirmed\": 17294158, \"daily new cases\": 280130.0, \"total recovered\": 10170650, \"daily new recovered\": 222487.0, \"total deaths\": 669184, \"daily new deaths\": 6013.0}, {\"date\": \"7/31/20\", \"total confirmed\": 17584349, \"daily new cases\": 290191.0, \"total recovered\": 10369255, \"daily new recovered\": 198605.0, \"total deaths\": 675387, \"daily new deaths\": 6203.0}, {\"date\": \"8/1/20\", \"total confirmed\": 17834465, \"daily new cases\": 250116.0, \"total recovered\": 10553852, \"daily new recovered\": 184597.0, \"total deaths\": 680873, \"daily new deaths\": 5486.0}, {\"date\": \"8/2/20\", \"total confirmed\": 18062665, \"daily new cases\": 228200.0, \"total recovered\": 10690555, \"daily new recovered\": 136703.0, \"total deaths\": 685148, \"daily new deaths\": 4275.0}, {\"date\": \"8/3/20\", \"total confirmed\": 18264102, \"daily new cases\": 201437.0, \"total recovered\": 10913000, \"daily new recovered\": 222445.0, \"total deaths\": 689472, \"daily new deaths\": 4324.0}, {\"date\": \"8/4/20\", \"total confirmed\": 18522551, \"daily new cases\": 258449.0, \"total recovered\": 11137165, \"daily new recovered\": 224165.0, \"total deaths\": 696389, \"daily new deaths\": 6917.0}, {\"date\": \"8/5/20\", \"total confirmed\": 18794790, \"daily new cases\": 272239.0, \"total recovered\": 11358861, \"daily new recovered\": 221696.0, \"total deaths\": 703356, \"daily new deaths\": 6967.0}, {\"date\": \"8/6/20\", \"total confirmed\": 19079535, \"daily new cases\": 284745.0, \"total recovered\": 11547831, \"daily new recovered\": 188970.0, \"total deaths\": 709848, \"daily new deaths\": 6492.0}, {\"date\": \"8/7/20\", \"total confirmed\": 19360274, \"daily new cases\": 280739.0, \"total recovered\": 11740482, \"daily new recovered\": 192651.0, \"total deaths\": 716145, \"daily new deaths\": 6297.0}, {\"date\": \"8/8/20\", \"total confirmed\": 19619325, \"daily new cases\": 259051.0, \"total recovered\": 11941861, \"daily new recovered\": 201379.0, \"total deaths\": 721574, \"daily new deaths\": 5429.0}, {\"date\": \"8/9/20\", \"total confirmed\": 19842617, \"daily new cases\": 223292.0, \"total recovered\": 12118746, \"daily new recovered\": 176885.0, \"total deaths\": 726131, \"daily new deaths\": 4557.0}, {\"date\": \"8/10/20\", \"total confirmed\": 20069642, \"daily new cases\": 227025.0, \"total recovered\": 12282977, \"daily new recovered\": 164231.0, \"total deaths\": 731039, \"daily new deaths\": 4908.0}, {\"date\": \"8/11/20\", \"total confirmed\": 20324450, \"daily new cases\": 254808.0, \"total recovered\": 12588120, \"daily new recovered\": 305143.0, \"total deaths\": 737475, \"daily new deaths\": 6436.0}, {\"date\": \"8/12/20\", \"total confirmed\": 20602423, \"daily new cases\": 277973.0, \"total recovered\": 12829625, \"daily new recovered\": 241505.0, \"total deaths\": 744095, \"daily new deaths\": 6620.0}, {\"date\": \"8/13/20\", \"total confirmed\": 20888374, \"daily new cases\": 285951.0, \"total recovered\": 12994838, \"daily new recovered\": 165213.0, \"total deaths\": 750306, \"daily new deaths\": 6211.0}, {\"date\": \"8/14/20\", \"total confirmed\": 21192603, \"daily new cases\": 304229.0, \"total recovered\": 13279288, \"daily new recovered\": 284450.0, \"total deaths\": 760437, \"daily new deaths\": 10131.0}, {\"date\": \"8/15/20\", \"total confirmed\": 21440241, \"daily new cases\": 247638.0, \"total recovered\": 13448301, \"daily new recovered\": 169013.0, \"total deaths\": 765782, \"daily new deaths\": 5345.0}, {\"date\": \"8/16/20\", \"total confirmed\": 21652169, \"daily new cases\": 211928.0, \"total recovered\": 13679557, \"daily new recovered\": 231256.0, \"total deaths\": 769985, \"daily new deaths\": 4203.0}, {\"date\": \"8/17/20\", \"total confirmed\": 21861938, \"daily new cases\": 209769.0, \"total recovered\": 13891142, \"daily new recovered\": 211585.0, \"total deaths\": 774126, \"daily new deaths\": 4141.0}, {\"date\": \"8/18/20\", \"total confirmed\": 22118012, \"daily new cases\": 256074.0, \"total recovered\": 14119129, \"daily new recovered\": 227987.0, \"total deaths\": 781012, \"daily new deaths\": 6886.0}, {\"date\": \"8/19/20\", \"total confirmed\": 22392471, \"daily new cases\": 274459.0, \"total recovered\": 14336714, \"daily new recovered\": 217585.0, \"total deaths\": 787749, \"daily new deaths\": 6737.0}, {\"date\": \"8/20/20\", \"total confirmed\": 22659722, \"daily new cases\": 267251.0, \"total recovered\": 14544618, \"daily new recovered\": 207904.0, \"total deaths\": 793786, \"daily new deaths\": 6037.0}, {\"date\": \"8/21/20\", \"total confirmed\": 22929317, \"daily new cases\": 269595.0, \"total recovered\": 14714711, \"daily new recovered\": 170093.0, \"total deaths\": 799284, \"daily new deaths\": 5498.0}, {\"date\": \"8/22/20\", \"total confirmed\": 23194351, \"daily new cases\": 265034.0, \"total recovered\": 14924833, \"daily new recovered\": 210122.0, \"total deaths\": 804858, \"daily new deaths\": 5574.0}, {\"date\": \"8/23/20\", \"total confirmed\": 23399855, \"daily new cases\": 205504.0, \"total recovered\": 15140069, \"daily new recovered\": 215236.0, \"total deaths\": 808715, \"daily new deaths\": 3857.0}, {\"date\": \"8/24/20\", \"total confirmed\": 23625991, \"daily new cases\": 226136.0, \"total recovered\": 15340270, \"daily new recovered\": 200201.0, \"total deaths\": 813080, \"daily new deaths\": 4365.0}, {\"date\": \"8/25/20\", \"total confirmed\": 23867949, \"daily new cases\": 241958.0, \"total recovered\": 15573057, \"daily new recovered\": 232787.0, \"total deaths\": 819456, \"daily new deaths\": 6376.0}, {\"date\": \"8/26/20\", \"total confirmed\": 24157646, \"daily new cases\": 289697.0, \"total recovered\": 15797560, \"daily new recovered\": 224503.0, \"total deaths\": 825747, \"daily new deaths\": 6291.0}, {\"date\": \"8/27/20\", \"total confirmed\": 24436720, \"daily new cases\": 279074.0, \"total recovered\": 15999266, \"daily new recovered\": 201706.0, \"total deaths\": 831632, \"daily new deaths\": 5885.0}, {\"date\": \"8/28/20\", \"total confirmed\": 24718050, \"daily new cases\": 281330.0, \"total recovered\": 16199844, \"daily new recovered\": 200578.0, \"total deaths\": 837148, \"daily new deaths\": 5516.0}, {\"date\": \"8/29/20\", \"total confirmed\": 24978746, \"daily new cases\": 260696.0, \"total recovered\": 16411585, \"daily new recovered\": 211741.0, \"total deaths\": 842535, \"daily new deaths\": 5387.0}, {\"date\": \"8/30/20\", \"total confirmed\": 25205088, \"daily new cases\": 226342.0, \"total recovered\": 16620139, \"daily new recovered\": 208554.0, \"total deaths\": 846446, \"daily new deaths\": 3911.0}, {\"date\": \"8/31/20\", \"total confirmed\": 25467520, \"daily new cases\": 262432.0, \"total recovered\": 16821702, \"daily new recovered\": 201563.0, \"total deaths\": 850659, \"daily new deaths\": 4213.0}, {\"date\": \"9/1/20\", \"total confirmed\": 25731709, \"daily new cases\": 264189.0, \"total recovered\": 17079381, \"daily new recovered\": 257679.0, \"total deaths\": 857145, \"daily new deaths\": 6486.0}, {\"date\": \"9/2/20\", \"total confirmed\": 26014463, \"daily new cases\": 282754.0, \"total recovered\": 17298150, \"daily new recovered\": 218769.0, \"total deaths\": 863160, \"daily new deaths\": 6015.0}, {\"date\": \"9/3/20\", \"total confirmed\": 26295319, \"daily new cases\": 280856.0, \"total recovered\": 17519051, \"daily new recovered\": 220901.0, \"total deaths\": 868871, \"daily new deaths\": 5711.0}, {\"date\": \"9/4/20\", \"total confirmed\": 26608153, \"daily new cases\": 312834.0, \"total recovered\": 17732989, \"daily new recovered\": 213938.0, \"total deaths\": 874782, \"daily new deaths\": 5911.0}, {\"date\": \"9/5/20\", \"total confirmed\": 26871379, \"daily new cases\": 263226.0, \"total recovered\": 17933979, \"daily new recovered\": 200990.0, \"total deaths\": 879715, \"daily new deaths\": 4933.0}, {\"date\": \"9/6/20\", \"total confirmed\": 27093507, \"daily new cases\": 222128.0, \"total recovered\": 18144209, \"daily new recovered\": 210230.0, \"total deaths\": 883492, \"daily new deaths\": 3777.0}, {\"date\": \"9/7/20\", \"total confirmed\": 27326895, \"daily new cases\": 233388.0, \"total recovered\": 18343108, \"daily new recovered\": 198899.0, \"total deaths\": 892811, \"daily new deaths\": 9319.0}, {\"date\": \"9/8/20\", \"total confirmed\": 27568271, \"daily new cases\": 241376.0, \"total recovered\": 18544747, \"daily new recovered\": 201639.0, \"total deaths\": 897756, \"daily new deaths\": 4945.0}, {\"date\": \"9/9/20\", \"total confirmed\": 27852706, \"daily new cases\": 284435.0, \"total recovered\": 18784778, \"daily new recovered\": 240031.0, \"total deaths\": 903836, \"daily new deaths\": 6080.0}, {\"date\": \"9/10/20\", \"total confirmed\": 28151687, \"daily new cases\": 298981.0, \"total recovered\": 19000545, \"daily new recovered\": 215767.0, \"total deaths\": 909636, \"daily new deaths\": 5800.0}, {\"date\": \"9/11/20\", \"total confirmed\": 28471545, \"daily new cases\": 319858.0, \"total recovered\": 19224079, \"daily new recovered\": 223534.0, \"total deaths\": 915518, \"daily new deaths\": 5882.0}, {\"date\": \"9/12/20\", \"total confirmed\": 28748552, \"daily new cases\": 277007.0, \"total recovered\": 19447558, \"daily new recovered\": 223479.0, \"total deaths\": 920392, \"daily new deaths\": 4874.0}, {\"date\": \"9/13/20\", \"total confirmed\": 28984632, \"daily new cases\": 236080.0, \"total recovered\": 19633499, \"daily new recovered\": 185941.0, \"total deaths\": 924049, \"daily new deaths\": 3657.0}, {\"date\": \"9/14/20\", \"total confirmed\": 29264226, \"daily new cases\": 279594.0, \"total recovered\": 19863106, \"daily new recovered\": 229607.0, \"total deaths\": 928485, \"daily new deaths\": 4436.0}, {\"date\": \"9/15/20\", \"total confirmed\": 29547908, \"daily new cases\": 283682.0, \"total recovered\": 20089476, \"daily new recovered\": 226370.0, \"total deaths\": 935035, \"daily new deaths\": 6550.0}, {\"date\": \"9/16/20\", \"total confirmed\": 29852879, \"daily new cases\": 304971.0, \"total recovered\": 20318600, \"daily new recovered\": 229124.0, \"total deaths\": 940788, \"daily new deaths\": 5753.0}, {\"date\": \"9/17/20\", \"total confirmed\": 30166465, \"daily new cases\": 313586.0, \"total recovered\": 20538086, \"daily new recovered\": 219486.0, \"total deaths\": 946247, \"daily new deaths\": 5459.0}, {\"date\": \"9/18/20\", \"total confirmed\": 30489632, \"daily new cases\": 323167.0, \"total recovered\": 20790028, \"daily new recovered\": 251942.0, \"total deaths\": 951952, \"daily new deaths\": 5705.0}, {\"date\": \"9/19/20\", \"total confirmed\": 30770188, \"daily new cases\": 280556.0, \"total recovered\": 21027965, \"daily new recovered\": 237937.0, \"total deaths\": 957190, \"daily new deaths\": 5238.0}, {\"date\": \"9/20/20\", \"total confirmed\": 31012629, \"daily new cases\": 242441.0, \"total recovered\": 21264098, \"daily new recovered\": 236133.0, \"total deaths\": 960901, \"daily new deaths\": 3711.0}, {\"date\": \"9/21/20\", \"total confirmed\": 31311005, \"daily new cases\": 298376.0, \"total recovered\": 21507448, \"daily new recovered\": 243350.0, \"total deaths\": 965023, \"daily new deaths\": 4122.0}, {\"date\": \"9/22/20\", \"total confirmed\": 31590903, \"daily new cases\": 279898.0, \"total recovered\": 21727303, \"daily new recovered\": 219855.0, \"total deaths\": 971005, \"daily new deaths\": 5982.0}, {\"date\": \"9/23/20\", \"total confirmed\": 31857635, \"daily new cases\": 266732.0, \"total recovered\": 21991024, \"daily new recovered\": 263721.0, \"total deaths\": 976616, \"daily new deaths\": 5611.0}, {\"date\": \"9/24/20\", \"total confirmed\": 32218899, \"daily new cases\": 361264.0, \"total recovered\": 22245775, \"daily new recovered\": 254751.0, \"total deaths\": 983336, \"daily new deaths\": 6720.0}, {\"date\": \"9/25/20\", \"total confirmed\": 32548215, \"daily new cases\": 329316.0, \"total recovered\": 22485502, \"daily new recovered\": 239727.0, \"total deaths\": 989239, \"daily new deaths\": 5903.0}, {\"date\": \"9/26/20\", \"total confirmed\": 32825265, \"daily new cases\": 277050.0, \"total recovered\": 22728853, \"daily new recovered\": 243351.0, \"total deaths\": 994526, \"daily new deaths\": 5287.0}, {\"date\": \"9/27/20\", \"total confirmed\": 33066434, \"daily new cases\": 241169.0, \"total recovered\": 22939253, \"daily new recovered\": 210400.0, \"total deaths\": 998144, \"daily new deaths\": 3618.0}, {\"date\": \"9/28/20\", \"total confirmed\": 33342317, \"daily new cases\": 275883.0, \"total recovered\": 23164809, \"daily new recovered\": 225556.0, \"total deaths\": 1002070, \"daily new deaths\": 3926.0}, {\"date\": \"9/29/20\", \"total confirmed\": 33626366, \"daily new cases\": 284049.0, \"total recovered\": 23402735, \"daily new recovered\": 237926.0, \"total deaths\": 1008163, \"daily new deaths\": 6093.0}, {\"date\": \"9/30/20\", \"total confirmed\": 33953087, \"daily new cases\": 326721.0, \"total recovered\": 23652271, \"daily new recovered\": 249536.0, \"total deaths\": 1014556, \"daily new deaths\": 6393.0}, {\"date\": \"10/1/20\", \"total confirmed\": 34271069, \"daily new cases\": 317982.0, \"total recovered\": 23872886, \"daily new recovered\": 220615.0, \"total deaths\": 1023252, \"daily new deaths\": 8696.0}, {\"date\": \"10/2/20\", \"total confirmed\": 34565494, \"daily new cases\": 294425.0, \"total recovered\": 24044783, \"daily new recovered\": 171897.0, \"total deaths\": 1028237, \"daily new deaths\": 4985.0}, {\"date\": \"10/3/20\", \"total confirmed\": 34884965, \"daily new cases\": 319471.0, \"total recovered\": 24302969, \"daily new recovered\": 258186.0, \"total deaths\": 1033584, \"daily new deaths\": 5347.0}, {\"date\": \"10/4/20\", \"total confirmed\": 35133661, \"daily new cases\": 248696.0, \"total recovered\": 24521170, \"daily new recovered\": 218201.0, \"total deaths\": 1037360, \"daily new deaths\": 3776.0}, {\"date\": \"10/5/20\", \"total confirmed\": 35462777, \"daily new cases\": 329116.0, \"total recovered\": 24760057, \"daily new recovered\": 238887.0, \"total deaths\": 1044369, \"daily new deaths\": 7009.0}, {\"date\": \"10/6/20\", \"total confirmed\": 35786652, \"daily new cases\": 323875.0, \"total recovered\": 24993149, \"daily new recovered\": 233092.0, \"total deaths\": 1050154, \"daily new deaths\": 5785.0}, {\"date\": \"10/7/20\", \"total confirmed\": 36136477, \"daily new cases\": 349825.0, \"total recovered\": 25248549, \"daily new recovered\": 255400.0, \"total deaths\": 1055972, \"daily new deaths\": 5818.0}, {\"date\": \"10/8/20\", \"total confirmed\": 36496941, \"daily new cases\": 360464.0, \"total recovered\": 25468041, \"daily new recovered\": 219492.0, \"total deaths\": 1062229, \"daily new deaths\": 6257.0}, {\"date\": \"10/9/20\", \"total confirmed\": 36856619, \"daily new cases\": 359678.0, \"total recovered\": 25673338, \"daily new recovered\": 205297.0, \"total deaths\": 1068322, \"daily new deaths\": 6093.0}, {\"date\": \"10/10/20\", \"total confirmed\": 37187024, \"daily new cases\": 330405.0, \"total recovered\": 25865384, \"daily new recovered\": 192046.0, \"total deaths\": 1073154, \"daily new deaths\": 4832.0}, {\"date\": \"10/11/20\", \"total confirmed\": 37456778, \"daily new cases\": 269754.0, \"total recovered\": 26083210, \"daily new recovered\": 217826.0, \"total deaths\": 1077072, \"daily new deaths\": 3918.0}, {\"date\": \"10/12/20\", \"total confirmed\": 37781897, \"daily new cases\": 325119.0, \"total recovered\": 26287563, \"daily new recovered\": 204353.0, \"total deaths\": 1081015, \"daily new deaths\": 3943.0}, {\"date\": \"10/13/20\", \"total confirmed\": 38110901, \"daily new cases\": 329004.0, \"total recovered\": 26481246, \"daily new recovered\": 193683.0, \"total deaths\": 1086471, \"daily new deaths\": 5456.0}, {\"date\": \"10/14/20\", \"total confirmed\": 38490953, \"daily new cases\": 380052.0, \"total recovered\": 26693195, \"daily new recovered\": 211949.0, \"total deaths\": 1092469, \"daily new deaths\": 5998.0}, {\"date\": \"10/15/20\", \"total confirmed\": 38898224, \"daily new cases\": 407271.0, \"total recovered\": 26900376, \"daily new recovered\": 207181.0, \"total deaths\": 1098587, \"daily new deaths\": 6118.0}, {\"date\": \"10/16/20\", \"total confirmed\": 39308667, \"daily new cases\": 410443.0, \"total recovered\": 27105030, \"daily new recovered\": 204654.0, \"total deaths\": 1104713, \"daily new deaths\": 6126.0}, {\"date\": \"10/17/20\", \"total confirmed\": 39649909, \"daily new cases\": 341242.0, \"total recovered\": 27303710, \"daily new recovered\": 198680.0, \"total deaths\": 1110228, \"daily new deaths\": 5515.0}, {\"date\": \"10/18/20\", \"total confirmed\": 39935847, \"daily new cases\": 285938.0, \"total recovered\": 27502706, \"daily new recovered\": 198996.0, \"total deaths\": 1113613, \"daily new deaths\": 3385.0}, {\"date\": \"10/19/20\", \"total confirmed\": 40383933, \"daily new cases\": 448086.0, \"total recovered\": 27713008, \"daily new recovered\": 210302.0, \"total deaths\": 1118614, \"daily new deaths\": 5001.0}, {\"date\": \"10/20/20\", \"total confirmed\": 40772455, \"daily new cases\": 388522.0, \"total recovered\": 27926735, \"daily new recovered\": 213727.0, \"total deaths\": 1125203, \"daily new deaths\": 6589.0}, {\"date\": \"10/21/20\", \"total confirmed\": 41216105, \"daily new cases\": 443650.0, \"total recovered\": 28137873, \"daily new recovered\": 211138.0, \"total deaths\": 1131759, \"daily new deaths\": 6556.0}, {\"date\": \"10/22/20\", \"total confirmed\": 41685750, \"daily new cases\": 469645.0, \"total recovered\": 28364277, \"daily new recovered\": 226404.0, \"total deaths\": 1137661, \"daily new deaths\": 5902.0}, {\"date\": \"10/23/20\", \"total confirmed\": 42182515, \"daily new cases\": 496765.0, \"total recovered\": 28570400, \"daily new recovered\": 206123.0, \"total deaths\": 1144583, \"daily new deaths\": 6922.0}, {\"date\": \"10/24/20\", \"total confirmed\": 42595348, \"daily new cases\": 412833.0, \"total recovered\": 28781667, \"daily new recovered\": 211267.0, \"total deaths\": 1150279, \"daily new deaths\": 5696.0}, {\"date\": \"10/25/20\", \"total confirmed\": 42948826, \"daily new cases\": 353478.0, \"total recovered\": 28978022, \"daily new recovered\": 196355.0, \"total deaths\": 1154419, \"daily new deaths\": 4140.0}, {\"date\": \"10/26/20\", \"total confirmed\": 43485889, \"daily new cases\": 537063.0, \"total recovered\": 29217448, \"daily new recovered\": 239426.0, \"total deaths\": 1160063, \"daily new deaths\": 5644.0}, {\"date\": \"10/27/20\", \"total confirmed\": 43954797, \"daily new cases\": 468908.0, \"total recovered\": 29807969, \"daily new recovered\": 590521.0, \"total deaths\": 1167477, \"daily new deaths\": 7414.0}, {\"date\": \"10/28/20\", \"total confirmed\": 44463732, \"daily new cases\": 508935.0, \"total recovered\": 30073936, \"daily new recovered\": 265967.0, \"total deaths\": 1174558, \"daily new deaths\": 7081.0}, {\"date\": \"10/29/20\", \"total confirmed\": 45014520, \"daily new cases\": 550788.0, \"total recovered\": 30320483, \"daily new recovered\": 246547.0, \"total deaths\": 1181617, \"daily new deaths\": 7059.0}, {\"date\": \"10/30/20\", \"total confirmed\": 45583754, \"daily new cases\": 569234.0, \"total recovered\": 30575509, \"daily new recovered\": 255026.0, \"total deaths\": 1189160, \"daily new deaths\": 7543.0}, {\"date\": \"10/31/20\", \"total confirmed\": 46060084, \"daily new cases\": 476330.0, \"total recovered\": 30820526, \"daily new recovered\": 245017.0, \"total deaths\": 1195706, \"daily new deaths\": 6546.0}, {\"date\": \"11/1/20\", \"total confirmed\": 46494219, \"daily new cases\": 434135.0, \"total recovered\": 31078260, \"daily new recovered\": 257734.0, \"total deaths\": 1200630, \"daily new deaths\": 4924.0}, {\"date\": \"11/2/20\", \"total confirmed\": 47001076, \"daily new cases\": 506857.0, \"total recovered\": 31357886, \"daily new recovered\": 279626.0, \"total deaths\": 1206744, \"daily new deaths\": 6114.0}, {\"date\": \"11/3/20\", \"total confirmed\": 47514619, \"daily new cases\": 513543.0, \"total recovered\": 31609242, \"daily new recovered\": 251356.0, \"total deaths\": 1215196, \"daily new deaths\": 8452.0}, {\"date\": \"11/4/20\", \"total confirmed\": 48112246, \"daily new cases\": 597627.0, \"total recovered\": 31889030, \"daily new recovered\": 279788.0, \"total deaths\": 1226196, \"daily new deaths\": 11000.0}, {\"date\": \"11/5/20\", \"total confirmed\": 48705471, \"daily new cases\": 593225.0, \"total recovered\": 32192465, \"daily new recovered\": 303435.0, \"total deaths\": 1234256, \"daily new deaths\": 8060.0}, {\"date\": \"11/6/20\", \"total confirmed\": 49346623, \"daily new cases\": 641152.0, \"total recovered\": 32480626, \"daily new recovered\": 288161.0, \"total deaths\": 1243795, \"daily new deaths\": 9539.0}, {\"date\": \"11/7/20\", \"total confirmed\": 49858197, \"daily new cases\": 511574.0, \"total recovered\": 32779541, \"daily new recovered\": 298915.0, \"total deaths\": 1251346, \"daily new deaths\": 7551.0}, {\"date\": \"11/8/20\", \"total confirmed\": 50423019, \"daily new cases\": 564822.0, \"total recovered\": 33032762, \"daily new recovered\": 253221.0, \"total deaths\": 1257096, \"daily new deaths\": 5750.0}, {\"date\": \"11/9/20\", \"total confirmed\": 50923398, \"daily new cases\": 500379.0, \"total recovered\": 33289404, \"daily new recovered\": 256642.0, \"total deaths\": 1264218, \"daily new deaths\": 7122.0}, {\"date\": \"11/10/20\", \"total confirmed\": 51481929, \"daily new cases\": 558531.0, \"total recovered\": 33546421, \"daily new recovered\": 257017.0, \"total deaths\": 1274213, \"daily new deaths\": 9995.0}, {\"date\": \"11/11/20\", \"total confirmed\": 52126597, \"daily new cases\": 644668.0, \"total recovered\": 33926351, \"daily new recovered\": 379930.0, \"total deaths\": 1284628, \"daily new deaths\": 10415.0}, {\"date\": \"11/12/20\", \"total confirmed\": 52773432, \"daily new cases\": 646835.0, \"total recovered\": 34150481, \"daily new recovered\": 224130.0, \"total deaths\": 1294372, \"daily new deaths\": 9744.0}, {\"date\": \"11/13/20\", \"total confirmed\": 53421872, \"daily new cases\": 648440.0, \"total recovered\": 34453243, \"daily new recovered\": 302762.0, \"total deaths\": 1303906, \"daily new deaths\": 9534.0}, {\"date\": \"11/14/20\", \"total confirmed\": 54015689, \"daily new cases\": 593817.0, \"total recovered\": 34731314, \"daily new recovered\": 278071.0, \"total deaths\": 1312896, \"daily new deaths\": 8990.0}, {\"date\": \"11/15/20\", \"total confirmed\": 54485945, \"daily new cases\": 470256.0, \"total recovered\": 34960714, \"daily new recovered\": 229400.0, \"total deaths\": 1319144, \"daily new deaths\": 6248.0}, {\"date\": \"11/16/20\", \"total confirmed\": 55021938, \"daily new cases\": 535993.0, \"total recovered\": 35349444, \"daily new recovered\": 388730.0, \"total deaths\": 1327228, \"daily new deaths\": 8084.0}]}}, {\"mode\": \"vega-lite\"});\n",
       "</script>"
      ],
      "text/plain": [
       "alt.Chart(...)"
      ]
     },
     "execution_count": 31,
     "metadata": {},
     "output_type": "execute_result"
    }
   ],
   "source": [
    "#Plot Altair 3: Global time series chart for daily new cases (Im not using this at my webapp, only for example)\n",
    "\n",
    "source = timeseries_final\n",
    "\n",
    "base = alt.Chart(source).encode(x='date:T')\n",
    "\n",
    "line=  base.mark_line(color='blue').encode(\n",
    "    y='daily new cases:Q', tooltip=['yearmonthdate(date)','daily new cases']\n",
    ").properties(width=600)\n",
    "\n",
    "line"
   ]
  },
  {
   "cell_type": "code",
   "execution_count": 32,
   "metadata": {},
   "outputs": [
    {
     "data": {
      "text/html": [
       "\n",
       "<div id=\"altair-viz-367a5771c9dd4470bf7f00dea7d4ba04\"></div>\n",
       "<script type=\"text/javascript\">\n",
       "  (function(spec, embedOpt){\n",
       "    let outputDiv = document.currentScript.previousElementSibling;\n",
       "    if (outputDiv.id !== \"altair-viz-367a5771c9dd4470bf7f00dea7d4ba04\") {\n",
       "      outputDiv = document.getElementById(\"altair-viz-367a5771c9dd4470bf7f00dea7d4ba04\");\n",
       "    }\n",
       "    const paths = {\n",
       "      \"vega\": \"https://cdn.jsdelivr.net/npm//vega@5?noext\",\n",
       "      \"vega-lib\": \"https://cdn.jsdelivr.net/npm//vega-lib?noext\",\n",
       "      \"vega-lite\": \"https://cdn.jsdelivr.net/npm//vega-lite@4.8.1?noext\",\n",
       "      \"vega-embed\": \"https://cdn.jsdelivr.net/npm//vega-embed@6?noext\",\n",
       "    };\n",
       "\n",
       "    function loadScript(lib) {\n",
       "      return new Promise(function(resolve, reject) {\n",
       "        var s = document.createElement('script');\n",
       "        s.src = paths[lib];\n",
       "        s.async = true;\n",
       "        s.onload = () => resolve(paths[lib]);\n",
       "        s.onerror = () => reject(`Error loading script: ${paths[lib]}`);\n",
       "        document.getElementsByTagName(\"head\")[0].appendChild(s);\n",
       "      });\n",
       "    }\n",
       "\n",
       "    function showError(err) {\n",
       "      outputDiv.innerHTML = `<div class=\"error\" style=\"color:red;\">${err}</div>`;\n",
       "      throw err;\n",
       "    }\n",
       "\n",
       "    function displayChart(vegaEmbed) {\n",
       "      vegaEmbed(outputDiv, spec, embedOpt)\n",
       "        .catch(err => showError(`Javascript Error: ${err.message}<br>This usually means there's a typo in your chart specification. See the javascript console for the full traceback.`));\n",
       "    }\n",
       "\n",
       "    if(typeof define === \"function\" && define.amd) {\n",
       "      requirejs.config({paths});\n",
       "      require([\"vega-embed\"], displayChart, err => showError(`Error loading script: ${err.message}`));\n",
       "    } else if (typeof vegaEmbed === \"function\") {\n",
       "      displayChart(vegaEmbed);\n",
       "    } else {\n",
       "      loadScript(\"vega\")\n",
       "        .then(() => loadScript(\"vega-lite\"))\n",
       "        .then(() => loadScript(\"vega-embed\"))\n",
       "        .catch(showError)\n",
       "        .then(() => displayChart(vegaEmbed));\n",
       "    }\n",
       "  })({\"config\": {\"view\": {\"continuousWidth\": 400, \"continuousHeight\": 300}}, \"data\": {\"name\": \"data-4764c2c673295dc763523b35c7cead3f\"}, \"mark\": {\"type\": \"line\", \"color\": \"blue\"}, \"encoding\": {\"tooltip\": [{\"type\": \"temporal\", \"field\": \"date\", \"timeUnit\": \"yearmonthdate\"}, {\"type\": \"quantitative\", \"field\": \"daily_new_confirmed\"}], \"x\": {\"type\": \"temporal\", \"field\": \"date\"}, \"y\": {\"type\": \"quantitative\", \"field\": \"daily_new_confirmed\"}}, \"width\": 600, \"$schema\": \"https://vega.github.io/schema/vega-lite/v4.8.1.json\", \"datasets\": {\"data-4764c2c673295dc763523b35c7cead3f\": [{\"date\": \"1/22/20\", \"value_confirmed\": 1, \"daily_new_confirmed\": 0.0, \"value_death\": 0, \"daily_new_death\": 0.0, \"value_recovered\": 0, \"daily_new_recovered\": 0.0}, {\"date\": \"1/23/20\", \"value_confirmed\": 1, \"daily_new_confirmed\": 0.0, \"value_death\": 0, \"daily_new_death\": 0.0, \"value_recovered\": 0, \"daily_new_recovered\": 0.0}, {\"date\": \"1/24/20\", \"value_confirmed\": 2, \"daily_new_confirmed\": 1.0, \"value_death\": 0, \"daily_new_death\": 0.0, \"value_recovered\": 0, \"daily_new_recovered\": 0.0}, {\"date\": \"1/25/20\", \"value_confirmed\": 2, \"daily_new_confirmed\": 0.0, \"value_death\": 0, \"daily_new_death\": 0.0, \"value_recovered\": 0, \"daily_new_recovered\": 0.0}, {\"date\": \"1/26/20\", \"value_confirmed\": 5, \"daily_new_confirmed\": 3.0, \"value_death\": 0, \"daily_new_death\": 0.0, \"value_recovered\": 0, \"daily_new_recovered\": 0.0}, {\"date\": \"1/27/20\", \"value_confirmed\": 5, \"daily_new_confirmed\": 0.0, \"value_death\": 0, \"daily_new_death\": 0.0, \"value_recovered\": 0, \"daily_new_recovered\": 0.0}, {\"date\": \"1/28/20\", \"value_confirmed\": 5, \"daily_new_confirmed\": 0.0, \"value_death\": 0, \"daily_new_death\": 0.0, \"value_recovered\": 0, \"daily_new_recovered\": 0.0}, {\"date\": \"1/29/20\", \"value_confirmed\": 6, \"daily_new_confirmed\": 1.0, \"value_death\": 0, \"daily_new_death\": 0.0, \"value_recovered\": 0, \"daily_new_recovered\": 0.0}, {\"date\": \"1/30/20\", \"value_confirmed\": 6, \"daily_new_confirmed\": 0.0, \"value_death\": 0, \"daily_new_death\": 0.0, \"value_recovered\": 0, \"daily_new_recovered\": 0.0}, {\"date\": \"1/31/20\", \"value_confirmed\": 8, \"daily_new_confirmed\": 2.0, \"value_death\": 0, \"daily_new_death\": 0.0, \"value_recovered\": 0, \"daily_new_recovered\": 0.0}, {\"date\": \"2/1/20\", \"value_confirmed\": 8, \"daily_new_confirmed\": 0.0, \"value_death\": 0, \"daily_new_death\": 0.0, \"value_recovered\": 0, \"daily_new_recovered\": 0.0}, {\"date\": \"2/2/20\", \"value_confirmed\": 8, \"daily_new_confirmed\": 0.0, \"value_death\": 0, \"daily_new_death\": 0.0, \"value_recovered\": 0, \"daily_new_recovered\": 0.0}, {\"date\": \"2/3/20\", \"value_confirmed\": 11, \"daily_new_confirmed\": 3.0, \"value_death\": 0, \"daily_new_death\": 0.0, \"value_recovered\": 0, \"daily_new_recovered\": 0.0}, {\"date\": \"2/4/20\", \"value_confirmed\": 11, \"daily_new_confirmed\": 0.0, \"value_death\": 0, \"daily_new_death\": 0.0, \"value_recovered\": 0, \"daily_new_recovered\": 0.0}, {\"date\": \"2/5/20\", \"value_confirmed\": 11, \"daily_new_confirmed\": 0.0, \"value_death\": 0, \"daily_new_death\": 0.0, \"value_recovered\": 0, \"daily_new_recovered\": 0.0}, {\"date\": \"2/6/20\", \"value_confirmed\": 12, \"daily_new_confirmed\": 1.0, \"value_death\": 0, \"daily_new_death\": 0.0, \"value_recovered\": 0, \"daily_new_recovered\": 0.0}, {\"date\": \"2/7/20\", \"value_confirmed\": 12, \"daily_new_confirmed\": 0.0, \"value_death\": 0, \"daily_new_death\": 0.0, \"value_recovered\": 0, \"daily_new_recovered\": 0.0}, {\"date\": \"2/8/20\", \"value_confirmed\": 12, \"daily_new_confirmed\": 0.0, \"value_death\": 0, \"daily_new_death\": 0.0, \"value_recovered\": 0, \"daily_new_recovered\": 0.0}, {\"date\": \"2/9/20\", \"value_confirmed\": 12, \"daily_new_confirmed\": 0.0, \"value_death\": 0, \"daily_new_death\": 0.0, \"value_recovered\": 3, \"daily_new_recovered\": 3.0}, {\"date\": \"2/10/20\", \"value_confirmed\": 12, \"daily_new_confirmed\": 0.0, \"value_death\": 0, \"daily_new_death\": 0.0, \"value_recovered\": 3, \"daily_new_recovered\": 0.0}, {\"date\": \"2/11/20\", \"value_confirmed\": 13, \"daily_new_confirmed\": 1.0, \"value_death\": 0, \"daily_new_death\": 0.0, \"value_recovered\": 3, \"daily_new_recovered\": 0.0}, {\"date\": \"2/12/20\", \"value_confirmed\": 13, \"daily_new_confirmed\": 0.0, \"value_death\": 0, \"daily_new_death\": 0.0, \"value_recovered\": 3, \"daily_new_recovered\": 0.0}, {\"date\": \"2/13/20\", \"value_confirmed\": 14, \"daily_new_confirmed\": 1.0, \"value_death\": 0, \"daily_new_death\": 0.0, \"value_recovered\": 3, \"daily_new_recovered\": 0.0}, {\"date\": \"2/14/20\", \"value_confirmed\": 14, \"daily_new_confirmed\": 0.0, \"value_death\": 0, \"daily_new_death\": 0.0, \"value_recovered\": 3, \"daily_new_recovered\": 0.0}, {\"date\": \"2/15/20\", \"value_confirmed\": 14, \"daily_new_confirmed\": 0.0, \"value_death\": 0, \"daily_new_death\": 0.0, \"value_recovered\": 3, \"daily_new_recovered\": 0.0}, {\"date\": \"2/16/20\", \"value_confirmed\": 14, \"daily_new_confirmed\": 0.0, \"value_death\": 0, \"daily_new_death\": 0.0, \"value_recovered\": 3, \"daily_new_recovered\": 0.0}, {\"date\": \"2/17/20\", \"value_confirmed\": 14, \"daily_new_confirmed\": 0.0, \"value_death\": 0, \"daily_new_death\": 0.0, \"value_recovered\": 3, \"daily_new_recovered\": 0.0}, {\"date\": \"2/18/20\", \"value_confirmed\": 14, \"daily_new_confirmed\": 0.0, \"value_death\": 0, \"daily_new_death\": 0.0, \"value_recovered\": 3, \"daily_new_recovered\": 0.0}, {\"date\": \"2/19/20\", \"value_confirmed\": 14, \"daily_new_confirmed\": 0.0, \"value_death\": 0, \"daily_new_death\": 0.0, \"value_recovered\": 3, \"daily_new_recovered\": 0.0}, {\"date\": \"2/20/20\", \"value_confirmed\": 14, \"daily_new_confirmed\": 0.0, \"value_death\": 0, \"daily_new_death\": 0.0, \"value_recovered\": 3, \"daily_new_recovered\": 0.0}, {\"date\": \"2/21/20\", \"value_confirmed\": 16, \"daily_new_confirmed\": 2.0, \"value_death\": 0, \"daily_new_death\": 0.0, \"value_recovered\": 5, \"daily_new_recovered\": 2.0}, {\"date\": \"2/22/20\", \"value_confirmed\": 16, \"daily_new_confirmed\": 0.0, \"value_death\": 0, \"daily_new_death\": 0.0, \"value_recovered\": 5, \"daily_new_recovered\": 0.0}, {\"date\": \"2/23/20\", \"value_confirmed\": 16, \"daily_new_confirmed\": 0.0, \"value_death\": 0, \"daily_new_death\": 0.0, \"value_recovered\": 5, \"daily_new_recovered\": 0.0}, {\"date\": \"2/24/20\", \"value_confirmed\": 16, \"daily_new_confirmed\": 0.0, \"value_death\": 0, \"daily_new_death\": 0.0, \"value_recovered\": 5, \"daily_new_recovered\": 0.0}, {\"date\": \"2/25/20\", \"value_confirmed\": 16, \"daily_new_confirmed\": 0.0, \"value_death\": 0, \"daily_new_death\": 0.0, \"value_recovered\": 6, \"daily_new_recovered\": 1.0}, {\"date\": \"2/26/20\", \"value_confirmed\": 16, \"daily_new_confirmed\": 0.0, \"value_death\": 0, \"daily_new_death\": 0.0, \"value_recovered\": 6, \"daily_new_recovered\": 0.0}, {\"date\": \"2/27/20\", \"value_confirmed\": 17, \"daily_new_confirmed\": 1.0, \"value_death\": 0, \"daily_new_death\": 0.0, \"value_recovered\": 6, \"daily_new_recovered\": 0.0}, {\"date\": \"2/28/20\", \"value_confirmed\": 17, \"daily_new_confirmed\": 0.0, \"value_death\": 0, \"daily_new_death\": 0.0, \"value_recovered\": 7, \"daily_new_recovered\": 1.0}, {\"date\": \"2/29/20\", \"value_confirmed\": 25, \"daily_new_confirmed\": 8.0, \"value_death\": 1, \"daily_new_death\": 1.0, \"value_recovered\": 7, \"daily_new_recovered\": 0.0}, {\"date\": \"3/1/20\", \"value_confirmed\": 32, \"daily_new_confirmed\": 7.0, \"value_death\": 1, \"daily_new_death\": 0.0, \"value_recovered\": 7, \"daily_new_recovered\": 0.0}, {\"date\": \"3/2/20\", \"value_confirmed\": 55, \"daily_new_confirmed\": 23.0, \"value_death\": 6, \"daily_new_death\": 5.0, \"value_recovered\": 7, \"daily_new_recovered\": 0.0}, {\"date\": \"3/3/20\", \"value_confirmed\": 74, \"daily_new_confirmed\": 19.0, \"value_death\": 7, \"daily_new_death\": 1.0, \"value_recovered\": 7, \"daily_new_recovered\": 0.0}, {\"date\": \"3/4/20\", \"value_confirmed\": 107, \"daily_new_confirmed\": 33.0, \"value_death\": 11, \"daily_new_death\": 4.0, \"value_recovered\": 7, \"daily_new_recovered\": 0.0}, {\"date\": \"3/5/20\", \"value_confirmed\": 184, \"daily_new_confirmed\": 77.0, \"value_death\": 12, \"daily_new_death\": 1.0, \"value_recovered\": 7, \"daily_new_recovered\": 0.0}, {\"date\": \"3/6/20\", \"value_confirmed\": 237, \"daily_new_confirmed\": 53.0, \"value_death\": 14, \"daily_new_death\": 2.0, \"value_recovered\": 7, \"daily_new_recovered\": 0.0}, {\"date\": \"3/7/20\", \"value_confirmed\": 403, \"daily_new_confirmed\": 166.0, \"value_death\": 17, \"daily_new_death\": 3.0, \"value_recovered\": 7, \"daily_new_recovered\": 0.0}, {\"date\": \"3/8/20\", \"value_confirmed\": 519, \"daily_new_confirmed\": 116.0, \"value_death\": 21, \"daily_new_death\": 4.0, \"value_recovered\": 7, \"daily_new_recovered\": 0.0}, {\"date\": \"3/9/20\", \"value_confirmed\": 594, \"daily_new_confirmed\": 75.0, \"value_death\": 22, \"daily_new_death\": 1.0, \"value_recovered\": 7, \"daily_new_recovered\": 0.0}, {\"date\": \"3/10/20\", \"value_confirmed\": 782, \"daily_new_confirmed\": 188.0, \"value_death\": 28, \"daily_new_death\": 6.0, \"value_recovered\": 8, \"daily_new_recovered\": 1.0}, {\"date\": \"3/11/20\", \"value_confirmed\": 1147, \"daily_new_confirmed\": 365.0, \"value_death\": 33, \"daily_new_death\": 5.0, \"value_recovered\": 8, \"daily_new_recovered\": 0.0}, {\"date\": \"3/12/20\", \"value_confirmed\": 1586, \"daily_new_confirmed\": 439.0, \"value_death\": 43, \"daily_new_death\": 10.0, \"value_recovered\": 12, \"daily_new_recovered\": 4.0}, {\"date\": \"3/13/20\", \"value_confirmed\": 2219, \"daily_new_confirmed\": 633.0, \"value_death\": 51, \"daily_new_death\": 8.0, \"value_recovered\": 12, \"daily_new_recovered\": 0.0}, {\"date\": \"3/14/20\", \"value_confirmed\": 2978, \"daily_new_confirmed\": 759.0, \"value_death\": 58, \"daily_new_death\": 7.0, \"value_recovered\": 12, \"daily_new_recovered\": 0.0}, {\"date\": \"3/15/20\", \"value_confirmed\": 3212, \"daily_new_confirmed\": 234.0, \"value_death\": 70, \"daily_new_death\": 12.0, \"value_recovered\": 12, \"daily_new_recovered\": 0.0}, {\"date\": \"3/16/20\", \"value_confirmed\": 4679, \"daily_new_confirmed\": 1467.0, \"value_death\": 97, \"daily_new_death\": 27.0, \"value_recovered\": 17, \"daily_new_recovered\": 5.0}, {\"date\": \"3/17/20\", \"value_confirmed\": 6512, \"daily_new_confirmed\": 1833.0, \"value_death\": 132, \"daily_new_death\": 35.0, \"value_recovered\": 17, \"daily_new_recovered\": 0.0}, {\"date\": \"3/18/20\", \"value_confirmed\": 9169, \"daily_new_confirmed\": 2657.0, \"value_death\": 191, \"daily_new_death\": 59.0, \"value_recovered\": 105, \"daily_new_recovered\": 88.0}, {\"date\": \"3/19/20\", \"value_confirmed\": 13663, \"daily_new_confirmed\": 4494.0, \"value_death\": 264, \"daily_new_death\": 73.0, \"value_recovered\": 121, \"daily_new_recovered\": 16.0}, {\"date\": \"3/20/20\", \"value_confirmed\": 20030, \"daily_new_confirmed\": 6367.0, \"value_death\": 365, \"daily_new_death\": 101.0, \"value_recovered\": 147, \"daily_new_recovered\": 26.0}, {\"date\": \"3/21/20\", \"value_confirmed\": 26025, \"daily_new_confirmed\": 5995.0, \"value_death\": 464, \"daily_new_death\": 99.0, \"value_recovered\": 176, \"daily_new_recovered\": 29.0}, {\"date\": \"3/22/20\", \"value_confirmed\": 34832, \"daily_new_confirmed\": 8807.0, \"value_death\": 574, \"daily_new_death\": 110.0, \"value_recovered\": 178, \"daily_new_recovered\": 2.0}, {\"date\": \"3/23/20\", \"value_confirmed\": 46052, \"daily_new_confirmed\": 11220.0, \"value_death\": 762, \"daily_new_death\": 188.0, \"value_recovered\": 178, \"daily_new_recovered\": 0.0}, {\"date\": \"3/24/20\", \"value_confirmed\": 56629, \"daily_new_confirmed\": 10577.0, \"value_death\": 1003, \"daily_new_death\": 241.0, \"value_recovered\": 348, \"daily_new_recovered\": 170.0}, {\"date\": \"3/25/20\", \"value_confirmed\": 68663, \"daily_new_confirmed\": 12034.0, \"value_death\": 1329, \"daily_new_death\": 326.0, \"value_recovered\": 361, \"daily_new_recovered\": 13.0}, {\"date\": \"3/26/20\", \"value_confirmed\": 86556, \"daily_new_confirmed\": 17893.0, \"value_death\": 1741, \"daily_new_death\": 412.0, \"value_recovered\": 681, \"daily_new_recovered\": 320.0}, {\"date\": \"3/27/20\", \"value_confirmed\": 105196, \"daily_new_confirmed\": 18640.0, \"value_death\": 2259, \"daily_new_death\": 518.0, \"value_recovered\": 869, \"daily_new_recovered\": 188.0}, {\"date\": \"3/28/20\", \"value_confirmed\": 124793, \"daily_new_confirmed\": 19597.0, \"value_death\": 2891, \"daily_new_death\": 632.0, \"value_recovered\": 1072, \"daily_new_recovered\": 203.0}, {\"date\": \"3/29/20\", \"value_confirmed\": 143724, \"daily_new_confirmed\": 18931.0, \"value_death\": 3484, \"daily_new_death\": 593.0, \"value_recovered\": 2665, \"daily_new_recovered\": 1593.0}, {\"date\": \"3/30/20\", \"value_confirmed\": 165733, \"daily_new_confirmed\": 22009.0, \"value_death\": 4180, \"daily_new_death\": 696.0, \"value_recovered\": 5644, \"daily_new_recovered\": 2979.0}, {\"date\": \"3/31/20\", \"value_confirmed\": 192101, \"daily_new_confirmed\": 26368.0, \"value_death\": 5272, \"daily_new_death\": 1092.0, \"value_recovered\": 7024, \"daily_new_recovered\": 1380.0}, {\"date\": \"4/1/20\", \"value_confirmed\": 217920, \"daily_new_confirmed\": 25819.0, \"value_death\": 6452, \"daily_new_death\": 1180.0, \"value_recovered\": 8474, \"daily_new_recovered\": 1450.0}, {\"date\": \"4/2/20\", \"value_confirmed\": 248309, \"daily_new_confirmed\": 30389.0, \"value_death\": 7954, \"daily_new_death\": 1502.0, \"value_recovered\": 9001, \"daily_new_recovered\": 527.0}, {\"date\": \"4/3/20\", \"value_confirmed\": 280306, \"daily_new_confirmed\": 31997.0, \"value_death\": 9348, \"daily_new_death\": 1394.0, \"value_recovered\": 9707, \"daily_new_recovered\": 706.0}, {\"date\": \"4/4/20\", \"value_confirmed\": 313304, \"daily_new_confirmed\": 32998.0, \"value_death\": 10892, \"daily_new_death\": 1544.0, \"value_recovered\": 14652, \"daily_new_recovered\": 4945.0}, {\"date\": \"4/5/20\", \"value_confirmed\": 341489, \"daily_new_confirmed\": 28185.0, \"value_death\": 12458, \"daily_new_death\": 1566.0, \"value_recovered\": 17448, \"daily_new_recovered\": 2796.0}, {\"date\": \"4/6/20\", \"value_confirmed\": 371675, \"daily_new_confirmed\": 30186.0, \"value_death\": 14234, \"daily_new_death\": 1776.0, \"value_recovered\": 19581, \"daily_new_recovered\": 2133.0}, {\"date\": \"4/7/20\", \"value_confirmed\": 403073, \"daily_new_confirmed\": 31398.0, \"value_death\": 16798, \"daily_new_death\": 2564.0, \"value_recovered\": 21763, \"daily_new_recovered\": 2182.0}, {\"date\": \"4/8/20\", \"value_confirmed\": 435089, \"daily_new_confirmed\": 32016.0, \"value_death\": 18953, \"daily_new_death\": 2155.0, \"value_recovered\": 23559, \"daily_new_recovered\": 1796.0}, {\"date\": \"4/9/20\", \"value_confirmed\": 469738, \"daily_new_confirmed\": 34649.0, \"value_death\": 21184, \"daily_new_death\": 2231.0, \"value_recovered\": 25410, \"daily_new_recovered\": 1851.0}, {\"date\": \"4/10/20\", \"value_confirmed\": 503274, \"daily_new_confirmed\": 33536.0, \"value_death\": 23395, \"daily_new_death\": 2211.0, \"value_recovered\": 28790, \"daily_new_recovered\": 3380.0}, {\"date\": \"4/11/20\", \"value_confirmed\": 532632, \"daily_new_confirmed\": 29358.0, \"value_death\": 25530, \"daily_new_death\": 2135.0, \"value_recovered\": 31270, \"daily_new_recovered\": 2480.0}, {\"date\": \"4/12/20\", \"value_confirmed\": 559591, \"daily_new_confirmed\": 26959.0, \"value_death\": 27335, \"daily_new_death\": 1805.0, \"value_recovered\": 32988, \"daily_new_recovered\": 1718.0}, {\"date\": \"4/13/20\", \"value_confirmed\": 585382, \"daily_new_confirmed\": 25791.0, \"value_death\": 29281, \"daily_new_death\": 1946.0, \"value_recovered\": 43482, \"daily_new_recovered\": 10494.0}, {\"date\": \"4/14/20\", \"value_confirmed\": 613973, \"daily_new_confirmed\": 28591.0, \"value_death\": 31726, \"daily_new_death\": 2445.0, \"value_recovered\": 47763, \"daily_new_recovered\": 4281.0}, {\"date\": \"4/15/20\", \"value_confirmed\": 643981, \"daily_new_confirmed\": 30008.0, \"value_death\": 34335, \"daily_new_death\": 2609.0, \"value_recovered\": 52096, \"daily_new_recovered\": 4333.0}, {\"date\": \"4/16/20\", \"value_confirmed\": 675504, \"daily_new_confirmed\": 31523.0, \"value_death\": 36506, \"daily_new_death\": 2171.0, \"value_recovered\": 54703, \"daily_new_recovered\": 2607.0}, {\"date\": \"4/17/20\", \"value_confirmed\": 708310, \"daily_new_confirmed\": 32806.0, \"value_death\": 38597, \"daily_new_death\": 2091.0, \"value_recovered\": 58545, \"daily_new_recovered\": 3842.0}, {\"date\": \"4/18/20\", \"value_confirmed\": 736161, \"daily_new_confirmed\": 27851.0, \"value_death\": 40567, \"daily_new_death\": 1970.0, \"value_recovered\": 64840, \"daily_new_recovered\": 6295.0}, {\"date\": \"4/19/20\", \"value_confirmed\": 761842, \"daily_new_confirmed\": 25681.0, \"value_death\": 42499, \"daily_new_death\": 1932.0, \"value_recovered\": 70337, \"daily_new_recovered\": 5497.0}, {\"date\": \"4/20/20\", \"value_confirmed\": 790264, \"daily_new_confirmed\": 28422.0, \"value_death\": 44679, \"daily_new_death\": 2180.0, \"value_recovered\": 72329, \"daily_new_recovered\": 1992.0}, {\"date\": \"4/21/20\", \"value_confirmed\": 816302, \"daily_new_confirmed\": 26038.0, \"value_death\": 47221, \"daily_new_death\": 2542.0, \"value_recovered\": 75204, \"daily_new_recovered\": 2875.0}, {\"date\": \"4/22/20\", \"value_confirmed\": 845599, \"daily_new_confirmed\": 29297.0, \"value_death\": 49659, \"daily_new_death\": 2438.0, \"value_recovered\": 77366, \"daily_new_recovered\": 2162.0}, {\"date\": \"4/23/20\", \"value_confirmed\": 878844, \"daily_new_confirmed\": 33245.0, \"value_death\": 52125, \"daily_new_death\": 2466.0, \"value_recovered\": 80203, \"daily_new_recovered\": 2837.0}, {\"date\": \"4/24/20\", \"value_confirmed\": 912596, \"daily_new_confirmed\": 33752.0, \"value_death\": 54285, \"daily_new_death\": 2160.0, \"value_recovered\": 99079, \"daily_new_recovered\": 18876.0}, {\"date\": \"4/25/20\", \"value_confirmed\": 943963, \"daily_new_confirmed\": 31367.0, \"value_death\": 55988, \"daily_new_death\": 1703.0, \"value_recovered\": 100372, \"daily_new_recovered\": 1293.0}, {\"date\": \"4/26/20\", \"value_confirmed\": 971012, \"daily_new_confirmed\": 27049.0, \"value_death\": 57322, \"daily_new_death\": 1334.0, \"value_recovered\": 106988, \"daily_new_recovered\": 6616.0}, {\"date\": \"4/27/20\", \"value_confirmed\": 994171, \"daily_new_confirmed\": 23159.0, \"value_death\": 58787, \"daily_new_death\": 1465.0, \"value_recovered\": 111424, \"daily_new_recovered\": 4436.0}, {\"date\": \"4/28/20\", \"value_confirmed\": 1018837, \"daily_new_confirmed\": 24666.0, \"value_death\": 61028, \"daily_new_death\": 2241.0, \"value_recovered\": 115936, \"daily_new_recovered\": 4512.0}, {\"date\": \"4/29/20\", \"value_confirmed\": 1046655, \"daily_new_confirmed\": 27818.0, \"value_death\": 63555, \"daily_new_death\": 2527.0, \"value_recovered\": 120720, \"daily_new_recovered\": 4784.0}, {\"date\": \"4/30/20\", \"value_confirmed\": 1076104, \"daily_new_confirmed\": 29449.0, \"value_death\": 65971, \"daily_new_death\": 2416.0, \"value_recovered\": 153947, \"daily_new_recovered\": 33227.0}, {\"date\": \"5/1/20\", \"value_confirmed\": 1110297, \"daily_new_confirmed\": 34193.0, \"value_death\": 67848, \"daily_new_death\": 1877.0, \"value_recovered\": 164015, \"daily_new_recovered\": 10068.0}, {\"date\": \"5/2/20\", \"value_confirmed\": 1138126, \"daily_new_confirmed\": 27829.0, \"value_death\": 69535, \"daily_new_death\": 1687.0, \"value_recovered\": 175382, \"daily_new_recovered\": 11367.0}, {\"date\": \"5/3/20\", \"value_confirmed\": 1162592, \"daily_new_confirmed\": 24466.0, \"value_death\": 70638, \"daily_new_death\": 1103.0, \"value_recovered\": 180152, \"daily_new_recovered\": 4770.0}, {\"date\": \"5/4/20\", \"value_confirmed\": 1185972, \"daily_new_confirmed\": 23380.0, \"value_death\": 71956, \"daily_new_death\": 1318.0, \"value_recovered\": 187180, \"daily_new_recovered\": 7028.0}, {\"date\": \"5/5/20\", \"value_confirmed\": 1210458, \"daily_new_confirmed\": 24486.0, \"value_death\": 74255, \"daily_new_death\": 2299.0, \"value_recovered\": 189791, \"daily_new_recovered\": 2611.0}, {\"date\": \"5/6/20\", \"value_confirmed\": 1235561, \"daily_new_confirmed\": 25103.0, \"value_death\": 76599, \"daily_new_death\": 2344.0, \"value_recovered\": 189910, \"daily_new_recovered\": 119.0}, {\"date\": \"5/7/20\", \"value_confirmed\": 1263296, \"daily_new_confirmed\": 27735.0, \"value_death\": 78523, \"daily_new_death\": 1924.0, \"value_recovered\": 195036, \"daily_new_recovered\": 5126.0}, {\"date\": \"5/8/20\", \"value_confirmed\": 1290069, \"daily_new_confirmed\": 26773.0, \"value_death\": 80275, \"daily_new_death\": 1752.0, \"value_recovered\": 198993, \"daily_new_recovered\": 3957.0}, {\"date\": \"5/9/20\", \"value_confirmed\": 1315026, \"daily_new_confirmed\": 24957.0, \"value_death\": 81817, \"daily_new_death\": 1542.0, \"value_recovered\": 212534, \"daily_new_recovered\": 13541.0}, {\"date\": \"5/10/20\", \"value_confirmed\": 1333863, \"daily_new_confirmed\": 18837.0, \"value_death\": 82717, \"daily_new_death\": 900.0, \"value_recovered\": 216169, \"daily_new_recovered\": 3635.0}, {\"date\": \"5/11/20\", \"value_confirmed\": 1353268, \"daily_new_confirmed\": 19405.0, \"value_death\": 83719, \"daily_new_death\": 1002.0, \"value_recovered\": 232733, \"daily_new_recovered\": 16564.0}, {\"date\": \"5/12/20\", \"value_confirmed\": 1375989, \"daily_new_confirmed\": 22721.0, \"value_death\": 85333, \"daily_new_death\": 1614.0, \"value_recovered\": 230287, \"daily_new_recovered\": -2446.0}, {\"date\": \"5/13/20\", \"value_confirmed\": 1396928, \"daily_new_confirmed\": 20939.0, \"value_death\": 87082, \"daily_new_death\": 1749.0, \"value_recovered\": 243430, \"daily_new_recovered\": 13143.0}, {\"date\": \"5/14/20\", \"value_confirmed\": 1424152, \"daily_new_confirmed\": 27224.0, \"value_death\": 88856, \"daily_new_death\": 1774.0, \"value_recovered\": 246414, \"daily_new_recovered\": 2984.0}, {\"date\": \"5/15/20\", \"value_confirmed\": 1449346, \"daily_new_confirmed\": 25194.0, \"value_death\": 90520, \"daily_new_death\": 1664.0, \"value_recovered\": 250747, \"daily_new_recovered\": 4333.0}, {\"date\": \"5/16/20\", \"value_confirmed\": 1473343, \"daily_new_confirmed\": 23997.0, \"value_death\": 91792, \"daily_new_death\": 1272.0, \"value_recovered\": 268376, \"daily_new_recovered\": 17629.0}, {\"date\": \"5/17/20\", \"value_confirmed\": 1491438, \"daily_new_confirmed\": 18095.0, \"value_death\": 92547, \"daily_new_death\": 755.0, \"value_recovered\": 272265, \"daily_new_recovered\": 3889.0}, {\"date\": \"5/18/20\", \"value_confirmed\": 1513437, \"daily_new_confirmed\": 21999.0, \"value_death\": 93714, \"daily_new_death\": 1167.0, \"value_recovered\": 283178, \"daily_new_recovered\": 10913.0}, {\"date\": \"5/19/20\", \"value_confirmed\": 1534386, \"daily_new_confirmed\": 20949.0, \"value_death\": 95240, \"daily_new_death\": 1526.0, \"value_recovered\": 289392, \"daily_new_recovered\": 6214.0}, {\"date\": \"5/20/20\", \"value_confirmed\": 1557833, \"daily_new_confirmed\": 23447.0, \"value_death\": 96758, \"daily_new_death\": 1518.0, \"value_recovered\": 294312, \"daily_new_recovered\": 4920.0}, {\"date\": \"5/21/20\", \"value_confirmed\": 1583458, \"daily_new_confirmed\": 25625.0, \"value_death\": 97969, \"daily_new_death\": 1211.0, \"value_recovered\": 298418, \"daily_new_recovered\": 4106.0}, {\"date\": \"5/22/20\", \"value_confirmed\": 1606787, \"daily_new_confirmed\": 23329.0, \"value_death\": 99214, \"daily_new_death\": 1245.0, \"value_recovered\": 350135, \"daily_new_recovered\": 51717.0}, {\"date\": \"5/23/20\", \"value_confirmed\": 1627923, \"daily_new_confirmed\": 21136.0, \"value_death\": 100348, \"daily_new_death\": 1134.0, \"value_recovered\": 361239, \"daily_new_recovered\": 11104.0}, {\"date\": \"5/24/20\", \"value_confirmed\": 1647948, \"daily_new_confirmed\": 20025.0, \"value_death\": 100964, \"daily_new_death\": 616.0, \"value_recovered\": 366736, \"daily_new_recovered\": 5497.0}, {\"date\": \"5/25/20\", \"value_confirmed\": 1666219, \"daily_new_confirmed\": 18271.0, \"value_death\": 101521, \"daily_new_death\": 557.0, \"value_recovered\": 379157, \"daily_new_recovered\": 12421.0}, {\"date\": \"5/26/20\", \"value_confirmed\": 1685682, \"daily_new_confirmed\": 19463.0, \"value_death\": 102185, \"daily_new_death\": 664.0, \"value_recovered\": 384902, \"daily_new_recovered\": 5745.0}, {\"date\": \"5/27/20\", \"value_confirmed\": 1704217, \"daily_new_confirmed\": 18535.0, \"value_death\": 103693, \"daily_new_death\": 1508.0, \"value_recovered\": 391508, \"daily_new_recovered\": 6606.0}, {\"date\": \"5/28/20\", \"value_confirmed\": 1727097, \"daily_new_confirmed\": 22880.0, \"value_death\": 104876, \"daily_new_death\": 1183.0, \"value_recovered\": 399991, \"daily_new_recovered\": 8483.0}, {\"date\": \"5/29/20\", \"value_confirmed\": 1751301, \"daily_new_confirmed\": 24204.0, \"value_death\": 106031, \"daily_new_death\": 1155.0, \"value_recovered\": 406446, \"daily_new_recovered\": 6455.0}, {\"date\": \"5/30/20\", \"value_confirmed\": 1775081, \"daily_new_confirmed\": 23780.0, \"value_death\": 106985, \"daily_new_death\": 954.0, \"value_recovered\": 416461, \"daily_new_recovered\": 10015.0}, {\"date\": \"5/31/20\", \"value_confirmed\": 1794196, \"daily_new_confirmed\": 19115.0, \"value_death\": 107674, \"daily_new_death\": 689.0, \"value_recovered\": 444758, \"daily_new_recovered\": 28297.0}, {\"date\": \"6/1/20\", \"value_confirmed\": 1811469, \"daily_new_confirmed\": 17273.0, \"value_death\": 108451, \"daily_new_death\": 777.0, \"value_recovered\": 458231, \"daily_new_recovered\": 13473.0}, {\"date\": \"6/2/20\", \"value_confirmed\": 1832782, \"daily_new_confirmed\": 21313.0, \"value_death\": 109500, \"daily_new_death\": 1049.0, \"value_recovered\": 463868, \"daily_new_recovered\": 5637.0}, {\"date\": \"6/3/20\", \"value_confirmed\": 1852680, \"daily_new_confirmed\": 19898.0, \"value_death\": 110494, \"daily_new_death\": 994.0, \"value_recovered\": 479258, \"daily_new_recovered\": 15390.0}, {\"date\": \"6/4/20\", \"value_confirmed\": 1873943, \"daily_new_confirmed\": 21263.0, \"value_death\": 111499, \"daily_new_death\": 1005.0, \"value_recovered\": 485002, \"daily_new_recovered\": 5744.0}, {\"date\": \"6/5/20\", \"value_confirmed\": 1899008, \"daily_new_confirmed\": 25065.0, \"value_death\": 112405, \"daily_new_death\": 906.0, \"value_recovered\": 491706, \"daily_new_recovered\": 6704.0}, {\"date\": \"6/6/20\", \"value_confirmed\": 1920581, \"daily_new_confirmed\": 21573.0, \"value_death\": 113102, \"daily_new_death\": 697.0, \"value_recovered\": 500849, \"daily_new_recovered\": 9143.0}, {\"date\": \"6/7/20\", \"value_confirmed\": 1938302, \"daily_new_confirmed\": 17721.0, \"value_death\": 113543, \"daily_new_death\": 441.0, \"value_recovered\": 506367, \"daily_new_recovered\": 5518.0}, {\"date\": \"6/8/20\", \"value_confirmed\": 1955778, \"daily_new_confirmed\": 17476.0, \"value_death\": 114040, \"daily_new_death\": 497.0, \"value_recovered\": 518522, \"daily_new_recovered\": 12155.0}, {\"date\": \"6/9/20\", \"value_confirmed\": 1974024, \"daily_new_confirmed\": 18246.0, \"value_death\": 114970, \"daily_new_death\": 930.0, \"value_recovered\": 524855, \"daily_new_recovered\": 6333.0}, {\"date\": \"6/10/20\", \"value_confirmed\": 1994722, \"daily_new_confirmed\": 20698.0, \"value_death\": 115869, \"daily_new_death\": 899.0, \"value_recovered\": 533504, \"daily_new_recovered\": 8649.0}, {\"date\": \"6/11/20\", \"value_confirmed\": 2017907, \"daily_new_confirmed\": 23185.0, \"value_death\": 116723, \"daily_new_death\": 854.0, \"value_recovered\": 540292, \"daily_new_recovered\": 6788.0}, {\"date\": \"6/12/20\", \"value_confirmed\": 2042646, \"daily_new_confirmed\": 24739.0, \"value_death\": 117543, \"daily_new_death\": 820.0, \"value_recovered\": 547386, \"daily_new_recovered\": 7094.0}, {\"date\": \"6/13/20\", \"value_confirmed\": 2067774, \"daily_new_confirmed\": 25128.0, \"value_death\": 118316, \"daily_new_death\": 773.0, \"value_recovered\": 556606, \"daily_new_recovered\": 9220.0}, {\"date\": \"6/14/20\", \"value_confirmed\": 2087041, \"daily_new_confirmed\": 19267.0, \"value_death\": 118629, \"daily_new_death\": 313.0, \"value_recovered\": 561816, \"daily_new_recovered\": 5210.0}, {\"date\": \"6/15/20\", \"value_confirmed\": 2106893, \"daily_new_confirmed\": 19852.0, \"value_death\": 119012, \"daily_new_death\": 383.0, \"value_recovered\": 576334, \"daily_new_recovered\": 14518.0}, {\"date\": \"6/16/20\", \"value_confirmed\": 2130631, \"daily_new_confirmed\": 23738.0, \"value_death\": 119833, \"daily_new_death\": 821.0, \"value_recovered\": 583503, \"daily_new_recovered\": 7169.0}, {\"date\": \"6/17/20\", \"value_confirmed\": 2156495, \"daily_new_confirmed\": 25864.0, \"value_death\": 120564, \"daily_new_death\": 731.0, \"value_recovered\": 592191, \"daily_new_recovered\": 8688.0}, {\"date\": \"6/18/20\", \"value_confirmed\": 2184589, \"daily_new_confirmed\": 28094.0, \"value_death\": 121272, \"daily_new_death\": 708.0, \"value_recovered\": 599115, \"daily_new_recovered\": 6924.0}, {\"date\": \"6/19/20\", \"value_confirmed\": 2215833, \"daily_new_confirmed\": 31244.0, \"value_death\": 121933, \"daily_new_death\": 661.0, \"value_recovered\": 606715, \"daily_new_recovered\": 7600.0}, {\"date\": \"6/20/20\", \"value_confirmed\": 2247853, \"daily_new_confirmed\": 32020.0, \"value_death\": 122540, \"daily_new_death\": 607.0, \"value_recovered\": 617460, \"daily_new_recovered\": 10745.0}, {\"date\": \"6/21/20\", \"value_confirmed\": 2273902, \"daily_new_confirmed\": 26049.0, \"value_death\": 122833, \"daily_new_death\": 293.0, \"value_recovered\": 622133, \"daily_new_recovered\": 4673.0}, {\"date\": \"6/22/20\", \"value_confirmed\": 2304358, \"daily_new_confirmed\": 30456.0, \"value_death\": 123217, \"daily_new_death\": 384.0, \"value_recovered\": 640198, \"daily_new_recovered\": 18065.0}, {\"date\": \"6/23/20\", \"value_confirmed\": 2340044, \"daily_new_confirmed\": 35686.0, \"value_death\": 124059, \"daily_new_death\": 842.0, \"value_recovered\": 647548, \"daily_new_recovered\": 7350.0}, {\"date\": \"6/24/20\", \"value_confirmed\": 2374395, \"daily_new_confirmed\": 34351.0, \"value_death\": 124814, \"daily_new_death\": 755.0, \"value_recovered\": 656161, \"daily_new_recovered\": 8613.0}, {\"date\": \"6/25/20\", \"value_confirmed\": 2414896, \"daily_new_confirmed\": 40501.0, \"value_death\": 125360, \"daily_new_death\": 546.0, \"value_recovered\": 663562, \"daily_new_recovered\": 7401.0}, {\"date\": \"6/26/20\", \"value_confirmed\": 2460178, \"daily_new_confirmed\": 45282.0, \"value_death\": 125981, \"daily_new_death\": 621.0, \"value_recovered\": 670809, \"daily_new_recovered\": 7247.0}, {\"date\": \"6/27/20\", \"value_confirmed\": 2502411, \"daily_new_confirmed\": 42233.0, \"value_death\": 126483, \"daily_new_death\": 502.0, \"value_recovered\": 679308, \"daily_new_recovered\": 8499.0}, {\"date\": \"6/28/20\", \"value_confirmed\": 2541665, \"daily_new_confirmed\": 39254.0, \"value_death\": 126761, \"daily_new_death\": 278.0, \"value_recovered\": 685164, \"daily_new_recovered\": 5856.0}, {\"date\": \"6/29/20\", \"value_confirmed\": 2582307, \"daily_new_confirmed\": 40642.0, \"value_death\": 127139, \"daily_new_death\": 378.0, \"value_recovered\": 705203, \"daily_new_recovered\": 20039.0}, {\"date\": \"6/30/20\", \"value_confirmed\": 2628321, \"daily_new_confirmed\": 46014.0, \"value_death\": 127787, \"daily_new_death\": 648.0, \"value_recovered\": 720631, \"daily_new_recovered\": 15428.0}, {\"date\": \"7/1/20\", \"value_confirmed\": 2679609, \"daily_new_confirmed\": 51288.0, \"value_death\": 128479, \"daily_new_death\": 692.0, \"value_recovered\": 729994, \"daily_new_recovered\": 9363.0}, {\"date\": \"7/2/20\", \"value_confirmed\": 2734697, \"daily_new_confirmed\": 55088.0, \"value_death\": 129199, \"daily_new_death\": 720.0, \"value_recovered\": 781970, \"daily_new_recovered\": 51976.0}, {\"date\": \"7/3/20\", \"value_confirmed\": 2787208, \"daily_new_confirmed\": 52511.0, \"value_death\": 129858, \"daily_new_death\": 659.0, \"value_recovered\": 790404, \"daily_new_recovered\": 8434.0}, {\"date\": \"7/4/20\", \"value_confirmed\": 2832878, \"daily_new_confirmed\": 45670.0, \"value_death\": 130127, \"daily_new_death\": 269.0, \"value_recovered\": 894325, \"daily_new_recovered\": 103921.0}, {\"date\": \"7/5/20\", \"value_confirmed\": 2882761, \"daily_new_confirmed\": 49883.0, \"value_death\": 130416, \"daily_new_death\": 289.0, \"value_recovered\": 906763, \"daily_new_recovered\": 12438.0}, {\"date\": \"7/6/20\", \"value_confirmed\": 2926967, \"daily_new_confirmed\": 44206.0, \"value_death\": 130777, \"daily_new_death\": 361.0, \"value_recovered\": 924148, \"daily_new_recovered\": 17385.0}, {\"date\": \"7/7/20\", \"value_confirmed\": 2987076, \"daily_new_confirmed\": 60109.0, \"value_death\": 131984, \"daily_new_death\": 1207.0, \"value_recovered\": 936476, \"daily_new_recovered\": 12328.0}, {\"date\": \"7/8/20\", \"value_confirmed\": 3046251, \"daily_new_confirmed\": 59175.0, \"value_death\": 132847, \"daily_new_death\": 863.0, \"value_recovered\": 953462, \"daily_new_recovered\": 16986.0}, {\"date\": \"7/9/20\", \"value_confirmed\": 3109476, \"daily_new_confirmed\": 63225.0, \"value_death\": 133845, \"daily_new_death\": 998.0, \"value_recovered\": 969111, \"daily_new_recovered\": 15649.0}, {\"date\": \"7/10/20\", \"value_confirmed\": 3177035, \"daily_new_confirmed\": 67559.0, \"value_death\": 134666, \"daily_new_death\": 821.0, \"value_recovered\": 983185, \"daily_new_recovered\": 14074.0}, {\"date\": \"7/11/20\", \"value_confirmed\": 3237056, \"daily_new_confirmed\": 60021.0, \"value_death\": 135359, \"daily_new_death\": 693.0, \"value_recovered\": 995576, \"daily_new_recovered\": 12391.0}, {\"date\": \"7/12/20\", \"value_confirmed\": 3295817, \"daily_new_confirmed\": 58761.0, \"value_death\": 135820, \"daily_new_death\": 461.0, \"value_recovered\": 1006326, \"daily_new_recovered\": 10750.0}, {\"date\": \"7/13/20\", \"value_confirmed\": 3355170, \"daily_new_confirmed\": 59353.0, \"value_death\": 136188, \"daily_new_death\": 368.0, \"value_recovered\": 1031939, \"daily_new_recovered\": 25613.0}, {\"date\": \"7/14/20\", \"value_confirmed\": 3422127, \"daily_new_confirmed\": 66957.0, \"value_death\": 137108, \"daily_new_death\": 920.0, \"value_recovered\": 1049098, \"daily_new_recovered\": 17159.0}, {\"date\": \"7/15/20\", \"value_confirmed\": 3489638, \"daily_new_confirmed\": 67511.0, \"value_death\": 138080, \"daily_new_death\": 972.0, \"value_recovered\": 1075882, \"daily_new_recovered\": 26784.0}, {\"date\": \"7/16/20\", \"value_confirmed\": 3566897, \"daily_new_confirmed\": 77259.0, \"value_death\": 139030, \"daily_new_death\": 950.0, \"value_recovered\": 1090645, \"daily_new_recovered\": 14763.0}, {\"date\": \"7/17/20\", \"value_confirmed\": 3638525, \"daily_new_confirmed\": 71628.0, \"value_death\": 139963, \"daily_new_death\": 933.0, \"value_recovered\": 1107204, \"daily_new_recovered\": 16559.0}, {\"date\": \"7/18/20\", \"value_confirmed\": 3701144, \"daily_new_confirmed\": 62619.0, \"value_death\": 140825, \"daily_new_death\": 862.0, \"value_recovered\": 1122720, \"daily_new_recovered\": 15516.0}, {\"date\": \"7/19/20\", \"value_confirmed\": 3762156, \"daily_new_confirmed\": 61012.0, \"value_death\": 141278, \"daily_new_death\": 453.0, \"value_recovered\": 1131121, \"daily_new_recovered\": 8401.0}, {\"date\": \"7/20/20\", \"value_confirmed\": 3823985, \"daily_new_confirmed\": 61829.0, \"value_death\": 141802, \"daily_new_death\": 524.0, \"value_recovered\": 1160087, \"daily_new_recovered\": 28966.0}, {\"date\": \"7/21/20\", \"value_confirmed\": 3888195, \"daily_new_confirmed\": 64210.0, \"value_death\": 142903, \"daily_new_death\": 1101.0, \"value_recovered\": 1182018, \"daily_new_recovered\": 21931.0}, {\"date\": \"7/22/20\", \"value_confirmed\": 3959495, \"daily_new_confirmed\": 71300.0, \"value_death\": 144123, \"daily_new_death\": 1220.0, \"value_recovered\": 1210849, \"daily_new_recovered\": 28831.0}, {\"date\": \"7/23/20\", \"value_confirmed\": 4028394, \"daily_new_confirmed\": 68899.0, \"value_death\": 145215, \"daily_new_death\": 1092.0, \"value_recovered\": 1233269, \"daily_new_recovered\": 22420.0}, {\"date\": \"7/24/20\", \"value_confirmed\": 4101237, \"daily_new_confirmed\": 72843.0, \"value_death\": 146345, \"daily_new_death\": 1130.0, \"value_recovered\": 1261624, \"daily_new_recovered\": 28355.0}, {\"date\": \"7/25/20\", \"value_confirmed\": 4167394, \"daily_new_confirmed\": 66157.0, \"value_death\": 147233, \"daily_new_death\": 888.0, \"value_recovered\": 1279414, \"daily_new_recovered\": 17790.0}, {\"date\": \"7/26/20\", \"value_confirmed\": 4221834, \"daily_new_confirmed\": 54440.0, \"value_death\": 147716, \"daily_new_death\": 483.0, \"value_recovered\": 1297863, \"daily_new_recovered\": 18449.0}, {\"date\": \"7/27/20\", \"value_confirmed\": 4278319, \"daily_new_confirmed\": 56485.0, \"value_death\": 148833, \"daily_new_death\": 1117.0, \"value_recovered\": 1325804, \"daily_new_recovered\": 27941.0}, {\"date\": \"7/28/20\", \"value_confirmed\": 4343900, \"daily_new_confirmed\": 65581.0, \"value_death\": 150204, \"daily_new_death\": 1371.0, \"value_recovered\": 1355363, \"daily_new_recovered\": 29559.0}, {\"date\": \"7/29/20\", \"value_confirmed\": 4415121, \"daily_new_confirmed\": 71221.0, \"value_death\": 151635, \"daily_new_death\": 1431.0, \"value_recovered\": 1389425, \"daily_new_recovered\": 34062.0}, {\"date\": \"7/30/20\", \"value_confirmed\": 4482650, \"daily_new_confirmed\": 67529.0, \"value_death\": 152851, \"daily_new_death\": 1216.0, \"value_recovered\": 1414155, \"daily_new_recovered\": 24730.0}, {\"date\": \"7/31/20\", \"value_confirmed\": 4549671, \"daily_new_confirmed\": 67021.0, \"value_death\": 154093, \"daily_new_death\": 1242.0, \"value_recovered\": 1438160, \"daily_new_recovered\": 24005.0}, {\"date\": \"8/1/20\", \"value_confirmed\": 4607033, \"daily_new_confirmed\": 57362.0, \"value_death\": 155202, \"daily_new_death\": 1109.0, \"value_recovered\": 1461885, \"daily_new_recovered\": 23725.0}, {\"date\": \"8/2/20\", \"value_confirmed\": 4654119, \"daily_new_confirmed\": 47086.0, \"value_death\": 155613, \"daily_new_death\": 411.0, \"value_recovered\": 1468689, \"daily_new_recovered\": 6804.0}, {\"date\": \"8/3/20\", \"value_confirmed\": 4698864, \"daily_new_confirmed\": 44745.0, \"value_death\": 156152, \"daily_new_death\": 539.0, \"value_recovered\": 1513446, \"daily_new_recovered\": 44757.0}, {\"date\": \"8/4/20\", \"value_confirmed\": 4756107, \"daily_new_confirmed\": 57243.0, \"value_death\": 157526, \"daily_new_death\": 1374.0, \"value_recovered\": 1528979, \"daily_new_recovered\": 15533.0}, {\"date\": \"8/5/20\", \"value_confirmed\": 4809708, \"daily_new_confirmed\": 53601.0, \"value_death\": 158902, \"daily_new_death\": 1376.0, \"value_recovered\": 1577851, \"daily_new_recovered\": 48872.0}, {\"date\": \"8/6/20\", \"value_confirmed\": 4869216, \"daily_new_confirmed\": 59508.0, \"value_death\": 160150, \"daily_new_death\": 1248.0, \"value_recovered\": 1598624, \"daily_new_recovered\": 20773.0}, {\"date\": \"8/7/20\", \"value_confirmed\": 4927217, \"daily_new_confirmed\": 58001.0, \"value_death\": 161387, \"daily_new_death\": 1237.0, \"value_recovered\": 1623870, \"daily_new_recovered\": 25246.0}, {\"date\": \"8/8/20\", \"value_confirmed\": 4982522, \"daily_new_confirmed\": 55305.0, \"value_death\": 162470, \"daily_new_death\": 1083.0, \"value_recovered\": 1643118, \"daily_new_recovered\": 19248.0}, {\"date\": \"8/9/20\", \"value_confirmed\": 5028311, \"daily_new_confirmed\": 45789.0, \"value_death\": 162986, \"daily_new_death\": 516.0, \"value_recovered\": 1656864, \"daily_new_recovered\": 13746.0}, {\"date\": \"8/10/20\", \"value_confirmed\": 5077762, \"daily_new_confirmed\": 49451.0, \"value_death\": 163512, \"daily_new_death\": 526.0, \"value_recovered\": 1670755, \"daily_new_recovered\": 13891.0}, {\"date\": \"8/11/20\", \"value_confirmed\": 5124380, \"daily_new_confirmed\": 46618.0, \"value_death\": 164581, \"daily_new_death\": 1069.0, \"value_recovered\": 1714960, \"daily_new_recovered\": 44205.0}, {\"date\": \"8/12/20\", \"value_confirmed\": 5181284, \"daily_new_confirmed\": 56904.0, \"value_death\": 166087, \"daily_new_death\": 1506.0, \"value_recovered\": 1753760, \"daily_new_recovered\": 38800.0}, {\"date\": \"8/13/20\", \"value_confirmed\": 5233016, \"daily_new_confirmed\": 51732.0, \"value_death\": 167151, \"daily_new_death\": 1064.0, \"value_recovered\": 1774648, \"daily_new_recovered\": 20888.0}, {\"date\": \"8/14/20\", \"value_confirmed\": 5297381, \"daily_new_confirmed\": 64365.0, \"value_death\": 168494, \"daily_new_death\": 1343.0, \"value_recovered\": 1796326, \"daily_new_recovered\": 21678.0}, {\"date\": \"8/15/20\", \"value_confirmed\": 5344580, \"daily_new_confirmed\": 47199.0, \"value_death\": 169524, \"daily_new_death\": 1030.0, \"value_recovered\": 1818527, \"daily_new_recovered\": 22201.0}, {\"date\": \"8/16/20\", \"value_confirmed\": 5385865, \"daily_new_confirmed\": 41285.0, \"value_death\": 170099, \"daily_new_death\": 575.0, \"value_recovered\": 1833067, \"daily_new_recovered\": 14540.0}, {\"date\": \"8/17/20\", \"value_confirmed\": 5421522, \"daily_new_confirmed\": 35657.0, \"value_death\": 170544, \"daily_new_death\": 445.0, \"value_recovered\": 1865580, \"daily_new_recovered\": 32513.0}, {\"date\": \"8/18/20\", \"value_confirmed\": 5466580, \"daily_new_confirmed\": 45058.0, \"value_death\": 171876, \"daily_new_death\": 1332.0, \"value_recovered\": 1898159, \"daily_new_recovered\": 32579.0}, {\"date\": \"8/19/20\", \"value_confirmed\": 5513780, \"daily_new_confirmed\": 47200.0, \"value_death\": 173207, \"daily_new_death\": 1331.0, \"value_recovered\": 1925049, \"daily_new_recovered\": 26890.0}, {\"date\": \"8/20/20\", \"value_confirmed\": 5557779, \"daily_new_confirmed\": 43999.0, \"value_death\": 174285, \"daily_new_death\": 1078.0, \"value_recovered\": 1947035, \"daily_new_recovered\": 21986.0}, {\"date\": \"8/21/20\", \"value_confirmed\": 5605737, \"daily_new_confirmed\": 47958.0, \"value_death\": 175396, \"daily_new_death\": 1111.0, \"value_recovered\": 1965056, \"daily_new_recovered\": 18021.0}, {\"date\": \"8/22/20\", \"value_confirmed\": 5649689, \"daily_new_confirmed\": 43952.0, \"value_death\": 176380, \"daily_new_death\": 984.0, \"value_recovered\": 1985484, \"daily_new_recovered\": 20428.0}, {\"date\": \"8/23/20\", \"value_confirmed\": 5683994, \"daily_new_confirmed\": 34305.0, \"value_death\": 176835, \"daily_new_death\": 455.0, \"value_recovered\": 1997761, \"daily_new_recovered\": 12277.0}, {\"date\": \"8/24/20\", \"value_confirmed\": 5721574, \"daily_new_confirmed\": 37580.0, \"value_death\": 177279, \"daily_new_death\": 444.0, \"value_recovered\": 2020774, \"daily_new_recovered\": 23013.0}, {\"date\": \"8/25/20\", \"value_confirmed\": 5759774, \"daily_new_confirmed\": 38200.0, \"value_death\": 178509, \"daily_new_death\": 1230.0, \"value_recovered\": 2053699, \"daily_new_recovered\": 32925.0}, {\"date\": \"8/26/20\", \"value_confirmed\": 5805562, \"daily_new_confirmed\": 45788.0, \"value_death\": 179737, \"daily_new_death\": 1228.0, \"value_recovered\": 2084465, \"daily_new_recovered\": 30766.0}, {\"date\": \"8/27/20\", \"value_confirmed\": 5851263, \"daily_new_confirmed\": 45701.0, \"value_death\": 180841, \"daily_new_death\": 1104.0, \"value_recovered\": 2101326, \"daily_new_recovered\": 16861.0}, {\"date\": \"8/28/20\", \"value_confirmed\": 5897126, \"daily_new_confirmed\": 45863.0, \"value_death\": 181813, \"daily_new_death\": 972.0, \"value_recovered\": 2118367, \"daily_new_recovered\": 17041.0}, {\"date\": \"8/29/20\", \"value_confirmed\": 5942852, \"daily_new_confirmed\": 45726.0, \"value_death\": 182777, \"daily_new_death\": 964.0, \"value_recovered\": 2140614, \"daily_new_recovered\": 22247.0}, {\"date\": \"8/30/20\", \"value_confirmed\": 5978159, \"daily_new_confirmed\": 35307.0, \"value_death\": 183089, \"daily_new_death\": 312.0, \"value_recovered\": 2153939, \"daily_new_recovered\": 13325.0}, {\"date\": \"8/31/20\", \"value_confirmed\": 6012569, \"daily_new_confirmed\": 34410.0, \"value_death\": 183684, \"daily_new_death\": 595.0, \"value_recovered\": 2184825, \"daily_new_recovered\": 30886.0}, {\"date\": \"9/1/20\", \"value_confirmed\": 6054989, \"daily_new_confirmed\": 42420.0, \"value_death\": 184749, \"daily_new_death\": 1065.0, \"value_recovered\": 2202663, \"daily_new_recovered\": 17838.0}, {\"date\": \"9/2/20\", \"value_confirmed\": 6095533, \"daily_new_confirmed\": 40544.0, \"value_death\": 185801, \"daily_new_death\": 1052.0, \"value_recovered\": 2231757, \"daily_new_recovered\": 29094.0}, {\"date\": \"9/3/20\", \"value_confirmed\": 6139371, \"daily_new_confirmed\": 43838.0, \"value_death\": 186868, \"daily_new_death\": 1067.0, \"value_recovered\": 2266957, \"daily_new_recovered\": 35200.0}, {\"date\": \"9/4/20\", \"value_confirmed\": 6189473, \"daily_new_confirmed\": 50102.0, \"value_death\": 187835, \"daily_new_death\": 967.0, \"value_recovered\": 2283454, \"daily_new_recovered\": 16497.0}, {\"date\": \"9/5/20\", \"value_confirmed\": 6233458, \"daily_new_confirmed\": 43985.0, \"value_death\": 188608, \"daily_new_death\": 773.0, \"value_recovered\": 2302187, \"daily_new_recovered\": 18733.0}, {\"date\": \"9/6/20\", \"value_confirmed\": 6264591, \"daily_new_confirmed\": 31133.0, \"value_death\": 189019, \"daily_new_death\": 411.0, \"value_recovered\": 2315995, \"daily_new_recovered\": 13808.0}, {\"date\": \"9/7/20\", \"value_confirmed\": 6288236, \"daily_new_confirmed\": 23645.0, \"value_death\": 189293, \"daily_new_death\": 274.0, \"value_recovered\": 2333551, \"daily_new_recovered\": 17556.0}, {\"date\": \"9/8/20\", \"value_confirmed\": 6314940, \"daily_new_confirmed\": 26704.0, \"value_death\": 189740, \"daily_new_death\": 447.0, \"value_recovered\": 2359111, \"daily_new_recovered\": 25560.0}, {\"date\": \"9/9/20\", \"value_confirmed\": 6348544, \"daily_new_confirmed\": 33604.0, \"value_death\": 190923, \"daily_new_death\": 1183.0, \"value_recovered\": 2387479, \"daily_new_recovered\": 28368.0}, {\"date\": \"9/10/20\", \"value_confirmed\": 6384590, \"daily_new_confirmed\": 36046.0, \"value_death\": 191830, \"daily_new_death\": 907.0, \"value_recovered\": 2403511, \"daily_new_recovered\": 16032.0}, {\"date\": \"9/11/20\", \"value_confirmed\": 6432062, \"daily_new_confirmed\": 47472.0, \"value_death\": 193043, \"daily_new_death\": 1213.0, \"value_recovered\": 2417878, \"daily_new_recovered\": 14367.0}, {\"date\": \"9/12/20\", \"value_confirmed\": 6472847, \"daily_new_confirmed\": 40785.0, \"value_death\": 193753, \"daily_new_death\": 710.0, \"value_recovered\": 2434658, \"daily_new_recovered\": 16780.0}, {\"date\": \"9/13/20\", \"value_confirmed\": 6507427, \"daily_new_confirmed\": 34580.0, \"value_death\": 194139, \"daily_new_death\": 386.0, \"value_recovered\": 2451406, \"daily_new_recovered\": 16748.0}, {\"date\": \"9/14/20\", \"value_confirmed\": 6541219, \"daily_new_confirmed\": 33792.0, \"value_death\": 194563, \"daily_new_death\": 424.0, \"value_recovered\": 2474570, \"daily_new_recovered\": 23164.0}, {\"date\": \"9/15/20\", \"value_confirmed\": 6580228, \"daily_new_confirmed\": 39009.0, \"value_death\": 195851, \"daily_new_death\": 1288.0, \"value_recovered\": 2495127, \"daily_new_recovered\": 20557.0}, {\"date\": \"9/16/20\", \"value_confirmed\": 6618825, \"daily_new_confirmed\": 38597.0, \"value_death\": 196830, \"daily_new_death\": 979.0, \"value_recovered\": 2525573, \"daily_new_recovered\": 30446.0}, {\"date\": \"9/17/20\", \"value_confirmed\": 6663364, \"daily_new_confirmed\": 44539.0, \"value_death\": 197700, \"daily_new_death\": 870.0, \"value_recovered\": 2540334, \"daily_new_recovered\": 14761.0}, {\"date\": \"9/18/20\", \"value_confirmed\": 6711775, \"daily_new_confirmed\": 48411.0, \"value_death\": 198632, \"daily_new_death\": 932.0, \"value_recovered\": 2556465, \"daily_new_recovered\": 16131.0}, {\"date\": \"9/19/20\", \"value_confirmed\": 6755233, \"daily_new_confirmed\": 43458.0, \"value_death\": 199347, \"daily_new_death\": 715.0, \"value_recovered\": 2577446, \"daily_new_recovered\": 20981.0}, {\"date\": \"9/20/20\", \"value_confirmed\": 6793091, \"daily_new_confirmed\": 37858.0, \"value_death\": 199589, \"daily_new_death\": 242.0, \"value_recovered\": 2590671, \"daily_new_recovered\": 13225.0}, {\"date\": \"9/21/20\", \"value_confirmed\": 6844550, \"daily_new_confirmed\": 51459.0, \"value_death\": 200015, \"daily_new_death\": 426.0, \"value_recovered\": 2615949, \"daily_new_recovered\": 25278.0}, {\"date\": \"9/22/20\", \"value_confirmed\": 6884162, \"daily_new_confirmed\": 39612.0, \"value_death\": 201038, \"daily_new_death\": 1023.0, \"value_recovered\": 2646959, \"daily_new_recovered\": 31010.0}, {\"date\": \"9/23/20\", \"value_confirmed\": 6922253, \"daily_new_confirmed\": 38091.0, \"value_death\": 202139, \"daily_new_death\": 1101.0, \"value_recovered\": 2670256, \"daily_new_recovered\": 23297.0}, {\"date\": \"9/24/20\", \"value_confirmed\": 6966630, \"daily_new_confirmed\": 44377.0, \"value_death\": 203057, \"daily_new_death\": 918.0, \"value_recovered\": 2710183, \"daily_new_recovered\": 39927.0}, {\"date\": \"9/25/20\", \"value_confirmed\": 7016156, \"daily_new_confirmed\": 49526.0, \"value_death\": 203996, \"daily_new_death\": 939.0, \"value_recovered\": 2727335, \"daily_new_recovered\": 17152.0}, {\"date\": \"9/26/20\", \"value_confirmed\": 7060600, \"daily_new_confirmed\": 44444.0, \"value_death\": 204742, \"daily_new_death\": 746.0, \"value_recovered\": 2750459, \"daily_new_recovered\": 23124.0}, {\"date\": \"9/27/20\", \"value_confirmed\": 7097934, \"daily_new_confirmed\": 37334.0, \"value_death\": 205024, \"daily_new_death\": 282.0, \"value_recovered\": 2766280, \"daily_new_recovered\": 15821.0}, {\"date\": \"9/28/20\", \"value_confirmed\": 7130041, \"daily_new_confirmed\": 32107.0, \"value_death\": 205345, \"daily_new_death\": 321.0, \"value_recovered\": 2794608, \"daily_new_recovered\": 28328.0}, {\"date\": \"9/29/20\", \"value_confirmed\": 7172152, \"daily_new_confirmed\": 42111.0, \"value_death\": 206257, \"daily_new_death\": 912.0, \"value_recovered\": 2813305, \"daily_new_recovered\": 18697.0}, {\"date\": \"9/30/20\", \"value_confirmed\": 7213255, \"daily_new_confirmed\": 41103.0, \"value_death\": 207190, \"daily_new_death\": 933.0, \"value_recovered\": 2840688, \"daily_new_recovered\": 27383.0}, {\"date\": \"10/1/20\", \"value_confirmed\": 7258609, \"daily_new_confirmed\": 45354.0, \"value_death\": 208044, \"daily_new_death\": 854.0, \"value_recovered\": 2860650, \"daily_new_recovered\": 19962.0}, {\"date\": \"10/2/20\", \"value_confirmed\": 7312071, \"daily_new_confirmed\": 53462.0, \"value_death\": 208968, \"daily_new_death\": 924.0, \"value_recovered\": 2873369, \"daily_new_recovered\": 12719.0}, {\"date\": \"10/3/20\", \"value_confirmed\": 7361584, \"daily_new_confirmed\": 49513.0, \"value_death\": 209649, \"daily_new_death\": 681.0, \"value_recovered\": 2897322, \"daily_new_recovered\": 23953.0}, {\"date\": \"10/4/20\", \"value_confirmed\": 7397907, \"daily_new_confirmed\": 36323.0, \"value_death\": 209998, \"daily_new_death\": 349.0, \"value_recovered\": 2911699, \"daily_new_recovered\": 14377.0}, {\"date\": \"10/5/20\", \"value_confirmed\": 7436549, \"daily_new_confirmed\": 38642.0, \"value_death\": 210460, \"daily_new_death\": 462.0, \"value_recovered\": 2935142, \"daily_new_recovered\": 23443.0}, {\"date\": \"10/6/20\", \"value_confirmed\": 7479021, \"daily_new_confirmed\": 42472.0, \"value_death\": 211165, \"daily_new_death\": 705.0, \"value_recovered\": 2952390, \"daily_new_recovered\": 17248.0}, {\"date\": \"10/7/20\", \"value_confirmed\": 7529933, \"daily_new_confirmed\": 50912.0, \"value_death\": 212090, \"daily_new_death\": 925.0, \"value_recovered\": 2999895, \"daily_new_recovered\": 47505.0}, {\"date\": \"10/8/20\", \"value_confirmed\": 7587118, \"daily_new_confirmed\": 57185.0, \"value_death\": 213064, \"daily_new_death\": 974.0, \"value_recovered\": 3021252, \"daily_new_recovered\": 21357.0}, {\"date\": \"10/9/20\", \"value_confirmed\": 7643344, \"daily_new_confirmed\": 56226.0, \"value_death\": 214029, \"daily_new_death\": 965.0, \"value_recovered\": 3039089, \"daily_new_recovered\": 17837.0}, {\"date\": \"10/10/20\", \"value_confirmed\": 7697504, \"daily_new_confirmed\": 54160.0, \"value_death\": 214656, \"daily_new_death\": 627.0, \"value_recovered\": 3062983, \"daily_new_recovered\": 23894.0}, {\"date\": \"10/11/20\", \"value_confirmed\": 7743396, \"daily_new_confirmed\": 45892.0, \"value_death\": 215078, \"daily_new_death\": 422.0, \"value_recovered\": 3075077, \"daily_new_recovered\": 12094.0}, {\"date\": \"10/12/20\", \"value_confirmed\": 7783958, \"daily_new_confirmed\": 40562.0, \"value_death\": 215415, \"daily_new_death\": 337.0, \"value_recovered\": 3106728, \"daily_new_recovered\": 31651.0}, {\"date\": \"10/13/20\", \"value_confirmed\": 7836979, \"daily_new_confirmed\": 53021.0, \"value_death\": 216212, \"daily_new_death\": 797.0, \"value_recovered\": 3124593, \"daily_new_recovered\": 17865.0}, {\"date\": \"10/14/20\", \"value_confirmed\": 7895909, \"daily_new_confirmed\": 58930.0, \"value_death\": 217192, \"daily_new_death\": 980.0, \"value_recovered\": 3155794, \"daily_new_recovered\": 31201.0}, {\"date\": \"10/15/20\", \"value_confirmed\": 7960130, \"daily_new_confirmed\": 64221.0, \"value_death\": 218025, \"daily_new_death\": 833.0, \"value_recovered\": 3177397, \"daily_new_recovered\": 21603.0}, {\"date\": \"10/16/20\", \"value_confirmed\": 8028392, \"daily_new_confirmed\": 68262.0, \"value_death\": 218934, \"daily_new_death\": 909.0, \"value_recovered\": 3197539, \"daily_new_recovered\": 20142.0}, {\"date\": \"10/17/20\", \"value_confirmed\": 8085465, \"daily_new_confirmed\": 57073.0, \"value_death\": 219681, \"daily_new_death\": 747.0, \"value_recovered\": 3220573, \"daily_new_recovered\": 23034.0}, {\"date\": \"10/18/20\", \"value_confirmed\": 8134804, \"daily_new_confirmed\": 49339.0, \"value_death\": 220109, \"daily_new_death\": 428.0, \"value_recovered\": 3234138, \"daily_new_recovered\": 13565.0}, {\"date\": \"10/19/20\", \"value_confirmed\": 8201387, \"daily_new_confirmed\": 66583.0, \"value_death\": 220574, \"daily_new_death\": 465.0, \"value_recovered\": 3272603, \"daily_new_recovered\": 38465.0}, {\"date\": \"10/20/20\", \"value_confirmed\": 8262326, \"daily_new_confirmed\": 60939.0, \"value_death\": 221510, \"daily_new_death\": 936.0, \"value_recovered\": 3295148, \"daily_new_recovered\": 22545.0}, {\"date\": \"10/21/20\", \"value_confirmed\": 8324960, \"daily_new_confirmed\": 62634.0, \"value_death\": 222627, \"daily_new_death\": 1117.0, \"value_recovered\": 3323354, \"daily_new_recovered\": 28206.0}, {\"date\": \"10/22/20\", \"value_confirmed\": 8397618, \"daily_new_confirmed\": 72658.0, \"value_death\": 223500, \"daily_new_death\": 873.0, \"value_recovered\": 3353056, \"daily_new_recovered\": 29702.0}, {\"date\": \"10/23/20\", \"value_confirmed\": 8480161, \"daily_new_confirmed\": 82543.0, \"value_death\": 224441, \"daily_new_death\": 941.0, \"value_recovered\": 3375427, \"daily_new_recovered\": 22371.0}, {\"date\": \"10/24/20\", \"value_confirmed\": 8564037, \"daily_new_confirmed\": 83876.0, \"value_death\": 225383, \"daily_new_death\": 942.0, \"value_recovered\": 3406656, \"daily_new_recovered\": 31229.0}, {\"date\": \"10/25/20\", \"value_confirmed\": 8625984, \"daily_new_confirmed\": 61947.0, \"value_death\": 225761, \"daily_new_death\": 378.0, \"value_recovered\": 3422878, \"daily_new_recovered\": 16222.0}, {\"date\": \"10/26/20\", \"value_confirmed\": 8691979, \"daily_new_confirmed\": 65995.0, \"value_death\": 226265, \"daily_new_death\": 504.0, \"value_recovered\": 3460455, \"daily_new_recovered\": 37577.0}, {\"date\": \"10/27/20\", \"value_confirmed\": 8767572, \"daily_new_confirmed\": 75593.0, \"value_death\": 227240, \"daily_new_death\": 975.0, \"value_recovered\": 3487666, \"daily_new_recovered\": 27211.0}, {\"date\": \"10/28/20\", \"value_confirmed\": 8845830, \"daily_new_confirmed\": 78258.0, \"value_death\": 228241, \"daily_new_death\": 1001.0, \"value_recovered\": 3518140, \"daily_new_recovered\": 30474.0}, {\"date\": \"10/29/20\", \"value_confirmed\": 8936033, \"daily_new_confirmed\": 90203.0, \"value_death\": 229214, \"daily_new_death\": 973.0, \"value_recovered\": 3554336, \"daily_new_recovered\": 36196.0}, {\"date\": \"10/30/20\", \"value_confirmed\": 9033829, \"daily_new_confirmed\": 97796.0, \"value_death\": 230232, \"daily_new_death\": 1018.0, \"value_recovered\": 3578452, \"daily_new_recovered\": 24116.0}, {\"date\": \"10/31/20\", \"value_confirmed\": 9122666, \"daily_new_confirmed\": 88837.0, \"value_death\": 231123, \"daily_new_death\": 891.0, \"value_recovered\": 3612478, \"daily_new_recovered\": 34026.0}, {\"date\": \"11/1/20\", \"value_confirmed\": 9199122, \"daily_new_confirmed\": 76456.0, \"value_death\": 231531, \"daily_new_death\": 408.0, \"value_recovered\": 3630579, \"daily_new_recovered\": 18101.0}, {\"date\": \"11/2/20\", \"value_confirmed\": 9281002, \"daily_new_confirmed\": 81880.0, \"value_death\": 232066, \"daily_new_death\": 535.0, \"value_recovered\": 3674981, \"daily_new_recovered\": 44402.0}, {\"date\": \"11/3/20\", \"value_confirmed\": 9404058, \"daily_new_confirmed\": 123056.0, \"value_death\": 233638, \"daily_new_death\": 1572.0, \"value_recovered\": 3705130, \"daily_new_recovered\": 30149.0}, {\"date\": \"11/4/20\", \"value_confirmed\": 9507004, \"daily_new_confirmed\": 102946.0, \"value_death\": 234711, \"daily_new_death\": 1073.0, \"value_recovered\": 3743527, \"daily_new_recovered\": 38397.0}, {\"date\": \"11/5/20\", \"value_confirmed\": 9632704, \"daily_new_confirmed\": 125700.0, \"value_death\": 235870, \"daily_new_death\": 1159.0, \"value_recovered\": 3781751, \"daily_new_recovered\": 38224.0}, {\"date\": \"11/6/20\", \"value_confirmed\": 9757612, \"daily_new_confirmed\": 124908.0, \"value_death\": 237000, \"daily_new_death\": 1130.0, \"value_recovered\": 3810791, \"daily_new_recovered\": 29040.0}, {\"date\": \"11/7/20\", \"value_confirmed\": 9886080, \"daily_new_confirmed\": 128468.0, \"value_death\": 238013, \"daily_new_death\": 1013.0, \"value_recovered\": 3851465, \"daily_new_recovered\": 40674.0}, {\"date\": \"11/8/20\", \"value_confirmed\": 9995860, \"daily_new_confirmed\": 109780.0, \"value_death\": 238487, \"daily_new_death\": 474.0, \"value_recovered\": 3881491, \"daily_new_recovered\": 30026.0}, {\"date\": \"11/9/20\", \"value_confirmed\": 10115804, \"daily_new_confirmed\": 119944.0, \"value_death\": 239183, \"daily_new_death\": 696.0, \"value_recovered\": 3928845, \"daily_new_recovered\": 47354.0}, {\"date\": \"11/10/20\", \"value_confirmed\": 10256094, \"daily_new_confirmed\": 140290.0, \"value_death\": 240581, \"daily_new_death\": 1398.0, \"value_recovered\": 3961873, \"daily_new_recovered\": 33028.0}, {\"date\": \"11/11/20\", \"value_confirmed\": 10399325, \"daily_new_confirmed\": 143231.0, \"value_death\": 241969, \"daily_new_death\": 1388.0, \"value_recovered\": 3997175, \"daily_new_recovered\": 35302.0}, {\"date\": \"11/12/20\", \"value_confirmed\": 10560111, \"daily_new_confirmed\": 160786.0, \"value_death\": 243187, \"daily_new_death\": 1218.0, \"value_recovered\": 4051256, \"daily_new_recovered\": 54081.0}, {\"date\": \"11/13/20\", \"value_confirmed\": 10737335, \"daily_new_confirmed\": 177224.0, \"value_death\": 244325, \"daily_new_death\": 1138.0, \"value_recovered\": 4095146, \"daily_new_recovered\": 43890.0}, {\"date\": \"11/14/20\", \"value_confirmed\": 10903890, \"daily_new_confirmed\": 166555.0, \"value_death\": 245591, \"daily_new_death\": 1266.0, \"value_recovered\": 4148444, \"daily_new_recovered\": 53298.0}, {\"date\": \"11/15/20\", \"value_confirmed\": 11036935, \"daily_new_confirmed\": 133045.0, \"value_death\": 246207, \"daily_new_death\": 616.0, \"value_recovered\": 4174884, \"daily_new_recovered\": 26440.0}, {\"date\": \"11/16/20\", \"value_confirmed\": 11202980, \"daily_new_confirmed\": 166045.0, \"value_death\": 247202, \"daily_new_death\": 995.0, \"value_recovered\": 4244811, \"daily_new_recovered\": 69927.0}]}}, {\"mode\": \"vega-lite\"});\n",
       "</script>"
      ],
      "text/plain": [
       "alt.Chart(...)"
      ]
     },
     "execution_count": 32,
     "metadata": {},
     "output_type": "execute_result"
    }
   ],
   "source": [
    "#Plot Altair 3: per country time series chart for daily new cases (Im not using this at my webapp, only for example)\n",
    "#this example using US_ts from previous function\n",
    "\n",
    "source = US_ts\n",
    "\n",
    "base = alt.Chart(source).encode(x='date:T')\n",
    "\n",
    "line=  base.mark_line(color='blue').encode(\n",
    "    y='daily_new_confirmed:Q', tooltip=['yearmonthdate(date)','daily_new_confirmed']\n",
    ").properties(width=600)\n",
    "\n",
    "line"
   ]
  },
  {
   "cell_type": "code",
   "execution_count": 33,
   "metadata": {},
   "outputs": [
    {
     "data": {
      "text/html": [
       "\n",
       "<div id=\"altair-viz-2a3c52cad1364b94a3abae16ce998b42\"></div>\n",
       "<script type=\"text/javascript\">\n",
       "  (function(spec, embedOpt){\n",
       "    let outputDiv = document.currentScript.previousElementSibling;\n",
       "    if (outputDiv.id !== \"altair-viz-2a3c52cad1364b94a3abae16ce998b42\") {\n",
       "      outputDiv = document.getElementById(\"altair-viz-2a3c52cad1364b94a3abae16ce998b42\");\n",
       "    }\n",
       "    const paths = {\n",
       "      \"vega\": \"https://cdn.jsdelivr.net/npm//vega@5?noext\",\n",
       "      \"vega-lib\": \"https://cdn.jsdelivr.net/npm//vega-lib?noext\",\n",
       "      \"vega-lite\": \"https://cdn.jsdelivr.net/npm//vega-lite@4.8.1?noext\",\n",
       "      \"vega-embed\": \"https://cdn.jsdelivr.net/npm//vega-embed@6?noext\",\n",
       "    };\n",
       "\n",
       "    function loadScript(lib) {\n",
       "      return new Promise(function(resolve, reject) {\n",
       "        var s = document.createElement('script');\n",
       "        s.src = paths[lib];\n",
       "        s.async = true;\n",
       "        s.onload = () => resolve(paths[lib]);\n",
       "        s.onerror = () => reject(`Error loading script: ${paths[lib]}`);\n",
       "        document.getElementsByTagName(\"head\")[0].appendChild(s);\n",
       "      });\n",
       "    }\n",
       "\n",
       "    function showError(err) {\n",
       "      outputDiv.innerHTML = `<div class=\"error\" style=\"color:red;\">${err}</div>`;\n",
       "      throw err;\n",
       "    }\n",
       "\n",
       "    function displayChart(vegaEmbed) {\n",
       "      vegaEmbed(outputDiv, spec, embedOpt)\n",
       "        .catch(err => showError(`Javascript Error: ${err.message}<br>This usually means there's a typo in your chart specification. See the javascript console for the full traceback.`));\n",
       "    }\n",
       "\n",
       "    if(typeof define === \"function\" && define.amd) {\n",
       "      requirejs.config({paths});\n",
       "      require([\"vega-embed\"], displayChart, err => showError(`Error loading script: ${err.message}`));\n",
       "    } else if (typeof vegaEmbed === \"function\") {\n",
       "      displayChart(vegaEmbed);\n",
       "    } else {\n",
       "      loadScript(\"vega\")\n",
       "        .then(() => loadScript(\"vega-lite\"))\n",
       "        .then(() => loadScript(\"vega-embed\"))\n",
       "        .catch(showError)\n",
       "        .then(() => displayChart(vegaEmbed));\n",
       "    }\n",
       "  })({\"config\": {\"view\": {\"continuousWidth\": 400, \"continuousHeight\": 300}}, \"layer\": [{\"mark\": {\"type\": \"line\", \"color\": \"green\"}, \"encoding\": {\"tooltip\": [{\"type\": \"temporal\", \"field\": \"date\", \"timeUnit\": \"yearmonthdate\"}, {\"type\": \"quantitative\", \"field\": \"daily new cases\"}, {\"type\": \"quantitative\", \"field\": \"daily new recovered\"}, {\"type\": \"quantitative\", \"field\": \"daily new deaths\"}], \"x\": {\"type\": \"temporal\", \"field\": \"date\"}, \"y\": {\"type\": \"quantitative\", \"field\": \"daily new cases\"}}}, {\"mark\": {\"type\": \"line\", \"color\": \"blue\"}, \"encoding\": {\"tooltip\": [{\"type\": \"temporal\", \"field\": \"date\", \"timeUnit\": \"yearmonthdate\"}, {\"type\": \"quantitative\", \"field\": \"daily new cases\"}, {\"type\": \"quantitative\", \"field\": \"daily new recovered\"}, {\"type\": \"quantitative\", \"field\": \"daily new deaths\"}], \"x\": {\"type\": \"temporal\", \"field\": \"date\"}, \"y\": {\"type\": \"quantitative\", \"field\": \"daily new recovered\"}}}, {\"mark\": {\"type\": \"line\", \"color\": \"red\"}, \"encoding\": {\"tooltip\": [{\"type\": \"temporal\", \"field\": \"date\", \"timeUnit\": \"yearmonthdate\"}, {\"type\": \"quantitative\", \"field\": \"daily new cases\"}, {\"type\": \"quantitative\", \"field\": \"daily new recovered\"}, {\"type\": \"quantitative\", \"field\": \"daily new deaths\"}], \"x\": {\"type\": \"temporal\", \"field\": \"date\"}, \"y\": {\"type\": \"quantitative\", \"field\": \"daily new deaths\"}}}], \"data\": {\"name\": \"data-9050e07eb35b564169fcd7ec44c8faad\"}, \"width\": 1000, \"$schema\": \"https://vega.github.io/schema/vega-lite/v4.8.1.json\", \"datasets\": {\"data-9050e07eb35b564169fcd7ec44c8faad\": [{\"date\": \"1/22/20\", \"total confirmed\": 555, \"daily new cases\": 0.0, \"total recovered\": 28, \"daily new recovered\": 0.0, \"total deaths\": 17, \"daily new deaths\": 0.0}, {\"date\": \"1/23/20\", \"total confirmed\": 654, \"daily new cases\": 99.0, \"total recovered\": 30, \"daily new recovered\": 2.0, \"total deaths\": 18, \"daily new deaths\": 1.0}, {\"date\": \"1/24/20\", \"total confirmed\": 941, \"daily new cases\": 287.0, \"total recovered\": 36, \"daily new recovered\": 6.0, \"total deaths\": 26, \"daily new deaths\": 8.0}, {\"date\": \"1/25/20\", \"total confirmed\": 1434, \"daily new cases\": 493.0, \"total recovered\": 39, \"daily new recovered\": 3.0, \"total deaths\": 42, \"daily new deaths\": 16.0}, {\"date\": \"1/26/20\", \"total confirmed\": 2118, \"daily new cases\": 684.0, \"total recovered\": 52, \"daily new recovered\": 13.0, \"total deaths\": 56, \"daily new deaths\": 14.0}, {\"date\": \"1/27/20\", \"total confirmed\": 2927, \"daily new cases\": 809.0, \"total recovered\": 61, \"daily new recovered\": 9.0, \"total deaths\": 82, \"daily new deaths\": 26.0}, {\"date\": \"1/28/20\", \"total confirmed\": 5578, \"daily new cases\": 2651.0, \"total recovered\": 107, \"daily new recovered\": 46.0, \"total deaths\": 131, \"daily new deaths\": 49.0}, {\"date\": \"1/29/20\", \"total confirmed\": 6167, \"daily new cases\": 589.0, \"total recovered\": 126, \"daily new recovered\": 19.0, \"total deaths\": 133, \"daily new deaths\": 2.0}, {\"date\": \"1/30/20\", \"total confirmed\": 8235, \"daily new cases\": 2068.0, \"total recovered\": 143, \"daily new recovered\": 17.0, \"total deaths\": 171, \"daily new deaths\": 38.0}, {\"date\": \"1/31/20\", \"total confirmed\": 9927, \"daily new cases\": 1692.0, \"total recovered\": 222, \"daily new recovered\": 79.0, \"total deaths\": 213, \"daily new deaths\": 42.0}, {\"date\": \"2/1/20\", \"total confirmed\": 12038, \"daily new cases\": 2111.0, \"total recovered\": 284, \"daily new recovered\": 62.0, \"total deaths\": 259, \"daily new deaths\": 46.0}, {\"date\": \"2/2/20\", \"total confirmed\": 16787, \"daily new cases\": 4749.0, \"total recovered\": 472, \"daily new recovered\": 188.0, \"total deaths\": 362, \"daily new deaths\": 103.0}, {\"date\": \"2/3/20\", \"total confirmed\": 19887, \"daily new cases\": 3100.0, \"total recovered\": 623, \"daily new recovered\": 151.0, \"total deaths\": 426, \"daily new deaths\": 64.0}, {\"date\": \"2/4/20\", \"total confirmed\": 23898, \"daily new cases\": 4011.0, \"total recovered\": 852, \"daily new recovered\": 229.0, \"total deaths\": 492, \"daily new deaths\": 66.0}, {\"date\": \"2/5/20\", \"total confirmed\": 27643, \"daily new cases\": 3745.0, \"total recovered\": 1124, \"daily new recovered\": 272.0, \"total deaths\": 564, \"daily new deaths\": 72.0}, {\"date\": \"2/6/20\", \"total confirmed\": 30803, \"daily new cases\": 3160.0, \"total recovered\": 1487, \"daily new recovered\": 363.0, \"total deaths\": 634, \"daily new deaths\": 70.0}, {\"date\": \"2/7/20\", \"total confirmed\": 34396, \"daily new cases\": 3593.0, \"total recovered\": 2011, \"daily new recovered\": 524.0, \"total deaths\": 719, \"daily new deaths\": 85.0}, {\"date\": \"2/8/20\", \"total confirmed\": 37130, \"daily new cases\": 2734.0, \"total recovered\": 2616, \"daily new recovered\": 605.0, \"total deaths\": 806, \"daily new deaths\": 87.0}, {\"date\": \"2/9/20\", \"total confirmed\": 40160, \"daily new cases\": 3030.0, \"total recovered\": 3244, \"daily new recovered\": 628.0, \"total deaths\": 906, \"daily new deaths\": 100.0}, {\"date\": \"2/10/20\", \"total confirmed\": 42769, \"daily new cases\": 2609.0, \"total recovered\": 3946, \"daily new recovered\": 702.0, \"total deaths\": 1013, \"daily new deaths\": 107.0}, {\"date\": \"2/11/20\", \"total confirmed\": 44811, \"daily new cases\": 2042.0, \"total recovered\": 4683, \"daily new recovered\": 737.0, \"total deaths\": 1113, \"daily new deaths\": 100.0}, {\"date\": \"2/12/20\", \"total confirmed\": 45229, \"daily new cases\": 418.0, \"total recovered\": 5150, \"daily new recovered\": 467.0, \"total deaths\": 1118, \"daily new deaths\": 5.0}, {\"date\": \"2/13/20\", \"total confirmed\": 60382, \"daily new cases\": 15153.0, \"total recovered\": 6295, \"daily new recovered\": 1145.0, \"total deaths\": 1371, \"daily new deaths\": 253.0}, {\"date\": \"2/14/20\", \"total confirmed\": 66909, \"daily new cases\": 6527.0, \"total recovered\": 8058, \"daily new recovered\": 1763.0, \"total deaths\": 1523, \"daily new deaths\": 152.0}, {\"date\": \"2/15/20\", \"total confirmed\": 69051, \"daily new cases\": 2142.0, \"total recovered\": 9395, \"daily new recovered\": 1337.0, \"total deaths\": 1666, \"daily new deaths\": 143.0}, {\"date\": \"2/16/20\", \"total confirmed\": 71235, \"daily new cases\": 2184.0, \"total recovered\": 10865, \"daily new recovered\": 1470.0, \"total deaths\": 1770, \"daily new deaths\": 104.0}, {\"date\": \"2/17/20\", \"total confirmed\": 73270, \"daily new cases\": 2035.0, \"total recovered\": 12583, \"daily new recovered\": 1718.0, \"total deaths\": 1868, \"daily new deaths\": 98.0}, {\"date\": \"2/18/20\", \"total confirmed\": 75152, \"daily new cases\": 1882.0, \"total recovered\": 14352, \"daily new recovered\": 1769.0, \"total deaths\": 2008, \"daily new deaths\": 140.0}, {\"date\": \"2/19/20\", \"total confirmed\": 75652, \"daily new cases\": 500.0, \"total recovered\": 16121, \"daily new recovered\": 1769.0, \"total deaths\": 2123, \"daily new deaths\": 115.0}, {\"date\": \"2/20/20\", \"total confirmed\": 76212, \"daily new cases\": 560.0, \"total recovered\": 18177, \"daily new recovered\": 2056.0, \"total deaths\": 2248, \"daily new deaths\": 125.0}, {\"date\": \"2/21/20\", \"total confirmed\": 76841, \"daily new cases\": 629.0, \"total recovered\": 18890, \"daily new recovered\": 713.0, \"total deaths\": 2252, \"daily new deaths\": 4.0}, {\"date\": \"2/22/20\", \"total confirmed\": 78602, \"daily new cases\": 1761.0, \"total recovered\": 22886, \"daily new recovered\": 3996.0, \"total deaths\": 2459, \"daily new deaths\": 207.0}, {\"date\": \"2/23/20\", \"total confirmed\": 78982, \"daily new cases\": 380.0, \"total recovered\": 23394, \"daily new recovered\": 508.0, \"total deaths\": 2470, \"daily new deaths\": 11.0}, {\"date\": \"2/24/20\", \"total confirmed\": 79546, \"daily new cases\": 564.0, \"total recovered\": 25227, \"daily new recovered\": 1833.0, \"total deaths\": 2630, \"daily new deaths\": 160.0}, {\"date\": \"2/25/20\", \"total confirmed\": 80399, \"daily new cases\": 853.0, \"total recovered\": 27905, \"daily new recovered\": 2678.0, \"total deaths\": 2710, \"daily new deaths\": 80.0}, {\"date\": \"2/26/20\", \"total confirmed\": 81376, \"daily new cases\": 977.0, \"total recovered\": 30384, \"daily new recovered\": 2479.0, \"total deaths\": 2771, \"daily new deaths\": 61.0}, {\"date\": \"2/27/20\", \"total confirmed\": 82736, \"daily new cases\": 1360.0, \"total recovered\": 33277, \"daily new recovered\": 2893.0, \"total deaths\": 2814, \"daily new deaths\": 43.0}, {\"date\": \"2/28/20\", \"total confirmed\": 84121, \"daily new cases\": 1385.0, \"total recovered\": 36711, \"daily new recovered\": 3434.0, \"total deaths\": 2873, \"daily new deaths\": 59.0}, {\"date\": \"2/29/20\", \"total confirmed\": 86014, \"daily new cases\": 1893.0, \"total recovered\": 39782, \"daily new recovered\": 3071.0, \"total deaths\": 2942, \"daily new deaths\": 69.0}, {\"date\": \"3/1/20\", \"total confirmed\": 88397, \"daily new cases\": 2383.0, \"total recovered\": 42716, \"daily new recovered\": 2934.0, \"total deaths\": 2996, \"daily new deaths\": 54.0}, {\"date\": \"3/2/20\", \"total confirmed\": 90375, \"daily new cases\": 1978.0, \"total recovered\": 45602, \"daily new recovered\": 2886.0, \"total deaths\": 3085, \"daily new deaths\": 89.0}, {\"date\": \"3/3/20\", \"total confirmed\": 92959, \"daily new cases\": 2584.0, \"total recovered\": 48228, \"daily new recovered\": 2626.0, \"total deaths\": 3160, \"daily new deaths\": 75.0}, {\"date\": \"3/4/20\", \"total confirmed\": 95276, \"daily new cases\": 2317.0, \"total recovered\": 51170, \"daily new recovered\": 2942.0, \"total deaths\": 3255, \"daily new deaths\": 95.0}, {\"date\": \"3/5/20\", \"total confirmed\": 98040, \"daily new cases\": 2764.0, \"total recovered\": 53796, \"daily new recovered\": 2626.0, \"total deaths\": 3348, \"daily new deaths\": 93.0}, {\"date\": \"3/6/20\", \"total confirmed\": 102040, \"daily new cases\": 4000.0, \"total recovered\": 55865, \"daily new recovered\": 2069.0, \"total deaths\": 3460, \"daily new deaths\": 112.0}, {\"date\": \"3/7/20\", \"total confirmed\": 106102, \"daily new cases\": 4062.0, \"total recovered\": 58359, \"daily new recovered\": 2494.0, \"total deaths\": 3559, \"daily new deaths\": 99.0}, {\"date\": \"3/8/20\", \"total confirmed\": 110062, \"daily new cases\": 3960.0, \"total recovered\": 60694, \"daily new recovered\": 2335.0, \"total deaths\": 3803, \"daily new deaths\": 244.0}, {\"date\": \"3/9/20\", \"total confirmed\": 114025, \"daily new cases\": 3963.0, \"total recovered\": 62493, \"daily new recovered\": 1799.0, \"total deaths\": 3987, \"daily new deaths\": 184.0}, {\"date\": \"3/10/20\", \"total confirmed\": 119036, \"daily new cases\": 5011.0, \"total recovered\": 64404, \"daily new recovered\": 1911.0, \"total deaths\": 4267, \"daily new deaths\": 280.0}, {\"date\": \"3/11/20\", \"total confirmed\": 126717, \"daily new cases\": 7681.0, \"total recovered\": 67002, \"daily new recovered\": 2598.0, \"total deaths\": 4611, \"daily new deaths\": 344.0}, {\"date\": \"3/12/20\", \"total confirmed\": 132506, \"daily new cases\": 5789.0, \"total recovered\": 68324, \"daily new recovered\": 1322.0, \"total deaths\": 4917, \"daily new deaths\": 306.0}, {\"date\": \"3/13/20\", \"total confirmed\": 146887, \"daily new cases\": 14381.0, \"total recovered\": 70251, \"daily new recovered\": 1927.0, \"total deaths\": 5414, \"daily new deaths\": 497.0}, {\"date\": \"3/14/20\", \"total confirmed\": 157965, \"daily new cases\": 11078.0, \"total recovered\": 72622, \"daily new recovered\": 2371.0, \"total deaths\": 5834, \"daily new deaths\": 420.0}, {\"date\": \"3/15/20\", \"total confirmed\": 169258, \"daily new cases\": 11293.0, \"total recovered\": 76032, \"daily new recovered\": 3410.0, \"total deaths\": 6475, \"daily new deaths\": 641.0}, {\"date\": \"3/16/20\", \"total confirmed\": 184002, \"daily new cases\": 14744.0, \"total recovered\": 78086, \"daily new recovered\": 2054.0, \"total deaths\": 7153, \"daily new deaths\": 678.0}, {\"date\": \"3/17/20\", \"total confirmed\": 199933, \"daily new cases\": 15931.0, \"total recovered\": 80838, \"daily new recovered\": 2752.0, \"total deaths\": 7964, \"daily new deaths\": 811.0}, {\"date\": \"3/18/20\", \"total confirmed\": 219466, \"daily new cases\": 19533.0, \"total recovered\": 83321, \"daily new recovered\": 2483.0, \"total deaths\": 8867, \"daily new deaths\": 903.0}, {\"date\": \"3/19/20\", \"total confirmed\": 246622, \"daily new cases\": 27156.0, \"total recovered\": 84958, \"daily new recovered\": 1637.0, \"total deaths\": 9980, \"daily new deaths\": 1113.0}, {\"date\": \"3/20/20\", \"total confirmed\": 277257, \"daily new cases\": 30635.0, \"total recovered\": 87403, \"daily new recovered\": 2445.0, \"total deaths\": 11461, \"daily new deaths\": 1481.0}, {\"date\": \"3/21/20\", \"total confirmed\": 309226, \"daily new cases\": 31969.0, \"total recovered\": 91670, \"daily new recovered\": 4267.0, \"total deaths\": 13181, \"daily new deaths\": 1720.0}, {\"date\": \"3/22/20\", \"total confirmed\": 343464, \"daily new cases\": 34238.0, \"total recovered\": 97885, \"daily new recovered\": 6215.0, \"total deaths\": 14855, \"daily new deaths\": 1674.0}, {\"date\": \"3/23/20\", \"total confirmed\": 386832, \"daily new cases\": 43368.0, \"total recovered\": 98351, \"daily new recovered\": 466.0, \"total deaths\": 16797, \"daily new deaths\": 1942.0}, {\"date\": \"3/24/20\", \"total confirmed\": 428304, \"daily new cases\": 41472.0, \"total recovered\": 107992, \"daily new recovered\": 9641.0, \"total deaths\": 19081, \"daily new deaths\": 2284.0}, {\"date\": \"3/25/20\", \"total confirmed\": 479288, \"daily new cases\": 50984.0, \"total recovered\": 113775, \"daily new recovered\": 5783.0, \"total deaths\": 21881, \"daily new deaths\": 2800.0}, {\"date\": \"3/26/20\", \"total confirmed\": 542014, \"daily new cases\": 62726.0, \"total recovered\": 122145, \"daily new recovered\": 8370.0, \"total deaths\": 24901, \"daily new deaths\": 3020.0}, {\"date\": \"3/27/20\", \"total confirmed\": 607005, \"daily new cases\": 64991.0, \"total recovered\": 130921, \"daily new recovered\": 8776.0, \"total deaths\": 28394, \"daily new deaths\": 3493.0}, {\"date\": \"3/28/20\", \"total confirmed\": 674387, \"daily new cases\": 67382.0, \"total recovered\": 139424, \"daily new recovered\": 8503.0, \"total deaths\": 32107, \"daily new deaths\": 3713.0}, {\"date\": \"3/29/20\", \"total confirmed\": 733786, \"daily new cases\": 59399.0, \"total recovered\": 148891, \"daily new recovered\": 9467.0, \"total deaths\": 35584, \"daily new deaths\": 3477.0}, {\"date\": \"3/30/20\", \"total confirmed\": 799023, \"daily new cases\": 65237.0, \"total recovered\": 164337, \"daily new recovered\": 15446.0, \"total deaths\": 39636, \"daily new deaths\": 4052.0}, {\"date\": \"3/31/20\", \"total confirmed\": 875852, \"daily new cases\": 76829.0, \"total recovered\": 177825, \"daily new recovered\": 13488.0, \"total deaths\": 44388, \"daily new deaths\": 4752.0}, {\"date\": \"4/1/20\", \"total confirmed\": 952378, \"daily new cases\": 76526.0, \"total recovered\": 192918, \"daily new recovered\": 15093.0, \"total deaths\": 49894, \"daily new deaths\": 5506.0}, {\"date\": \"4/2/20\", \"total confirmed\": 1033709, \"daily new cases\": 81331.0, \"total recovered\": 209967, \"daily new recovered\": 17049.0, \"total deaths\": 56131, \"daily new deaths\": 6237.0}, {\"date\": \"4/3/20\", \"total confirmed\": 1116962, \"daily new cases\": 83253.0, \"total recovered\": 225415, \"daily new recovered\": 15448.0, \"total deaths\": 62237, \"daily new deaths\": 6106.0}, {\"date\": \"4/4/20\", \"total confirmed\": 1197316, \"daily new cases\": 80354.0, \"total recovered\": 245832, \"daily new recovered\": 20417.0, \"total deaths\": 68404, \"daily new deaths\": 6167.0}, {\"date\": \"4/5/20\", \"total confirmed\": 1269293, \"daily new cases\": 71977.0, \"total recovered\": 259672, \"daily new recovered\": 13840.0, \"total deaths\": 73569, \"daily new deaths\": 5165.0}, {\"date\": \"4/6/20\", \"total confirmed\": 1342527, \"daily new cases\": 73234.0, \"total recovered\": 276252, \"daily new recovered\": 16580.0, \"total deaths\": 79516, \"daily new deaths\": 5947.0}, {\"date\": \"4/7/20\", \"total confirmed\": 1420267, \"daily new cases\": 77740.0, \"total recovered\": 299643, \"daily new recovered\": 23391.0, \"total deaths\": 87740, \"daily new deaths\": 8224.0}, {\"date\": \"4/8/20\", \"total confirmed\": 1504298, \"daily new cases\": 84031.0, \"total recovered\": 328359, \"daily new recovered\": 28716.0, \"total deaths\": 94501, \"daily new deaths\": 6761.0}, {\"date\": \"4/9/20\", \"total confirmed\": 1590779, \"daily new cases\": 86481.0, \"total recovered\": 353707, \"daily new recovered\": 25348.0, \"total deaths\": 102277, \"daily new deaths\": 7776.0}, {\"date\": \"4/10/20\", \"total confirmed\": 1678319, \"daily new cases\": 87540.0, \"total recovered\": 375509, \"daily new recovered\": 21802.0, \"total deaths\": 109662, \"daily new deaths\": 7385.0}, {\"date\": \"4/11/20\", \"total confirmed\": 1754535, \"daily new cases\": 76216.0, \"total recovered\": 401766, \"daily new recovered\": 26257.0, \"total deaths\": 115903, \"daily new deaths\": 6241.0}, {\"date\": \"4/12/20\", \"total confirmed\": 1849888, \"daily new cases\": 95353.0, \"total recovered\": 421180, \"daily new recovered\": 19414.0, \"total deaths\": 121712, \"daily new deaths\": 5809.0}, {\"date\": \"4/13/20\", \"total confirmed\": 1920033, \"daily new cases\": 70145.0, \"total recovered\": 448347, \"daily new recovered\": 27167.0, \"total deaths\": 127628, \"daily new deaths\": 5916.0}, {\"date\": \"4/14/20\", \"total confirmed\": 1991379, \"daily new cases\": 71346.0, \"total recovered\": 473436, \"daily new recovered\": 25089.0, \"total deaths\": 134598, \"daily new deaths\": 6970.0}, {\"date\": \"4/15/20\", \"total confirmed\": 2073252, \"daily new cases\": 81873.0, \"total recovered\": 510106, \"daily new recovered\": 36670.0, \"total deaths\": 142949, \"daily new deaths\": 8351.0}, {\"date\": \"4/16/20\", \"total confirmed\": 2170173, \"daily new cases\": 96921.0, \"total recovered\": 540926, \"daily new recovered\": 30820.0, \"total deaths\": 150247, \"daily new deaths\": 7298.0}, {\"date\": \"4/17/20\", \"total confirmed\": 2257986, \"daily new cases\": 87813.0, \"total recovered\": 567049, \"daily new recovered\": 26123.0, \"total deaths\": 158612, \"daily new deaths\": 8365.0}, {\"date\": \"4/18/20\", \"total confirmed\": 2331380, \"daily new cases\": 73394.0, \"total recovered\": 590968, \"daily new recovered\": 23919.0, \"total deaths\": 164635, \"daily new deaths\": 6023.0}, {\"date\": \"4/19/20\", \"total confirmed\": 2411352, \"daily new cases\": 79972.0, \"total recovered\": 622623, \"daily new recovered\": 31655.0, \"total deaths\": 169897, \"daily new deaths\": 5262.0}, {\"date\": \"4/20/20\", \"total confirmed\": 2485855, \"daily new cases\": 74503.0, \"total recovered\": 644613, \"daily new recovered\": 21990.0, \"total deaths\": 175755, \"daily new deaths\": 5858.0}, {\"date\": \"4/21/20\", \"total confirmed\": 2561734, \"daily new cases\": 75879.0, \"total recovered\": 679456, \"daily new recovered\": 34843.0, \"total deaths\": 182940, \"daily new deaths\": 7185.0}, {\"date\": \"4/22/20\", \"total confirmed\": 2639753, \"daily new cases\": 78019.0, \"total recovered\": 709881, \"daily new recovered\": 30425.0, \"total deaths\": 189671, \"daily new deaths\": 6731.0}, {\"date\": \"4/23/20\", \"total confirmed\": 2727810, \"daily new cases\": 88057.0, \"total recovered\": 738661, \"daily new recovered\": 28780.0, \"total deaths\": 196509, \"daily new deaths\": 6838.0}, {\"date\": \"4/24/20\", \"total confirmed\": 2812183, \"daily new cases\": 84373.0, \"total recovered\": 788712, \"daily new recovered\": 50051.0, \"total deaths\": 203172, \"daily new deaths\": 6663.0}, {\"date\": \"4/25/20\", \"total confirmed\": 2895430, \"daily new cases\": 83247.0, \"total recovered\": 816491, \"daily new recovered\": 27779.0, \"total deaths\": 208809, \"daily new deaths\": 5637.0}, {\"date\": \"4/26/20\", \"total confirmed\": 2967570, \"daily new cases\": 72140.0, \"total recovered\": 845096, \"daily new recovered\": 28605.0, \"total deaths\": 212748, \"daily new deaths\": 3939.0}, {\"date\": \"4/27/20\", \"total confirmed\": 3037260, \"daily new cases\": 69690.0, \"total recovered\": 872865, \"daily new recovered\": 27769.0, \"total deaths\": 217421, \"daily new deaths\": 4673.0}, {\"date\": \"4/28/20\", \"total confirmed\": 3112744, \"daily new cases\": 75484.0, \"total recovered\": 906136, \"daily new recovered\": 33271.0, \"total deaths\": 223968, \"daily new deaths\": 6547.0}, {\"date\": \"4/29/20\", \"total confirmed\": 3190206, \"daily new cases\": 77462.0, \"total recovered\": 948318, \"daily new recovered\": 42182.0, \"total deaths\": 230702, \"daily new deaths\": 6734.0}, {\"date\": \"4/30/20\", \"total confirmed\": 3273554, \"daily new cases\": 83348.0, \"total recovered\": 1013284, \"daily new recovered\": 64966.0, \"total deaths\": 236698, \"daily new deaths\": 5996.0}, {\"date\": \"5/1/20\", \"total confirmed\": 3360744, \"daily new cases\": 87190.0, \"total recovered\": 1051537, \"daily new recovered\": 38253.0, \"total deaths\": 241847, \"daily new deaths\": 5149.0}, {\"date\": \"5/2/20\", \"total confirmed\": 3440791, \"daily new cases\": 80047.0, \"total recovered\": 1092416, \"daily new recovered\": 40879.0, \"total deaths\": 247325, \"daily new deaths\": 5478.0}, {\"date\": \"5/3/20\", \"total confirmed\": 3517314, \"daily new cases\": 76523.0, \"total recovered\": 1124732, \"daily new recovered\": 32316.0, \"total deaths\": 250797, \"daily new deaths\": 3472.0}, {\"date\": \"5/4/20\", \"total confirmed\": 3594392, \"daily new cases\": 77078.0, \"total recovered\": 1158819, \"daily new recovered\": 34087.0, \"total deaths\": 254896, \"daily new deaths\": 4099.0}, {\"date\": \"5/5/20\", \"total confirmed\": 3674847, \"daily new cases\": 80455.0, \"total recovered\": 1195359, \"daily new recovered\": 36540.0, \"total deaths\": 260783, \"daily new deaths\": 5887.0}, {\"date\": \"5/6/20\", \"total confirmed\": 3764761, \"daily new cases\": 89914.0, \"total recovered\": 1241365, \"daily new recovered\": 46006.0, \"total deaths\": 267326, \"daily new deaths\": 6543.0}, {\"date\": \"5/7/20\", \"total confirmed\": 3853781, \"daily new cases\": 89020.0, \"total recovered\": 1280833, \"daily new recovered\": 39468.0, \"total deaths\": 272618, \"daily new deaths\": 5292.0}, {\"date\": \"5/8/20\", \"total confirmed\": 3944952, \"daily new cases\": 91171.0, \"total recovered\": 1317383, \"daily new recovered\": 36550.0, \"total deaths\": 278098, \"daily new deaths\": 5480.0}, {\"date\": \"5/9/20\", \"total confirmed\": 4029875, \"daily new cases\": 84923.0, \"total recovered\": 1370933, \"daily new recovered\": 53550.0, \"total deaths\": 282385, \"daily new deaths\": 4287.0}, {\"date\": \"5/10/20\", \"total confirmed\": 4105071, \"daily new cases\": 75196.0, \"total recovered\": 1404527, \"daily new recovered\": 33594.0, \"total deaths\": 285979, \"daily new deaths\": 3594.0}, {\"date\": \"5/11/20\", \"total confirmed\": 4181946, \"daily new cases\": 76875.0, \"total recovered\": 1451521, \"daily new recovered\": 46994.0, \"total deaths\": 289447, \"daily new deaths\": 3468.0}, {\"date\": \"5/12/20\", \"total confirmed\": 4266204, \"daily new cases\": 84258.0, \"total recovered\": 1488542, \"daily new recovered\": 37021.0, \"total deaths\": 294969, \"daily new deaths\": 5522.0}, {\"date\": \"5/13/20\", \"total confirmed\": 4351024, \"daily new cases\": 84820.0, \"total recovered\": 1544398, \"daily new recovered\": 55856.0, \"total deaths\": 300046, \"daily new deaths\": 5077.0}, {\"date\": \"5/14/20\", \"total confirmed\": 4447706, \"daily new cases\": 96682.0, \"total recovered\": 1584114, \"daily new recovered\": 39716.0, \"total deaths\": 305227, \"daily new deaths\": 5181.0}, {\"date\": \"5/15/20\", \"total confirmed\": 4544030, \"daily new cases\": 96324.0, \"total recovered\": 1632122, \"daily new recovered\": 48008.0, \"total deaths\": 310343, \"daily new deaths\": 5116.0}, {\"date\": \"5/16/20\", \"total confirmed\": 4638236, \"daily new cases\": 94206.0, \"total recovered\": 1688714, \"daily new recovered\": 56592.0, \"total deaths\": 314519, \"daily new deaths\": 4176.0}, {\"date\": \"5/17/20\", \"total confirmed\": 4715641, \"daily new cases\": 77405.0, \"total recovered\": 1729621, \"daily new recovered\": 40907.0, \"total deaths\": 317804, \"daily new deaths\": 3285.0}, {\"date\": \"5/18/20\", \"total confirmed\": 4804359, \"daily new cases\": 88718.0, \"total recovered\": 1782542, \"daily new recovered\": 52921.0, \"total deaths\": 321499, \"daily new deaths\": 3695.0}, {\"date\": \"5/19/20\", \"total confirmed\": 4901497, \"daily new cases\": 97138.0, \"total recovered\": 1834647, \"daily new recovered\": 52105.0, \"total deaths\": 326219, \"daily new deaths\": 4720.0}, {\"date\": \"5/20/20\", \"total confirmed\": 5004250, \"daily new cases\": 102753.0, \"total recovered\": 1893575, \"daily new recovered\": 58928.0, \"total deaths\": 330979, \"daily new deaths\": 4760.0}, {\"date\": \"5/21/20\", \"total confirmed\": 5110815, \"daily new cases\": 106565.0, \"total recovered\": 1944840, \"daily new recovered\": 51265.0, \"total deaths\": 335704, \"daily new deaths\": 4725.0}, {\"date\": \"5/22/20\", \"total confirmed\": 5216798, \"daily new cases\": 105983.0, \"total recovered\": 2053491, \"daily new recovered\": 108651.0, \"total deaths\": 340899, \"daily new deaths\": 5195.0}, {\"date\": \"5/23/20\", \"total confirmed\": 5321424, \"daily new cases\": 104626.0, \"total recovered\": 2108462, \"daily new recovered\": 54971.0, \"total deaths\": 344815, \"daily new deaths\": 3916.0}, {\"date\": \"5/24/20\", \"total confirmed\": 5415901, \"daily new cases\": 94477.0, \"total recovered\": 2163902, \"daily new recovered\": 55440.0, \"total deaths\": 347937, \"daily new deaths\": 3122.0}, {\"date\": \"5/25/20\", \"total confirmed\": 5502250, \"daily new cases\": 86349.0, \"total recovered\": 2227625, \"daily new recovered\": 63723.0, \"total deaths\": 349138, \"daily new deaths\": 1201.0}, {\"date\": \"5/26/20\", \"total confirmed\": 5595501, \"daily new cases\": 93251.0, \"total recovered\": 2282839, \"daily new recovered\": 55214.0, \"total deaths\": 353258, \"daily new deaths\": 4120.0}, {\"date\": \"5/27/20\", \"total confirmed\": 5698506, \"daily new cases\": 103005.0, \"total recovered\": 2346232, \"daily new recovered\": 63393.0, \"total deaths\": 358394, \"daily new deaths\": 5136.0}, {\"date\": \"5/28/20\", \"total confirmed\": 5818020, \"daily new cases\": 119514.0, \"total recovered\": 2413089, \"daily new recovered\": 66857.0, \"total deaths\": 363017, \"daily new deaths\": 4623.0}, {\"date\": \"5/29/20\", \"total confirmed\": 5938915, \"daily new cases\": 120895.0, \"total recovered\": 2490435, \"daily new recovered\": 77346.0, \"total deaths\": 367604, \"daily new deaths\": 4587.0}, {\"date\": \"5/30/20\", \"total confirmed\": 6075869, \"daily new cases\": 136954.0, \"total recovered\": 2560888, \"daily new recovered\": 70453.0, \"total deaths\": 371669, \"daily new deaths\": 4065.0}, {\"date\": \"5/31/20\", \"total confirmed\": 6182468, \"daily new cases\": 106599.0, \"total recovered\": 2637208, \"daily new recovered\": 76320.0, \"total deaths\": 374645, \"daily new deaths\": 2976.0}, {\"date\": \"6/1/20\", \"total confirmed\": 6277971, \"daily new cases\": 95503.0, \"total recovered\": 2692105, \"daily new recovered\": 54897.0, \"total deaths\": 377722, \"daily new deaths\": 3077.0}, {\"date\": \"6/2/20\", \"total confirmed\": 6399352, \"daily new cases\": 121381.0, \"total recovered\": 2796228, \"daily new recovered\": 104123.0, \"total deaths\": 382445, \"daily new deaths\": 4723.0}, {\"date\": \"6/3/20\", \"total confirmed\": 6517447, \"daily new cases\": 118095.0, \"total recovered\": 2875332, \"daily new recovered\": 79104.0, \"total deaths\": 387881, \"daily new deaths\": 5436.0}, {\"date\": \"6/4/20\", \"total confirmed\": 6644274, \"daily new cases\": 126827.0, \"total recovered\": 2945385, \"daily new recovered\": 70053.0, \"total deaths\": 392997, \"daily new deaths\": 5116.0}, {\"date\": \"6/5/20\", \"total confirmed\": 6775073, \"daily new cases\": 130799.0, \"total recovered\": 3014544, \"daily new recovered\": 69159.0, \"total deaths\": 397563, \"daily new deaths\": 4566.0}, {\"date\": \"6/6/20\", \"total confirmed\": 6909702, \"daily new cases\": 134629.0, \"total recovered\": 3086748, \"daily new recovered\": 72204.0, \"total deaths\": 401413, \"daily new deaths\": 3850.0}, {\"date\": \"6/7/20\", \"total confirmed\": 7021606, \"daily new cases\": 111904.0, \"total recovered\": 3141849, \"daily new recovered\": 55101.0, \"total deaths\": 404157, \"daily new deaths\": 2744.0}, {\"date\": \"6/8/20\", \"total confirmed\": 7124085, \"daily new cases\": 102479.0, \"total recovered\": 3293412, \"daily new recovered\": 151563.0, \"total deaths\": 407836, \"daily new deaths\": 3679.0}, {\"date\": \"6/9/20\", \"total confirmed\": 7248720, \"daily new cases\": 124635.0, \"total recovered\": 3375694, \"daily new recovered\": 82282.0, \"total deaths\": 412671, \"daily new deaths\": 4835.0}, {\"date\": \"6/10/20\", \"total confirmed\": 7383167, \"daily new cases\": 134447.0, \"total recovered\": 3454832, \"daily new recovered\": 79138.0, \"total deaths\": 417730, \"daily new deaths\": 5059.0}, {\"date\": \"6/11/20\", \"total confirmed\": 7521337, \"daily new cases\": 138170.0, \"total recovered\": 3540714, \"daily new recovered\": 85882.0, \"total deaths\": 422412, \"daily new deaths\": 4682.0}, {\"date\": \"6/12/20\", \"total confirmed\": 7649809, \"daily new cases\": 128472.0, \"total recovered\": 3620438, \"daily new recovered\": 79724.0, \"total deaths\": 426627, \"daily new deaths\": 4215.0}, {\"date\": \"6/13/20\", \"total confirmed\": 7785133, \"daily new cases\": 135324.0, \"total recovered\": 3706372, \"daily new recovered\": 85934.0, \"total deaths\": 430818, \"daily new deaths\": 4191.0}, {\"date\": \"6/14/20\", \"total confirmed\": 7917785, \"daily new cases\": 132652.0, \"total recovered\": 3777157, \"daily new recovered\": 70785.0, \"total deaths\": 434230, \"daily new deaths\": 3412.0}, {\"date\": \"6/15/20\", \"total confirmed\": 8037530, \"daily new cases\": 119745.0, \"total recovered\": 3857365, \"daily new recovered\": 80208.0, \"total deaths\": 437649, \"daily new deaths\": 3419.0}, {\"date\": \"6/16/20\", \"total confirmed\": 8179373, \"daily new cases\": 141843.0, \"total recovered\": 3955205, \"daily new recovered\": 97840.0, \"total deaths\": 444367, \"daily new deaths\": 6718.0}, {\"date\": \"6/17/20\", \"total confirmed\": 8321890, \"daily new cases\": 142517.0, \"total recovered\": 4073992, \"daily new recovered\": 118787.0, \"total deaths\": 449456, \"daily new deaths\": 5089.0}, {\"date\": \"6/18/20\", \"total confirmed\": 8462195, \"daily new cases\": 140305.0, \"total recovered\": 4155134, \"daily new recovered\": 81142.0, \"total deaths\": 454436, \"daily new deaths\": 4980.0}, {\"date\": \"6/19/20\", \"total confirmed\": 8642028, \"daily new cases\": 179833.0, \"total recovered\": 4250149, \"daily new recovered\": 95015.0, \"total deaths\": 460586, \"daily new deaths\": 6150.0}, {\"date\": \"6/20/20\", \"total confirmed\": 8799120, \"daily new cases\": 157092.0, \"total recovered\": 4365974, \"daily new recovered\": 115825.0, \"total deaths\": 464790, \"daily new deaths\": 4204.0}, {\"date\": \"6/21/20\", \"total confirmed\": 8927408, \"daily new cases\": 128288.0, \"total recovered\": 4434711, \"daily new recovered\": 68737.0, \"total deaths\": 468799, \"daily new deaths\": 4009.0}, {\"date\": \"6/22/20\", \"total confirmed\": 9065315, \"daily new cases\": 137907.0, \"total recovered\": 4526337, \"daily new recovered\": 91626.0, \"total deaths\": 472358, \"daily new deaths\": 3559.0}, {\"date\": \"6/23/20\", \"total confirmed\": 9230605, \"daily new cases\": 165290.0, \"total recovered\": 4630412, \"daily new recovered\": 104075.0, \"total deaths\": 477580, \"daily new deaths\": 5222.0}, {\"date\": \"6/24/20\", \"total confirmed\": 9401467, \"daily new cases\": 170862.0, \"total recovered\": 4746172, \"daily new recovered\": 115760.0, \"total deaths\": 482750, \"daily new deaths\": 5170.0}, {\"date\": \"6/25/20\", \"total confirmed\": 9579792, \"daily new cases\": 178325.0, \"total recovered\": 4839028, \"daily new recovered\": 92856.0, \"total deaths\": 487444, \"daily new deaths\": 4694.0}, {\"date\": \"6/26/20\", \"total confirmed\": 9771190, \"daily new cases\": 191398.0, \"total recovered\": 4945742, \"daily new recovered\": 106714.0, \"total deaths\": 492146, \"daily new deaths\": 4702.0}, {\"date\": \"6/27/20\", \"total confirmed\": 9949650, \"daily new cases\": 178460.0, \"total recovered\": 5052107, \"daily new recovered\": 106365.0, \"total deaths\": 496609, \"daily new deaths\": 4463.0}, {\"date\": \"6/28/20\", \"total confirmed\": 10111445, \"daily new cases\": 161795.0, \"total recovered\": 5141227, \"daily new recovered\": 89120.0, \"total deaths\": 499752, \"daily new deaths\": 3143.0}, {\"date\": \"6/29/20\", \"total confirmed\": 10267631, \"daily new cases\": 156186.0, \"total recovered\": 5235793, \"daily new recovered\": 94566.0, \"total deaths\": 503476, \"daily new deaths\": 3724.0}, {\"date\": \"6/30/20\", \"total confirmed\": 10441739, \"daily new cases\": 174108.0, \"total recovered\": 5353115, \"daily new recovered\": 117322.0, \"total deaths\": 508425, \"daily new deaths\": 4949.0}, {\"date\": \"7/1/20\", \"total confirmed\": 10658951, \"daily new cases\": 217212.0, \"total recovered\": 5469041, \"daily new recovered\": 115926.0, \"total deaths\": 513353, \"daily new deaths\": 4928.0}, {\"date\": \"7/2/20\", \"total confirmed\": 10867065, \"daily new cases\": 208114.0, \"total recovered\": 5753918, \"daily new recovered\": 284877.0, \"total deaths\": 518416, \"daily new deaths\": 5063.0}, {\"date\": \"7/3/20\", \"total confirmed\": 11069750, \"daily new cases\": 202685.0, \"total recovered\": 5863818, \"daily new recovered\": 109900.0, \"total deaths\": 523351, \"daily new deaths\": 4935.0}, {\"date\": \"7/4/20\", \"total confirmed\": 11263591, \"daily new cases\": 193841.0, \"total recovered\": 6059651, \"daily new recovered\": 195833.0, \"total deaths\": 527719, \"daily new deaths\": 4368.0}, {\"date\": \"7/5/20\", \"total confirmed\": 11446487, \"daily new cases\": 182896.0, \"total recovered\": 6178973, \"daily new recovered\": 119322.0, \"total deaths\": 531192, \"daily new deaths\": 3473.0}, {\"date\": \"7/6/20\", \"total confirmed\": 11611692, \"daily new cases\": 165205.0, \"total recovered\": 6302585, \"daily new recovered\": 123612.0, \"total deaths\": 535019, \"daily new deaths\": 3827.0}, {\"date\": \"7/7/20\", \"total confirmed\": 11822619, \"daily new cases\": 210927.0, \"total recovered\": 6447610, \"daily new recovered\": 145025.0, \"total deaths\": 541034, \"daily new deaths\": 6015.0}, {\"date\": \"7/8/20\", \"total confirmed\": 12035018, \"daily new cases\": 212399.0, \"total recovered\": 6605559, \"daily new recovered\": 157949.0, \"total deaths\": 546307, \"daily new deaths\": 5273.0}, {\"date\": \"7/9/20\", \"total confirmed\": 12263083, \"daily new cases\": 228065.0, \"total recovered\": 6740073, \"daily new recovered\": 134514.0, \"total deaths\": 551715, \"daily new deaths\": 5408.0}, {\"date\": \"7/10/20\", \"total confirmed\": 12495240, \"daily new cases\": 232157.0, \"total recovered\": 6879465, \"daily new recovered\": 139392.0, \"total deaths\": 557007, \"daily new deaths\": 5292.0}, {\"date\": \"7/11/20\", \"total confirmed\": 12711512, \"daily new cases\": 216272.0, \"total recovered\": 7005174, \"daily new recovered\": 125709.0, \"total deaths\": 561795, \"daily new deaths\": 4788.0}, {\"date\": \"7/12/20\", \"total confirmed\": 12904017, \"daily new cases\": 192505.0, \"total recovered\": 7116853, \"daily new recovered\": 111679.0, \"total deaths\": 565787, \"daily new deaths\": 3992.0}, {\"date\": \"7/13/20\", \"total confirmed\": 13096205, \"daily new cases\": 192188.0, \"total recovered\": 7257197, \"daily new recovered\": 140344.0, \"total deaths\": 569601, \"daily new deaths\": 3814.0}, {\"date\": \"7/14/20\", \"total confirmed\": 13317524, \"daily new cases\": 221319.0, \"total recovered\": 7399397, \"daily new recovered\": 142200.0, \"total deaths\": 575190, \"daily new deaths\": 5589.0}, {\"date\": \"7/15/20\", \"total confirmed\": 13548634, \"daily new cases\": 231110.0, \"total recovered\": 7559178, \"daily new recovered\": 159781.0, \"total deaths\": 580628, \"daily new deaths\": 5438.0}, {\"date\": \"7/16/20\", \"total confirmed\": 13801199, \"daily new cases\": 252565.0, \"total recovered\": 7711548, \"daily new recovered\": 152370.0, \"total deaths\": 586385, \"daily new deaths\": 5757.0}, {\"date\": \"7/17/20\", \"total confirmed\": 14043071, \"daily new cases\": 241872.0, \"total recovered\": 7894858, \"daily new recovered\": 183310.0, \"total deaths\": 593044, \"daily new deaths\": 6659.0}, {\"date\": \"7/18/20\", \"total confirmed\": 14279827, \"daily new cases\": 236756.0, \"total recovered\": 8045815, \"daily new recovered\": 150957.0, \"total deaths\": 598659, \"daily new deaths\": 5615.0}, {\"date\": \"7/19/20\", \"total confirmed\": 14493749, \"daily new cases\": 213922.0, \"total recovered\": 8133692, \"daily new recovered\": 87877.0, \"total deaths\": 602717, \"daily new deaths\": 4058.0}, {\"date\": \"7/20/20\", \"total confirmed\": 14700303, \"daily new cases\": 206554.0, \"total recovered\": 8292688, \"daily new recovered\": 158996.0, \"total deaths\": 606895, \"daily new deaths\": 4178.0}, {\"date\": \"7/21/20\", \"total confirmed\": 14933710, \"daily new cases\": 233407.0, \"total recovered\": 8467335, \"daily new recovered\": 174647.0, \"total deaths\": 613058, \"daily new deaths\": 6163.0}, {\"date\": \"7/22/20\", \"total confirmed\": 15214538, \"daily new cases\": 280828.0, \"total recovered\": 8643722, \"daily new recovered\": 176387.0, \"total deaths\": 619984, \"daily new deaths\": 6926.0}, {\"date\": \"7/23/20\", \"total confirmed\": 15497459, \"daily new cases\": 282921.0, \"total recovered\": 8813886, \"daily new recovered\": 170164.0, \"total deaths\": 629879, \"daily new deaths\": 9895.0}, {\"date\": \"7/24/20\", \"total confirmed\": 15777780, \"daily new cases\": 280321.0, \"total recovered\": 9043203, \"daily new recovered\": 229317.0, \"total deaths\": 635912, \"daily new deaths\": 6033.0}, {\"date\": \"7/25/20\", \"total confirmed\": 16033181, \"daily new cases\": 255401.0, \"total recovered\": 9262520, \"daily new recovered\": 219317.0, \"total deaths\": 641447, \"daily new deaths\": 5535.0}, {\"date\": \"7/26/20\", \"total confirmed\": 16245990, \"daily new cases\": 212809.0, \"total recovered\": 9402996, \"daily new recovered\": 140476.0, \"total deaths\": 645118, \"daily new deaths\": 3671.0}, {\"date\": \"7/27/20\", \"total confirmed\": 16472188, \"daily new cases\": 226198.0, \"total recovered\": 9572619, \"daily new recovered\": 169623.0, \"total deaths\": 650290, \"daily new deaths\": 5172.0}, {\"date\": \"7/28/20\", \"total confirmed\": 16724421, \"daily new cases\": 252233.0, \"total recovered\": 9746473, \"daily new recovered\": 173854.0, \"total deaths\": 656599, \"daily new deaths\": 6309.0}, {\"date\": \"7/29/20\", \"total confirmed\": 17014028, \"daily new cases\": 289607.0, \"total recovered\": 9948163, \"daily new recovered\": 201690.0, \"total deaths\": 663171, \"daily new deaths\": 6572.0}, {\"date\": \"7/30/20\", \"total confirmed\": 17294158, \"daily new cases\": 280130.0, \"total recovered\": 10170650, \"daily new recovered\": 222487.0, \"total deaths\": 669184, \"daily new deaths\": 6013.0}, {\"date\": \"7/31/20\", \"total confirmed\": 17584349, \"daily new cases\": 290191.0, \"total recovered\": 10369255, \"daily new recovered\": 198605.0, \"total deaths\": 675387, \"daily new deaths\": 6203.0}, {\"date\": \"8/1/20\", \"total confirmed\": 17834465, \"daily new cases\": 250116.0, \"total recovered\": 10553852, \"daily new recovered\": 184597.0, \"total deaths\": 680873, \"daily new deaths\": 5486.0}, {\"date\": \"8/2/20\", \"total confirmed\": 18062665, \"daily new cases\": 228200.0, \"total recovered\": 10690555, \"daily new recovered\": 136703.0, \"total deaths\": 685148, \"daily new deaths\": 4275.0}, {\"date\": \"8/3/20\", \"total confirmed\": 18264102, \"daily new cases\": 201437.0, \"total recovered\": 10913000, \"daily new recovered\": 222445.0, \"total deaths\": 689472, \"daily new deaths\": 4324.0}, {\"date\": \"8/4/20\", \"total confirmed\": 18522551, \"daily new cases\": 258449.0, \"total recovered\": 11137165, \"daily new recovered\": 224165.0, \"total deaths\": 696389, \"daily new deaths\": 6917.0}, {\"date\": \"8/5/20\", \"total confirmed\": 18794790, \"daily new cases\": 272239.0, \"total recovered\": 11358861, \"daily new recovered\": 221696.0, \"total deaths\": 703356, \"daily new deaths\": 6967.0}, {\"date\": \"8/6/20\", \"total confirmed\": 19079535, \"daily new cases\": 284745.0, \"total recovered\": 11547831, \"daily new recovered\": 188970.0, \"total deaths\": 709848, \"daily new deaths\": 6492.0}, {\"date\": \"8/7/20\", \"total confirmed\": 19360274, \"daily new cases\": 280739.0, \"total recovered\": 11740482, \"daily new recovered\": 192651.0, \"total deaths\": 716145, \"daily new deaths\": 6297.0}, {\"date\": \"8/8/20\", \"total confirmed\": 19619325, \"daily new cases\": 259051.0, \"total recovered\": 11941861, \"daily new recovered\": 201379.0, \"total deaths\": 721574, \"daily new deaths\": 5429.0}, {\"date\": \"8/9/20\", \"total confirmed\": 19842617, \"daily new cases\": 223292.0, \"total recovered\": 12118746, \"daily new recovered\": 176885.0, \"total deaths\": 726131, \"daily new deaths\": 4557.0}, {\"date\": \"8/10/20\", \"total confirmed\": 20069642, \"daily new cases\": 227025.0, \"total recovered\": 12282977, \"daily new recovered\": 164231.0, \"total deaths\": 731039, \"daily new deaths\": 4908.0}, {\"date\": \"8/11/20\", \"total confirmed\": 20324450, \"daily new cases\": 254808.0, \"total recovered\": 12588120, \"daily new recovered\": 305143.0, \"total deaths\": 737475, \"daily new deaths\": 6436.0}, {\"date\": \"8/12/20\", \"total confirmed\": 20602423, \"daily new cases\": 277973.0, \"total recovered\": 12829625, \"daily new recovered\": 241505.0, \"total deaths\": 744095, \"daily new deaths\": 6620.0}, {\"date\": \"8/13/20\", \"total confirmed\": 20888374, \"daily new cases\": 285951.0, \"total recovered\": 12994838, \"daily new recovered\": 165213.0, \"total deaths\": 750306, \"daily new deaths\": 6211.0}, {\"date\": \"8/14/20\", \"total confirmed\": 21192603, \"daily new cases\": 304229.0, \"total recovered\": 13279288, \"daily new recovered\": 284450.0, \"total deaths\": 760437, \"daily new deaths\": 10131.0}, {\"date\": \"8/15/20\", \"total confirmed\": 21440241, \"daily new cases\": 247638.0, \"total recovered\": 13448301, \"daily new recovered\": 169013.0, \"total deaths\": 765782, \"daily new deaths\": 5345.0}, {\"date\": \"8/16/20\", \"total confirmed\": 21652169, \"daily new cases\": 211928.0, \"total recovered\": 13679557, \"daily new recovered\": 231256.0, \"total deaths\": 769985, \"daily new deaths\": 4203.0}, {\"date\": \"8/17/20\", \"total confirmed\": 21861938, \"daily new cases\": 209769.0, \"total recovered\": 13891142, \"daily new recovered\": 211585.0, \"total deaths\": 774126, \"daily new deaths\": 4141.0}, {\"date\": \"8/18/20\", \"total confirmed\": 22118012, \"daily new cases\": 256074.0, \"total recovered\": 14119129, \"daily new recovered\": 227987.0, \"total deaths\": 781012, \"daily new deaths\": 6886.0}, {\"date\": \"8/19/20\", \"total confirmed\": 22392471, \"daily new cases\": 274459.0, \"total recovered\": 14336714, \"daily new recovered\": 217585.0, \"total deaths\": 787749, \"daily new deaths\": 6737.0}, {\"date\": \"8/20/20\", \"total confirmed\": 22659722, \"daily new cases\": 267251.0, \"total recovered\": 14544618, \"daily new recovered\": 207904.0, \"total deaths\": 793786, \"daily new deaths\": 6037.0}, {\"date\": \"8/21/20\", \"total confirmed\": 22929317, \"daily new cases\": 269595.0, \"total recovered\": 14714711, \"daily new recovered\": 170093.0, \"total deaths\": 799284, \"daily new deaths\": 5498.0}, {\"date\": \"8/22/20\", \"total confirmed\": 23194351, \"daily new cases\": 265034.0, \"total recovered\": 14924833, \"daily new recovered\": 210122.0, \"total deaths\": 804858, \"daily new deaths\": 5574.0}, {\"date\": \"8/23/20\", \"total confirmed\": 23399855, \"daily new cases\": 205504.0, \"total recovered\": 15140069, \"daily new recovered\": 215236.0, \"total deaths\": 808715, \"daily new deaths\": 3857.0}, {\"date\": \"8/24/20\", \"total confirmed\": 23625991, \"daily new cases\": 226136.0, \"total recovered\": 15340270, \"daily new recovered\": 200201.0, \"total deaths\": 813080, \"daily new deaths\": 4365.0}, {\"date\": \"8/25/20\", \"total confirmed\": 23867949, \"daily new cases\": 241958.0, \"total recovered\": 15573057, \"daily new recovered\": 232787.0, \"total deaths\": 819456, \"daily new deaths\": 6376.0}, {\"date\": \"8/26/20\", \"total confirmed\": 24157646, \"daily new cases\": 289697.0, \"total recovered\": 15797560, \"daily new recovered\": 224503.0, \"total deaths\": 825747, \"daily new deaths\": 6291.0}, {\"date\": \"8/27/20\", \"total confirmed\": 24436720, \"daily new cases\": 279074.0, \"total recovered\": 15999266, \"daily new recovered\": 201706.0, \"total deaths\": 831632, \"daily new deaths\": 5885.0}, {\"date\": \"8/28/20\", \"total confirmed\": 24718050, \"daily new cases\": 281330.0, \"total recovered\": 16199844, \"daily new recovered\": 200578.0, \"total deaths\": 837148, \"daily new deaths\": 5516.0}, {\"date\": \"8/29/20\", \"total confirmed\": 24978746, \"daily new cases\": 260696.0, \"total recovered\": 16411585, \"daily new recovered\": 211741.0, \"total deaths\": 842535, \"daily new deaths\": 5387.0}, {\"date\": \"8/30/20\", \"total confirmed\": 25205088, \"daily new cases\": 226342.0, \"total recovered\": 16620139, \"daily new recovered\": 208554.0, \"total deaths\": 846446, \"daily new deaths\": 3911.0}, {\"date\": \"8/31/20\", \"total confirmed\": 25467520, \"daily new cases\": 262432.0, \"total recovered\": 16821702, \"daily new recovered\": 201563.0, \"total deaths\": 850659, \"daily new deaths\": 4213.0}, {\"date\": \"9/1/20\", \"total confirmed\": 25731709, \"daily new cases\": 264189.0, \"total recovered\": 17079381, \"daily new recovered\": 257679.0, \"total deaths\": 857145, \"daily new deaths\": 6486.0}, {\"date\": \"9/2/20\", \"total confirmed\": 26014463, \"daily new cases\": 282754.0, \"total recovered\": 17298150, \"daily new recovered\": 218769.0, \"total deaths\": 863160, \"daily new deaths\": 6015.0}, {\"date\": \"9/3/20\", \"total confirmed\": 26295319, \"daily new cases\": 280856.0, \"total recovered\": 17519051, \"daily new recovered\": 220901.0, \"total deaths\": 868871, \"daily new deaths\": 5711.0}, {\"date\": \"9/4/20\", \"total confirmed\": 26608153, \"daily new cases\": 312834.0, \"total recovered\": 17732989, \"daily new recovered\": 213938.0, \"total deaths\": 874782, \"daily new deaths\": 5911.0}, {\"date\": \"9/5/20\", \"total confirmed\": 26871379, \"daily new cases\": 263226.0, \"total recovered\": 17933979, \"daily new recovered\": 200990.0, \"total deaths\": 879715, \"daily new deaths\": 4933.0}, {\"date\": \"9/6/20\", \"total confirmed\": 27093507, \"daily new cases\": 222128.0, \"total recovered\": 18144209, \"daily new recovered\": 210230.0, \"total deaths\": 883492, \"daily new deaths\": 3777.0}, {\"date\": \"9/7/20\", \"total confirmed\": 27326895, \"daily new cases\": 233388.0, \"total recovered\": 18343108, \"daily new recovered\": 198899.0, \"total deaths\": 892811, \"daily new deaths\": 9319.0}, {\"date\": \"9/8/20\", \"total confirmed\": 27568271, \"daily new cases\": 241376.0, \"total recovered\": 18544747, \"daily new recovered\": 201639.0, \"total deaths\": 897756, \"daily new deaths\": 4945.0}, {\"date\": \"9/9/20\", \"total confirmed\": 27852706, \"daily new cases\": 284435.0, \"total recovered\": 18784778, \"daily new recovered\": 240031.0, \"total deaths\": 903836, \"daily new deaths\": 6080.0}, {\"date\": \"9/10/20\", \"total confirmed\": 28151687, \"daily new cases\": 298981.0, \"total recovered\": 19000545, \"daily new recovered\": 215767.0, \"total deaths\": 909636, \"daily new deaths\": 5800.0}, {\"date\": \"9/11/20\", \"total confirmed\": 28471545, \"daily new cases\": 319858.0, \"total recovered\": 19224079, \"daily new recovered\": 223534.0, \"total deaths\": 915518, \"daily new deaths\": 5882.0}, {\"date\": \"9/12/20\", \"total confirmed\": 28748552, \"daily new cases\": 277007.0, \"total recovered\": 19447558, \"daily new recovered\": 223479.0, \"total deaths\": 920392, \"daily new deaths\": 4874.0}, {\"date\": \"9/13/20\", \"total confirmed\": 28984632, \"daily new cases\": 236080.0, \"total recovered\": 19633499, \"daily new recovered\": 185941.0, \"total deaths\": 924049, \"daily new deaths\": 3657.0}, {\"date\": \"9/14/20\", \"total confirmed\": 29264226, \"daily new cases\": 279594.0, \"total recovered\": 19863106, \"daily new recovered\": 229607.0, \"total deaths\": 928485, \"daily new deaths\": 4436.0}, {\"date\": \"9/15/20\", \"total confirmed\": 29547908, \"daily new cases\": 283682.0, \"total recovered\": 20089476, \"daily new recovered\": 226370.0, \"total deaths\": 935035, \"daily new deaths\": 6550.0}, {\"date\": \"9/16/20\", \"total confirmed\": 29852879, \"daily new cases\": 304971.0, \"total recovered\": 20318600, \"daily new recovered\": 229124.0, \"total deaths\": 940788, \"daily new deaths\": 5753.0}, {\"date\": \"9/17/20\", \"total confirmed\": 30166465, \"daily new cases\": 313586.0, \"total recovered\": 20538086, \"daily new recovered\": 219486.0, \"total deaths\": 946247, \"daily new deaths\": 5459.0}, {\"date\": \"9/18/20\", \"total confirmed\": 30489632, \"daily new cases\": 323167.0, \"total recovered\": 20790028, \"daily new recovered\": 251942.0, \"total deaths\": 951952, \"daily new deaths\": 5705.0}, {\"date\": \"9/19/20\", \"total confirmed\": 30770188, \"daily new cases\": 280556.0, \"total recovered\": 21027965, \"daily new recovered\": 237937.0, \"total deaths\": 957190, \"daily new deaths\": 5238.0}, {\"date\": \"9/20/20\", \"total confirmed\": 31012629, \"daily new cases\": 242441.0, \"total recovered\": 21264098, \"daily new recovered\": 236133.0, \"total deaths\": 960901, \"daily new deaths\": 3711.0}, {\"date\": \"9/21/20\", \"total confirmed\": 31311005, \"daily new cases\": 298376.0, \"total recovered\": 21507448, \"daily new recovered\": 243350.0, \"total deaths\": 965023, \"daily new deaths\": 4122.0}, {\"date\": \"9/22/20\", \"total confirmed\": 31590903, \"daily new cases\": 279898.0, \"total recovered\": 21727303, \"daily new recovered\": 219855.0, \"total deaths\": 971005, \"daily new deaths\": 5982.0}, {\"date\": \"9/23/20\", \"total confirmed\": 31857635, \"daily new cases\": 266732.0, \"total recovered\": 21991024, \"daily new recovered\": 263721.0, \"total deaths\": 976616, \"daily new deaths\": 5611.0}, {\"date\": \"9/24/20\", \"total confirmed\": 32218899, \"daily new cases\": 361264.0, \"total recovered\": 22245775, \"daily new recovered\": 254751.0, \"total deaths\": 983336, \"daily new deaths\": 6720.0}, {\"date\": \"9/25/20\", \"total confirmed\": 32548215, \"daily new cases\": 329316.0, \"total recovered\": 22485502, \"daily new recovered\": 239727.0, \"total deaths\": 989239, \"daily new deaths\": 5903.0}, {\"date\": \"9/26/20\", \"total confirmed\": 32825265, \"daily new cases\": 277050.0, \"total recovered\": 22728853, \"daily new recovered\": 243351.0, \"total deaths\": 994526, \"daily new deaths\": 5287.0}, {\"date\": \"9/27/20\", \"total confirmed\": 33066434, \"daily new cases\": 241169.0, \"total recovered\": 22939253, \"daily new recovered\": 210400.0, \"total deaths\": 998144, \"daily new deaths\": 3618.0}, {\"date\": \"9/28/20\", \"total confirmed\": 33342317, \"daily new cases\": 275883.0, \"total recovered\": 23164809, \"daily new recovered\": 225556.0, \"total deaths\": 1002070, \"daily new deaths\": 3926.0}, {\"date\": \"9/29/20\", \"total confirmed\": 33626366, \"daily new cases\": 284049.0, \"total recovered\": 23402735, \"daily new recovered\": 237926.0, \"total deaths\": 1008163, \"daily new deaths\": 6093.0}, {\"date\": \"9/30/20\", \"total confirmed\": 33953087, \"daily new cases\": 326721.0, \"total recovered\": 23652271, \"daily new recovered\": 249536.0, \"total deaths\": 1014556, \"daily new deaths\": 6393.0}, {\"date\": \"10/1/20\", \"total confirmed\": 34271069, \"daily new cases\": 317982.0, \"total recovered\": 23872886, \"daily new recovered\": 220615.0, \"total deaths\": 1023252, \"daily new deaths\": 8696.0}, {\"date\": \"10/2/20\", \"total confirmed\": 34565494, \"daily new cases\": 294425.0, \"total recovered\": 24044783, \"daily new recovered\": 171897.0, \"total deaths\": 1028237, \"daily new deaths\": 4985.0}, {\"date\": \"10/3/20\", \"total confirmed\": 34884965, \"daily new cases\": 319471.0, \"total recovered\": 24302969, \"daily new recovered\": 258186.0, \"total deaths\": 1033584, \"daily new deaths\": 5347.0}, {\"date\": \"10/4/20\", \"total confirmed\": 35133661, \"daily new cases\": 248696.0, \"total recovered\": 24521170, \"daily new recovered\": 218201.0, \"total deaths\": 1037360, \"daily new deaths\": 3776.0}, {\"date\": \"10/5/20\", \"total confirmed\": 35462777, \"daily new cases\": 329116.0, \"total recovered\": 24760057, \"daily new recovered\": 238887.0, \"total deaths\": 1044369, \"daily new deaths\": 7009.0}, {\"date\": \"10/6/20\", \"total confirmed\": 35786652, \"daily new cases\": 323875.0, \"total recovered\": 24993149, \"daily new recovered\": 233092.0, \"total deaths\": 1050154, \"daily new deaths\": 5785.0}, {\"date\": \"10/7/20\", \"total confirmed\": 36136477, \"daily new cases\": 349825.0, \"total recovered\": 25248549, \"daily new recovered\": 255400.0, \"total deaths\": 1055972, \"daily new deaths\": 5818.0}, {\"date\": \"10/8/20\", \"total confirmed\": 36496941, \"daily new cases\": 360464.0, \"total recovered\": 25468041, \"daily new recovered\": 219492.0, \"total deaths\": 1062229, \"daily new deaths\": 6257.0}, {\"date\": \"10/9/20\", \"total confirmed\": 36856619, \"daily new cases\": 359678.0, \"total recovered\": 25673338, \"daily new recovered\": 205297.0, \"total deaths\": 1068322, \"daily new deaths\": 6093.0}, {\"date\": \"10/10/20\", \"total confirmed\": 37187024, \"daily new cases\": 330405.0, \"total recovered\": 25865384, \"daily new recovered\": 192046.0, \"total deaths\": 1073154, \"daily new deaths\": 4832.0}, {\"date\": \"10/11/20\", \"total confirmed\": 37456778, \"daily new cases\": 269754.0, \"total recovered\": 26083210, \"daily new recovered\": 217826.0, \"total deaths\": 1077072, \"daily new deaths\": 3918.0}, {\"date\": \"10/12/20\", \"total confirmed\": 37781897, \"daily new cases\": 325119.0, \"total recovered\": 26287563, \"daily new recovered\": 204353.0, \"total deaths\": 1081015, \"daily new deaths\": 3943.0}, {\"date\": \"10/13/20\", \"total confirmed\": 38110901, \"daily new cases\": 329004.0, \"total recovered\": 26481246, \"daily new recovered\": 193683.0, \"total deaths\": 1086471, \"daily new deaths\": 5456.0}, {\"date\": \"10/14/20\", \"total confirmed\": 38490953, \"daily new cases\": 380052.0, \"total recovered\": 26693195, \"daily new recovered\": 211949.0, \"total deaths\": 1092469, \"daily new deaths\": 5998.0}, {\"date\": \"10/15/20\", \"total confirmed\": 38898224, \"daily new cases\": 407271.0, \"total recovered\": 26900376, \"daily new recovered\": 207181.0, \"total deaths\": 1098587, \"daily new deaths\": 6118.0}, {\"date\": \"10/16/20\", \"total confirmed\": 39308667, \"daily new cases\": 410443.0, \"total recovered\": 27105030, \"daily new recovered\": 204654.0, \"total deaths\": 1104713, \"daily new deaths\": 6126.0}, {\"date\": \"10/17/20\", \"total confirmed\": 39649909, \"daily new cases\": 341242.0, \"total recovered\": 27303710, \"daily new recovered\": 198680.0, \"total deaths\": 1110228, \"daily new deaths\": 5515.0}, {\"date\": \"10/18/20\", \"total confirmed\": 39935847, \"daily new cases\": 285938.0, \"total recovered\": 27502706, \"daily new recovered\": 198996.0, \"total deaths\": 1113613, \"daily new deaths\": 3385.0}, {\"date\": \"10/19/20\", \"total confirmed\": 40383933, \"daily new cases\": 448086.0, \"total recovered\": 27713008, \"daily new recovered\": 210302.0, \"total deaths\": 1118614, \"daily new deaths\": 5001.0}, {\"date\": \"10/20/20\", \"total confirmed\": 40772455, \"daily new cases\": 388522.0, \"total recovered\": 27926735, \"daily new recovered\": 213727.0, \"total deaths\": 1125203, \"daily new deaths\": 6589.0}, {\"date\": \"10/21/20\", \"total confirmed\": 41216105, \"daily new cases\": 443650.0, \"total recovered\": 28137873, \"daily new recovered\": 211138.0, \"total deaths\": 1131759, \"daily new deaths\": 6556.0}, {\"date\": \"10/22/20\", \"total confirmed\": 41685750, \"daily new cases\": 469645.0, \"total recovered\": 28364277, \"daily new recovered\": 226404.0, \"total deaths\": 1137661, \"daily new deaths\": 5902.0}, {\"date\": \"10/23/20\", \"total confirmed\": 42182515, \"daily new cases\": 496765.0, \"total recovered\": 28570400, \"daily new recovered\": 206123.0, \"total deaths\": 1144583, \"daily new deaths\": 6922.0}, {\"date\": \"10/24/20\", \"total confirmed\": 42595348, \"daily new cases\": 412833.0, \"total recovered\": 28781667, \"daily new recovered\": 211267.0, \"total deaths\": 1150279, \"daily new deaths\": 5696.0}, {\"date\": \"10/25/20\", \"total confirmed\": 42948826, \"daily new cases\": 353478.0, \"total recovered\": 28978022, \"daily new recovered\": 196355.0, \"total deaths\": 1154419, \"daily new deaths\": 4140.0}, {\"date\": \"10/26/20\", \"total confirmed\": 43485889, \"daily new cases\": 537063.0, \"total recovered\": 29217448, \"daily new recovered\": 239426.0, \"total deaths\": 1160063, \"daily new deaths\": 5644.0}, {\"date\": \"10/27/20\", \"total confirmed\": 43954797, \"daily new cases\": 468908.0, \"total recovered\": 29807969, \"daily new recovered\": 590521.0, \"total deaths\": 1167477, \"daily new deaths\": 7414.0}, {\"date\": \"10/28/20\", \"total confirmed\": 44463732, \"daily new cases\": 508935.0, \"total recovered\": 30073936, \"daily new recovered\": 265967.0, \"total deaths\": 1174558, \"daily new deaths\": 7081.0}, {\"date\": \"10/29/20\", \"total confirmed\": 45014520, \"daily new cases\": 550788.0, \"total recovered\": 30320483, \"daily new recovered\": 246547.0, \"total deaths\": 1181617, \"daily new deaths\": 7059.0}, {\"date\": \"10/30/20\", \"total confirmed\": 45583754, \"daily new cases\": 569234.0, \"total recovered\": 30575509, \"daily new recovered\": 255026.0, \"total deaths\": 1189160, \"daily new deaths\": 7543.0}, {\"date\": \"10/31/20\", \"total confirmed\": 46060084, \"daily new cases\": 476330.0, \"total recovered\": 30820526, \"daily new recovered\": 245017.0, \"total deaths\": 1195706, \"daily new deaths\": 6546.0}, {\"date\": \"11/1/20\", \"total confirmed\": 46494219, \"daily new cases\": 434135.0, \"total recovered\": 31078260, \"daily new recovered\": 257734.0, \"total deaths\": 1200630, \"daily new deaths\": 4924.0}, {\"date\": \"11/2/20\", \"total confirmed\": 47001076, \"daily new cases\": 506857.0, \"total recovered\": 31357886, \"daily new recovered\": 279626.0, \"total deaths\": 1206744, \"daily new deaths\": 6114.0}, {\"date\": \"11/3/20\", \"total confirmed\": 47514619, \"daily new cases\": 513543.0, \"total recovered\": 31609242, \"daily new recovered\": 251356.0, \"total deaths\": 1215196, \"daily new deaths\": 8452.0}, {\"date\": \"11/4/20\", \"total confirmed\": 48112246, \"daily new cases\": 597627.0, \"total recovered\": 31889030, \"daily new recovered\": 279788.0, \"total deaths\": 1226196, \"daily new deaths\": 11000.0}, {\"date\": \"11/5/20\", \"total confirmed\": 48705471, \"daily new cases\": 593225.0, \"total recovered\": 32192465, \"daily new recovered\": 303435.0, \"total deaths\": 1234256, \"daily new deaths\": 8060.0}, {\"date\": \"11/6/20\", \"total confirmed\": 49346623, \"daily new cases\": 641152.0, \"total recovered\": 32480626, \"daily new recovered\": 288161.0, \"total deaths\": 1243795, \"daily new deaths\": 9539.0}, {\"date\": \"11/7/20\", \"total confirmed\": 49858197, \"daily new cases\": 511574.0, \"total recovered\": 32779541, \"daily new recovered\": 298915.0, \"total deaths\": 1251346, \"daily new deaths\": 7551.0}, {\"date\": \"11/8/20\", \"total confirmed\": 50423019, \"daily new cases\": 564822.0, \"total recovered\": 33032762, \"daily new recovered\": 253221.0, \"total deaths\": 1257096, \"daily new deaths\": 5750.0}, {\"date\": \"11/9/20\", \"total confirmed\": 50923398, \"daily new cases\": 500379.0, \"total recovered\": 33289404, \"daily new recovered\": 256642.0, \"total deaths\": 1264218, \"daily new deaths\": 7122.0}, {\"date\": \"11/10/20\", \"total confirmed\": 51481929, \"daily new cases\": 558531.0, \"total recovered\": 33546421, \"daily new recovered\": 257017.0, \"total deaths\": 1274213, \"daily new deaths\": 9995.0}, {\"date\": \"11/11/20\", \"total confirmed\": 52126597, \"daily new cases\": 644668.0, \"total recovered\": 33926351, \"daily new recovered\": 379930.0, \"total deaths\": 1284628, \"daily new deaths\": 10415.0}, {\"date\": \"11/12/20\", \"total confirmed\": 52773432, \"daily new cases\": 646835.0, \"total recovered\": 34150481, \"daily new recovered\": 224130.0, \"total deaths\": 1294372, \"daily new deaths\": 9744.0}, {\"date\": \"11/13/20\", \"total confirmed\": 53421872, \"daily new cases\": 648440.0, \"total recovered\": 34453243, \"daily new recovered\": 302762.0, \"total deaths\": 1303906, \"daily new deaths\": 9534.0}, {\"date\": \"11/14/20\", \"total confirmed\": 54015689, \"daily new cases\": 593817.0, \"total recovered\": 34731314, \"daily new recovered\": 278071.0, \"total deaths\": 1312896, \"daily new deaths\": 8990.0}, {\"date\": \"11/15/20\", \"total confirmed\": 54485945, \"daily new cases\": 470256.0, \"total recovered\": 34960714, \"daily new recovered\": 229400.0, \"total deaths\": 1319144, \"daily new deaths\": 6248.0}, {\"date\": \"11/16/20\", \"total confirmed\": 55021938, \"daily new cases\": 535993.0, \"total recovered\": 35349444, \"daily new recovered\": 388730.0, \"total deaths\": 1327228, \"daily new deaths\": 8084.0}]}}, {\"mode\": \"vega-lite\"});\n",
       "</script>"
      ],
      "text/plain": [
       "alt.LayerChart(...)"
      ]
     },
     "execution_count": 33,
     "metadata": {},
     "output_type": "execute_result"
    }
   ],
   "source": [
    "#Plot Altair 4: Global time series chart for daily new cases, recovered, and deaths - version 1 (Im not using this at my webapp)\n",
    "import altair as alt\n",
    "from vega_datasets import data\n",
    "\n",
    "source = timeseries_final\n",
    "\n",
    "base = alt.Chart(source).encode(x='date:T')\n",
    "base = alt.Chart(source).encode(\n",
    "        alt.X('date:T'), tooltip=['yearmonthdate(date)','daily new cases', 'daily new recovered', 'daily new deaths']\n",
    ")\n",
    "\n",
    "line1 =  base.mark_line(color='green').encode(\n",
    "    y='daily new cases:Q'\n",
    ")\n",
    "\n",
    "line2=  base.mark_line(color='blue').encode(\n",
    "    y='daily new recovered:Q'\n",
    ")\n",
    "line3=  base.mark_line(color='red').encode(\n",
    "    y='daily new deaths:Q'\n",
    ")\n",
    "chart = (line1 + line2 + line3).properties(width=1000)\n",
    "chart"
   ]
  },
  {
   "cell_type": "code",
   "execution_count": 66,
   "metadata": {},
   "outputs": [
    {
     "data": {
      "text/html": [
       "\n",
       "<div id=\"altair-viz-d53c891778d54ec49c257069315de889\"></div>\n",
       "<script type=\"text/javascript\">\n",
       "  (function(spec, embedOpt){\n",
       "    let outputDiv = document.currentScript.previousElementSibling;\n",
       "    if (outputDiv.id !== \"altair-viz-d53c891778d54ec49c257069315de889\") {\n",
       "      outputDiv = document.getElementById(\"altair-viz-d53c891778d54ec49c257069315de889\");\n",
       "    }\n",
       "    const paths = {\n",
       "      \"vega\": \"https://cdn.jsdelivr.net/npm//vega@5?noext\",\n",
       "      \"vega-lib\": \"https://cdn.jsdelivr.net/npm//vega-lib?noext\",\n",
       "      \"vega-lite\": \"https://cdn.jsdelivr.net/npm//vega-lite@4.8.1?noext\",\n",
       "      \"vega-embed\": \"https://cdn.jsdelivr.net/npm//vega-embed@6?noext\",\n",
       "    };\n",
       "\n",
       "    function loadScript(lib) {\n",
       "      return new Promise(function(resolve, reject) {\n",
       "        var s = document.createElement('script');\n",
       "        s.src = paths[lib];\n",
       "        s.async = true;\n",
       "        s.onload = () => resolve(paths[lib]);\n",
       "        s.onerror = () => reject(`Error loading script: ${paths[lib]}`);\n",
       "        document.getElementsByTagName(\"head\")[0].appendChild(s);\n",
       "      });\n",
       "    }\n",
       "\n",
       "    function showError(err) {\n",
       "      outputDiv.innerHTML = `<div class=\"error\" style=\"color:red;\">${err}</div>`;\n",
       "      throw err;\n",
       "    }\n",
       "\n",
       "    function displayChart(vegaEmbed) {\n",
       "      vegaEmbed(outputDiv, spec, embedOpt)\n",
       "        .catch(err => showError(`Javascript Error: ${err.message}<br>This usually means there's a typo in your chart specification. See the javascript console for the full traceback.`));\n",
       "    }\n",
       "\n",
       "    if(typeof define === \"function\" && define.amd) {\n",
       "      requirejs.config({paths});\n",
       "      require([\"vega-embed\"], displayChart, err => showError(`Error loading script: ${err.message}`));\n",
       "    } else if (typeof vegaEmbed === \"function\") {\n",
       "      displayChart(vegaEmbed);\n",
       "    } else {\n",
       "      loadScript(\"vega\")\n",
       "        .then(() => loadScript(\"vega-lite\"))\n",
       "        .then(() => loadScript(\"vega-embed\"))\n",
       "        .catch(showError)\n",
       "        .then(() => displayChart(vegaEmbed));\n",
       "    }\n",
       "  })({\"config\": {\"view\": {\"continuousWidth\": 400, \"continuousHeight\": 300}}, \"data\": {\"name\": \"data-9050e07eb35b564169fcd7ec44c8faad\"}, \"mark\": \"line\", \"encoding\": {\"color\": {\"type\": \"nominal\", \"field\": \"key\"}, \"tooltip\": [{\"type\": \"temporal\", \"field\": \"date\", \"timeUnit\": \"yearmonthdate\"}, {\"type\": \"quantitative\", \"field\": \"daily new cases\"}, {\"type\": \"quantitative\", \"field\": \"daily new recovered\"}, {\"type\": \"quantitative\", \"field\": \"daily new deaths\"}], \"x\": {\"type\": \"temporal\", \"field\": \"date\"}, \"y\": {\"type\": \"quantitative\", \"axis\": {\"title\": \"# of cases\"}, \"field\": \"value\"}}, \"transform\": [{\"fold\": [\"daily new cases\", \"daily new recovered\", \"daily new deaths\"]}], \"width\": 700, \"$schema\": \"https://vega.github.io/schema/vega-lite/v4.8.1.json\", \"datasets\": {\"data-9050e07eb35b564169fcd7ec44c8faad\": [{\"date\": \"1/22/20\", \"total confirmed\": 555, \"daily new cases\": 0.0, \"total recovered\": 28, \"daily new recovered\": 0.0, \"total deaths\": 17, \"daily new deaths\": 0.0}, {\"date\": \"1/23/20\", \"total confirmed\": 654, \"daily new cases\": 99.0, \"total recovered\": 30, \"daily new recovered\": 2.0, \"total deaths\": 18, \"daily new deaths\": 1.0}, {\"date\": \"1/24/20\", \"total confirmed\": 941, \"daily new cases\": 287.0, \"total recovered\": 36, \"daily new recovered\": 6.0, \"total deaths\": 26, \"daily new deaths\": 8.0}, {\"date\": \"1/25/20\", \"total confirmed\": 1434, \"daily new cases\": 493.0, \"total recovered\": 39, \"daily new recovered\": 3.0, \"total deaths\": 42, \"daily new deaths\": 16.0}, {\"date\": \"1/26/20\", \"total confirmed\": 2118, \"daily new cases\": 684.0, \"total recovered\": 52, \"daily new recovered\": 13.0, \"total deaths\": 56, \"daily new deaths\": 14.0}, {\"date\": \"1/27/20\", \"total confirmed\": 2927, \"daily new cases\": 809.0, \"total recovered\": 61, \"daily new recovered\": 9.0, \"total deaths\": 82, \"daily new deaths\": 26.0}, {\"date\": \"1/28/20\", \"total confirmed\": 5578, \"daily new cases\": 2651.0, \"total recovered\": 107, \"daily new recovered\": 46.0, \"total deaths\": 131, \"daily new deaths\": 49.0}, {\"date\": \"1/29/20\", \"total confirmed\": 6167, \"daily new cases\": 589.0, \"total recovered\": 126, \"daily new recovered\": 19.0, \"total deaths\": 133, \"daily new deaths\": 2.0}, {\"date\": \"1/30/20\", \"total confirmed\": 8235, \"daily new cases\": 2068.0, \"total recovered\": 143, \"daily new recovered\": 17.0, \"total deaths\": 171, \"daily new deaths\": 38.0}, {\"date\": \"1/31/20\", \"total confirmed\": 9927, \"daily new cases\": 1692.0, \"total recovered\": 222, \"daily new recovered\": 79.0, \"total deaths\": 213, \"daily new deaths\": 42.0}, {\"date\": \"2/1/20\", \"total confirmed\": 12038, \"daily new cases\": 2111.0, \"total recovered\": 284, \"daily new recovered\": 62.0, \"total deaths\": 259, \"daily new deaths\": 46.0}, {\"date\": \"2/2/20\", \"total confirmed\": 16787, \"daily new cases\": 4749.0, \"total recovered\": 472, \"daily new recovered\": 188.0, \"total deaths\": 362, \"daily new deaths\": 103.0}, {\"date\": \"2/3/20\", \"total confirmed\": 19887, \"daily new cases\": 3100.0, \"total recovered\": 623, \"daily new recovered\": 151.0, \"total deaths\": 426, \"daily new deaths\": 64.0}, {\"date\": \"2/4/20\", \"total confirmed\": 23898, \"daily new cases\": 4011.0, \"total recovered\": 852, \"daily new recovered\": 229.0, \"total deaths\": 492, \"daily new deaths\": 66.0}, {\"date\": \"2/5/20\", \"total confirmed\": 27643, \"daily new cases\": 3745.0, \"total recovered\": 1124, \"daily new recovered\": 272.0, \"total deaths\": 564, \"daily new deaths\": 72.0}, {\"date\": \"2/6/20\", \"total confirmed\": 30803, \"daily new cases\": 3160.0, \"total recovered\": 1487, \"daily new recovered\": 363.0, \"total deaths\": 634, \"daily new deaths\": 70.0}, {\"date\": \"2/7/20\", \"total confirmed\": 34396, \"daily new cases\": 3593.0, \"total recovered\": 2011, \"daily new recovered\": 524.0, \"total deaths\": 719, \"daily new deaths\": 85.0}, {\"date\": \"2/8/20\", \"total confirmed\": 37130, \"daily new cases\": 2734.0, \"total recovered\": 2616, \"daily new recovered\": 605.0, \"total deaths\": 806, \"daily new deaths\": 87.0}, {\"date\": \"2/9/20\", \"total confirmed\": 40160, \"daily new cases\": 3030.0, \"total recovered\": 3244, \"daily new recovered\": 628.0, \"total deaths\": 906, \"daily new deaths\": 100.0}, {\"date\": \"2/10/20\", \"total confirmed\": 42769, \"daily new cases\": 2609.0, \"total recovered\": 3946, \"daily new recovered\": 702.0, \"total deaths\": 1013, \"daily new deaths\": 107.0}, {\"date\": \"2/11/20\", \"total confirmed\": 44811, \"daily new cases\": 2042.0, \"total recovered\": 4683, \"daily new recovered\": 737.0, \"total deaths\": 1113, \"daily new deaths\": 100.0}, {\"date\": \"2/12/20\", \"total confirmed\": 45229, \"daily new cases\": 418.0, \"total recovered\": 5150, \"daily new recovered\": 467.0, \"total deaths\": 1118, \"daily new deaths\": 5.0}, {\"date\": \"2/13/20\", \"total confirmed\": 60382, \"daily new cases\": 15153.0, \"total recovered\": 6295, \"daily new recovered\": 1145.0, \"total deaths\": 1371, \"daily new deaths\": 253.0}, {\"date\": \"2/14/20\", \"total confirmed\": 66909, \"daily new cases\": 6527.0, \"total recovered\": 8058, \"daily new recovered\": 1763.0, \"total deaths\": 1523, \"daily new deaths\": 152.0}, {\"date\": \"2/15/20\", \"total confirmed\": 69051, \"daily new cases\": 2142.0, \"total recovered\": 9395, \"daily new recovered\": 1337.0, \"total deaths\": 1666, \"daily new deaths\": 143.0}, {\"date\": \"2/16/20\", \"total confirmed\": 71235, \"daily new cases\": 2184.0, \"total recovered\": 10865, \"daily new recovered\": 1470.0, \"total deaths\": 1770, \"daily new deaths\": 104.0}, {\"date\": \"2/17/20\", \"total confirmed\": 73270, \"daily new cases\": 2035.0, \"total recovered\": 12583, \"daily new recovered\": 1718.0, \"total deaths\": 1868, \"daily new deaths\": 98.0}, {\"date\": \"2/18/20\", \"total confirmed\": 75152, \"daily new cases\": 1882.0, \"total recovered\": 14352, \"daily new recovered\": 1769.0, \"total deaths\": 2008, \"daily new deaths\": 140.0}, {\"date\": \"2/19/20\", \"total confirmed\": 75652, \"daily new cases\": 500.0, \"total recovered\": 16121, \"daily new recovered\": 1769.0, \"total deaths\": 2123, \"daily new deaths\": 115.0}, {\"date\": \"2/20/20\", \"total confirmed\": 76212, \"daily new cases\": 560.0, \"total recovered\": 18177, \"daily new recovered\": 2056.0, \"total deaths\": 2248, \"daily new deaths\": 125.0}, {\"date\": \"2/21/20\", \"total confirmed\": 76841, \"daily new cases\": 629.0, \"total recovered\": 18890, \"daily new recovered\": 713.0, \"total deaths\": 2252, \"daily new deaths\": 4.0}, {\"date\": \"2/22/20\", \"total confirmed\": 78602, \"daily new cases\": 1761.0, \"total recovered\": 22886, \"daily new recovered\": 3996.0, \"total deaths\": 2459, \"daily new deaths\": 207.0}, {\"date\": \"2/23/20\", \"total confirmed\": 78982, \"daily new cases\": 380.0, \"total recovered\": 23394, \"daily new recovered\": 508.0, \"total deaths\": 2470, \"daily new deaths\": 11.0}, {\"date\": \"2/24/20\", \"total confirmed\": 79546, \"daily new cases\": 564.0, \"total recovered\": 25227, \"daily new recovered\": 1833.0, \"total deaths\": 2630, \"daily new deaths\": 160.0}, {\"date\": \"2/25/20\", \"total confirmed\": 80399, \"daily new cases\": 853.0, \"total recovered\": 27905, \"daily new recovered\": 2678.0, \"total deaths\": 2710, \"daily new deaths\": 80.0}, {\"date\": \"2/26/20\", \"total confirmed\": 81376, \"daily new cases\": 977.0, \"total recovered\": 30384, \"daily new recovered\": 2479.0, \"total deaths\": 2771, \"daily new deaths\": 61.0}, {\"date\": \"2/27/20\", \"total confirmed\": 82736, \"daily new cases\": 1360.0, \"total recovered\": 33277, \"daily new recovered\": 2893.0, \"total deaths\": 2814, \"daily new deaths\": 43.0}, {\"date\": \"2/28/20\", \"total confirmed\": 84121, \"daily new cases\": 1385.0, \"total recovered\": 36711, \"daily new recovered\": 3434.0, \"total deaths\": 2873, \"daily new deaths\": 59.0}, {\"date\": \"2/29/20\", \"total confirmed\": 86014, \"daily new cases\": 1893.0, \"total recovered\": 39782, \"daily new recovered\": 3071.0, \"total deaths\": 2942, \"daily new deaths\": 69.0}, {\"date\": \"3/1/20\", \"total confirmed\": 88397, \"daily new cases\": 2383.0, \"total recovered\": 42716, \"daily new recovered\": 2934.0, \"total deaths\": 2996, \"daily new deaths\": 54.0}, {\"date\": \"3/2/20\", \"total confirmed\": 90375, \"daily new cases\": 1978.0, \"total recovered\": 45602, \"daily new recovered\": 2886.0, \"total deaths\": 3085, \"daily new deaths\": 89.0}, {\"date\": \"3/3/20\", \"total confirmed\": 92959, \"daily new cases\": 2584.0, \"total recovered\": 48228, \"daily new recovered\": 2626.0, \"total deaths\": 3160, \"daily new deaths\": 75.0}, {\"date\": \"3/4/20\", \"total confirmed\": 95276, \"daily new cases\": 2317.0, \"total recovered\": 51170, \"daily new recovered\": 2942.0, \"total deaths\": 3255, \"daily new deaths\": 95.0}, {\"date\": \"3/5/20\", \"total confirmed\": 98040, \"daily new cases\": 2764.0, \"total recovered\": 53796, \"daily new recovered\": 2626.0, \"total deaths\": 3348, \"daily new deaths\": 93.0}, {\"date\": \"3/6/20\", \"total confirmed\": 102040, \"daily new cases\": 4000.0, \"total recovered\": 55865, \"daily new recovered\": 2069.0, \"total deaths\": 3460, \"daily new deaths\": 112.0}, {\"date\": \"3/7/20\", \"total confirmed\": 106102, \"daily new cases\": 4062.0, \"total recovered\": 58359, \"daily new recovered\": 2494.0, \"total deaths\": 3559, \"daily new deaths\": 99.0}, {\"date\": \"3/8/20\", \"total confirmed\": 110062, \"daily new cases\": 3960.0, \"total recovered\": 60694, \"daily new recovered\": 2335.0, \"total deaths\": 3803, \"daily new deaths\": 244.0}, {\"date\": \"3/9/20\", \"total confirmed\": 114025, \"daily new cases\": 3963.0, \"total recovered\": 62493, \"daily new recovered\": 1799.0, \"total deaths\": 3987, \"daily new deaths\": 184.0}, {\"date\": \"3/10/20\", \"total confirmed\": 119036, \"daily new cases\": 5011.0, \"total recovered\": 64404, \"daily new recovered\": 1911.0, \"total deaths\": 4267, \"daily new deaths\": 280.0}, {\"date\": \"3/11/20\", \"total confirmed\": 126717, \"daily new cases\": 7681.0, \"total recovered\": 67002, \"daily new recovered\": 2598.0, \"total deaths\": 4611, \"daily new deaths\": 344.0}, {\"date\": \"3/12/20\", \"total confirmed\": 132506, \"daily new cases\": 5789.0, \"total recovered\": 68324, \"daily new recovered\": 1322.0, \"total deaths\": 4917, \"daily new deaths\": 306.0}, {\"date\": \"3/13/20\", \"total confirmed\": 146887, \"daily new cases\": 14381.0, \"total recovered\": 70251, \"daily new recovered\": 1927.0, \"total deaths\": 5414, \"daily new deaths\": 497.0}, {\"date\": \"3/14/20\", \"total confirmed\": 157965, \"daily new cases\": 11078.0, \"total recovered\": 72622, \"daily new recovered\": 2371.0, \"total deaths\": 5834, \"daily new deaths\": 420.0}, {\"date\": \"3/15/20\", \"total confirmed\": 169258, \"daily new cases\": 11293.0, \"total recovered\": 76032, \"daily new recovered\": 3410.0, \"total deaths\": 6475, \"daily new deaths\": 641.0}, {\"date\": \"3/16/20\", \"total confirmed\": 184002, \"daily new cases\": 14744.0, \"total recovered\": 78086, \"daily new recovered\": 2054.0, \"total deaths\": 7153, \"daily new deaths\": 678.0}, {\"date\": \"3/17/20\", \"total confirmed\": 199933, \"daily new cases\": 15931.0, \"total recovered\": 80838, \"daily new recovered\": 2752.0, \"total deaths\": 7964, \"daily new deaths\": 811.0}, {\"date\": \"3/18/20\", \"total confirmed\": 219466, \"daily new cases\": 19533.0, \"total recovered\": 83321, \"daily new recovered\": 2483.0, \"total deaths\": 8867, \"daily new deaths\": 903.0}, {\"date\": \"3/19/20\", \"total confirmed\": 246622, \"daily new cases\": 27156.0, \"total recovered\": 84958, \"daily new recovered\": 1637.0, \"total deaths\": 9980, \"daily new deaths\": 1113.0}, {\"date\": \"3/20/20\", \"total confirmed\": 277257, \"daily new cases\": 30635.0, \"total recovered\": 87403, \"daily new recovered\": 2445.0, \"total deaths\": 11461, \"daily new deaths\": 1481.0}, {\"date\": \"3/21/20\", \"total confirmed\": 309226, \"daily new cases\": 31969.0, \"total recovered\": 91670, \"daily new recovered\": 4267.0, \"total deaths\": 13181, \"daily new deaths\": 1720.0}, {\"date\": \"3/22/20\", \"total confirmed\": 343464, \"daily new cases\": 34238.0, \"total recovered\": 97885, \"daily new recovered\": 6215.0, \"total deaths\": 14855, \"daily new deaths\": 1674.0}, {\"date\": \"3/23/20\", \"total confirmed\": 386832, \"daily new cases\": 43368.0, \"total recovered\": 98351, \"daily new recovered\": 466.0, \"total deaths\": 16797, \"daily new deaths\": 1942.0}, {\"date\": \"3/24/20\", \"total confirmed\": 428304, \"daily new cases\": 41472.0, \"total recovered\": 107992, \"daily new recovered\": 9641.0, \"total deaths\": 19081, \"daily new deaths\": 2284.0}, {\"date\": \"3/25/20\", \"total confirmed\": 479288, \"daily new cases\": 50984.0, \"total recovered\": 113775, \"daily new recovered\": 5783.0, \"total deaths\": 21881, \"daily new deaths\": 2800.0}, {\"date\": \"3/26/20\", \"total confirmed\": 542014, \"daily new cases\": 62726.0, \"total recovered\": 122145, \"daily new recovered\": 8370.0, \"total deaths\": 24901, \"daily new deaths\": 3020.0}, {\"date\": \"3/27/20\", \"total confirmed\": 607005, \"daily new cases\": 64991.0, \"total recovered\": 130921, \"daily new recovered\": 8776.0, \"total deaths\": 28394, \"daily new deaths\": 3493.0}, {\"date\": \"3/28/20\", \"total confirmed\": 674387, \"daily new cases\": 67382.0, \"total recovered\": 139424, \"daily new recovered\": 8503.0, \"total deaths\": 32107, \"daily new deaths\": 3713.0}, {\"date\": \"3/29/20\", \"total confirmed\": 733786, \"daily new cases\": 59399.0, \"total recovered\": 148891, \"daily new recovered\": 9467.0, \"total deaths\": 35584, \"daily new deaths\": 3477.0}, {\"date\": \"3/30/20\", \"total confirmed\": 799023, \"daily new cases\": 65237.0, \"total recovered\": 164337, \"daily new recovered\": 15446.0, \"total deaths\": 39636, \"daily new deaths\": 4052.0}, {\"date\": \"3/31/20\", \"total confirmed\": 875852, \"daily new cases\": 76829.0, \"total recovered\": 177825, \"daily new recovered\": 13488.0, \"total deaths\": 44388, \"daily new deaths\": 4752.0}, {\"date\": \"4/1/20\", \"total confirmed\": 952378, \"daily new cases\": 76526.0, \"total recovered\": 192918, \"daily new recovered\": 15093.0, \"total deaths\": 49894, \"daily new deaths\": 5506.0}, {\"date\": \"4/2/20\", \"total confirmed\": 1033709, \"daily new cases\": 81331.0, \"total recovered\": 209967, \"daily new recovered\": 17049.0, \"total deaths\": 56131, \"daily new deaths\": 6237.0}, {\"date\": \"4/3/20\", \"total confirmed\": 1116962, \"daily new cases\": 83253.0, \"total recovered\": 225415, \"daily new recovered\": 15448.0, \"total deaths\": 62237, \"daily new deaths\": 6106.0}, {\"date\": \"4/4/20\", \"total confirmed\": 1197316, \"daily new cases\": 80354.0, \"total recovered\": 245832, \"daily new recovered\": 20417.0, \"total deaths\": 68404, \"daily new deaths\": 6167.0}, {\"date\": \"4/5/20\", \"total confirmed\": 1269293, \"daily new cases\": 71977.0, \"total recovered\": 259672, \"daily new recovered\": 13840.0, \"total deaths\": 73569, \"daily new deaths\": 5165.0}, {\"date\": \"4/6/20\", \"total confirmed\": 1342527, \"daily new cases\": 73234.0, \"total recovered\": 276252, \"daily new recovered\": 16580.0, \"total deaths\": 79516, \"daily new deaths\": 5947.0}, {\"date\": \"4/7/20\", \"total confirmed\": 1420267, \"daily new cases\": 77740.0, \"total recovered\": 299643, \"daily new recovered\": 23391.0, \"total deaths\": 87740, \"daily new deaths\": 8224.0}, {\"date\": \"4/8/20\", \"total confirmed\": 1504298, \"daily new cases\": 84031.0, \"total recovered\": 328359, \"daily new recovered\": 28716.0, \"total deaths\": 94501, \"daily new deaths\": 6761.0}, {\"date\": \"4/9/20\", \"total confirmed\": 1590779, \"daily new cases\": 86481.0, \"total recovered\": 353707, \"daily new recovered\": 25348.0, \"total deaths\": 102277, \"daily new deaths\": 7776.0}, {\"date\": \"4/10/20\", \"total confirmed\": 1678319, \"daily new cases\": 87540.0, \"total recovered\": 375509, \"daily new recovered\": 21802.0, \"total deaths\": 109662, \"daily new deaths\": 7385.0}, {\"date\": \"4/11/20\", \"total confirmed\": 1754535, \"daily new cases\": 76216.0, \"total recovered\": 401766, \"daily new recovered\": 26257.0, \"total deaths\": 115903, \"daily new deaths\": 6241.0}, {\"date\": \"4/12/20\", \"total confirmed\": 1849888, \"daily new cases\": 95353.0, \"total recovered\": 421180, \"daily new recovered\": 19414.0, \"total deaths\": 121712, \"daily new deaths\": 5809.0}, {\"date\": \"4/13/20\", \"total confirmed\": 1920033, \"daily new cases\": 70145.0, \"total recovered\": 448347, \"daily new recovered\": 27167.0, \"total deaths\": 127628, \"daily new deaths\": 5916.0}, {\"date\": \"4/14/20\", \"total confirmed\": 1991379, \"daily new cases\": 71346.0, \"total recovered\": 473436, \"daily new recovered\": 25089.0, \"total deaths\": 134598, \"daily new deaths\": 6970.0}, {\"date\": \"4/15/20\", \"total confirmed\": 2073252, \"daily new cases\": 81873.0, \"total recovered\": 510106, \"daily new recovered\": 36670.0, \"total deaths\": 142949, \"daily new deaths\": 8351.0}, {\"date\": \"4/16/20\", \"total confirmed\": 2170173, \"daily new cases\": 96921.0, \"total recovered\": 540926, \"daily new recovered\": 30820.0, \"total deaths\": 150247, \"daily new deaths\": 7298.0}, {\"date\": \"4/17/20\", \"total confirmed\": 2257986, \"daily new cases\": 87813.0, \"total recovered\": 567049, \"daily new recovered\": 26123.0, \"total deaths\": 158612, \"daily new deaths\": 8365.0}, {\"date\": \"4/18/20\", \"total confirmed\": 2331380, \"daily new cases\": 73394.0, \"total recovered\": 590968, \"daily new recovered\": 23919.0, \"total deaths\": 164635, \"daily new deaths\": 6023.0}, {\"date\": \"4/19/20\", \"total confirmed\": 2411352, \"daily new cases\": 79972.0, \"total recovered\": 622623, \"daily new recovered\": 31655.0, \"total deaths\": 169897, \"daily new deaths\": 5262.0}, {\"date\": \"4/20/20\", \"total confirmed\": 2485855, \"daily new cases\": 74503.0, \"total recovered\": 644613, \"daily new recovered\": 21990.0, \"total deaths\": 175755, \"daily new deaths\": 5858.0}, {\"date\": \"4/21/20\", \"total confirmed\": 2561734, \"daily new cases\": 75879.0, \"total recovered\": 679456, \"daily new recovered\": 34843.0, \"total deaths\": 182940, \"daily new deaths\": 7185.0}, {\"date\": \"4/22/20\", \"total confirmed\": 2639753, \"daily new cases\": 78019.0, \"total recovered\": 709881, \"daily new recovered\": 30425.0, \"total deaths\": 189671, \"daily new deaths\": 6731.0}, {\"date\": \"4/23/20\", \"total confirmed\": 2727810, \"daily new cases\": 88057.0, \"total recovered\": 738661, \"daily new recovered\": 28780.0, \"total deaths\": 196509, \"daily new deaths\": 6838.0}, {\"date\": \"4/24/20\", \"total confirmed\": 2812183, \"daily new cases\": 84373.0, \"total recovered\": 788712, \"daily new recovered\": 50051.0, \"total deaths\": 203172, \"daily new deaths\": 6663.0}, {\"date\": \"4/25/20\", \"total confirmed\": 2895430, \"daily new cases\": 83247.0, \"total recovered\": 816491, \"daily new recovered\": 27779.0, \"total deaths\": 208809, \"daily new deaths\": 5637.0}, {\"date\": \"4/26/20\", \"total confirmed\": 2967570, \"daily new cases\": 72140.0, \"total recovered\": 845096, \"daily new recovered\": 28605.0, \"total deaths\": 212748, \"daily new deaths\": 3939.0}, {\"date\": \"4/27/20\", \"total confirmed\": 3037260, \"daily new cases\": 69690.0, \"total recovered\": 872865, \"daily new recovered\": 27769.0, \"total deaths\": 217421, \"daily new deaths\": 4673.0}, {\"date\": \"4/28/20\", \"total confirmed\": 3112744, \"daily new cases\": 75484.0, \"total recovered\": 906136, \"daily new recovered\": 33271.0, \"total deaths\": 223968, \"daily new deaths\": 6547.0}, {\"date\": \"4/29/20\", \"total confirmed\": 3190206, \"daily new cases\": 77462.0, \"total recovered\": 948318, \"daily new recovered\": 42182.0, \"total deaths\": 230702, \"daily new deaths\": 6734.0}, {\"date\": \"4/30/20\", \"total confirmed\": 3273554, \"daily new cases\": 83348.0, \"total recovered\": 1013284, \"daily new recovered\": 64966.0, \"total deaths\": 236698, \"daily new deaths\": 5996.0}, {\"date\": \"5/1/20\", \"total confirmed\": 3360744, \"daily new cases\": 87190.0, \"total recovered\": 1051537, \"daily new recovered\": 38253.0, \"total deaths\": 241847, \"daily new deaths\": 5149.0}, {\"date\": \"5/2/20\", \"total confirmed\": 3440791, \"daily new cases\": 80047.0, \"total recovered\": 1092416, \"daily new recovered\": 40879.0, \"total deaths\": 247325, \"daily new deaths\": 5478.0}, {\"date\": \"5/3/20\", \"total confirmed\": 3517314, \"daily new cases\": 76523.0, \"total recovered\": 1124732, \"daily new recovered\": 32316.0, \"total deaths\": 250797, \"daily new deaths\": 3472.0}, {\"date\": \"5/4/20\", \"total confirmed\": 3594392, \"daily new cases\": 77078.0, \"total recovered\": 1158819, \"daily new recovered\": 34087.0, \"total deaths\": 254896, \"daily new deaths\": 4099.0}, {\"date\": \"5/5/20\", \"total confirmed\": 3674847, \"daily new cases\": 80455.0, \"total recovered\": 1195359, \"daily new recovered\": 36540.0, \"total deaths\": 260783, \"daily new deaths\": 5887.0}, {\"date\": \"5/6/20\", \"total confirmed\": 3764761, \"daily new cases\": 89914.0, \"total recovered\": 1241365, \"daily new recovered\": 46006.0, \"total deaths\": 267326, \"daily new deaths\": 6543.0}, {\"date\": \"5/7/20\", \"total confirmed\": 3853781, \"daily new cases\": 89020.0, \"total recovered\": 1280833, \"daily new recovered\": 39468.0, \"total deaths\": 272618, \"daily new deaths\": 5292.0}, {\"date\": \"5/8/20\", \"total confirmed\": 3944952, \"daily new cases\": 91171.0, \"total recovered\": 1317383, \"daily new recovered\": 36550.0, \"total deaths\": 278098, \"daily new deaths\": 5480.0}, {\"date\": \"5/9/20\", \"total confirmed\": 4029875, \"daily new cases\": 84923.0, \"total recovered\": 1370933, \"daily new recovered\": 53550.0, \"total deaths\": 282385, \"daily new deaths\": 4287.0}, {\"date\": \"5/10/20\", \"total confirmed\": 4105071, \"daily new cases\": 75196.0, \"total recovered\": 1404527, \"daily new recovered\": 33594.0, \"total deaths\": 285979, \"daily new deaths\": 3594.0}, {\"date\": \"5/11/20\", \"total confirmed\": 4181946, \"daily new cases\": 76875.0, \"total recovered\": 1451521, \"daily new recovered\": 46994.0, \"total deaths\": 289447, \"daily new deaths\": 3468.0}, {\"date\": \"5/12/20\", \"total confirmed\": 4266204, \"daily new cases\": 84258.0, \"total recovered\": 1488542, \"daily new recovered\": 37021.0, \"total deaths\": 294969, \"daily new deaths\": 5522.0}, {\"date\": \"5/13/20\", \"total confirmed\": 4351024, \"daily new cases\": 84820.0, \"total recovered\": 1544398, \"daily new recovered\": 55856.0, \"total deaths\": 300046, \"daily new deaths\": 5077.0}, {\"date\": \"5/14/20\", \"total confirmed\": 4447706, \"daily new cases\": 96682.0, \"total recovered\": 1584114, \"daily new recovered\": 39716.0, \"total deaths\": 305227, \"daily new deaths\": 5181.0}, {\"date\": \"5/15/20\", \"total confirmed\": 4544030, \"daily new cases\": 96324.0, \"total recovered\": 1632122, \"daily new recovered\": 48008.0, \"total deaths\": 310343, \"daily new deaths\": 5116.0}, {\"date\": \"5/16/20\", \"total confirmed\": 4638236, \"daily new cases\": 94206.0, \"total recovered\": 1688714, \"daily new recovered\": 56592.0, \"total deaths\": 314519, \"daily new deaths\": 4176.0}, {\"date\": \"5/17/20\", \"total confirmed\": 4715641, \"daily new cases\": 77405.0, \"total recovered\": 1729621, \"daily new recovered\": 40907.0, \"total deaths\": 317804, \"daily new deaths\": 3285.0}, {\"date\": \"5/18/20\", \"total confirmed\": 4804359, \"daily new cases\": 88718.0, \"total recovered\": 1782542, \"daily new recovered\": 52921.0, \"total deaths\": 321499, \"daily new deaths\": 3695.0}, {\"date\": \"5/19/20\", \"total confirmed\": 4901497, \"daily new cases\": 97138.0, \"total recovered\": 1834647, \"daily new recovered\": 52105.0, \"total deaths\": 326219, \"daily new deaths\": 4720.0}, {\"date\": \"5/20/20\", \"total confirmed\": 5004250, \"daily new cases\": 102753.0, \"total recovered\": 1893575, \"daily new recovered\": 58928.0, \"total deaths\": 330979, \"daily new deaths\": 4760.0}, {\"date\": \"5/21/20\", \"total confirmed\": 5110815, \"daily new cases\": 106565.0, \"total recovered\": 1944840, \"daily new recovered\": 51265.0, \"total deaths\": 335704, \"daily new deaths\": 4725.0}, {\"date\": \"5/22/20\", \"total confirmed\": 5216798, \"daily new cases\": 105983.0, \"total recovered\": 2053491, \"daily new recovered\": 108651.0, \"total deaths\": 340899, \"daily new deaths\": 5195.0}, {\"date\": \"5/23/20\", \"total confirmed\": 5321424, \"daily new cases\": 104626.0, \"total recovered\": 2108462, \"daily new recovered\": 54971.0, \"total deaths\": 344815, \"daily new deaths\": 3916.0}, {\"date\": \"5/24/20\", \"total confirmed\": 5415901, \"daily new cases\": 94477.0, \"total recovered\": 2163902, \"daily new recovered\": 55440.0, \"total deaths\": 347937, \"daily new deaths\": 3122.0}, {\"date\": \"5/25/20\", \"total confirmed\": 5502250, \"daily new cases\": 86349.0, \"total recovered\": 2227625, \"daily new recovered\": 63723.0, \"total deaths\": 349138, \"daily new deaths\": 1201.0}, {\"date\": \"5/26/20\", \"total confirmed\": 5595501, \"daily new cases\": 93251.0, \"total recovered\": 2282839, \"daily new recovered\": 55214.0, \"total deaths\": 353258, \"daily new deaths\": 4120.0}, {\"date\": \"5/27/20\", \"total confirmed\": 5698506, \"daily new cases\": 103005.0, \"total recovered\": 2346232, \"daily new recovered\": 63393.0, \"total deaths\": 358394, \"daily new deaths\": 5136.0}, {\"date\": \"5/28/20\", \"total confirmed\": 5818020, \"daily new cases\": 119514.0, \"total recovered\": 2413089, \"daily new recovered\": 66857.0, \"total deaths\": 363017, \"daily new deaths\": 4623.0}, {\"date\": \"5/29/20\", \"total confirmed\": 5938915, \"daily new cases\": 120895.0, \"total recovered\": 2490435, \"daily new recovered\": 77346.0, \"total deaths\": 367604, \"daily new deaths\": 4587.0}, {\"date\": \"5/30/20\", \"total confirmed\": 6075869, \"daily new cases\": 136954.0, \"total recovered\": 2560888, \"daily new recovered\": 70453.0, \"total deaths\": 371669, \"daily new deaths\": 4065.0}, {\"date\": \"5/31/20\", \"total confirmed\": 6182468, \"daily new cases\": 106599.0, \"total recovered\": 2637208, \"daily new recovered\": 76320.0, \"total deaths\": 374645, \"daily new deaths\": 2976.0}, {\"date\": \"6/1/20\", \"total confirmed\": 6277971, \"daily new cases\": 95503.0, \"total recovered\": 2692105, \"daily new recovered\": 54897.0, \"total deaths\": 377722, \"daily new deaths\": 3077.0}, {\"date\": \"6/2/20\", \"total confirmed\": 6399352, \"daily new cases\": 121381.0, \"total recovered\": 2796228, \"daily new recovered\": 104123.0, \"total deaths\": 382445, \"daily new deaths\": 4723.0}, {\"date\": \"6/3/20\", \"total confirmed\": 6517447, \"daily new cases\": 118095.0, \"total recovered\": 2875332, \"daily new recovered\": 79104.0, \"total deaths\": 387881, \"daily new deaths\": 5436.0}, {\"date\": \"6/4/20\", \"total confirmed\": 6644274, \"daily new cases\": 126827.0, \"total recovered\": 2945385, \"daily new recovered\": 70053.0, \"total deaths\": 392997, \"daily new deaths\": 5116.0}, {\"date\": \"6/5/20\", \"total confirmed\": 6775073, \"daily new cases\": 130799.0, \"total recovered\": 3014544, \"daily new recovered\": 69159.0, \"total deaths\": 397563, \"daily new deaths\": 4566.0}, {\"date\": \"6/6/20\", \"total confirmed\": 6909702, \"daily new cases\": 134629.0, \"total recovered\": 3086748, \"daily new recovered\": 72204.0, \"total deaths\": 401413, \"daily new deaths\": 3850.0}, {\"date\": \"6/7/20\", \"total confirmed\": 7021606, \"daily new cases\": 111904.0, \"total recovered\": 3141849, \"daily new recovered\": 55101.0, \"total deaths\": 404157, \"daily new deaths\": 2744.0}, {\"date\": \"6/8/20\", \"total confirmed\": 7124085, \"daily new cases\": 102479.0, \"total recovered\": 3293412, \"daily new recovered\": 151563.0, \"total deaths\": 407836, \"daily new deaths\": 3679.0}, {\"date\": \"6/9/20\", \"total confirmed\": 7248720, \"daily new cases\": 124635.0, \"total recovered\": 3375694, \"daily new recovered\": 82282.0, \"total deaths\": 412671, \"daily new deaths\": 4835.0}, {\"date\": \"6/10/20\", \"total confirmed\": 7383167, \"daily new cases\": 134447.0, \"total recovered\": 3454832, \"daily new recovered\": 79138.0, \"total deaths\": 417730, \"daily new deaths\": 5059.0}, {\"date\": \"6/11/20\", \"total confirmed\": 7521337, \"daily new cases\": 138170.0, \"total recovered\": 3540714, \"daily new recovered\": 85882.0, \"total deaths\": 422412, \"daily new deaths\": 4682.0}, {\"date\": \"6/12/20\", \"total confirmed\": 7649809, \"daily new cases\": 128472.0, \"total recovered\": 3620438, \"daily new recovered\": 79724.0, \"total deaths\": 426627, \"daily new deaths\": 4215.0}, {\"date\": \"6/13/20\", \"total confirmed\": 7785133, \"daily new cases\": 135324.0, \"total recovered\": 3706372, \"daily new recovered\": 85934.0, \"total deaths\": 430818, \"daily new deaths\": 4191.0}, {\"date\": \"6/14/20\", \"total confirmed\": 7917785, \"daily new cases\": 132652.0, \"total recovered\": 3777157, \"daily new recovered\": 70785.0, \"total deaths\": 434230, \"daily new deaths\": 3412.0}, {\"date\": \"6/15/20\", \"total confirmed\": 8037530, \"daily new cases\": 119745.0, \"total recovered\": 3857365, \"daily new recovered\": 80208.0, \"total deaths\": 437649, \"daily new deaths\": 3419.0}, {\"date\": \"6/16/20\", \"total confirmed\": 8179373, \"daily new cases\": 141843.0, \"total recovered\": 3955205, \"daily new recovered\": 97840.0, \"total deaths\": 444367, \"daily new deaths\": 6718.0}, {\"date\": \"6/17/20\", \"total confirmed\": 8321890, \"daily new cases\": 142517.0, \"total recovered\": 4073992, \"daily new recovered\": 118787.0, \"total deaths\": 449456, \"daily new deaths\": 5089.0}, {\"date\": \"6/18/20\", \"total confirmed\": 8462195, \"daily new cases\": 140305.0, \"total recovered\": 4155134, \"daily new recovered\": 81142.0, \"total deaths\": 454436, \"daily new deaths\": 4980.0}, {\"date\": \"6/19/20\", \"total confirmed\": 8642028, \"daily new cases\": 179833.0, \"total recovered\": 4250149, \"daily new recovered\": 95015.0, \"total deaths\": 460586, \"daily new deaths\": 6150.0}, {\"date\": \"6/20/20\", \"total confirmed\": 8799120, \"daily new cases\": 157092.0, \"total recovered\": 4365974, \"daily new recovered\": 115825.0, \"total deaths\": 464790, \"daily new deaths\": 4204.0}, {\"date\": \"6/21/20\", \"total confirmed\": 8927408, \"daily new cases\": 128288.0, \"total recovered\": 4434711, \"daily new recovered\": 68737.0, \"total deaths\": 468799, \"daily new deaths\": 4009.0}, {\"date\": \"6/22/20\", \"total confirmed\": 9065315, \"daily new cases\": 137907.0, \"total recovered\": 4526337, \"daily new recovered\": 91626.0, \"total deaths\": 472358, \"daily new deaths\": 3559.0}, {\"date\": \"6/23/20\", \"total confirmed\": 9230605, \"daily new cases\": 165290.0, \"total recovered\": 4630412, \"daily new recovered\": 104075.0, \"total deaths\": 477580, \"daily new deaths\": 5222.0}, {\"date\": \"6/24/20\", \"total confirmed\": 9401467, \"daily new cases\": 170862.0, \"total recovered\": 4746172, \"daily new recovered\": 115760.0, \"total deaths\": 482750, \"daily new deaths\": 5170.0}, {\"date\": \"6/25/20\", \"total confirmed\": 9579792, \"daily new cases\": 178325.0, \"total recovered\": 4839028, \"daily new recovered\": 92856.0, \"total deaths\": 487444, \"daily new deaths\": 4694.0}, {\"date\": \"6/26/20\", \"total confirmed\": 9771190, \"daily new cases\": 191398.0, \"total recovered\": 4945742, \"daily new recovered\": 106714.0, \"total deaths\": 492146, \"daily new deaths\": 4702.0}, {\"date\": \"6/27/20\", \"total confirmed\": 9949650, \"daily new cases\": 178460.0, \"total recovered\": 5052107, \"daily new recovered\": 106365.0, \"total deaths\": 496609, \"daily new deaths\": 4463.0}, {\"date\": \"6/28/20\", \"total confirmed\": 10111445, \"daily new cases\": 161795.0, \"total recovered\": 5141227, \"daily new recovered\": 89120.0, \"total deaths\": 499752, \"daily new deaths\": 3143.0}, {\"date\": \"6/29/20\", \"total confirmed\": 10267631, \"daily new cases\": 156186.0, \"total recovered\": 5235793, \"daily new recovered\": 94566.0, \"total deaths\": 503476, \"daily new deaths\": 3724.0}, {\"date\": \"6/30/20\", \"total confirmed\": 10441739, \"daily new cases\": 174108.0, \"total recovered\": 5353115, \"daily new recovered\": 117322.0, \"total deaths\": 508425, \"daily new deaths\": 4949.0}, {\"date\": \"7/1/20\", \"total confirmed\": 10658951, \"daily new cases\": 217212.0, \"total recovered\": 5469041, \"daily new recovered\": 115926.0, \"total deaths\": 513353, \"daily new deaths\": 4928.0}, {\"date\": \"7/2/20\", \"total confirmed\": 10867065, \"daily new cases\": 208114.0, \"total recovered\": 5753918, \"daily new recovered\": 284877.0, \"total deaths\": 518416, \"daily new deaths\": 5063.0}, {\"date\": \"7/3/20\", \"total confirmed\": 11069750, \"daily new cases\": 202685.0, \"total recovered\": 5863818, \"daily new recovered\": 109900.0, \"total deaths\": 523351, \"daily new deaths\": 4935.0}, {\"date\": \"7/4/20\", \"total confirmed\": 11263591, \"daily new cases\": 193841.0, \"total recovered\": 6059651, \"daily new recovered\": 195833.0, \"total deaths\": 527719, \"daily new deaths\": 4368.0}, {\"date\": \"7/5/20\", \"total confirmed\": 11446487, \"daily new cases\": 182896.0, \"total recovered\": 6178973, \"daily new recovered\": 119322.0, \"total deaths\": 531192, \"daily new deaths\": 3473.0}, {\"date\": \"7/6/20\", \"total confirmed\": 11611692, \"daily new cases\": 165205.0, \"total recovered\": 6302585, \"daily new recovered\": 123612.0, \"total deaths\": 535019, \"daily new deaths\": 3827.0}, {\"date\": \"7/7/20\", \"total confirmed\": 11822619, \"daily new cases\": 210927.0, \"total recovered\": 6447610, \"daily new recovered\": 145025.0, \"total deaths\": 541034, \"daily new deaths\": 6015.0}, {\"date\": \"7/8/20\", \"total confirmed\": 12035018, \"daily new cases\": 212399.0, \"total recovered\": 6605559, \"daily new recovered\": 157949.0, \"total deaths\": 546307, \"daily new deaths\": 5273.0}, {\"date\": \"7/9/20\", \"total confirmed\": 12263083, \"daily new cases\": 228065.0, \"total recovered\": 6740073, \"daily new recovered\": 134514.0, \"total deaths\": 551715, \"daily new deaths\": 5408.0}, {\"date\": \"7/10/20\", \"total confirmed\": 12495240, \"daily new cases\": 232157.0, \"total recovered\": 6879465, \"daily new recovered\": 139392.0, \"total deaths\": 557007, \"daily new deaths\": 5292.0}, {\"date\": \"7/11/20\", \"total confirmed\": 12711512, \"daily new cases\": 216272.0, \"total recovered\": 7005174, \"daily new recovered\": 125709.0, \"total deaths\": 561795, \"daily new deaths\": 4788.0}, {\"date\": \"7/12/20\", \"total confirmed\": 12904017, \"daily new cases\": 192505.0, \"total recovered\": 7116853, \"daily new recovered\": 111679.0, \"total deaths\": 565787, \"daily new deaths\": 3992.0}, {\"date\": \"7/13/20\", \"total confirmed\": 13096205, \"daily new cases\": 192188.0, \"total recovered\": 7257197, \"daily new recovered\": 140344.0, \"total deaths\": 569601, \"daily new deaths\": 3814.0}, {\"date\": \"7/14/20\", \"total confirmed\": 13317524, \"daily new cases\": 221319.0, \"total recovered\": 7399397, \"daily new recovered\": 142200.0, \"total deaths\": 575190, \"daily new deaths\": 5589.0}, {\"date\": \"7/15/20\", \"total confirmed\": 13548634, \"daily new cases\": 231110.0, \"total recovered\": 7559178, \"daily new recovered\": 159781.0, \"total deaths\": 580628, \"daily new deaths\": 5438.0}, {\"date\": \"7/16/20\", \"total confirmed\": 13801199, \"daily new cases\": 252565.0, \"total recovered\": 7711548, \"daily new recovered\": 152370.0, \"total deaths\": 586385, \"daily new deaths\": 5757.0}, {\"date\": \"7/17/20\", \"total confirmed\": 14043071, \"daily new cases\": 241872.0, \"total recovered\": 7894858, \"daily new recovered\": 183310.0, \"total deaths\": 593044, \"daily new deaths\": 6659.0}, {\"date\": \"7/18/20\", \"total confirmed\": 14279827, \"daily new cases\": 236756.0, \"total recovered\": 8045815, \"daily new recovered\": 150957.0, \"total deaths\": 598659, \"daily new deaths\": 5615.0}, {\"date\": \"7/19/20\", \"total confirmed\": 14493749, \"daily new cases\": 213922.0, \"total recovered\": 8133692, \"daily new recovered\": 87877.0, \"total deaths\": 602717, \"daily new deaths\": 4058.0}, {\"date\": \"7/20/20\", \"total confirmed\": 14700303, \"daily new cases\": 206554.0, \"total recovered\": 8292688, \"daily new recovered\": 158996.0, \"total deaths\": 606895, \"daily new deaths\": 4178.0}, {\"date\": \"7/21/20\", \"total confirmed\": 14933710, \"daily new cases\": 233407.0, \"total recovered\": 8467335, \"daily new recovered\": 174647.0, \"total deaths\": 613058, \"daily new deaths\": 6163.0}, {\"date\": \"7/22/20\", \"total confirmed\": 15214538, \"daily new cases\": 280828.0, \"total recovered\": 8643722, \"daily new recovered\": 176387.0, \"total deaths\": 619984, \"daily new deaths\": 6926.0}, {\"date\": \"7/23/20\", \"total confirmed\": 15497459, \"daily new cases\": 282921.0, \"total recovered\": 8813886, \"daily new recovered\": 170164.0, \"total deaths\": 629879, \"daily new deaths\": 9895.0}, {\"date\": \"7/24/20\", \"total confirmed\": 15777780, \"daily new cases\": 280321.0, \"total recovered\": 9043203, \"daily new recovered\": 229317.0, \"total deaths\": 635912, \"daily new deaths\": 6033.0}, {\"date\": \"7/25/20\", \"total confirmed\": 16033181, \"daily new cases\": 255401.0, \"total recovered\": 9262520, \"daily new recovered\": 219317.0, \"total deaths\": 641447, \"daily new deaths\": 5535.0}, {\"date\": \"7/26/20\", \"total confirmed\": 16245990, \"daily new cases\": 212809.0, \"total recovered\": 9402996, \"daily new recovered\": 140476.0, \"total deaths\": 645118, \"daily new deaths\": 3671.0}, {\"date\": \"7/27/20\", \"total confirmed\": 16472188, \"daily new cases\": 226198.0, \"total recovered\": 9572619, \"daily new recovered\": 169623.0, \"total deaths\": 650290, \"daily new deaths\": 5172.0}, {\"date\": \"7/28/20\", \"total confirmed\": 16724421, \"daily new cases\": 252233.0, \"total recovered\": 9746473, \"daily new recovered\": 173854.0, \"total deaths\": 656599, \"daily new deaths\": 6309.0}, {\"date\": \"7/29/20\", \"total confirmed\": 17014028, \"daily new cases\": 289607.0, \"total recovered\": 9948163, \"daily new recovered\": 201690.0, \"total deaths\": 663171, \"daily new deaths\": 6572.0}, {\"date\": \"7/30/20\", \"total confirmed\": 17294158, \"daily new cases\": 280130.0, \"total recovered\": 10170650, \"daily new recovered\": 222487.0, \"total deaths\": 669184, \"daily new deaths\": 6013.0}, {\"date\": \"7/31/20\", \"total confirmed\": 17584349, \"daily new cases\": 290191.0, \"total recovered\": 10369255, \"daily new recovered\": 198605.0, \"total deaths\": 675387, \"daily new deaths\": 6203.0}, {\"date\": \"8/1/20\", \"total confirmed\": 17834465, \"daily new cases\": 250116.0, \"total recovered\": 10553852, \"daily new recovered\": 184597.0, \"total deaths\": 680873, \"daily new deaths\": 5486.0}, {\"date\": \"8/2/20\", \"total confirmed\": 18062665, \"daily new cases\": 228200.0, \"total recovered\": 10690555, \"daily new recovered\": 136703.0, \"total deaths\": 685148, \"daily new deaths\": 4275.0}, {\"date\": \"8/3/20\", \"total confirmed\": 18264102, \"daily new cases\": 201437.0, \"total recovered\": 10913000, \"daily new recovered\": 222445.0, \"total deaths\": 689472, \"daily new deaths\": 4324.0}, {\"date\": \"8/4/20\", \"total confirmed\": 18522551, \"daily new cases\": 258449.0, \"total recovered\": 11137165, \"daily new recovered\": 224165.0, \"total deaths\": 696389, \"daily new deaths\": 6917.0}, {\"date\": \"8/5/20\", \"total confirmed\": 18794790, \"daily new cases\": 272239.0, \"total recovered\": 11358861, \"daily new recovered\": 221696.0, \"total deaths\": 703356, \"daily new deaths\": 6967.0}, {\"date\": \"8/6/20\", \"total confirmed\": 19079535, \"daily new cases\": 284745.0, \"total recovered\": 11547831, \"daily new recovered\": 188970.0, \"total deaths\": 709848, \"daily new deaths\": 6492.0}, {\"date\": \"8/7/20\", \"total confirmed\": 19360274, \"daily new cases\": 280739.0, \"total recovered\": 11740482, \"daily new recovered\": 192651.0, \"total deaths\": 716145, \"daily new deaths\": 6297.0}, {\"date\": \"8/8/20\", \"total confirmed\": 19619325, \"daily new cases\": 259051.0, \"total recovered\": 11941861, \"daily new recovered\": 201379.0, \"total deaths\": 721574, \"daily new deaths\": 5429.0}, {\"date\": \"8/9/20\", \"total confirmed\": 19842617, \"daily new cases\": 223292.0, \"total recovered\": 12118746, \"daily new recovered\": 176885.0, \"total deaths\": 726131, \"daily new deaths\": 4557.0}, {\"date\": \"8/10/20\", \"total confirmed\": 20069642, \"daily new cases\": 227025.0, \"total recovered\": 12282977, \"daily new recovered\": 164231.0, \"total deaths\": 731039, \"daily new deaths\": 4908.0}, {\"date\": \"8/11/20\", \"total confirmed\": 20324450, \"daily new cases\": 254808.0, \"total recovered\": 12588120, \"daily new recovered\": 305143.0, \"total deaths\": 737475, \"daily new deaths\": 6436.0}, {\"date\": \"8/12/20\", \"total confirmed\": 20602423, \"daily new cases\": 277973.0, \"total recovered\": 12829625, \"daily new recovered\": 241505.0, \"total deaths\": 744095, \"daily new deaths\": 6620.0}, {\"date\": \"8/13/20\", \"total confirmed\": 20888374, \"daily new cases\": 285951.0, \"total recovered\": 12994838, \"daily new recovered\": 165213.0, \"total deaths\": 750306, \"daily new deaths\": 6211.0}, {\"date\": \"8/14/20\", \"total confirmed\": 21192603, \"daily new cases\": 304229.0, \"total recovered\": 13279288, \"daily new recovered\": 284450.0, \"total deaths\": 760437, \"daily new deaths\": 10131.0}, {\"date\": \"8/15/20\", \"total confirmed\": 21440241, \"daily new cases\": 247638.0, \"total recovered\": 13448301, \"daily new recovered\": 169013.0, \"total deaths\": 765782, \"daily new deaths\": 5345.0}, {\"date\": \"8/16/20\", \"total confirmed\": 21652169, \"daily new cases\": 211928.0, \"total recovered\": 13679557, \"daily new recovered\": 231256.0, \"total deaths\": 769985, \"daily new deaths\": 4203.0}, {\"date\": \"8/17/20\", \"total confirmed\": 21861938, \"daily new cases\": 209769.0, \"total recovered\": 13891142, \"daily new recovered\": 211585.0, \"total deaths\": 774126, \"daily new deaths\": 4141.0}, {\"date\": \"8/18/20\", \"total confirmed\": 22118012, \"daily new cases\": 256074.0, \"total recovered\": 14119129, \"daily new recovered\": 227987.0, \"total deaths\": 781012, \"daily new deaths\": 6886.0}, {\"date\": \"8/19/20\", \"total confirmed\": 22392471, \"daily new cases\": 274459.0, \"total recovered\": 14336714, \"daily new recovered\": 217585.0, \"total deaths\": 787749, \"daily new deaths\": 6737.0}, {\"date\": \"8/20/20\", \"total confirmed\": 22659722, \"daily new cases\": 267251.0, \"total recovered\": 14544618, \"daily new recovered\": 207904.0, \"total deaths\": 793786, \"daily new deaths\": 6037.0}, {\"date\": \"8/21/20\", \"total confirmed\": 22929317, \"daily new cases\": 269595.0, \"total recovered\": 14714711, \"daily new recovered\": 170093.0, \"total deaths\": 799284, \"daily new deaths\": 5498.0}, {\"date\": \"8/22/20\", \"total confirmed\": 23194351, \"daily new cases\": 265034.0, \"total recovered\": 14924833, \"daily new recovered\": 210122.0, \"total deaths\": 804858, \"daily new deaths\": 5574.0}, {\"date\": \"8/23/20\", \"total confirmed\": 23399855, \"daily new cases\": 205504.0, \"total recovered\": 15140069, \"daily new recovered\": 215236.0, \"total deaths\": 808715, \"daily new deaths\": 3857.0}, {\"date\": \"8/24/20\", \"total confirmed\": 23625991, \"daily new cases\": 226136.0, \"total recovered\": 15340270, \"daily new recovered\": 200201.0, \"total deaths\": 813080, \"daily new deaths\": 4365.0}, {\"date\": \"8/25/20\", \"total confirmed\": 23867949, \"daily new cases\": 241958.0, \"total recovered\": 15573057, \"daily new recovered\": 232787.0, \"total deaths\": 819456, \"daily new deaths\": 6376.0}, {\"date\": \"8/26/20\", \"total confirmed\": 24157646, \"daily new cases\": 289697.0, \"total recovered\": 15797560, \"daily new recovered\": 224503.0, \"total deaths\": 825747, \"daily new deaths\": 6291.0}, {\"date\": \"8/27/20\", \"total confirmed\": 24436720, \"daily new cases\": 279074.0, \"total recovered\": 15999266, \"daily new recovered\": 201706.0, \"total deaths\": 831632, \"daily new deaths\": 5885.0}, {\"date\": \"8/28/20\", \"total confirmed\": 24718050, \"daily new cases\": 281330.0, \"total recovered\": 16199844, \"daily new recovered\": 200578.0, \"total deaths\": 837148, \"daily new deaths\": 5516.0}, {\"date\": \"8/29/20\", \"total confirmed\": 24978746, \"daily new cases\": 260696.0, \"total recovered\": 16411585, \"daily new recovered\": 211741.0, \"total deaths\": 842535, \"daily new deaths\": 5387.0}, {\"date\": \"8/30/20\", \"total confirmed\": 25205088, \"daily new cases\": 226342.0, \"total recovered\": 16620139, \"daily new recovered\": 208554.0, \"total deaths\": 846446, \"daily new deaths\": 3911.0}, {\"date\": \"8/31/20\", \"total confirmed\": 25467520, \"daily new cases\": 262432.0, \"total recovered\": 16821702, \"daily new recovered\": 201563.0, \"total deaths\": 850659, \"daily new deaths\": 4213.0}, {\"date\": \"9/1/20\", \"total confirmed\": 25731709, \"daily new cases\": 264189.0, \"total recovered\": 17079381, \"daily new recovered\": 257679.0, \"total deaths\": 857145, \"daily new deaths\": 6486.0}, {\"date\": \"9/2/20\", \"total confirmed\": 26014463, \"daily new cases\": 282754.0, \"total recovered\": 17298150, \"daily new recovered\": 218769.0, \"total deaths\": 863160, \"daily new deaths\": 6015.0}, {\"date\": \"9/3/20\", \"total confirmed\": 26295319, \"daily new cases\": 280856.0, \"total recovered\": 17519051, \"daily new recovered\": 220901.0, \"total deaths\": 868871, \"daily new deaths\": 5711.0}, {\"date\": \"9/4/20\", \"total confirmed\": 26608153, \"daily new cases\": 312834.0, \"total recovered\": 17732989, \"daily new recovered\": 213938.0, \"total deaths\": 874782, \"daily new deaths\": 5911.0}, {\"date\": \"9/5/20\", \"total confirmed\": 26871379, \"daily new cases\": 263226.0, \"total recovered\": 17933979, \"daily new recovered\": 200990.0, \"total deaths\": 879715, \"daily new deaths\": 4933.0}, {\"date\": \"9/6/20\", \"total confirmed\": 27093507, \"daily new cases\": 222128.0, \"total recovered\": 18144209, \"daily new recovered\": 210230.0, \"total deaths\": 883492, \"daily new deaths\": 3777.0}, {\"date\": \"9/7/20\", \"total confirmed\": 27326895, \"daily new cases\": 233388.0, \"total recovered\": 18343108, \"daily new recovered\": 198899.0, \"total deaths\": 892811, \"daily new deaths\": 9319.0}, {\"date\": \"9/8/20\", \"total confirmed\": 27568271, \"daily new cases\": 241376.0, \"total recovered\": 18544747, \"daily new recovered\": 201639.0, \"total deaths\": 897756, \"daily new deaths\": 4945.0}, {\"date\": \"9/9/20\", \"total confirmed\": 27852706, \"daily new cases\": 284435.0, \"total recovered\": 18784778, \"daily new recovered\": 240031.0, \"total deaths\": 903836, \"daily new deaths\": 6080.0}, {\"date\": \"9/10/20\", \"total confirmed\": 28151687, \"daily new cases\": 298981.0, \"total recovered\": 19000545, \"daily new recovered\": 215767.0, \"total deaths\": 909636, \"daily new deaths\": 5800.0}, {\"date\": \"9/11/20\", \"total confirmed\": 28471545, \"daily new cases\": 319858.0, \"total recovered\": 19224079, \"daily new recovered\": 223534.0, \"total deaths\": 915518, \"daily new deaths\": 5882.0}, {\"date\": \"9/12/20\", \"total confirmed\": 28748552, \"daily new cases\": 277007.0, \"total recovered\": 19447558, \"daily new recovered\": 223479.0, \"total deaths\": 920392, \"daily new deaths\": 4874.0}, {\"date\": \"9/13/20\", \"total confirmed\": 28984632, \"daily new cases\": 236080.0, \"total recovered\": 19633499, \"daily new recovered\": 185941.0, \"total deaths\": 924049, \"daily new deaths\": 3657.0}, {\"date\": \"9/14/20\", \"total confirmed\": 29264226, \"daily new cases\": 279594.0, \"total recovered\": 19863106, \"daily new recovered\": 229607.0, \"total deaths\": 928485, \"daily new deaths\": 4436.0}, {\"date\": \"9/15/20\", \"total confirmed\": 29547908, \"daily new cases\": 283682.0, \"total recovered\": 20089476, \"daily new recovered\": 226370.0, \"total deaths\": 935035, \"daily new deaths\": 6550.0}, {\"date\": \"9/16/20\", \"total confirmed\": 29852879, \"daily new cases\": 304971.0, \"total recovered\": 20318600, \"daily new recovered\": 229124.0, \"total deaths\": 940788, \"daily new deaths\": 5753.0}, {\"date\": \"9/17/20\", \"total confirmed\": 30166465, \"daily new cases\": 313586.0, \"total recovered\": 20538086, \"daily new recovered\": 219486.0, \"total deaths\": 946247, \"daily new deaths\": 5459.0}, {\"date\": \"9/18/20\", \"total confirmed\": 30489632, \"daily new cases\": 323167.0, \"total recovered\": 20790028, \"daily new recovered\": 251942.0, \"total deaths\": 951952, \"daily new deaths\": 5705.0}, {\"date\": \"9/19/20\", \"total confirmed\": 30770188, \"daily new cases\": 280556.0, \"total recovered\": 21027965, \"daily new recovered\": 237937.0, \"total deaths\": 957190, \"daily new deaths\": 5238.0}, {\"date\": \"9/20/20\", \"total confirmed\": 31012629, \"daily new cases\": 242441.0, \"total recovered\": 21264098, \"daily new recovered\": 236133.0, \"total deaths\": 960901, \"daily new deaths\": 3711.0}, {\"date\": \"9/21/20\", \"total confirmed\": 31311005, \"daily new cases\": 298376.0, \"total recovered\": 21507448, \"daily new recovered\": 243350.0, \"total deaths\": 965023, \"daily new deaths\": 4122.0}, {\"date\": \"9/22/20\", \"total confirmed\": 31590903, \"daily new cases\": 279898.0, \"total recovered\": 21727303, \"daily new recovered\": 219855.0, \"total deaths\": 971005, \"daily new deaths\": 5982.0}, {\"date\": \"9/23/20\", \"total confirmed\": 31857635, \"daily new cases\": 266732.0, \"total recovered\": 21991024, \"daily new recovered\": 263721.0, \"total deaths\": 976616, \"daily new deaths\": 5611.0}, {\"date\": \"9/24/20\", \"total confirmed\": 32218899, \"daily new cases\": 361264.0, \"total recovered\": 22245775, \"daily new recovered\": 254751.0, \"total deaths\": 983336, \"daily new deaths\": 6720.0}, {\"date\": \"9/25/20\", \"total confirmed\": 32548215, \"daily new cases\": 329316.0, \"total recovered\": 22485502, \"daily new recovered\": 239727.0, \"total deaths\": 989239, \"daily new deaths\": 5903.0}, {\"date\": \"9/26/20\", \"total confirmed\": 32825265, \"daily new cases\": 277050.0, \"total recovered\": 22728853, \"daily new recovered\": 243351.0, \"total deaths\": 994526, \"daily new deaths\": 5287.0}, {\"date\": \"9/27/20\", \"total confirmed\": 33066434, \"daily new cases\": 241169.0, \"total recovered\": 22939253, \"daily new recovered\": 210400.0, \"total deaths\": 998144, \"daily new deaths\": 3618.0}, {\"date\": \"9/28/20\", \"total confirmed\": 33342317, \"daily new cases\": 275883.0, \"total recovered\": 23164809, \"daily new recovered\": 225556.0, \"total deaths\": 1002070, \"daily new deaths\": 3926.0}, {\"date\": \"9/29/20\", \"total confirmed\": 33626366, \"daily new cases\": 284049.0, \"total recovered\": 23402735, \"daily new recovered\": 237926.0, \"total deaths\": 1008163, \"daily new deaths\": 6093.0}, {\"date\": \"9/30/20\", \"total confirmed\": 33953087, \"daily new cases\": 326721.0, \"total recovered\": 23652271, \"daily new recovered\": 249536.0, \"total deaths\": 1014556, \"daily new deaths\": 6393.0}, {\"date\": \"10/1/20\", \"total confirmed\": 34271069, \"daily new cases\": 317982.0, \"total recovered\": 23872886, \"daily new recovered\": 220615.0, \"total deaths\": 1023252, \"daily new deaths\": 8696.0}, {\"date\": \"10/2/20\", \"total confirmed\": 34565494, \"daily new cases\": 294425.0, \"total recovered\": 24044783, \"daily new recovered\": 171897.0, \"total deaths\": 1028237, \"daily new deaths\": 4985.0}, {\"date\": \"10/3/20\", \"total confirmed\": 34884965, \"daily new cases\": 319471.0, \"total recovered\": 24302969, \"daily new recovered\": 258186.0, \"total deaths\": 1033584, \"daily new deaths\": 5347.0}, {\"date\": \"10/4/20\", \"total confirmed\": 35133661, \"daily new cases\": 248696.0, \"total recovered\": 24521170, \"daily new recovered\": 218201.0, \"total deaths\": 1037360, \"daily new deaths\": 3776.0}, {\"date\": \"10/5/20\", \"total confirmed\": 35462777, \"daily new cases\": 329116.0, \"total recovered\": 24760057, \"daily new recovered\": 238887.0, \"total deaths\": 1044369, \"daily new deaths\": 7009.0}, {\"date\": \"10/6/20\", \"total confirmed\": 35786652, \"daily new cases\": 323875.0, \"total recovered\": 24993149, \"daily new recovered\": 233092.0, \"total deaths\": 1050154, \"daily new deaths\": 5785.0}, {\"date\": \"10/7/20\", \"total confirmed\": 36136477, \"daily new cases\": 349825.0, \"total recovered\": 25248549, \"daily new recovered\": 255400.0, \"total deaths\": 1055972, \"daily new deaths\": 5818.0}, {\"date\": \"10/8/20\", \"total confirmed\": 36496941, \"daily new cases\": 360464.0, \"total recovered\": 25468041, \"daily new recovered\": 219492.0, \"total deaths\": 1062229, \"daily new deaths\": 6257.0}, {\"date\": \"10/9/20\", \"total confirmed\": 36856619, \"daily new cases\": 359678.0, \"total recovered\": 25673338, \"daily new recovered\": 205297.0, \"total deaths\": 1068322, \"daily new deaths\": 6093.0}, {\"date\": \"10/10/20\", \"total confirmed\": 37187024, \"daily new cases\": 330405.0, \"total recovered\": 25865384, \"daily new recovered\": 192046.0, \"total deaths\": 1073154, \"daily new deaths\": 4832.0}, {\"date\": \"10/11/20\", \"total confirmed\": 37456778, \"daily new cases\": 269754.0, \"total recovered\": 26083210, \"daily new recovered\": 217826.0, \"total deaths\": 1077072, \"daily new deaths\": 3918.0}, {\"date\": \"10/12/20\", \"total confirmed\": 37781897, \"daily new cases\": 325119.0, \"total recovered\": 26287563, \"daily new recovered\": 204353.0, \"total deaths\": 1081015, \"daily new deaths\": 3943.0}, {\"date\": \"10/13/20\", \"total confirmed\": 38110901, \"daily new cases\": 329004.0, \"total recovered\": 26481246, \"daily new recovered\": 193683.0, \"total deaths\": 1086471, \"daily new deaths\": 5456.0}, {\"date\": \"10/14/20\", \"total confirmed\": 38490953, \"daily new cases\": 380052.0, \"total recovered\": 26693195, \"daily new recovered\": 211949.0, \"total deaths\": 1092469, \"daily new deaths\": 5998.0}, {\"date\": \"10/15/20\", \"total confirmed\": 38898224, \"daily new cases\": 407271.0, \"total recovered\": 26900376, \"daily new recovered\": 207181.0, \"total deaths\": 1098587, \"daily new deaths\": 6118.0}, {\"date\": \"10/16/20\", \"total confirmed\": 39308667, \"daily new cases\": 410443.0, \"total recovered\": 27105030, \"daily new recovered\": 204654.0, \"total deaths\": 1104713, \"daily new deaths\": 6126.0}, {\"date\": \"10/17/20\", \"total confirmed\": 39649909, \"daily new cases\": 341242.0, \"total recovered\": 27303710, \"daily new recovered\": 198680.0, \"total deaths\": 1110228, \"daily new deaths\": 5515.0}, {\"date\": \"10/18/20\", \"total confirmed\": 39935847, \"daily new cases\": 285938.0, \"total recovered\": 27502706, \"daily new recovered\": 198996.0, \"total deaths\": 1113613, \"daily new deaths\": 3385.0}, {\"date\": \"10/19/20\", \"total confirmed\": 40383933, \"daily new cases\": 448086.0, \"total recovered\": 27713008, \"daily new recovered\": 210302.0, \"total deaths\": 1118614, \"daily new deaths\": 5001.0}, {\"date\": \"10/20/20\", \"total confirmed\": 40772455, \"daily new cases\": 388522.0, \"total recovered\": 27926735, \"daily new recovered\": 213727.0, \"total deaths\": 1125203, \"daily new deaths\": 6589.0}, {\"date\": \"10/21/20\", \"total confirmed\": 41216105, \"daily new cases\": 443650.0, \"total recovered\": 28137873, \"daily new recovered\": 211138.0, \"total deaths\": 1131759, \"daily new deaths\": 6556.0}, {\"date\": \"10/22/20\", \"total confirmed\": 41685750, \"daily new cases\": 469645.0, \"total recovered\": 28364277, \"daily new recovered\": 226404.0, \"total deaths\": 1137661, \"daily new deaths\": 5902.0}, {\"date\": \"10/23/20\", \"total confirmed\": 42182515, \"daily new cases\": 496765.0, \"total recovered\": 28570400, \"daily new recovered\": 206123.0, \"total deaths\": 1144583, \"daily new deaths\": 6922.0}, {\"date\": \"10/24/20\", \"total confirmed\": 42595348, \"daily new cases\": 412833.0, \"total recovered\": 28781667, \"daily new recovered\": 211267.0, \"total deaths\": 1150279, \"daily new deaths\": 5696.0}, {\"date\": \"10/25/20\", \"total confirmed\": 42948826, \"daily new cases\": 353478.0, \"total recovered\": 28978022, \"daily new recovered\": 196355.0, \"total deaths\": 1154419, \"daily new deaths\": 4140.0}, {\"date\": \"10/26/20\", \"total confirmed\": 43485889, \"daily new cases\": 537063.0, \"total recovered\": 29217448, \"daily new recovered\": 239426.0, \"total deaths\": 1160063, \"daily new deaths\": 5644.0}, {\"date\": \"10/27/20\", \"total confirmed\": 43954797, \"daily new cases\": 468908.0, \"total recovered\": 29807969, \"daily new recovered\": 590521.0, \"total deaths\": 1167477, \"daily new deaths\": 7414.0}, {\"date\": \"10/28/20\", \"total confirmed\": 44463732, \"daily new cases\": 508935.0, \"total recovered\": 30073936, \"daily new recovered\": 265967.0, \"total deaths\": 1174558, \"daily new deaths\": 7081.0}, {\"date\": \"10/29/20\", \"total confirmed\": 45014520, \"daily new cases\": 550788.0, \"total recovered\": 30320483, \"daily new recovered\": 246547.0, \"total deaths\": 1181617, \"daily new deaths\": 7059.0}, {\"date\": \"10/30/20\", \"total confirmed\": 45583754, \"daily new cases\": 569234.0, \"total recovered\": 30575509, \"daily new recovered\": 255026.0, \"total deaths\": 1189160, \"daily new deaths\": 7543.0}, {\"date\": \"10/31/20\", \"total confirmed\": 46060084, \"daily new cases\": 476330.0, \"total recovered\": 30820526, \"daily new recovered\": 245017.0, \"total deaths\": 1195706, \"daily new deaths\": 6546.0}, {\"date\": \"11/1/20\", \"total confirmed\": 46494219, \"daily new cases\": 434135.0, \"total recovered\": 31078260, \"daily new recovered\": 257734.0, \"total deaths\": 1200630, \"daily new deaths\": 4924.0}, {\"date\": \"11/2/20\", \"total confirmed\": 47001076, \"daily new cases\": 506857.0, \"total recovered\": 31357886, \"daily new recovered\": 279626.0, \"total deaths\": 1206744, \"daily new deaths\": 6114.0}, {\"date\": \"11/3/20\", \"total confirmed\": 47514619, \"daily new cases\": 513543.0, \"total recovered\": 31609242, \"daily new recovered\": 251356.0, \"total deaths\": 1215196, \"daily new deaths\": 8452.0}, {\"date\": \"11/4/20\", \"total confirmed\": 48112246, \"daily new cases\": 597627.0, \"total recovered\": 31889030, \"daily new recovered\": 279788.0, \"total deaths\": 1226196, \"daily new deaths\": 11000.0}, {\"date\": \"11/5/20\", \"total confirmed\": 48705471, \"daily new cases\": 593225.0, \"total recovered\": 32192465, \"daily new recovered\": 303435.0, \"total deaths\": 1234256, \"daily new deaths\": 8060.0}, {\"date\": \"11/6/20\", \"total confirmed\": 49346623, \"daily new cases\": 641152.0, \"total recovered\": 32480626, \"daily new recovered\": 288161.0, \"total deaths\": 1243795, \"daily new deaths\": 9539.0}, {\"date\": \"11/7/20\", \"total confirmed\": 49858197, \"daily new cases\": 511574.0, \"total recovered\": 32779541, \"daily new recovered\": 298915.0, \"total deaths\": 1251346, \"daily new deaths\": 7551.0}, {\"date\": \"11/8/20\", \"total confirmed\": 50423019, \"daily new cases\": 564822.0, \"total recovered\": 33032762, \"daily new recovered\": 253221.0, \"total deaths\": 1257096, \"daily new deaths\": 5750.0}, {\"date\": \"11/9/20\", \"total confirmed\": 50923398, \"daily new cases\": 500379.0, \"total recovered\": 33289404, \"daily new recovered\": 256642.0, \"total deaths\": 1264218, \"daily new deaths\": 7122.0}, {\"date\": \"11/10/20\", \"total confirmed\": 51481929, \"daily new cases\": 558531.0, \"total recovered\": 33546421, \"daily new recovered\": 257017.0, \"total deaths\": 1274213, \"daily new deaths\": 9995.0}, {\"date\": \"11/11/20\", \"total confirmed\": 52126597, \"daily new cases\": 644668.0, \"total recovered\": 33926351, \"daily new recovered\": 379930.0, \"total deaths\": 1284628, \"daily new deaths\": 10415.0}, {\"date\": \"11/12/20\", \"total confirmed\": 52773432, \"daily new cases\": 646835.0, \"total recovered\": 34150481, \"daily new recovered\": 224130.0, \"total deaths\": 1294372, \"daily new deaths\": 9744.0}, {\"date\": \"11/13/20\", \"total confirmed\": 53421872, \"daily new cases\": 648440.0, \"total recovered\": 34453243, \"daily new recovered\": 302762.0, \"total deaths\": 1303906, \"daily new deaths\": 9534.0}, {\"date\": \"11/14/20\", \"total confirmed\": 54015689, \"daily new cases\": 593817.0, \"total recovered\": 34731314, \"daily new recovered\": 278071.0, \"total deaths\": 1312896, \"daily new deaths\": 8990.0}, {\"date\": \"11/15/20\", \"total confirmed\": 54485945, \"daily new cases\": 470256.0, \"total recovered\": 34960714, \"daily new recovered\": 229400.0, \"total deaths\": 1319144, \"daily new deaths\": 6248.0}, {\"date\": \"11/16/20\", \"total confirmed\": 55021938, \"daily new cases\": 535993.0, \"total recovered\": 35349444, \"daily new recovered\": 388730.0, \"total deaths\": 1327228, \"daily new deaths\": 8084.0}]}}, {\"mode\": \"vega-lite\"});\n",
       "</script>"
      ],
      "text/plain": [
       "alt.Chart(...)"
      ]
     },
     "execution_count": 66,
     "metadata": {},
     "output_type": "execute_result"
    }
   ],
   "source": [
    "#Plot ALtair 5: Global time series chart for daily new cases, recovered, and deaths - version 2 (Im not using this at my webapp)\n",
    "import altair as alt\n",
    "\n",
    "\n",
    "data = timeseries_final\n",
    "base = alt.Chart(data).transform_fold(\n",
    "    ['daily new cases', 'daily new recovered', 'daily new deaths']\n",
    ")\n",
    "line = base.mark_line().encode(\n",
    "    x='date:T',\n",
    "    y=alt.Y('value:Q', axis=alt.Axis(title='# of cases')),\n",
    "    color='key:N',\n",
    "    tooltip=['yearmonthdate(date)','daily new cases', 'daily new recovered', 'daily new deaths']\n",
    ").properties(width=700)\n",
    "\n",
    "\n",
    "line"
   ]
  },
  {
   "cell_type": "code",
   "execution_count": 35,
   "metadata": {},
   "outputs": [
    {
     "data": {
      "text/html": [
       "\n",
       "<div id=\"altair-viz-b9fa27372ce247999756cc9929c75542\"></div>\n",
       "<script type=\"text/javascript\">\n",
       "  (function(spec, embedOpt){\n",
       "    let outputDiv = document.currentScript.previousElementSibling;\n",
       "    if (outputDiv.id !== \"altair-viz-b9fa27372ce247999756cc9929c75542\") {\n",
       "      outputDiv = document.getElementById(\"altair-viz-b9fa27372ce247999756cc9929c75542\");\n",
       "    }\n",
       "    const paths = {\n",
       "      \"vega\": \"https://cdn.jsdelivr.net/npm//vega@5?noext\",\n",
       "      \"vega-lib\": \"https://cdn.jsdelivr.net/npm//vega-lib?noext\",\n",
       "      \"vega-lite\": \"https://cdn.jsdelivr.net/npm//vega-lite@4.8.1?noext\",\n",
       "      \"vega-embed\": \"https://cdn.jsdelivr.net/npm//vega-embed@6?noext\",\n",
       "    };\n",
       "\n",
       "    function loadScript(lib) {\n",
       "      return new Promise(function(resolve, reject) {\n",
       "        var s = document.createElement('script');\n",
       "        s.src = paths[lib];\n",
       "        s.async = true;\n",
       "        s.onload = () => resolve(paths[lib]);\n",
       "        s.onerror = () => reject(`Error loading script: ${paths[lib]}`);\n",
       "        document.getElementsByTagName(\"head\")[0].appendChild(s);\n",
       "      });\n",
       "    }\n",
       "\n",
       "    function showError(err) {\n",
       "      outputDiv.innerHTML = `<div class=\"error\" style=\"color:red;\">${err}</div>`;\n",
       "      throw err;\n",
       "    }\n",
       "\n",
       "    function displayChart(vegaEmbed) {\n",
       "      vegaEmbed(outputDiv, spec, embedOpt)\n",
       "        .catch(err => showError(`Javascript Error: ${err.message}<br>This usually means there's a typo in your chart specification. See the javascript console for the full traceback.`));\n",
       "    }\n",
       "\n",
       "    if(typeof define === \"function\" && define.amd) {\n",
       "      requirejs.config({paths});\n",
       "      require([\"vega-embed\"], displayChart, err => showError(`Error loading script: ${err.message}`));\n",
       "    } else if (typeof vegaEmbed === \"function\") {\n",
       "      displayChart(vegaEmbed);\n",
       "    } else {\n",
       "      loadScript(\"vega\")\n",
       "        .then(() => loadScript(\"vega-lite\"))\n",
       "        .then(() => loadScript(\"vega-embed\"))\n",
       "        .catch(showError)\n",
       "        .then(() => displayChart(vegaEmbed));\n",
       "    }\n",
       "  })({\"config\": {\"view\": {\"continuousWidth\": 400, \"continuousHeight\": 300}}, \"layer\": [{\"mark\": \"line\", \"encoding\": {\"color\": {\"type\": \"nominal\", \"field\": \"key\"}, \"x\": {\"type\": \"temporal\", \"field\": \"date\"}, \"y\": {\"type\": \"quantitative\", \"axis\": {\"title\": \"# of cases\"}, \"field\": \"value\"}}, \"transform\": [{\"fold\": [\"daily new cases\", \"daily new recovered\", \"daily new deaths\"]}]}, {\"mark\": \"point\", \"encoding\": {\"opacity\": {\"value\": 0}, \"tooltip\": [{\"type\": \"temporal\", \"field\": \"date\", \"timeUnit\": \"yearmonthdate\", \"title\": \"Date\"}], \"x\": {\"type\": \"temporal\", \"field\": \"date\"}}, \"selection\": {\"selector001\": {\"type\": \"single\", \"nearest\": true, \"on\": \"mouseover\", \"fields\": [\"date\"], \"empty\": \"none\"}}, \"transform\": [{\"fold\": [\"daily new cases\", \"daily new recovered\", \"daily new deaths\"]}]}, {\"mark\": \"point\", \"encoding\": {\"color\": {\"type\": \"nominal\", \"field\": \"key\"}, \"opacity\": {\"condition\": {\"value\": 1, \"selection\": \"selector001\"}, \"value\": 0}, \"x\": {\"type\": \"temporal\", \"field\": \"date\"}, \"y\": {\"type\": \"quantitative\", \"axis\": {\"title\": \"# of cases\"}, \"field\": \"value\"}}, \"transform\": [{\"fold\": [\"daily new cases\", \"daily new recovered\", \"daily new deaths\"]}]}, {\"mark\": {\"type\": \"rule\", \"color\": \"gray\"}, \"encoding\": {\"x\": {\"type\": \"temporal\", \"field\": \"date\"}}, \"transform\": [{\"filter\": {\"selection\": \"selector001\"}}]}, {\"mark\": {\"type\": \"text\", \"align\": \"left\", \"dx\": 5, \"dy\": -5}, \"encoding\": {\"color\": {\"type\": \"nominal\", \"field\": \"key\"}, \"text\": {\"condition\": {\"type\": \"quantitative\", \"field\": \"value\", \"selection\": \"selector001\"}, \"value\": \" \"}, \"x\": {\"type\": \"temporal\", \"field\": \"date\"}, \"y\": {\"type\": \"quantitative\", \"axis\": {\"title\": \"# of cases\"}, \"field\": \"value\"}}, \"transform\": [{\"fold\": [\"daily new cases\", \"daily new recovered\", \"daily new deaths\"]}]}], \"data\": {\"name\": \"data-9050e07eb35b564169fcd7ec44c8faad\"}, \"height\": 300, \"title\": \"Global Time Series\", \"width\": 900, \"$schema\": \"https://vega.github.io/schema/vega-lite/v4.8.1.json\", \"datasets\": {\"data-9050e07eb35b564169fcd7ec44c8faad\": [{\"date\": \"1/22/20\", \"total confirmed\": 555, \"daily new cases\": 0.0, \"total recovered\": 28, \"daily new recovered\": 0.0, \"total deaths\": 17, \"daily new deaths\": 0.0}, {\"date\": \"1/23/20\", \"total confirmed\": 654, \"daily new cases\": 99.0, \"total recovered\": 30, \"daily new recovered\": 2.0, \"total deaths\": 18, \"daily new deaths\": 1.0}, {\"date\": \"1/24/20\", \"total confirmed\": 941, \"daily new cases\": 287.0, \"total recovered\": 36, \"daily new recovered\": 6.0, \"total deaths\": 26, \"daily new deaths\": 8.0}, {\"date\": \"1/25/20\", \"total confirmed\": 1434, \"daily new cases\": 493.0, \"total recovered\": 39, \"daily new recovered\": 3.0, \"total deaths\": 42, \"daily new deaths\": 16.0}, {\"date\": \"1/26/20\", \"total confirmed\": 2118, \"daily new cases\": 684.0, \"total recovered\": 52, \"daily new recovered\": 13.0, \"total deaths\": 56, \"daily new deaths\": 14.0}, {\"date\": \"1/27/20\", \"total confirmed\": 2927, \"daily new cases\": 809.0, \"total recovered\": 61, \"daily new recovered\": 9.0, \"total deaths\": 82, \"daily new deaths\": 26.0}, {\"date\": \"1/28/20\", \"total confirmed\": 5578, \"daily new cases\": 2651.0, \"total recovered\": 107, \"daily new recovered\": 46.0, \"total deaths\": 131, \"daily new deaths\": 49.0}, {\"date\": \"1/29/20\", \"total confirmed\": 6167, \"daily new cases\": 589.0, \"total recovered\": 126, \"daily new recovered\": 19.0, \"total deaths\": 133, \"daily new deaths\": 2.0}, {\"date\": \"1/30/20\", \"total confirmed\": 8235, \"daily new cases\": 2068.0, \"total recovered\": 143, \"daily new recovered\": 17.0, \"total deaths\": 171, \"daily new deaths\": 38.0}, {\"date\": \"1/31/20\", \"total confirmed\": 9927, \"daily new cases\": 1692.0, \"total recovered\": 222, \"daily new recovered\": 79.0, \"total deaths\": 213, \"daily new deaths\": 42.0}, {\"date\": \"2/1/20\", \"total confirmed\": 12038, \"daily new cases\": 2111.0, \"total recovered\": 284, \"daily new recovered\": 62.0, \"total deaths\": 259, \"daily new deaths\": 46.0}, {\"date\": \"2/2/20\", \"total confirmed\": 16787, \"daily new cases\": 4749.0, \"total recovered\": 472, \"daily new recovered\": 188.0, \"total deaths\": 362, \"daily new deaths\": 103.0}, {\"date\": \"2/3/20\", \"total confirmed\": 19887, \"daily new cases\": 3100.0, \"total recovered\": 623, \"daily new recovered\": 151.0, \"total deaths\": 426, \"daily new deaths\": 64.0}, {\"date\": \"2/4/20\", \"total confirmed\": 23898, \"daily new cases\": 4011.0, \"total recovered\": 852, \"daily new recovered\": 229.0, \"total deaths\": 492, \"daily new deaths\": 66.0}, {\"date\": \"2/5/20\", \"total confirmed\": 27643, \"daily new cases\": 3745.0, \"total recovered\": 1124, \"daily new recovered\": 272.0, \"total deaths\": 564, \"daily new deaths\": 72.0}, {\"date\": \"2/6/20\", \"total confirmed\": 30803, \"daily new cases\": 3160.0, \"total recovered\": 1487, \"daily new recovered\": 363.0, \"total deaths\": 634, \"daily new deaths\": 70.0}, {\"date\": \"2/7/20\", \"total confirmed\": 34396, \"daily new cases\": 3593.0, \"total recovered\": 2011, \"daily new recovered\": 524.0, \"total deaths\": 719, \"daily new deaths\": 85.0}, {\"date\": \"2/8/20\", \"total confirmed\": 37130, \"daily new cases\": 2734.0, \"total recovered\": 2616, \"daily new recovered\": 605.0, \"total deaths\": 806, \"daily new deaths\": 87.0}, {\"date\": \"2/9/20\", \"total confirmed\": 40160, \"daily new cases\": 3030.0, \"total recovered\": 3244, \"daily new recovered\": 628.0, \"total deaths\": 906, \"daily new deaths\": 100.0}, {\"date\": \"2/10/20\", \"total confirmed\": 42769, \"daily new cases\": 2609.0, \"total recovered\": 3946, \"daily new recovered\": 702.0, \"total deaths\": 1013, \"daily new deaths\": 107.0}, {\"date\": \"2/11/20\", \"total confirmed\": 44811, \"daily new cases\": 2042.0, \"total recovered\": 4683, \"daily new recovered\": 737.0, \"total deaths\": 1113, \"daily new deaths\": 100.0}, {\"date\": \"2/12/20\", \"total confirmed\": 45229, \"daily new cases\": 418.0, \"total recovered\": 5150, \"daily new recovered\": 467.0, \"total deaths\": 1118, \"daily new deaths\": 5.0}, {\"date\": \"2/13/20\", \"total confirmed\": 60382, \"daily new cases\": 15153.0, \"total recovered\": 6295, \"daily new recovered\": 1145.0, \"total deaths\": 1371, \"daily new deaths\": 253.0}, {\"date\": \"2/14/20\", \"total confirmed\": 66909, \"daily new cases\": 6527.0, \"total recovered\": 8058, \"daily new recovered\": 1763.0, \"total deaths\": 1523, \"daily new deaths\": 152.0}, {\"date\": \"2/15/20\", \"total confirmed\": 69051, \"daily new cases\": 2142.0, \"total recovered\": 9395, \"daily new recovered\": 1337.0, \"total deaths\": 1666, \"daily new deaths\": 143.0}, {\"date\": \"2/16/20\", \"total confirmed\": 71235, \"daily new cases\": 2184.0, \"total recovered\": 10865, \"daily new recovered\": 1470.0, \"total deaths\": 1770, \"daily new deaths\": 104.0}, {\"date\": \"2/17/20\", \"total confirmed\": 73270, \"daily new cases\": 2035.0, \"total recovered\": 12583, \"daily new recovered\": 1718.0, \"total deaths\": 1868, \"daily new deaths\": 98.0}, {\"date\": \"2/18/20\", \"total confirmed\": 75152, \"daily new cases\": 1882.0, \"total recovered\": 14352, \"daily new recovered\": 1769.0, \"total deaths\": 2008, \"daily new deaths\": 140.0}, {\"date\": \"2/19/20\", \"total confirmed\": 75652, \"daily new cases\": 500.0, \"total recovered\": 16121, \"daily new recovered\": 1769.0, \"total deaths\": 2123, \"daily new deaths\": 115.0}, {\"date\": \"2/20/20\", \"total confirmed\": 76212, \"daily new cases\": 560.0, \"total recovered\": 18177, \"daily new recovered\": 2056.0, \"total deaths\": 2248, \"daily new deaths\": 125.0}, {\"date\": \"2/21/20\", \"total confirmed\": 76841, \"daily new cases\": 629.0, \"total recovered\": 18890, \"daily new recovered\": 713.0, \"total deaths\": 2252, \"daily new deaths\": 4.0}, {\"date\": \"2/22/20\", \"total confirmed\": 78602, \"daily new cases\": 1761.0, \"total recovered\": 22886, \"daily new recovered\": 3996.0, \"total deaths\": 2459, \"daily new deaths\": 207.0}, {\"date\": \"2/23/20\", \"total confirmed\": 78982, \"daily new cases\": 380.0, \"total recovered\": 23394, \"daily new recovered\": 508.0, \"total deaths\": 2470, \"daily new deaths\": 11.0}, {\"date\": \"2/24/20\", \"total confirmed\": 79546, \"daily new cases\": 564.0, \"total recovered\": 25227, \"daily new recovered\": 1833.0, \"total deaths\": 2630, \"daily new deaths\": 160.0}, {\"date\": \"2/25/20\", \"total confirmed\": 80399, \"daily new cases\": 853.0, \"total recovered\": 27905, \"daily new recovered\": 2678.0, \"total deaths\": 2710, \"daily new deaths\": 80.0}, {\"date\": \"2/26/20\", \"total confirmed\": 81376, \"daily new cases\": 977.0, \"total recovered\": 30384, \"daily new recovered\": 2479.0, \"total deaths\": 2771, \"daily new deaths\": 61.0}, {\"date\": \"2/27/20\", \"total confirmed\": 82736, \"daily new cases\": 1360.0, \"total recovered\": 33277, \"daily new recovered\": 2893.0, \"total deaths\": 2814, \"daily new deaths\": 43.0}, {\"date\": \"2/28/20\", \"total confirmed\": 84121, \"daily new cases\": 1385.0, \"total recovered\": 36711, \"daily new recovered\": 3434.0, \"total deaths\": 2873, \"daily new deaths\": 59.0}, {\"date\": \"2/29/20\", \"total confirmed\": 86014, \"daily new cases\": 1893.0, \"total recovered\": 39782, \"daily new recovered\": 3071.0, \"total deaths\": 2942, \"daily new deaths\": 69.0}, {\"date\": \"3/1/20\", \"total confirmed\": 88397, \"daily new cases\": 2383.0, \"total recovered\": 42716, \"daily new recovered\": 2934.0, \"total deaths\": 2996, \"daily new deaths\": 54.0}, {\"date\": \"3/2/20\", \"total confirmed\": 90375, \"daily new cases\": 1978.0, \"total recovered\": 45602, \"daily new recovered\": 2886.0, \"total deaths\": 3085, \"daily new deaths\": 89.0}, {\"date\": \"3/3/20\", \"total confirmed\": 92959, \"daily new cases\": 2584.0, \"total recovered\": 48228, \"daily new recovered\": 2626.0, \"total deaths\": 3160, \"daily new deaths\": 75.0}, {\"date\": \"3/4/20\", \"total confirmed\": 95276, \"daily new cases\": 2317.0, \"total recovered\": 51170, \"daily new recovered\": 2942.0, \"total deaths\": 3255, \"daily new deaths\": 95.0}, {\"date\": \"3/5/20\", \"total confirmed\": 98040, \"daily new cases\": 2764.0, \"total recovered\": 53796, \"daily new recovered\": 2626.0, \"total deaths\": 3348, \"daily new deaths\": 93.0}, {\"date\": \"3/6/20\", \"total confirmed\": 102040, \"daily new cases\": 4000.0, \"total recovered\": 55865, \"daily new recovered\": 2069.0, \"total deaths\": 3460, \"daily new deaths\": 112.0}, {\"date\": \"3/7/20\", \"total confirmed\": 106102, \"daily new cases\": 4062.0, \"total recovered\": 58359, \"daily new recovered\": 2494.0, \"total deaths\": 3559, \"daily new deaths\": 99.0}, {\"date\": \"3/8/20\", \"total confirmed\": 110062, \"daily new cases\": 3960.0, \"total recovered\": 60694, \"daily new recovered\": 2335.0, \"total deaths\": 3803, \"daily new deaths\": 244.0}, {\"date\": \"3/9/20\", \"total confirmed\": 114025, \"daily new cases\": 3963.0, \"total recovered\": 62493, \"daily new recovered\": 1799.0, \"total deaths\": 3987, \"daily new deaths\": 184.0}, {\"date\": \"3/10/20\", \"total confirmed\": 119036, \"daily new cases\": 5011.0, \"total recovered\": 64404, \"daily new recovered\": 1911.0, \"total deaths\": 4267, \"daily new deaths\": 280.0}, {\"date\": \"3/11/20\", \"total confirmed\": 126717, \"daily new cases\": 7681.0, \"total recovered\": 67002, \"daily new recovered\": 2598.0, \"total deaths\": 4611, \"daily new deaths\": 344.0}, {\"date\": \"3/12/20\", \"total confirmed\": 132506, \"daily new cases\": 5789.0, \"total recovered\": 68324, \"daily new recovered\": 1322.0, \"total deaths\": 4917, \"daily new deaths\": 306.0}, {\"date\": \"3/13/20\", \"total confirmed\": 146887, \"daily new cases\": 14381.0, \"total recovered\": 70251, \"daily new recovered\": 1927.0, \"total deaths\": 5414, \"daily new deaths\": 497.0}, {\"date\": \"3/14/20\", \"total confirmed\": 157965, \"daily new cases\": 11078.0, \"total recovered\": 72622, \"daily new recovered\": 2371.0, \"total deaths\": 5834, \"daily new deaths\": 420.0}, {\"date\": \"3/15/20\", \"total confirmed\": 169258, \"daily new cases\": 11293.0, \"total recovered\": 76032, \"daily new recovered\": 3410.0, \"total deaths\": 6475, \"daily new deaths\": 641.0}, {\"date\": \"3/16/20\", \"total confirmed\": 184002, \"daily new cases\": 14744.0, \"total recovered\": 78086, \"daily new recovered\": 2054.0, \"total deaths\": 7153, \"daily new deaths\": 678.0}, {\"date\": \"3/17/20\", \"total confirmed\": 199933, \"daily new cases\": 15931.0, \"total recovered\": 80838, \"daily new recovered\": 2752.0, \"total deaths\": 7964, \"daily new deaths\": 811.0}, {\"date\": \"3/18/20\", \"total confirmed\": 219466, \"daily new cases\": 19533.0, \"total recovered\": 83321, \"daily new recovered\": 2483.0, \"total deaths\": 8867, \"daily new deaths\": 903.0}, {\"date\": \"3/19/20\", \"total confirmed\": 246622, \"daily new cases\": 27156.0, \"total recovered\": 84958, \"daily new recovered\": 1637.0, \"total deaths\": 9980, \"daily new deaths\": 1113.0}, {\"date\": \"3/20/20\", \"total confirmed\": 277257, \"daily new cases\": 30635.0, \"total recovered\": 87403, \"daily new recovered\": 2445.0, \"total deaths\": 11461, \"daily new deaths\": 1481.0}, {\"date\": \"3/21/20\", \"total confirmed\": 309226, \"daily new cases\": 31969.0, \"total recovered\": 91670, \"daily new recovered\": 4267.0, \"total deaths\": 13181, \"daily new deaths\": 1720.0}, {\"date\": \"3/22/20\", \"total confirmed\": 343464, \"daily new cases\": 34238.0, \"total recovered\": 97885, \"daily new recovered\": 6215.0, \"total deaths\": 14855, \"daily new deaths\": 1674.0}, {\"date\": \"3/23/20\", \"total confirmed\": 386832, \"daily new cases\": 43368.0, \"total recovered\": 98351, \"daily new recovered\": 466.0, \"total deaths\": 16797, \"daily new deaths\": 1942.0}, {\"date\": \"3/24/20\", \"total confirmed\": 428304, \"daily new cases\": 41472.0, \"total recovered\": 107992, \"daily new recovered\": 9641.0, \"total deaths\": 19081, \"daily new deaths\": 2284.0}, {\"date\": \"3/25/20\", \"total confirmed\": 479288, \"daily new cases\": 50984.0, \"total recovered\": 113775, \"daily new recovered\": 5783.0, \"total deaths\": 21881, \"daily new deaths\": 2800.0}, {\"date\": \"3/26/20\", \"total confirmed\": 542014, \"daily new cases\": 62726.0, \"total recovered\": 122145, \"daily new recovered\": 8370.0, \"total deaths\": 24901, \"daily new deaths\": 3020.0}, {\"date\": \"3/27/20\", \"total confirmed\": 607005, \"daily new cases\": 64991.0, \"total recovered\": 130921, \"daily new recovered\": 8776.0, \"total deaths\": 28394, \"daily new deaths\": 3493.0}, {\"date\": \"3/28/20\", \"total confirmed\": 674387, \"daily new cases\": 67382.0, \"total recovered\": 139424, \"daily new recovered\": 8503.0, \"total deaths\": 32107, \"daily new deaths\": 3713.0}, {\"date\": \"3/29/20\", \"total confirmed\": 733786, \"daily new cases\": 59399.0, \"total recovered\": 148891, \"daily new recovered\": 9467.0, \"total deaths\": 35584, \"daily new deaths\": 3477.0}, {\"date\": \"3/30/20\", \"total confirmed\": 799023, \"daily new cases\": 65237.0, \"total recovered\": 164337, \"daily new recovered\": 15446.0, \"total deaths\": 39636, \"daily new deaths\": 4052.0}, {\"date\": \"3/31/20\", \"total confirmed\": 875852, \"daily new cases\": 76829.0, \"total recovered\": 177825, \"daily new recovered\": 13488.0, \"total deaths\": 44388, \"daily new deaths\": 4752.0}, {\"date\": \"4/1/20\", \"total confirmed\": 952378, \"daily new cases\": 76526.0, \"total recovered\": 192918, \"daily new recovered\": 15093.0, \"total deaths\": 49894, \"daily new deaths\": 5506.0}, {\"date\": \"4/2/20\", \"total confirmed\": 1033709, \"daily new cases\": 81331.0, \"total recovered\": 209967, \"daily new recovered\": 17049.0, \"total deaths\": 56131, \"daily new deaths\": 6237.0}, {\"date\": \"4/3/20\", \"total confirmed\": 1116962, \"daily new cases\": 83253.0, \"total recovered\": 225415, \"daily new recovered\": 15448.0, \"total deaths\": 62237, \"daily new deaths\": 6106.0}, {\"date\": \"4/4/20\", \"total confirmed\": 1197316, \"daily new cases\": 80354.0, \"total recovered\": 245832, \"daily new recovered\": 20417.0, \"total deaths\": 68404, \"daily new deaths\": 6167.0}, {\"date\": \"4/5/20\", \"total confirmed\": 1269293, \"daily new cases\": 71977.0, \"total recovered\": 259672, \"daily new recovered\": 13840.0, \"total deaths\": 73569, \"daily new deaths\": 5165.0}, {\"date\": \"4/6/20\", \"total confirmed\": 1342527, \"daily new cases\": 73234.0, \"total recovered\": 276252, \"daily new recovered\": 16580.0, \"total deaths\": 79516, \"daily new deaths\": 5947.0}, {\"date\": \"4/7/20\", \"total confirmed\": 1420267, \"daily new cases\": 77740.0, \"total recovered\": 299643, \"daily new recovered\": 23391.0, \"total deaths\": 87740, \"daily new deaths\": 8224.0}, {\"date\": \"4/8/20\", \"total confirmed\": 1504298, \"daily new cases\": 84031.0, \"total recovered\": 328359, \"daily new recovered\": 28716.0, \"total deaths\": 94501, \"daily new deaths\": 6761.0}, {\"date\": \"4/9/20\", \"total confirmed\": 1590779, \"daily new cases\": 86481.0, \"total recovered\": 353707, \"daily new recovered\": 25348.0, \"total deaths\": 102277, \"daily new deaths\": 7776.0}, {\"date\": \"4/10/20\", \"total confirmed\": 1678319, \"daily new cases\": 87540.0, \"total recovered\": 375509, \"daily new recovered\": 21802.0, \"total deaths\": 109662, \"daily new deaths\": 7385.0}, {\"date\": \"4/11/20\", \"total confirmed\": 1754535, \"daily new cases\": 76216.0, \"total recovered\": 401766, \"daily new recovered\": 26257.0, \"total deaths\": 115903, \"daily new deaths\": 6241.0}, {\"date\": \"4/12/20\", \"total confirmed\": 1849888, \"daily new cases\": 95353.0, \"total recovered\": 421180, \"daily new recovered\": 19414.0, \"total deaths\": 121712, \"daily new deaths\": 5809.0}, {\"date\": \"4/13/20\", \"total confirmed\": 1920033, \"daily new cases\": 70145.0, \"total recovered\": 448347, \"daily new recovered\": 27167.0, \"total deaths\": 127628, \"daily new deaths\": 5916.0}, {\"date\": \"4/14/20\", \"total confirmed\": 1991379, \"daily new cases\": 71346.0, \"total recovered\": 473436, \"daily new recovered\": 25089.0, \"total deaths\": 134598, \"daily new deaths\": 6970.0}, {\"date\": \"4/15/20\", \"total confirmed\": 2073252, \"daily new cases\": 81873.0, \"total recovered\": 510106, \"daily new recovered\": 36670.0, \"total deaths\": 142949, \"daily new deaths\": 8351.0}, {\"date\": \"4/16/20\", \"total confirmed\": 2170173, \"daily new cases\": 96921.0, \"total recovered\": 540926, \"daily new recovered\": 30820.0, \"total deaths\": 150247, \"daily new deaths\": 7298.0}, {\"date\": \"4/17/20\", \"total confirmed\": 2257986, \"daily new cases\": 87813.0, \"total recovered\": 567049, \"daily new recovered\": 26123.0, \"total deaths\": 158612, \"daily new deaths\": 8365.0}, {\"date\": \"4/18/20\", \"total confirmed\": 2331380, \"daily new cases\": 73394.0, \"total recovered\": 590968, \"daily new recovered\": 23919.0, \"total deaths\": 164635, \"daily new deaths\": 6023.0}, {\"date\": \"4/19/20\", \"total confirmed\": 2411352, \"daily new cases\": 79972.0, \"total recovered\": 622623, \"daily new recovered\": 31655.0, \"total deaths\": 169897, \"daily new deaths\": 5262.0}, {\"date\": \"4/20/20\", \"total confirmed\": 2485855, \"daily new cases\": 74503.0, \"total recovered\": 644613, \"daily new recovered\": 21990.0, \"total deaths\": 175755, \"daily new deaths\": 5858.0}, {\"date\": \"4/21/20\", \"total confirmed\": 2561734, \"daily new cases\": 75879.0, \"total recovered\": 679456, \"daily new recovered\": 34843.0, \"total deaths\": 182940, \"daily new deaths\": 7185.0}, {\"date\": \"4/22/20\", \"total confirmed\": 2639753, \"daily new cases\": 78019.0, \"total recovered\": 709881, \"daily new recovered\": 30425.0, \"total deaths\": 189671, \"daily new deaths\": 6731.0}, {\"date\": \"4/23/20\", \"total confirmed\": 2727810, \"daily new cases\": 88057.0, \"total recovered\": 738661, \"daily new recovered\": 28780.0, \"total deaths\": 196509, \"daily new deaths\": 6838.0}, {\"date\": \"4/24/20\", \"total confirmed\": 2812183, \"daily new cases\": 84373.0, \"total recovered\": 788712, \"daily new recovered\": 50051.0, \"total deaths\": 203172, \"daily new deaths\": 6663.0}, {\"date\": \"4/25/20\", \"total confirmed\": 2895430, \"daily new cases\": 83247.0, \"total recovered\": 816491, \"daily new recovered\": 27779.0, \"total deaths\": 208809, \"daily new deaths\": 5637.0}, {\"date\": \"4/26/20\", \"total confirmed\": 2967570, \"daily new cases\": 72140.0, \"total recovered\": 845096, \"daily new recovered\": 28605.0, \"total deaths\": 212748, \"daily new deaths\": 3939.0}, {\"date\": \"4/27/20\", \"total confirmed\": 3037260, \"daily new cases\": 69690.0, \"total recovered\": 872865, \"daily new recovered\": 27769.0, \"total deaths\": 217421, \"daily new deaths\": 4673.0}, {\"date\": \"4/28/20\", \"total confirmed\": 3112744, \"daily new cases\": 75484.0, \"total recovered\": 906136, \"daily new recovered\": 33271.0, \"total deaths\": 223968, \"daily new deaths\": 6547.0}, {\"date\": \"4/29/20\", \"total confirmed\": 3190206, \"daily new cases\": 77462.0, \"total recovered\": 948318, \"daily new recovered\": 42182.0, \"total deaths\": 230702, \"daily new deaths\": 6734.0}, {\"date\": \"4/30/20\", \"total confirmed\": 3273554, \"daily new cases\": 83348.0, \"total recovered\": 1013284, \"daily new recovered\": 64966.0, \"total deaths\": 236698, \"daily new deaths\": 5996.0}, {\"date\": \"5/1/20\", \"total confirmed\": 3360744, \"daily new cases\": 87190.0, \"total recovered\": 1051537, \"daily new recovered\": 38253.0, \"total deaths\": 241847, \"daily new deaths\": 5149.0}, {\"date\": \"5/2/20\", \"total confirmed\": 3440791, \"daily new cases\": 80047.0, \"total recovered\": 1092416, \"daily new recovered\": 40879.0, \"total deaths\": 247325, \"daily new deaths\": 5478.0}, {\"date\": \"5/3/20\", \"total confirmed\": 3517314, \"daily new cases\": 76523.0, \"total recovered\": 1124732, \"daily new recovered\": 32316.0, \"total deaths\": 250797, \"daily new deaths\": 3472.0}, {\"date\": \"5/4/20\", \"total confirmed\": 3594392, \"daily new cases\": 77078.0, \"total recovered\": 1158819, \"daily new recovered\": 34087.0, \"total deaths\": 254896, \"daily new deaths\": 4099.0}, {\"date\": \"5/5/20\", \"total confirmed\": 3674847, \"daily new cases\": 80455.0, \"total recovered\": 1195359, \"daily new recovered\": 36540.0, \"total deaths\": 260783, \"daily new deaths\": 5887.0}, {\"date\": \"5/6/20\", \"total confirmed\": 3764761, \"daily new cases\": 89914.0, \"total recovered\": 1241365, \"daily new recovered\": 46006.0, \"total deaths\": 267326, \"daily new deaths\": 6543.0}, {\"date\": \"5/7/20\", \"total confirmed\": 3853781, \"daily new cases\": 89020.0, \"total recovered\": 1280833, \"daily new recovered\": 39468.0, \"total deaths\": 272618, \"daily new deaths\": 5292.0}, {\"date\": \"5/8/20\", \"total confirmed\": 3944952, \"daily new cases\": 91171.0, \"total recovered\": 1317383, \"daily new recovered\": 36550.0, \"total deaths\": 278098, \"daily new deaths\": 5480.0}, {\"date\": \"5/9/20\", \"total confirmed\": 4029875, \"daily new cases\": 84923.0, \"total recovered\": 1370933, \"daily new recovered\": 53550.0, \"total deaths\": 282385, \"daily new deaths\": 4287.0}, {\"date\": \"5/10/20\", \"total confirmed\": 4105071, \"daily new cases\": 75196.0, \"total recovered\": 1404527, \"daily new recovered\": 33594.0, \"total deaths\": 285979, \"daily new deaths\": 3594.0}, {\"date\": \"5/11/20\", \"total confirmed\": 4181946, \"daily new cases\": 76875.0, \"total recovered\": 1451521, \"daily new recovered\": 46994.0, \"total deaths\": 289447, \"daily new deaths\": 3468.0}, {\"date\": \"5/12/20\", \"total confirmed\": 4266204, \"daily new cases\": 84258.0, \"total recovered\": 1488542, \"daily new recovered\": 37021.0, \"total deaths\": 294969, \"daily new deaths\": 5522.0}, {\"date\": \"5/13/20\", \"total confirmed\": 4351024, \"daily new cases\": 84820.0, \"total recovered\": 1544398, \"daily new recovered\": 55856.0, \"total deaths\": 300046, \"daily new deaths\": 5077.0}, {\"date\": \"5/14/20\", \"total confirmed\": 4447706, \"daily new cases\": 96682.0, \"total recovered\": 1584114, \"daily new recovered\": 39716.0, \"total deaths\": 305227, \"daily new deaths\": 5181.0}, {\"date\": \"5/15/20\", \"total confirmed\": 4544030, \"daily new cases\": 96324.0, \"total recovered\": 1632122, \"daily new recovered\": 48008.0, \"total deaths\": 310343, \"daily new deaths\": 5116.0}, {\"date\": \"5/16/20\", \"total confirmed\": 4638236, \"daily new cases\": 94206.0, \"total recovered\": 1688714, \"daily new recovered\": 56592.0, \"total deaths\": 314519, \"daily new deaths\": 4176.0}, {\"date\": \"5/17/20\", \"total confirmed\": 4715641, \"daily new cases\": 77405.0, \"total recovered\": 1729621, \"daily new recovered\": 40907.0, \"total deaths\": 317804, \"daily new deaths\": 3285.0}, {\"date\": \"5/18/20\", \"total confirmed\": 4804359, \"daily new cases\": 88718.0, \"total recovered\": 1782542, \"daily new recovered\": 52921.0, \"total deaths\": 321499, \"daily new deaths\": 3695.0}, {\"date\": \"5/19/20\", \"total confirmed\": 4901497, \"daily new cases\": 97138.0, \"total recovered\": 1834647, \"daily new recovered\": 52105.0, \"total deaths\": 326219, \"daily new deaths\": 4720.0}, {\"date\": \"5/20/20\", \"total confirmed\": 5004250, \"daily new cases\": 102753.0, \"total recovered\": 1893575, \"daily new recovered\": 58928.0, \"total deaths\": 330979, \"daily new deaths\": 4760.0}, {\"date\": \"5/21/20\", \"total confirmed\": 5110815, \"daily new cases\": 106565.0, \"total recovered\": 1944840, \"daily new recovered\": 51265.0, \"total deaths\": 335704, \"daily new deaths\": 4725.0}, {\"date\": \"5/22/20\", \"total confirmed\": 5216798, \"daily new cases\": 105983.0, \"total recovered\": 2053491, \"daily new recovered\": 108651.0, \"total deaths\": 340899, \"daily new deaths\": 5195.0}, {\"date\": \"5/23/20\", \"total confirmed\": 5321424, \"daily new cases\": 104626.0, \"total recovered\": 2108462, \"daily new recovered\": 54971.0, \"total deaths\": 344815, \"daily new deaths\": 3916.0}, {\"date\": \"5/24/20\", \"total confirmed\": 5415901, \"daily new cases\": 94477.0, \"total recovered\": 2163902, \"daily new recovered\": 55440.0, \"total deaths\": 347937, \"daily new deaths\": 3122.0}, {\"date\": \"5/25/20\", \"total confirmed\": 5502250, \"daily new cases\": 86349.0, \"total recovered\": 2227625, \"daily new recovered\": 63723.0, \"total deaths\": 349138, \"daily new deaths\": 1201.0}, {\"date\": \"5/26/20\", \"total confirmed\": 5595501, \"daily new cases\": 93251.0, \"total recovered\": 2282839, \"daily new recovered\": 55214.0, \"total deaths\": 353258, \"daily new deaths\": 4120.0}, {\"date\": \"5/27/20\", \"total confirmed\": 5698506, \"daily new cases\": 103005.0, \"total recovered\": 2346232, \"daily new recovered\": 63393.0, \"total deaths\": 358394, \"daily new deaths\": 5136.0}, {\"date\": \"5/28/20\", \"total confirmed\": 5818020, \"daily new cases\": 119514.0, \"total recovered\": 2413089, \"daily new recovered\": 66857.0, \"total deaths\": 363017, \"daily new deaths\": 4623.0}, {\"date\": \"5/29/20\", \"total confirmed\": 5938915, \"daily new cases\": 120895.0, \"total recovered\": 2490435, \"daily new recovered\": 77346.0, \"total deaths\": 367604, \"daily new deaths\": 4587.0}, {\"date\": \"5/30/20\", \"total confirmed\": 6075869, \"daily new cases\": 136954.0, \"total recovered\": 2560888, \"daily new recovered\": 70453.0, \"total deaths\": 371669, \"daily new deaths\": 4065.0}, {\"date\": \"5/31/20\", \"total confirmed\": 6182468, \"daily new cases\": 106599.0, \"total recovered\": 2637208, \"daily new recovered\": 76320.0, \"total deaths\": 374645, \"daily new deaths\": 2976.0}, {\"date\": \"6/1/20\", \"total confirmed\": 6277971, \"daily new cases\": 95503.0, \"total recovered\": 2692105, \"daily new recovered\": 54897.0, \"total deaths\": 377722, \"daily new deaths\": 3077.0}, {\"date\": \"6/2/20\", \"total confirmed\": 6399352, \"daily new cases\": 121381.0, \"total recovered\": 2796228, \"daily new recovered\": 104123.0, \"total deaths\": 382445, \"daily new deaths\": 4723.0}, {\"date\": \"6/3/20\", \"total confirmed\": 6517447, \"daily new cases\": 118095.0, \"total recovered\": 2875332, \"daily new recovered\": 79104.0, \"total deaths\": 387881, \"daily new deaths\": 5436.0}, {\"date\": \"6/4/20\", \"total confirmed\": 6644274, \"daily new cases\": 126827.0, \"total recovered\": 2945385, \"daily new recovered\": 70053.0, \"total deaths\": 392997, \"daily new deaths\": 5116.0}, {\"date\": \"6/5/20\", \"total confirmed\": 6775073, \"daily new cases\": 130799.0, \"total recovered\": 3014544, \"daily new recovered\": 69159.0, \"total deaths\": 397563, \"daily new deaths\": 4566.0}, {\"date\": \"6/6/20\", \"total confirmed\": 6909702, \"daily new cases\": 134629.0, \"total recovered\": 3086748, \"daily new recovered\": 72204.0, \"total deaths\": 401413, \"daily new deaths\": 3850.0}, {\"date\": \"6/7/20\", \"total confirmed\": 7021606, \"daily new cases\": 111904.0, \"total recovered\": 3141849, \"daily new recovered\": 55101.0, \"total deaths\": 404157, \"daily new deaths\": 2744.0}, {\"date\": \"6/8/20\", \"total confirmed\": 7124085, \"daily new cases\": 102479.0, \"total recovered\": 3293412, \"daily new recovered\": 151563.0, \"total deaths\": 407836, \"daily new deaths\": 3679.0}, {\"date\": \"6/9/20\", \"total confirmed\": 7248720, \"daily new cases\": 124635.0, \"total recovered\": 3375694, \"daily new recovered\": 82282.0, \"total deaths\": 412671, \"daily new deaths\": 4835.0}, {\"date\": \"6/10/20\", \"total confirmed\": 7383167, \"daily new cases\": 134447.0, \"total recovered\": 3454832, \"daily new recovered\": 79138.0, \"total deaths\": 417730, \"daily new deaths\": 5059.0}, {\"date\": \"6/11/20\", \"total confirmed\": 7521337, \"daily new cases\": 138170.0, \"total recovered\": 3540714, \"daily new recovered\": 85882.0, \"total deaths\": 422412, \"daily new deaths\": 4682.0}, {\"date\": \"6/12/20\", \"total confirmed\": 7649809, \"daily new cases\": 128472.0, \"total recovered\": 3620438, \"daily new recovered\": 79724.0, \"total deaths\": 426627, \"daily new deaths\": 4215.0}, {\"date\": \"6/13/20\", \"total confirmed\": 7785133, \"daily new cases\": 135324.0, \"total recovered\": 3706372, \"daily new recovered\": 85934.0, \"total deaths\": 430818, \"daily new deaths\": 4191.0}, {\"date\": \"6/14/20\", \"total confirmed\": 7917785, \"daily new cases\": 132652.0, \"total recovered\": 3777157, \"daily new recovered\": 70785.0, \"total deaths\": 434230, \"daily new deaths\": 3412.0}, {\"date\": \"6/15/20\", \"total confirmed\": 8037530, \"daily new cases\": 119745.0, \"total recovered\": 3857365, \"daily new recovered\": 80208.0, \"total deaths\": 437649, \"daily new deaths\": 3419.0}, {\"date\": \"6/16/20\", \"total confirmed\": 8179373, \"daily new cases\": 141843.0, \"total recovered\": 3955205, \"daily new recovered\": 97840.0, \"total deaths\": 444367, \"daily new deaths\": 6718.0}, {\"date\": \"6/17/20\", \"total confirmed\": 8321890, \"daily new cases\": 142517.0, \"total recovered\": 4073992, \"daily new recovered\": 118787.0, \"total deaths\": 449456, \"daily new deaths\": 5089.0}, {\"date\": \"6/18/20\", \"total confirmed\": 8462195, \"daily new cases\": 140305.0, \"total recovered\": 4155134, \"daily new recovered\": 81142.0, \"total deaths\": 454436, \"daily new deaths\": 4980.0}, {\"date\": \"6/19/20\", \"total confirmed\": 8642028, \"daily new cases\": 179833.0, \"total recovered\": 4250149, \"daily new recovered\": 95015.0, \"total deaths\": 460586, \"daily new deaths\": 6150.0}, {\"date\": \"6/20/20\", \"total confirmed\": 8799120, \"daily new cases\": 157092.0, \"total recovered\": 4365974, \"daily new recovered\": 115825.0, \"total deaths\": 464790, \"daily new deaths\": 4204.0}, {\"date\": \"6/21/20\", \"total confirmed\": 8927408, \"daily new cases\": 128288.0, \"total recovered\": 4434711, \"daily new recovered\": 68737.0, \"total deaths\": 468799, \"daily new deaths\": 4009.0}, {\"date\": \"6/22/20\", \"total confirmed\": 9065315, \"daily new cases\": 137907.0, \"total recovered\": 4526337, \"daily new recovered\": 91626.0, \"total deaths\": 472358, \"daily new deaths\": 3559.0}, {\"date\": \"6/23/20\", \"total confirmed\": 9230605, \"daily new cases\": 165290.0, \"total recovered\": 4630412, \"daily new recovered\": 104075.0, \"total deaths\": 477580, \"daily new deaths\": 5222.0}, {\"date\": \"6/24/20\", \"total confirmed\": 9401467, \"daily new cases\": 170862.0, \"total recovered\": 4746172, \"daily new recovered\": 115760.0, \"total deaths\": 482750, \"daily new deaths\": 5170.0}, {\"date\": \"6/25/20\", \"total confirmed\": 9579792, \"daily new cases\": 178325.0, \"total recovered\": 4839028, \"daily new recovered\": 92856.0, \"total deaths\": 487444, \"daily new deaths\": 4694.0}, {\"date\": \"6/26/20\", \"total confirmed\": 9771190, \"daily new cases\": 191398.0, \"total recovered\": 4945742, \"daily new recovered\": 106714.0, \"total deaths\": 492146, \"daily new deaths\": 4702.0}, {\"date\": \"6/27/20\", \"total confirmed\": 9949650, \"daily new cases\": 178460.0, \"total recovered\": 5052107, \"daily new recovered\": 106365.0, \"total deaths\": 496609, \"daily new deaths\": 4463.0}, {\"date\": \"6/28/20\", \"total confirmed\": 10111445, \"daily new cases\": 161795.0, \"total recovered\": 5141227, \"daily new recovered\": 89120.0, \"total deaths\": 499752, \"daily new deaths\": 3143.0}, {\"date\": \"6/29/20\", \"total confirmed\": 10267631, \"daily new cases\": 156186.0, \"total recovered\": 5235793, \"daily new recovered\": 94566.0, \"total deaths\": 503476, \"daily new deaths\": 3724.0}, {\"date\": \"6/30/20\", \"total confirmed\": 10441739, \"daily new cases\": 174108.0, \"total recovered\": 5353115, \"daily new recovered\": 117322.0, \"total deaths\": 508425, \"daily new deaths\": 4949.0}, {\"date\": \"7/1/20\", \"total confirmed\": 10658951, \"daily new cases\": 217212.0, \"total recovered\": 5469041, \"daily new recovered\": 115926.0, \"total deaths\": 513353, \"daily new deaths\": 4928.0}, {\"date\": \"7/2/20\", \"total confirmed\": 10867065, \"daily new cases\": 208114.0, \"total recovered\": 5753918, \"daily new recovered\": 284877.0, \"total deaths\": 518416, \"daily new deaths\": 5063.0}, {\"date\": \"7/3/20\", \"total confirmed\": 11069750, \"daily new cases\": 202685.0, \"total recovered\": 5863818, \"daily new recovered\": 109900.0, \"total deaths\": 523351, \"daily new deaths\": 4935.0}, {\"date\": \"7/4/20\", \"total confirmed\": 11263591, \"daily new cases\": 193841.0, \"total recovered\": 6059651, \"daily new recovered\": 195833.0, \"total deaths\": 527719, \"daily new deaths\": 4368.0}, {\"date\": \"7/5/20\", \"total confirmed\": 11446487, \"daily new cases\": 182896.0, \"total recovered\": 6178973, \"daily new recovered\": 119322.0, \"total deaths\": 531192, \"daily new deaths\": 3473.0}, {\"date\": \"7/6/20\", \"total confirmed\": 11611692, \"daily new cases\": 165205.0, \"total recovered\": 6302585, \"daily new recovered\": 123612.0, \"total deaths\": 535019, \"daily new deaths\": 3827.0}, {\"date\": \"7/7/20\", \"total confirmed\": 11822619, \"daily new cases\": 210927.0, \"total recovered\": 6447610, \"daily new recovered\": 145025.0, \"total deaths\": 541034, \"daily new deaths\": 6015.0}, {\"date\": \"7/8/20\", \"total confirmed\": 12035018, \"daily new cases\": 212399.0, \"total recovered\": 6605559, \"daily new recovered\": 157949.0, \"total deaths\": 546307, \"daily new deaths\": 5273.0}, {\"date\": \"7/9/20\", \"total confirmed\": 12263083, \"daily new cases\": 228065.0, \"total recovered\": 6740073, \"daily new recovered\": 134514.0, \"total deaths\": 551715, \"daily new deaths\": 5408.0}, {\"date\": \"7/10/20\", \"total confirmed\": 12495240, \"daily new cases\": 232157.0, \"total recovered\": 6879465, \"daily new recovered\": 139392.0, \"total deaths\": 557007, \"daily new deaths\": 5292.0}, {\"date\": \"7/11/20\", \"total confirmed\": 12711512, \"daily new cases\": 216272.0, \"total recovered\": 7005174, \"daily new recovered\": 125709.0, \"total deaths\": 561795, \"daily new deaths\": 4788.0}, {\"date\": \"7/12/20\", \"total confirmed\": 12904017, \"daily new cases\": 192505.0, \"total recovered\": 7116853, \"daily new recovered\": 111679.0, \"total deaths\": 565787, \"daily new deaths\": 3992.0}, {\"date\": \"7/13/20\", \"total confirmed\": 13096205, \"daily new cases\": 192188.0, \"total recovered\": 7257197, \"daily new recovered\": 140344.0, \"total deaths\": 569601, \"daily new deaths\": 3814.0}, {\"date\": \"7/14/20\", \"total confirmed\": 13317524, \"daily new cases\": 221319.0, \"total recovered\": 7399397, \"daily new recovered\": 142200.0, \"total deaths\": 575190, \"daily new deaths\": 5589.0}, {\"date\": \"7/15/20\", \"total confirmed\": 13548634, \"daily new cases\": 231110.0, \"total recovered\": 7559178, \"daily new recovered\": 159781.0, \"total deaths\": 580628, \"daily new deaths\": 5438.0}, {\"date\": \"7/16/20\", \"total confirmed\": 13801199, \"daily new cases\": 252565.0, \"total recovered\": 7711548, \"daily new recovered\": 152370.0, \"total deaths\": 586385, \"daily new deaths\": 5757.0}, {\"date\": \"7/17/20\", \"total confirmed\": 14043071, \"daily new cases\": 241872.0, \"total recovered\": 7894858, \"daily new recovered\": 183310.0, \"total deaths\": 593044, \"daily new deaths\": 6659.0}, {\"date\": \"7/18/20\", \"total confirmed\": 14279827, \"daily new cases\": 236756.0, \"total recovered\": 8045815, \"daily new recovered\": 150957.0, \"total deaths\": 598659, \"daily new deaths\": 5615.0}, {\"date\": \"7/19/20\", \"total confirmed\": 14493749, \"daily new cases\": 213922.0, \"total recovered\": 8133692, \"daily new recovered\": 87877.0, \"total deaths\": 602717, \"daily new deaths\": 4058.0}, {\"date\": \"7/20/20\", \"total confirmed\": 14700303, \"daily new cases\": 206554.0, \"total recovered\": 8292688, \"daily new recovered\": 158996.0, \"total deaths\": 606895, \"daily new deaths\": 4178.0}, {\"date\": \"7/21/20\", \"total confirmed\": 14933710, \"daily new cases\": 233407.0, \"total recovered\": 8467335, \"daily new recovered\": 174647.0, \"total deaths\": 613058, \"daily new deaths\": 6163.0}, {\"date\": \"7/22/20\", \"total confirmed\": 15214538, \"daily new cases\": 280828.0, \"total recovered\": 8643722, \"daily new recovered\": 176387.0, \"total deaths\": 619984, \"daily new deaths\": 6926.0}, {\"date\": \"7/23/20\", \"total confirmed\": 15497459, \"daily new cases\": 282921.0, \"total recovered\": 8813886, \"daily new recovered\": 170164.0, \"total deaths\": 629879, \"daily new deaths\": 9895.0}, {\"date\": \"7/24/20\", \"total confirmed\": 15777780, \"daily new cases\": 280321.0, \"total recovered\": 9043203, \"daily new recovered\": 229317.0, \"total deaths\": 635912, \"daily new deaths\": 6033.0}, {\"date\": \"7/25/20\", \"total confirmed\": 16033181, \"daily new cases\": 255401.0, \"total recovered\": 9262520, \"daily new recovered\": 219317.0, \"total deaths\": 641447, \"daily new deaths\": 5535.0}, {\"date\": \"7/26/20\", \"total confirmed\": 16245990, \"daily new cases\": 212809.0, \"total recovered\": 9402996, \"daily new recovered\": 140476.0, \"total deaths\": 645118, \"daily new deaths\": 3671.0}, {\"date\": \"7/27/20\", \"total confirmed\": 16472188, \"daily new cases\": 226198.0, \"total recovered\": 9572619, \"daily new recovered\": 169623.0, \"total deaths\": 650290, \"daily new deaths\": 5172.0}, {\"date\": \"7/28/20\", \"total confirmed\": 16724421, \"daily new cases\": 252233.0, \"total recovered\": 9746473, \"daily new recovered\": 173854.0, \"total deaths\": 656599, \"daily new deaths\": 6309.0}, {\"date\": \"7/29/20\", \"total confirmed\": 17014028, \"daily new cases\": 289607.0, \"total recovered\": 9948163, \"daily new recovered\": 201690.0, \"total deaths\": 663171, \"daily new deaths\": 6572.0}, {\"date\": \"7/30/20\", \"total confirmed\": 17294158, \"daily new cases\": 280130.0, \"total recovered\": 10170650, \"daily new recovered\": 222487.0, \"total deaths\": 669184, \"daily new deaths\": 6013.0}, {\"date\": \"7/31/20\", \"total confirmed\": 17584349, \"daily new cases\": 290191.0, \"total recovered\": 10369255, \"daily new recovered\": 198605.0, \"total deaths\": 675387, \"daily new deaths\": 6203.0}, {\"date\": \"8/1/20\", \"total confirmed\": 17834465, \"daily new cases\": 250116.0, \"total recovered\": 10553852, \"daily new recovered\": 184597.0, \"total deaths\": 680873, \"daily new deaths\": 5486.0}, {\"date\": \"8/2/20\", \"total confirmed\": 18062665, \"daily new cases\": 228200.0, \"total recovered\": 10690555, \"daily new recovered\": 136703.0, \"total deaths\": 685148, \"daily new deaths\": 4275.0}, {\"date\": \"8/3/20\", \"total confirmed\": 18264102, \"daily new cases\": 201437.0, \"total recovered\": 10913000, \"daily new recovered\": 222445.0, \"total deaths\": 689472, \"daily new deaths\": 4324.0}, {\"date\": \"8/4/20\", \"total confirmed\": 18522551, \"daily new cases\": 258449.0, \"total recovered\": 11137165, \"daily new recovered\": 224165.0, \"total deaths\": 696389, \"daily new deaths\": 6917.0}, {\"date\": \"8/5/20\", \"total confirmed\": 18794790, \"daily new cases\": 272239.0, \"total recovered\": 11358861, \"daily new recovered\": 221696.0, \"total deaths\": 703356, \"daily new deaths\": 6967.0}, {\"date\": \"8/6/20\", \"total confirmed\": 19079535, \"daily new cases\": 284745.0, \"total recovered\": 11547831, \"daily new recovered\": 188970.0, \"total deaths\": 709848, \"daily new deaths\": 6492.0}, {\"date\": \"8/7/20\", \"total confirmed\": 19360274, \"daily new cases\": 280739.0, \"total recovered\": 11740482, \"daily new recovered\": 192651.0, \"total deaths\": 716145, \"daily new deaths\": 6297.0}, {\"date\": \"8/8/20\", \"total confirmed\": 19619325, \"daily new cases\": 259051.0, \"total recovered\": 11941861, \"daily new recovered\": 201379.0, \"total deaths\": 721574, \"daily new deaths\": 5429.0}, {\"date\": \"8/9/20\", \"total confirmed\": 19842617, \"daily new cases\": 223292.0, \"total recovered\": 12118746, \"daily new recovered\": 176885.0, \"total deaths\": 726131, \"daily new deaths\": 4557.0}, {\"date\": \"8/10/20\", \"total confirmed\": 20069642, \"daily new cases\": 227025.0, \"total recovered\": 12282977, \"daily new recovered\": 164231.0, \"total deaths\": 731039, \"daily new deaths\": 4908.0}, {\"date\": \"8/11/20\", \"total confirmed\": 20324450, \"daily new cases\": 254808.0, \"total recovered\": 12588120, \"daily new recovered\": 305143.0, \"total deaths\": 737475, \"daily new deaths\": 6436.0}, {\"date\": \"8/12/20\", \"total confirmed\": 20602423, \"daily new cases\": 277973.0, \"total recovered\": 12829625, \"daily new recovered\": 241505.0, \"total deaths\": 744095, \"daily new deaths\": 6620.0}, {\"date\": \"8/13/20\", \"total confirmed\": 20888374, \"daily new cases\": 285951.0, \"total recovered\": 12994838, \"daily new recovered\": 165213.0, \"total deaths\": 750306, \"daily new deaths\": 6211.0}, {\"date\": \"8/14/20\", \"total confirmed\": 21192603, \"daily new cases\": 304229.0, \"total recovered\": 13279288, \"daily new recovered\": 284450.0, \"total deaths\": 760437, \"daily new deaths\": 10131.0}, {\"date\": \"8/15/20\", \"total confirmed\": 21440241, \"daily new cases\": 247638.0, \"total recovered\": 13448301, \"daily new recovered\": 169013.0, \"total deaths\": 765782, \"daily new deaths\": 5345.0}, {\"date\": \"8/16/20\", \"total confirmed\": 21652169, \"daily new cases\": 211928.0, \"total recovered\": 13679557, \"daily new recovered\": 231256.0, \"total deaths\": 769985, \"daily new deaths\": 4203.0}, {\"date\": \"8/17/20\", \"total confirmed\": 21861938, \"daily new cases\": 209769.0, \"total recovered\": 13891142, \"daily new recovered\": 211585.0, \"total deaths\": 774126, \"daily new deaths\": 4141.0}, {\"date\": \"8/18/20\", \"total confirmed\": 22118012, \"daily new cases\": 256074.0, \"total recovered\": 14119129, \"daily new recovered\": 227987.0, \"total deaths\": 781012, \"daily new deaths\": 6886.0}, {\"date\": \"8/19/20\", \"total confirmed\": 22392471, \"daily new cases\": 274459.0, \"total recovered\": 14336714, \"daily new recovered\": 217585.0, \"total deaths\": 787749, \"daily new deaths\": 6737.0}, {\"date\": \"8/20/20\", \"total confirmed\": 22659722, \"daily new cases\": 267251.0, \"total recovered\": 14544618, \"daily new recovered\": 207904.0, \"total deaths\": 793786, \"daily new deaths\": 6037.0}, {\"date\": \"8/21/20\", \"total confirmed\": 22929317, \"daily new cases\": 269595.0, \"total recovered\": 14714711, \"daily new recovered\": 170093.0, \"total deaths\": 799284, \"daily new deaths\": 5498.0}, {\"date\": \"8/22/20\", \"total confirmed\": 23194351, \"daily new cases\": 265034.0, \"total recovered\": 14924833, \"daily new recovered\": 210122.0, \"total deaths\": 804858, \"daily new deaths\": 5574.0}, {\"date\": \"8/23/20\", \"total confirmed\": 23399855, \"daily new cases\": 205504.0, \"total recovered\": 15140069, \"daily new recovered\": 215236.0, \"total deaths\": 808715, \"daily new deaths\": 3857.0}, {\"date\": \"8/24/20\", \"total confirmed\": 23625991, \"daily new cases\": 226136.0, \"total recovered\": 15340270, \"daily new recovered\": 200201.0, \"total deaths\": 813080, \"daily new deaths\": 4365.0}, {\"date\": \"8/25/20\", \"total confirmed\": 23867949, \"daily new cases\": 241958.0, \"total recovered\": 15573057, \"daily new recovered\": 232787.0, \"total deaths\": 819456, \"daily new deaths\": 6376.0}, {\"date\": \"8/26/20\", \"total confirmed\": 24157646, \"daily new cases\": 289697.0, \"total recovered\": 15797560, \"daily new recovered\": 224503.0, \"total deaths\": 825747, \"daily new deaths\": 6291.0}, {\"date\": \"8/27/20\", \"total confirmed\": 24436720, \"daily new cases\": 279074.0, \"total recovered\": 15999266, \"daily new recovered\": 201706.0, \"total deaths\": 831632, \"daily new deaths\": 5885.0}, {\"date\": \"8/28/20\", \"total confirmed\": 24718050, \"daily new cases\": 281330.0, \"total recovered\": 16199844, \"daily new recovered\": 200578.0, \"total deaths\": 837148, \"daily new deaths\": 5516.0}, {\"date\": \"8/29/20\", \"total confirmed\": 24978746, \"daily new cases\": 260696.0, \"total recovered\": 16411585, \"daily new recovered\": 211741.0, \"total deaths\": 842535, \"daily new deaths\": 5387.0}, {\"date\": \"8/30/20\", \"total confirmed\": 25205088, \"daily new cases\": 226342.0, \"total recovered\": 16620139, \"daily new recovered\": 208554.0, \"total deaths\": 846446, \"daily new deaths\": 3911.0}, {\"date\": \"8/31/20\", \"total confirmed\": 25467520, \"daily new cases\": 262432.0, \"total recovered\": 16821702, \"daily new recovered\": 201563.0, \"total deaths\": 850659, \"daily new deaths\": 4213.0}, {\"date\": \"9/1/20\", \"total confirmed\": 25731709, \"daily new cases\": 264189.0, \"total recovered\": 17079381, \"daily new recovered\": 257679.0, \"total deaths\": 857145, \"daily new deaths\": 6486.0}, {\"date\": \"9/2/20\", \"total confirmed\": 26014463, \"daily new cases\": 282754.0, \"total recovered\": 17298150, \"daily new recovered\": 218769.0, \"total deaths\": 863160, \"daily new deaths\": 6015.0}, {\"date\": \"9/3/20\", \"total confirmed\": 26295319, \"daily new cases\": 280856.0, \"total recovered\": 17519051, \"daily new recovered\": 220901.0, \"total deaths\": 868871, \"daily new deaths\": 5711.0}, {\"date\": \"9/4/20\", \"total confirmed\": 26608153, \"daily new cases\": 312834.0, \"total recovered\": 17732989, \"daily new recovered\": 213938.0, \"total deaths\": 874782, \"daily new deaths\": 5911.0}, {\"date\": \"9/5/20\", \"total confirmed\": 26871379, \"daily new cases\": 263226.0, \"total recovered\": 17933979, \"daily new recovered\": 200990.0, \"total deaths\": 879715, \"daily new deaths\": 4933.0}, {\"date\": \"9/6/20\", \"total confirmed\": 27093507, \"daily new cases\": 222128.0, \"total recovered\": 18144209, \"daily new recovered\": 210230.0, \"total deaths\": 883492, \"daily new deaths\": 3777.0}, {\"date\": \"9/7/20\", \"total confirmed\": 27326895, \"daily new cases\": 233388.0, \"total recovered\": 18343108, \"daily new recovered\": 198899.0, \"total deaths\": 892811, \"daily new deaths\": 9319.0}, {\"date\": \"9/8/20\", \"total confirmed\": 27568271, \"daily new cases\": 241376.0, \"total recovered\": 18544747, \"daily new recovered\": 201639.0, \"total deaths\": 897756, \"daily new deaths\": 4945.0}, {\"date\": \"9/9/20\", \"total confirmed\": 27852706, \"daily new cases\": 284435.0, \"total recovered\": 18784778, \"daily new recovered\": 240031.0, \"total deaths\": 903836, \"daily new deaths\": 6080.0}, {\"date\": \"9/10/20\", \"total confirmed\": 28151687, \"daily new cases\": 298981.0, \"total recovered\": 19000545, \"daily new recovered\": 215767.0, \"total deaths\": 909636, \"daily new deaths\": 5800.0}, {\"date\": \"9/11/20\", \"total confirmed\": 28471545, \"daily new cases\": 319858.0, \"total recovered\": 19224079, \"daily new recovered\": 223534.0, \"total deaths\": 915518, \"daily new deaths\": 5882.0}, {\"date\": \"9/12/20\", \"total confirmed\": 28748552, \"daily new cases\": 277007.0, \"total recovered\": 19447558, \"daily new recovered\": 223479.0, \"total deaths\": 920392, \"daily new deaths\": 4874.0}, {\"date\": \"9/13/20\", \"total confirmed\": 28984632, \"daily new cases\": 236080.0, \"total recovered\": 19633499, \"daily new recovered\": 185941.0, \"total deaths\": 924049, \"daily new deaths\": 3657.0}, {\"date\": \"9/14/20\", \"total confirmed\": 29264226, \"daily new cases\": 279594.0, \"total recovered\": 19863106, \"daily new recovered\": 229607.0, \"total deaths\": 928485, \"daily new deaths\": 4436.0}, {\"date\": \"9/15/20\", \"total confirmed\": 29547908, \"daily new cases\": 283682.0, \"total recovered\": 20089476, \"daily new recovered\": 226370.0, \"total deaths\": 935035, \"daily new deaths\": 6550.0}, {\"date\": \"9/16/20\", \"total confirmed\": 29852879, \"daily new cases\": 304971.0, \"total recovered\": 20318600, \"daily new recovered\": 229124.0, \"total deaths\": 940788, \"daily new deaths\": 5753.0}, {\"date\": \"9/17/20\", \"total confirmed\": 30166465, \"daily new cases\": 313586.0, \"total recovered\": 20538086, \"daily new recovered\": 219486.0, \"total deaths\": 946247, \"daily new deaths\": 5459.0}, {\"date\": \"9/18/20\", \"total confirmed\": 30489632, \"daily new cases\": 323167.0, \"total recovered\": 20790028, \"daily new recovered\": 251942.0, \"total deaths\": 951952, \"daily new deaths\": 5705.0}, {\"date\": \"9/19/20\", \"total confirmed\": 30770188, \"daily new cases\": 280556.0, \"total recovered\": 21027965, \"daily new recovered\": 237937.0, \"total deaths\": 957190, \"daily new deaths\": 5238.0}, {\"date\": \"9/20/20\", \"total confirmed\": 31012629, \"daily new cases\": 242441.0, \"total recovered\": 21264098, \"daily new recovered\": 236133.0, \"total deaths\": 960901, \"daily new deaths\": 3711.0}, {\"date\": \"9/21/20\", \"total confirmed\": 31311005, \"daily new cases\": 298376.0, \"total recovered\": 21507448, \"daily new recovered\": 243350.0, \"total deaths\": 965023, \"daily new deaths\": 4122.0}, {\"date\": \"9/22/20\", \"total confirmed\": 31590903, \"daily new cases\": 279898.0, \"total recovered\": 21727303, \"daily new recovered\": 219855.0, \"total deaths\": 971005, \"daily new deaths\": 5982.0}, {\"date\": \"9/23/20\", \"total confirmed\": 31857635, \"daily new cases\": 266732.0, \"total recovered\": 21991024, \"daily new recovered\": 263721.0, \"total deaths\": 976616, \"daily new deaths\": 5611.0}, {\"date\": \"9/24/20\", \"total confirmed\": 32218899, \"daily new cases\": 361264.0, \"total recovered\": 22245775, \"daily new recovered\": 254751.0, \"total deaths\": 983336, \"daily new deaths\": 6720.0}, {\"date\": \"9/25/20\", \"total confirmed\": 32548215, \"daily new cases\": 329316.0, \"total recovered\": 22485502, \"daily new recovered\": 239727.0, \"total deaths\": 989239, \"daily new deaths\": 5903.0}, {\"date\": \"9/26/20\", \"total confirmed\": 32825265, \"daily new cases\": 277050.0, \"total recovered\": 22728853, \"daily new recovered\": 243351.0, \"total deaths\": 994526, \"daily new deaths\": 5287.0}, {\"date\": \"9/27/20\", \"total confirmed\": 33066434, \"daily new cases\": 241169.0, \"total recovered\": 22939253, \"daily new recovered\": 210400.0, \"total deaths\": 998144, \"daily new deaths\": 3618.0}, {\"date\": \"9/28/20\", \"total confirmed\": 33342317, \"daily new cases\": 275883.0, \"total recovered\": 23164809, \"daily new recovered\": 225556.0, \"total deaths\": 1002070, \"daily new deaths\": 3926.0}, {\"date\": \"9/29/20\", \"total confirmed\": 33626366, \"daily new cases\": 284049.0, \"total recovered\": 23402735, \"daily new recovered\": 237926.0, \"total deaths\": 1008163, \"daily new deaths\": 6093.0}, {\"date\": \"9/30/20\", \"total confirmed\": 33953087, \"daily new cases\": 326721.0, \"total recovered\": 23652271, \"daily new recovered\": 249536.0, \"total deaths\": 1014556, \"daily new deaths\": 6393.0}, {\"date\": \"10/1/20\", \"total confirmed\": 34271069, \"daily new cases\": 317982.0, \"total recovered\": 23872886, \"daily new recovered\": 220615.0, \"total deaths\": 1023252, \"daily new deaths\": 8696.0}, {\"date\": \"10/2/20\", \"total confirmed\": 34565494, \"daily new cases\": 294425.0, \"total recovered\": 24044783, \"daily new recovered\": 171897.0, \"total deaths\": 1028237, \"daily new deaths\": 4985.0}, {\"date\": \"10/3/20\", \"total confirmed\": 34884965, \"daily new cases\": 319471.0, \"total recovered\": 24302969, \"daily new recovered\": 258186.0, \"total deaths\": 1033584, \"daily new deaths\": 5347.0}, {\"date\": \"10/4/20\", \"total confirmed\": 35133661, \"daily new cases\": 248696.0, \"total recovered\": 24521170, \"daily new recovered\": 218201.0, \"total deaths\": 1037360, \"daily new deaths\": 3776.0}, {\"date\": \"10/5/20\", \"total confirmed\": 35462777, \"daily new cases\": 329116.0, \"total recovered\": 24760057, \"daily new recovered\": 238887.0, \"total deaths\": 1044369, \"daily new deaths\": 7009.0}, {\"date\": \"10/6/20\", \"total confirmed\": 35786652, \"daily new cases\": 323875.0, \"total recovered\": 24993149, \"daily new recovered\": 233092.0, \"total deaths\": 1050154, \"daily new deaths\": 5785.0}, {\"date\": \"10/7/20\", \"total confirmed\": 36136477, \"daily new cases\": 349825.0, \"total recovered\": 25248549, \"daily new recovered\": 255400.0, \"total deaths\": 1055972, \"daily new deaths\": 5818.0}, {\"date\": \"10/8/20\", \"total confirmed\": 36496941, \"daily new cases\": 360464.0, \"total recovered\": 25468041, \"daily new recovered\": 219492.0, \"total deaths\": 1062229, \"daily new deaths\": 6257.0}, {\"date\": \"10/9/20\", \"total confirmed\": 36856619, \"daily new cases\": 359678.0, \"total recovered\": 25673338, \"daily new recovered\": 205297.0, \"total deaths\": 1068322, \"daily new deaths\": 6093.0}, {\"date\": \"10/10/20\", \"total confirmed\": 37187024, \"daily new cases\": 330405.0, \"total recovered\": 25865384, \"daily new recovered\": 192046.0, \"total deaths\": 1073154, \"daily new deaths\": 4832.0}, {\"date\": \"10/11/20\", \"total confirmed\": 37456778, \"daily new cases\": 269754.0, \"total recovered\": 26083210, \"daily new recovered\": 217826.0, \"total deaths\": 1077072, \"daily new deaths\": 3918.0}, {\"date\": \"10/12/20\", \"total confirmed\": 37781897, \"daily new cases\": 325119.0, \"total recovered\": 26287563, \"daily new recovered\": 204353.0, \"total deaths\": 1081015, \"daily new deaths\": 3943.0}, {\"date\": \"10/13/20\", \"total confirmed\": 38110901, \"daily new cases\": 329004.0, \"total recovered\": 26481246, \"daily new recovered\": 193683.0, \"total deaths\": 1086471, \"daily new deaths\": 5456.0}, {\"date\": \"10/14/20\", \"total confirmed\": 38490953, \"daily new cases\": 380052.0, \"total recovered\": 26693195, \"daily new recovered\": 211949.0, \"total deaths\": 1092469, \"daily new deaths\": 5998.0}, {\"date\": \"10/15/20\", \"total confirmed\": 38898224, \"daily new cases\": 407271.0, \"total recovered\": 26900376, \"daily new recovered\": 207181.0, \"total deaths\": 1098587, \"daily new deaths\": 6118.0}, {\"date\": \"10/16/20\", \"total confirmed\": 39308667, \"daily new cases\": 410443.0, \"total recovered\": 27105030, \"daily new recovered\": 204654.0, \"total deaths\": 1104713, \"daily new deaths\": 6126.0}, {\"date\": \"10/17/20\", \"total confirmed\": 39649909, \"daily new cases\": 341242.0, \"total recovered\": 27303710, \"daily new recovered\": 198680.0, \"total deaths\": 1110228, \"daily new deaths\": 5515.0}, {\"date\": \"10/18/20\", \"total confirmed\": 39935847, \"daily new cases\": 285938.0, \"total recovered\": 27502706, \"daily new recovered\": 198996.0, \"total deaths\": 1113613, \"daily new deaths\": 3385.0}, {\"date\": \"10/19/20\", \"total confirmed\": 40383933, \"daily new cases\": 448086.0, \"total recovered\": 27713008, \"daily new recovered\": 210302.0, \"total deaths\": 1118614, \"daily new deaths\": 5001.0}, {\"date\": \"10/20/20\", \"total confirmed\": 40772455, \"daily new cases\": 388522.0, \"total recovered\": 27926735, \"daily new recovered\": 213727.0, \"total deaths\": 1125203, \"daily new deaths\": 6589.0}, {\"date\": \"10/21/20\", \"total confirmed\": 41216105, \"daily new cases\": 443650.0, \"total recovered\": 28137873, \"daily new recovered\": 211138.0, \"total deaths\": 1131759, \"daily new deaths\": 6556.0}, {\"date\": \"10/22/20\", \"total confirmed\": 41685750, \"daily new cases\": 469645.0, \"total recovered\": 28364277, \"daily new recovered\": 226404.0, \"total deaths\": 1137661, \"daily new deaths\": 5902.0}, {\"date\": \"10/23/20\", \"total confirmed\": 42182515, \"daily new cases\": 496765.0, \"total recovered\": 28570400, \"daily new recovered\": 206123.0, \"total deaths\": 1144583, \"daily new deaths\": 6922.0}, {\"date\": \"10/24/20\", \"total confirmed\": 42595348, \"daily new cases\": 412833.0, \"total recovered\": 28781667, \"daily new recovered\": 211267.0, \"total deaths\": 1150279, \"daily new deaths\": 5696.0}, {\"date\": \"10/25/20\", \"total confirmed\": 42948826, \"daily new cases\": 353478.0, \"total recovered\": 28978022, \"daily new recovered\": 196355.0, \"total deaths\": 1154419, \"daily new deaths\": 4140.0}, {\"date\": \"10/26/20\", \"total confirmed\": 43485889, \"daily new cases\": 537063.0, \"total recovered\": 29217448, \"daily new recovered\": 239426.0, \"total deaths\": 1160063, \"daily new deaths\": 5644.0}, {\"date\": \"10/27/20\", \"total confirmed\": 43954797, \"daily new cases\": 468908.0, \"total recovered\": 29807969, \"daily new recovered\": 590521.0, \"total deaths\": 1167477, \"daily new deaths\": 7414.0}, {\"date\": \"10/28/20\", \"total confirmed\": 44463732, \"daily new cases\": 508935.0, \"total recovered\": 30073936, \"daily new recovered\": 265967.0, \"total deaths\": 1174558, \"daily new deaths\": 7081.0}, {\"date\": \"10/29/20\", \"total confirmed\": 45014520, \"daily new cases\": 550788.0, \"total recovered\": 30320483, \"daily new recovered\": 246547.0, \"total deaths\": 1181617, \"daily new deaths\": 7059.0}, {\"date\": \"10/30/20\", \"total confirmed\": 45583754, \"daily new cases\": 569234.0, \"total recovered\": 30575509, \"daily new recovered\": 255026.0, \"total deaths\": 1189160, \"daily new deaths\": 7543.0}, {\"date\": \"10/31/20\", \"total confirmed\": 46060084, \"daily new cases\": 476330.0, \"total recovered\": 30820526, \"daily new recovered\": 245017.0, \"total deaths\": 1195706, \"daily new deaths\": 6546.0}, {\"date\": \"11/1/20\", \"total confirmed\": 46494219, \"daily new cases\": 434135.0, \"total recovered\": 31078260, \"daily new recovered\": 257734.0, \"total deaths\": 1200630, \"daily new deaths\": 4924.0}, {\"date\": \"11/2/20\", \"total confirmed\": 47001076, \"daily new cases\": 506857.0, \"total recovered\": 31357886, \"daily new recovered\": 279626.0, \"total deaths\": 1206744, \"daily new deaths\": 6114.0}, {\"date\": \"11/3/20\", \"total confirmed\": 47514619, \"daily new cases\": 513543.0, \"total recovered\": 31609242, \"daily new recovered\": 251356.0, \"total deaths\": 1215196, \"daily new deaths\": 8452.0}, {\"date\": \"11/4/20\", \"total confirmed\": 48112246, \"daily new cases\": 597627.0, \"total recovered\": 31889030, \"daily new recovered\": 279788.0, \"total deaths\": 1226196, \"daily new deaths\": 11000.0}, {\"date\": \"11/5/20\", \"total confirmed\": 48705471, \"daily new cases\": 593225.0, \"total recovered\": 32192465, \"daily new recovered\": 303435.0, \"total deaths\": 1234256, \"daily new deaths\": 8060.0}, {\"date\": \"11/6/20\", \"total confirmed\": 49346623, \"daily new cases\": 641152.0, \"total recovered\": 32480626, \"daily new recovered\": 288161.0, \"total deaths\": 1243795, \"daily new deaths\": 9539.0}, {\"date\": \"11/7/20\", \"total confirmed\": 49858197, \"daily new cases\": 511574.0, \"total recovered\": 32779541, \"daily new recovered\": 298915.0, \"total deaths\": 1251346, \"daily new deaths\": 7551.0}, {\"date\": \"11/8/20\", \"total confirmed\": 50423019, \"daily new cases\": 564822.0, \"total recovered\": 33032762, \"daily new recovered\": 253221.0, \"total deaths\": 1257096, \"daily new deaths\": 5750.0}, {\"date\": \"11/9/20\", \"total confirmed\": 50923398, \"daily new cases\": 500379.0, \"total recovered\": 33289404, \"daily new recovered\": 256642.0, \"total deaths\": 1264218, \"daily new deaths\": 7122.0}, {\"date\": \"11/10/20\", \"total confirmed\": 51481929, \"daily new cases\": 558531.0, \"total recovered\": 33546421, \"daily new recovered\": 257017.0, \"total deaths\": 1274213, \"daily new deaths\": 9995.0}, {\"date\": \"11/11/20\", \"total confirmed\": 52126597, \"daily new cases\": 644668.0, \"total recovered\": 33926351, \"daily new recovered\": 379930.0, \"total deaths\": 1284628, \"daily new deaths\": 10415.0}, {\"date\": \"11/12/20\", \"total confirmed\": 52773432, \"daily new cases\": 646835.0, \"total recovered\": 34150481, \"daily new recovered\": 224130.0, \"total deaths\": 1294372, \"daily new deaths\": 9744.0}, {\"date\": \"11/13/20\", \"total confirmed\": 53421872, \"daily new cases\": 648440.0, \"total recovered\": 34453243, \"daily new recovered\": 302762.0, \"total deaths\": 1303906, \"daily new deaths\": 9534.0}, {\"date\": \"11/14/20\", \"total confirmed\": 54015689, \"daily new cases\": 593817.0, \"total recovered\": 34731314, \"daily new recovered\": 278071.0, \"total deaths\": 1312896, \"daily new deaths\": 8990.0}, {\"date\": \"11/15/20\", \"total confirmed\": 54485945, \"daily new cases\": 470256.0, \"total recovered\": 34960714, \"daily new recovered\": 229400.0, \"total deaths\": 1319144, \"daily new deaths\": 6248.0}, {\"date\": \"11/16/20\", \"total confirmed\": 55021938, \"daily new cases\": 535993.0, \"total recovered\": 35349444, \"daily new recovered\": 388730.0, \"total deaths\": 1327228, \"daily new deaths\": 8084.0}]}}, {\"mode\": \"vega-lite\"});\n",
       "</script>"
      ],
      "text/plain": [
       "alt.LayerChart(...)"
      ]
     },
     "execution_count": 35,
     "metadata": {},
     "output_type": "execute_result"
    }
   ],
   "source": [
    "#Plot Altair 6; Global time series chart for daily new cases, recovered, and deaths - version 3 (more fancy selector)\n",
    "\n",
    "import altair as alt\n",
    "import pandas as pd\n",
    "import numpy as np\n",
    "\n",
    "\n",
    "#declare data and initialization\n",
    "data = timeseries_final\n",
    "\n",
    "#specifying form of data; read: https://altair-viz.github.io/user_guide/data.html#long-form-vs-wide-form-data\n",
    "base = alt.Chart(data).transform_fold(\n",
    "    ['daily new cases', 'daily new recovered', 'daily new deaths']\n",
    ")\n",
    "\n",
    "# Create a selection that chooses the nearest point & selects based on x-value\n",
    "nearest = alt.selection(type='single', nearest=True, on='mouseover',\n",
    "                        fields=['date'], empty='none')\n",
    "\n",
    "# The basic line\n",
    "line = base.mark_line().encode(\n",
    "    x='date:T',\n",
    "    y=alt.Y('value:Q', axis=alt.Axis(title='# of cases')),\n",
    "    color='key:N',\n",
    "    \n",
    ")\n",
    "\n",
    "# Transparent selectors across the chart. This is what tells us\n",
    "# the x-value of the cursor\n",
    "selectors = base.mark_point().encode(\n",
    "    x='date:T',\n",
    "    opacity=alt.value(0),\n",
    "    tooltip=[ alt.Tooltip('yearmonthdate(date)', title=\"Date\")]\n",
    ").add_selection(\n",
    "    nearest\n",
    ")\n",
    "\n",
    "# Draw points on the line, and highlight based on selection\n",
    "points = line.mark_point().encode(\n",
    "    opacity=alt.condition(nearest, alt.value(1), alt.value(0))\n",
    ")\n",
    "\n",
    "# Draw text labels near the points, and highlight based on selection\n",
    "text = line.mark_text(align='left', dx=5, dy=-5).encode(\n",
    "    text=alt.condition(nearest, 'value:Q', alt.value(' '))\n",
    ")\n",
    "\n",
    "# Draw a rule at the location of the selection\n",
    "rules = alt.Chart(data).mark_rule(color='gray').encode(\n",
    "    x='date:T',\n",
    "    \n",
    ").transform_filter(\n",
    "    nearest\n",
    ")\n",
    "\n",
    "# Put the five layers into a chart and bind the data\n",
    "chart = alt.layer(\n",
    "    line, selectors, points, rules, text\n",
    ").properties(\n",
    "    width=900, height=300, title='Global Time Series'\n",
    ")\n",
    "chart"
   ]
  },
  {
   "cell_type": "code",
   "execution_count": 43,
   "metadata": {},
   "outputs": [
    {
     "data": {
      "text/html": [
       "\n",
       "<div id=\"altair-viz-111ba794913e4b2fbd5d602855610592\"></div>\n",
       "<script type=\"text/javascript\">\n",
       "  (function(spec, embedOpt){\n",
       "    let outputDiv = document.currentScript.previousElementSibling;\n",
       "    if (outputDiv.id !== \"altair-viz-111ba794913e4b2fbd5d602855610592\") {\n",
       "      outputDiv = document.getElementById(\"altair-viz-111ba794913e4b2fbd5d602855610592\");\n",
       "    }\n",
       "    const paths = {\n",
       "      \"vega\": \"https://cdn.jsdelivr.net/npm//vega@5?noext\",\n",
       "      \"vega-lib\": \"https://cdn.jsdelivr.net/npm//vega-lib?noext\",\n",
       "      \"vega-lite\": \"https://cdn.jsdelivr.net/npm//vega-lite@4.8.1?noext\",\n",
       "      \"vega-embed\": \"https://cdn.jsdelivr.net/npm//vega-embed@6?noext\",\n",
       "    };\n",
       "\n",
       "    function loadScript(lib) {\n",
       "      return new Promise(function(resolve, reject) {\n",
       "        var s = document.createElement('script');\n",
       "        s.src = paths[lib];\n",
       "        s.async = true;\n",
       "        s.onload = () => resolve(paths[lib]);\n",
       "        s.onerror = () => reject(`Error loading script: ${paths[lib]}`);\n",
       "        document.getElementsByTagName(\"head\")[0].appendChild(s);\n",
       "      });\n",
       "    }\n",
       "\n",
       "    function showError(err) {\n",
       "      outputDiv.innerHTML = `<div class=\"error\" style=\"color:red;\">${err}</div>`;\n",
       "      throw err;\n",
       "    }\n",
       "\n",
       "    function displayChart(vegaEmbed) {\n",
       "      vegaEmbed(outputDiv, spec, embedOpt)\n",
       "        .catch(err => showError(`Javascript Error: ${err.message}<br>This usually means there's a typo in your chart specification. See the javascript console for the full traceback.`));\n",
       "    }\n",
       "\n",
       "    if(typeof define === \"function\" && define.amd) {\n",
       "      requirejs.config({paths});\n",
       "      require([\"vega-embed\"], displayChart, err => showError(`Error loading script: ${err.message}`));\n",
       "    } else if (typeof vegaEmbed === \"function\") {\n",
       "      displayChart(vegaEmbed);\n",
       "    } else {\n",
       "      loadScript(\"vega\")\n",
       "        .then(() => loadScript(\"vega-lite\"))\n",
       "        .then(() => loadScript(\"vega-embed\"))\n",
       "        .catch(showError)\n",
       "        .then(() => displayChart(vegaEmbed));\n",
       "    }\n",
       "  })({\"config\": {\"view\": {\"continuousWidth\": 400, \"continuousHeight\": 300}}, \"layer\": [{\"mark\": \"line\", \"encoding\": {\"color\": {\"type\": \"nominal\", \"field\": \"key\"}, \"x\": {\"type\": \"temporal\", \"field\": \"date\"}, \"y\": {\"type\": \"quantitative\", \"axis\": {\"title\": \"# of cases\"}, \"field\": \"value\"}}, \"transform\": [{\"fold\": [\"daily_new_confirmed\", \"daily_new_recovered\", \"daily_new_death\"]}]}, {\"mark\": \"point\", \"encoding\": {\"opacity\": {\"value\": 0}, \"tooltip\": [{\"type\": \"temporal\", \"field\": \"date\", \"timeUnit\": \"yearmonthdate\", \"title\": \"Date\"}], \"x\": {\"type\": \"temporal\", \"field\": \"date\"}}, \"selection\": {\"selector005\": {\"type\": \"single\", \"nearest\": true, \"on\": \"mouseover\", \"fields\": [\"date\"], \"empty\": \"none\"}}, \"transform\": [{\"fold\": [\"daily_new_confirmed\", \"daily_new_recovered\", \"daily_new_death\"]}]}, {\"mark\": \"point\", \"encoding\": {\"color\": {\"type\": \"nominal\", \"field\": \"key\"}, \"opacity\": {\"condition\": {\"value\": 1, \"selection\": \"selector005\"}, \"value\": 0}, \"x\": {\"type\": \"temporal\", \"field\": \"date\"}, \"y\": {\"type\": \"quantitative\", \"axis\": {\"title\": \"# of cases\"}, \"field\": \"value\"}}, \"transform\": [{\"fold\": [\"daily_new_confirmed\", \"daily_new_recovered\", \"daily_new_death\"]}]}, {\"mark\": {\"type\": \"rule\", \"color\": \"gray\"}, \"encoding\": {\"x\": {\"type\": \"temporal\", \"field\": \"date\"}}, \"transform\": [{\"filter\": {\"selection\": \"selector005\"}}]}, {\"mark\": {\"type\": \"text\", \"align\": \"left\", \"dx\": 5, \"dy\": -5}, \"encoding\": {\"color\": {\"type\": \"nominal\", \"field\": \"key\"}, \"text\": {\"condition\": {\"type\": \"quantitative\", \"field\": \"value\", \"selection\": \"selector005\"}, \"value\": \" \"}, \"x\": {\"type\": \"temporal\", \"field\": \"date\"}, \"y\": {\"type\": \"quantitative\", \"axis\": {\"title\": \"# of cases\"}, \"field\": \"value\"}}, \"transform\": [{\"fold\": [\"daily_new_confirmed\", \"daily_new_recovered\", \"daily_new_death\"]}]}], \"data\": {\"name\": \"data-74a1be867e0d7530138aa92614b79a47\"}, \"height\": 300, \"width\": 900, \"$schema\": \"https://vega.github.io/schema/vega-lite/v4.8.1.json\", \"datasets\": {\"data-74a1be867e0d7530138aa92614b79a47\": [{\"date\": \"1/22/20\", \"value_confirmed\": 1, \"daily_new_confirmed\": 0.0, \"value_death\": 0, \"daily_new_death\": 0.0, \"value_recovered\": 0, \"daily_new_recovered\": 0.0}, {\"date\": \"1/23/20\", \"value_confirmed\": 1, \"daily_new_confirmed\": 0.0, \"value_death\": 0, \"daily_new_death\": 0.0, \"value_recovered\": 0, \"daily_new_recovered\": 0.0}, {\"date\": \"1/24/20\", \"value_confirmed\": 2, \"daily_new_confirmed\": 1.0, \"value_death\": 0, \"daily_new_death\": 0.0, \"value_recovered\": 0, \"daily_new_recovered\": 0.0}, {\"date\": \"1/25/20\", \"value_confirmed\": 2, \"daily_new_confirmed\": 0.0, \"value_death\": 0, \"daily_new_death\": 0.0, \"value_recovered\": 0, \"daily_new_recovered\": 0.0}, {\"date\": \"1/26/20\", \"value_confirmed\": 5, \"daily_new_confirmed\": 3.0, \"value_death\": 0, \"daily_new_death\": 0.0, \"value_recovered\": 0, \"daily_new_recovered\": 0.0}, {\"date\": \"1/27/20\", \"value_confirmed\": 5, \"daily_new_confirmed\": 0.0, \"value_death\": 0, \"daily_new_death\": 0.0, \"value_recovered\": 0, \"daily_new_recovered\": 0.0}, {\"date\": \"1/28/20\", \"value_confirmed\": 5, \"daily_new_confirmed\": 0.0, \"value_death\": 0, \"daily_new_death\": 0.0, \"value_recovered\": 0, \"daily_new_recovered\": 0.0}, {\"date\": \"1/29/20\", \"value_confirmed\": 6, \"daily_new_confirmed\": 1.0, \"value_death\": 0, \"daily_new_death\": 0.0, \"value_recovered\": 0, \"daily_new_recovered\": 0.0}, {\"date\": \"1/30/20\", \"value_confirmed\": 6, \"daily_new_confirmed\": 0.0, \"value_death\": 0, \"daily_new_death\": 0.0, \"value_recovered\": 0, \"daily_new_recovered\": 0.0}, {\"date\": \"1/31/20\", \"value_confirmed\": 8, \"daily_new_confirmed\": 2.0, \"value_death\": 0, \"daily_new_death\": 0.0, \"value_recovered\": 0, \"daily_new_recovered\": 0.0}, {\"date\": \"2/1/20\", \"value_confirmed\": 8, \"daily_new_confirmed\": 0.0, \"value_death\": 0, \"daily_new_death\": 0.0, \"value_recovered\": 0, \"daily_new_recovered\": 0.0}, {\"date\": \"2/2/20\", \"value_confirmed\": 8, \"daily_new_confirmed\": 0.0, \"value_death\": 0, \"daily_new_death\": 0.0, \"value_recovered\": 0, \"daily_new_recovered\": 0.0}, {\"date\": \"2/3/20\", \"value_confirmed\": 11, \"daily_new_confirmed\": 3.0, \"value_death\": 0, \"daily_new_death\": 0.0, \"value_recovered\": 0, \"daily_new_recovered\": 0.0}, {\"date\": \"2/4/20\", \"value_confirmed\": 11, \"daily_new_confirmed\": 0.0, \"value_death\": 0, \"daily_new_death\": 0.0, \"value_recovered\": 0, \"daily_new_recovered\": 0.0}, {\"date\": \"2/5/20\", \"value_confirmed\": 11, \"daily_new_confirmed\": 0.0, \"value_death\": 0, \"daily_new_death\": 0.0, \"value_recovered\": 0, \"daily_new_recovered\": 0.0}, {\"date\": \"2/6/20\", \"value_confirmed\": 12, \"daily_new_confirmed\": 1.0, \"value_death\": 0, \"daily_new_death\": 0.0, \"value_recovered\": 0, \"daily_new_recovered\": 0.0}, {\"date\": \"2/7/20\", \"value_confirmed\": 12, \"daily_new_confirmed\": 0.0, \"value_death\": 0, \"daily_new_death\": 0.0, \"value_recovered\": 0, \"daily_new_recovered\": 0.0}, {\"date\": \"2/8/20\", \"value_confirmed\": 12, \"daily_new_confirmed\": 0.0, \"value_death\": 0, \"daily_new_death\": 0.0, \"value_recovered\": 0, \"daily_new_recovered\": 0.0}, {\"date\": \"2/9/20\", \"value_confirmed\": 12, \"daily_new_confirmed\": 0.0, \"value_death\": 0, \"daily_new_death\": 0.0, \"value_recovered\": 3, \"daily_new_recovered\": 3.0}, {\"date\": \"2/10/20\", \"value_confirmed\": 12, \"daily_new_confirmed\": 0.0, \"value_death\": 0, \"daily_new_death\": 0.0, \"value_recovered\": 3, \"daily_new_recovered\": 0.0}, {\"date\": \"2/11/20\", \"value_confirmed\": 13, \"daily_new_confirmed\": 1.0, \"value_death\": 0, \"daily_new_death\": 0.0, \"value_recovered\": 3, \"daily_new_recovered\": 0.0}, {\"date\": \"2/12/20\", \"value_confirmed\": 13, \"daily_new_confirmed\": 0.0, \"value_death\": 0, \"daily_new_death\": 0.0, \"value_recovered\": 3, \"daily_new_recovered\": 0.0}, {\"date\": \"2/13/20\", \"value_confirmed\": 14, \"daily_new_confirmed\": 1.0, \"value_death\": 0, \"daily_new_death\": 0.0, \"value_recovered\": 3, \"daily_new_recovered\": 0.0}, {\"date\": \"2/14/20\", \"value_confirmed\": 14, \"daily_new_confirmed\": 0.0, \"value_death\": 0, \"daily_new_death\": 0.0, \"value_recovered\": 3, \"daily_new_recovered\": 0.0}, {\"date\": \"2/15/20\", \"value_confirmed\": 14, \"daily_new_confirmed\": 0.0, \"value_death\": 0, \"daily_new_death\": 0.0, \"value_recovered\": 3, \"daily_new_recovered\": 0.0}, {\"date\": \"2/16/20\", \"value_confirmed\": 14, \"daily_new_confirmed\": 0.0, \"value_death\": 0, \"daily_new_death\": 0.0, \"value_recovered\": 3, \"daily_new_recovered\": 0.0}, {\"date\": \"2/17/20\", \"value_confirmed\": 14, \"daily_new_confirmed\": 0.0, \"value_death\": 0, \"daily_new_death\": 0.0, \"value_recovered\": 3, \"daily_new_recovered\": 0.0}, {\"date\": \"2/18/20\", \"value_confirmed\": 14, \"daily_new_confirmed\": 0.0, \"value_death\": 0, \"daily_new_death\": 0.0, \"value_recovered\": 3, \"daily_new_recovered\": 0.0}, {\"date\": \"2/19/20\", \"value_confirmed\": 14, \"daily_new_confirmed\": 0.0, \"value_death\": 0, \"daily_new_death\": 0.0, \"value_recovered\": 3, \"daily_new_recovered\": 0.0}, {\"date\": \"2/20/20\", \"value_confirmed\": 14, \"daily_new_confirmed\": 0.0, \"value_death\": 0, \"daily_new_death\": 0.0, \"value_recovered\": 3, \"daily_new_recovered\": 0.0}, {\"date\": \"2/21/20\", \"value_confirmed\": 16, \"daily_new_confirmed\": 2.0, \"value_death\": 0, \"daily_new_death\": 0.0, \"value_recovered\": 5, \"daily_new_recovered\": 2.0}, {\"date\": \"2/22/20\", \"value_confirmed\": 16, \"daily_new_confirmed\": 0.0, \"value_death\": 0, \"daily_new_death\": 0.0, \"value_recovered\": 5, \"daily_new_recovered\": 0.0}, {\"date\": \"2/23/20\", \"value_confirmed\": 16, \"daily_new_confirmed\": 0.0, \"value_death\": 0, \"daily_new_death\": 0.0, \"value_recovered\": 5, \"daily_new_recovered\": 0.0}, {\"date\": \"2/24/20\", \"value_confirmed\": 16, \"daily_new_confirmed\": 0.0, \"value_death\": 0, \"daily_new_death\": 0.0, \"value_recovered\": 5, \"daily_new_recovered\": 0.0}, {\"date\": \"2/25/20\", \"value_confirmed\": 16, \"daily_new_confirmed\": 0.0, \"value_death\": 0, \"daily_new_death\": 0.0, \"value_recovered\": 6, \"daily_new_recovered\": 1.0}, {\"date\": \"2/26/20\", \"value_confirmed\": 16, \"daily_new_confirmed\": 0.0, \"value_death\": 0, \"daily_new_death\": 0.0, \"value_recovered\": 6, \"daily_new_recovered\": 0.0}, {\"date\": \"2/27/20\", \"value_confirmed\": 17, \"daily_new_confirmed\": 1.0, \"value_death\": 0, \"daily_new_death\": 0.0, \"value_recovered\": 6, \"daily_new_recovered\": 0.0}, {\"date\": \"2/28/20\", \"value_confirmed\": 17, \"daily_new_confirmed\": 0.0, \"value_death\": 0, \"daily_new_death\": 0.0, \"value_recovered\": 7, \"daily_new_recovered\": 1.0}, {\"date\": \"2/29/20\", \"value_confirmed\": 25, \"daily_new_confirmed\": 8.0, \"value_death\": 1, \"daily_new_death\": 1.0, \"value_recovered\": 7, \"daily_new_recovered\": 0.0}, {\"date\": \"3/1/20\", \"value_confirmed\": 32, \"daily_new_confirmed\": 7.0, \"value_death\": 1, \"daily_new_death\": 0.0, \"value_recovered\": 7, \"daily_new_recovered\": 0.0}, {\"date\": \"3/2/20\", \"value_confirmed\": 55, \"daily_new_confirmed\": 23.0, \"value_death\": 6, \"daily_new_death\": 5.0, \"value_recovered\": 7, \"daily_new_recovered\": 0.0}, {\"date\": \"3/3/20\", \"value_confirmed\": 74, \"daily_new_confirmed\": 19.0, \"value_death\": 7, \"daily_new_death\": 1.0, \"value_recovered\": 7, \"daily_new_recovered\": 0.0}, {\"date\": \"3/4/20\", \"value_confirmed\": 107, \"daily_new_confirmed\": 33.0, \"value_death\": 11, \"daily_new_death\": 4.0, \"value_recovered\": 7, \"daily_new_recovered\": 0.0}, {\"date\": \"3/5/20\", \"value_confirmed\": 184, \"daily_new_confirmed\": 77.0, \"value_death\": 12, \"daily_new_death\": 1.0, \"value_recovered\": 7, \"daily_new_recovered\": 0.0}, {\"date\": \"3/6/20\", \"value_confirmed\": 237, \"daily_new_confirmed\": 53.0, \"value_death\": 14, \"daily_new_death\": 2.0, \"value_recovered\": 7, \"daily_new_recovered\": 0.0}, {\"date\": \"3/7/20\", \"value_confirmed\": 403, \"daily_new_confirmed\": 166.0, \"value_death\": 17, \"daily_new_death\": 3.0, \"value_recovered\": 7, \"daily_new_recovered\": 0.0}, {\"date\": \"3/8/20\", \"value_confirmed\": 519, \"daily_new_confirmed\": 116.0, \"value_death\": 21, \"daily_new_death\": 4.0, \"value_recovered\": 7, \"daily_new_recovered\": 0.0}, {\"date\": \"3/9/20\", \"value_confirmed\": 594, \"daily_new_confirmed\": 75.0, \"value_death\": 22, \"daily_new_death\": 1.0, \"value_recovered\": 7, \"daily_new_recovered\": 0.0}, {\"date\": \"3/10/20\", \"value_confirmed\": 782, \"daily_new_confirmed\": 188.0, \"value_death\": 28, \"daily_new_death\": 6.0, \"value_recovered\": 8, \"daily_new_recovered\": 1.0}, {\"date\": \"3/11/20\", \"value_confirmed\": 1147, \"daily_new_confirmed\": 365.0, \"value_death\": 33, \"daily_new_death\": 5.0, \"value_recovered\": 8, \"daily_new_recovered\": 0.0}, {\"date\": \"3/12/20\", \"value_confirmed\": 1586, \"daily_new_confirmed\": 439.0, \"value_death\": 43, \"daily_new_death\": 10.0, \"value_recovered\": 12, \"daily_new_recovered\": 4.0}, {\"date\": \"3/13/20\", \"value_confirmed\": 2219, \"daily_new_confirmed\": 633.0, \"value_death\": 51, \"daily_new_death\": 8.0, \"value_recovered\": 12, \"daily_new_recovered\": 0.0}, {\"date\": \"3/14/20\", \"value_confirmed\": 2978, \"daily_new_confirmed\": 759.0, \"value_death\": 58, \"daily_new_death\": 7.0, \"value_recovered\": 12, \"daily_new_recovered\": 0.0}, {\"date\": \"3/15/20\", \"value_confirmed\": 3212, \"daily_new_confirmed\": 234.0, \"value_death\": 70, \"daily_new_death\": 12.0, \"value_recovered\": 12, \"daily_new_recovered\": 0.0}, {\"date\": \"3/16/20\", \"value_confirmed\": 4679, \"daily_new_confirmed\": 1467.0, \"value_death\": 97, \"daily_new_death\": 27.0, \"value_recovered\": 17, \"daily_new_recovered\": 5.0}, {\"date\": \"3/17/20\", \"value_confirmed\": 6512, \"daily_new_confirmed\": 1833.0, \"value_death\": 132, \"daily_new_death\": 35.0, \"value_recovered\": 17, \"daily_new_recovered\": 0.0}, {\"date\": \"3/18/20\", \"value_confirmed\": 9169, \"daily_new_confirmed\": 2657.0, \"value_death\": 191, \"daily_new_death\": 59.0, \"value_recovered\": 105, \"daily_new_recovered\": 88.0}, {\"date\": \"3/19/20\", \"value_confirmed\": 13663, \"daily_new_confirmed\": 4494.0, \"value_death\": 264, \"daily_new_death\": 73.0, \"value_recovered\": 121, \"daily_new_recovered\": 16.0}, {\"date\": \"3/20/20\", \"value_confirmed\": 20030, \"daily_new_confirmed\": 6367.0, \"value_death\": 365, \"daily_new_death\": 101.0, \"value_recovered\": 147, \"daily_new_recovered\": 26.0}, {\"date\": \"3/21/20\", \"value_confirmed\": 26025, \"daily_new_confirmed\": 5995.0, \"value_death\": 464, \"daily_new_death\": 99.0, \"value_recovered\": 176, \"daily_new_recovered\": 29.0}, {\"date\": \"3/22/20\", \"value_confirmed\": 34832, \"daily_new_confirmed\": 8807.0, \"value_death\": 574, \"daily_new_death\": 110.0, \"value_recovered\": 178, \"daily_new_recovered\": 2.0}, {\"date\": \"3/23/20\", \"value_confirmed\": 46052, \"daily_new_confirmed\": 11220.0, \"value_death\": 762, \"daily_new_death\": 188.0, \"value_recovered\": 178, \"daily_new_recovered\": 0.0}, {\"date\": \"3/24/20\", \"value_confirmed\": 56629, \"daily_new_confirmed\": 10577.0, \"value_death\": 1003, \"daily_new_death\": 241.0, \"value_recovered\": 348, \"daily_new_recovered\": 170.0}, {\"date\": \"3/25/20\", \"value_confirmed\": 68663, \"daily_new_confirmed\": 12034.0, \"value_death\": 1329, \"daily_new_death\": 326.0, \"value_recovered\": 361, \"daily_new_recovered\": 13.0}, {\"date\": \"3/26/20\", \"value_confirmed\": 86556, \"daily_new_confirmed\": 17893.0, \"value_death\": 1741, \"daily_new_death\": 412.0, \"value_recovered\": 681, \"daily_new_recovered\": 320.0}, {\"date\": \"3/27/20\", \"value_confirmed\": 105196, \"daily_new_confirmed\": 18640.0, \"value_death\": 2259, \"daily_new_death\": 518.0, \"value_recovered\": 869, \"daily_new_recovered\": 188.0}, {\"date\": \"3/28/20\", \"value_confirmed\": 124793, \"daily_new_confirmed\": 19597.0, \"value_death\": 2891, \"daily_new_death\": 632.0, \"value_recovered\": 1072, \"daily_new_recovered\": 203.0}, {\"date\": \"3/29/20\", \"value_confirmed\": 143724, \"daily_new_confirmed\": 18931.0, \"value_death\": 3484, \"daily_new_death\": 593.0, \"value_recovered\": 2665, \"daily_new_recovered\": 1593.0}, {\"date\": \"3/30/20\", \"value_confirmed\": 165733, \"daily_new_confirmed\": 22009.0, \"value_death\": 4180, \"daily_new_death\": 696.0, \"value_recovered\": 5644, \"daily_new_recovered\": 2979.0}, {\"date\": \"3/31/20\", \"value_confirmed\": 192101, \"daily_new_confirmed\": 26368.0, \"value_death\": 5272, \"daily_new_death\": 1092.0, \"value_recovered\": 7024, \"daily_new_recovered\": 1380.0}, {\"date\": \"4/1/20\", \"value_confirmed\": 217920, \"daily_new_confirmed\": 25819.0, \"value_death\": 6452, \"daily_new_death\": 1180.0, \"value_recovered\": 8474, \"daily_new_recovered\": 1450.0}, {\"date\": \"4/2/20\", \"value_confirmed\": 248309, \"daily_new_confirmed\": 30389.0, \"value_death\": 7954, \"daily_new_death\": 1502.0, \"value_recovered\": 9001, \"daily_new_recovered\": 527.0}, {\"date\": \"4/3/20\", \"value_confirmed\": 280306, \"daily_new_confirmed\": 31997.0, \"value_death\": 9348, \"daily_new_death\": 1394.0, \"value_recovered\": 9707, \"daily_new_recovered\": 706.0}, {\"date\": \"4/4/20\", \"value_confirmed\": 313304, \"daily_new_confirmed\": 32998.0, \"value_death\": 10892, \"daily_new_death\": 1544.0, \"value_recovered\": 14652, \"daily_new_recovered\": 4945.0}, {\"date\": \"4/5/20\", \"value_confirmed\": 341489, \"daily_new_confirmed\": 28185.0, \"value_death\": 12458, \"daily_new_death\": 1566.0, \"value_recovered\": 17448, \"daily_new_recovered\": 2796.0}, {\"date\": \"4/6/20\", \"value_confirmed\": 371675, \"daily_new_confirmed\": 30186.0, \"value_death\": 14234, \"daily_new_death\": 1776.0, \"value_recovered\": 19581, \"daily_new_recovered\": 2133.0}, {\"date\": \"4/7/20\", \"value_confirmed\": 403073, \"daily_new_confirmed\": 31398.0, \"value_death\": 16798, \"daily_new_death\": 2564.0, \"value_recovered\": 21763, \"daily_new_recovered\": 2182.0}, {\"date\": \"4/8/20\", \"value_confirmed\": 435089, \"daily_new_confirmed\": 32016.0, \"value_death\": 18953, \"daily_new_death\": 2155.0, \"value_recovered\": 23559, \"daily_new_recovered\": 1796.0}, {\"date\": \"4/9/20\", \"value_confirmed\": 469738, \"daily_new_confirmed\": 34649.0, \"value_death\": 21184, \"daily_new_death\": 2231.0, \"value_recovered\": 25410, \"daily_new_recovered\": 1851.0}, {\"date\": \"4/10/20\", \"value_confirmed\": 503274, \"daily_new_confirmed\": 33536.0, \"value_death\": 23395, \"daily_new_death\": 2211.0, \"value_recovered\": 28790, \"daily_new_recovered\": 3380.0}, {\"date\": \"4/11/20\", \"value_confirmed\": 532632, \"daily_new_confirmed\": 29358.0, \"value_death\": 25530, \"daily_new_death\": 2135.0, \"value_recovered\": 31270, \"daily_new_recovered\": 2480.0}, {\"date\": \"4/12/20\", \"value_confirmed\": 559591, \"daily_new_confirmed\": 26959.0, \"value_death\": 27335, \"daily_new_death\": 1805.0, \"value_recovered\": 32988, \"daily_new_recovered\": 1718.0}, {\"date\": \"4/13/20\", \"value_confirmed\": 585382, \"daily_new_confirmed\": 25791.0, \"value_death\": 29281, \"daily_new_death\": 1946.0, \"value_recovered\": 43482, \"daily_new_recovered\": 10494.0}, {\"date\": \"4/14/20\", \"value_confirmed\": 613973, \"daily_new_confirmed\": 28591.0, \"value_death\": 31726, \"daily_new_death\": 2445.0, \"value_recovered\": 47763, \"daily_new_recovered\": 4281.0}, {\"date\": \"4/15/20\", \"value_confirmed\": 643981, \"daily_new_confirmed\": 30008.0, \"value_death\": 34335, \"daily_new_death\": 2609.0, \"value_recovered\": 52096, \"daily_new_recovered\": 4333.0}, {\"date\": \"4/16/20\", \"value_confirmed\": 675504, \"daily_new_confirmed\": 31523.0, \"value_death\": 36506, \"daily_new_death\": 2171.0, \"value_recovered\": 54703, \"daily_new_recovered\": 2607.0}, {\"date\": \"4/17/20\", \"value_confirmed\": 708310, \"daily_new_confirmed\": 32806.0, \"value_death\": 38597, \"daily_new_death\": 2091.0, \"value_recovered\": 58545, \"daily_new_recovered\": 3842.0}, {\"date\": \"4/18/20\", \"value_confirmed\": 736161, \"daily_new_confirmed\": 27851.0, \"value_death\": 40567, \"daily_new_death\": 1970.0, \"value_recovered\": 64840, \"daily_new_recovered\": 6295.0}, {\"date\": \"4/19/20\", \"value_confirmed\": 761842, \"daily_new_confirmed\": 25681.0, \"value_death\": 42499, \"daily_new_death\": 1932.0, \"value_recovered\": 70337, \"daily_new_recovered\": 5497.0}, {\"date\": \"4/20/20\", \"value_confirmed\": 790264, \"daily_new_confirmed\": 28422.0, \"value_death\": 44679, \"daily_new_death\": 2180.0, \"value_recovered\": 72329, \"daily_new_recovered\": 1992.0}, {\"date\": \"4/21/20\", \"value_confirmed\": 816302, \"daily_new_confirmed\": 26038.0, \"value_death\": 47221, \"daily_new_death\": 2542.0, \"value_recovered\": 75204, \"daily_new_recovered\": 2875.0}, {\"date\": \"4/22/20\", \"value_confirmed\": 845599, \"daily_new_confirmed\": 29297.0, \"value_death\": 49659, \"daily_new_death\": 2438.0, \"value_recovered\": 77366, \"daily_new_recovered\": 2162.0}, {\"date\": \"4/23/20\", \"value_confirmed\": 878844, \"daily_new_confirmed\": 33245.0, \"value_death\": 52125, \"daily_new_death\": 2466.0, \"value_recovered\": 80203, \"daily_new_recovered\": 2837.0}, {\"date\": \"4/24/20\", \"value_confirmed\": 912596, \"daily_new_confirmed\": 33752.0, \"value_death\": 54285, \"daily_new_death\": 2160.0, \"value_recovered\": 99079, \"daily_new_recovered\": 18876.0}, {\"date\": \"4/25/20\", \"value_confirmed\": 943963, \"daily_new_confirmed\": 31367.0, \"value_death\": 55988, \"daily_new_death\": 1703.0, \"value_recovered\": 100372, \"daily_new_recovered\": 1293.0}, {\"date\": \"4/26/20\", \"value_confirmed\": 971012, \"daily_new_confirmed\": 27049.0, \"value_death\": 57322, \"daily_new_death\": 1334.0, \"value_recovered\": 106988, \"daily_new_recovered\": 6616.0}, {\"date\": \"4/27/20\", \"value_confirmed\": 994171, \"daily_new_confirmed\": 23159.0, \"value_death\": 58787, \"daily_new_death\": 1465.0, \"value_recovered\": 111424, \"daily_new_recovered\": 4436.0}, {\"date\": \"4/28/20\", \"value_confirmed\": 1018837, \"daily_new_confirmed\": 24666.0, \"value_death\": 61028, \"daily_new_death\": 2241.0, \"value_recovered\": 115936, \"daily_new_recovered\": 4512.0}, {\"date\": \"4/29/20\", \"value_confirmed\": 1046655, \"daily_new_confirmed\": 27818.0, \"value_death\": 63555, \"daily_new_death\": 2527.0, \"value_recovered\": 120720, \"daily_new_recovered\": 4784.0}, {\"date\": \"4/30/20\", \"value_confirmed\": 1076104, \"daily_new_confirmed\": 29449.0, \"value_death\": 65971, \"daily_new_death\": 2416.0, \"value_recovered\": 153947, \"daily_new_recovered\": 33227.0}, {\"date\": \"5/1/20\", \"value_confirmed\": 1110297, \"daily_new_confirmed\": 34193.0, \"value_death\": 67848, \"daily_new_death\": 1877.0, \"value_recovered\": 164015, \"daily_new_recovered\": 10068.0}, {\"date\": \"5/2/20\", \"value_confirmed\": 1138126, \"daily_new_confirmed\": 27829.0, \"value_death\": 69535, \"daily_new_death\": 1687.0, \"value_recovered\": 175382, \"daily_new_recovered\": 11367.0}, {\"date\": \"5/3/20\", \"value_confirmed\": 1162592, \"daily_new_confirmed\": 24466.0, \"value_death\": 70638, \"daily_new_death\": 1103.0, \"value_recovered\": 180152, \"daily_new_recovered\": 4770.0}, {\"date\": \"5/4/20\", \"value_confirmed\": 1185972, \"daily_new_confirmed\": 23380.0, \"value_death\": 71956, \"daily_new_death\": 1318.0, \"value_recovered\": 187180, \"daily_new_recovered\": 7028.0}, {\"date\": \"5/5/20\", \"value_confirmed\": 1210458, \"daily_new_confirmed\": 24486.0, \"value_death\": 74255, \"daily_new_death\": 2299.0, \"value_recovered\": 189791, \"daily_new_recovered\": 2611.0}, {\"date\": \"5/6/20\", \"value_confirmed\": 1235561, \"daily_new_confirmed\": 25103.0, \"value_death\": 76599, \"daily_new_death\": 2344.0, \"value_recovered\": 189910, \"daily_new_recovered\": 119.0}, {\"date\": \"5/7/20\", \"value_confirmed\": 1263296, \"daily_new_confirmed\": 27735.0, \"value_death\": 78523, \"daily_new_death\": 1924.0, \"value_recovered\": 195036, \"daily_new_recovered\": 5126.0}, {\"date\": \"5/8/20\", \"value_confirmed\": 1290069, \"daily_new_confirmed\": 26773.0, \"value_death\": 80275, \"daily_new_death\": 1752.0, \"value_recovered\": 198993, \"daily_new_recovered\": 3957.0}, {\"date\": \"5/9/20\", \"value_confirmed\": 1315026, \"daily_new_confirmed\": 24957.0, \"value_death\": 81817, \"daily_new_death\": 1542.0, \"value_recovered\": 212534, \"daily_new_recovered\": 13541.0}, {\"date\": \"5/10/20\", \"value_confirmed\": 1333863, \"daily_new_confirmed\": 18837.0, \"value_death\": 82717, \"daily_new_death\": 900.0, \"value_recovered\": 216169, \"daily_new_recovered\": 3635.0}, {\"date\": \"5/11/20\", \"value_confirmed\": 1353268, \"daily_new_confirmed\": 19405.0, \"value_death\": 83719, \"daily_new_death\": 1002.0, \"value_recovered\": 232733, \"daily_new_recovered\": 16564.0}, {\"date\": \"5/12/20\", \"value_confirmed\": 1375989, \"daily_new_confirmed\": 22721.0, \"value_death\": 85333, \"daily_new_death\": 1614.0, \"value_recovered\": 230287, \"daily_new_recovered\": -2446.0}, {\"date\": \"5/13/20\", \"value_confirmed\": 1396928, \"daily_new_confirmed\": 20939.0, \"value_death\": 87082, \"daily_new_death\": 1749.0, \"value_recovered\": 243430, \"daily_new_recovered\": 13143.0}, {\"date\": \"5/14/20\", \"value_confirmed\": 1424152, \"daily_new_confirmed\": 27224.0, \"value_death\": 88856, \"daily_new_death\": 1774.0, \"value_recovered\": 246414, \"daily_new_recovered\": 2984.0}, {\"date\": \"5/15/20\", \"value_confirmed\": 1449346, \"daily_new_confirmed\": 25194.0, \"value_death\": 90520, \"daily_new_death\": 1664.0, \"value_recovered\": 250747, \"daily_new_recovered\": 4333.0}, {\"date\": \"5/16/20\", \"value_confirmed\": 1473343, \"daily_new_confirmed\": 23997.0, \"value_death\": 91792, \"daily_new_death\": 1272.0, \"value_recovered\": 268376, \"daily_new_recovered\": 17629.0}, {\"date\": \"5/17/20\", \"value_confirmed\": 1491438, \"daily_new_confirmed\": 18095.0, \"value_death\": 92547, \"daily_new_death\": 755.0, \"value_recovered\": 272265, \"daily_new_recovered\": 3889.0}, {\"date\": \"5/18/20\", \"value_confirmed\": 1513437, \"daily_new_confirmed\": 21999.0, \"value_death\": 93714, \"daily_new_death\": 1167.0, \"value_recovered\": 283178, \"daily_new_recovered\": 10913.0}, {\"date\": \"5/19/20\", \"value_confirmed\": 1534386, \"daily_new_confirmed\": 20949.0, \"value_death\": 95240, \"daily_new_death\": 1526.0, \"value_recovered\": 289392, \"daily_new_recovered\": 6214.0}, {\"date\": \"5/20/20\", \"value_confirmed\": 1557833, \"daily_new_confirmed\": 23447.0, \"value_death\": 96758, \"daily_new_death\": 1518.0, \"value_recovered\": 294312, \"daily_new_recovered\": 4920.0}, {\"date\": \"5/21/20\", \"value_confirmed\": 1583458, \"daily_new_confirmed\": 25625.0, \"value_death\": 97969, \"daily_new_death\": 1211.0, \"value_recovered\": 298418, \"daily_new_recovered\": 4106.0}, {\"date\": \"5/22/20\", \"value_confirmed\": 1606787, \"daily_new_confirmed\": 23329.0, \"value_death\": 99214, \"daily_new_death\": 1245.0, \"value_recovered\": 350135, \"daily_new_recovered\": 51717.0}, {\"date\": \"5/23/20\", \"value_confirmed\": 1627923, \"daily_new_confirmed\": 21136.0, \"value_death\": 100348, \"daily_new_death\": 1134.0, \"value_recovered\": 361239, \"daily_new_recovered\": 11104.0}, {\"date\": \"5/24/20\", \"value_confirmed\": 1647948, \"daily_new_confirmed\": 20025.0, \"value_death\": 100964, \"daily_new_death\": 616.0, \"value_recovered\": 366736, \"daily_new_recovered\": 5497.0}, {\"date\": \"5/25/20\", \"value_confirmed\": 1666219, \"daily_new_confirmed\": 18271.0, \"value_death\": 101521, \"daily_new_death\": 557.0, \"value_recovered\": 379157, \"daily_new_recovered\": 12421.0}, {\"date\": \"5/26/20\", \"value_confirmed\": 1685682, \"daily_new_confirmed\": 19463.0, \"value_death\": 102185, \"daily_new_death\": 664.0, \"value_recovered\": 384902, \"daily_new_recovered\": 5745.0}, {\"date\": \"5/27/20\", \"value_confirmed\": 1704217, \"daily_new_confirmed\": 18535.0, \"value_death\": 103693, \"daily_new_death\": 1508.0, \"value_recovered\": 391508, \"daily_new_recovered\": 6606.0}, {\"date\": \"5/28/20\", \"value_confirmed\": 1727097, \"daily_new_confirmed\": 22880.0, \"value_death\": 104876, \"daily_new_death\": 1183.0, \"value_recovered\": 399991, \"daily_new_recovered\": 8483.0}, {\"date\": \"5/29/20\", \"value_confirmed\": 1751301, \"daily_new_confirmed\": 24204.0, \"value_death\": 106031, \"daily_new_death\": 1155.0, \"value_recovered\": 406446, \"daily_new_recovered\": 6455.0}, {\"date\": \"5/30/20\", \"value_confirmed\": 1775081, \"daily_new_confirmed\": 23780.0, \"value_death\": 106985, \"daily_new_death\": 954.0, \"value_recovered\": 416461, \"daily_new_recovered\": 10015.0}, {\"date\": \"5/31/20\", \"value_confirmed\": 1794196, \"daily_new_confirmed\": 19115.0, \"value_death\": 107674, \"daily_new_death\": 689.0, \"value_recovered\": 444758, \"daily_new_recovered\": 28297.0}, {\"date\": \"6/1/20\", \"value_confirmed\": 1811469, \"daily_new_confirmed\": 17273.0, \"value_death\": 108451, \"daily_new_death\": 777.0, \"value_recovered\": 458231, \"daily_new_recovered\": 13473.0}, {\"date\": \"6/2/20\", \"value_confirmed\": 1832782, \"daily_new_confirmed\": 21313.0, \"value_death\": 109500, \"daily_new_death\": 1049.0, \"value_recovered\": 463868, \"daily_new_recovered\": 5637.0}, {\"date\": \"6/3/20\", \"value_confirmed\": 1852680, \"daily_new_confirmed\": 19898.0, \"value_death\": 110494, \"daily_new_death\": 994.0, \"value_recovered\": 479258, \"daily_new_recovered\": 15390.0}, {\"date\": \"6/4/20\", \"value_confirmed\": 1873943, \"daily_new_confirmed\": 21263.0, \"value_death\": 111499, \"daily_new_death\": 1005.0, \"value_recovered\": 485002, \"daily_new_recovered\": 5744.0}, {\"date\": \"6/5/20\", \"value_confirmed\": 1899008, \"daily_new_confirmed\": 25065.0, \"value_death\": 112405, \"daily_new_death\": 906.0, \"value_recovered\": 491706, \"daily_new_recovered\": 6704.0}, {\"date\": \"6/6/20\", \"value_confirmed\": 1920581, \"daily_new_confirmed\": 21573.0, \"value_death\": 113102, \"daily_new_death\": 697.0, \"value_recovered\": 500849, \"daily_new_recovered\": 9143.0}, {\"date\": \"6/7/20\", \"value_confirmed\": 1938302, \"daily_new_confirmed\": 17721.0, \"value_death\": 113543, \"daily_new_death\": 441.0, \"value_recovered\": 506367, \"daily_new_recovered\": 5518.0}, {\"date\": \"6/8/20\", \"value_confirmed\": 1955778, \"daily_new_confirmed\": 17476.0, \"value_death\": 114040, \"daily_new_death\": 497.0, \"value_recovered\": 518522, \"daily_new_recovered\": 12155.0}, {\"date\": \"6/9/20\", \"value_confirmed\": 1974024, \"daily_new_confirmed\": 18246.0, \"value_death\": 114970, \"daily_new_death\": 930.0, \"value_recovered\": 524855, \"daily_new_recovered\": 6333.0}, {\"date\": \"6/10/20\", \"value_confirmed\": 1994722, \"daily_new_confirmed\": 20698.0, \"value_death\": 115869, \"daily_new_death\": 899.0, \"value_recovered\": 533504, \"daily_new_recovered\": 8649.0}, {\"date\": \"6/11/20\", \"value_confirmed\": 2017907, \"daily_new_confirmed\": 23185.0, \"value_death\": 116723, \"daily_new_death\": 854.0, \"value_recovered\": 540292, \"daily_new_recovered\": 6788.0}, {\"date\": \"6/12/20\", \"value_confirmed\": 2042646, \"daily_new_confirmed\": 24739.0, \"value_death\": 117543, \"daily_new_death\": 820.0, \"value_recovered\": 547386, \"daily_new_recovered\": 7094.0}, {\"date\": \"6/13/20\", \"value_confirmed\": 2067774, \"daily_new_confirmed\": 25128.0, \"value_death\": 118316, \"daily_new_death\": 773.0, \"value_recovered\": 556606, \"daily_new_recovered\": 9220.0}, {\"date\": \"6/14/20\", \"value_confirmed\": 2087041, \"daily_new_confirmed\": 19267.0, \"value_death\": 118629, \"daily_new_death\": 313.0, \"value_recovered\": 561816, \"daily_new_recovered\": 5210.0}, {\"date\": \"6/15/20\", \"value_confirmed\": 2106893, \"daily_new_confirmed\": 19852.0, \"value_death\": 119012, \"daily_new_death\": 383.0, \"value_recovered\": 576334, \"daily_new_recovered\": 14518.0}, {\"date\": \"6/16/20\", \"value_confirmed\": 2130631, \"daily_new_confirmed\": 23738.0, \"value_death\": 119833, \"daily_new_death\": 821.0, \"value_recovered\": 583503, \"daily_new_recovered\": 7169.0}, {\"date\": \"6/17/20\", \"value_confirmed\": 2156495, \"daily_new_confirmed\": 25864.0, \"value_death\": 120564, \"daily_new_death\": 731.0, \"value_recovered\": 592191, \"daily_new_recovered\": 8688.0}, {\"date\": \"6/18/20\", \"value_confirmed\": 2184589, \"daily_new_confirmed\": 28094.0, \"value_death\": 121272, \"daily_new_death\": 708.0, \"value_recovered\": 599115, \"daily_new_recovered\": 6924.0}, {\"date\": \"6/19/20\", \"value_confirmed\": 2215833, \"daily_new_confirmed\": 31244.0, \"value_death\": 121933, \"daily_new_death\": 661.0, \"value_recovered\": 606715, \"daily_new_recovered\": 7600.0}, {\"date\": \"6/20/20\", \"value_confirmed\": 2247853, \"daily_new_confirmed\": 32020.0, \"value_death\": 122540, \"daily_new_death\": 607.0, \"value_recovered\": 617460, \"daily_new_recovered\": 10745.0}, {\"date\": \"6/21/20\", \"value_confirmed\": 2273902, \"daily_new_confirmed\": 26049.0, \"value_death\": 122833, \"daily_new_death\": 293.0, \"value_recovered\": 622133, \"daily_new_recovered\": 4673.0}, {\"date\": \"6/22/20\", \"value_confirmed\": 2304358, \"daily_new_confirmed\": 30456.0, \"value_death\": 123217, \"daily_new_death\": 384.0, \"value_recovered\": 640198, \"daily_new_recovered\": 18065.0}, {\"date\": \"6/23/20\", \"value_confirmed\": 2340044, \"daily_new_confirmed\": 35686.0, \"value_death\": 124059, \"daily_new_death\": 842.0, \"value_recovered\": 647548, \"daily_new_recovered\": 7350.0}, {\"date\": \"6/24/20\", \"value_confirmed\": 2374395, \"daily_new_confirmed\": 34351.0, \"value_death\": 124814, \"daily_new_death\": 755.0, \"value_recovered\": 656161, \"daily_new_recovered\": 8613.0}, {\"date\": \"6/25/20\", \"value_confirmed\": 2414896, \"daily_new_confirmed\": 40501.0, \"value_death\": 125360, \"daily_new_death\": 546.0, \"value_recovered\": 663562, \"daily_new_recovered\": 7401.0}, {\"date\": \"6/26/20\", \"value_confirmed\": 2460178, \"daily_new_confirmed\": 45282.0, \"value_death\": 125981, \"daily_new_death\": 621.0, \"value_recovered\": 670809, \"daily_new_recovered\": 7247.0}, {\"date\": \"6/27/20\", \"value_confirmed\": 2502411, \"daily_new_confirmed\": 42233.0, \"value_death\": 126483, \"daily_new_death\": 502.0, \"value_recovered\": 679308, \"daily_new_recovered\": 8499.0}, {\"date\": \"6/28/20\", \"value_confirmed\": 2541665, \"daily_new_confirmed\": 39254.0, \"value_death\": 126761, \"daily_new_death\": 278.0, \"value_recovered\": 685164, \"daily_new_recovered\": 5856.0}, {\"date\": \"6/29/20\", \"value_confirmed\": 2582307, \"daily_new_confirmed\": 40642.0, \"value_death\": 127139, \"daily_new_death\": 378.0, \"value_recovered\": 705203, \"daily_new_recovered\": 20039.0}, {\"date\": \"6/30/20\", \"value_confirmed\": 2628321, \"daily_new_confirmed\": 46014.0, \"value_death\": 127787, \"daily_new_death\": 648.0, \"value_recovered\": 720631, \"daily_new_recovered\": 15428.0}, {\"date\": \"7/1/20\", \"value_confirmed\": 2679609, \"daily_new_confirmed\": 51288.0, \"value_death\": 128479, \"daily_new_death\": 692.0, \"value_recovered\": 729994, \"daily_new_recovered\": 9363.0}, {\"date\": \"7/2/20\", \"value_confirmed\": 2734697, \"daily_new_confirmed\": 55088.0, \"value_death\": 129199, \"daily_new_death\": 720.0, \"value_recovered\": 781970, \"daily_new_recovered\": 51976.0}, {\"date\": \"7/3/20\", \"value_confirmed\": 2787208, \"daily_new_confirmed\": 52511.0, \"value_death\": 129858, \"daily_new_death\": 659.0, \"value_recovered\": 790404, \"daily_new_recovered\": 8434.0}, {\"date\": \"7/4/20\", \"value_confirmed\": 2832878, \"daily_new_confirmed\": 45670.0, \"value_death\": 130127, \"daily_new_death\": 269.0, \"value_recovered\": 894325, \"daily_new_recovered\": 103921.0}, {\"date\": \"7/5/20\", \"value_confirmed\": 2882761, \"daily_new_confirmed\": 49883.0, \"value_death\": 130416, \"daily_new_death\": 289.0, \"value_recovered\": 906763, \"daily_new_recovered\": 12438.0}, {\"date\": \"7/6/20\", \"value_confirmed\": 2926967, \"daily_new_confirmed\": 44206.0, \"value_death\": 130777, \"daily_new_death\": 361.0, \"value_recovered\": 924148, \"daily_new_recovered\": 17385.0}, {\"date\": \"7/7/20\", \"value_confirmed\": 2987076, \"daily_new_confirmed\": 60109.0, \"value_death\": 131984, \"daily_new_death\": 1207.0, \"value_recovered\": 936476, \"daily_new_recovered\": 12328.0}, {\"date\": \"7/8/20\", \"value_confirmed\": 3046251, \"daily_new_confirmed\": 59175.0, \"value_death\": 132847, \"daily_new_death\": 863.0, \"value_recovered\": 953462, \"daily_new_recovered\": 16986.0}, {\"date\": \"7/9/20\", \"value_confirmed\": 3109476, \"daily_new_confirmed\": 63225.0, \"value_death\": 133845, \"daily_new_death\": 998.0, \"value_recovered\": 969111, \"daily_new_recovered\": 15649.0}, {\"date\": \"7/10/20\", \"value_confirmed\": 3177035, \"daily_new_confirmed\": 67559.0, \"value_death\": 134666, \"daily_new_death\": 821.0, \"value_recovered\": 983185, \"daily_new_recovered\": 14074.0}, {\"date\": \"7/11/20\", \"value_confirmed\": 3237056, \"daily_new_confirmed\": 60021.0, \"value_death\": 135359, \"daily_new_death\": 693.0, \"value_recovered\": 995576, \"daily_new_recovered\": 12391.0}, {\"date\": \"7/12/20\", \"value_confirmed\": 3295817, \"daily_new_confirmed\": 58761.0, \"value_death\": 135820, \"daily_new_death\": 461.0, \"value_recovered\": 1006326, \"daily_new_recovered\": 10750.0}, {\"date\": \"7/13/20\", \"value_confirmed\": 3355170, \"daily_new_confirmed\": 59353.0, \"value_death\": 136188, \"daily_new_death\": 368.0, \"value_recovered\": 1031939, \"daily_new_recovered\": 25613.0}, {\"date\": \"7/14/20\", \"value_confirmed\": 3422127, \"daily_new_confirmed\": 66957.0, \"value_death\": 137108, \"daily_new_death\": 920.0, \"value_recovered\": 1049098, \"daily_new_recovered\": 17159.0}, {\"date\": \"7/15/20\", \"value_confirmed\": 3489638, \"daily_new_confirmed\": 67511.0, \"value_death\": 138080, \"daily_new_death\": 972.0, \"value_recovered\": 1075882, \"daily_new_recovered\": 26784.0}, {\"date\": \"7/16/20\", \"value_confirmed\": 3566897, \"daily_new_confirmed\": 77259.0, \"value_death\": 139030, \"daily_new_death\": 950.0, \"value_recovered\": 1090645, \"daily_new_recovered\": 14763.0}, {\"date\": \"7/17/20\", \"value_confirmed\": 3638525, \"daily_new_confirmed\": 71628.0, \"value_death\": 139963, \"daily_new_death\": 933.0, \"value_recovered\": 1107204, \"daily_new_recovered\": 16559.0}, {\"date\": \"7/18/20\", \"value_confirmed\": 3701144, \"daily_new_confirmed\": 62619.0, \"value_death\": 140825, \"daily_new_death\": 862.0, \"value_recovered\": 1122720, \"daily_new_recovered\": 15516.0}, {\"date\": \"7/19/20\", \"value_confirmed\": 3762156, \"daily_new_confirmed\": 61012.0, \"value_death\": 141278, \"daily_new_death\": 453.0, \"value_recovered\": 1131121, \"daily_new_recovered\": 8401.0}, {\"date\": \"7/20/20\", \"value_confirmed\": 3823985, \"daily_new_confirmed\": 61829.0, \"value_death\": 141802, \"daily_new_death\": 524.0, \"value_recovered\": 1160087, \"daily_new_recovered\": 28966.0}, {\"date\": \"7/21/20\", \"value_confirmed\": 3888195, \"daily_new_confirmed\": 64210.0, \"value_death\": 142903, \"daily_new_death\": 1101.0, \"value_recovered\": 1182018, \"daily_new_recovered\": 21931.0}, {\"date\": \"7/22/20\", \"value_confirmed\": 3959495, \"daily_new_confirmed\": 71300.0, \"value_death\": 144123, \"daily_new_death\": 1220.0, \"value_recovered\": 1210849, \"daily_new_recovered\": 28831.0}, {\"date\": \"7/23/20\", \"value_confirmed\": 4028394, \"daily_new_confirmed\": 68899.0, \"value_death\": 145215, \"daily_new_death\": 1092.0, \"value_recovered\": 1233269, \"daily_new_recovered\": 22420.0}, {\"date\": \"7/24/20\", \"value_confirmed\": 4101237, \"daily_new_confirmed\": 72843.0, \"value_death\": 146345, \"daily_new_death\": 1130.0, \"value_recovered\": 1261624, \"daily_new_recovered\": 28355.0}, {\"date\": \"7/25/20\", \"value_confirmed\": 4167394, \"daily_new_confirmed\": 66157.0, \"value_death\": 147233, \"daily_new_death\": 888.0, \"value_recovered\": 1279414, \"daily_new_recovered\": 17790.0}, {\"date\": \"7/26/20\", \"value_confirmed\": 4221834, \"daily_new_confirmed\": 54440.0, \"value_death\": 147716, \"daily_new_death\": 483.0, \"value_recovered\": 1297863, \"daily_new_recovered\": 18449.0}, {\"date\": \"7/27/20\", \"value_confirmed\": 4278319, \"daily_new_confirmed\": 56485.0, \"value_death\": 148833, \"daily_new_death\": 1117.0, \"value_recovered\": 1325804, \"daily_new_recovered\": 27941.0}, {\"date\": \"7/28/20\", \"value_confirmed\": 4343900, \"daily_new_confirmed\": 65581.0, \"value_death\": 150204, \"daily_new_death\": 1371.0, \"value_recovered\": 1355363, \"daily_new_recovered\": 29559.0}, {\"date\": \"7/29/20\", \"value_confirmed\": 4415121, \"daily_new_confirmed\": 71221.0, \"value_death\": 151635, \"daily_new_death\": 1431.0, \"value_recovered\": 1389425, \"daily_new_recovered\": 34062.0}, {\"date\": \"7/30/20\", \"value_confirmed\": 4482650, \"daily_new_confirmed\": 67529.0, \"value_death\": 152851, \"daily_new_death\": 1216.0, \"value_recovered\": 1414155, \"daily_new_recovered\": 24730.0}, {\"date\": \"7/31/20\", \"value_confirmed\": 4549671, \"daily_new_confirmed\": 67021.0, \"value_death\": 154093, \"daily_new_death\": 1242.0, \"value_recovered\": 1438160, \"daily_new_recovered\": 24005.0}, {\"date\": \"8/1/20\", \"value_confirmed\": 4607033, \"daily_new_confirmed\": 57362.0, \"value_death\": 155202, \"daily_new_death\": 1109.0, \"value_recovered\": 1461885, \"daily_new_recovered\": 23725.0}, {\"date\": \"8/2/20\", \"value_confirmed\": 4654119, \"daily_new_confirmed\": 47086.0, \"value_death\": 155613, \"daily_new_death\": 411.0, \"value_recovered\": 1468689, \"daily_new_recovered\": 6804.0}, {\"date\": \"8/3/20\", \"value_confirmed\": 4698864, \"daily_new_confirmed\": 44745.0, \"value_death\": 156152, \"daily_new_death\": 539.0, \"value_recovered\": 1513446, \"daily_new_recovered\": 44757.0}, {\"date\": \"8/4/20\", \"value_confirmed\": 4756107, \"daily_new_confirmed\": 57243.0, \"value_death\": 157526, \"daily_new_death\": 1374.0, \"value_recovered\": 1528979, \"daily_new_recovered\": 15533.0}, {\"date\": \"8/5/20\", \"value_confirmed\": 4809708, \"daily_new_confirmed\": 53601.0, \"value_death\": 158902, \"daily_new_death\": 1376.0, \"value_recovered\": 1577851, \"daily_new_recovered\": 48872.0}, {\"date\": \"8/6/20\", \"value_confirmed\": 4869216, \"daily_new_confirmed\": 59508.0, \"value_death\": 160150, \"daily_new_death\": 1248.0, \"value_recovered\": 1598624, \"daily_new_recovered\": 20773.0}, {\"date\": \"8/7/20\", \"value_confirmed\": 4927217, \"daily_new_confirmed\": 58001.0, \"value_death\": 161387, \"daily_new_death\": 1237.0, \"value_recovered\": 1623870, \"daily_new_recovered\": 25246.0}, {\"date\": \"8/8/20\", \"value_confirmed\": 4982522, \"daily_new_confirmed\": 55305.0, \"value_death\": 162470, \"daily_new_death\": 1083.0, \"value_recovered\": 1643118, \"daily_new_recovered\": 19248.0}, {\"date\": \"8/9/20\", \"value_confirmed\": 5028311, \"daily_new_confirmed\": 45789.0, \"value_death\": 162986, \"daily_new_death\": 516.0, \"value_recovered\": 1656864, \"daily_new_recovered\": 13746.0}, {\"date\": \"8/10/20\", \"value_confirmed\": 5077762, \"daily_new_confirmed\": 49451.0, \"value_death\": 163512, \"daily_new_death\": 526.0, \"value_recovered\": 1670755, \"daily_new_recovered\": 13891.0}, {\"date\": \"8/11/20\", \"value_confirmed\": 5124380, \"daily_new_confirmed\": 46618.0, \"value_death\": 164581, \"daily_new_death\": 1069.0, \"value_recovered\": 1714960, \"daily_new_recovered\": 44205.0}, {\"date\": \"8/12/20\", \"value_confirmed\": 5181284, \"daily_new_confirmed\": 56904.0, \"value_death\": 166087, \"daily_new_death\": 1506.0, \"value_recovered\": 1753760, \"daily_new_recovered\": 38800.0}, {\"date\": \"8/13/20\", \"value_confirmed\": 5233016, \"daily_new_confirmed\": 51732.0, \"value_death\": 167151, \"daily_new_death\": 1064.0, \"value_recovered\": 1774648, \"daily_new_recovered\": 20888.0}, {\"date\": \"8/14/20\", \"value_confirmed\": 5297381, \"daily_new_confirmed\": 64365.0, \"value_death\": 168494, \"daily_new_death\": 1343.0, \"value_recovered\": 1796326, \"daily_new_recovered\": 21678.0}, {\"date\": \"8/15/20\", \"value_confirmed\": 5344580, \"daily_new_confirmed\": 47199.0, \"value_death\": 169524, \"daily_new_death\": 1030.0, \"value_recovered\": 1818527, \"daily_new_recovered\": 22201.0}, {\"date\": \"8/16/20\", \"value_confirmed\": 5385865, \"daily_new_confirmed\": 41285.0, \"value_death\": 170099, \"daily_new_death\": 575.0, \"value_recovered\": 1833067, \"daily_new_recovered\": 14540.0}, {\"date\": \"8/17/20\", \"value_confirmed\": 5421522, \"daily_new_confirmed\": 35657.0, \"value_death\": 170544, \"daily_new_death\": 445.0, \"value_recovered\": 1865580, \"daily_new_recovered\": 32513.0}, {\"date\": \"8/18/20\", \"value_confirmed\": 5466580, \"daily_new_confirmed\": 45058.0, \"value_death\": 171876, \"daily_new_death\": 1332.0, \"value_recovered\": 1898159, \"daily_new_recovered\": 32579.0}, {\"date\": \"8/19/20\", \"value_confirmed\": 5513780, \"daily_new_confirmed\": 47200.0, \"value_death\": 173207, \"daily_new_death\": 1331.0, \"value_recovered\": 1925049, \"daily_new_recovered\": 26890.0}, {\"date\": \"8/20/20\", \"value_confirmed\": 5557779, \"daily_new_confirmed\": 43999.0, \"value_death\": 174285, \"daily_new_death\": 1078.0, \"value_recovered\": 1947035, \"daily_new_recovered\": 21986.0}, {\"date\": \"8/21/20\", \"value_confirmed\": 5605737, \"daily_new_confirmed\": 47958.0, \"value_death\": 175396, \"daily_new_death\": 1111.0, \"value_recovered\": 1965056, \"daily_new_recovered\": 18021.0}, {\"date\": \"8/22/20\", \"value_confirmed\": 5649689, \"daily_new_confirmed\": 43952.0, \"value_death\": 176380, \"daily_new_death\": 984.0, \"value_recovered\": 1985484, \"daily_new_recovered\": 20428.0}, {\"date\": \"8/23/20\", \"value_confirmed\": 5683994, \"daily_new_confirmed\": 34305.0, \"value_death\": 176835, \"daily_new_death\": 455.0, \"value_recovered\": 1997761, \"daily_new_recovered\": 12277.0}, {\"date\": \"8/24/20\", \"value_confirmed\": 5721574, \"daily_new_confirmed\": 37580.0, \"value_death\": 177279, \"daily_new_death\": 444.0, \"value_recovered\": 2020774, \"daily_new_recovered\": 23013.0}, {\"date\": \"8/25/20\", \"value_confirmed\": 5759774, \"daily_new_confirmed\": 38200.0, \"value_death\": 178509, \"daily_new_death\": 1230.0, \"value_recovered\": 2053699, \"daily_new_recovered\": 32925.0}, {\"date\": \"8/26/20\", \"value_confirmed\": 5805562, \"daily_new_confirmed\": 45788.0, \"value_death\": 179737, \"daily_new_death\": 1228.0, \"value_recovered\": 2084465, \"daily_new_recovered\": 30766.0}, {\"date\": \"8/27/20\", \"value_confirmed\": 5851263, \"daily_new_confirmed\": 45701.0, \"value_death\": 180841, \"daily_new_death\": 1104.0, \"value_recovered\": 2101326, \"daily_new_recovered\": 16861.0}, {\"date\": \"8/28/20\", \"value_confirmed\": 5897126, \"daily_new_confirmed\": 45863.0, \"value_death\": 181813, \"daily_new_death\": 972.0, \"value_recovered\": 2118367, \"daily_new_recovered\": 17041.0}, {\"date\": \"8/29/20\", \"value_confirmed\": 5942852, \"daily_new_confirmed\": 45726.0, \"value_death\": 182777, \"daily_new_death\": 964.0, \"value_recovered\": 2140614, \"daily_new_recovered\": 22247.0}, {\"date\": \"8/30/20\", \"value_confirmed\": 5978159, \"daily_new_confirmed\": 35307.0, \"value_death\": 183089, \"daily_new_death\": 312.0, \"value_recovered\": 2153939, \"daily_new_recovered\": 13325.0}, {\"date\": \"8/31/20\", \"value_confirmed\": 6012569, \"daily_new_confirmed\": 34410.0, \"value_death\": 183684, \"daily_new_death\": 595.0, \"value_recovered\": 2184825, \"daily_new_recovered\": 30886.0}, {\"date\": \"9/1/20\", \"value_confirmed\": 6054989, \"daily_new_confirmed\": 42420.0, \"value_death\": 184749, \"daily_new_death\": 1065.0, \"value_recovered\": 2202663, \"daily_new_recovered\": 17838.0}, {\"date\": \"9/2/20\", \"value_confirmed\": 6095533, \"daily_new_confirmed\": 40544.0, \"value_death\": 185801, \"daily_new_death\": 1052.0, \"value_recovered\": 2231757, \"daily_new_recovered\": 29094.0}, {\"date\": \"9/3/20\", \"value_confirmed\": 6139371, \"daily_new_confirmed\": 43838.0, \"value_death\": 186868, \"daily_new_death\": 1067.0, \"value_recovered\": 2266957, \"daily_new_recovered\": 35200.0}, {\"date\": \"9/4/20\", \"value_confirmed\": 6189473, \"daily_new_confirmed\": 50102.0, \"value_death\": 187835, \"daily_new_death\": 967.0, \"value_recovered\": 2283454, \"daily_new_recovered\": 16497.0}, {\"date\": \"9/5/20\", \"value_confirmed\": 6233458, \"daily_new_confirmed\": 43985.0, \"value_death\": 188608, \"daily_new_death\": 773.0, \"value_recovered\": 2302187, \"daily_new_recovered\": 18733.0}, {\"date\": \"9/6/20\", \"value_confirmed\": 6264591, \"daily_new_confirmed\": 31133.0, \"value_death\": 189019, \"daily_new_death\": 411.0, \"value_recovered\": 2315995, \"daily_new_recovered\": 13808.0}, {\"date\": \"9/7/20\", \"value_confirmed\": 6288236, \"daily_new_confirmed\": 23645.0, \"value_death\": 189293, \"daily_new_death\": 274.0, \"value_recovered\": 2333551, \"daily_new_recovered\": 17556.0}, {\"date\": \"9/8/20\", \"value_confirmed\": 6314940, \"daily_new_confirmed\": 26704.0, \"value_death\": 189740, \"daily_new_death\": 447.0, \"value_recovered\": 2359111, \"daily_new_recovered\": 25560.0}, {\"date\": \"9/9/20\", \"value_confirmed\": 6348544, \"daily_new_confirmed\": 33604.0, \"value_death\": 190923, \"daily_new_death\": 1183.0, \"value_recovered\": 2387479, \"daily_new_recovered\": 28368.0}, {\"date\": \"9/10/20\", \"value_confirmed\": 6384590, \"daily_new_confirmed\": 36046.0, \"value_death\": 191830, \"daily_new_death\": 907.0, \"value_recovered\": 2403511, \"daily_new_recovered\": 16032.0}, {\"date\": \"9/11/20\", \"value_confirmed\": 6432062, \"daily_new_confirmed\": 47472.0, \"value_death\": 193043, \"daily_new_death\": 1213.0, \"value_recovered\": 2417878, \"daily_new_recovered\": 14367.0}, {\"date\": \"9/12/20\", \"value_confirmed\": 6472847, \"daily_new_confirmed\": 40785.0, \"value_death\": 193753, \"daily_new_death\": 710.0, \"value_recovered\": 2434658, \"daily_new_recovered\": 16780.0}, {\"date\": \"9/13/20\", \"value_confirmed\": 6507427, \"daily_new_confirmed\": 34580.0, \"value_death\": 194139, \"daily_new_death\": 386.0, \"value_recovered\": 2451406, \"daily_new_recovered\": 16748.0}, {\"date\": \"9/14/20\", \"value_confirmed\": 6541219, \"daily_new_confirmed\": 33792.0, \"value_death\": 194563, \"daily_new_death\": 424.0, \"value_recovered\": 2474570, \"daily_new_recovered\": 23164.0}, {\"date\": \"9/15/20\", \"value_confirmed\": 6580228, \"daily_new_confirmed\": 39009.0, \"value_death\": 195851, \"daily_new_death\": 1288.0, \"value_recovered\": 2495127, \"daily_new_recovered\": 20557.0}, {\"date\": \"9/16/20\", \"value_confirmed\": 6618825, \"daily_new_confirmed\": 38597.0, \"value_death\": 196830, \"daily_new_death\": 979.0, \"value_recovered\": 2525573, \"daily_new_recovered\": 30446.0}, {\"date\": \"9/17/20\", \"value_confirmed\": 6663364, \"daily_new_confirmed\": 44539.0, \"value_death\": 197700, \"daily_new_death\": 870.0, \"value_recovered\": 2540334, \"daily_new_recovered\": 14761.0}, {\"date\": \"9/18/20\", \"value_confirmed\": 6711775, \"daily_new_confirmed\": 48411.0, \"value_death\": 198632, \"daily_new_death\": 932.0, \"value_recovered\": 2556465, \"daily_new_recovered\": 16131.0}, {\"date\": \"9/19/20\", \"value_confirmed\": 6755233, \"daily_new_confirmed\": 43458.0, \"value_death\": 199347, \"daily_new_death\": 715.0, \"value_recovered\": 2577446, \"daily_new_recovered\": 20981.0}, {\"date\": \"9/20/20\", \"value_confirmed\": 6793091, \"daily_new_confirmed\": 37858.0, \"value_death\": 199589, \"daily_new_death\": 242.0, \"value_recovered\": 2590671, \"daily_new_recovered\": 13225.0}, {\"date\": \"9/21/20\", \"value_confirmed\": 6844550, \"daily_new_confirmed\": 51459.0, \"value_death\": 200015, \"daily_new_death\": 426.0, \"value_recovered\": 2615949, \"daily_new_recovered\": 25278.0}, {\"date\": \"9/22/20\", \"value_confirmed\": 6884162, \"daily_new_confirmed\": 39612.0, \"value_death\": 201038, \"daily_new_death\": 1023.0, \"value_recovered\": 2646959, \"daily_new_recovered\": 31010.0}, {\"date\": \"9/23/20\", \"value_confirmed\": 6922253, \"daily_new_confirmed\": 38091.0, \"value_death\": 202139, \"daily_new_death\": 1101.0, \"value_recovered\": 2670256, \"daily_new_recovered\": 23297.0}, {\"date\": \"9/24/20\", \"value_confirmed\": 6966630, \"daily_new_confirmed\": 44377.0, \"value_death\": 203057, \"daily_new_death\": 918.0, \"value_recovered\": 2710183, \"daily_new_recovered\": 39927.0}, {\"date\": \"9/25/20\", \"value_confirmed\": 7016156, \"daily_new_confirmed\": 49526.0, \"value_death\": 203996, \"daily_new_death\": 939.0, \"value_recovered\": 2727335, \"daily_new_recovered\": 17152.0}, {\"date\": \"9/26/20\", \"value_confirmed\": 7060600, \"daily_new_confirmed\": 44444.0, \"value_death\": 204742, \"daily_new_death\": 746.0, \"value_recovered\": 2750459, \"daily_new_recovered\": 23124.0}, {\"date\": \"9/27/20\", \"value_confirmed\": 7097934, \"daily_new_confirmed\": 37334.0, \"value_death\": 205024, \"daily_new_death\": 282.0, \"value_recovered\": 2766280, \"daily_new_recovered\": 15821.0}, {\"date\": \"9/28/20\", \"value_confirmed\": 7130041, \"daily_new_confirmed\": 32107.0, \"value_death\": 205345, \"daily_new_death\": 321.0, \"value_recovered\": 2794608, \"daily_new_recovered\": 28328.0}, {\"date\": \"9/29/20\", \"value_confirmed\": 7172152, \"daily_new_confirmed\": 42111.0, \"value_death\": 206257, \"daily_new_death\": 912.0, \"value_recovered\": 2813305, \"daily_new_recovered\": 18697.0}, {\"date\": \"9/30/20\", \"value_confirmed\": 7213255, \"daily_new_confirmed\": 41103.0, \"value_death\": 207190, \"daily_new_death\": 933.0, \"value_recovered\": 2840688, \"daily_new_recovered\": 27383.0}, {\"date\": \"10/1/20\", \"value_confirmed\": 7258609, \"daily_new_confirmed\": 45354.0, \"value_death\": 208044, \"daily_new_death\": 854.0, \"value_recovered\": 2860650, \"daily_new_recovered\": 19962.0}, {\"date\": \"10/2/20\", \"value_confirmed\": 7312071, \"daily_new_confirmed\": 53462.0, \"value_death\": 208968, \"daily_new_death\": 924.0, \"value_recovered\": 2873369, \"daily_new_recovered\": 12719.0}, {\"date\": \"10/3/20\", \"value_confirmed\": 7361584, \"daily_new_confirmed\": 49513.0, \"value_death\": 209649, \"daily_new_death\": 681.0, \"value_recovered\": 2897322, \"daily_new_recovered\": 23953.0}, {\"date\": \"10/4/20\", \"value_confirmed\": 7397907, \"daily_new_confirmed\": 36323.0, \"value_death\": 209998, \"daily_new_death\": 349.0, \"value_recovered\": 2911699, \"daily_new_recovered\": 14377.0}, {\"date\": \"10/5/20\", \"value_confirmed\": 7436549, \"daily_new_confirmed\": 38642.0, \"value_death\": 210460, \"daily_new_death\": 462.0, \"value_recovered\": 2935142, \"daily_new_recovered\": 23443.0}, {\"date\": \"10/6/20\", \"value_confirmed\": 7479021, \"daily_new_confirmed\": 42472.0, \"value_death\": 211165, \"daily_new_death\": 705.0, \"value_recovered\": 2952390, \"daily_new_recovered\": 17248.0}, {\"date\": \"10/7/20\", \"value_confirmed\": 7529933, \"daily_new_confirmed\": 50912.0, \"value_death\": 212090, \"daily_new_death\": 925.0, \"value_recovered\": 2999895, \"daily_new_recovered\": 47505.0}, {\"date\": \"10/8/20\", \"value_confirmed\": 7587118, \"daily_new_confirmed\": 57185.0, \"value_death\": 213064, \"daily_new_death\": 974.0, \"value_recovered\": 3021252, \"daily_new_recovered\": 21357.0}, {\"date\": \"10/9/20\", \"value_confirmed\": 7643344, \"daily_new_confirmed\": 56226.0, \"value_death\": 214029, \"daily_new_death\": 965.0, \"value_recovered\": 3039089, \"daily_new_recovered\": 17837.0}, {\"date\": \"10/10/20\", \"value_confirmed\": 7697504, \"daily_new_confirmed\": 54160.0, \"value_death\": 214656, \"daily_new_death\": 627.0, \"value_recovered\": 3062983, \"daily_new_recovered\": 23894.0}, {\"date\": \"10/11/20\", \"value_confirmed\": 7743396, \"daily_new_confirmed\": 45892.0, \"value_death\": 215078, \"daily_new_death\": 422.0, \"value_recovered\": 3075077, \"daily_new_recovered\": 12094.0}, {\"date\": \"10/12/20\", \"value_confirmed\": 7783958, \"daily_new_confirmed\": 40562.0, \"value_death\": 215415, \"daily_new_death\": 337.0, \"value_recovered\": 3106728, \"daily_new_recovered\": 31651.0}, {\"date\": \"10/13/20\", \"value_confirmed\": 7836979, \"daily_new_confirmed\": 53021.0, \"value_death\": 216212, \"daily_new_death\": 797.0, \"value_recovered\": 3124593, \"daily_new_recovered\": 17865.0}, {\"date\": \"10/14/20\", \"value_confirmed\": 7895909, \"daily_new_confirmed\": 58930.0, \"value_death\": 217192, \"daily_new_death\": 980.0, \"value_recovered\": 3155794, \"daily_new_recovered\": 31201.0}, {\"date\": \"10/15/20\", \"value_confirmed\": 7960130, \"daily_new_confirmed\": 64221.0, \"value_death\": 218025, \"daily_new_death\": 833.0, \"value_recovered\": 3177397, \"daily_new_recovered\": 21603.0}, {\"date\": \"10/16/20\", \"value_confirmed\": 8028392, \"daily_new_confirmed\": 68262.0, \"value_death\": 218934, \"daily_new_death\": 909.0, \"value_recovered\": 3197539, \"daily_new_recovered\": 20142.0}, {\"date\": \"10/17/20\", \"value_confirmed\": 8085465, \"daily_new_confirmed\": 57073.0, \"value_death\": 219681, \"daily_new_death\": 747.0, \"value_recovered\": 3220573, \"daily_new_recovered\": 23034.0}, {\"date\": \"10/18/20\", \"value_confirmed\": 8134804, \"daily_new_confirmed\": 49339.0, \"value_death\": 220109, \"daily_new_death\": 428.0, \"value_recovered\": 3234138, \"daily_new_recovered\": 13565.0}, {\"date\": \"10/19/20\", \"value_confirmed\": 8201387, \"daily_new_confirmed\": 66583.0, \"value_death\": 220574, \"daily_new_death\": 465.0, \"value_recovered\": 3272603, \"daily_new_recovered\": 38465.0}, {\"date\": \"10/20/20\", \"value_confirmed\": 8262326, \"daily_new_confirmed\": 60939.0, \"value_death\": 221510, \"daily_new_death\": 936.0, \"value_recovered\": 3295148, \"daily_new_recovered\": 22545.0}, {\"date\": \"10/21/20\", \"value_confirmed\": 8324960, \"daily_new_confirmed\": 62634.0, \"value_death\": 222627, \"daily_new_death\": 1117.0, \"value_recovered\": 3323354, \"daily_new_recovered\": 28206.0}, {\"date\": \"10/22/20\", \"value_confirmed\": 8397618, \"daily_new_confirmed\": 72658.0, \"value_death\": 223500, \"daily_new_death\": 873.0, \"value_recovered\": 3353056, \"daily_new_recovered\": 29702.0}, {\"date\": \"10/23/20\", \"value_confirmed\": 8480161, \"daily_new_confirmed\": 82543.0, \"value_death\": 224441, \"daily_new_death\": 941.0, \"value_recovered\": 3375427, \"daily_new_recovered\": 22371.0}, {\"date\": \"10/24/20\", \"value_confirmed\": 8564037, \"daily_new_confirmed\": 83876.0, \"value_death\": 225383, \"daily_new_death\": 942.0, \"value_recovered\": 3406656, \"daily_new_recovered\": 31229.0}, {\"date\": \"10/25/20\", \"value_confirmed\": 8625984, \"daily_new_confirmed\": 61947.0, \"value_death\": 225761, \"daily_new_death\": 378.0, \"value_recovered\": 3422878, \"daily_new_recovered\": 16222.0}, {\"date\": \"10/26/20\", \"value_confirmed\": 8691979, \"daily_new_confirmed\": 65995.0, \"value_death\": 226265, \"daily_new_death\": 504.0, \"value_recovered\": 3460455, \"daily_new_recovered\": 37577.0}, {\"date\": \"10/27/20\", \"value_confirmed\": 8767572, \"daily_new_confirmed\": 75593.0, \"value_death\": 227240, \"daily_new_death\": 975.0, \"value_recovered\": 3487666, \"daily_new_recovered\": 27211.0}, {\"date\": \"10/28/20\", \"value_confirmed\": 8845830, \"daily_new_confirmed\": 78258.0, \"value_death\": 228241, \"daily_new_death\": 1001.0, \"value_recovered\": 3518140, \"daily_new_recovered\": 30474.0}, {\"date\": \"10/29/20\", \"value_confirmed\": 8936033, \"daily_new_confirmed\": 90203.0, \"value_death\": 229214, \"daily_new_death\": 973.0, \"value_recovered\": 3554336, \"daily_new_recovered\": 36196.0}, {\"date\": \"10/30/20\", \"value_confirmed\": 9033829, \"daily_new_confirmed\": 97796.0, \"value_death\": 230232, \"daily_new_death\": 1018.0, \"value_recovered\": 3578452, \"daily_new_recovered\": 24116.0}, {\"date\": \"10/31/20\", \"value_confirmed\": 9122666, \"daily_new_confirmed\": 88837.0, \"value_death\": 231123, \"daily_new_death\": 891.0, \"value_recovered\": 3612478, \"daily_new_recovered\": 34026.0}, {\"date\": \"11/1/20\", \"value_confirmed\": 9199122, \"daily_new_confirmed\": 76456.0, \"value_death\": 231531, \"daily_new_death\": 408.0, \"value_recovered\": 3630579, \"daily_new_recovered\": 18101.0}, {\"date\": \"11/2/20\", \"value_confirmed\": 9281002, \"daily_new_confirmed\": 81880.0, \"value_death\": 232066, \"daily_new_death\": 535.0, \"value_recovered\": 3674981, \"daily_new_recovered\": 44402.0}, {\"date\": \"11/3/20\", \"value_confirmed\": 9404058, \"daily_new_confirmed\": 123056.0, \"value_death\": 233638, \"daily_new_death\": 1572.0, \"value_recovered\": 3705130, \"daily_new_recovered\": 30149.0}, {\"date\": \"11/4/20\", \"value_confirmed\": 9507004, \"daily_new_confirmed\": 102946.0, \"value_death\": 234711, \"daily_new_death\": 1073.0, \"value_recovered\": 3743527, \"daily_new_recovered\": 38397.0}, {\"date\": \"11/5/20\", \"value_confirmed\": 9632704, \"daily_new_confirmed\": 125700.0, \"value_death\": 235870, \"daily_new_death\": 1159.0, \"value_recovered\": 3781751, \"daily_new_recovered\": 38224.0}, {\"date\": \"11/6/20\", \"value_confirmed\": 9757612, \"daily_new_confirmed\": 124908.0, \"value_death\": 237000, \"daily_new_death\": 1130.0, \"value_recovered\": 3810791, \"daily_new_recovered\": 29040.0}, {\"date\": \"11/7/20\", \"value_confirmed\": 9886080, \"daily_new_confirmed\": 128468.0, \"value_death\": 238013, \"daily_new_death\": 1013.0, \"value_recovered\": 3851465, \"daily_new_recovered\": 40674.0}, {\"date\": \"11/8/20\", \"value_confirmed\": 9995860, \"daily_new_confirmed\": 109780.0, \"value_death\": 238487, \"daily_new_death\": 474.0, \"value_recovered\": 3881491, \"daily_new_recovered\": 30026.0}, {\"date\": \"11/9/20\", \"value_confirmed\": 10115804, \"daily_new_confirmed\": 119944.0, \"value_death\": 239183, \"daily_new_death\": 696.0, \"value_recovered\": 3928845, \"daily_new_recovered\": 47354.0}, {\"date\": \"11/10/20\", \"value_confirmed\": 10256094, \"daily_new_confirmed\": 140290.0, \"value_death\": 240581, \"daily_new_death\": 1398.0, \"value_recovered\": 3961873, \"daily_new_recovered\": 33028.0}, {\"date\": \"11/11/20\", \"value_confirmed\": 10399325, \"daily_new_confirmed\": 143231.0, \"value_death\": 241969, \"daily_new_death\": 1388.0, \"value_recovered\": 3997175, \"daily_new_recovered\": 35302.0}, {\"date\": \"11/12/20\", \"value_confirmed\": 10560111, \"daily_new_confirmed\": 160786.0, \"value_death\": 243187, \"daily_new_death\": 1218.0, \"value_recovered\": 4051256, \"daily_new_recovered\": 54081.0}, {\"date\": \"11/13/20\", \"value_confirmed\": 10737335, \"daily_new_confirmed\": 177224.0, \"value_death\": 244325, \"daily_new_death\": 1138.0, \"value_recovered\": 4095146, \"daily_new_recovered\": 43890.0}, {\"date\": \"11/14/20\", \"value_confirmed\": 10903890, \"daily_new_confirmed\": 166555.0, \"value_death\": 245591, \"daily_new_death\": 1266.0, \"value_recovered\": 4148444, \"daily_new_recovered\": 53298.0}, {\"date\": \"11/15/20\", \"value_confirmed\": 11036935, \"daily_new_confirmed\": 133045.0, \"value_death\": 246207, \"daily_new_death\": 616.0, \"value_recovered\": 4174884, \"daily_new_recovered\": 26440.0}]}}, {\"mode\": \"vega-lite\"});\n",
       "</script>"
      ],
      "text/plain": [
       "alt.LayerChart(...)"
      ]
     },
     "execution_count": 43,
     "metadata": {},
     "output_type": "execute_result"
    }
   ],
   "source": [
    "#Plot Altair 6a; per_country time series chart for daily new cases, recovered, and deaths - version 3 (more fancy selector)\n",
    "# I use US data\n",
    "import altair as alt\n",
    "import pandas as pd\n",
    "import numpy as np\n",
    "\n",
    "\n",
    "#declare data and initialization\n",
    "data = US_ts\n",
    "#column name: date\tvalue_confirmed\tdaily_new_confirmed\tvalue_death\tdaily_new_death\tvalue_recovered\tdaily_new_recovered\n",
    "\n",
    "#specifying form of data; read: https://altair-viz.github.io/user_guide/data.html#long-form-vs-wide-form-data\n",
    "base = alt.Chart(data).transform_fold(\n",
    "    ['daily_new_confirmed', 'daily_new_recovered', 'daily_new_death']\n",
    ")\n",
    "\n",
    "# Create a selection that chooses the nearest point & selects based on x-value\n",
    "nearest = alt.selection(type='single', nearest=True, on='mouseover',\n",
    "                        fields=['date'], empty='none')\n",
    "\n",
    "# The basic line\n",
    "line = base.mark_line().encode(\n",
    "    x='date:T',\n",
    "    y=alt.Y('value:Q', axis=alt.Axis(title='# of cases')),\n",
    "    color='key:N',\n",
    "    \n",
    ")\n",
    "\n",
    "# Transparent selectors across the chart. This is what tells us\n",
    "# the x-value of the cursor\n",
    "selectors = base.mark_point().encode(\n",
    "    x='date:T',\n",
    "    opacity=alt.value(0),\n",
    "    tooltip=[ alt.Tooltip('yearmonthdate(date)', title=\"Date\")]\n",
    ").add_selection(\n",
    "    nearest\n",
    ")\n",
    "\n",
    "# Draw points on the line, and highlight based on selection\n",
    "points = line.mark_point().encode(\n",
    "    opacity=alt.condition(nearest, alt.value(1), alt.value(0))\n",
    ")\n",
    "\n",
    "# Draw text labels near the points, and highlight based on selection\n",
    "text = line.mark_text(align='left', dx=5, dy=-5).encode(\n",
    "    text=alt.condition(nearest, 'value:Q', alt.value(' '))\n",
    ")\n",
    "\n",
    "# Draw a rule at the location of the selection\n",
    "rules = alt.Chart(data).mark_rule(color='gray').encode(\n",
    "    x='date:T',\n",
    "    \n",
    ").transform_filter(\n",
    "    nearest\n",
    ")\n",
    "\n",
    "# Put the five layers into a chart and bind the data\n",
    "chart = alt.layer(\n",
    "    line, selectors, points, rules, text\n",
    ").properties(\n",
    "    width=900, height=300\n",
    ")\n",
    "chart"
   ]
  },
  {
   "cell_type": "code",
   "execution_count": 36,
   "metadata": {},
   "outputs": [
    {
     "data": {
      "text/html": [
       "\n",
       "<div id=\"altair-viz-4253e71767aa422ca1891dfb35c68da7\"></div>\n",
       "<script type=\"text/javascript\">\n",
       "  (function(spec, embedOpt){\n",
       "    let outputDiv = document.currentScript.previousElementSibling;\n",
       "    if (outputDiv.id !== \"altair-viz-4253e71767aa422ca1891dfb35c68da7\") {\n",
       "      outputDiv = document.getElementById(\"altair-viz-4253e71767aa422ca1891dfb35c68da7\");\n",
       "    }\n",
       "    const paths = {\n",
       "      \"vega\": \"https://cdn.jsdelivr.net/npm//vega@5?noext\",\n",
       "      \"vega-lib\": \"https://cdn.jsdelivr.net/npm//vega-lib?noext\",\n",
       "      \"vega-lite\": \"https://cdn.jsdelivr.net/npm//vega-lite@4.8.1?noext\",\n",
       "      \"vega-embed\": \"https://cdn.jsdelivr.net/npm//vega-embed@6?noext\",\n",
       "    };\n",
       "\n",
       "    function loadScript(lib) {\n",
       "      return new Promise(function(resolve, reject) {\n",
       "        var s = document.createElement('script');\n",
       "        s.src = paths[lib];\n",
       "        s.async = true;\n",
       "        s.onload = () => resolve(paths[lib]);\n",
       "        s.onerror = () => reject(`Error loading script: ${paths[lib]}`);\n",
       "        document.getElementsByTagName(\"head\")[0].appendChild(s);\n",
       "      });\n",
       "    }\n",
       "\n",
       "    function showError(err) {\n",
       "      outputDiv.innerHTML = `<div class=\"error\" style=\"color:red;\">${err}</div>`;\n",
       "      throw err;\n",
       "    }\n",
       "\n",
       "    function displayChart(vegaEmbed) {\n",
       "      vegaEmbed(outputDiv, spec, embedOpt)\n",
       "        .catch(err => showError(`Javascript Error: ${err.message}<br>This usually means there's a typo in your chart specification. See the javascript console for the full traceback.`));\n",
       "    }\n",
       "\n",
       "    if(typeof define === \"function\" && define.amd) {\n",
       "      requirejs.config({paths});\n",
       "      require([\"vega-embed\"], displayChart, err => showError(`Error loading script: ${err.message}`));\n",
       "    } else if (typeof vegaEmbed === \"function\") {\n",
       "      displayChart(vegaEmbed);\n",
       "    } else {\n",
       "      loadScript(\"vega\")\n",
       "        .then(() => loadScript(\"vega-lite\"))\n",
       "        .then(() => loadScript(\"vega-embed\"))\n",
       "        .catch(showError)\n",
       "        .then(() => displayChart(vegaEmbed));\n",
       "    }\n",
       "  })({\"config\": {\"view\": {\"continuousWidth\": 400, \"continuousHeight\": 300, \"strokeWidth\": 0}}, \"layer\": [{\"mark\": {\"type\": \"geoshape\", \"fill\": \"white\"}}, {\"mark\": {\"type\": \"geoshape\", \"stroke\": \"black\", \"strokeWidth\": 0.15}, \"encoding\": {\"color\": {\"type\": \"nominal\", \"field\": \"confirmed\", \"legend\": null, \"scale\": {\"scheme\": \"redpurple\"}}, \"tooltip\": [{\"type\": \"nominal\", \"field\": \"Country/Region\", \"title\": \"Country\"}, {\"type\": \"quantitative\", \"field\": \"confirmed\", \"title\": \"confirmed cases\"}]}, \"transform\": [{\"lookup\": \"id\", \"from\": {\"data\": {\"name\": \"data-4855839c04d142872c011215e6c359be\"}, \"key\": \"id\", \"fields\": [\"confirmed\", \"Country/Region\"]}}]}], \"data\": {\"url\": \"https://vega.github.io/vega-datasets/data/world-110m.json\", \"format\": {\"feature\": \"countries\", \"type\": \"topojson\"}}, \"height\": 400, \"projection\": {\"type\": \"naturalEarth1\"}, \"width\": 700, \"$schema\": \"https://vega.github.io/schema/vega-lite/v4.8.1.json\", \"datasets\": {\"data-4855839c04d142872c011215e6c359be\": [{\"Country/Region\": \"United States\", \"code3\": \"USA\", \"id\": 840, \"confirmed\": 11202980, \"recovered\": 4244811, \"deaths\": 247202, \"population\": 326687501, \"cases/million\": 34292.65, \"death rate(%)\": 2.21}, {\"Country/Region\": \"India\", \"code3\": \"IND\", \"id\": 356, \"confirmed\": 8873541, \"recovered\": 8289073, \"deaths\": 130503, \"population\": 1352617328, \"cases/million\": 6560.27, \"death rate(%)\": 1.47}, {\"Country/Region\": \"Brazil\", \"code3\": \"BRA\", \"id\": 76, \"confirmed\": 5876464, \"recovered\": 5335498, \"deaths\": 166014, \"population\": 209469333, \"cases/million\": 28054.05, \"death rate(%)\": 2.83}, {\"Country/Region\": \"France\", \"code3\": \"FRA\", \"id\": 250, \"confirmed\": 2041293, \"recovered\": 146396, \"deaths\": 45122, \"population\": 66977107, \"cases/million\": 30477.47, \"death rate(%)\": 2.21}, {\"Country/Region\": \"Russia\", \"code3\": \"RUS\", \"id\": 643, \"confirmed\": 1932711, \"recovered\": 1443393, \"deaths\": 33184, \"population\": 144478050, \"cases/million\": 13377.19, \"death rate(%)\": 1.72}, {\"Country/Region\": \"Spain\", \"code3\": \"ESP\", \"id\": 724, \"confirmed\": 1496864, \"recovered\": 150376, \"deaths\": 41253, \"population\": 46796540, \"cases/million\": 31986.64, \"death rate(%)\": 2.76}, {\"Country/Region\": \"United Kingdom\", \"code3\": \"GBR\", \"id\": 826, \"confirmed\": 1394299, \"recovered\": 3135, \"deaths\": 52240, \"population\": 66460344, \"cases/million\": 20979.41, \"death rate(%)\": 3.75}, {\"Country/Region\": \"Argentina\", \"code3\": \"ARG\", \"id\": 32, \"confirmed\": 1318384, \"recovered\": 1140196, \"deaths\": 35727, \"population\": 44494502, \"cases/million\": 29630.27, \"death rate(%)\": 2.71}, {\"Country/Region\": \"Italy\", \"code3\": \"ITA\", \"id\": 380, \"confirmed\": 1205881, \"recovered\": 442364, \"deaths\": 45733, \"population\": 60421760, \"cases/million\": 19957.73, \"death rate(%)\": 3.79}, {\"Country/Region\": \"Colombia\", \"code3\": \"COL\", \"id\": 170, \"confirmed\": 1205217, \"recovered\": 1111867, \"deaths\": 34223, \"population\": 49648685, \"cases/million\": 24274.9, \"death rate(%)\": 2.84}, {\"Country/Region\": \"Mexico\", \"code3\": \"MEX\", \"id\": 484, \"confirmed\": 1009396, \"recovered\": 754200, \"deaths\": 98861, \"population\": 126190788, \"cases/million\": 7998.97, \"death rate(%)\": 9.79}, {\"Country/Region\": \"Peru\", \"code3\": \"PER\", \"id\": 604, \"confirmed\": 937011, \"recovered\": 865348, \"deaths\": 35231, \"population\": 31989256, \"cases/million\": 29291.43, \"death rate(%)\": 3.76}, {\"Country/Region\": \"Germany\", \"code3\": \"DEU\", \"id\": 276, \"confirmed\": 817526, \"recovered\": 522313, \"deaths\": 12833, \"population\": 82905782, \"cases/million\": 9860.9, \"death rate(%)\": 1.57}, {\"Country/Region\": \"South Africa\", \"code3\": \"ZAF\", \"id\": 710, \"confirmed\": 752269, \"recovered\": 695496, \"deaths\": 20314, \"population\": 57779622, \"cases/million\": 13019.62, \"death rate(%)\": 2.7}, {\"Country/Region\": \"Poland\", \"code3\": \"POL\", \"id\": 616, \"confirmed\": 733788, \"recovered\": 306022, \"deaths\": 10491, \"population\": 37974750, \"cases/million\": 19323.05, \"death rate(%)\": 1.43}, {\"Country/Region\": \"Ukraine\", \"code3\": \"UKR\", \"id\": 804, \"confirmed\": 561581, \"recovered\": 254653, \"deaths\": 10002, \"population\": 44622516, \"cases/million\": 12585.15, \"death rate(%)\": 1.78}, {\"Country/Region\": \"Belgium\", \"code3\": \"BEL\", \"id\": 56, \"confirmed\": 537871, \"recovered\": 0, \"deaths\": 14616, \"population\": 11433256, \"cases/million\": 47044.43, \"death rate(%)\": 2.72}, {\"Country/Region\": \"Chile\", \"code3\": \"CHL\", \"id\": 152, \"confirmed\": 532604, \"recovered\": 508067, \"deaths\": 14863, \"population\": 18729160, \"cases/million\": 28437.15, \"death rate(%)\": 2.79}, {\"Country/Region\": \"Iraq\", \"code3\": \"IRQ\", \"id\": 368, \"confirmed\": 521542, \"recovered\": 449565, \"deaths\": 11712, \"population\": 38433600, \"cases/million\": 13569.95, \"death rate(%)\": 2.25}, {\"Country/Region\": \"Indonesia\", \"code3\": \"IDN\", \"id\": 360, \"confirmed\": 470648, \"recovered\": 395443, \"deaths\": 15296, \"population\": 267663435, \"cases/million\": 1758.36, \"death rate(%)\": 3.25}, {\"Country/Region\": \"Bangladesh\", \"code3\": \"BGD\", \"id\": 50, \"confirmed\": 434472, \"recovered\": 351146, \"deaths\": 6215, \"population\": 161356039, \"cases/million\": 2692.63, \"death rate(%)\": 1.43}, {\"Country/Region\": \"Turkey\", \"code3\": \"TUR\", \"id\": 792, \"confirmed\": 417594, \"recovered\": 356375, \"deaths\": 11601, \"population\": 82319724, \"cases/million\": 5072.83, \"death rate(%)\": 2.78}, {\"Country/Region\": \"Romania\", \"code3\": \"ROU\", \"id\": 642, \"confirmed\": 365212, \"recovered\": 246633, \"deaths\": 9075, \"population\": 19466145, \"cases/million\": 18761.39, \"death rate(%)\": 2.48}, {\"Country/Region\": \"Pakistan\", \"code3\": \"PAK\", \"id\": 586, \"confirmed\": 361082, \"recovered\": 324834, \"deaths\": 7193, \"population\": 212215030, \"cases/million\": 1701.49, \"death rate(%)\": 1.99}, {\"Country/Region\": \"Saudi Arabia\", \"code3\": \"SAU\", \"id\": 682, \"confirmed\": 353556, \"recovered\": 340668, \"deaths\": 5676, \"population\": 33699947, \"cases/million\": 10491.29, \"death rate(%)\": 1.61}, {\"Country/Region\": \"Israel\", \"code3\": \"ISR\", \"id\": 376, \"confirmed\": 324755, \"recovered\": 314093, \"deaths\": 2735, \"population\": 8882800, \"cases/million\": 36559.98, \"death rate(%)\": 0.84}, {\"Country/Region\": \"Canada\", \"code3\": \"CAN\", \"id\": 124, \"confirmed\": 305449, \"recovered\": 244699, \"deaths\": 11075, \"population\": 37057765, \"cases/million\": 8242.51, \"death rate(%)\": 3.63}, {\"Country/Region\": \"Morocco\", \"code3\": \"MAR\", \"id\": 504, \"confirmed\": 296189, \"recovered\": 243359, \"deaths\": 4850, \"population\": 36029138, \"cases/million\": 8220.82, \"death rate(%)\": 1.64}, {\"Country/Region\": \"Switzerland\", \"code3\": \"CHE\", \"id\": 756, \"confirmed\": 269974, \"recovered\": 141000, \"deaths\": 3536, \"population\": 8513227, \"cases/million\": 31712.3, \"death rate(%)\": 1.31}, {\"Country/Region\": \"Portugal\", \"code3\": \"PRT\", \"id\": 620, \"confirmed\": 225672, \"recovered\": 142155, \"deaths\": 3472, \"population\": 10283822, \"cases/million\": 21944.37, \"death rate(%)\": 1.54}, {\"Country/Region\": \"Nepal\", \"code3\": \"NPL\", \"id\": 524, \"confirmed\": 210973, \"recovered\": 176364, \"deaths\": 1230, \"population\": 28087871, \"cases/million\": 7511.18, \"death rate(%)\": 0.58}, {\"Country/Region\": \"Austria\", \"code3\": \"AUT\", \"id\": 40, \"confirmed\": 208613, \"recovered\": 129671, \"deaths\": 1887, \"population\": 8840521, \"cases/million\": 23597.36, \"death rate(%)\": 0.9}, {\"Country/Region\": \"Ecuador\", \"code3\": \"ECU\", \"id\": 218, \"confirmed\": 180676, \"recovered\": 160639, \"deaths\": 13016, \"population\": 17084357, \"cases/million\": 10575.52, \"death rate(%)\": 7.2}, {\"Country/Region\": \"Sweden\", \"code3\": \"SWE\", \"id\": 752, \"confirmed\": 177355, \"recovered\": 0, \"deaths\": 6164, \"population\": 10175214, \"cases/million\": 17430.1, \"death rate(%)\": 3.48}, {\"Country/Region\": \"Jordan\", \"code3\": \"JOR\", \"id\": 400, \"confirmed\": 149539, \"recovered\": 10311, \"deaths\": 1843, \"population\": 9956011, \"cases/million\": 15019.97, \"death rate(%)\": 1.23}, {\"Country/Region\": \"Panama\", \"code3\": \"PAN\", \"id\": 591, \"confirmed\": 147667, \"recovered\": 126746, \"deaths\": 2881, \"population\": 4176873, \"cases/million\": 35353.48, \"death rate(%)\": 1.95}, {\"Country/Region\": \"Hungary\", \"code3\": \"HUN\", \"id\": 348, \"confirmed\": 147456, \"recovered\": 34010, \"deaths\": 3190, \"population\": 9775564, \"cases/million\": 15084.14, \"death rate(%)\": 2.16}, {\"Country/Region\": \"Kuwait\", \"code3\": \"KWT\", \"id\": 414, \"confirmed\": 137329, \"recovered\": 128414, \"deaths\": 842, \"population\": 4137309, \"cases/million\": 33192.83, \"death rate(%)\": 0.61}, {\"Country/Region\": \"Qatar\", \"code3\": \"QAT\", \"id\": 634, \"confirmed\": 136028, \"recovered\": 133010, \"deaths\": 235, \"population\": 2781677, \"cases/million\": 48901.44, \"death rate(%)\": 0.17}, {\"Country/Region\": \"Costa Rica\", \"code3\": \"CRI\", \"id\": 188, \"confirmed\": 124592, \"recovered\": 77164, \"deaths\": 1566, \"population\": 4999441, \"cases/million\": 24921.19, \"death rate(%)\": 1.26}, {\"Country/Region\": \"Kazakhstan\", \"code3\": \"KAZ\", \"id\": 398, \"confirmed\": 121653, \"recovered\": 110382, \"deaths\": 1899, \"population\": 18272430, \"cases/million\": 6657.74, \"death rate(%)\": 1.56}, {\"Country/Region\": \"Oman\", \"code3\": \"OMN\", \"id\": 512, \"confirmed\": 120718, \"recovered\": 111446, \"deaths\": 1350, \"population\": 4829483, \"cases/million\": 24996.05, \"death rate(%)\": 1.12}, {\"Country/Region\": \"Japan\", \"code3\": \"JPN\", \"id\": 392, \"confirmed\": 119557, \"recovered\": 102810, \"deaths\": 1883, \"population\": 126529100, \"cases/million\": 944.9, \"death rate(%)\": 1.57}, {\"Country/Region\": \"Armenia\", \"code3\": \"ARM\", \"id\": 51, \"confirmed\": 117886, \"recovered\": 75865, \"deaths\": 1788, \"population\": 2951776, \"cases/million\": 39937.31, \"death rate(%)\": 1.52}, {\"Country/Region\": \"Belarus\", \"code3\": \"BLR\", \"id\": 112, \"confirmed\": 115448, \"recovered\": 96462, \"deaths\": 1053, \"population\": 9483499, \"cases/million\": 12173.57, \"death rate(%)\": 0.91}, {\"Country/Region\": \"Guatemala\", \"code3\": \"GTM\", \"id\": 320, \"confirmed\": 115032, \"recovered\": 104786, \"deaths\": 3938, \"population\": 17247807, \"cases/million\": 6669.37, \"death rate(%)\": 3.42}, {\"Country/Region\": \"Egypt\", \"code3\": \"EGY\", \"id\": 818, \"confirmed\": 111009, \"recovered\": 101179, \"deaths\": 6465, \"population\": 98423595, \"cases/million\": 1127.87, \"death rate(%)\": 5.82}, {\"Country/Region\": \"Lebanon\", \"code3\": \"LBN\", \"id\": 422, \"confirmed\": 106446, \"recovered\": 61263, \"deaths\": 827, \"population\": 6848925, \"cases/million\": 15542.0, \"death rate(%)\": 0.78}, {\"Country/Region\": \"Honduras\", \"code3\": \"HND\", \"id\": 340, \"confirmed\": 103239, \"recovered\": 44915, \"deaths\": 2839, \"population\": 9587522, \"cases/million\": 10768.06, \"death rate(%)\": 2.75}, {\"Country/Region\": \"Ethiopia\", \"code3\": \"ETH\", \"id\": 231, \"confirmed\": 103056, \"recovered\": 64130, \"deaths\": 1581, \"population\": 109224559, \"cases/million\": 943.52, \"death rate(%)\": 1.53}, {\"Country/Region\": \"Bulgaria\", \"code3\": \"BGR\", \"id\": 100, \"confirmed\": 101770, \"recovered\": 30317, \"deaths\": 2282, \"population\": 7025037, \"cases/million\": 14486.76, \"death rate(%)\": 2.24}, {\"Country/Region\": \"China\", \"code3\": \"CHN\", \"id\": 156, \"confirmed\": 91872, \"recovered\": 86616, \"deaths\": 4742, \"population\": 1392730000, \"cases/million\": 65.97, \"death rate(%)\": 5.16}, {\"Country/Region\": \"Serbia\", \"code3\": \"SRB\", \"id\": 688, \"confirmed\": 87381, \"recovered\": 0, \"deaths\": 1030, \"population\": 6963764, \"cases/million\": 12547.96, \"death rate(%)\": 1.18}, {\"Country/Region\": \"Slovakia\", \"code3\": \"SVK\", \"id\": 703, \"confirmed\": 87276, \"recovered\": 31053, \"deaths\": 526, \"population\": 5446771, \"cases/million\": 16023.44, \"death rate(%)\": 0.6}, {\"Country/Region\": \"Croatia\", \"code3\": \"HRV\", \"id\": 191, \"confirmed\": 85519, \"recovered\": 68738, \"deaths\": 1082, \"population\": 4087843, \"cases/million\": 20920.32, \"death rate(%)\": 1.27}, {\"Country/Region\": \"Bahrain\", \"code3\": \"BHR\", \"id\": 48, \"confirmed\": 84882, \"recovered\": 82680, \"deaths\": 337, \"population\": 1569439, \"cases/million\": 54084.29, \"death rate(%)\": 0.4}, {\"Country/Region\": \"Georgia\", \"code3\": \"GEO\", \"id\": 268, \"confirmed\": 82835, \"recovered\": 65291, \"deaths\": 733, \"population\": 3726549, \"cases/million\": 22228.34, \"death rate(%)\": 0.88}, {\"Country/Region\": \"Tunisia\", \"code3\": \"TUN\", \"id\": 788, \"confirmed\": 81003, \"recovered\": 55551, \"deaths\": 2396, \"population\": 11565204, \"cases/million\": 7004.03, \"death rate(%)\": 2.96}, {\"Country/Region\": \"Azerbaijan\", \"code3\": \"AZE\", \"id\": 31, \"confirmed\": 77083, \"recovered\": 55755, \"deaths\": 985, \"population\": 9939800, \"cases/million\": 7754.99, \"death rate(%)\": 1.28}, {\"Country/Region\": \"Greece\", \"code3\": \"GRC\", \"id\": 300, \"confirmed\": 76403, \"recovered\": 23074, \"deaths\": 1165, \"population\": 10731726, \"cases/million\": 7119.36, \"death rate(%)\": 1.52}, {\"Country/Region\": \"Bosnia and Herzegovina\", \"code3\": \"BIH\", \"id\": 70, \"confirmed\": 72689, \"recovered\": 36473, \"deaths\": 1973, \"population\": 3323929, \"cases/million\": 21868.4, \"death rate(%)\": 2.71}, {\"Country/Region\": \"Paraguay\", \"code3\": \"PRY\", \"id\": 600, \"confirmed\": 72099, \"recovered\": 51776, \"deaths\": 1602, \"population\": 6956071, \"cases/million\": 10364.9, \"death rate(%)\": 2.22}, {\"Country/Region\": \"Kenya\", \"code3\": \"KEN\", \"id\": 404, \"confirmed\": 70804, \"recovered\": 46244, \"deaths\": 1287, \"population\": 51393010, \"cases/million\": 1377.7, \"death rate(%)\": 1.82}, {\"Country/Region\": \"Uzbekistan\", \"code3\": \"UZB\", \"id\": 860, \"confirmed\": 70381, \"recovered\": 67655, \"deaths\": 598, \"population\": 32955400, \"cases/million\": 2135.64, \"death rate(%)\": 0.85}, {\"Country/Region\": \"Algeria\", \"code3\": \"DZA\", \"id\": 12, \"confirmed\": 68589, \"recovered\": 45148, \"deaths\": 2168, \"population\": 42228429, \"cases/million\": 1624.24, \"death rate(%)\": 3.16}, {\"Country/Region\": \"Ireland\", \"code3\": \"IRL\", \"id\": 372, \"confirmed\": 68356, \"recovered\": 23364, \"deaths\": 1984, \"population\": 4867309, \"cases/million\": 14043.9, \"death rate(%)\": 2.9}, {\"Country/Region\": \"Kyrgyzstan\", \"code3\": \"KGZ\", \"id\": 417, \"confirmed\": 66983, \"recovered\": 57760, \"deaths\": 1203, \"population\": 6322800, \"cases/million\": 10593.88, \"death rate(%)\": 1.8}, {\"Country/Region\": \"Nigeria\", \"code3\": \"NGA\", \"id\": 566, \"confirmed\": 65305, \"recovered\": 61162, \"deaths\": 1163, \"population\": 195874740, \"cases/million\": 333.4, \"death rate(%)\": 1.78}, {\"Country/Region\": \"Denmark\", \"code3\": \"DNK\", \"id\": 208, \"confirmed\": 63847, \"recovered\": 49208, \"deaths\": 764, \"population\": 5793636, \"cases/million\": 11020.2, \"death rate(%)\": 1.2}, {\"Country/Region\": \"Singapore\", \"code3\": \"SGP\", \"id\": 702, \"confirmed\": 58124, \"recovered\": 58033, \"deaths\": 28, \"population\": 5638676, \"cases/million\": 10308.09, \"death rate(%)\": 0.05}, {\"Country/Region\": \"Slovenia\", \"code3\": \"SVN\", \"id\": 705, \"confirmed\": 55544, \"recovered\": 35387, \"deaths\": 831, \"population\": 2073894, \"cases/million\": 26782.47, \"death rate(%)\": 1.5}, {\"Country/Region\": \"Ghana\", \"code3\": \"GHA\", \"id\": 288, \"confirmed\": 50376, \"recovered\": 48626, \"deaths\": 323, \"population\": 29767108, \"cases/million\": 1692.34, \"death rate(%)\": 0.64}, {\"Country/Region\": \"Malaysia\", \"code3\": \"MYS\", \"id\": 458, \"confirmed\": 48520, \"recovered\": 35606, \"deaths\": 313, \"population\": 31528585, \"cases/million\": 1538.92, \"death rate(%)\": 0.65}, {\"Country/Region\": \"Afghanistan\", \"code3\": \"AFG\", \"id\": 4, \"confirmed\": 43403, \"recovered\": 35137, \"deaths\": 1626, \"population\": 37172386, \"cases/million\": 1167.61, \"death rate(%)\": 3.75}, {\"Country/Region\": \"El Salvador\", \"code3\": \"SLV\", \"id\": 222, \"confirmed\": 36669, \"recovered\": 33064, \"deaths\": 1047, \"population\": 6420744, \"cases/million\": 5711.02, \"death rate(%)\": 2.86}, {\"Country/Region\": \"Lithuania\", \"code3\": \"LTU\", \"id\": 440, \"confirmed\": 35911, \"recovered\": 7882, \"deaths\": 285, \"population\": 2801543, \"cases/million\": 12818.29, \"death rate(%)\": 0.79}, {\"Country/Region\": \"Norway\", \"code3\": \"NOR\", \"id\": 578, \"confirmed\": 28434, \"recovered\": 17998, \"deaths\": 294, \"population\": 5311916, \"cases/million\": 5352.87, \"death rate(%)\": 1.03}, {\"Country/Region\": \"Albania\", \"code3\": \"ALB\", \"id\": 8, \"confirmed\": 28432, \"recovered\": 13453, \"deaths\": 631, \"population\": 2866376, \"cases/million\": 9919.15, \"death rate(%)\": 2.22}, {\"Country/Region\": \"Montenegro\", \"code3\": \"MNE\", \"id\": 499, \"confirmed\": 27773, \"recovered\": 17862, \"deaths\": 396, \"population\": 631219, \"cases/million\": 43998.99, \"death rate(%)\": 1.43}, {\"Country/Region\": \"Australia\", \"code3\": \"AUS\", \"id\": 36, \"confirmed\": 27758, \"recovered\": 25499, \"deaths\": 907, \"population\": 24982688, \"cases/million\": 1111.09, \"death rate(%)\": 3.27}, {\"Country/Region\": \"Luxembourg\", \"code3\": \"LUX\", \"id\": 442, \"confirmed\": 27256, \"recovered\": 17734, \"deaths\": 236, \"population\": 607950, \"cases/million\": 44832.63, \"death rate(%)\": 0.87}, {\"Country/Region\": \"Cameroon\", \"code3\": \"CMR\", \"id\": 120, \"confirmed\": 22692, \"recovered\": 21510, \"deaths\": 433, \"population\": 25216237, \"cases/million\": 899.9, \"death rate(%)\": 1.91}, {\"Country/Region\": \"Finland\", \"code3\": \"FIN\", \"id\": 246, \"confirmed\": 19419, \"recovered\": 14000, \"deaths\": 371, \"population\": 5515525, \"cases/million\": 3520.79, \"death rate(%)\": 1.91}, {\"Country/Region\": \"Madagascar\", \"code3\": \"MDG\", \"id\": 450, \"confirmed\": 17310, \"recovered\": 16592, \"deaths\": 250, \"population\": 26262368, \"cases/million\": 659.12, \"death rate(%)\": 1.44}, {\"Country/Region\": \"Zambia\", \"code3\": \"ZMB\", \"id\": 894, \"confirmed\": 17187, \"recovered\": 16400, \"deaths\": 353, \"population\": 17351822, \"cases/million\": 990.5, \"death rate(%)\": 2.05}, {\"Country/Region\": \"Uganda\", \"code3\": \"UGA\", \"id\": 800, \"confirmed\": 16257, \"recovered\": 8170, \"deaths\": 150, \"population\": 42723139, \"cases/million\": 380.52, \"death rate(%)\": 0.92}, {\"Country/Region\": \"Senegal\", \"code3\": \"SEN\", \"id\": 686, \"confirmed\": 15801, \"recovered\": 15421, \"deaths\": 329, \"population\": 15854360, \"cases/million\": 996.63, \"death rate(%)\": 2.08}, {\"Country/Region\": \"Mozambique\", \"code3\": \"MOZ\", \"id\": 508, \"confirmed\": 14514, \"recovered\": 12599, \"deaths\": 116, \"population\": 29495962, \"cases/million\": 492.07, \"death rate(%)\": 0.8}, {\"Country/Region\": \"Angola\", \"code3\": \"AGO\", \"id\": 24, \"confirmed\": 13615, \"recovered\": 6523, \"deaths\": 324, \"population\": 30809762, \"cases/million\": 441.91, \"death rate(%)\": 2.38}, {\"Country/Region\": \"Namibia\", \"code3\": \"NAM\", \"id\": 516, \"confirmed\": 13555, \"recovered\": 12843, \"deaths\": 138, \"population\": 2448255, \"cases/million\": 5536.6, \"death rate(%)\": 1.02}, {\"Country/Region\": \"Guinea\", \"code3\": \"GIN\", \"id\": 324, \"confirmed\": 12624, \"recovered\": 11270, \"deaths\": 75, \"population\": 12414318, \"cases/million\": 1016.89, \"death rate(%)\": 0.59}, {\"Country/Region\": \"Maldives\", \"code3\": \"MDV\", \"id\": 462, \"confirmed\": 12314, \"recovered\": 11316, \"deaths\": 44, \"population\": 515696, \"cases/million\": 23878.41, \"death rate(%)\": 0.36}, {\"Country/Region\": \"Tajikistan\", \"code3\": \"TJK\", \"id\": 762, \"confirmed\": 11649, \"recovered\": 11019, \"deaths\": 85, \"population\": 9100837, \"cases/million\": 1279.99, \"death rate(%)\": 0.73}, {\"Country/Region\": \"Latvia\", \"code3\": \"LVA\", \"id\": 428, \"confirmed\": 10636, \"recovered\": 1515, \"deaths\": 126, \"population\": 1927174, \"cases/million\": 5518.96, \"death rate(%)\": 1.18}, {\"Country/Region\": \"Jamaica\", \"code3\": \"JAM\", \"id\": 388, \"confirmed\": 9929, \"recovered\": 5330, \"deaths\": 231, \"population\": 2934855, \"cases/million\": 3383.13, \"death rate(%)\": 2.33}, {\"Country/Region\": \"Haiti\", \"code3\": \"HTI\", \"id\": 332, \"confirmed\": 9188, \"recovered\": 7801, \"deaths\": 232, \"population\": 11123176, \"cases/million\": 826.02, \"death rate(%)\": 2.53}, {\"Country/Region\": \"Botswana\", \"code3\": \"BWA\", \"id\": 72, \"confirmed\": 9103, \"recovered\": 6801, \"deaths\": 30, \"population\": 2254126, \"cases/million\": 4038.37, \"death rate(%)\": 0.33}, {\"Country/Region\": \"Gabon\", \"code3\": \"GAB\", \"id\": 266, \"confirmed\": 9084, \"recovered\": 8957, \"deaths\": 58, \"population\": 2119275, \"cases/million\": 4286.37, \"death rate(%)\": 0.64}, {\"Country/Region\": \"Zimbabwe\", \"code3\": \"ZWE\", \"id\": 716, \"confirmed\": 8897, \"recovered\": 8116, \"deaths\": 257, \"population\": 14439018, \"cases/million\": 616.18, \"death rate(%)\": 2.89}, {\"Country/Region\": \"Malta\", \"code3\": \"MLT\", \"id\": 470, \"confirmed\": 8137, \"recovered\": 5888, \"deaths\": 98, \"population\": 484630, \"cases/million\": 16790.13, \"death rate(%)\": 1.2}, {\"Country/Region\": \"Mauritania\", \"code3\": \"MRT\", \"id\": 478, \"confirmed\": 7979, \"recovered\": 7536, \"deaths\": 165, \"population\": 4403319, \"cases/million\": 1812.04, \"death rate(%)\": 2.07}, {\"Country/Region\": \"Estonia\", \"code3\": \"EST\", \"id\": 233, \"confirmed\": 7848, \"recovered\": 4749, \"deaths\": 81, \"population\": 1321977, \"cases/million\": 5936.56, \"death rate(%)\": 1.03}, {\"Country/Region\": \"Cuba\", \"code3\": \"CUB\", \"id\": 192, \"confirmed\": 7639, \"recovered\": 7078, \"deaths\": 131, \"population\": 11338138, \"cases/million\": 673.74, \"death rate(%)\": 1.71}, {\"Country/Region\": \"Cyprus\", \"code3\": \"CYP\", \"id\": 196, \"confirmed\": 7285, \"recovered\": 2021, \"deaths\": 40, \"population\": 1189265, \"cases/million\": 6125.63, \"death rate(%)\": 0.55}, {\"Country/Region\": \"Trinidad and Tobago\", \"code3\": \"TTO\", \"id\": 780, \"confirmed\": 6096, \"recovered\": 5440, \"deaths\": 112, \"population\": 1389858, \"cases/million\": 4386.06, \"death rate(%)\": 1.84}, {\"Country/Region\": \"Malawi\", \"code3\": \"MWI\", \"id\": 454, \"confirmed\": 5971, \"recovered\": 5402, \"deaths\": 185, \"population\": 18143315, \"cases/million\": 329.1, \"death rate(%)\": 3.1}, {\"Country/Region\": \"Andorra\", \"code3\": \"AND\", \"id\": 20, \"confirmed\": 5914, \"recovered\": 4830, \"deaths\": 76, \"population\": 77006, \"cases/million\": 76799.21, \"death rate(%)\": 1.29}, {\"Country/Region\": \"Nicaragua\", \"code3\": \"NIC\", \"id\": 558, \"confirmed\": 5661, \"recovered\": 4225, \"deaths\": 158, \"population\": 6465513, \"cases/million\": 875.57, \"death rate(%)\": 2.79}, {\"Country/Region\": \"Djibouti\", \"code3\": \"DJI\", \"id\": 262, \"confirmed\": 5655, \"recovered\": 5542, \"deaths\": 61, \"population\": 958920, \"cases/million\": 5897.26, \"death rate(%)\": 1.08}, {\"Country/Region\": \"Rwanda\", \"code3\": \"RWA\", \"id\": 646, \"confirmed\": 5491, \"recovered\": 5004, \"deaths\": 45, \"population\": 12301939, \"cases/million\": 446.35, \"death rate(%)\": 0.82}, {\"Country/Region\": \"Suriname\", \"code3\": \"SUR\", \"id\": 740, \"confirmed\": 5275, \"recovered\": 5148, \"deaths\": 115, \"population\": 575991, \"cases/million\": 9158.13, \"death rate(%)\": 2.18}, {\"Country/Region\": \"Iceland\", \"code3\": \"ISL\", \"id\": 352, \"confirmed\": 5205, \"recovered\": 4840, \"deaths\": 25, \"population\": 352721, \"cases/million\": 14756.71, \"death rate(%)\": 0.48}, {\"Country/Region\": \"Equatorial Guinea\", \"code3\": \"GNQ\", \"id\": 226, \"confirmed\": 5104, \"recovered\": 4973, \"deaths\": 85, \"population\": 1308974, \"cases/million\": 3899.24, \"death rate(%)\": 1.67}, {\"Country/Region\": \"Guyana\", \"code3\": \"GUY\", \"id\": 328, \"confirmed\": 4894, \"recovered\": 3791, \"deaths\": 139, \"population\": 779004, \"cases/million\": 6282.38, \"death rate(%)\": 2.84}, {\"Country/Region\": \"Belize\", \"code3\": \"BLZ\", \"id\": 84, \"confirmed\": 4883, \"recovered\": 2608, \"deaths\": 94, \"population\": 383071, \"cases/million\": 12746.98, \"death rate(%)\": 1.93}, {\"Country/Region\": \"Somalia\", \"code3\": \"SOM\", \"id\": 706, \"confirmed\": 4301, \"recovered\": 3330, \"deaths\": 107, \"population\": 15008154, \"cases/million\": 286.58, \"death rate(%)\": 2.49}, {\"Country/Region\": \"Uruguay\", \"code3\": \"URY\", \"id\": 858, \"confirmed\": 4104, \"recovered\": 3284, \"deaths\": 67, \"population\": 3449299, \"cases/million\": 1189.81, \"death rate(%)\": 1.63}, {\"Country/Region\": \"Mali\", \"code3\": \"MLI\", \"id\": 466, \"confirmed\": 3948, \"recovered\": 2965, \"deaths\": 141, \"population\": 19077690, \"cases/million\": 206.94, \"death rate(%)\": 3.57}, {\"Country/Region\": \"Thailand\", \"code3\": \"THA\", \"id\": 764, \"confirmed\": 3878, \"recovered\": 3724, \"deaths\": 60, \"population\": 69428524, \"cases/million\": 55.86, \"death rate(%)\": 1.55}, {\"Country/Region\": \"Benin\", \"code3\": \"BEN\", \"id\": 204, \"confirmed\": 2884, \"recovered\": 2579, \"deaths\": 43, \"population\": 11485048, \"cases/million\": 251.11, \"death rate(%)\": 1.49}, {\"Country/Region\": \"Togo\", \"code3\": \"TGO\", \"id\": 768, \"confirmed\": 2693, \"recovered\": 1952, \"deaths\": 61, \"population\": 7889094, \"cases/million\": 341.36, \"death rate(%)\": 2.27}, {\"Country/Region\": \"Burkina Faso\", \"code3\": \"BFA\", \"id\": 854, \"confirmed\": 2652, \"recovered\": 2454, \"deaths\": 68, \"population\": 19751535, \"cases/million\": 134.27, \"death rate(%)\": 2.56}, {\"Country/Region\": \"Guinea-Bissau\", \"code3\": \"GNB\", \"id\": 624, \"confirmed\": 2419, \"recovered\": 2255, \"deaths\": 43, \"population\": 1874309, \"cases/million\": 1290.61, \"death rate(%)\": 1.78}, {\"Country/Region\": \"Sierra Leone\", \"code3\": \"SLE\", \"id\": 694, \"confirmed\": 2391, \"recovered\": 1822, \"deaths\": 74, \"population\": 7650154, \"cases/million\": 312.54, \"death rate(%)\": 3.09}, {\"Country/Region\": \"Yemen\", \"code3\": \"YEM\", \"id\": 887, \"confirmed\": 2078, \"recovered\": 1406, \"deaths\": 605, \"population\": 28498687, \"cases/million\": 72.92, \"death rate(%)\": 29.11}, {\"Country/Region\": \"Lesotho\", \"code3\": \"LSO\", \"id\": 426, \"confirmed\": 2041, \"recovered\": 1056, \"deaths\": 44, \"population\": 2108132, \"cases/million\": 968.16, \"death rate(%)\": 2.16}, {\"Country/Region\": \"New Zealand\", \"code3\": \"NZL\", \"id\": 554, \"confirmed\": 2005, \"recovered\": 1919, \"deaths\": 25, \"population\": 4841000, \"cases/million\": 414.17, \"death rate(%)\": 1.25}, {\"Country/Region\": \"Chad\", \"code3\": \"TCD\", \"id\": 148, \"confirmed\": 1603, \"recovered\": 1448, \"deaths\": 101, \"population\": 15477751, \"cases/million\": 103.57, \"death rate(%)\": 6.3}, {\"Country/Region\": \"Liberia\", \"code3\": \"LBR\", \"id\": 430, \"confirmed\": 1512, \"recovered\": 1318, \"deaths\": 82, \"population\": 4818977, \"cases/million\": 313.76, \"death rate(%)\": 5.42}, {\"Country/Region\": \"San Marino\", \"code3\": \"SMR\", \"id\": 674, \"confirmed\": 1290, \"recovered\": 920, \"deaths\": 42, \"population\": 33785, \"cases/million\": 38182.63, \"death rate(%)\": 3.26}, {\"Country/Region\": \"Vietnam\", \"code3\": \"VNM\", \"id\": 704, \"confirmed\": 1283, \"recovered\": 1124, \"deaths\": 35, \"population\": 95540395, \"cases/million\": 13.43, \"death rate(%)\": 2.73}, {\"Country/Region\": \"Liechtenstein\", \"code3\": \"LIE\", \"id\": 438, \"confirmed\": 989, \"recovered\": 763, \"deaths\": 7, \"population\": 37910, \"cases/million\": 26088.1, \"death rate(%)\": 0.71}, {\"Country/Region\": \"Sao Tome and Principe\", \"code3\": \"STP\", \"id\": 678, \"confirmed\": 965, \"recovered\": 917, \"deaths\": 16, \"population\": 211028, \"cases/million\": 4572.85, \"death rate(%)\": 1.66}, {\"Country/Region\": \"Burundi\", \"code3\": \"BDI\", \"id\": 108, \"confirmed\": 630, \"recovered\": 549, \"deaths\": 1, \"population\": 11175378, \"cases/million\": 56.37, \"death rate(%)\": 0.16}, {\"Country/Region\": \"Papua New Guinea\", \"code3\": \"PNG\", \"id\": 598, \"confirmed\": 602, \"recovered\": 586, \"deaths\": 7, \"population\": 8606316, \"cases/million\": 69.95, \"death rate(%)\": 1.16}, {\"Country/Region\": \"Comoros\", \"code3\": \"COM\", \"id\": 174, \"confirmed\": 579, \"recovered\": 549, \"deaths\": 7, \"population\": 832322, \"cases/million\": 695.64, \"death rate(%)\": 1.21}, {\"Country/Region\": \"Monaco\", \"code3\": \"MCO\", \"id\": 492, \"confirmed\": 552, \"recovered\": 462, \"deaths\": 2, \"population\": 38682, \"cases/million\": 14270.2, \"death rate(%)\": 0.36}, {\"Country/Region\": \"Eritrea\", \"code3\": \"ERI\", \"id\": 232, \"confirmed\": 518, \"recovered\": 451, \"deaths\": 0, \"population\": 3213972, \"cases/million\": 161.17, \"death rate(%)\": 0.0}, {\"Country/Region\": \"Mauritius\", \"code3\": \"MUS\", \"id\": 480, \"confirmed\": 491, \"recovered\": 431, \"deaths\": 10, \"population\": 1265303, \"cases/million\": 388.05, \"death rate(%)\": 2.04}, {\"Country/Region\": \"Mongolia\", \"code3\": \"MNG\", \"id\": 496, \"confirmed\": 434, \"recovered\": 328, \"deaths\": 0, \"population\": 3170208, \"cases/million\": 136.9, \"death rate(%)\": 0.0}, {\"Country/Region\": \"Bhutan\", \"code3\": \"BTN\", \"id\": 64, \"confirmed\": 377, \"recovered\": 355, \"deaths\": 0, \"population\": 754394, \"cases/million\": 499.74, \"death rate(%)\": 0.0}, {\"Country/Region\": \"Cambodia\", \"code3\": \"KHM\", \"id\": 116, \"confirmed\": 303, \"recovered\": 291, \"deaths\": 0, \"population\": 16249798, \"cases/million\": 18.65, \"death rate(%)\": 0.0}, {\"Country/Region\": \"Barbados\", \"code3\": \"BRB\", \"id\": 52, \"confirmed\": 250, \"recovered\": 238, \"deaths\": 7, \"population\": 286641, \"cases/million\": 872.17, \"death rate(%)\": 2.8}, {\"Country/Region\": \"Saint Lucia\", \"code3\": \"LCA\", \"id\": 662, \"confirmed\": 171, \"recovered\": 59, \"deaths\": 2, \"population\": 181889, \"cases/million\": 940.13, \"death rate(%)\": 1.17}, {\"Country/Region\": \"Seychelles\", \"code3\": \"SYC\", \"id\": 690, \"confirmed\": 160, \"recovered\": 157, \"deaths\": 0, \"population\": 96762, \"cases/million\": 1653.54, \"death rate(%)\": 0.0}, {\"Country/Region\": \"Antigua and Barbuda\", \"code3\": \"ATG\", \"id\": 28, \"confirmed\": 134, \"recovered\": 127, \"deaths\": 4, \"population\": 96286, \"cases/million\": 1391.69, \"death rate(%)\": 2.99}, {\"Country/Region\": \"Saint Vincent and the Grenadines\", \"code3\": \"VCT\", \"id\": 670, \"confirmed\": 78, \"recovered\": 77, \"deaths\": 0, \"population\": 110210, \"cases/million\": 707.74, \"death rate(%)\": 0.0}, {\"Country/Region\": \"Dominica\", \"code3\": \"DMA\", \"id\": 212, \"confirmed\": 68, \"recovered\": 41, \"deaths\": 0, \"population\": 71625, \"cases/million\": 949.39, \"death rate(%)\": 0.0}, {\"Country/Region\": \"Grenada\", \"code3\": \"GRD\", \"id\": 308, \"confirmed\": 33, \"recovered\": 29, \"deaths\": 0, \"population\": 111454, \"cases/million\": 296.09, \"death rate(%)\": 0.0}, {\"Country/Region\": \"Saint Kitts and Nevis\", \"code3\": \"KNA\", \"id\": 659, \"confirmed\": 19, \"recovered\": 19, \"deaths\": 0, \"population\": 52441, \"cases/million\": 362.31, \"death rate(%)\": 0.0}, {\"Country/Region\": \"Vanuatu\", \"code3\": \"VUT\", \"id\": 548, \"confirmed\": 1, \"recovered\": 0, \"deaths\": 0, \"population\": 292680, \"cases/million\": 3.42, \"death rate(%)\": 0.0}]}}, {\"mode\": \"vega-lite\"});\n",
       "</script>"
      ],
      "text/plain": [
       "alt.LayerChart(...)"
      ]
     },
     "execution_count": 36,
     "metadata": {},
     "output_type": "execute_result"
    }
   ],
   "source": [
    "#Plot Altair 7 geographical analysis; ref : https://github.com/altair-viz/altair/issues/2044\n",
    "import altair as alt\n",
    "from vega_datasets import data\n",
    "world_source = final_df\n",
    "\n",
    "source = alt.topo_feature(data.world_110m.url, \"countries\")\n",
    "background = alt.Chart(source).mark_geoshape(fill=\"white\")\n",
    "\n",
    "foreground = (\n",
    "    alt.Chart(source)\n",
    "    .mark_geoshape(stroke=\"black\", strokeWidth=0.15)\n",
    "    .encode(\n",
    "        color=alt.Color(\n",
    "            \"confirmed:N\", scale=alt.Scale(scheme=\"redpurple\"), legend=None,\n",
    "        ),\n",
    "        tooltip=[\n",
    "            alt.Tooltip(\"Country/Region:N\", title=\"Country\"),\n",
    "            alt.Tooltip(\"confirmed:Q\", title=\"confirmed cases\"),\n",
    "        ],\n",
    "    \n",
    "    ).transform_lookup(\n",
    "        lookup=\"id\",\n",
    "        from_=alt.LookupData(world_source, \"id\", [\"confirmed\", \"Country/Region\"]),\n",
    "    )\n",
    ")\n",
    "\n",
    "final_map = (\n",
    "    (background + foreground)\n",
    "    .configure_view(strokeWidth=0)\n",
    "    .properties(width=700, height=400)\n",
    "    .project(\"naturalEarth1\")\n",
    ")\n",
    "final_map"
   ]
  },
  {
   "cell_type": "markdown",
   "metadata": {},
   "source": [
    "### [Back to table of content](#main)"
   ]
  },
  {
   "cell_type": "markdown",
   "metadata": {},
   "source": [
    "## 3. Plotly plot <a name=\"ch3\"></a>"
   ]
  },
  {
   "cell_type": "code",
   "execution_count": 37,
   "metadata": {},
   "outputs": [
    {
     "data": {
      "application/vnd.plotly.v1+json": {
       "config": {
        "plotlyServerURL": "https://plot.ly"
       },
       "data": [
        {
         "autocolorscale": false,
         "colorbar": {
          "tickprefix": "",
          "title": {
           "text": "#cases <br>per million populations"
          }
         },
         "colorscale": [
          [
           0,
           "rgb(210, 251, 212)"
          ],
          [
           0.16666666666666666,
           "rgb(165, 219, 194)"
          ],
          [
           0.3333333333333333,
           "rgb(123, 188, 176)"
          ],
          [
           0.5,
           "rgb(85, 156, 158)"
          ],
          [
           0.6666666666666666,
           "rgb(58, 124, 137)"
          ],
          [
           0.8333333333333334,
           "rgb(35, 93, 114)"
          ],
          [
           1,
           "rgb(18, 63, 90)"
          ]
         ],
         "locations": [
          "USA",
          "IND",
          "BRA",
          "FRA",
          "RUS",
          "ESP",
          "GBR",
          "ARG",
          "ITA",
          "COL",
          "MEX",
          "PER",
          "DEU",
          "ZAF",
          "POL",
          "UKR",
          "BEL",
          "CHL",
          "IRQ",
          "IDN",
          "BGD",
          "TUR",
          "ROU",
          "PAK",
          "SAU",
          "ISR",
          "CAN",
          "MAR",
          "CHE",
          "PRT",
          "NPL",
          "AUT",
          "ECU",
          "SWE",
          "JOR",
          "PAN",
          "HUN",
          "KWT",
          "QAT",
          "CRI",
          "KAZ",
          "OMN",
          "JPN",
          "ARM",
          "BLR",
          "GTM",
          "EGY",
          "LBN",
          "HND",
          "ETH",
          "BGR",
          "CHN",
          "SRB",
          "SVK",
          "HRV",
          "BHR",
          "GEO",
          "TUN",
          "AZE",
          "GRC",
          "BIH",
          "PRY",
          "KEN",
          "UZB",
          "DZA",
          "IRL",
          "KGZ",
          "NGA",
          "DNK",
          "SGP",
          "SVN",
          "GHA",
          "MYS",
          "AFG",
          "SLV",
          "LTU",
          "NOR",
          "ALB",
          "MNE",
          "AUS",
          "LUX",
          "CMR",
          "FIN",
          "MDG",
          "ZMB",
          "UGA",
          "SEN",
          "MOZ",
          "AGO",
          "NAM",
          "GIN",
          "MDV",
          "TJK",
          "LVA",
          "JAM",
          "HTI",
          "BWA",
          "GAB",
          "ZWE",
          "MLT",
          "MRT",
          "EST",
          "CUB",
          "CYP",
          "TTO",
          "MWI",
          "AND",
          "NIC",
          "DJI",
          "RWA",
          "SUR",
          "ISL",
          "GNQ",
          "GUY",
          "BLZ",
          "SOM",
          "URY",
          "MLI",
          "THA",
          "BEN",
          "TGO",
          "BFA",
          "GNB",
          "SLE",
          "YEM",
          "LSO",
          "NZL",
          "TCD",
          "LBR",
          "SMR",
          "VNM",
          "LIE",
          "STP",
          "BDI",
          "PNG",
          "COM",
          "MCO",
          "ERI",
          "MUS",
          "MNG",
          "BTN",
          "KHM",
          "BRB",
          "LCA",
          "SYC",
          "ATG",
          "VCT",
          "DMA",
          "GRD",
          "KNA",
          "VUT"
         ],
         "marker": {
          "line": {
           "color": "darkgray",
           "width": 0.5
          }
         },
         "reversescale": false,
         "text": [
          "United States",
          "India",
          "Brazil",
          "France",
          "Russia",
          "Spain",
          "United Kingdom",
          "Argentina",
          "Italy",
          "Colombia",
          "Mexico",
          "Peru",
          "Germany",
          "South Africa",
          "Poland",
          "Ukraine",
          "Belgium",
          "Chile",
          "Iraq",
          "Indonesia",
          "Bangladesh",
          "Turkey",
          "Romania",
          "Pakistan",
          "Saudi Arabia",
          "Israel",
          "Canada",
          "Morocco",
          "Switzerland",
          "Portugal",
          "Nepal",
          "Austria",
          "Ecuador",
          "Sweden",
          "Jordan",
          "Panama",
          "Hungary",
          "Kuwait",
          "Qatar",
          "Costa Rica",
          "Kazakhstan",
          "Oman",
          "Japan",
          "Armenia",
          "Belarus",
          "Guatemala",
          "Egypt",
          "Lebanon",
          "Honduras",
          "Ethiopia",
          "Bulgaria",
          "China",
          "Serbia",
          "Slovakia",
          "Croatia",
          "Bahrain",
          "Georgia",
          "Tunisia",
          "Azerbaijan",
          "Greece",
          "Bosnia and Herzegovina",
          "Paraguay",
          "Kenya",
          "Uzbekistan",
          "Algeria",
          "Ireland",
          "Kyrgyzstan",
          "Nigeria",
          "Denmark",
          "Singapore",
          "Slovenia",
          "Ghana",
          "Malaysia",
          "Afghanistan",
          "El Salvador",
          "Lithuania",
          "Norway",
          "Albania",
          "Montenegro",
          "Australia",
          "Luxembourg",
          "Cameroon",
          "Finland",
          "Madagascar",
          "Zambia",
          "Uganda",
          "Senegal",
          "Mozambique",
          "Angola",
          "Namibia",
          "Guinea",
          "Maldives",
          "Tajikistan",
          "Latvia",
          "Jamaica",
          "Haiti",
          "Botswana",
          "Gabon",
          "Zimbabwe",
          "Malta",
          "Mauritania",
          "Estonia",
          "Cuba",
          "Cyprus",
          "Trinidad and Tobago",
          "Malawi",
          "Andorra",
          "Nicaragua",
          "Djibouti",
          "Rwanda",
          "Suriname",
          "Iceland",
          "Equatorial Guinea",
          "Guyana",
          "Belize",
          "Somalia",
          "Uruguay",
          "Mali",
          "Thailand",
          "Benin",
          "Togo",
          "Burkina Faso",
          "Guinea-Bissau",
          "Sierra Leone",
          "Yemen",
          "Lesotho",
          "New Zealand",
          "Chad",
          "Liberia",
          "San Marino",
          "Vietnam",
          "Liechtenstein",
          "Sao Tome and Principe",
          "Burundi",
          "Papua New Guinea",
          "Comoros",
          "Monaco",
          "Eritrea",
          "Mauritius",
          "Mongolia",
          "Bhutan",
          "Cambodia",
          "Barbados",
          "Saint Lucia",
          "Seychelles",
          "Antigua and Barbuda",
          "Saint Vincent and the Grenadines",
          "Dominica",
          "Grenada",
          "Saint Kitts and Nevis",
          "Vanuatu"
         ],
         "type": "choropleth",
         "z": [
          34292.65,
          6560.27,
          28054.05,
          30477.47,
          13377.19,
          31986.64,
          20979.41,
          29630.27,
          19957.73,
          24274.9,
          7998.97,
          29291.43,
          9860.9,
          13019.62,
          19323.05,
          12585.15,
          47044.43,
          28437.15,
          13569.95,
          1758.36,
          2692.63,
          5072.83,
          18761.39,
          1701.49,
          10491.29,
          36559.98,
          8242.51,
          8220.82,
          31712.3,
          21944.37,
          7511.18,
          23597.36,
          10575.52,
          17430.1,
          15019.97,
          35353.48,
          15084.14,
          33192.83,
          48901.44,
          24921.19,
          6657.74,
          24996.05,
          944.9,
          39937.31,
          12173.57,
          6669.37,
          1127.87,
          15542,
          10768.06,
          943.52,
          14486.76,
          65.97,
          12547.96,
          16023.44,
          20920.32,
          54084.29,
          22228.34,
          7004.03,
          7754.99,
          7119.36,
          21868.4,
          10364.9,
          1377.7,
          2135.64,
          1624.24,
          14043.9,
          10593.88,
          333.4,
          11020.2,
          10308.09,
          26782.47,
          1692.34,
          1538.92,
          1167.61,
          5711.02,
          12818.29,
          5352.87,
          9919.15,
          43998.99,
          1111.09,
          44832.63,
          899.9,
          3520.79,
          659.12,
          990.5,
          380.52,
          996.63,
          492.07,
          441.91,
          5536.6,
          1016.89,
          23878.41,
          1279.99,
          5518.96,
          3383.13,
          826.02,
          4038.37,
          4286.37,
          616.18,
          16790.13,
          1812.04,
          5936.56,
          673.74,
          6125.63,
          4386.06,
          329.1,
          76799.21,
          875.57,
          5897.26,
          446.35,
          9158.13,
          14756.71,
          3899.24,
          6282.38,
          12746.98,
          286.58,
          1189.81,
          206.94,
          55.86,
          251.11,
          341.36,
          134.27,
          1290.61,
          312.54,
          72.92,
          968.16,
          414.17,
          103.57,
          313.76,
          38182.63,
          13.43,
          26088.1,
          4572.85,
          56.37,
          69.95,
          695.64,
          14270.2,
          161.17,
          388.05,
          136.9,
          499.74,
          18.65,
          872.17,
          940.13,
          1653.54,
          1391.69,
          707.74,
          949.39,
          296.09,
          362.31,
          3.42
         ]
        }
       ],
       "layout": {
        "annotations": [
         {
          "showarrow": false,
          "text": "Source: <a href=\"https://github.com/CSSEGISandData/COVID-19\">            CSSE at Johns Hopkins University</a>",
          "x": 0.55,
          "xref": "paper",
          "y": 0.1,
          "yref": "paper"
         }
        ],
        "geo": {
         "projection": {
          "type": "equirectangular"
         },
         "showcoastlines": false,
         "showframe": false
        },
        "template": {
         "data": {
          "bar": [
           {
            "error_x": {
             "color": "#2a3f5f"
            },
            "error_y": {
             "color": "#2a3f5f"
            },
            "marker": {
             "line": {
              "color": "#E5ECF6",
              "width": 0.5
             }
            },
            "type": "bar"
           }
          ],
          "barpolar": [
           {
            "marker": {
             "line": {
              "color": "#E5ECF6",
              "width": 0.5
             }
            },
            "type": "barpolar"
           }
          ],
          "carpet": [
           {
            "aaxis": {
             "endlinecolor": "#2a3f5f",
             "gridcolor": "white",
             "linecolor": "white",
             "minorgridcolor": "white",
             "startlinecolor": "#2a3f5f"
            },
            "baxis": {
             "endlinecolor": "#2a3f5f",
             "gridcolor": "white",
             "linecolor": "white",
             "minorgridcolor": "white",
             "startlinecolor": "#2a3f5f"
            },
            "type": "carpet"
           }
          ],
          "choropleth": [
           {
            "colorbar": {
             "outlinewidth": 0,
             "ticks": ""
            },
            "type": "choropleth"
           }
          ],
          "contour": [
           {
            "colorbar": {
             "outlinewidth": 0,
             "ticks": ""
            },
            "colorscale": [
             [
              0,
              "#0d0887"
             ],
             [
              0.1111111111111111,
              "#46039f"
             ],
             [
              0.2222222222222222,
              "#7201a8"
             ],
             [
              0.3333333333333333,
              "#9c179e"
             ],
             [
              0.4444444444444444,
              "#bd3786"
             ],
             [
              0.5555555555555556,
              "#d8576b"
             ],
             [
              0.6666666666666666,
              "#ed7953"
             ],
             [
              0.7777777777777778,
              "#fb9f3a"
             ],
             [
              0.8888888888888888,
              "#fdca26"
             ],
             [
              1,
              "#f0f921"
             ]
            ],
            "type": "contour"
           }
          ],
          "contourcarpet": [
           {
            "colorbar": {
             "outlinewidth": 0,
             "ticks": ""
            },
            "type": "contourcarpet"
           }
          ],
          "heatmap": [
           {
            "colorbar": {
             "outlinewidth": 0,
             "ticks": ""
            },
            "colorscale": [
             [
              0,
              "#0d0887"
             ],
             [
              0.1111111111111111,
              "#46039f"
             ],
             [
              0.2222222222222222,
              "#7201a8"
             ],
             [
              0.3333333333333333,
              "#9c179e"
             ],
             [
              0.4444444444444444,
              "#bd3786"
             ],
             [
              0.5555555555555556,
              "#d8576b"
             ],
             [
              0.6666666666666666,
              "#ed7953"
             ],
             [
              0.7777777777777778,
              "#fb9f3a"
             ],
             [
              0.8888888888888888,
              "#fdca26"
             ],
             [
              1,
              "#f0f921"
             ]
            ],
            "type": "heatmap"
           }
          ],
          "heatmapgl": [
           {
            "colorbar": {
             "outlinewidth": 0,
             "ticks": ""
            },
            "colorscale": [
             [
              0,
              "#0d0887"
             ],
             [
              0.1111111111111111,
              "#46039f"
             ],
             [
              0.2222222222222222,
              "#7201a8"
             ],
             [
              0.3333333333333333,
              "#9c179e"
             ],
             [
              0.4444444444444444,
              "#bd3786"
             ],
             [
              0.5555555555555556,
              "#d8576b"
             ],
             [
              0.6666666666666666,
              "#ed7953"
             ],
             [
              0.7777777777777778,
              "#fb9f3a"
             ],
             [
              0.8888888888888888,
              "#fdca26"
             ],
             [
              1,
              "#f0f921"
             ]
            ],
            "type": "heatmapgl"
           }
          ],
          "histogram": [
           {
            "marker": {
             "colorbar": {
              "outlinewidth": 0,
              "ticks": ""
             }
            },
            "type": "histogram"
           }
          ],
          "histogram2d": [
           {
            "colorbar": {
             "outlinewidth": 0,
             "ticks": ""
            },
            "colorscale": [
             [
              0,
              "#0d0887"
             ],
             [
              0.1111111111111111,
              "#46039f"
             ],
             [
              0.2222222222222222,
              "#7201a8"
             ],
             [
              0.3333333333333333,
              "#9c179e"
             ],
             [
              0.4444444444444444,
              "#bd3786"
             ],
             [
              0.5555555555555556,
              "#d8576b"
             ],
             [
              0.6666666666666666,
              "#ed7953"
             ],
             [
              0.7777777777777778,
              "#fb9f3a"
             ],
             [
              0.8888888888888888,
              "#fdca26"
             ],
             [
              1,
              "#f0f921"
             ]
            ],
            "type": "histogram2d"
           }
          ],
          "histogram2dcontour": [
           {
            "colorbar": {
             "outlinewidth": 0,
             "ticks": ""
            },
            "colorscale": [
             [
              0,
              "#0d0887"
             ],
             [
              0.1111111111111111,
              "#46039f"
             ],
             [
              0.2222222222222222,
              "#7201a8"
             ],
             [
              0.3333333333333333,
              "#9c179e"
             ],
             [
              0.4444444444444444,
              "#bd3786"
             ],
             [
              0.5555555555555556,
              "#d8576b"
             ],
             [
              0.6666666666666666,
              "#ed7953"
             ],
             [
              0.7777777777777778,
              "#fb9f3a"
             ],
             [
              0.8888888888888888,
              "#fdca26"
             ],
             [
              1,
              "#f0f921"
             ]
            ],
            "type": "histogram2dcontour"
           }
          ],
          "mesh3d": [
           {
            "colorbar": {
             "outlinewidth": 0,
             "ticks": ""
            },
            "type": "mesh3d"
           }
          ],
          "parcoords": [
           {
            "line": {
             "colorbar": {
              "outlinewidth": 0,
              "ticks": ""
             }
            },
            "type": "parcoords"
           }
          ],
          "pie": [
           {
            "automargin": true,
            "type": "pie"
           }
          ],
          "scatter": [
           {
            "marker": {
             "colorbar": {
              "outlinewidth": 0,
              "ticks": ""
             }
            },
            "type": "scatter"
           }
          ],
          "scatter3d": [
           {
            "line": {
             "colorbar": {
              "outlinewidth": 0,
              "ticks": ""
             }
            },
            "marker": {
             "colorbar": {
              "outlinewidth": 0,
              "ticks": ""
             }
            },
            "type": "scatter3d"
           }
          ],
          "scattercarpet": [
           {
            "marker": {
             "colorbar": {
              "outlinewidth": 0,
              "ticks": ""
             }
            },
            "type": "scattercarpet"
           }
          ],
          "scattergeo": [
           {
            "marker": {
             "colorbar": {
              "outlinewidth": 0,
              "ticks": ""
             }
            },
            "type": "scattergeo"
           }
          ],
          "scattergl": [
           {
            "marker": {
             "colorbar": {
              "outlinewidth": 0,
              "ticks": ""
             }
            },
            "type": "scattergl"
           }
          ],
          "scattermapbox": [
           {
            "marker": {
             "colorbar": {
              "outlinewidth": 0,
              "ticks": ""
             }
            },
            "type": "scattermapbox"
           }
          ],
          "scatterpolar": [
           {
            "marker": {
             "colorbar": {
              "outlinewidth": 0,
              "ticks": ""
             }
            },
            "type": "scatterpolar"
           }
          ],
          "scatterpolargl": [
           {
            "marker": {
             "colorbar": {
              "outlinewidth": 0,
              "ticks": ""
             }
            },
            "type": "scatterpolargl"
           }
          ],
          "scatterternary": [
           {
            "marker": {
             "colorbar": {
              "outlinewidth": 0,
              "ticks": ""
             }
            },
            "type": "scatterternary"
           }
          ],
          "surface": [
           {
            "colorbar": {
             "outlinewidth": 0,
             "ticks": ""
            },
            "colorscale": [
             [
              0,
              "#0d0887"
             ],
             [
              0.1111111111111111,
              "#46039f"
             ],
             [
              0.2222222222222222,
              "#7201a8"
             ],
             [
              0.3333333333333333,
              "#9c179e"
             ],
             [
              0.4444444444444444,
              "#bd3786"
             ],
             [
              0.5555555555555556,
              "#d8576b"
             ],
             [
              0.6666666666666666,
              "#ed7953"
             ],
             [
              0.7777777777777778,
              "#fb9f3a"
             ],
             [
              0.8888888888888888,
              "#fdca26"
             ],
             [
              1,
              "#f0f921"
             ]
            ],
            "type": "surface"
           }
          ],
          "table": [
           {
            "cells": {
             "fill": {
              "color": "#EBF0F8"
             },
             "line": {
              "color": "white"
             }
            },
            "header": {
             "fill": {
              "color": "#C8D4E3"
             },
             "line": {
              "color": "white"
             }
            },
            "type": "table"
           }
          ]
         },
         "layout": {
          "annotationdefaults": {
           "arrowcolor": "#2a3f5f",
           "arrowhead": 0,
           "arrowwidth": 1
          },
          "coloraxis": {
           "colorbar": {
            "outlinewidth": 0,
            "ticks": ""
           }
          },
          "colorscale": {
           "diverging": [
            [
             0,
             "#8e0152"
            ],
            [
             0.1,
             "#c51b7d"
            ],
            [
             0.2,
             "#de77ae"
            ],
            [
             0.3,
             "#f1b6da"
            ],
            [
             0.4,
             "#fde0ef"
            ],
            [
             0.5,
             "#f7f7f7"
            ],
            [
             0.6,
             "#e6f5d0"
            ],
            [
             0.7,
             "#b8e186"
            ],
            [
             0.8,
             "#7fbc41"
            ],
            [
             0.9,
             "#4d9221"
            ],
            [
             1,
             "#276419"
            ]
           ],
           "sequential": [
            [
             0,
             "#0d0887"
            ],
            [
             0.1111111111111111,
             "#46039f"
            ],
            [
             0.2222222222222222,
             "#7201a8"
            ],
            [
             0.3333333333333333,
             "#9c179e"
            ],
            [
             0.4444444444444444,
             "#bd3786"
            ],
            [
             0.5555555555555556,
             "#d8576b"
            ],
            [
             0.6666666666666666,
             "#ed7953"
            ],
            [
             0.7777777777777778,
             "#fb9f3a"
            ],
            [
             0.8888888888888888,
             "#fdca26"
            ],
            [
             1,
             "#f0f921"
            ]
           ],
           "sequentialminus": [
            [
             0,
             "#0d0887"
            ],
            [
             0.1111111111111111,
             "#46039f"
            ],
            [
             0.2222222222222222,
             "#7201a8"
            ],
            [
             0.3333333333333333,
             "#9c179e"
            ],
            [
             0.4444444444444444,
             "#bd3786"
            ],
            [
             0.5555555555555556,
             "#d8576b"
            ],
            [
             0.6666666666666666,
             "#ed7953"
            ],
            [
             0.7777777777777778,
             "#fb9f3a"
            ],
            [
             0.8888888888888888,
             "#fdca26"
            ],
            [
             1,
             "#f0f921"
            ]
           ]
          },
          "colorway": [
           "#636efa",
           "#EF553B",
           "#00cc96",
           "#ab63fa",
           "#FFA15A",
           "#19d3f3",
           "#FF6692",
           "#B6E880",
           "#FF97FF",
           "#FECB52"
          ],
          "font": {
           "color": "#2a3f5f"
          },
          "geo": {
           "bgcolor": "white",
           "lakecolor": "white",
           "landcolor": "#E5ECF6",
           "showlakes": true,
           "showland": true,
           "subunitcolor": "white"
          },
          "hoverlabel": {
           "align": "left"
          },
          "hovermode": "closest",
          "mapbox": {
           "style": "light"
          },
          "paper_bgcolor": "white",
          "plot_bgcolor": "#E5ECF6",
          "polar": {
           "angularaxis": {
            "gridcolor": "white",
            "linecolor": "white",
            "ticks": ""
           },
           "bgcolor": "#E5ECF6",
           "radialaxis": {
            "gridcolor": "white",
            "linecolor": "white",
            "ticks": ""
           }
          },
          "scene": {
           "xaxis": {
            "backgroundcolor": "#E5ECF6",
            "gridcolor": "white",
            "gridwidth": 2,
            "linecolor": "white",
            "showbackground": true,
            "ticks": "",
            "zerolinecolor": "white"
           },
           "yaxis": {
            "backgroundcolor": "#E5ECF6",
            "gridcolor": "white",
            "gridwidth": 2,
            "linecolor": "white",
            "showbackground": true,
            "ticks": "",
            "zerolinecolor": "white"
           },
           "zaxis": {
            "backgroundcolor": "#E5ECF6",
            "gridcolor": "white",
            "gridwidth": 2,
            "linecolor": "white",
            "showbackground": true,
            "ticks": "",
            "zerolinecolor": "white"
           }
          },
          "shapedefaults": {
           "line": {
            "color": "#2a3f5f"
           }
          },
          "ternary": {
           "aaxis": {
            "gridcolor": "white",
            "linecolor": "white",
            "ticks": ""
           },
           "baxis": {
            "gridcolor": "white",
            "linecolor": "white",
            "ticks": ""
           },
           "bgcolor": "#E5ECF6",
           "caxis": {
            "gridcolor": "white",
            "linecolor": "white",
            "ticks": ""
           }
          },
          "title": {
           "x": 0.05
          },
          "xaxis": {
           "automargin": true,
           "gridcolor": "white",
           "linecolor": "white",
           "ticks": "",
           "title": {
            "standoff": 15
           },
           "zerolinecolor": "white",
           "zerolinewidth": 2
          },
          "yaxis": {
           "automargin": true,
           "gridcolor": "white",
           "linecolor": "white",
           "ticks": "",
           "title": {
            "standoff": 15
           },
           "zerolinecolor": "white",
           "zerolinewidth": 2
          }
         }
        },
        "title": {
         "text": "Covid 19 confirmed cases"
        }
       }
      },
      "text/html": [
       "<div>\n",
       "        \n",
       "        \n",
       "            <div id=\"b21664f3-551b-4316-b7e3-1485ab86cc6f\" class=\"plotly-graph-div\" style=\"height:525px; width:100%;\"></div>\n",
       "            <script type=\"text/javascript\">\n",
       "                require([\"plotly\"], function(Plotly) {\n",
       "                    window.PLOTLYENV=window.PLOTLYENV || {};\n",
       "                    \n",
       "                if (document.getElementById(\"b21664f3-551b-4316-b7e3-1485ab86cc6f\")) {\n",
       "                    Plotly.newPlot(\n",
       "                        'b21664f3-551b-4316-b7e3-1485ab86cc6f',\n",
       "                        [{\"autocolorscale\": false, \"colorbar\": {\"tickprefix\": \"\", \"title\": {\"text\": \"#cases <br>per million populations\"}}, \"colorscale\": [[0.0, \"rgb(210, 251, 212)\"], [0.16666666666666666, \"rgb(165, 219, 194)\"], [0.3333333333333333, \"rgb(123, 188, 176)\"], [0.5, \"rgb(85, 156, 158)\"], [0.6666666666666666, \"rgb(58, 124, 137)\"], [0.8333333333333334, \"rgb(35, 93, 114)\"], [1.0, \"rgb(18, 63, 90)\"]], \"locations\": [\"USA\", \"IND\", \"BRA\", \"FRA\", \"RUS\", \"ESP\", \"GBR\", \"ARG\", \"ITA\", \"COL\", \"MEX\", \"PER\", \"DEU\", \"ZAF\", \"POL\", \"UKR\", \"BEL\", \"CHL\", \"IRQ\", \"IDN\", \"BGD\", \"TUR\", \"ROU\", \"PAK\", \"SAU\", \"ISR\", \"CAN\", \"MAR\", \"CHE\", \"PRT\", \"NPL\", \"AUT\", \"ECU\", \"SWE\", \"JOR\", \"PAN\", \"HUN\", \"KWT\", \"QAT\", \"CRI\", \"KAZ\", \"OMN\", \"JPN\", \"ARM\", \"BLR\", \"GTM\", \"EGY\", \"LBN\", \"HND\", \"ETH\", \"BGR\", \"CHN\", \"SRB\", \"SVK\", \"HRV\", \"BHR\", \"GEO\", \"TUN\", \"AZE\", \"GRC\", \"BIH\", \"PRY\", \"KEN\", \"UZB\", \"DZA\", \"IRL\", \"KGZ\", \"NGA\", \"DNK\", \"SGP\", \"SVN\", \"GHA\", \"MYS\", \"AFG\", \"SLV\", \"LTU\", \"NOR\", \"ALB\", \"MNE\", \"AUS\", \"LUX\", \"CMR\", \"FIN\", \"MDG\", \"ZMB\", \"UGA\", \"SEN\", \"MOZ\", \"AGO\", \"NAM\", \"GIN\", \"MDV\", \"TJK\", \"LVA\", \"JAM\", \"HTI\", \"BWA\", \"GAB\", \"ZWE\", \"MLT\", \"MRT\", \"EST\", \"CUB\", \"CYP\", \"TTO\", \"MWI\", \"AND\", \"NIC\", \"DJI\", \"RWA\", \"SUR\", \"ISL\", \"GNQ\", \"GUY\", \"BLZ\", \"SOM\", \"URY\", \"MLI\", \"THA\", \"BEN\", \"TGO\", \"BFA\", \"GNB\", \"SLE\", \"YEM\", \"LSO\", \"NZL\", \"TCD\", \"LBR\", \"SMR\", \"VNM\", \"LIE\", \"STP\", \"BDI\", \"PNG\", \"COM\", \"MCO\", \"ERI\", \"MUS\", \"MNG\", \"BTN\", \"KHM\", \"BRB\", \"LCA\", \"SYC\", \"ATG\", \"VCT\", \"DMA\", \"GRD\", \"KNA\", \"VUT\"], \"marker\": {\"line\": {\"color\": \"darkgray\", \"width\": 0.5}}, \"reversescale\": false, \"text\": [\"United States\", \"India\", \"Brazil\", \"France\", \"Russia\", \"Spain\", \"United Kingdom\", \"Argentina\", \"Italy\", \"Colombia\", \"Mexico\", \"Peru\", \"Germany\", \"South Africa\", \"Poland\", \"Ukraine\", \"Belgium\", \"Chile\", \"Iraq\", \"Indonesia\", \"Bangladesh\", \"Turkey\", \"Romania\", \"Pakistan\", \"Saudi Arabia\", \"Israel\", \"Canada\", \"Morocco\", \"Switzerland\", \"Portugal\", \"Nepal\", \"Austria\", \"Ecuador\", \"Sweden\", \"Jordan\", \"Panama\", \"Hungary\", \"Kuwait\", \"Qatar\", \"Costa Rica\", \"Kazakhstan\", \"Oman\", \"Japan\", \"Armenia\", \"Belarus\", \"Guatemala\", \"Egypt\", \"Lebanon\", \"Honduras\", \"Ethiopia\", \"Bulgaria\", \"China\", \"Serbia\", \"Slovakia\", \"Croatia\", \"Bahrain\", \"Georgia\", \"Tunisia\", \"Azerbaijan\", \"Greece\", \"Bosnia and Herzegovina\", \"Paraguay\", \"Kenya\", \"Uzbekistan\", \"Algeria\", \"Ireland\", \"Kyrgyzstan\", \"Nigeria\", \"Denmark\", \"Singapore\", \"Slovenia\", \"Ghana\", \"Malaysia\", \"Afghanistan\", \"El Salvador\", \"Lithuania\", \"Norway\", \"Albania\", \"Montenegro\", \"Australia\", \"Luxembourg\", \"Cameroon\", \"Finland\", \"Madagascar\", \"Zambia\", \"Uganda\", \"Senegal\", \"Mozambique\", \"Angola\", \"Namibia\", \"Guinea\", \"Maldives\", \"Tajikistan\", \"Latvia\", \"Jamaica\", \"Haiti\", \"Botswana\", \"Gabon\", \"Zimbabwe\", \"Malta\", \"Mauritania\", \"Estonia\", \"Cuba\", \"Cyprus\", \"Trinidad and Tobago\", \"Malawi\", \"Andorra\", \"Nicaragua\", \"Djibouti\", \"Rwanda\", \"Suriname\", \"Iceland\", \"Equatorial Guinea\", \"Guyana\", \"Belize\", \"Somalia\", \"Uruguay\", \"Mali\", \"Thailand\", \"Benin\", \"Togo\", \"Burkina Faso\", \"Guinea-Bissau\", \"Sierra Leone\", \"Yemen\", \"Lesotho\", \"New Zealand\", \"Chad\", \"Liberia\", \"San Marino\", \"Vietnam\", \"Liechtenstein\", \"Sao Tome and Principe\", \"Burundi\", \"Papua New Guinea\", \"Comoros\", \"Monaco\", \"Eritrea\", \"Mauritius\", \"Mongolia\", \"Bhutan\", \"Cambodia\", \"Barbados\", \"Saint Lucia\", \"Seychelles\", \"Antigua and Barbuda\", \"Saint Vincent and the Grenadines\", \"Dominica\", \"Grenada\", \"Saint Kitts and Nevis\", \"Vanuatu\"], \"type\": \"choropleth\", \"z\": [34292.65, 6560.27, 28054.05, 30477.47, 13377.19, 31986.64, 20979.41, 29630.27, 19957.73, 24274.9, 7998.97, 29291.43, 9860.9, 13019.62, 19323.05, 12585.15, 47044.43, 28437.15, 13569.95, 1758.36, 2692.63, 5072.83, 18761.39, 1701.49, 10491.29, 36559.98, 8242.51, 8220.82, 31712.3, 21944.37, 7511.18, 23597.36, 10575.52, 17430.1, 15019.97, 35353.48, 15084.14, 33192.83, 48901.44, 24921.19, 6657.74, 24996.05, 944.9, 39937.31, 12173.57, 6669.37, 1127.87, 15542.0, 10768.06, 943.52, 14486.76, 65.97, 12547.96, 16023.44, 20920.32, 54084.29, 22228.34, 7004.03, 7754.99, 7119.36, 21868.4, 10364.9, 1377.7, 2135.64, 1624.24, 14043.9, 10593.88, 333.4, 11020.2, 10308.09, 26782.47, 1692.34, 1538.92, 1167.61, 5711.02, 12818.29, 5352.87, 9919.15, 43998.99, 1111.09, 44832.63, 899.9, 3520.79, 659.12, 990.5, 380.52, 996.63, 492.07, 441.91, 5536.6, 1016.89, 23878.41, 1279.99, 5518.96, 3383.13, 826.02, 4038.37, 4286.37, 616.18, 16790.13, 1812.04, 5936.56, 673.74, 6125.63, 4386.06, 329.1, 76799.21, 875.57, 5897.26, 446.35, 9158.13, 14756.71, 3899.24, 6282.38, 12746.98, 286.58, 1189.81, 206.94, 55.86, 251.11, 341.36, 134.27, 1290.61, 312.54, 72.92, 968.16, 414.17, 103.57, 313.76, 38182.63, 13.43, 26088.1, 4572.85, 56.37, 69.95, 695.64, 14270.2, 161.17, 388.05, 136.9, 499.74, 18.65, 872.17, 940.13, 1653.54, 1391.69, 707.74, 949.39, 296.09, 362.31, 3.42]}],\n",
       "                        {\"annotations\": [{\"showarrow\": false, \"text\": \"Source: <a href=\\\"https://github.com/CSSEGISandData/COVID-19\\\">            CSSE at Johns Hopkins University</a>\", \"x\": 0.55, \"xref\": \"paper\", \"y\": 0.1, \"yref\": \"paper\"}], \"geo\": {\"projection\": {\"type\": \"equirectangular\"}, \"showcoastlines\": false, \"showframe\": false}, \"template\": {\"data\": {\"bar\": [{\"error_x\": {\"color\": \"#2a3f5f\"}, \"error_y\": {\"color\": \"#2a3f5f\"}, \"marker\": {\"line\": {\"color\": \"#E5ECF6\", \"width\": 0.5}}, \"type\": \"bar\"}], \"barpolar\": [{\"marker\": {\"line\": {\"color\": \"#E5ECF6\", \"width\": 0.5}}, \"type\": \"barpolar\"}], \"carpet\": [{\"aaxis\": {\"endlinecolor\": \"#2a3f5f\", \"gridcolor\": \"white\", \"linecolor\": \"white\", \"minorgridcolor\": \"white\", \"startlinecolor\": \"#2a3f5f\"}, \"baxis\": {\"endlinecolor\": \"#2a3f5f\", \"gridcolor\": \"white\", \"linecolor\": \"white\", \"minorgridcolor\": \"white\", \"startlinecolor\": \"#2a3f5f\"}, \"type\": \"carpet\"}], \"choropleth\": [{\"colorbar\": {\"outlinewidth\": 0, \"ticks\": \"\"}, \"type\": \"choropleth\"}], \"contour\": [{\"colorbar\": {\"outlinewidth\": 0, \"ticks\": \"\"}, \"colorscale\": [[0.0, \"#0d0887\"], [0.1111111111111111, \"#46039f\"], [0.2222222222222222, \"#7201a8\"], [0.3333333333333333, \"#9c179e\"], [0.4444444444444444, \"#bd3786\"], [0.5555555555555556, \"#d8576b\"], [0.6666666666666666, \"#ed7953\"], [0.7777777777777778, \"#fb9f3a\"], [0.8888888888888888, \"#fdca26\"], [1.0, \"#f0f921\"]], \"type\": \"contour\"}], \"contourcarpet\": [{\"colorbar\": {\"outlinewidth\": 0, \"ticks\": \"\"}, \"type\": \"contourcarpet\"}], \"heatmap\": [{\"colorbar\": {\"outlinewidth\": 0, \"ticks\": \"\"}, \"colorscale\": [[0.0, \"#0d0887\"], [0.1111111111111111, \"#46039f\"], [0.2222222222222222, \"#7201a8\"], [0.3333333333333333, \"#9c179e\"], [0.4444444444444444, \"#bd3786\"], [0.5555555555555556, \"#d8576b\"], [0.6666666666666666, \"#ed7953\"], [0.7777777777777778, \"#fb9f3a\"], [0.8888888888888888, \"#fdca26\"], [1.0, \"#f0f921\"]], \"type\": \"heatmap\"}], \"heatmapgl\": [{\"colorbar\": {\"outlinewidth\": 0, \"ticks\": \"\"}, \"colorscale\": [[0.0, \"#0d0887\"], [0.1111111111111111, \"#46039f\"], [0.2222222222222222, \"#7201a8\"], [0.3333333333333333, \"#9c179e\"], [0.4444444444444444, \"#bd3786\"], [0.5555555555555556, \"#d8576b\"], [0.6666666666666666, \"#ed7953\"], [0.7777777777777778, \"#fb9f3a\"], [0.8888888888888888, \"#fdca26\"], [1.0, \"#f0f921\"]], \"type\": \"heatmapgl\"}], \"histogram\": [{\"marker\": {\"colorbar\": {\"outlinewidth\": 0, \"ticks\": \"\"}}, \"type\": \"histogram\"}], \"histogram2d\": [{\"colorbar\": {\"outlinewidth\": 0, \"ticks\": \"\"}, \"colorscale\": [[0.0, \"#0d0887\"], [0.1111111111111111, \"#46039f\"], [0.2222222222222222, \"#7201a8\"], [0.3333333333333333, \"#9c179e\"], [0.4444444444444444, \"#bd3786\"], [0.5555555555555556, \"#d8576b\"], [0.6666666666666666, \"#ed7953\"], [0.7777777777777778, \"#fb9f3a\"], [0.8888888888888888, \"#fdca26\"], [1.0, \"#f0f921\"]], \"type\": \"histogram2d\"}], \"histogram2dcontour\": [{\"colorbar\": {\"outlinewidth\": 0, \"ticks\": \"\"}, \"colorscale\": [[0.0, \"#0d0887\"], [0.1111111111111111, \"#46039f\"], [0.2222222222222222, \"#7201a8\"], [0.3333333333333333, \"#9c179e\"], [0.4444444444444444, \"#bd3786\"], [0.5555555555555556, \"#d8576b\"], [0.6666666666666666, \"#ed7953\"], [0.7777777777777778, \"#fb9f3a\"], [0.8888888888888888, \"#fdca26\"], [1.0, \"#f0f921\"]], \"type\": \"histogram2dcontour\"}], \"mesh3d\": [{\"colorbar\": {\"outlinewidth\": 0, \"ticks\": \"\"}, \"type\": \"mesh3d\"}], \"parcoords\": [{\"line\": {\"colorbar\": {\"outlinewidth\": 0, \"ticks\": \"\"}}, \"type\": \"parcoords\"}], \"pie\": [{\"automargin\": true, \"type\": \"pie\"}], \"scatter\": [{\"marker\": {\"colorbar\": {\"outlinewidth\": 0, \"ticks\": \"\"}}, \"type\": \"scatter\"}], \"scatter3d\": [{\"line\": {\"colorbar\": {\"outlinewidth\": 0, \"ticks\": \"\"}}, \"marker\": {\"colorbar\": {\"outlinewidth\": 0, \"ticks\": \"\"}}, \"type\": \"scatter3d\"}], \"scattercarpet\": [{\"marker\": {\"colorbar\": {\"outlinewidth\": 0, \"ticks\": \"\"}}, \"type\": \"scattercarpet\"}], \"scattergeo\": [{\"marker\": {\"colorbar\": {\"outlinewidth\": 0, \"ticks\": \"\"}}, \"type\": \"scattergeo\"}], \"scattergl\": [{\"marker\": {\"colorbar\": {\"outlinewidth\": 0, \"ticks\": \"\"}}, \"type\": \"scattergl\"}], \"scattermapbox\": [{\"marker\": {\"colorbar\": {\"outlinewidth\": 0, \"ticks\": \"\"}}, \"type\": \"scattermapbox\"}], \"scatterpolar\": [{\"marker\": {\"colorbar\": {\"outlinewidth\": 0, \"ticks\": \"\"}}, \"type\": \"scatterpolar\"}], \"scatterpolargl\": [{\"marker\": {\"colorbar\": {\"outlinewidth\": 0, \"ticks\": \"\"}}, \"type\": \"scatterpolargl\"}], \"scatterternary\": [{\"marker\": {\"colorbar\": {\"outlinewidth\": 0, \"ticks\": \"\"}}, \"type\": \"scatterternary\"}], \"surface\": [{\"colorbar\": {\"outlinewidth\": 0, \"ticks\": \"\"}, \"colorscale\": [[0.0, \"#0d0887\"], [0.1111111111111111, \"#46039f\"], [0.2222222222222222, \"#7201a8\"], [0.3333333333333333, \"#9c179e\"], [0.4444444444444444, \"#bd3786\"], [0.5555555555555556, \"#d8576b\"], [0.6666666666666666, \"#ed7953\"], [0.7777777777777778, \"#fb9f3a\"], [0.8888888888888888, \"#fdca26\"], [1.0, \"#f0f921\"]], \"type\": \"surface\"}], \"table\": [{\"cells\": {\"fill\": {\"color\": \"#EBF0F8\"}, \"line\": {\"color\": \"white\"}}, \"header\": {\"fill\": {\"color\": \"#C8D4E3\"}, \"line\": {\"color\": \"white\"}}, \"type\": \"table\"}]}, \"layout\": {\"annotationdefaults\": {\"arrowcolor\": \"#2a3f5f\", \"arrowhead\": 0, \"arrowwidth\": 1}, \"coloraxis\": {\"colorbar\": {\"outlinewidth\": 0, \"ticks\": \"\"}}, \"colorscale\": {\"diverging\": [[0, \"#8e0152\"], [0.1, \"#c51b7d\"], [0.2, \"#de77ae\"], [0.3, \"#f1b6da\"], [0.4, \"#fde0ef\"], [0.5, \"#f7f7f7\"], [0.6, \"#e6f5d0\"], [0.7, \"#b8e186\"], [0.8, \"#7fbc41\"], [0.9, \"#4d9221\"], [1, \"#276419\"]], \"sequential\": [[0.0, \"#0d0887\"], [0.1111111111111111, \"#46039f\"], [0.2222222222222222, \"#7201a8\"], [0.3333333333333333, \"#9c179e\"], [0.4444444444444444, \"#bd3786\"], [0.5555555555555556, \"#d8576b\"], [0.6666666666666666, \"#ed7953\"], [0.7777777777777778, \"#fb9f3a\"], [0.8888888888888888, \"#fdca26\"], [1.0, \"#f0f921\"]], \"sequentialminus\": [[0.0, \"#0d0887\"], [0.1111111111111111, \"#46039f\"], [0.2222222222222222, \"#7201a8\"], [0.3333333333333333, \"#9c179e\"], [0.4444444444444444, \"#bd3786\"], [0.5555555555555556, \"#d8576b\"], [0.6666666666666666, \"#ed7953\"], [0.7777777777777778, \"#fb9f3a\"], [0.8888888888888888, \"#fdca26\"], [1.0, \"#f0f921\"]]}, \"colorway\": [\"#636efa\", \"#EF553B\", \"#00cc96\", \"#ab63fa\", \"#FFA15A\", \"#19d3f3\", \"#FF6692\", \"#B6E880\", \"#FF97FF\", \"#FECB52\"], \"font\": {\"color\": \"#2a3f5f\"}, \"geo\": {\"bgcolor\": \"white\", \"lakecolor\": \"white\", \"landcolor\": \"#E5ECF6\", \"showlakes\": true, \"showland\": true, \"subunitcolor\": \"white\"}, \"hoverlabel\": {\"align\": \"left\"}, \"hovermode\": \"closest\", \"mapbox\": {\"style\": \"light\"}, \"paper_bgcolor\": \"white\", \"plot_bgcolor\": \"#E5ECF6\", \"polar\": {\"angularaxis\": {\"gridcolor\": \"white\", \"linecolor\": \"white\", \"ticks\": \"\"}, \"bgcolor\": \"#E5ECF6\", \"radialaxis\": {\"gridcolor\": \"white\", \"linecolor\": \"white\", \"ticks\": \"\"}}, \"scene\": {\"xaxis\": {\"backgroundcolor\": \"#E5ECF6\", \"gridcolor\": \"white\", \"gridwidth\": 2, \"linecolor\": \"white\", \"showbackground\": true, \"ticks\": \"\", \"zerolinecolor\": \"white\"}, \"yaxis\": {\"backgroundcolor\": \"#E5ECF6\", \"gridcolor\": \"white\", \"gridwidth\": 2, \"linecolor\": \"white\", \"showbackground\": true, \"ticks\": \"\", \"zerolinecolor\": \"white\"}, \"zaxis\": {\"backgroundcolor\": \"#E5ECF6\", \"gridcolor\": \"white\", \"gridwidth\": 2, \"linecolor\": \"white\", \"showbackground\": true, \"ticks\": \"\", \"zerolinecolor\": \"white\"}}, \"shapedefaults\": {\"line\": {\"color\": \"#2a3f5f\"}}, \"ternary\": {\"aaxis\": {\"gridcolor\": \"white\", \"linecolor\": \"white\", \"ticks\": \"\"}, \"baxis\": {\"gridcolor\": \"white\", \"linecolor\": \"white\", \"ticks\": \"\"}, \"bgcolor\": \"#E5ECF6\", \"caxis\": {\"gridcolor\": \"white\", \"linecolor\": \"white\", \"ticks\": \"\"}}, \"title\": {\"x\": 0.05}, \"xaxis\": {\"automargin\": true, \"gridcolor\": \"white\", \"linecolor\": \"white\", \"ticks\": \"\", \"title\": {\"standoff\": 15}, \"zerolinecolor\": \"white\", \"zerolinewidth\": 2}, \"yaxis\": {\"automargin\": true, \"gridcolor\": \"white\", \"linecolor\": \"white\", \"ticks\": \"\", \"title\": {\"standoff\": 15}, \"zerolinecolor\": \"white\", \"zerolinewidth\": 2}}}, \"title\": {\"text\": \"Covid 19 confirmed cases\"}},\n",
       "                        {\"responsive\": true}\n",
       "                    ).then(function(){\n",
       "                            \n",
       "var gd = document.getElementById('b21664f3-551b-4316-b7e3-1485ab86cc6f');\n",
       "var x = new MutationObserver(function (mutations, observer) {{\n",
       "        var display = window.getComputedStyle(gd).display;\n",
       "        if (!display || display === 'none') {{\n",
       "            console.log([gd, 'removed!']);\n",
       "            Plotly.purge(gd);\n",
       "            observer.disconnect();\n",
       "        }}\n",
       "}});\n",
       "\n",
       "// Listen for the removal of the full notebook cells\n",
       "var notebookContainer = gd.closest('#notebook-container');\n",
       "if (notebookContainer) {{\n",
       "    x.observe(notebookContainer, {childList: true});\n",
       "}}\n",
       "\n",
       "// Listen for the clearing of the current output cell\n",
       "var outputEl = gd.closest('.output');\n",
       "if (outputEl) {{\n",
       "    x.observe(outputEl, {childList: true});\n",
       "}}\n",
       "\n",
       "                        })\n",
       "                };\n",
       "                });\n",
       "            </script>\n",
       "        </div>"
      ]
     },
     "metadata": {},
     "output_type": "display_data"
    }
   ],
   "source": [
    "#Plotly plot 1: Geographical analysis\n",
    "\n",
    "\n",
    "\n",
    "df = final_df\n",
    "\n",
    "fig = go.Figure(data=go.Choropleth(\n",
    "    locations = df['code3'],\n",
    "    z = df['cases/million'],\n",
    "    text = df['Country/Region'],\n",
    "    colorscale = 'Darkmint',\n",
    "    autocolorscale=False,\n",
    "    reversescale=False,\n",
    "    marker_line_color='darkgray',\n",
    "    marker_line_width=0.5,\n",
    "    colorbar_tickprefix = '',\n",
    "    colorbar_title = '#cases <br>per million populations',\n",
    "))\n",
    "\n",
    "fig.update_layout(\n",
    "    title_text='Covid 19 confirmed cases',\n",
    "    geo=dict(\n",
    "        showframe=False,\n",
    "        showcoastlines=False,\n",
    "        projection_type='equirectangular'\n",
    "    ),\n",
    "    annotations = [dict(\n",
    "        x=0.55,\n",
    "        y=0.1,\n",
    "        xref='paper',\n",
    "        yref='paper',\n",
    "        text='Source: <a href=\"https://github.com/CSSEGISandData/COVID-19\">\\\n",
    "            CSSE at Johns Hopkins University</a>',\n",
    "        showarrow = False\n",
    "    )]\n",
    ")\n",
    "\n",
    "fig.show()"
   ]
  },
  {
   "cell_type": "code",
   "execution_count": 38,
   "metadata": {},
   "outputs": [
    {
     "data": {
      "application/vnd.plotly.v1+json": {
       "config": {
        "plotlyServerURL": "https://plot.ly"
       },
       "data": [
        {
         "marker": {
          "color": "#39ac39"
         },
         "name": "# of confirmed cases",
         "opacity": 1,
         "type": "bar",
         "x": [
          "United States",
          "India",
          "Brazil",
          "France",
          "Russia",
          "Spain",
          "United Kingdom",
          "Argentina",
          "Italy",
          "Colombia",
          "Mexico",
          "Peru",
          "Germany",
          "South Africa",
          "Poland",
          "Ukraine",
          "Belgium",
          "Chile",
          "Iraq",
          "Indonesia",
          "Bangladesh",
          "Turkey",
          "Romania",
          "Pakistan",
          "Saudi Arabia",
          "Israel",
          "Canada",
          "Morocco",
          "Switzerland",
          "Portugal",
          "Nepal",
          "Austria",
          "Ecuador",
          "Sweden",
          "Jordan",
          "Panama",
          "Hungary",
          "Kuwait",
          "Qatar",
          "Costa Rica",
          "Kazakhstan",
          "Oman",
          "Japan",
          "Armenia",
          "Belarus",
          "Guatemala",
          "Egypt",
          "Lebanon",
          "Honduras",
          "Ethiopia",
          "Bulgaria",
          "China",
          "Serbia",
          "Slovakia",
          "Croatia",
          "Bahrain",
          "Georgia",
          "Tunisia",
          "Azerbaijan",
          "Greece",
          "Bosnia and Herzegovina",
          "Paraguay",
          "Kenya",
          "Uzbekistan",
          "Algeria",
          "Ireland",
          "Kyrgyzstan",
          "Nigeria",
          "Denmark",
          "Singapore",
          "Slovenia",
          "Ghana",
          "Malaysia",
          "Afghanistan",
          "El Salvador",
          "Lithuania",
          "Norway",
          "Albania",
          "Montenegro",
          "Australia",
          "Luxembourg",
          "Cameroon",
          "Finland",
          "Madagascar",
          "Zambia",
          "Uganda",
          "Senegal",
          "Mozambique",
          "Angola",
          "Namibia",
          "Guinea",
          "Maldives",
          "Tajikistan",
          "Latvia",
          "Jamaica",
          "Haiti",
          "Botswana",
          "Gabon",
          "Zimbabwe",
          "Malta",
          "Mauritania",
          "Estonia",
          "Cuba",
          "Cyprus",
          "Trinidad and Tobago",
          "Malawi",
          "Andorra",
          "Nicaragua",
          "Djibouti",
          "Rwanda",
          "Suriname",
          "Iceland",
          "Equatorial Guinea",
          "Guyana",
          "Belize",
          "Somalia",
          "Uruguay",
          "Mali",
          "Thailand",
          "Benin",
          "Togo",
          "Burkina Faso",
          "Guinea-Bissau",
          "Sierra Leone",
          "Yemen",
          "Lesotho",
          "New Zealand",
          "Chad",
          "Liberia",
          "San Marino",
          "Vietnam",
          "Liechtenstein",
          "Sao Tome and Principe",
          "Burundi",
          "Papua New Guinea",
          "Comoros",
          "Monaco",
          "Eritrea",
          "Mauritius",
          "Mongolia",
          "Bhutan",
          "Cambodia",
          "Barbados",
          "Saint Lucia",
          "Seychelles",
          "Antigua and Barbuda",
          "Saint Vincent and the Grenadines",
          "Dominica",
          "Grenada",
          "Saint Kitts and Nevis",
          "Vanuatu"
         ],
         "xaxis": "x",
         "y": [
          11202980,
          8873541,
          5876464,
          2041293,
          1932711,
          1496864,
          1394299,
          1318384,
          1205881,
          1205217,
          1009396,
          937011,
          817526,
          752269,
          733788,
          561581,
          537871,
          532604,
          521542,
          470648,
          434472,
          417594,
          365212,
          361082,
          353556,
          324755,
          305449,
          296189,
          269974,
          225672,
          210973,
          208613,
          180676,
          177355,
          149539,
          147667,
          147456,
          137329,
          136028,
          124592,
          121653,
          120718,
          119557,
          117886,
          115448,
          115032,
          111009,
          106446,
          103239,
          103056,
          101770,
          91872,
          87381,
          87276,
          85519,
          84882,
          82835,
          81003,
          77083,
          76403,
          72689,
          72099,
          70804,
          70381,
          68589,
          68356,
          66983,
          65305,
          63847,
          58124,
          55544,
          50376,
          48520,
          43403,
          36669,
          35911,
          28434,
          28432,
          27773,
          27758,
          27256,
          22692,
          19419,
          17310,
          17187,
          16257,
          15801,
          14514,
          13615,
          13555,
          12624,
          12314,
          11649,
          10636,
          9929,
          9188,
          9103,
          9084,
          8897,
          8137,
          7979,
          7848,
          7639,
          7285,
          6096,
          5971,
          5914,
          5661,
          5655,
          5491,
          5275,
          5205,
          5104,
          4894,
          4883,
          4301,
          4104,
          3948,
          3878,
          2884,
          2693,
          2652,
          2419,
          2391,
          2078,
          2041,
          2005,
          1603,
          1512,
          1290,
          1283,
          989,
          965,
          630,
          602,
          579,
          552,
          518,
          491,
          434,
          377,
          303,
          250,
          171,
          160,
          134,
          78,
          68,
          33,
          19,
          1
         ],
         "yaxis": "y"
        },
        {
         "marker": {
          "color": "#b23434"
         },
         "mode": "lines",
         "name": "cases/million",
         "opacity": 0.7,
         "type": "scatter",
         "x": [
          "United States",
          "India",
          "Brazil",
          "France",
          "Russia",
          "Spain",
          "United Kingdom",
          "Argentina",
          "Italy",
          "Colombia",
          "Mexico",
          "Peru",
          "Germany",
          "South Africa",
          "Poland",
          "Ukraine",
          "Belgium",
          "Chile",
          "Iraq",
          "Indonesia",
          "Bangladesh",
          "Turkey",
          "Romania",
          "Pakistan",
          "Saudi Arabia",
          "Israel",
          "Canada",
          "Morocco",
          "Switzerland",
          "Portugal",
          "Nepal",
          "Austria",
          "Ecuador",
          "Sweden",
          "Jordan",
          "Panama",
          "Hungary",
          "Kuwait",
          "Qatar",
          "Costa Rica",
          "Kazakhstan",
          "Oman",
          "Japan",
          "Armenia",
          "Belarus",
          "Guatemala",
          "Egypt",
          "Lebanon",
          "Honduras",
          "Ethiopia",
          "Bulgaria",
          "China",
          "Serbia",
          "Slovakia",
          "Croatia",
          "Bahrain",
          "Georgia",
          "Tunisia",
          "Azerbaijan",
          "Greece",
          "Bosnia and Herzegovina",
          "Paraguay",
          "Kenya",
          "Uzbekistan",
          "Algeria",
          "Ireland",
          "Kyrgyzstan",
          "Nigeria",
          "Denmark",
          "Singapore",
          "Slovenia",
          "Ghana",
          "Malaysia",
          "Afghanistan",
          "El Salvador",
          "Lithuania",
          "Norway",
          "Albania",
          "Montenegro",
          "Australia",
          "Luxembourg",
          "Cameroon",
          "Finland",
          "Madagascar",
          "Zambia",
          "Uganda",
          "Senegal",
          "Mozambique",
          "Angola",
          "Namibia",
          "Guinea",
          "Maldives",
          "Tajikistan",
          "Latvia",
          "Jamaica",
          "Haiti",
          "Botswana",
          "Gabon",
          "Zimbabwe",
          "Malta",
          "Mauritania",
          "Estonia",
          "Cuba",
          "Cyprus",
          "Trinidad and Tobago",
          "Malawi",
          "Andorra",
          "Nicaragua",
          "Djibouti",
          "Rwanda",
          "Suriname",
          "Iceland",
          "Equatorial Guinea",
          "Guyana",
          "Belize",
          "Somalia",
          "Uruguay",
          "Mali",
          "Thailand",
          "Benin",
          "Togo",
          "Burkina Faso",
          "Guinea-Bissau",
          "Sierra Leone",
          "Yemen",
          "Lesotho",
          "New Zealand",
          "Chad",
          "Liberia",
          "San Marino",
          "Vietnam",
          "Liechtenstein",
          "Sao Tome and Principe",
          "Burundi",
          "Papua New Guinea",
          "Comoros",
          "Monaco",
          "Eritrea",
          "Mauritius",
          "Mongolia",
          "Bhutan",
          "Cambodia",
          "Barbados",
          "Saint Lucia",
          "Seychelles",
          "Antigua and Barbuda",
          "Saint Vincent and the Grenadines",
          "Dominica",
          "Grenada",
          "Saint Kitts and Nevis",
          "Vanuatu"
         ],
         "xaxis": "x",
         "y": [
          34292.65,
          6560.27,
          28054.05,
          30477.47,
          13377.19,
          31986.64,
          20979.41,
          29630.27,
          19957.73,
          24274.9,
          7998.97,
          29291.43,
          9860.9,
          13019.62,
          19323.05,
          12585.15,
          47044.43,
          28437.15,
          13569.95,
          1758.36,
          2692.63,
          5072.83,
          18761.39,
          1701.49,
          10491.29,
          36559.98,
          8242.51,
          8220.82,
          31712.3,
          21944.37,
          7511.18,
          23597.36,
          10575.52,
          17430.1,
          15019.97,
          35353.48,
          15084.14,
          33192.83,
          48901.44,
          24921.19,
          6657.74,
          24996.05,
          944.9,
          39937.31,
          12173.57,
          6669.37,
          1127.87,
          15542,
          10768.06,
          943.52,
          14486.76,
          65.97,
          12547.96,
          16023.44,
          20920.32,
          54084.29,
          22228.34,
          7004.03,
          7754.99,
          7119.36,
          21868.4,
          10364.9,
          1377.7,
          2135.64,
          1624.24,
          14043.9,
          10593.88,
          333.4,
          11020.2,
          10308.09,
          26782.47,
          1692.34,
          1538.92,
          1167.61,
          5711.02,
          12818.29,
          5352.87,
          9919.15,
          43998.99,
          1111.09,
          44832.63,
          899.9,
          3520.79,
          659.12,
          990.5,
          380.52,
          996.63,
          492.07,
          441.91,
          5536.6,
          1016.89,
          23878.41,
          1279.99,
          5518.96,
          3383.13,
          826.02,
          4038.37,
          4286.37,
          616.18,
          16790.13,
          1812.04,
          5936.56,
          673.74,
          6125.63,
          4386.06,
          329.1,
          76799.21,
          875.57,
          5897.26,
          446.35,
          9158.13,
          14756.71,
          3899.24,
          6282.38,
          12746.98,
          286.58,
          1189.81,
          206.94,
          55.86,
          251.11,
          341.36,
          134.27,
          1290.61,
          312.54,
          72.92,
          968.16,
          414.17,
          103.57,
          313.76,
          38182.63,
          13.43,
          26088.1,
          4572.85,
          56.37,
          69.95,
          695.64,
          14270.2,
          161.17,
          388.05,
          136.9,
          499.74,
          18.65,
          872.17,
          940.13,
          1653.54,
          1391.69,
          707.74,
          949.39,
          296.09,
          362.31,
          3.42
         ],
         "yaxis": "y2"
        }
       ],
       "layout": {
        "height": 700,
        "legend": {
         "orientation": "h",
         "x": 0.93,
         "xanchor": "right",
         "y": 1.02,
         "yanchor": "bottom"
        },
        "paper_bgcolor": "#ffffff",
        "plot_bgcolor": "#ffffff",
        "template": {
         "data": {
          "bar": [
           {
            "error_x": {
             "color": "#2a3f5f"
            },
            "error_y": {
             "color": "#2a3f5f"
            },
            "marker": {
             "line": {
              "color": "#E5ECF6",
              "width": 0.5
             }
            },
            "type": "bar"
           }
          ],
          "barpolar": [
           {
            "marker": {
             "line": {
              "color": "#E5ECF6",
              "width": 0.5
             }
            },
            "type": "barpolar"
           }
          ],
          "carpet": [
           {
            "aaxis": {
             "endlinecolor": "#2a3f5f",
             "gridcolor": "white",
             "linecolor": "white",
             "minorgridcolor": "white",
             "startlinecolor": "#2a3f5f"
            },
            "baxis": {
             "endlinecolor": "#2a3f5f",
             "gridcolor": "white",
             "linecolor": "white",
             "minorgridcolor": "white",
             "startlinecolor": "#2a3f5f"
            },
            "type": "carpet"
           }
          ],
          "choropleth": [
           {
            "colorbar": {
             "outlinewidth": 0,
             "ticks": ""
            },
            "type": "choropleth"
           }
          ],
          "contour": [
           {
            "colorbar": {
             "outlinewidth": 0,
             "ticks": ""
            },
            "colorscale": [
             [
              0,
              "#0d0887"
             ],
             [
              0.1111111111111111,
              "#46039f"
             ],
             [
              0.2222222222222222,
              "#7201a8"
             ],
             [
              0.3333333333333333,
              "#9c179e"
             ],
             [
              0.4444444444444444,
              "#bd3786"
             ],
             [
              0.5555555555555556,
              "#d8576b"
             ],
             [
              0.6666666666666666,
              "#ed7953"
             ],
             [
              0.7777777777777778,
              "#fb9f3a"
             ],
             [
              0.8888888888888888,
              "#fdca26"
             ],
             [
              1,
              "#f0f921"
             ]
            ],
            "type": "contour"
           }
          ],
          "contourcarpet": [
           {
            "colorbar": {
             "outlinewidth": 0,
             "ticks": ""
            },
            "type": "contourcarpet"
           }
          ],
          "heatmap": [
           {
            "colorbar": {
             "outlinewidth": 0,
             "ticks": ""
            },
            "colorscale": [
             [
              0,
              "#0d0887"
             ],
             [
              0.1111111111111111,
              "#46039f"
             ],
             [
              0.2222222222222222,
              "#7201a8"
             ],
             [
              0.3333333333333333,
              "#9c179e"
             ],
             [
              0.4444444444444444,
              "#bd3786"
             ],
             [
              0.5555555555555556,
              "#d8576b"
             ],
             [
              0.6666666666666666,
              "#ed7953"
             ],
             [
              0.7777777777777778,
              "#fb9f3a"
             ],
             [
              0.8888888888888888,
              "#fdca26"
             ],
             [
              1,
              "#f0f921"
             ]
            ],
            "type": "heatmap"
           }
          ],
          "heatmapgl": [
           {
            "colorbar": {
             "outlinewidth": 0,
             "ticks": ""
            },
            "colorscale": [
             [
              0,
              "#0d0887"
             ],
             [
              0.1111111111111111,
              "#46039f"
             ],
             [
              0.2222222222222222,
              "#7201a8"
             ],
             [
              0.3333333333333333,
              "#9c179e"
             ],
             [
              0.4444444444444444,
              "#bd3786"
             ],
             [
              0.5555555555555556,
              "#d8576b"
             ],
             [
              0.6666666666666666,
              "#ed7953"
             ],
             [
              0.7777777777777778,
              "#fb9f3a"
             ],
             [
              0.8888888888888888,
              "#fdca26"
             ],
             [
              1,
              "#f0f921"
             ]
            ],
            "type": "heatmapgl"
           }
          ],
          "histogram": [
           {
            "marker": {
             "colorbar": {
              "outlinewidth": 0,
              "ticks": ""
             }
            },
            "type": "histogram"
           }
          ],
          "histogram2d": [
           {
            "colorbar": {
             "outlinewidth": 0,
             "ticks": ""
            },
            "colorscale": [
             [
              0,
              "#0d0887"
             ],
             [
              0.1111111111111111,
              "#46039f"
             ],
             [
              0.2222222222222222,
              "#7201a8"
             ],
             [
              0.3333333333333333,
              "#9c179e"
             ],
             [
              0.4444444444444444,
              "#bd3786"
             ],
             [
              0.5555555555555556,
              "#d8576b"
             ],
             [
              0.6666666666666666,
              "#ed7953"
             ],
             [
              0.7777777777777778,
              "#fb9f3a"
             ],
             [
              0.8888888888888888,
              "#fdca26"
             ],
             [
              1,
              "#f0f921"
             ]
            ],
            "type": "histogram2d"
           }
          ],
          "histogram2dcontour": [
           {
            "colorbar": {
             "outlinewidth": 0,
             "ticks": ""
            },
            "colorscale": [
             [
              0,
              "#0d0887"
             ],
             [
              0.1111111111111111,
              "#46039f"
             ],
             [
              0.2222222222222222,
              "#7201a8"
             ],
             [
              0.3333333333333333,
              "#9c179e"
             ],
             [
              0.4444444444444444,
              "#bd3786"
             ],
             [
              0.5555555555555556,
              "#d8576b"
             ],
             [
              0.6666666666666666,
              "#ed7953"
             ],
             [
              0.7777777777777778,
              "#fb9f3a"
             ],
             [
              0.8888888888888888,
              "#fdca26"
             ],
             [
              1,
              "#f0f921"
             ]
            ],
            "type": "histogram2dcontour"
           }
          ],
          "mesh3d": [
           {
            "colorbar": {
             "outlinewidth": 0,
             "ticks": ""
            },
            "type": "mesh3d"
           }
          ],
          "parcoords": [
           {
            "line": {
             "colorbar": {
              "outlinewidth": 0,
              "ticks": ""
             }
            },
            "type": "parcoords"
           }
          ],
          "pie": [
           {
            "automargin": true,
            "type": "pie"
           }
          ],
          "scatter": [
           {
            "marker": {
             "colorbar": {
              "outlinewidth": 0,
              "ticks": ""
             }
            },
            "type": "scatter"
           }
          ],
          "scatter3d": [
           {
            "line": {
             "colorbar": {
              "outlinewidth": 0,
              "ticks": ""
             }
            },
            "marker": {
             "colorbar": {
              "outlinewidth": 0,
              "ticks": ""
             }
            },
            "type": "scatter3d"
           }
          ],
          "scattercarpet": [
           {
            "marker": {
             "colorbar": {
              "outlinewidth": 0,
              "ticks": ""
             }
            },
            "type": "scattercarpet"
           }
          ],
          "scattergeo": [
           {
            "marker": {
             "colorbar": {
              "outlinewidth": 0,
              "ticks": ""
             }
            },
            "type": "scattergeo"
           }
          ],
          "scattergl": [
           {
            "marker": {
             "colorbar": {
              "outlinewidth": 0,
              "ticks": ""
             }
            },
            "type": "scattergl"
           }
          ],
          "scattermapbox": [
           {
            "marker": {
             "colorbar": {
              "outlinewidth": 0,
              "ticks": ""
             }
            },
            "type": "scattermapbox"
           }
          ],
          "scatterpolar": [
           {
            "marker": {
             "colorbar": {
              "outlinewidth": 0,
              "ticks": ""
             }
            },
            "type": "scatterpolar"
           }
          ],
          "scatterpolargl": [
           {
            "marker": {
             "colorbar": {
              "outlinewidth": 0,
              "ticks": ""
             }
            },
            "type": "scatterpolargl"
           }
          ],
          "scatterternary": [
           {
            "marker": {
             "colorbar": {
              "outlinewidth": 0,
              "ticks": ""
             }
            },
            "type": "scatterternary"
           }
          ],
          "surface": [
           {
            "colorbar": {
             "outlinewidth": 0,
             "ticks": ""
            },
            "colorscale": [
             [
              0,
              "#0d0887"
             ],
             [
              0.1111111111111111,
              "#46039f"
             ],
             [
              0.2222222222222222,
              "#7201a8"
             ],
             [
              0.3333333333333333,
              "#9c179e"
             ],
             [
              0.4444444444444444,
              "#bd3786"
             ],
             [
              0.5555555555555556,
              "#d8576b"
             ],
             [
              0.6666666666666666,
              "#ed7953"
             ],
             [
              0.7777777777777778,
              "#fb9f3a"
             ],
             [
              0.8888888888888888,
              "#fdca26"
             ],
             [
              1,
              "#f0f921"
             ]
            ],
            "type": "surface"
           }
          ],
          "table": [
           {
            "cells": {
             "fill": {
              "color": "#EBF0F8"
             },
             "line": {
              "color": "white"
             }
            },
            "header": {
             "fill": {
              "color": "#C8D4E3"
             },
             "line": {
              "color": "white"
             }
            },
            "type": "table"
           }
          ]
         },
         "layout": {
          "annotationdefaults": {
           "arrowcolor": "#2a3f5f",
           "arrowhead": 0,
           "arrowwidth": 1
          },
          "coloraxis": {
           "colorbar": {
            "outlinewidth": 0,
            "ticks": ""
           }
          },
          "colorscale": {
           "diverging": [
            [
             0,
             "#8e0152"
            ],
            [
             0.1,
             "#c51b7d"
            ],
            [
             0.2,
             "#de77ae"
            ],
            [
             0.3,
             "#f1b6da"
            ],
            [
             0.4,
             "#fde0ef"
            ],
            [
             0.5,
             "#f7f7f7"
            ],
            [
             0.6,
             "#e6f5d0"
            ],
            [
             0.7,
             "#b8e186"
            ],
            [
             0.8,
             "#7fbc41"
            ],
            [
             0.9,
             "#4d9221"
            ],
            [
             1,
             "#276419"
            ]
           ],
           "sequential": [
            [
             0,
             "#0d0887"
            ],
            [
             0.1111111111111111,
             "#46039f"
            ],
            [
             0.2222222222222222,
             "#7201a8"
            ],
            [
             0.3333333333333333,
             "#9c179e"
            ],
            [
             0.4444444444444444,
             "#bd3786"
            ],
            [
             0.5555555555555556,
             "#d8576b"
            ],
            [
             0.6666666666666666,
             "#ed7953"
            ],
            [
             0.7777777777777778,
             "#fb9f3a"
            ],
            [
             0.8888888888888888,
             "#fdca26"
            ],
            [
             1,
             "#f0f921"
            ]
           ],
           "sequentialminus": [
            [
             0,
             "#0d0887"
            ],
            [
             0.1111111111111111,
             "#46039f"
            ],
            [
             0.2222222222222222,
             "#7201a8"
            ],
            [
             0.3333333333333333,
             "#9c179e"
            ],
            [
             0.4444444444444444,
             "#bd3786"
            ],
            [
             0.5555555555555556,
             "#d8576b"
            ],
            [
             0.6666666666666666,
             "#ed7953"
            ],
            [
             0.7777777777777778,
             "#fb9f3a"
            ],
            [
             0.8888888888888888,
             "#fdca26"
            ],
            [
             1,
             "#f0f921"
            ]
           ]
          },
          "colorway": [
           "#636efa",
           "#EF553B",
           "#00cc96",
           "#ab63fa",
           "#FFA15A",
           "#19d3f3",
           "#FF6692",
           "#B6E880",
           "#FF97FF",
           "#FECB52"
          ],
          "font": {
           "color": "#2a3f5f"
          },
          "geo": {
           "bgcolor": "white",
           "lakecolor": "white",
           "landcolor": "#E5ECF6",
           "showlakes": true,
           "showland": true,
           "subunitcolor": "white"
          },
          "hoverlabel": {
           "align": "left"
          },
          "hovermode": "closest",
          "mapbox": {
           "style": "light"
          },
          "paper_bgcolor": "white",
          "plot_bgcolor": "#E5ECF6",
          "polar": {
           "angularaxis": {
            "gridcolor": "white",
            "linecolor": "white",
            "ticks": ""
           },
           "bgcolor": "#E5ECF6",
           "radialaxis": {
            "gridcolor": "white",
            "linecolor": "white",
            "ticks": ""
           }
          },
          "scene": {
           "xaxis": {
            "backgroundcolor": "#E5ECF6",
            "gridcolor": "white",
            "gridwidth": 2,
            "linecolor": "white",
            "showbackground": true,
            "ticks": "",
            "zerolinecolor": "white"
           },
           "yaxis": {
            "backgroundcolor": "#E5ECF6",
            "gridcolor": "white",
            "gridwidth": 2,
            "linecolor": "white",
            "showbackground": true,
            "ticks": "",
            "zerolinecolor": "white"
           },
           "zaxis": {
            "backgroundcolor": "#E5ECF6",
            "gridcolor": "white",
            "gridwidth": 2,
            "linecolor": "white",
            "showbackground": true,
            "ticks": "",
            "zerolinecolor": "white"
           }
          },
          "shapedefaults": {
           "line": {
            "color": "#2a3f5f"
           }
          },
          "ternary": {
           "aaxis": {
            "gridcolor": "white",
            "linecolor": "white",
            "ticks": ""
           },
           "baxis": {
            "gridcolor": "white",
            "linecolor": "white",
            "ticks": ""
           },
           "bgcolor": "#E5ECF6",
           "caxis": {
            "gridcolor": "white",
            "linecolor": "white",
            "ticks": ""
           }
          },
          "title": {
           "x": 0.05
          },
          "xaxis": {
           "automargin": true,
           "gridcolor": "white",
           "linecolor": "white",
           "ticks": "",
           "title": {
            "standoff": 15
           },
           "zerolinecolor": "white",
           "zerolinewidth": 2
          },
          "yaxis": {
           "automargin": true,
           "gridcolor": "white",
           "linecolor": "white",
           "ticks": "",
           "title": {
            "standoff": 15
           },
           "zerolinecolor": "white",
           "zerolinewidth": 2
          }
         }
        },
        "title": {
         "text": "<span style=\"font-size: 20px;\">Global aggregate cases</span><br><span style=\"font-size: 10px;\">(click and drag)</span>",
         "x": 0.45,
         "xanchor": "center",
         "y": 0.97,
         "yanchor": "top"
        },
        "width": 1500,
        "xaxis": {
         "anchor": "y",
         "domain": [
          0,
          0.94
         ],
         "tickangle": 45
        },
        "yaxis": {
         "anchor": "x",
         "domain": [
          0,
          1
         ],
         "showgrid": false,
         "title": {
          "text": "# of confirmed cases"
         }
        },
        "yaxis2": {
         "anchor": "x",
         "overlaying": "y",
         "showgrid": false,
         "side": "right",
         "tickangle": 45,
         "title": {
          "text": "cases/millions"
         }
        }
       }
      },
      "text/html": [
       "<div>\n",
       "        \n",
       "        \n",
       "            <div id=\"07b3744e-f92f-42e4-8790-13aa5d487994\" class=\"plotly-graph-div\" style=\"height:700px; width:1500px;\"></div>\n",
       "            <script type=\"text/javascript\">\n",
       "                require([\"plotly\"], function(Plotly) {\n",
       "                    window.PLOTLYENV=window.PLOTLYENV || {};\n",
       "                    \n",
       "                if (document.getElementById(\"07b3744e-f92f-42e4-8790-13aa5d487994\")) {\n",
       "                    Plotly.newPlot(\n",
       "                        '07b3744e-f92f-42e4-8790-13aa5d487994',\n",
       "                        [{\"marker\": {\"color\": \"#39ac39\"}, \"name\": \"# of confirmed cases\", \"opacity\": 1, \"type\": \"bar\", \"x\": [\"United States\", \"India\", \"Brazil\", \"France\", \"Russia\", \"Spain\", \"United Kingdom\", \"Argentina\", \"Italy\", \"Colombia\", \"Mexico\", \"Peru\", \"Germany\", \"South Africa\", \"Poland\", \"Ukraine\", \"Belgium\", \"Chile\", \"Iraq\", \"Indonesia\", \"Bangladesh\", \"Turkey\", \"Romania\", \"Pakistan\", \"Saudi Arabia\", \"Israel\", \"Canada\", \"Morocco\", \"Switzerland\", \"Portugal\", \"Nepal\", \"Austria\", \"Ecuador\", \"Sweden\", \"Jordan\", \"Panama\", \"Hungary\", \"Kuwait\", \"Qatar\", \"Costa Rica\", \"Kazakhstan\", \"Oman\", \"Japan\", \"Armenia\", \"Belarus\", \"Guatemala\", \"Egypt\", \"Lebanon\", \"Honduras\", \"Ethiopia\", \"Bulgaria\", \"China\", \"Serbia\", \"Slovakia\", \"Croatia\", \"Bahrain\", \"Georgia\", \"Tunisia\", \"Azerbaijan\", \"Greece\", \"Bosnia and Herzegovina\", \"Paraguay\", \"Kenya\", \"Uzbekistan\", \"Algeria\", \"Ireland\", \"Kyrgyzstan\", \"Nigeria\", \"Denmark\", \"Singapore\", \"Slovenia\", \"Ghana\", \"Malaysia\", \"Afghanistan\", \"El Salvador\", \"Lithuania\", \"Norway\", \"Albania\", \"Montenegro\", \"Australia\", \"Luxembourg\", \"Cameroon\", \"Finland\", \"Madagascar\", \"Zambia\", \"Uganda\", \"Senegal\", \"Mozambique\", \"Angola\", \"Namibia\", \"Guinea\", \"Maldives\", \"Tajikistan\", \"Latvia\", \"Jamaica\", \"Haiti\", \"Botswana\", \"Gabon\", \"Zimbabwe\", \"Malta\", \"Mauritania\", \"Estonia\", \"Cuba\", \"Cyprus\", \"Trinidad and Tobago\", \"Malawi\", \"Andorra\", \"Nicaragua\", \"Djibouti\", \"Rwanda\", \"Suriname\", \"Iceland\", \"Equatorial Guinea\", \"Guyana\", \"Belize\", \"Somalia\", \"Uruguay\", \"Mali\", \"Thailand\", \"Benin\", \"Togo\", \"Burkina Faso\", \"Guinea-Bissau\", \"Sierra Leone\", \"Yemen\", \"Lesotho\", \"New Zealand\", \"Chad\", \"Liberia\", \"San Marino\", \"Vietnam\", \"Liechtenstein\", \"Sao Tome and Principe\", \"Burundi\", \"Papua New Guinea\", \"Comoros\", \"Monaco\", \"Eritrea\", \"Mauritius\", \"Mongolia\", \"Bhutan\", \"Cambodia\", \"Barbados\", \"Saint Lucia\", \"Seychelles\", \"Antigua and Barbuda\", \"Saint Vincent and the Grenadines\", \"Dominica\", \"Grenada\", \"Saint Kitts and Nevis\", \"Vanuatu\"], \"xaxis\": \"x\", \"y\": [11202980, 8873541, 5876464, 2041293, 1932711, 1496864, 1394299, 1318384, 1205881, 1205217, 1009396, 937011, 817526, 752269, 733788, 561581, 537871, 532604, 521542, 470648, 434472, 417594, 365212, 361082, 353556, 324755, 305449, 296189, 269974, 225672, 210973, 208613, 180676, 177355, 149539, 147667, 147456, 137329, 136028, 124592, 121653, 120718, 119557, 117886, 115448, 115032, 111009, 106446, 103239, 103056, 101770, 91872, 87381, 87276, 85519, 84882, 82835, 81003, 77083, 76403, 72689, 72099, 70804, 70381, 68589, 68356, 66983, 65305, 63847, 58124, 55544, 50376, 48520, 43403, 36669, 35911, 28434, 28432, 27773, 27758, 27256, 22692, 19419, 17310, 17187, 16257, 15801, 14514, 13615, 13555, 12624, 12314, 11649, 10636, 9929, 9188, 9103, 9084, 8897, 8137, 7979, 7848, 7639, 7285, 6096, 5971, 5914, 5661, 5655, 5491, 5275, 5205, 5104, 4894, 4883, 4301, 4104, 3948, 3878, 2884, 2693, 2652, 2419, 2391, 2078, 2041, 2005, 1603, 1512, 1290, 1283, 989, 965, 630, 602, 579, 552, 518, 491, 434, 377, 303, 250, 171, 160, 134, 78, 68, 33, 19, 1], \"yaxis\": \"y\"}, {\"marker\": {\"color\": \"#b23434\"}, \"mode\": \"lines\", \"name\": \"cases/million\", \"opacity\": 0.7, \"type\": \"scatter\", \"x\": [\"United States\", \"India\", \"Brazil\", \"France\", \"Russia\", \"Spain\", \"United Kingdom\", \"Argentina\", \"Italy\", \"Colombia\", \"Mexico\", \"Peru\", \"Germany\", \"South Africa\", \"Poland\", \"Ukraine\", \"Belgium\", \"Chile\", \"Iraq\", \"Indonesia\", \"Bangladesh\", \"Turkey\", \"Romania\", \"Pakistan\", \"Saudi Arabia\", \"Israel\", \"Canada\", \"Morocco\", \"Switzerland\", \"Portugal\", \"Nepal\", \"Austria\", \"Ecuador\", \"Sweden\", \"Jordan\", \"Panama\", \"Hungary\", \"Kuwait\", \"Qatar\", \"Costa Rica\", \"Kazakhstan\", \"Oman\", \"Japan\", \"Armenia\", \"Belarus\", \"Guatemala\", \"Egypt\", \"Lebanon\", \"Honduras\", \"Ethiopia\", \"Bulgaria\", \"China\", \"Serbia\", \"Slovakia\", \"Croatia\", \"Bahrain\", \"Georgia\", \"Tunisia\", \"Azerbaijan\", \"Greece\", \"Bosnia and Herzegovina\", \"Paraguay\", \"Kenya\", \"Uzbekistan\", \"Algeria\", \"Ireland\", \"Kyrgyzstan\", \"Nigeria\", \"Denmark\", \"Singapore\", \"Slovenia\", \"Ghana\", \"Malaysia\", \"Afghanistan\", \"El Salvador\", \"Lithuania\", \"Norway\", \"Albania\", \"Montenegro\", \"Australia\", \"Luxembourg\", \"Cameroon\", \"Finland\", \"Madagascar\", \"Zambia\", \"Uganda\", \"Senegal\", \"Mozambique\", \"Angola\", \"Namibia\", \"Guinea\", \"Maldives\", \"Tajikistan\", \"Latvia\", \"Jamaica\", \"Haiti\", \"Botswana\", \"Gabon\", \"Zimbabwe\", \"Malta\", \"Mauritania\", \"Estonia\", \"Cuba\", \"Cyprus\", \"Trinidad and Tobago\", \"Malawi\", \"Andorra\", \"Nicaragua\", \"Djibouti\", \"Rwanda\", \"Suriname\", \"Iceland\", \"Equatorial Guinea\", \"Guyana\", \"Belize\", \"Somalia\", \"Uruguay\", \"Mali\", \"Thailand\", \"Benin\", \"Togo\", \"Burkina Faso\", \"Guinea-Bissau\", \"Sierra Leone\", \"Yemen\", \"Lesotho\", \"New Zealand\", \"Chad\", \"Liberia\", \"San Marino\", \"Vietnam\", \"Liechtenstein\", \"Sao Tome and Principe\", \"Burundi\", \"Papua New Guinea\", \"Comoros\", \"Monaco\", \"Eritrea\", \"Mauritius\", \"Mongolia\", \"Bhutan\", \"Cambodia\", \"Barbados\", \"Saint Lucia\", \"Seychelles\", \"Antigua and Barbuda\", \"Saint Vincent and the Grenadines\", \"Dominica\", \"Grenada\", \"Saint Kitts and Nevis\", \"Vanuatu\"], \"xaxis\": \"x\", \"y\": [34292.65, 6560.27, 28054.05, 30477.47, 13377.19, 31986.64, 20979.41, 29630.27, 19957.73, 24274.9, 7998.97, 29291.43, 9860.9, 13019.62, 19323.05, 12585.15, 47044.43, 28437.15, 13569.95, 1758.36, 2692.63, 5072.83, 18761.39, 1701.49, 10491.29, 36559.98, 8242.51, 8220.82, 31712.3, 21944.37, 7511.18, 23597.36, 10575.52, 17430.1, 15019.97, 35353.48, 15084.14, 33192.83, 48901.44, 24921.19, 6657.74, 24996.05, 944.9, 39937.31, 12173.57, 6669.37, 1127.87, 15542.0, 10768.06, 943.52, 14486.76, 65.97, 12547.96, 16023.44, 20920.32, 54084.29, 22228.34, 7004.03, 7754.99, 7119.36, 21868.4, 10364.9, 1377.7, 2135.64, 1624.24, 14043.9, 10593.88, 333.4, 11020.2, 10308.09, 26782.47, 1692.34, 1538.92, 1167.61, 5711.02, 12818.29, 5352.87, 9919.15, 43998.99, 1111.09, 44832.63, 899.9, 3520.79, 659.12, 990.5, 380.52, 996.63, 492.07, 441.91, 5536.6, 1016.89, 23878.41, 1279.99, 5518.96, 3383.13, 826.02, 4038.37, 4286.37, 616.18, 16790.13, 1812.04, 5936.56, 673.74, 6125.63, 4386.06, 329.1, 76799.21, 875.57, 5897.26, 446.35, 9158.13, 14756.71, 3899.24, 6282.38, 12746.98, 286.58, 1189.81, 206.94, 55.86, 251.11, 341.36, 134.27, 1290.61, 312.54, 72.92, 968.16, 414.17, 103.57, 313.76, 38182.63, 13.43, 26088.1, 4572.85, 56.37, 69.95, 695.64, 14270.2, 161.17, 388.05, 136.9, 499.74, 18.65, 872.17, 940.13, 1653.54, 1391.69, 707.74, 949.39, 296.09, 362.31, 3.42], \"yaxis\": \"y2\"}],\n",
       "                        {\"height\": 700, \"legend\": {\"orientation\": \"h\", \"x\": 0.93, \"xanchor\": \"right\", \"y\": 1.02, \"yanchor\": \"bottom\"}, \"paper_bgcolor\": \"#ffffff\", \"plot_bgcolor\": \"#ffffff\", \"template\": {\"data\": {\"bar\": [{\"error_x\": {\"color\": \"#2a3f5f\"}, \"error_y\": {\"color\": \"#2a3f5f\"}, \"marker\": {\"line\": {\"color\": \"#E5ECF6\", \"width\": 0.5}}, \"type\": \"bar\"}], \"barpolar\": [{\"marker\": {\"line\": {\"color\": \"#E5ECF6\", \"width\": 0.5}}, \"type\": \"barpolar\"}], \"carpet\": [{\"aaxis\": {\"endlinecolor\": \"#2a3f5f\", \"gridcolor\": \"white\", \"linecolor\": \"white\", \"minorgridcolor\": \"white\", \"startlinecolor\": \"#2a3f5f\"}, \"baxis\": {\"endlinecolor\": \"#2a3f5f\", \"gridcolor\": \"white\", \"linecolor\": \"white\", \"minorgridcolor\": \"white\", \"startlinecolor\": \"#2a3f5f\"}, \"type\": \"carpet\"}], \"choropleth\": [{\"colorbar\": {\"outlinewidth\": 0, \"ticks\": \"\"}, \"type\": \"choropleth\"}], \"contour\": [{\"colorbar\": {\"outlinewidth\": 0, \"ticks\": \"\"}, \"colorscale\": [[0.0, \"#0d0887\"], [0.1111111111111111, \"#46039f\"], [0.2222222222222222, \"#7201a8\"], [0.3333333333333333, \"#9c179e\"], [0.4444444444444444, \"#bd3786\"], [0.5555555555555556, \"#d8576b\"], [0.6666666666666666, \"#ed7953\"], [0.7777777777777778, \"#fb9f3a\"], [0.8888888888888888, \"#fdca26\"], [1.0, \"#f0f921\"]], \"type\": \"contour\"}], \"contourcarpet\": [{\"colorbar\": {\"outlinewidth\": 0, \"ticks\": \"\"}, \"type\": \"contourcarpet\"}], \"heatmap\": [{\"colorbar\": {\"outlinewidth\": 0, \"ticks\": \"\"}, \"colorscale\": [[0.0, \"#0d0887\"], [0.1111111111111111, \"#46039f\"], [0.2222222222222222, \"#7201a8\"], [0.3333333333333333, \"#9c179e\"], [0.4444444444444444, \"#bd3786\"], [0.5555555555555556, \"#d8576b\"], [0.6666666666666666, \"#ed7953\"], [0.7777777777777778, \"#fb9f3a\"], [0.8888888888888888, \"#fdca26\"], [1.0, \"#f0f921\"]], \"type\": \"heatmap\"}], \"heatmapgl\": [{\"colorbar\": {\"outlinewidth\": 0, \"ticks\": \"\"}, \"colorscale\": [[0.0, \"#0d0887\"], [0.1111111111111111, \"#46039f\"], [0.2222222222222222, \"#7201a8\"], [0.3333333333333333, \"#9c179e\"], [0.4444444444444444, \"#bd3786\"], [0.5555555555555556, \"#d8576b\"], [0.6666666666666666, \"#ed7953\"], [0.7777777777777778, \"#fb9f3a\"], [0.8888888888888888, \"#fdca26\"], [1.0, \"#f0f921\"]], \"type\": \"heatmapgl\"}], \"histogram\": [{\"marker\": {\"colorbar\": {\"outlinewidth\": 0, \"ticks\": \"\"}}, \"type\": \"histogram\"}], \"histogram2d\": [{\"colorbar\": {\"outlinewidth\": 0, \"ticks\": \"\"}, \"colorscale\": [[0.0, \"#0d0887\"], [0.1111111111111111, \"#46039f\"], [0.2222222222222222, \"#7201a8\"], [0.3333333333333333, \"#9c179e\"], [0.4444444444444444, \"#bd3786\"], [0.5555555555555556, \"#d8576b\"], [0.6666666666666666, \"#ed7953\"], [0.7777777777777778, \"#fb9f3a\"], [0.8888888888888888, \"#fdca26\"], [1.0, \"#f0f921\"]], \"type\": \"histogram2d\"}], \"histogram2dcontour\": [{\"colorbar\": {\"outlinewidth\": 0, \"ticks\": \"\"}, \"colorscale\": [[0.0, \"#0d0887\"], [0.1111111111111111, \"#46039f\"], [0.2222222222222222, \"#7201a8\"], [0.3333333333333333, \"#9c179e\"], [0.4444444444444444, \"#bd3786\"], [0.5555555555555556, \"#d8576b\"], [0.6666666666666666, \"#ed7953\"], [0.7777777777777778, \"#fb9f3a\"], [0.8888888888888888, \"#fdca26\"], [1.0, \"#f0f921\"]], \"type\": \"histogram2dcontour\"}], \"mesh3d\": [{\"colorbar\": {\"outlinewidth\": 0, \"ticks\": \"\"}, \"type\": \"mesh3d\"}], \"parcoords\": [{\"line\": {\"colorbar\": {\"outlinewidth\": 0, \"ticks\": \"\"}}, \"type\": \"parcoords\"}], \"pie\": [{\"automargin\": true, \"type\": \"pie\"}], \"scatter\": [{\"marker\": {\"colorbar\": {\"outlinewidth\": 0, \"ticks\": \"\"}}, \"type\": \"scatter\"}], \"scatter3d\": [{\"line\": {\"colorbar\": {\"outlinewidth\": 0, \"ticks\": \"\"}}, \"marker\": {\"colorbar\": {\"outlinewidth\": 0, \"ticks\": \"\"}}, \"type\": \"scatter3d\"}], \"scattercarpet\": [{\"marker\": {\"colorbar\": {\"outlinewidth\": 0, \"ticks\": \"\"}}, \"type\": \"scattercarpet\"}], \"scattergeo\": [{\"marker\": {\"colorbar\": {\"outlinewidth\": 0, \"ticks\": \"\"}}, \"type\": \"scattergeo\"}], \"scattergl\": [{\"marker\": {\"colorbar\": {\"outlinewidth\": 0, \"ticks\": \"\"}}, \"type\": \"scattergl\"}], \"scattermapbox\": [{\"marker\": {\"colorbar\": {\"outlinewidth\": 0, \"ticks\": \"\"}}, \"type\": \"scattermapbox\"}], \"scatterpolar\": [{\"marker\": {\"colorbar\": {\"outlinewidth\": 0, \"ticks\": \"\"}}, \"type\": \"scatterpolar\"}], \"scatterpolargl\": [{\"marker\": {\"colorbar\": {\"outlinewidth\": 0, \"ticks\": \"\"}}, \"type\": \"scatterpolargl\"}], \"scatterternary\": [{\"marker\": {\"colorbar\": {\"outlinewidth\": 0, \"ticks\": \"\"}}, \"type\": \"scatterternary\"}], \"surface\": [{\"colorbar\": {\"outlinewidth\": 0, \"ticks\": \"\"}, \"colorscale\": [[0.0, \"#0d0887\"], [0.1111111111111111, \"#46039f\"], [0.2222222222222222, \"#7201a8\"], [0.3333333333333333, \"#9c179e\"], [0.4444444444444444, \"#bd3786\"], [0.5555555555555556, \"#d8576b\"], [0.6666666666666666, \"#ed7953\"], [0.7777777777777778, \"#fb9f3a\"], [0.8888888888888888, \"#fdca26\"], [1.0, \"#f0f921\"]], \"type\": \"surface\"}], \"table\": [{\"cells\": {\"fill\": {\"color\": \"#EBF0F8\"}, \"line\": {\"color\": \"white\"}}, \"header\": {\"fill\": {\"color\": \"#C8D4E3\"}, \"line\": {\"color\": \"white\"}}, \"type\": \"table\"}]}, \"layout\": {\"annotationdefaults\": {\"arrowcolor\": \"#2a3f5f\", \"arrowhead\": 0, \"arrowwidth\": 1}, \"coloraxis\": {\"colorbar\": {\"outlinewidth\": 0, \"ticks\": \"\"}}, \"colorscale\": {\"diverging\": [[0, \"#8e0152\"], [0.1, \"#c51b7d\"], [0.2, \"#de77ae\"], [0.3, \"#f1b6da\"], [0.4, \"#fde0ef\"], [0.5, \"#f7f7f7\"], [0.6, \"#e6f5d0\"], [0.7, \"#b8e186\"], [0.8, \"#7fbc41\"], [0.9, \"#4d9221\"], [1, \"#276419\"]], \"sequential\": [[0.0, \"#0d0887\"], [0.1111111111111111, \"#46039f\"], [0.2222222222222222, \"#7201a8\"], [0.3333333333333333, \"#9c179e\"], [0.4444444444444444, \"#bd3786\"], [0.5555555555555556, \"#d8576b\"], [0.6666666666666666, \"#ed7953\"], [0.7777777777777778, \"#fb9f3a\"], [0.8888888888888888, \"#fdca26\"], [1.0, \"#f0f921\"]], \"sequentialminus\": [[0.0, \"#0d0887\"], [0.1111111111111111, \"#46039f\"], [0.2222222222222222, \"#7201a8\"], [0.3333333333333333, \"#9c179e\"], [0.4444444444444444, \"#bd3786\"], [0.5555555555555556, \"#d8576b\"], [0.6666666666666666, \"#ed7953\"], [0.7777777777777778, \"#fb9f3a\"], [0.8888888888888888, \"#fdca26\"], [1.0, \"#f0f921\"]]}, \"colorway\": [\"#636efa\", \"#EF553B\", \"#00cc96\", \"#ab63fa\", \"#FFA15A\", \"#19d3f3\", \"#FF6692\", \"#B6E880\", \"#FF97FF\", \"#FECB52\"], \"font\": {\"color\": \"#2a3f5f\"}, \"geo\": {\"bgcolor\": \"white\", \"lakecolor\": \"white\", \"landcolor\": \"#E5ECF6\", \"showlakes\": true, \"showland\": true, \"subunitcolor\": \"white\"}, \"hoverlabel\": {\"align\": \"left\"}, \"hovermode\": \"closest\", \"mapbox\": {\"style\": \"light\"}, \"paper_bgcolor\": \"white\", \"plot_bgcolor\": \"#E5ECF6\", \"polar\": {\"angularaxis\": {\"gridcolor\": \"white\", \"linecolor\": \"white\", \"ticks\": \"\"}, \"bgcolor\": \"#E5ECF6\", \"radialaxis\": {\"gridcolor\": \"white\", \"linecolor\": \"white\", \"ticks\": \"\"}}, \"scene\": {\"xaxis\": {\"backgroundcolor\": \"#E5ECF6\", \"gridcolor\": \"white\", \"gridwidth\": 2, \"linecolor\": \"white\", \"showbackground\": true, \"ticks\": \"\", \"zerolinecolor\": \"white\"}, \"yaxis\": {\"backgroundcolor\": \"#E5ECF6\", \"gridcolor\": \"white\", \"gridwidth\": 2, \"linecolor\": \"white\", \"showbackground\": true, \"ticks\": \"\", \"zerolinecolor\": \"white\"}, \"zaxis\": {\"backgroundcolor\": \"#E5ECF6\", \"gridcolor\": \"white\", \"gridwidth\": 2, \"linecolor\": \"white\", \"showbackground\": true, \"ticks\": \"\", \"zerolinecolor\": \"white\"}}, \"shapedefaults\": {\"line\": {\"color\": \"#2a3f5f\"}}, \"ternary\": {\"aaxis\": {\"gridcolor\": \"white\", \"linecolor\": \"white\", \"ticks\": \"\"}, \"baxis\": {\"gridcolor\": \"white\", \"linecolor\": \"white\", \"ticks\": \"\"}, \"bgcolor\": \"#E5ECF6\", \"caxis\": {\"gridcolor\": \"white\", \"linecolor\": \"white\", \"ticks\": \"\"}}, \"title\": {\"x\": 0.05}, \"xaxis\": {\"automargin\": true, \"gridcolor\": \"white\", \"linecolor\": \"white\", \"ticks\": \"\", \"title\": {\"standoff\": 15}, \"zerolinecolor\": \"white\", \"zerolinewidth\": 2}, \"yaxis\": {\"automargin\": true, \"gridcolor\": \"white\", \"linecolor\": \"white\", \"ticks\": \"\", \"title\": {\"standoff\": 15}, \"zerolinecolor\": \"white\", \"zerolinewidth\": 2}}}, \"title\": {\"text\": \"<span style=\\\"font-size: 20px;\\\">Global aggregate cases</span><br><span style=\\\"font-size: 10px;\\\">(click and drag)</span>\", \"x\": 0.45, \"xanchor\": \"center\", \"y\": 0.97, \"yanchor\": \"top\"}, \"width\": 1500, \"xaxis\": {\"anchor\": \"y\", \"domain\": [0.0, 0.94], \"tickangle\": 45}, \"yaxis\": {\"anchor\": \"x\", \"domain\": [0.0, 1.0], \"showgrid\": false, \"title\": {\"text\": \"# of confirmed cases\"}}, \"yaxis2\": {\"anchor\": \"x\", \"overlaying\": \"y\", \"showgrid\": false, \"side\": \"right\", \"tickangle\": 45, \"title\": {\"text\": \"cases/millions\"}}},\n",
       "                        {\"responsive\": true}\n",
       "                    ).then(function(){\n",
       "                            \n",
       "var gd = document.getElementById('07b3744e-f92f-42e4-8790-13aa5d487994');\n",
       "var x = new MutationObserver(function (mutations, observer) {{\n",
       "        var display = window.getComputedStyle(gd).display;\n",
       "        if (!display || display === 'none') {{\n",
       "            console.log([gd, 'removed!']);\n",
       "            Plotly.purge(gd);\n",
       "            observer.disconnect();\n",
       "        }}\n",
       "}});\n",
       "\n",
       "// Listen for the removal of the full notebook cells\n",
       "var notebookContainer = gd.closest('#notebook-container');\n",
       "if (notebookContainer) {{\n",
       "    x.observe(notebookContainer, {childList: true});\n",
       "}}\n",
       "\n",
       "// Listen for the clearing of the current output cell\n",
       "var outputEl = gd.closest('.output');\n",
       "if (outputEl) {{\n",
       "    x.observe(outputEl, {childList: true});\n",
       "}}\n",
       "\n",
       "                        })\n",
       "                };\n",
       "                });\n",
       "            </script>\n",
       "        </div>"
      ]
     },
     "metadata": {},
     "output_type": "display_data"
    }
   ],
   "source": [
    "# Plotly plot 2: Per country total cases and cases/million populations\n",
    "\n",
    "df = final_df\n",
    "#print(df.head())\n",
    "df.index = df['Country/Region']\n",
    "fig = go.Figure()\n",
    "fig = make_subplots(specs=[[{\"secondary_y\": True}]])\n",
    "\n",
    "fig.add_trace(\n",
    "  go.Bar(\n",
    "      x=df.index,\n",
    "      y=df[\"confirmed\"],\n",
    "      name=\"# of confirmed cases\",\n",
    "      marker_color='#39ac39',\n",
    "      opacity=1\n",
    "  ),\n",
    "  secondary_y=False\n",
    ")\n",
    "\n",
    "fig.add_trace(\n",
    "  go.Scatter(\n",
    "      x=df.index,\n",
    "      y=df[\"cases/million\"],\n",
    "      mode=\"lines\",\n",
    "      name=\"cases/million\",\n",
    "      marker_color='#b23434',\n",
    "      opacity=0.7\n",
    "  ),\n",
    "  secondary_y=True\n",
    ")\n",
    "\n",
    "# Add figure title\n",
    "fig.update_layout(legend=dict(\n",
    "  orientation=\"h\",\n",
    "  yanchor=\"bottom\",\n",
    "  y=1.02,\n",
    "  xanchor=\"right\",\n",
    "  x=0.93),\n",
    "  title={\n",
    "  'text': '<span style=\"font-size: 20px;\">Global aggregate cases</span><br><span style=\"font-size: 10px;\">(click and drag)</span>',\n",
    "  'y': 0.97,\n",
    "  'x': 0.45,\n",
    "  'xanchor': 'center',\n",
    "  'yanchor': 'top'},\n",
    "  paper_bgcolor=\"#ffffff\",\n",
    "  plot_bgcolor=\"#ffffff\",\n",
    "  width=1500, height=700\n",
    ")\n",
    "\n",
    "\n",
    "# Set x-axis title\n",
    "fig.update_xaxes( tickangle=45)\n",
    "\n",
    "# Set y-axes titles\n",
    "fig.update_yaxes(title_text=\"# of confirmed cases\",\n",
    "               secondary_y=False, showgrid=False)\n",
    "fig.update_yaxes(title_text=\"cases/millions\", tickangle=45 , secondary_y=True, showgrid=False)"
   ]
  },
  {
   "cell_type": "code",
   "execution_count": 39,
   "metadata": {},
   "outputs": [
    {
     "data": {
      "application/vnd.plotly.v1+json": {
       "config": {
        "plotlyServerURL": "https://plot.ly"
       },
       "data": [
        {
         "hovertemplate": "variable=daily new cases<br>date=%{x}<br>value=%{y}<extra></extra>",
         "legendgroup": "daily new cases",
         "line": {
          "color": "#636efa",
          "dash": "solid"
         },
         "mode": "lines",
         "name": "daily new cases",
         "orientation": "v",
         "showlegend": true,
         "type": "scatter",
         "x": [
          "1/22/20",
          "1/23/20",
          "1/24/20",
          "1/25/20",
          "1/26/20",
          "1/27/20",
          "1/28/20",
          "1/29/20",
          "1/30/20",
          "1/31/20",
          "2/1/20",
          "2/2/20",
          "2/3/20",
          "2/4/20",
          "2/5/20",
          "2/6/20",
          "2/7/20",
          "2/8/20",
          "2/9/20",
          "2/10/20",
          "2/11/20",
          "2/12/20",
          "2/13/20",
          "2/14/20",
          "2/15/20",
          "2/16/20",
          "2/17/20",
          "2/18/20",
          "2/19/20",
          "2/20/20",
          "2/21/20",
          "2/22/20",
          "2/23/20",
          "2/24/20",
          "2/25/20",
          "2/26/20",
          "2/27/20",
          "2/28/20",
          "2/29/20",
          "3/1/20",
          "3/2/20",
          "3/3/20",
          "3/4/20",
          "3/5/20",
          "3/6/20",
          "3/7/20",
          "3/8/20",
          "3/9/20",
          "3/10/20",
          "3/11/20",
          "3/12/20",
          "3/13/20",
          "3/14/20",
          "3/15/20",
          "3/16/20",
          "3/17/20",
          "3/18/20",
          "3/19/20",
          "3/20/20",
          "3/21/20",
          "3/22/20",
          "3/23/20",
          "3/24/20",
          "3/25/20",
          "3/26/20",
          "3/27/20",
          "3/28/20",
          "3/29/20",
          "3/30/20",
          "3/31/20",
          "4/1/20",
          "4/2/20",
          "4/3/20",
          "4/4/20",
          "4/5/20",
          "4/6/20",
          "4/7/20",
          "4/8/20",
          "4/9/20",
          "4/10/20",
          "4/11/20",
          "4/12/20",
          "4/13/20",
          "4/14/20",
          "4/15/20",
          "4/16/20",
          "4/17/20",
          "4/18/20",
          "4/19/20",
          "4/20/20",
          "4/21/20",
          "4/22/20",
          "4/23/20",
          "4/24/20",
          "4/25/20",
          "4/26/20",
          "4/27/20",
          "4/28/20",
          "4/29/20",
          "4/30/20",
          "5/1/20",
          "5/2/20",
          "5/3/20",
          "5/4/20",
          "5/5/20",
          "5/6/20",
          "5/7/20",
          "5/8/20",
          "5/9/20",
          "5/10/20",
          "5/11/20",
          "5/12/20",
          "5/13/20",
          "5/14/20",
          "5/15/20",
          "5/16/20",
          "5/17/20",
          "5/18/20",
          "5/19/20",
          "5/20/20",
          "5/21/20",
          "5/22/20",
          "5/23/20",
          "5/24/20",
          "5/25/20",
          "5/26/20",
          "5/27/20",
          "5/28/20",
          "5/29/20",
          "5/30/20",
          "5/31/20",
          "6/1/20",
          "6/2/20",
          "6/3/20",
          "6/4/20",
          "6/5/20",
          "6/6/20",
          "6/7/20",
          "6/8/20",
          "6/9/20",
          "6/10/20",
          "6/11/20",
          "6/12/20",
          "6/13/20",
          "6/14/20",
          "6/15/20",
          "6/16/20",
          "6/17/20",
          "6/18/20",
          "6/19/20",
          "6/20/20",
          "6/21/20",
          "6/22/20",
          "6/23/20",
          "6/24/20",
          "6/25/20",
          "6/26/20",
          "6/27/20",
          "6/28/20",
          "6/29/20",
          "6/30/20",
          "7/1/20",
          "7/2/20",
          "7/3/20",
          "7/4/20",
          "7/5/20",
          "7/6/20",
          "7/7/20",
          "7/8/20",
          "7/9/20",
          "7/10/20",
          "7/11/20",
          "7/12/20",
          "7/13/20",
          "7/14/20",
          "7/15/20",
          "7/16/20",
          "7/17/20",
          "7/18/20",
          "7/19/20",
          "7/20/20",
          "7/21/20",
          "7/22/20",
          "7/23/20",
          "7/24/20",
          "7/25/20",
          "7/26/20",
          "7/27/20",
          "7/28/20",
          "7/29/20",
          "7/30/20",
          "7/31/20",
          "8/1/20",
          "8/2/20",
          "8/3/20",
          "8/4/20",
          "8/5/20",
          "8/6/20",
          "8/7/20",
          "8/8/20",
          "8/9/20",
          "8/10/20",
          "8/11/20",
          "8/12/20",
          "8/13/20",
          "8/14/20",
          "8/15/20",
          "8/16/20",
          "8/17/20",
          "8/18/20",
          "8/19/20",
          "8/20/20",
          "8/21/20",
          "8/22/20",
          "8/23/20",
          "8/24/20",
          "8/25/20",
          "8/26/20",
          "8/27/20",
          "8/28/20",
          "8/29/20",
          "8/30/20",
          "8/31/20",
          "9/1/20",
          "9/2/20",
          "9/3/20",
          "9/4/20",
          "9/5/20",
          "9/6/20",
          "9/7/20",
          "9/8/20",
          "9/9/20",
          "9/10/20",
          "9/11/20",
          "9/12/20",
          "9/13/20",
          "9/14/20",
          "9/15/20",
          "9/16/20",
          "9/17/20",
          "9/18/20",
          "9/19/20",
          "9/20/20",
          "9/21/20",
          "9/22/20",
          "9/23/20",
          "9/24/20",
          "9/25/20",
          "9/26/20",
          "9/27/20",
          "9/28/20",
          "9/29/20",
          "9/30/20",
          "10/1/20",
          "10/2/20",
          "10/3/20",
          "10/4/20",
          "10/5/20",
          "10/6/20",
          "10/7/20",
          "10/8/20",
          "10/9/20",
          "10/10/20",
          "10/11/20",
          "10/12/20",
          "10/13/20",
          "10/14/20",
          "10/15/20",
          "10/16/20",
          "10/17/20",
          "10/18/20",
          "10/19/20",
          "10/20/20",
          "10/21/20",
          "10/22/20",
          "10/23/20",
          "10/24/20",
          "10/25/20",
          "10/26/20",
          "10/27/20",
          "10/28/20",
          "10/29/20",
          "10/30/20",
          "10/31/20",
          "11/1/20",
          "11/2/20",
          "11/3/20",
          "11/4/20",
          "11/5/20",
          "11/6/20",
          "11/7/20",
          "11/8/20",
          "11/9/20",
          "11/10/20",
          "11/11/20",
          "11/12/20",
          "11/13/20",
          "11/14/20",
          "11/15/20",
          "11/16/20"
         ],
         "xaxis": "x",
         "y": [
          0,
          99,
          287,
          493,
          684,
          809,
          2651,
          589,
          2068,
          1692,
          2111,
          4749,
          3100,
          4011,
          3745,
          3160,
          3593,
          2734,
          3030,
          2609,
          2042,
          418,
          15153,
          6527,
          2142,
          2184,
          2035,
          1882,
          500,
          560,
          629,
          1761,
          380,
          564,
          853,
          977,
          1360,
          1385,
          1893,
          2383,
          1978,
          2584,
          2317,
          2764,
          4000,
          4062,
          3960,
          3963,
          5011,
          7681,
          5789,
          14381,
          11078,
          11293,
          14744,
          15931,
          19533,
          27156,
          30635,
          31969,
          34238,
          43368,
          41472,
          50984,
          62726,
          64991,
          67382,
          59399,
          65237,
          76829,
          76526,
          81331,
          83253,
          80354,
          71977,
          73234,
          77740,
          84031,
          86481,
          87540,
          76216,
          95353,
          70145,
          71346,
          81873,
          96921,
          87813,
          73394,
          79972,
          74503,
          75879,
          78019,
          88057,
          84373,
          83247,
          72140,
          69690,
          75484,
          77462,
          83348,
          87190,
          80047,
          76523,
          77078,
          80455,
          89914,
          89020,
          91171,
          84923,
          75196,
          76875,
          84258,
          84820,
          96682,
          96324,
          94206,
          77405,
          88718,
          97138,
          102753,
          106565,
          105983,
          104626,
          94477,
          86349,
          93251,
          103005,
          119514,
          120895,
          136954,
          106599,
          95503,
          121381,
          118095,
          126827,
          130799,
          134629,
          111904,
          102479,
          124635,
          134447,
          138170,
          128472,
          135324,
          132652,
          119745,
          141843,
          142517,
          140305,
          179833,
          157092,
          128288,
          137907,
          165290,
          170862,
          178325,
          191398,
          178460,
          161795,
          156186,
          174108,
          217212,
          208114,
          202685,
          193841,
          182896,
          165205,
          210927,
          212399,
          228065,
          232157,
          216272,
          192505,
          192188,
          221319,
          231110,
          252565,
          241872,
          236756,
          213922,
          206554,
          233407,
          280828,
          282921,
          280321,
          255401,
          212809,
          226198,
          252233,
          289607,
          280130,
          290191,
          250116,
          228200,
          201437,
          258449,
          272239,
          284745,
          280739,
          259051,
          223292,
          227025,
          254808,
          277973,
          285951,
          304229,
          247638,
          211928,
          209769,
          256074,
          274459,
          267251,
          269595,
          265034,
          205504,
          226136,
          241958,
          289697,
          279074,
          281330,
          260696,
          226342,
          262432,
          264189,
          282754,
          280856,
          312834,
          263226,
          222128,
          233388,
          241376,
          284435,
          298981,
          319858,
          277007,
          236080,
          279594,
          283682,
          304971,
          313586,
          323167,
          280556,
          242441,
          298376,
          279898,
          266732,
          361264,
          329316,
          277050,
          241169,
          275883,
          284049,
          326721,
          317982,
          294425,
          319471,
          248696,
          329116,
          323875,
          349825,
          360464,
          359678,
          330405,
          269754,
          325119,
          329004,
          380052,
          407271,
          410443,
          341242,
          285938,
          448086,
          388522,
          443650,
          469645,
          496765,
          412833,
          353478,
          537063,
          468908,
          508935,
          550788,
          569234,
          476330,
          434135,
          506857,
          513543,
          597627,
          593225,
          641152,
          511574,
          564822,
          500379,
          558531,
          644668,
          646835,
          648440,
          593817,
          470256,
          535993
         ],
         "yaxis": "y"
        },
        {
         "hovertemplate": "variable=daily new recovered<br>date=%{x}<br>value=%{y}<extra></extra>",
         "legendgroup": "daily new recovered",
         "line": {
          "color": "#EF553B",
          "dash": "solid"
         },
         "mode": "lines",
         "name": "daily new recovered",
         "orientation": "v",
         "showlegend": true,
         "type": "scatter",
         "x": [
          "1/22/20",
          "1/23/20",
          "1/24/20",
          "1/25/20",
          "1/26/20",
          "1/27/20",
          "1/28/20",
          "1/29/20",
          "1/30/20",
          "1/31/20",
          "2/1/20",
          "2/2/20",
          "2/3/20",
          "2/4/20",
          "2/5/20",
          "2/6/20",
          "2/7/20",
          "2/8/20",
          "2/9/20",
          "2/10/20",
          "2/11/20",
          "2/12/20",
          "2/13/20",
          "2/14/20",
          "2/15/20",
          "2/16/20",
          "2/17/20",
          "2/18/20",
          "2/19/20",
          "2/20/20",
          "2/21/20",
          "2/22/20",
          "2/23/20",
          "2/24/20",
          "2/25/20",
          "2/26/20",
          "2/27/20",
          "2/28/20",
          "2/29/20",
          "3/1/20",
          "3/2/20",
          "3/3/20",
          "3/4/20",
          "3/5/20",
          "3/6/20",
          "3/7/20",
          "3/8/20",
          "3/9/20",
          "3/10/20",
          "3/11/20",
          "3/12/20",
          "3/13/20",
          "3/14/20",
          "3/15/20",
          "3/16/20",
          "3/17/20",
          "3/18/20",
          "3/19/20",
          "3/20/20",
          "3/21/20",
          "3/22/20",
          "3/23/20",
          "3/24/20",
          "3/25/20",
          "3/26/20",
          "3/27/20",
          "3/28/20",
          "3/29/20",
          "3/30/20",
          "3/31/20",
          "4/1/20",
          "4/2/20",
          "4/3/20",
          "4/4/20",
          "4/5/20",
          "4/6/20",
          "4/7/20",
          "4/8/20",
          "4/9/20",
          "4/10/20",
          "4/11/20",
          "4/12/20",
          "4/13/20",
          "4/14/20",
          "4/15/20",
          "4/16/20",
          "4/17/20",
          "4/18/20",
          "4/19/20",
          "4/20/20",
          "4/21/20",
          "4/22/20",
          "4/23/20",
          "4/24/20",
          "4/25/20",
          "4/26/20",
          "4/27/20",
          "4/28/20",
          "4/29/20",
          "4/30/20",
          "5/1/20",
          "5/2/20",
          "5/3/20",
          "5/4/20",
          "5/5/20",
          "5/6/20",
          "5/7/20",
          "5/8/20",
          "5/9/20",
          "5/10/20",
          "5/11/20",
          "5/12/20",
          "5/13/20",
          "5/14/20",
          "5/15/20",
          "5/16/20",
          "5/17/20",
          "5/18/20",
          "5/19/20",
          "5/20/20",
          "5/21/20",
          "5/22/20",
          "5/23/20",
          "5/24/20",
          "5/25/20",
          "5/26/20",
          "5/27/20",
          "5/28/20",
          "5/29/20",
          "5/30/20",
          "5/31/20",
          "6/1/20",
          "6/2/20",
          "6/3/20",
          "6/4/20",
          "6/5/20",
          "6/6/20",
          "6/7/20",
          "6/8/20",
          "6/9/20",
          "6/10/20",
          "6/11/20",
          "6/12/20",
          "6/13/20",
          "6/14/20",
          "6/15/20",
          "6/16/20",
          "6/17/20",
          "6/18/20",
          "6/19/20",
          "6/20/20",
          "6/21/20",
          "6/22/20",
          "6/23/20",
          "6/24/20",
          "6/25/20",
          "6/26/20",
          "6/27/20",
          "6/28/20",
          "6/29/20",
          "6/30/20",
          "7/1/20",
          "7/2/20",
          "7/3/20",
          "7/4/20",
          "7/5/20",
          "7/6/20",
          "7/7/20",
          "7/8/20",
          "7/9/20",
          "7/10/20",
          "7/11/20",
          "7/12/20",
          "7/13/20",
          "7/14/20",
          "7/15/20",
          "7/16/20",
          "7/17/20",
          "7/18/20",
          "7/19/20",
          "7/20/20",
          "7/21/20",
          "7/22/20",
          "7/23/20",
          "7/24/20",
          "7/25/20",
          "7/26/20",
          "7/27/20",
          "7/28/20",
          "7/29/20",
          "7/30/20",
          "7/31/20",
          "8/1/20",
          "8/2/20",
          "8/3/20",
          "8/4/20",
          "8/5/20",
          "8/6/20",
          "8/7/20",
          "8/8/20",
          "8/9/20",
          "8/10/20",
          "8/11/20",
          "8/12/20",
          "8/13/20",
          "8/14/20",
          "8/15/20",
          "8/16/20",
          "8/17/20",
          "8/18/20",
          "8/19/20",
          "8/20/20",
          "8/21/20",
          "8/22/20",
          "8/23/20",
          "8/24/20",
          "8/25/20",
          "8/26/20",
          "8/27/20",
          "8/28/20",
          "8/29/20",
          "8/30/20",
          "8/31/20",
          "9/1/20",
          "9/2/20",
          "9/3/20",
          "9/4/20",
          "9/5/20",
          "9/6/20",
          "9/7/20",
          "9/8/20",
          "9/9/20",
          "9/10/20",
          "9/11/20",
          "9/12/20",
          "9/13/20",
          "9/14/20",
          "9/15/20",
          "9/16/20",
          "9/17/20",
          "9/18/20",
          "9/19/20",
          "9/20/20",
          "9/21/20",
          "9/22/20",
          "9/23/20",
          "9/24/20",
          "9/25/20",
          "9/26/20",
          "9/27/20",
          "9/28/20",
          "9/29/20",
          "9/30/20",
          "10/1/20",
          "10/2/20",
          "10/3/20",
          "10/4/20",
          "10/5/20",
          "10/6/20",
          "10/7/20",
          "10/8/20",
          "10/9/20",
          "10/10/20",
          "10/11/20",
          "10/12/20",
          "10/13/20",
          "10/14/20",
          "10/15/20",
          "10/16/20",
          "10/17/20",
          "10/18/20",
          "10/19/20",
          "10/20/20",
          "10/21/20",
          "10/22/20",
          "10/23/20",
          "10/24/20",
          "10/25/20",
          "10/26/20",
          "10/27/20",
          "10/28/20",
          "10/29/20",
          "10/30/20",
          "10/31/20",
          "11/1/20",
          "11/2/20",
          "11/3/20",
          "11/4/20",
          "11/5/20",
          "11/6/20",
          "11/7/20",
          "11/8/20",
          "11/9/20",
          "11/10/20",
          "11/11/20",
          "11/12/20",
          "11/13/20",
          "11/14/20",
          "11/15/20",
          "11/16/20"
         ],
         "xaxis": "x",
         "y": [
          0,
          2,
          6,
          3,
          13,
          9,
          46,
          19,
          17,
          79,
          62,
          188,
          151,
          229,
          272,
          363,
          524,
          605,
          628,
          702,
          737,
          467,
          1145,
          1763,
          1337,
          1470,
          1718,
          1769,
          1769,
          2056,
          713,
          3996,
          508,
          1833,
          2678,
          2479,
          2893,
          3434,
          3071,
          2934,
          2886,
          2626,
          2942,
          2626,
          2069,
          2494,
          2335,
          1799,
          1911,
          2598,
          1322,
          1927,
          2371,
          3410,
          2054,
          2752,
          2483,
          1637,
          2445,
          4267,
          6215,
          466,
          9641,
          5783,
          8370,
          8776,
          8503,
          9467,
          15446,
          13488,
          15093,
          17049,
          15448,
          20417,
          13840,
          16580,
          23391,
          28716,
          25348,
          21802,
          26257,
          19414,
          27167,
          25089,
          36670,
          30820,
          26123,
          23919,
          31655,
          21990,
          34843,
          30425,
          28780,
          50051,
          27779,
          28605,
          27769,
          33271,
          42182,
          64966,
          38253,
          40879,
          32316,
          34087,
          36540,
          46006,
          39468,
          36550,
          53550,
          33594,
          46994,
          37021,
          55856,
          39716,
          48008,
          56592,
          40907,
          52921,
          52105,
          58928,
          51265,
          108651,
          54971,
          55440,
          63723,
          55214,
          63393,
          66857,
          77346,
          70453,
          76320,
          54897,
          104123,
          79104,
          70053,
          69159,
          72204,
          55101,
          151563,
          82282,
          79138,
          85882,
          79724,
          85934,
          70785,
          80208,
          97840,
          118787,
          81142,
          95015,
          115825,
          68737,
          91626,
          104075,
          115760,
          92856,
          106714,
          106365,
          89120,
          94566,
          117322,
          115926,
          284877,
          109900,
          195833,
          119322,
          123612,
          145025,
          157949,
          134514,
          139392,
          125709,
          111679,
          140344,
          142200,
          159781,
          152370,
          183310,
          150957,
          87877,
          158996,
          174647,
          176387,
          170164,
          229317,
          219317,
          140476,
          169623,
          173854,
          201690,
          222487,
          198605,
          184597,
          136703,
          222445,
          224165,
          221696,
          188970,
          192651,
          201379,
          176885,
          164231,
          305143,
          241505,
          165213,
          284450,
          169013,
          231256,
          211585,
          227987,
          217585,
          207904,
          170093,
          210122,
          215236,
          200201,
          232787,
          224503,
          201706,
          200578,
          211741,
          208554,
          201563,
          257679,
          218769,
          220901,
          213938,
          200990,
          210230,
          198899,
          201639,
          240031,
          215767,
          223534,
          223479,
          185941,
          229607,
          226370,
          229124,
          219486,
          251942,
          237937,
          236133,
          243350,
          219855,
          263721,
          254751,
          239727,
          243351,
          210400,
          225556,
          237926,
          249536,
          220615,
          171897,
          258186,
          218201,
          238887,
          233092,
          255400,
          219492,
          205297,
          192046,
          217826,
          204353,
          193683,
          211949,
          207181,
          204654,
          198680,
          198996,
          210302,
          213727,
          211138,
          226404,
          206123,
          211267,
          196355,
          239426,
          590521,
          265967,
          246547,
          255026,
          245017,
          257734,
          279626,
          251356,
          279788,
          303435,
          288161,
          298915,
          253221,
          256642,
          257017,
          379930,
          224130,
          302762,
          278071,
          229400,
          388730
         ],
         "yaxis": "y"
        },
        {
         "hovertemplate": "variable=daily new deaths<br>date=%{x}<br>value=%{y}<extra></extra>",
         "legendgroup": "daily new deaths",
         "line": {
          "color": "#00cc96",
          "dash": "solid"
         },
         "mode": "lines",
         "name": "daily new deaths",
         "orientation": "v",
         "showlegend": true,
         "type": "scatter",
         "x": [
          "1/22/20",
          "1/23/20",
          "1/24/20",
          "1/25/20",
          "1/26/20",
          "1/27/20",
          "1/28/20",
          "1/29/20",
          "1/30/20",
          "1/31/20",
          "2/1/20",
          "2/2/20",
          "2/3/20",
          "2/4/20",
          "2/5/20",
          "2/6/20",
          "2/7/20",
          "2/8/20",
          "2/9/20",
          "2/10/20",
          "2/11/20",
          "2/12/20",
          "2/13/20",
          "2/14/20",
          "2/15/20",
          "2/16/20",
          "2/17/20",
          "2/18/20",
          "2/19/20",
          "2/20/20",
          "2/21/20",
          "2/22/20",
          "2/23/20",
          "2/24/20",
          "2/25/20",
          "2/26/20",
          "2/27/20",
          "2/28/20",
          "2/29/20",
          "3/1/20",
          "3/2/20",
          "3/3/20",
          "3/4/20",
          "3/5/20",
          "3/6/20",
          "3/7/20",
          "3/8/20",
          "3/9/20",
          "3/10/20",
          "3/11/20",
          "3/12/20",
          "3/13/20",
          "3/14/20",
          "3/15/20",
          "3/16/20",
          "3/17/20",
          "3/18/20",
          "3/19/20",
          "3/20/20",
          "3/21/20",
          "3/22/20",
          "3/23/20",
          "3/24/20",
          "3/25/20",
          "3/26/20",
          "3/27/20",
          "3/28/20",
          "3/29/20",
          "3/30/20",
          "3/31/20",
          "4/1/20",
          "4/2/20",
          "4/3/20",
          "4/4/20",
          "4/5/20",
          "4/6/20",
          "4/7/20",
          "4/8/20",
          "4/9/20",
          "4/10/20",
          "4/11/20",
          "4/12/20",
          "4/13/20",
          "4/14/20",
          "4/15/20",
          "4/16/20",
          "4/17/20",
          "4/18/20",
          "4/19/20",
          "4/20/20",
          "4/21/20",
          "4/22/20",
          "4/23/20",
          "4/24/20",
          "4/25/20",
          "4/26/20",
          "4/27/20",
          "4/28/20",
          "4/29/20",
          "4/30/20",
          "5/1/20",
          "5/2/20",
          "5/3/20",
          "5/4/20",
          "5/5/20",
          "5/6/20",
          "5/7/20",
          "5/8/20",
          "5/9/20",
          "5/10/20",
          "5/11/20",
          "5/12/20",
          "5/13/20",
          "5/14/20",
          "5/15/20",
          "5/16/20",
          "5/17/20",
          "5/18/20",
          "5/19/20",
          "5/20/20",
          "5/21/20",
          "5/22/20",
          "5/23/20",
          "5/24/20",
          "5/25/20",
          "5/26/20",
          "5/27/20",
          "5/28/20",
          "5/29/20",
          "5/30/20",
          "5/31/20",
          "6/1/20",
          "6/2/20",
          "6/3/20",
          "6/4/20",
          "6/5/20",
          "6/6/20",
          "6/7/20",
          "6/8/20",
          "6/9/20",
          "6/10/20",
          "6/11/20",
          "6/12/20",
          "6/13/20",
          "6/14/20",
          "6/15/20",
          "6/16/20",
          "6/17/20",
          "6/18/20",
          "6/19/20",
          "6/20/20",
          "6/21/20",
          "6/22/20",
          "6/23/20",
          "6/24/20",
          "6/25/20",
          "6/26/20",
          "6/27/20",
          "6/28/20",
          "6/29/20",
          "6/30/20",
          "7/1/20",
          "7/2/20",
          "7/3/20",
          "7/4/20",
          "7/5/20",
          "7/6/20",
          "7/7/20",
          "7/8/20",
          "7/9/20",
          "7/10/20",
          "7/11/20",
          "7/12/20",
          "7/13/20",
          "7/14/20",
          "7/15/20",
          "7/16/20",
          "7/17/20",
          "7/18/20",
          "7/19/20",
          "7/20/20",
          "7/21/20",
          "7/22/20",
          "7/23/20",
          "7/24/20",
          "7/25/20",
          "7/26/20",
          "7/27/20",
          "7/28/20",
          "7/29/20",
          "7/30/20",
          "7/31/20",
          "8/1/20",
          "8/2/20",
          "8/3/20",
          "8/4/20",
          "8/5/20",
          "8/6/20",
          "8/7/20",
          "8/8/20",
          "8/9/20",
          "8/10/20",
          "8/11/20",
          "8/12/20",
          "8/13/20",
          "8/14/20",
          "8/15/20",
          "8/16/20",
          "8/17/20",
          "8/18/20",
          "8/19/20",
          "8/20/20",
          "8/21/20",
          "8/22/20",
          "8/23/20",
          "8/24/20",
          "8/25/20",
          "8/26/20",
          "8/27/20",
          "8/28/20",
          "8/29/20",
          "8/30/20",
          "8/31/20",
          "9/1/20",
          "9/2/20",
          "9/3/20",
          "9/4/20",
          "9/5/20",
          "9/6/20",
          "9/7/20",
          "9/8/20",
          "9/9/20",
          "9/10/20",
          "9/11/20",
          "9/12/20",
          "9/13/20",
          "9/14/20",
          "9/15/20",
          "9/16/20",
          "9/17/20",
          "9/18/20",
          "9/19/20",
          "9/20/20",
          "9/21/20",
          "9/22/20",
          "9/23/20",
          "9/24/20",
          "9/25/20",
          "9/26/20",
          "9/27/20",
          "9/28/20",
          "9/29/20",
          "9/30/20",
          "10/1/20",
          "10/2/20",
          "10/3/20",
          "10/4/20",
          "10/5/20",
          "10/6/20",
          "10/7/20",
          "10/8/20",
          "10/9/20",
          "10/10/20",
          "10/11/20",
          "10/12/20",
          "10/13/20",
          "10/14/20",
          "10/15/20",
          "10/16/20",
          "10/17/20",
          "10/18/20",
          "10/19/20",
          "10/20/20",
          "10/21/20",
          "10/22/20",
          "10/23/20",
          "10/24/20",
          "10/25/20",
          "10/26/20",
          "10/27/20",
          "10/28/20",
          "10/29/20",
          "10/30/20",
          "10/31/20",
          "11/1/20",
          "11/2/20",
          "11/3/20",
          "11/4/20",
          "11/5/20",
          "11/6/20",
          "11/7/20",
          "11/8/20",
          "11/9/20",
          "11/10/20",
          "11/11/20",
          "11/12/20",
          "11/13/20",
          "11/14/20",
          "11/15/20",
          "11/16/20"
         ],
         "xaxis": "x",
         "y": [
          0,
          1,
          8,
          16,
          14,
          26,
          49,
          2,
          38,
          42,
          46,
          103,
          64,
          66,
          72,
          70,
          85,
          87,
          100,
          107,
          100,
          5,
          253,
          152,
          143,
          104,
          98,
          140,
          115,
          125,
          4,
          207,
          11,
          160,
          80,
          61,
          43,
          59,
          69,
          54,
          89,
          75,
          95,
          93,
          112,
          99,
          244,
          184,
          280,
          344,
          306,
          497,
          420,
          641,
          678,
          811,
          903,
          1113,
          1481,
          1720,
          1674,
          1942,
          2284,
          2800,
          3020,
          3493,
          3713,
          3477,
          4052,
          4752,
          5506,
          6237,
          6106,
          6167,
          5165,
          5947,
          8224,
          6761,
          7776,
          7385,
          6241,
          5809,
          5916,
          6970,
          8351,
          7298,
          8365,
          6023,
          5262,
          5858,
          7185,
          6731,
          6838,
          6663,
          5637,
          3939,
          4673,
          6547,
          6734,
          5996,
          5149,
          5478,
          3472,
          4099,
          5887,
          6543,
          5292,
          5480,
          4287,
          3594,
          3468,
          5522,
          5077,
          5181,
          5116,
          4176,
          3285,
          3695,
          4720,
          4760,
          4725,
          5195,
          3916,
          3122,
          1201,
          4120,
          5136,
          4623,
          4587,
          4065,
          2976,
          3077,
          4723,
          5436,
          5116,
          4566,
          3850,
          2744,
          3679,
          4835,
          5059,
          4682,
          4215,
          4191,
          3412,
          3419,
          6718,
          5089,
          4980,
          6150,
          4204,
          4009,
          3559,
          5222,
          5170,
          4694,
          4702,
          4463,
          3143,
          3724,
          4949,
          4928,
          5063,
          4935,
          4368,
          3473,
          3827,
          6015,
          5273,
          5408,
          5292,
          4788,
          3992,
          3814,
          5589,
          5438,
          5757,
          6659,
          5615,
          4058,
          4178,
          6163,
          6926,
          9895,
          6033,
          5535,
          3671,
          5172,
          6309,
          6572,
          6013,
          6203,
          5486,
          4275,
          4324,
          6917,
          6967,
          6492,
          6297,
          5429,
          4557,
          4908,
          6436,
          6620,
          6211,
          10131,
          5345,
          4203,
          4141,
          6886,
          6737,
          6037,
          5498,
          5574,
          3857,
          4365,
          6376,
          6291,
          5885,
          5516,
          5387,
          3911,
          4213,
          6486,
          6015,
          5711,
          5911,
          4933,
          3777,
          9319,
          4945,
          6080,
          5800,
          5882,
          4874,
          3657,
          4436,
          6550,
          5753,
          5459,
          5705,
          5238,
          3711,
          4122,
          5982,
          5611,
          6720,
          5903,
          5287,
          3618,
          3926,
          6093,
          6393,
          8696,
          4985,
          5347,
          3776,
          7009,
          5785,
          5818,
          6257,
          6093,
          4832,
          3918,
          3943,
          5456,
          5998,
          6118,
          6126,
          5515,
          3385,
          5001,
          6589,
          6556,
          5902,
          6922,
          5696,
          4140,
          5644,
          7414,
          7081,
          7059,
          7543,
          6546,
          4924,
          6114,
          8452,
          11000,
          8060,
          9539,
          7551,
          5750,
          7122,
          9995,
          10415,
          9744,
          9534,
          8990,
          6248,
          8084
         ],
         "yaxis": "y"
        }
       ],
       "layout": {
        "legend": {
         "title": {
          "text": "variable"
         },
         "tracegroupgap": 0
        },
        "template": {
         "data": {
          "bar": [
           {
            "error_x": {
             "color": "#2a3f5f"
            },
            "error_y": {
             "color": "#2a3f5f"
            },
            "marker": {
             "line": {
              "color": "#E5ECF6",
              "width": 0.5
             }
            },
            "type": "bar"
           }
          ],
          "barpolar": [
           {
            "marker": {
             "line": {
              "color": "#E5ECF6",
              "width": 0.5
             }
            },
            "type": "barpolar"
           }
          ],
          "carpet": [
           {
            "aaxis": {
             "endlinecolor": "#2a3f5f",
             "gridcolor": "white",
             "linecolor": "white",
             "minorgridcolor": "white",
             "startlinecolor": "#2a3f5f"
            },
            "baxis": {
             "endlinecolor": "#2a3f5f",
             "gridcolor": "white",
             "linecolor": "white",
             "minorgridcolor": "white",
             "startlinecolor": "#2a3f5f"
            },
            "type": "carpet"
           }
          ],
          "choropleth": [
           {
            "colorbar": {
             "outlinewidth": 0,
             "ticks": ""
            },
            "type": "choropleth"
           }
          ],
          "contour": [
           {
            "colorbar": {
             "outlinewidth": 0,
             "ticks": ""
            },
            "colorscale": [
             [
              0,
              "#0d0887"
             ],
             [
              0.1111111111111111,
              "#46039f"
             ],
             [
              0.2222222222222222,
              "#7201a8"
             ],
             [
              0.3333333333333333,
              "#9c179e"
             ],
             [
              0.4444444444444444,
              "#bd3786"
             ],
             [
              0.5555555555555556,
              "#d8576b"
             ],
             [
              0.6666666666666666,
              "#ed7953"
             ],
             [
              0.7777777777777778,
              "#fb9f3a"
             ],
             [
              0.8888888888888888,
              "#fdca26"
             ],
             [
              1,
              "#f0f921"
             ]
            ],
            "type": "contour"
           }
          ],
          "contourcarpet": [
           {
            "colorbar": {
             "outlinewidth": 0,
             "ticks": ""
            },
            "type": "contourcarpet"
           }
          ],
          "heatmap": [
           {
            "colorbar": {
             "outlinewidth": 0,
             "ticks": ""
            },
            "colorscale": [
             [
              0,
              "#0d0887"
             ],
             [
              0.1111111111111111,
              "#46039f"
             ],
             [
              0.2222222222222222,
              "#7201a8"
             ],
             [
              0.3333333333333333,
              "#9c179e"
             ],
             [
              0.4444444444444444,
              "#bd3786"
             ],
             [
              0.5555555555555556,
              "#d8576b"
             ],
             [
              0.6666666666666666,
              "#ed7953"
             ],
             [
              0.7777777777777778,
              "#fb9f3a"
             ],
             [
              0.8888888888888888,
              "#fdca26"
             ],
             [
              1,
              "#f0f921"
             ]
            ],
            "type": "heatmap"
           }
          ],
          "heatmapgl": [
           {
            "colorbar": {
             "outlinewidth": 0,
             "ticks": ""
            },
            "colorscale": [
             [
              0,
              "#0d0887"
             ],
             [
              0.1111111111111111,
              "#46039f"
             ],
             [
              0.2222222222222222,
              "#7201a8"
             ],
             [
              0.3333333333333333,
              "#9c179e"
             ],
             [
              0.4444444444444444,
              "#bd3786"
             ],
             [
              0.5555555555555556,
              "#d8576b"
             ],
             [
              0.6666666666666666,
              "#ed7953"
             ],
             [
              0.7777777777777778,
              "#fb9f3a"
             ],
             [
              0.8888888888888888,
              "#fdca26"
             ],
             [
              1,
              "#f0f921"
             ]
            ],
            "type": "heatmapgl"
           }
          ],
          "histogram": [
           {
            "marker": {
             "colorbar": {
              "outlinewidth": 0,
              "ticks": ""
             }
            },
            "type": "histogram"
           }
          ],
          "histogram2d": [
           {
            "colorbar": {
             "outlinewidth": 0,
             "ticks": ""
            },
            "colorscale": [
             [
              0,
              "#0d0887"
             ],
             [
              0.1111111111111111,
              "#46039f"
             ],
             [
              0.2222222222222222,
              "#7201a8"
             ],
             [
              0.3333333333333333,
              "#9c179e"
             ],
             [
              0.4444444444444444,
              "#bd3786"
             ],
             [
              0.5555555555555556,
              "#d8576b"
             ],
             [
              0.6666666666666666,
              "#ed7953"
             ],
             [
              0.7777777777777778,
              "#fb9f3a"
             ],
             [
              0.8888888888888888,
              "#fdca26"
             ],
             [
              1,
              "#f0f921"
             ]
            ],
            "type": "histogram2d"
           }
          ],
          "histogram2dcontour": [
           {
            "colorbar": {
             "outlinewidth": 0,
             "ticks": ""
            },
            "colorscale": [
             [
              0,
              "#0d0887"
             ],
             [
              0.1111111111111111,
              "#46039f"
             ],
             [
              0.2222222222222222,
              "#7201a8"
             ],
             [
              0.3333333333333333,
              "#9c179e"
             ],
             [
              0.4444444444444444,
              "#bd3786"
             ],
             [
              0.5555555555555556,
              "#d8576b"
             ],
             [
              0.6666666666666666,
              "#ed7953"
             ],
             [
              0.7777777777777778,
              "#fb9f3a"
             ],
             [
              0.8888888888888888,
              "#fdca26"
             ],
             [
              1,
              "#f0f921"
             ]
            ],
            "type": "histogram2dcontour"
           }
          ],
          "mesh3d": [
           {
            "colorbar": {
             "outlinewidth": 0,
             "ticks": ""
            },
            "type": "mesh3d"
           }
          ],
          "parcoords": [
           {
            "line": {
             "colorbar": {
              "outlinewidth": 0,
              "ticks": ""
             }
            },
            "type": "parcoords"
           }
          ],
          "pie": [
           {
            "automargin": true,
            "type": "pie"
           }
          ],
          "scatter": [
           {
            "marker": {
             "colorbar": {
              "outlinewidth": 0,
              "ticks": ""
             }
            },
            "type": "scatter"
           }
          ],
          "scatter3d": [
           {
            "line": {
             "colorbar": {
              "outlinewidth": 0,
              "ticks": ""
             }
            },
            "marker": {
             "colorbar": {
              "outlinewidth": 0,
              "ticks": ""
             }
            },
            "type": "scatter3d"
           }
          ],
          "scattercarpet": [
           {
            "marker": {
             "colorbar": {
              "outlinewidth": 0,
              "ticks": ""
             }
            },
            "type": "scattercarpet"
           }
          ],
          "scattergeo": [
           {
            "marker": {
             "colorbar": {
              "outlinewidth": 0,
              "ticks": ""
             }
            },
            "type": "scattergeo"
           }
          ],
          "scattergl": [
           {
            "marker": {
             "colorbar": {
              "outlinewidth": 0,
              "ticks": ""
             }
            },
            "type": "scattergl"
           }
          ],
          "scattermapbox": [
           {
            "marker": {
             "colorbar": {
              "outlinewidth": 0,
              "ticks": ""
             }
            },
            "type": "scattermapbox"
           }
          ],
          "scatterpolar": [
           {
            "marker": {
             "colorbar": {
              "outlinewidth": 0,
              "ticks": ""
             }
            },
            "type": "scatterpolar"
           }
          ],
          "scatterpolargl": [
           {
            "marker": {
             "colorbar": {
              "outlinewidth": 0,
              "ticks": ""
             }
            },
            "type": "scatterpolargl"
           }
          ],
          "scatterternary": [
           {
            "marker": {
             "colorbar": {
              "outlinewidth": 0,
              "ticks": ""
             }
            },
            "type": "scatterternary"
           }
          ],
          "surface": [
           {
            "colorbar": {
             "outlinewidth": 0,
             "ticks": ""
            },
            "colorscale": [
             [
              0,
              "#0d0887"
             ],
             [
              0.1111111111111111,
              "#46039f"
             ],
             [
              0.2222222222222222,
              "#7201a8"
             ],
             [
              0.3333333333333333,
              "#9c179e"
             ],
             [
              0.4444444444444444,
              "#bd3786"
             ],
             [
              0.5555555555555556,
              "#d8576b"
             ],
             [
              0.6666666666666666,
              "#ed7953"
             ],
             [
              0.7777777777777778,
              "#fb9f3a"
             ],
             [
              0.8888888888888888,
              "#fdca26"
             ],
             [
              1,
              "#f0f921"
             ]
            ],
            "type": "surface"
           }
          ],
          "table": [
           {
            "cells": {
             "fill": {
              "color": "#EBF0F8"
             },
             "line": {
              "color": "white"
             }
            },
            "header": {
             "fill": {
              "color": "#C8D4E3"
             },
             "line": {
              "color": "white"
             }
            },
            "type": "table"
           }
          ]
         },
         "layout": {
          "annotationdefaults": {
           "arrowcolor": "#2a3f5f",
           "arrowhead": 0,
           "arrowwidth": 1
          },
          "coloraxis": {
           "colorbar": {
            "outlinewidth": 0,
            "ticks": ""
           }
          },
          "colorscale": {
           "diverging": [
            [
             0,
             "#8e0152"
            ],
            [
             0.1,
             "#c51b7d"
            ],
            [
             0.2,
             "#de77ae"
            ],
            [
             0.3,
             "#f1b6da"
            ],
            [
             0.4,
             "#fde0ef"
            ],
            [
             0.5,
             "#f7f7f7"
            ],
            [
             0.6,
             "#e6f5d0"
            ],
            [
             0.7,
             "#b8e186"
            ],
            [
             0.8,
             "#7fbc41"
            ],
            [
             0.9,
             "#4d9221"
            ],
            [
             1,
             "#276419"
            ]
           ],
           "sequential": [
            [
             0,
             "#0d0887"
            ],
            [
             0.1111111111111111,
             "#46039f"
            ],
            [
             0.2222222222222222,
             "#7201a8"
            ],
            [
             0.3333333333333333,
             "#9c179e"
            ],
            [
             0.4444444444444444,
             "#bd3786"
            ],
            [
             0.5555555555555556,
             "#d8576b"
            ],
            [
             0.6666666666666666,
             "#ed7953"
            ],
            [
             0.7777777777777778,
             "#fb9f3a"
            ],
            [
             0.8888888888888888,
             "#fdca26"
            ],
            [
             1,
             "#f0f921"
            ]
           ],
           "sequentialminus": [
            [
             0,
             "#0d0887"
            ],
            [
             0.1111111111111111,
             "#46039f"
            ],
            [
             0.2222222222222222,
             "#7201a8"
            ],
            [
             0.3333333333333333,
             "#9c179e"
            ],
            [
             0.4444444444444444,
             "#bd3786"
            ],
            [
             0.5555555555555556,
             "#d8576b"
            ],
            [
             0.6666666666666666,
             "#ed7953"
            ],
            [
             0.7777777777777778,
             "#fb9f3a"
            ],
            [
             0.8888888888888888,
             "#fdca26"
            ],
            [
             1,
             "#f0f921"
            ]
           ]
          },
          "colorway": [
           "#636efa",
           "#EF553B",
           "#00cc96",
           "#ab63fa",
           "#FFA15A",
           "#19d3f3",
           "#FF6692",
           "#B6E880",
           "#FF97FF",
           "#FECB52"
          ],
          "font": {
           "color": "#2a3f5f"
          },
          "geo": {
           "bgcolor": "white",
           "lakecolor": "white",
           "landcolor": "#E5ECF6",
           "showlakes": true,
           "showland": true,
           "subunitcolor": "white"
          },
          "hoverlabel": {
           "align": "left"
          },
          "hovermode": "closest",
          "mapbox": {
           "style": "light"
          },
          "paper_bgcolor": "white",
          "plot_bgcolor": "#E5ECF6",
          "polar": {
           "angularaxis": {
            "gridcolor": "white",
            "linecolor": "white",
            "ticks": ""
           },
           "bgcolor": "#E5ECF6",
           "radialaxis": {
            "gridcolor": "white",
            "linecolor": "white",
            "ticks": ""
           }
          },
          "scene": {
           "xaxis": {
            "backgroundcolor": "#E5ECF6",
            "gridcolor": "white",
            "gridwidth": 2,
            "linecolor": "white",
            "showbackground": true,
            "ticks": "",
            "zerolinecolor": "white"
           },
           "yaxis": {
            "backgroundcolor": "#E5ECF6",
            "gridcolor": "white",
            "gridwidth": 2,
            "linecolor": "white",
            "showbackground": true,
            "ticks": "",
            "zerolinecolor": "white"
           },
           "zaxis": {
            "backgroundcolor": "#E5ECF6",
            "gridcolor": "white",
            "gridwidth": 2,
            "linecolor": "white",
            "showbackground": true,
            "ticks": "",
            "zerolinecolor": "white"
           }
          },
          "shapedefaults": {
           "line": {
            "color": "#2a3f5f"
           }
          },
          "ternary": {
           "aaxis": {
            "gridcolor": "white",
            "linecolor": "white",
            "ticks": ""
           },
           "baxis": {
            "gridcolor": "white",
            "linecolor": "white",
            "ticks": ""
           },
           "bgcolor": "#E5ECF6",
           "caxis": {
            "gridcolor": "white",
            "linecolor": "white",
            "ticks": ""
           }
          },
          "title": {
           "x": 0.05
          },
          "xaxis": {
           "automargin": true,
           "gridcolor": "white",
           "linecolor": "white",
           "ticks": "",
           "title": {
            "standoff": 15
           },
           "zerolinecolor": "white",
           "zerolinewidth": 2
          },
          "yaxis": {
           "automargin": true,
           "gridcolor": "white",
           "linecolor": "white",
           "ticks": "",
           "title": {
            "standoff": 15
           },
           "zerolinecolor": "white",
           "zerolinewidth": 2
          }
         }
        },
        "title": {
         "text": "Global daily new cases"
        },
        "xaxis": {
         "anchor": "y",
         "domain": [
          0,
          1
         ],
         "rangeslider": {
          "visible": true
         },
         "title": {
          "text": "date"
         }
        },
        "yaxis": {
         "anchor": "x",
         "domain": [
          0,
          1
         ],
         "title": {
          "text": "value"
         }
        }
       }
      },
      "text/html": [
       "<div>\n",
       "        \n",
       "        \n",
       "            <div id=\"0b6a0164-6d61-4517-b971-e46b9155fc79\" class=\"plotly-graph-div\" style=\"height:525px; width:100%;\"></div>\n",
       "            <script type=\"text/javascript\">\n",
       "                require([\"plotly\"], function(Plotly) {\n",
       "                    window.PLOTLYENV=window.PLOTLYENV || {};\n",
       "                    \n",
       "                if (document.getElementById(\"0b6a0164-6d61-4517-b971-e46b9155fc79\")) {\n",
       "                    Plotly.newPlot(\n",
       "                        '0b6a0164-6d61-4517-b971-e46b9155fc79',\n",
       "                        [{\"hovertemplate\": \"variable=daily new cases<br>date=%{x}<br>value=%{y}<extra></extra>\", \"legendgroup\": \"daily new cases\", \"line\": {\"color\": \"#636efa\", \"dash\": \"solid\"}, \"mode\": \"lines\", \"name\": \"daily new cases\", \"orientation\": \"v\", \"showlegend\": true, \"type\": \"scatter\", \"x\": [\"1/22/20\", \"1/23/20\", \"1/24/20\", \"1/25/20\", \"1/26/20\", \"1/27/20\", \"1/28/20\", \"1/29/20\", \"1/30/20\", \"1/31/20\", \"2/1/20\", \"2/2/20\", \"2/3/20\", \"2/4/20\", \"2/5/20\", \"2/6/20\", \"2/7/20\", \"2/8/20\", \"2/9/20\", \"2/10/20\", \"2/11/20\", \"2/12/20\", \"2/13/20\", \"2/14/20\", \"2/15/20\", \"2/16/20\", \"2/17/20\", \"2/18/20\", \"2/19/20\", \"2/20/20\", \"2/21/20\", \"2/22/20\", \"2/23/20\", \"2/24/20\", \"2/25/20\", \"2/26/20\", \"2/27/20\", \"2/28/20\", \"2/29/20\", \"3/1/20\", \"3/2/20\", \"3/3/20\", \"3/4/20\", \"3/5/20\", \"3/6/20\", \"3/7/20\", \"3/8/20\", \"3/9/20\", \"3/10/20\", \"3/11/20\", \"3/12/20\", \"3/13/20\", \"3/14/20\", \"3/15/20\", \"3/16/20\", \"3/17/20\", \"3/18/20\", \"3/19/20\", \"3/20/20\", \"3/21/20\", \"3/22/20\", \"3/23/20\", \"3/24/20\", \"3/25/20\", \"3/26/20\", \"3/27/20\", \"3/28/20\", \"3/29/20\", \"3/30/20\", \"3/31/20\", \"4/1/20\", \"4/2/20\", \"4/3/20\", \"4/4/20\", \"4/5/20\", \"4/6/20\", \"4/7/20\", \"4/8/20\", \"4/9/20\", \"4/10/20\", \"4/11/20\", \"4/12/20\", \"4/13/20\", \"4/14/20\", \"4/15/20\", \"4/16/20\", \"4/17/20\", \"4/18/20\", \"4/19/20\", \"4/20/20\", \"4/21/20\", \"4/22/20\", \"4/23/20\", \"4/24/20\", \"4/25/20\", \"4/26/20\", \"4/27/20\", \"4/28/20\", \"4/29/20\", \"4/30/20\", \"5/1/20\", \"5/2/20\", \"5/3/20\", \"5/4/20\", \"5/5/20\", \"5/6/20\", \"5/7/20\", \"5/8/20\", \"5/9/20\", \"5/10/20\", \"5/11/20\", \"5/12/20\", \"5/13/20\", \"5/14/20\", \"5/15/20\", \"5/16/20\", \"5/17/20\", \"5/18/20\", \"5/19/20\", \"5/20/20\", \"5/21/20\", \"5/22/20\", \"5/23/20\", \"5/24/20\", \"5/25/20\", \"5/26/20\", \"5/27/20\", \"5/28/20\", \"5/29/20\", \"5/30/20\", \"5/31/20\", \"6/1/20\", \"6/2/20\", \"6/3/20\", \"6/4/20\", \"6/5/20\", \"6/6/20\", \"6/7/20\", \"6/8/20\", \"6/9/20\", \"6/10/20\", \"6/11/20\", \"6/12/20\", \"6/13/20\", \"6/14/20\", \"6/15/20\", \"6/16/20\", \"6/17/20\", \"6/18/20\", \"6/19/20\", \"6/20/20\", \"6/21/20\", \"6/22/20\", \"6/23/20\", \"6/24/20\", \"6/25/20\", \"6/26/20\", \"6/27/20\", \"6/28/20\", \"6/29/20\", \"6/30/20\", \"7/1/20\", \"7/2/20\", \"7/3/20\", \"7/4/20\", \"7/5/20\", \"7/6/20\", \"7/7/20\", \"7/8/20\", \"7/9/20\", \"7/10/20\", \"7/11/20\", \"7/12/20\", \"7/13/20\", \"7/14/20\", \"7/15/20\", \"7/16/20\", \"7/17/20\", \"7/18/20\", \"7/19/20\", \"7/20/20\", \"7/21/20\", \"7/22/20\", \"7/23/20\", \"7/24/20\", \"7/25/20\", \"7/26/20\", \"7/27/20\", \"7/28/20\", \"7/29/20\", \"7/30/20\", \"7/31/20\", \"8/1/20\", \"8/2/20\", \"8/3/20\", \"8/4/20\", \"8/5/20\", \"8/6/20\", \"8/7/20\", \"8/8/20\", \"8/9/20\", \"8/10/20\", \"8/11/20\", \"8/12/20\", \"8/13/20\", \"8/14/20\", \"8/15/20\", \"8/16/20\", \"8/17/20\", \"8/18/20\", \"8/19/20\", \"8/20/20\", \"8/21/20\", \"8/22/20\", \"8/23/20\", \"8/24/20\", \"8/25/20\", \"8/26/20\", \"8/27/20\", \"8/28/20\", \"8/29/20\", \"8/30/20\", \"8/31/20\", \"9/1/20\", \"9/2/20\", \"9/3/20\", \"9/4/20\", \"9/5/20\", \"9/6/20\", \"9/7/20\", \"9/8/20\", \"9/9/20\", \"9/10/20\", \"9/11/20\", \"9/12/20\", \"9/13/20\", \"9/14/20\", \"9/15/20\", \"9/16/20\", \"9/17/20\", \"9/18/20\", \"9/19/20\", \"9/20/20\", \"9/21/20\", \"9/22/20\", \"9/23/20\", \"9/24/20\", \"9/25/20\", \"9/26/20\", \"9/27/20\", \"9/28/20\", \"9/29/20\", \"9/30/20\", \"10/1/20\", \"10/2/20\", \"10/3/20\", \"10/4/20\", \"10/5/20\", \"10/6/20\", \"10/7/20\", \"10/8/20\", \"10/9/20\", \"10/10/20\", \"10/11/20\", \"10/12/20\", \"10/13/20\", \"10/14/20\", \"10/15/20\", \"10/16/20\", \"10/17/20\", \"10/18/20\", \"10/19/20\", \"10/20/20\", \"10/21/20\", \"10/22/20\", \"10/23/20\", \"10/24/20\", \"10/25/20\", \"10/26/20\", \"10/27/20\", \"10/28/20\", \"10/29/20\", \"10/30/20\", \"10/31/20\", \"11/1/20\", \"11/2/20\", \"11/3/20\", \"11/4/20\", \"11/5/20\", \"11/6/20\", \"11/7/20\", \"11/8/20\", \"11/9/20\", \"11/10/20\", \"11/11/20\", \"11/12/20\", \"11/13/20\", \"11/14/20\", \"11/15/20\", \"11/16/20\"], \"xaxis\": \"x\", \"y\": [0.0, 99.0, 287.0, 493.0, 684.0, 809.0, 2651.0, 589.0, 2068.0, 1692.0, 2111.0, 4749.0, 3100.0, 4011.0, 3745.0, 3160.0, 3593.0, 2734.0, 3030.0, 2609.0, 2042.0, 418.0, 15153.0, 6527.0, 2142.0, 2184.0, 2035.0, 1882.0, 500.0, 560.0, 629.0, 1761.0, 380.0, 564.0, 853.0, 977.0, 1360.0, 1385.0, 1893.0, 2383.0, 1978.0, 2584.0, 2317.0, 2764.0, 4000.0, 4062.0, 3960.0, 3963.0, 5011.0, 7681.0, 5789.0, 14381.0, 11078.0, 11293.0, 14744.0, 15931.0, 19533.0, 27156.0, 30635.0, 31969.0, 34238.0, 43368.0, 41472.0, 50984.0, 62726.0, 64991.0, 67382.0, 59399.0, 65237.0, 76829.0, 76526.0, 81331.0, 83253.0, 80354.0, 71977.0, 73234.0, 77740.0, 84031.0, 86481.0, 87540.0, 76216.0, 95353.0, 70145.0, 71346.0, 81873.0, 96921.0, 87813.0, 73394.0, 79972.0, 74503.0, 75879.0, 78019.0, 88057.0, 84373.0, 83247.0, 72140.0, 69690.0, 75484.0, 77462.0, 83348.0, 87190.0, 80047.0, 76523.0, 77078.0, 80455.0, 89914.0, 89020.0, 91171.0, 84923.0, 75196.0, 76875.0, 84258.0, 84820.0, 96682.0, 96324.0, 94206.0, 77405.0, 88718.0, 97138.0, 102753.0, 106565.0, 105983.0, 104626.0, 94477.0, 86349.0, 93251.0, 103005.0, 119514.0, 120895.0, 136954.0, 106599.0, 95503.0, 121381.0, 118095.0, 126827.0, 130799.0, 134629.0, 111904.0, 102479.0, 124635.0, 134447.0, 138170.0, 128472.0, 135324.0, 132652.0, 119745.0, 141843.0, 142517.0, 140305.0, 179833.0, 157092.0, 128288.0, 137907.0, 165290.0, 170862.0, 178325.0, 191398.0, 178460.0, 161795.0, 156186.0, 174108.0, 217212.0, 208114.0, 202685.0, 193841.0, 182896.0, 165205.0, 210927.0, 212399.0, 228065.0, 232157.0, 216272.0, 192505.0, 192188.0, 221319.0, 231110.0, 252565.0, 241872.0, 236756.0, 213922.0, 206554.0, 233407.0, 280828.0, 282921.0, 280321.0, 255401.0, 212809.0, 226198.0, 252233.0, 289607.0, 280130.0, 290191.0, 250116.0, 228200.0, 201437.0, 258449.0, 272239.0, 284745.0, 280739.0, 259051.0, 223292.0, 227025.0, 254808.0, 277973.0, 285951.0, 304229.0, 247638.0, 211928.0, 209769.0, 256074.0, 274459.0, 267251.0, 269595.0, 265034.0, 205504.0, 226136.0, 241958.0, 289697.0, 279074.0, 281330.0, 260696.0, 226342.0, 262432.0, 264189.0, 282754.0, 280856.0, 312834.0, 263226.0, 222128.0, 233388.0, 241376.0, 284435.0, 298981.0, 319858.0, 277007.0, 236080.0, 279594.0, 283682.0, 304971.0, 313586.0, 323167.0, 280556.0, 242441.0, 298376.0, 279898.0, 266732.0, 361264.0, 329316.0, 277050.0, 241169.0, 275883.0, 284049.0, 326721.0, 317982.0, 294425.0, 319471.0, 248696.0, 329116.0, 323875.0, 349825.0, 360464.0, 359678.0, 330405.0, 269754.0, 325119.0, 329004.0, 380052.0, 407271.0, 410443.0, 341242.0, 285938.0, 448086.0, 388522.0, 443650.0, 469645.0, 496765.0, 412833.0, 353478.0, 537063.0, 468908.0, 508935.0, 550788.0, 569234.0, 476330.0, 434135.0, 506857.0, 513543.0, 597627.0, 593225.0, 641152.0, 511574.0, 564822.0, 500379.0, 558531.0, 644668.0, 646835.0, 648440.0, 593817.0, 470256.0, 535993.0], \"yaxis\": \"y\"}, {\"hovertemplate\": \"variable=daily new recovered<br>date=%{x}<br>value=%{y}<extra></extra>\", \"legendgroup\": \"daily new recovered\", \"line\": {\"color\": \"#EF553B\", \"dash\": \"solid\"}, \"mode\": \"lines\", \"name\": \"daily new recovered\", \"orientation\": \"v\", \"showlegend\": true, \"type\": \"scatter\", \"x\": [\"1/22/20\", \"1/23/20\", \"1/24/20\", \"1/25/20\", \"1/26/20\", \"1/27/20\", \"1/28/20\", \"1/29/20\", \"1/30/20\", \"1/31/20\", \"2/1/20\", \"2/2/20\", \"2/3/20\", \"2/4/20\", \"2/5/20\", \"2/6/20\", \"2/7/20\", \"2/8/20\", \"2/9/20\", \"2/10/20\", \"2/11/20\", \"2/12/20\", \"2/13/20\", \"2/14/20\", \"2/15/20\", \"2/16/20\", \"2/17/20\", \"2/18/20\", \"2/19/20\", \"2/20/20\", \"2/21/20\", \"2/22/20\", \"2/23/20\", \"2/24/20\", \"2/25/20\", \"2/26/20\", \"2/27/20\", \"2/28/20\", \"2/29/20\", \"3/1/20\", \"3/2/20\", \"3/3/20\", \"3/4/20\", \"3/5/20\", \"3/6/20\", \"3/7/20\", \"3/8/20\", \"3/9/20\", \"3/10/20\", \"3/11/20\", \"3/12/20\", \"3/13/20\", \"3/14/20\", \"3/15/20\", \"3/16/20\", \"3/17/20\", \"3/18/20\", \"3/19/20\", \"3/20/20\", \"3/21/20\", \"3/22/20\", \"3/23/20\", \"3/24/20\", \"3/25/20\", \"3/26/20\", \"3/27/20\", \"3/28/20\", \"3/29/20\", \"3/30/20\", \"3/31/20\", \"4/1/20\", \"4/2/20\", \"4/3/20\", \"4/4/20\", \"4/5/20\", \"4/6/20\", \"4/7/20\", \"4/8/20\", \"4/9/20\", \"4/10/20\", \"4/11/20\", \"4/12/20\", \"4/13/20\", \"4/14/20\", \"4/15/20\", \"4/16/20\", \"4/17/20\", \"4/18/20\", \"4/19/20\", \"4/20/20\", \"4/21/20\", \"4/22/20\", \"4/23/20\", \"4/24/20\", \"4/25/20\", \"4/26/20\", \"4/27/20\", \"4/28/20\", \"4/29/20\", \"4/30/20\", \"5/1/20\", \"5/2/20\", \"5/3/20\", \"5/4/20\", \"5/5/20\", \"5/6/20\", \"5/7/20\", \"5/8/20\", \"5/9/20\", \"5/10/20\", \"5/11/20\", \"5/12/20\", \"5/13/20\", \"5/14/20\", \"5/15/20\", \"5/16/20\", \"5/17/20\", \"5/18/20\", \"5/19/20\", \"5/20/20\", \"5/21/20\", \"5/22/20\", \"5/23/20\", \"5/24/20\", \"5/25/20\", \"5/26/20\", \"5/27/20\", \"5/28/20\", \"5/29/20\", \"5/30/20\", \"5/31/20\", \"6/1/20\", \"6/2/20\", \"6/3/20\", \"6/4/20\", \"6/5/20\", \"6/6/20\", \"6/7/20\", \"6/8/20\", \"6/9/20\", \"6/10/20\", \"6/11/20\", \"6/12/20\", \"6/13/20\", \"6/14/20\", \"6/15/20\", \"6/16/20\", \"6/17/20\", \"6/18/20\", \"6/19/20\", \"6/20/20\", \"6/21/20\", \"6/22/20\", \"6/23/20\", \"6/24/20\", \"6/25/20\", \"6/26/20\", \"6/27/20\", \"6/28/20\", \"6/29/20\", \"6/30/20\", \"7/1/20\", \"7/2/20\", \"7/3/20\", \"7/4/20\", \"7/5/20\", \"7/6/20\", \"7/7/20\", \"7/8/20\", \"7/9/20\", \"7/10/20\", \"7/11/20\", \"7/12/20\", \"7/13/20\", \"7/14/20\", \"7/15/20\", \"7/16/20\", \"7/17/20\", \"7/18/20\", \"7/19/20\", \"7/20/20\", \"7/21/20\", \"7/22/20\", \"7/23/20\", \"7/24/20\", \"7/25/20\", \"7/26/20\", \"7/27/20\", \"7/28/20\", \"7/29/20\", \"7/30/20\", \"7/31/20\", \"8/1/20\", \"8/2/20\", \"8/3/20\", \"8/4/20\", \"8/5/20\", \"8/6/20\", \"8/7/20\", \"8/8/20\", \"8/9/20\", \"8/10/20\", \"8/11/20\", \"8/12/20\", \"8/13/20\", \"8/14/20\", \"8/15/20\", \"8/16/20\", \"8/17/20\", \"8/18/20\", \"8/19/20\", \"8/20/20\", \"8/21/20\", \"8/22/20\", \"8/23/20\", \"8/24/20\", \"8/25/20\", \"8/26/20\", \"8/27/20\", \"8/28/20\", \"8/29/20\", \"8/30/20\", \"8/31/20\", \"9/1/20\", \"9/2/20\", \"9/3/20\", \"9/4/20\", \"9/5/20\", \"9/6/20\", \"9/7/20\", \"9/8/20\", \"9/9/20\", \"9/10/20\", \"9/11/20\", \"9/12/20\", \"9/13/20\", \"9/14/20\", \"9/15/20\", \"9/16/20\", \"9/17/20\", \"9/18/20\", \"9/19/20\", \"9/20/20\", \"9/21/20\", \"9/22/20\", \"9/23/20\", \"9/24/20\", \"9/25/20\", \"9/26/20\", \"9/27/20\", \"9/28/20\", \"9/29/20\", \"9/30/20\", \"10/1/20\", \"10/2/20\", \"10/3/20\", \"10/4/20\", \"10/5/20\", \"10/6/20\", \"10/7/20\", \"10/8/20\", \"10/9/20\", \"10/10/20\", \"10/11/20\", \"10/12/20\", \"10/13/20\", \"10/14/20\", \"10/15/20\", \"10/16/20\", \"10/17/20\", \"10/18/20\", \"10/19/20\", \"10/20/20\", \"10/21/20\", \"10/22/20\", \"10/23/20\", \"10/24/20\", \"10/25/20\", \"10/26/20\", \"10/27/20\", \"10/28/20\", \"10/29/20\", \"10/30/20\", \"10/31/20\", \"11/1/20\", \"11/2/20\", \"11/3/20\", \"11/4/20\", \"11/5/20\", \"11/6/20\", \"11/7/20\", \"11/8/20\", \"11/9/20\", \"11/10/20\", \"11/11/20\", \"11/12/20\", \"11/13/20\", \"11/14/20\", \"11/15/20\", \"11/16/20\"], \"xaxis\": \"x\", \"y\": [0.0, 2.0, 6.0, 3.0, 13.0, 9.0, 46.0, 19.0, 17.0, 79.0, 62.0, 188.0, 151.0, 229.0, 272.0, 363.0, 524.0, 605.0, 628.0, 702.0, 737.0, 467.0, 1145.0, 1763.0, 1337.0, 1470.0, 1718.0, 1769.0, 1769.0, 2056.0, 713.0, 3996.0, 508.0, 1833.0, 2678.0, 2479.0, 2893.0, 3434.0, 3071.0, 2934.0, 2886.0, 2626.0, 2942.0, 2626.0, 2069.0, 2494.0, 2335.0, 1799.0, 1911.0, 2598.0, 1322.0, 1927.0, 2371.0, 3410.0, 2054.0, 2752.0, 2483.0, 1637.0, 2445.0, 4267.0, 6215.0, 466.0, 9641.0, 5783.0, 8370.0, 8776.0, 8503.0, 9467.0, 15446.0, 13488.0, 15093.0, 17049.0, 15448.0, 20417.0, 13840.0, 16580.0, 23391.0, 28716.0, 25348.0, 21802.0, 26257.0, 19414.0, 27167.0, 25089.0, 36670.0, 30820.0, 26123.0, 23919.0, 31655.0, 21990.0, 34843.0, 30425.0, 28780.0, 50051.0, 27779.0, 28605.0, 27769.0, 33271.0, 42182.0, 64966.0, 38253.0, 40879.0, 32316.0, 34087.0, 36540.0, 46006.0, 39468.0, 36550.0, 53550.0, 33594.0, 46994.0, 37021.0, 55856.0, 39716.0, 48008.0, 56592.0, 40907.0, 52921.0, 52105.0, 58928.0, 51265.0, 108651.0, 54971.0, 55440.0, 63723.0, 55214.0, 63393.0, 66857.0, 77346.0, 70453.0, 76320.0, 54897.0, 104123.0, 79104.0, 70053.0, 69159.0, 72204.0, 55101.0, 151563.0, 82282.0, 79138.0, 85882.0, 79724.0, 85934.0, 70785.0, 80208.0, 97840.0, 118787.0, 81142.0, 95015.0, 115825.0, 68737.0, 91626.0, 104075.0, 115760.0, 92856.0, 106714.0, 106365.0, 89120.0, 94566.0, 117322.0, 115926.0, 284877.0, 109900.0, 195833.0, 119322.0, 123612.0, 145025.0, 157949.0, 134514.0, 139392.0, 125709.0, 111679.0, 140344.0, 142200.0, 159781.0, 152370.0, 183310.0, 150957.0, 87877.0, 158996.0, 174647.0, 176387.0, 170164.0, 229317.0, 219317.0, 140476.0, 169623.0, 173854.0, 201690.0, 222487.0, 198605.0, 184597.0, 136703.0, 222445.0, 224165.0, 221696.0, 188970.0, 192651.0, 201379.0, 176885.0, 164231.0, 305143.0, 241505.0, 165213.0, 284450.0, 169013.0, 231256.0, 211585.0, 227987.0, 217585.0, 207904.0, 170093.0, 210122.0, 215236.0, 200201.0, 232787.0, 224503.0, 201706.0, 200578.0, 211741.0, 208554.0, 201563.0, 257679.0, 218769.0, 220901.0, 213938.0, 200990.0, 210230.0, 198899.0, 201639.0, 240031.0, 215767.0, 223534.0, 223479.0, 185941.0, 229607.0, 226370.0, 229124.0, 219486.0, 251942.0, 237937.0, 236133.0, 243350.0, 219855.0, 263721.0, 254751.0, 239727.0, 243351.0, 210400.0, 225556.0, 237926.0, 249536.0, 220615.0, 171897.0, 258186.0, 218201.0, 238887.0, 233092.0, 255400.0, 219492.0, 205297.0, 192046.0, 217826.0, 204353.0, 193683.0, 211949.0, 207181.0, 204654.0, 198680.0, 198996.0, 210302.0, 213727.0, 211138.0, 226404.0, 206123.0, 211267.0, 196355.0, 239426.0, 590521.0, 265967.0, 246547.0, 255026.0, 245017.0, 257734.0, 279626.0, 251356.0, 279788.0, 303435.0, 288161.0, 298915.0, 253221.0, 256642.0, 257017.0, 379930.0, 224130.0, 302762.0, 278071.0, 229400.0, 388730.0], \"yaxis\": \"y\"}, {\"hovertemplate\": \"variable=daily new deaths<br>date=%{x}<br>value=%{y}<extra></extra>\", \"legendgroup\": \"daily new deaths\", \"line\": {\"color\": \"#00cc96\", \"dash\": \"solid\"}, \"mode\": \"lines\", \"name\": \"daily new deaths\", \"orientation\": \"v\", \"showlegend\": true, \"type\": \"scatter\", \"x\": [\"1/22/20\", \"1/23/20\", \"1/24/20\", \"1/25/20\", \"1/26/20\", \"1/27/20\", \"1/28/20\", \"1/29/20\", \"1/30/20\", \"1/31/20\", \"2/1/20\", \"2/2/20\", \"2/3/20\", \"2/4/20\", \"2/5/20\", \"2/6/20\", \"2/7/20\", \"2/8/20\", \"2/9/20\", \"2/10/20\", \"2/11/20\", \"2/12/20\", \"2/13/20\", \"2/14/20\", \"2/15/20\", \"2/16/20\", \"2/17/20\", \"2/18/20\", \"2/19/20\", \"2/20/20\", \"2/21/20\", \"2/22/20\", \"2/23/20\", \"2/24/20\", \"2/25/20\", \"2/26/20\", \"2/27/20\", \"2/28/20\", \"2/29/20\", \"3/1/20\", \"3/2/20\", \"3/3/20\", \"3/4/20\", \"3/5/20\", \"3/6/20\", \"3/7/20\", \"3/8/20\", \"3/9/20\", \"3/10/20\", \"3/11/20\", \"3/12/20\", \"3/13/20\", \"3/14/20\", \"3/15/20\", \"3/16/20\", \"3/17/20\", \"3/18/20\", \"3/19/20\", \"3/20/20\", \"3/21/20\", \"3/22/20\", \"3/23/20\", \"3/24/20\", \"3/25/20\", \"3/26/20\", \"3/27/20\", \"3/28/20\", \"3/29/20\", \"3/30/20\", \"3/31/20\", \"4/1/20\", \"4/2/20\", \"4/3/20\", \"4/4/20\", \"4/5/20\", \"4/6/20\", \"4/7/20\", \"4/8/20\", \"4/9/20\", \"4/10/20\", \"4/11/20\", \"4/12/20\", \"4/13/20\", \"4/14/20\", \"4/15/20\", \"4/16/20\", \"4/17/20\", \"4/18/20\", \"4/19/20\", \"4/20/20\", \"4/21/20\", \"4/22/20\", \"4/23/20\", \"4/24/20\", \"4/25/20\", \"4/26/20\", \"4/27/20\", \"4/28/20\", \"4/29/20\", \"4/30/20\", \"5/1/20\", \"5/2/20\", \"5/3/20\", \"5/4/20\", \"5/5/20\", \"5/6/20\", \"5/7/20\", \"5/8/20\", \"5/9/20\", \"5/10/20\", \"5/11/20\", \"5/12/20\", \"5/13/20\", \"5/14/20\", \"5/15/20\", \"5/16/20\", \"5/17/20\", \"5/18/20\", \"5/19/20\", \"5/20/20\", \"5/21/20\", \"5/22/20\", \"5/23/20\", \"5/24/20\", \"5/25/20\", \"5/26/20\", \"5/27/20\", \"5/28/20\", \"5/29/20\", \"5/30/20\", \"5/31/20\", \"6/1/20\", \"6/2/20\", \"6/3/20\", \"6/4/20\", \"6/5/20\", \"6/6/20\", \"6/7/20\", \"6/8/20\", \"6/9/20\", \"6/10/20\", \"6/11/20\", \"6/12/20\", \"6/13/20\", \"6/14/20\", \"6/15/20\", \"6/16/20\", \"6/17/20\", \"6/18/20\", \"6/19/20\", \"6/20/20\", \"6/21/20\", \"6/22/20\", \"6/23/20\", \"6/24/20\", \"6/25/20\", \"6/26/20\", \"6/27/20\", \"6/28/20\", \"6/29/20\", \"6/30/20\", \"7/1/20\", \"7/2/20\", \"7/3/20\", \"7/4/20\", \"7/5/20\", \"7/6/20\", \"7/7/20\", \"7/8/20\", \"7/9/20\", \"7/10/20\", \"7/11/20\", \"7/12/20\", \"7/13/20\", \"7/14/20\", \"7/15/20\", \"7/16/20\", \"7/17/20\", \"7/18/20\", \"7/19/20\", \"7/20/20\", \"7/21/20\", \"7/22/20\", \"7/23/20\", \"7/24/20\", \"7/25/20\", \"7/26/20\", \"7/27/20\", \"7/28/20\", \"7/29/20\", \"7/30/20\", \"7/31/20\", \"8/1/20\", \"8/2/20\", \"8/3/20\", \"8/4/20\", \"8/5/20\", \"8/6/20\", \"8/7/20\", \"8/8/20\", \"8/9/20\", \"8/10/20\", \"8/11/20\", \"8/12/20\", \"8/13/20\", \"8/14/20\", \"8/15/20\", \"8/16/20\", \"8/17/20\", \"8/18/20\", \"8/19/20\", \"8/20/20\", \"8/21/20\", \"8/22/20\", \"8/23/20\", \"8/24/20\", \"8/25/20\", \"8/26/20\", \"8/27/20\", \"8/28/20\", \"8/29/20\", \"8/30/20\", \"8/31/20\", \"9/1/20\", \"9/2/20\", \"9/3/20\", \"9/4/20\", \"9/5/20\", \"9/6/20\", \"9/7/20\", \"9/8/20\", \"9/9/20\", \"9/10/20\", \"9/11/20\", \"9/12/20\", \"9/13/20\", \"9/14/20\", \"9/15/20\", \"9/16/20\", \"9/17/20\", \"9/18/20\", \"9/19/20\", \"9/20/20\", \"9/21/20\", \"9/22/20\", \"9/23/20\", \"9/24/20\", \"9/25/20\", \"9/26/20\", \"9/27/20\", \"9/28/20\", \"9/29/20\", \"9/30/20\", \"10/1/20\", \"10/2/20\", \"10/3/20\", \"10/4/20\", \"10/5/20\", \"10/6/20\", \"10/7/20\", \"10/8/20\", \"10/9/20\", \"10/10/20\", \"10/11/20\", \"10/12/20\", \"10/13/20\", \"10/14/20\", \"10/15/20\", \"10/16/20\", \"10/17/20\", \"10/18/20\", \"10/19/20\", \"10/20/20\", \"10/21/20\", \"10/22/20\", \"10/23/20\", \"10/24/20\", \"10/25/20\", \"10/26/20\", \"10/27/20\", \"10/28/20\", \"10/29/20\", \"10/30/20\", \"10/31/20\", \"11/1/20\", \"11/2/20\", \"11/3/20\", \"11/4/20\", \"11/5/20\", \"11/6/20\", \"11/7/20\", \"11/8/20\", \"11/9/20\", \"11/10/20\", \"11/11/20\", \"11/12/20\", \"11/13/20\", \"11/14/20\", \"11/15/20\", \"11/16/20\"], \"xaxis\": \"x\", \"y\": [0.0, 1.0, 8.0, 16.0, 14.0, 26.0, 49.0, 2.0, 38.0, 42.0, 46.0, 103.0, 64.0, 66.0, 72.0, 70.0, 85.0, 87.0, 100.0, 107.0, 100.0, 5.0, 253.0, 152.0, 143.0, 104.0, 98.0, 140.0, 115.0, 125.0, 4.0, 207.0, 11.0, 160.0, 80.0, 61.0, 43.0, 59.0, 69.0, 54.0, 89.0, 75.0, 95.0, 93.0, 112.0, 99.0, 244.0, 184.0, 280.0, 344.0, 306.0, 497.0, 420.0, 641.0, 678.0, 811.0, 903.0, 1113.0, 1481.0, 1720.0, 1674.0, 1942.0, 2284.0, 2800.0, 3020.0, 3493.0, 3713.0, 3477.0, 4052.0, 4752.0, 5506.0, 6237.0, 6106.0, 6167.0, 5165.0, 5947.0, 8224.0, 6761.0, 7776.0, 7385.0, 6241.0, 5809.0, 5916.0, 6970.0, 8351.0, 7298.0, 8365.0, 6023.0, 5262.0, 5858.0, 7185.0, 6731.0, 6838.0, 6663.0, 5637.0, 3939.0, 4673.0, 6547.0, 6734.0, 5996.0, 5149.0, 5478.0, 3472.0, 4099.0, 5887.0, 6543.0, 5292.0, 5480.0, 4287.0, 3594.0, 3468.0, 5522.0, 5077.0, 5181.0, 5116.0, 4176.0, 3285.0, 3695.0, 4720.0, 4760.0, 4725.0, 5195.0, 3916.0, 3122.0, 1201.0, 4120.0, 5136.0, 4623.0, 4587.0, 4065.0, 2976.0, 3077.0, 4723.0, 5436.0, 5116.0, 4566.0, 3850.0, 2744.0, 3679.0, 4835.0, 5059.0, 4682.0, 4215.0, 4191.0, 3412.0, 3419.0, 6718.0, 5089.0, 4980.0, 6150.0, 4204.0, 4009.0, 3559.0, 5222.0, 5170.0, 4694.0, 4702.0, 4463.0, 3143.0, 3724.0, 4949.0, 4928.0, 5063.0, 4935.0, 4368.0, 3473.0, 3827.0, 6015.0, 5273.0, 5408.0, 5292.0, 4788.0, 3992.0, 3814.0, 5589.0, 5438.0, 5757.0, 6659.0, 5615.0, 4058.0, 4178.0, 6163.0, 6926.0, 9895.0, 6033.0, 5535.0, 3671.0, 5172.0, 6309.0, 6572.0, 6013.0, 6203.0, 5486.0, 4275.0, 4324.0, 6917.0, 6967.0, 6492.0, 6297.0, 5429.0, 4557.0, 4908.0, 6436.0, 6620.0, 6211.0, 10131.0, 5345.0, 4203.0, 4141.0, 6886.0, 6737.0, 6037.0, 5498.0, 5574.0, 3857.0, 4365.0, 6376.0, 6291.0, 5885.0, 5516.0, 5387.0, 3911.0, 4213.0, 6486.0, 6015.0, 5711.0, 5911.0, 4933.0, 3777.0, 9319.0, 4945.0, 6080.0, 5800.0, 5882.0, 4874.0, 3657.0, 4436.0, 6550.0, 5753.0, 5459.0, 5705.0, 5238.0, 3711.0, 4122.0, 5982.0, 5611.0, 6720.0, 5903.0, 5287.0, 3618.0, 3926.0, 6093.0, 6393.0, 8696.0, 4985.0, 5347.0, 3776.0, 7009.0, 5785.0, 5818.0, 6257.0, 6093.0, 4832.0, 3918.0, 3943.0, 5456.0, 5998.0, 6118.0, 6126.0, 5515.0, 3385.0, 5001.0, 6589.0, 6556.0, 5902.0, 6922.0, 5696.0, 4140.0, 5644.0, 7414.0, 7081.0, 7059.0, 7543.0, 6546.0, 4924.0, 6114.0, 8452.0, 11000.0, 8060.0, 9539.0, 7551.0, 5750.0, 7122.0, 9995.0, 10415.0, 9744.0, 9534.0, 8990.0, 6248.0, 8084.0], \"yaxis\": \"y\"}],\n",
       "                        {\"legend\": {\"title\": {\"text\": \"variable\"}, \"tracegroupgap\": 0}, \"template\": {\"data\": {\"bar\": [{\"error_x\": {\"color\": \"#2a3f5f\"}, \"error_y\": {\"color\": \"#2a3f5f\"}, \"marker\": {\"line\": {\"color\": \"#E5ECF6\", \"width\": 0.5}}, \"type\": \"bar\"}], \"barpolar\": [{\"marker\": {\"line\": {\"color\": \"#E5ECF6\", \"width\": 0.5}}, \"type\": \"barpolar\"}], \"carpet\": [{\"aaxis\": {\"endlinecolor\": \"#2a3f5f\", \"gridcolor\": \"white\", \"linecolor\": \"white\", \"minorgridcolor\": \"white\", \"startlinecolor\": \"#2a3f5f\"}, \"baxis\": {\"endlinecolor\": \"#2a3f5f\", \"gridcolor\": \"white\", \"linecolor\": \"white\", \"minorgridcolor\": \"white\", \"startlinecolor\": \"#2a3f5f\"}, \"type\": \"carpet\"}], \"choropleth\": [{\"colorbar\": {\"outlinewidth\": 0, \"ticks\": \"\"}, \"type\": \"choropleth\"}], \"contour\": [{\"colorbar\": {\"outlinewidth\": 0, \"ticks\": \"\"}, \"colorscale\": [[0.0, \"#0d0887\"], [0.1111111111111111, \"#46039f\"], [0.2222222222222222, \"#7201a8\"], [0.3333333333333333, \"#9c179e\"], [0.4444444444444444, \"#bd3786\"], [0.5555555555555556, \"#d8576b\"], [0.6666666666666666, \"#ed7953\"], [0.7777777777777778, \"#fb9f3a\"], [0.8888888888888888, \"#fdca26\"], [1.0, \"#f0f921\"]], \"type\": \"contour\"}], \"contourcarpet\": [{\"colorbar\": {\"outlinewidth\": 0, \"ticks\": \"\"}, \"type\": \"contourcarpet\"}], \"heatmap\": [{\"colorbar\": {\"outlinewidth\": 0, \"ticks\": \"\"}, \"colorscale\": [[0.0, \"#0d0887\"], [0.1111111111111111, \"#46039f\"], [0.2222222222222222, \"#7201a8\"], [0.3333333333333333, \"#9c179e\"], [0.4444444444444444, \"#bd3786\"], [0.5555555555555556, \"#d8576b\"], [0.6666666666666666, \"#ed7953\"], [0.7777777777777778, \"#fb9f3a\"], [0.8888888888888888, \"#fdca26\"], [1.0, \"#f0f921\"]], \"type\": \"heatmap\"}], \"heatmapgl\": [{\"colorbar\": {\"outlinewidth\": 0, \"ticks\": \"\"}, \"colorscale\": [[0.0, \"#0d0887\"], [0.1111111111111111, \"#46039f\"], [0.2222222222222222, \"#7201a8\"], [0.3333333333333333, \"#9c179e\"], [0.4444444444444444, \"#bd3786\"], [0.5555555555555556, \"#d8576b\"], [0.6666666666666666, \"#ed7953\"], [0.7777777777777778, \"#fb9f3a\"], [0.8888888888888888, \"#fdca26\"], [1.0, \"#f0f921\"]], \"type\": \"heatmapgl\"}], \"histogram\": [{\"marker\": {\"colorbar\": {\"outlinewidth\": 0, \"ticks\": \"\"}}, \"type\": \"histogram\"}], \"histogram2d\": [{\"colorbar\": {\"outlinewidth\": 0, \"ticks\": \"\"}, \"colorscale\": [[0.0, \"#0d0887\"], [0.1111111111111111, \"#46039f\"], [0.2222222222222222, \"#7201a8\"], [0.3333333333333333, \"#9c179e\"], [0.4444444444444444, \"#bd3786\"], [0.5555555555555556, \"#d8576b\"], [0.6666666666666666, \"#ed7953\"], [0.7777777777777778, \"#fb9f3a\"], [0.8888888888888888, \"#fdca26\"], [1.0, \"#f0f921\"]], \"type\": \"histogram2d\"}], \"histogram2dcontour\": [{\"colorbar\": {\"outlinewidth\": 0, \"ticks\": \"\"}, \"colorscale\": [[0.0, \"#0d0887\"], [0.1111111111111111, \"#46039f\"], [0.2222222222222222, \"#7201a8\"], [0.3333333333333333, \"#9c179e\"], [0.4444444444444444, \"#bd3786\"], [0.5555555555555556, \"#d8576b\"], [0.6666666666666666, \"#ed7953\"], [0.7777777777777778, \"#fb9f3a\"], [0.8888888888888888, \"#fdca26\"], [1.0, \"#f0f921\"]], \"type\": \"histogram2dcontour\"}], \"mesh3d\": [{\"colorbar\": {\"outlinewidth\": 0, \"ticks\": \"\"}, \"type\": \"mesh3d\"}], \"parcoords\": [{\"line\": {\"colorbar\": {\"outlinewidth\": 0, \"ticks\": \"\"}}, \"type\": \"parcoords\"}], \"pie\": [{\"automargin\": true, \"type\": \"pie\"}], \"scatter\": [{\"marker\": {\"colorbar\": {\"outlinewidth\": 0, \"ticks\": \"\"}}, \"type\": \"scatter\"}], \"scatter3d\": [{\"line\": {\"colorbar\": {\"outlinewidth\": 0, \"ticks\": \"\"}}, \"marker\": {\"colorbar\": {\"outlinewidth\": 0, \"ticks\": \"\"}}, \"type\": \"scatter3d\"}], \"scattercarpet\": [{\"marker\": {\"colorbar\": {\"outlinewidth\": 0, \"ticks\": \"\"}}, \"type\": \"scattercarpet\"}], \"scattergeo\": [{\"marker\": {\"colorbar\": {\"outlinewidth\": 0, \"ticks\": \"\"}}, \"type\": \"scattergeo\"}], \"scattergl\": [{\"marker\": {\"colorbar\": {\"outlinewidth\": 0, \"ticks\": \"\"}}, \"type\": \"scattergl\"}], \"scattermapbox\": [{\"marker\": {\"colorbar\": {\"outlinewidth\": 0, \"ticks\": \"\"}}, \"type\": \"scattermapbox\"}], \"scatterpolar\": [{\"marker\": {\"colorbar\": {\"outlinewidth\": 0, \"ticks\": \"\"}}, \"type\": \"scatterpolar\"}], \"scatterpolargl\": [{\"marker\": {\"colorbar\": {\"outlinewidth\": 0, \"ticks\": \"\"}}, \"type\": \"scatterpolargl\"}], \"scatterternary\": [{\"marker\": {\"colorbar\": {\"outlinewidth\": 0, \"ticks\": \"\"}}, \"type\": \"scatterternary\"}], \"surface\": [{\"colorbar\": {\"outlinewidth\": 0, \"ticks\": \"\"}, \"colorscale\": [[0.0, \"#0d0887\"], [0.1111111111111111, \"#46039f\"], [0.2222222222222222, \"#7201a8\"], [0.3333333333333333, \"#9c179e\"], [0.4444444444444444, \"#bd3786\"], [0.5555555555555556, \"#d8576b\"], [0.6666666666666666, \"#ed7953\"], [0.7777777777777778, \"#fb9f3a\"], [0.8888888888888888, \"#fdca26\"], [1.0, \"#f0f921\"]], \"type\": \"surface\"}], \"table\": [{\"cells\": {\"fill\": {\"color\": \"#EBF0F8\"}, \"line\": {\"color\": \"white\"}}, \"header\": {\"fill\": {\"color\": \"#C8D4E3\"}, \"line\": {\"color\": \"white\"}}, \"type\": \"table\"}]}, \"layout\": {\"annotationdefaults\": {\"arrowcolor\": \"#2a3f5f\", \"arrowhead\": 0, \"arrowwidth\": 1}, \"coloraxis\": {\"colorbar\": {\"outlinewidth\": 0, \"ticks\": \"\"}}, \"colorscale\": {\"diverging\": [[0, \"#8e0152\"], [0.1, \"#c51b7d\"], [0.2, \"#de77ae\"], [0.3, \"#f1b6da\"], [0.4, \"#fde0ef\"], [0.5, \"#f7f7f7\"], [0.6, \"#e6f5d0\"], [0.7, \"#b8e186\"], [0.8, \"#7fbc41\"], [0.9, \"#4d9221\"], [1, \"#276419\"]], \"sequential\": [[0.0, \"#0d0887\"], [0.1111111111111111, \"#46039f\"], [0.2222222222222222, \"#7201a8\"], [0.3333333333333333, \"#9c179e\"], [0.4444444444444444, \"#bd3786\"], [0.5555555555555556, \"#d8576b\"], [0.6666666666666666, \"#ed7953\"], [0.7777777777777778, \"#fb9f3a\"], [0.8888888888888888, \"#fdca26\"], [1.0, \"#f0f921\"]], \"sequentialminus\": [[0.0, \"#0d0887\"], [0.1111111111111111, \"#46039f\"], [0.2222222222222222, \"#7201a8\"], [0.3333333333333333, \"#9c179e\"], [0.4444444444444444, \"#bd3786\"], [0.5555555555555556, \"#d8576b\"], [0.6666666666666666, \"#ed7953\"], [0.7777777777777778, \"#fb9f3a\"], [0.8888888888888888, \"#fdca26\"], [1.0, \"#f0f921\"]]}, \"colorway\": [\"#636efa\", \"#EF553B\", \"#00cc96\", \"#ab63fa\", \"#FFA15A\", \"#19d3f3\", \"#FF6692\", \"#B6E880\", \"#FF97FF\", \"#FECB52\"], \"font\": {\"color\": \"#2a3f5f\"}, \"geo\": {\"bgcolor\": \"white\", \"lakecolor\": \"white\", \"landcolor\": \"#E5ECF6\", \"showlakes\": true, \"showland\": true, \"subunitcolor\": \"white\"}, \"hoverlabel\": {\"align\": \"left\"}, \"hovermode\": \"closest\", \"mapbox\": {\"style\": \"light\"}, \"paper_bgcolor\": \"white\", \"plot_bgcolor\": \"#E5ECF6\", \"polar\": {\"angularaxis\": {\"gridcolor\": \"white\", \"linecolor\": \"white\", \"ticks\": \"\"}, \"bgcolor\": \"#E5ECF6\", \"radialaxis\": {\"gridcolor\": \"white\", \"linecolor\": \"white\", \"ticks\": \"\"}}, \"scene\": {\"xaxis\": {\"backgroundcolor\": \"#E5ECF6\", \"gridcolor\": \"white\", \"gridwidth\": 2, \"linecolor\": \"white\", \"showbackground\": true, \"ticks\": \"\", \"zerolinecolor\": \"white\"}, \"yaxis\": {\"backgroundcolor\": \"#E5ECF6\", \"gridcolor\": \"white\", \"gridwidth\": 2, \"linecolor\": \"white\", \"showbackground\": true, \"ticks\": \"\", \"zerolinecolor\": \"white\"}, \"zaxis\": {\"backgroundcolor\": \"#E5ECF6\", \"gridcolor\": \"white\", \"gridwidth\": 2, \"linecolor\": \"white\", \"showbackground\": true, \"ticks\": \"\", \"zerolinecolor\": \"white\"}}, \"shapedefaults\": {\"line\": {\"color\": \"#2a3f5f\"}}, \"ternary\": {\"aaxis\": {\"gridcolor\": \"white\", \"linecolor\": \"white\", \"ticks\": \"\"}, \"baxis\": {\"gridcolor\": \"white\", \"linecolor\": \"white\", \"ticks\": \"\"}, \"bgcolor\": \"#E5ECF6\", \"caxis\": {\"gridcolor\": \"white\", \"linecolor\": \"white\", \"ticks\": \"\"}}, \"title\": {\"x\": 0.05}, \"xaxis\": {\"automargin\": true, \"gridcolor\": \"white\", \"linecolor\": \"white\", \"ticks\": \"\", \"title\": {\"standoff\": 15}, \"zerolinecolor\": \"white\", \"zerolinewidth\": 2}, \"yaxis\": {\"automargin\": true, \"gridcolor\": \"white\", \"linecolor\": \"white\", \"ticks\": \"\", \"title\": {\"standoff\": 15}, \"zerolinecolor\": \"white\", \"zerolinewidth\": 2}}}, \"title\": {\"text\": \"Global daily new cases\"}, \"xaxis\": {\"anchor\": \"y\", \"domain\": [0.0, 1.0], \"rangeslider\": {\"visible\": true}, \"title\": {\"text\": \"date\"}}, \"yaxis\": {\"anchor\": \"x\", \"domain\": [0.0, 1.0], \"title\": {\"text\": \"value\"}}},\n",
       "                        {\"responsive\": true}\n",
       "                    ).then(function(){\n",
       "                            \n",
       "var gd = document.getElementById('0b6a0164-6d61-4517-b971-e46b9155fc79');\n",
       "var x = new MutationObserver(function (mutations, observer) {{\n",
       "        var display = window.getComputedStyle(gd).display;\n",
       "        if (!display || display === 'none') {{\n",
       "            console.log([gd, 'removed!']);\n",
       "            Plotly.purge(gd);\n",
       "            observer.disconnect();\n",
       "        }}\n",
       "}});\n",
       "\n",
       "// Listen for the removal of the full notebook cells\n",
       "var notebookContainer = gd.closest('#notebook-container');\n",
       "if (notebookContainer) {{\n",
       "    x.observe(notebookContainer, {childList: true});\n",
       "}}\n",
       "\n",
       "// Listen for the clearing of the current output cell\n",
       "var outputEl = gd.closest('.output');\n",
       "if (outputEl) {{\n",
       "    x.observe(outputEl, {childList: true});\n",
       "}}\n",
       "\n",
       "                        })\n",
       "                };\n",
       "                });\n",
       "            </script>\n",
       "        </div>"
      ]
     },
     "metadata": {},
     "output_type": "display_data"
    }
   ],
   "source": [
    "#Plotly plot 3: Global time series chart for daily new cases, recovered, and deaths\n",
    "df = timeseries_final\n",
    "\n",
    "fig = px.line(df, x='date', y=['daily new cases','daily new recovered', 'daily new deaths'], title='Global daily new cases')\n",
    "\n",
    "fig.update_xaxes(rangeslider_visible=True)\n",
    "fig.show()"
   ]
  },
  {
   "cell_type": "code",
   "execution_count": 77,
   "metadata": {},
   "outputs": [
    {
     "data": {
      "application/vnd.plotly.v1+json": {
       "config": {
        "plotlyServerURL": "https://plot.ly"
       },
       "data": [
        {
         "hovertemplate": "variable=daily_new_confirmed<br>date=%{x}<br>value=%{y}<extra></extra>",
         "legendgroup": "daily_new_confirmed",
         "line": {
          "color": "#636efa",
          "dash": "solid"
         },
         "mode": "lines",
         "name": "daily_new_confirmed",
         "orientation": "v",
         "showlegend": true,
         "type": "scatter",
         "x": [
          "1/22/20",
          "1/23/20",
          "1/24/20",
          "1/25/20",
          "1/26/20",
          "1/27/20",
          "1/28/20",
          "1/29/20",
          "1/30/20",
          "1/31/20",
          "2/1/20",
          "2/2/20",
          "2/3/20",
          "2/4/20",
          "2/5/20",
          "2/6/20",
          "2/7/20",
          "2/8/20",
          "2/9/20",
          "2/10/20",
          "2/11/20",
          "2/12/20",
          "2/13/20",
          "2/14/20",
          "2/15/20",
          "2/16/20",
          "2/17/20",
          "2/18/20",
          "2/19/20",
          "2/20/20",
          "2/21/20",
          "2/22/20",
          "2/23/20",
          "2/24/20",
          "2/25/20",
          "2/26/20",
          "2/27/20",
          "2/28/20",
          "2/29/20",
          "3/1/20",
          "3/2/20",
          "3/3/20",
          "3/4/20",
          "3/5/20",
          "3/6/20",
          "3/7/20",
          "3/8/20",
          "3/9/20",
          "3/10/20",
          "3/11/20",
          "3/12/20",
          "3/13/20",
          "3/14/20",
          "3/15/20",
          "3/16/20",
          "3/17/20",
          "3/18/20",
          "3/19/20",
          "3/20/20",
          "3/21/20",
          "3/22/20",
          "3/23/20",
          "3/24/20",
          "3/25/20",
          "3/26/20",
          "3/27/20",
          "3/28/20",
          "3/29/20",
          "3/30/20",
          "3/31/20",
          "4/1/20",
          "4/2/20",
          "4/3/20",
          "4/4/20",
          "4/5/20",
          "4/6/20",
          "4/7/20",
          "4/8/20",
          "4/9/20",
          "4/10/20",
          "4/11/20",
          "4/12/20",
          "4/13/20",
          "4/14/20",
          "4/15/20",
          "4/16/20",
          "4/17/20",
          "4/18/20",
          "4/19/20",
          "4/20/20",
          "4/21/20",
          "4/22/20",
          "4/23/20",
          "4/24/20",
          "4/25/20",
          "4/26/20",
          "4/27/20",
          "4/28/20",
          "4/29/20",
          "4/30/20",
          "5/1/20",
          "5/2/20",
          "5/3/20",
          "5/4/20",
          "5/5/20",
          "5/6/20",
          "5/7/20",
          "5/8/20",
          "5/9/20",
          "5/10/20",
          "5/11/20",
          "5/12/20",
          "5/13/20",
          "5/14/20",
          "5/15/20",
          "5/16/20",
          "5/17/20",
          "5/18/20",
          "5/19/20",
          "5/20/20",
          "5/21/20",
          "5/22/20",
          "5/23/20",
          "5/24/20",
          "5/25/20",
          "5/26/20",
          "5/27/20",
          "5/28/20",
          "5/29/20",
          "5/30/20",
          "5/31/20",
          "6/1/20",
          "6/2/20",
          "6/3/20",
          "6/4/20",
          "6/5/20",
          "6/6/20",
          "6/7/20",
          "6/8/20",
          "6/9/20",
          "6/10/20",
          "6/11/20",
          "6/12/20",
          "6/13/20",
          "6/14/20",
          "6/15/20",
          "6/16/20",
          "6/17/20",
          "6/18/20",
          "6/19/20",
          "6/20/20",
          "6/21/20",
          "6/22/20",
          "6/23/20",
          "6/24/20",
          "6/25/20",
          "6/26/20",
          "6/27/20",
          "6/28/20",
          "6/29/20",
          "6/30/20",
          "7/1/20",
          "7/2/20",
          "7/3/20",
          "7/4/20",
          "7/5/20",
          "7/6/20",
          "7/7/20",
          "7/8/20",
          "7/9/20",
          "7/10/20",
          "7/11/20",
          "7/12/20",
          "7/13/20",
          "7/14/20",
          "7/15/20",
          "7/16/20",
          "7/17/20",
          "7/18/20",
          "7/19/20",
          "7/20/20",
          "7/21/20",
          "7/22/20",
          "7/23/20",
          "7/24/20",
          "7/25/20",
          "7/26/20",
          "7/27/20",
          "7/28/20",
          "7/29/20",
          "7/30/20",
          "7/31/20",
          "8/1/20",
          "8/2/20",
          "8/3/20",
          "8/4/20",
          "8/5/20",
          "8/6/20",
          "8/7/20",
          "8/8/20",
          "8/9/20",
          "8/10/20",
          "8/11/20",
          "8/12/20",
          "8/13/20",
          "8/14/20",
          "8/15/20",
          "8/16/20",
          "8/17/20",
          "8/18/20",
          "8/19/20",
          "8/20/20",
          "8/21/20",
          "8/22/20",
          "8/23/20",
          "8/24/20",
          "8/25/20",
          "8/26/20",
          "8/27/20",
          "8/28/20",
          "8/29/20",
          "8/30/20",
          "8/31/20",
          "9/1/20",
          "9/2/20",
          "9/3/20",
          "9/4/20",
          "9/5/20",
          "9/6/20",
          "9/7/20",
          "9/8/20",
          "9/9/20",
          "9/10/20",
          "9/11/20",
          "9/12/20",
          "9/13/20",
          "9/14/20",
          "9/15/20",
          "9/16/20",
          "9/17/20",
          "9/18/20",
          "9/19/20",
          "9/20/20",
          "9/21/20",
          "9/22/20",
          "9/23/20",
          "9/24/20",
          "9/25/20",
          "9/26/20",
          "9/27/20",
          "9/28/20",
          "9/29/20",
          "9/30/20",
          "10/1/20",
          "10/2/20",
          "10/3/20",
          "10/4/20",
          "10/5/20",
          "10/6/20",
          "10/7/20",
          "10/8/20",
          "10/9/20",
          "10/10/20",
          "10/11/20",
          "10/12/20",
          "10/13/20",
          "10/14/20",
          "10/15/20",
          "10/16/20",
          "10/17/20",
          "10/18/20",
          "10/19/20",
          "10/20/20",
          "10/21/20",
          "10/22/20",
          "10/23/20",
          "10/24/20",
          "10/25/20",
          "10/26/20",
          "10/27/20",
          "10/28/20",
          "10/29/20",
          "10/30/20",
          "10/31/20",
          "11/1/20",
          "11/2/20",
          "11/3/20",
          "11/4/20",
          "11/5/20",
          "11/6/20",
          "11/7/20",
          "11/8/20",
          "11/9/20",
          "11/10/20",
          "11/11/20",
          "11/12/20",
          "11/13/20",
          "11/14/20",
          "11/15/20"
         ],
         "xaxis": "x",
         "y": [
          0,
          0,
          0,
          0,
          0,
          0,
          0,
          0,
          0,
          0,
          0,
          0,
          0,
          0,
          0,
          0,
          0,
          0,
          0,
          0,
          0,
          0,
          0,
          0,
          0,
          0,
          0,
          0,
          0,
          0,
          0,
          0,
          0,
          0,
          0,
          0,
          0,
          0,
          0,
          0,
          2,
          0,
          0,
          0,
          2,
          0,
          2,
          13,
          8,
          7,
          0,
          35,
          27,
          21,
          17,
          38,
          55,
          84,
          58,
          81,
          64,
          65,
          107,
          104,
          103,
          153,
          109,
          130,
          129,
          114,
          149,
          113,
          196,
          106,
          181,
          218,
          247,
          218,
          337,
          219,
          330,
          399,
          316,
          282,
          297,
          380,
          407,
          325,
          327,
          185,
          375,
          283,
          357,
          436,
          396,
          275,
          214,
          415,
          260,
          347,
          433,
          292,
          349,
          395,
          484,
          367,
          338,
          336,
          533,
          387,
          233,
          484,
          689,
          568,
          490,
          529,
          489,
          496,
          486,
          693,
          973,
          634,
          949,
          526,
          479,
          415,
          686,
          687,
          678,
          557,
          700,
          467,
          609,
          684,
          585,
          703,
          993,
          672,
          847,
          1043,
          1240,
          979,
          1111,
          1014,
          857,
          1017,
          1106,
          1031,
          1331,
          1041,
          1226,
          862,
          954,
          1051,
          1113,
          1178,
          1240,
          1385,
          1198,
          1082,
          1293,
          1385,
          1624,
          1301,
          1447,
          1607,
          1209,
          1268,
          1853,
          2657,
          1611,
          1671,
          1681,
          1282,
          1591,
          1522,
          1574,
          1462,
          1752,
          1639,
          1693,
          1655,
          1882,
          1906,
          1761,
          1868,
          1492,
          1525,
          1748,
          2381,
          1904,
          2040,
          1560,
          1519,
          1679,
          1922,
          1815,
          1882,
          2473,
          2277,
          1893,
          1687,
          1693,
          1942,
          2098,
          2307,
          2345,
          2081,
          1821,
          1673,
          1902,
          2266,
          2197,
          2090,
          2037,
          1877,
          2447,
          2306,
          2719,
          3003,
          3308,
          2858,
          2743,
          2775,
          3075,
          3622,
          3269,
          3128,
          3444,
          2880,
          3046,
          3307,
          3861,
          3737,
          3806,
          3636,
          3141,
          3507,
          3963,
          3635,
          3891,
          4168,
          3989,
          4176,
          4071,
          4465,
          4634,
          4823,
          4494,
          3874,
          3509,
          4002,
          4284,
          4174,
          4317,
          4007,
          3992,
          3622,
          4056,
          4538,
          4850,
          4094,
          4294,
          4497,
          3267,
          3906,
          4127,
          4411,
          4301,
          4301,
          4105,
          3373,
          3602,
          4267,
          4432,
          4369,
          4070,
          3732,
          3222,
          3520,
          4029,
          3565,
          2897,
          3143,
          2696,
          2618,
          2973,
          3356,
          4065,
          3778,
          4262,
          3880,
          2853,
          3779,
          3770,
          4173,
          5444,
          5272,
          4106
         ],
         "yaxis": "y"
        },
        {
         "hovertemplate": "variable=daily_new_death<br>date=%{x}<br>value=%{y}<extra></extra>",
         "legendgroup": "daily_new_death",
         "line": {
          "color": "#EF553B",
          "dash": "solid"
         },
         "mode": "lines",
         "name": "daily_new_death",
         "orientation": "v",
         "showlegend": true,
         "type": "scatter",
         "x": [
          "1/22/20",
          "1/23/20",
          "1/24/20",
          "1/25/20",
          "1/26/20",
          "1/27/20",
          "1/28/20",
          "1/29/20",
          "1/30/20",
          "1/31/20",
          "2/1/20",
          "2/2/20",
          "2/3/20",
          "2/4/20",
          "2/5/20",
          "2/6/20",
          "2/7/20",
          "2/8/20",
          "2/9/20",
          "2/10/20",
          "2/11/20",
          "2/12/20",
          "2/13/20",
          "2/14/20",
          "2/15/20",
          "2/16/20",
          "2/17/20",
          "2/18/20",
          "2/19/20",
          "2/20/20",
          "2/21/20",
          "2/22/20",
          "2/23/20",
          "2/24/20",
          "2/25/20",
          "2/26/20",
          "2/27/20",
          "2/28/20",
          "2/29/20",
          "3/1/20",
          "3/2/20",
          "3/3/20",
          "3/4/20",
          "3/5/20",
          "3/6/20",
          "3/7/20",
          "3/8/20",
          "3/9/20",
          "3/10/20",
          "3/11/20",
          "3/12/20",
          "3/13/20",
          "3/14/20",
          "3/15/20",
          "3/16/20",
          "3/17/20",
          "3/18/20",
          "3/19/20",
          "3/20/20",
          "3/21/20",
          "3/22/20",
          "3/23/20",
          "3/24/20",
          "3/25/20",
          "3/26/20",
          "3/27/20",
          "3/28/20",
          "3/29/20",
          "3/30/20",
          "3/31/20",
          "4/1/20",
          "4/2/20",
          "4/3/20",
          "4/4/20",
          "4/5/20",
          "4/6/20",
          "4/7/20",
          "4/8/20",
          "4/9/20",
          "4/10/20",
          "4/11/20",
          "4/12/20",
          "4/13/20",
          "4/14/20",
          "4/15/20",
          "4/16/20",
          "4/17/20",
          "4/18/20",
          "4/19/20",
          "4/20/20",
          "4/21/20",
          "4/22/20",
          "4/23/20",
          "4/24/20",
          "4/25/20",
          "4/26/20",
          "4/27/20",
          "4/28/20",
          "4/29/20",
          "4/30/20",
          "5/1/20",
          "5/2/20",
          "5/3/20",
          "5/4/20",
          "5/5/20",
          "5/6/20",
          "5/7/20",
          "5/8/20",
          "5/9/20",
          "5/10/20",
          "5/11/20",
          "5/12/20",
          "5/13/20",
          "5/14/20",
          "5/15/20",
          "5/16/20",
          "5/17/20",
          "5/18/20",
          "5/19/20",
          "5/20/20",
          "5/21/20",
          "5/22/20",
          "5/23/20",
          "5/24/20",
          "5/25/20",
          "5/26/20",
          "5/27/20",
          "5/28/20",
          "5/29/20",
          "5/30/20",
          "5/31/20",
          "6/1/20",
          "6/2/20",
          "6/3/20",
          "6/4/20",
          "6/5/20",
          "6/6/20",
          "6/7/20",
          "6/8/20",
          "6/9/20",
          "6/10/20",
          "6/11/20",
          "6/12/20",
          "6/13/20",
          "6/14/20",
          "6/15/20",
          "6/16/20",
          "6/17/20",
          "6/18/20",
          "6/19/20",
          "6/20/20",
          "6/21/20",
          "6/22/20",
          "6/23/20",
          "6/24/20",
          "6/25/20",
          "6/26/20",
          "6/27/20",
          "6/28/20",
          "6/29/20",
          "6/30/20",
          "7/1/20",
          "7/2/20",
          "7/3/20",
          "7/4/20",
          "7/5/20",
          "7/6/20",
          "7/7/20",
          "7/8/20",
          "7/9/20",
          "7/10/20",
          "7/11/20",
          "7/12/20",
          "7/13/20",
          "7/14/20",
          "7/15/20",
          "7/16/20",
          "7/17/20",
          "7/18/20",
          "7/19/20",
          "7/20/20",
          "7/21/20",
          "7/22/20",
          "7/23/20",
          "7/24/20",
          "7/25/20",
          "7/26/20",
          "7/27/20",
          "7/28/20",
          "7/29/20",
          "7/30/20",
          "7/31/20",
          "8/1/20",
          "8/2/20",
          "8/3/20",
          "8/4/20",
          "8/5/20",
          "8/6/20",
          "8/7/20",
          "8/8/20",
          "8/9/20",
          "8/10/20",
          "8/11/20",
          "8/12/20",
          "8/13/20",
          "8/14/20",
          "8/15/20",
          "8/16/20",
          "8/17/20",
          "8/18/20",
          "8/19/20",
          "8/20/20",
          "8/21/20",
          "8/22/20",
          "8/23/20",
          "8/24/20",
          "8/25/20",
          "8/26/20",
          "8/27/20",
          "8/28/20",
          "8/29/20",
          "8/30/20",
          "8/31/20",
          "9/1/20",
          "9/2/20",
          "9/3/20",
          "9/4/20",
          "9/5/20",
          "9/6/20",
          "9/7/20",
          "9/8/20",
          "9/9/20",
          "9/10/20",
          "9/11/20",
          "9/12/20",
          "9/13/20",
          "9/14/20",
          "9/15/20",
          "9/16/20",
          "9/17/20",
          "9/18/20",
          "9/19/20",
          "9/20/20",
          "9/21/20",
          "9/22/20",
          "9/23/20",
          "9/24/20",
          "9/25/20",
          "9/26/20",
          "9/27/20",
          "9/28/20",
          "9/29/20",
          "9/30/20",
          "10/1/20",
          "10/2/20",
          "10/3/20",
          "10/4/20",
          "10/5/20",
          "10/6/20",
          "10/7/20",
          "10/8/20",
          "10/9/20",
          "10/10/20",
          "10/11/20",
          "10/12/20",
          "10/13/20",
          "10/14/20",
          "10/15/20",
          "10/16/20",
          "10/17/20",
          "10/18/20",
          "10/19/20",
          "10/20/20",
          "10/21/20",
          "10/22/20",
          "10/23/20",
          "10/24/20",
          "10/25/20",
          "10/26/20",
          "10/27/20",
          "10/28/20",
          "10/29/20",
          "10/30/20",
          "10/31/20",
          "11/1/20",
          "11/2/20",
          "11/3/20",
          "11/4/20",
          "11/5/20",
          "11/6/20",
          "11/7/20",
          "11/8/20",
          "11/9/20",
          "11/10/20",
          "11/11/20",
          "11/12/20",
          "11/13/20",
          "11/14/20",
          "11/15/20"
         ],
         "xaxis": "x",
         "y": [
          0,
          0,
          0,
          0,
          0,
          0,
          0,
          0,
          0,
          0,
          0,
          0,
          0,
          0,
          0,
          0,
          0,
          0,
          0,
          0,
          0,
          0,
          0,
          0,
          0,
          0,
          0,
          0,
          0,
          0,
          0,
          0,
          0,
          0,
          0,
          0,
          0,
          0,
          0,
          0,
          0,
          0,
          0,
          0,
          0,
          0,
          0,
          0,
          0,
          1,
          0,
          3,
          1,
          0,
          0,
          0,
          14,
          6,
          7,
          6,
          10,
          1,
          6,
          3,
          20,
          9,
          15,
          12,
          8,
          14,
          21,
          13,
          11,
          10,
          7,
          11,
          12,
          19,
          40,
          26,
          21,
          46,
          26,
          60,
          10,
          27,
          24,
          15,
          47,
          8,
          26,
          19,
          12,
          42,
          31,
          23,
          22,
          8,
          11,
          8,
          8,
          31,
          14,
          19,
          8,
          23,
          35,
          13,
          16,
          14,
          18,
          16,
          21,
          15,
          33,
          13,
          59,
          43,
          30,
          21,
          36,
          48,
          25,
          21,
          19,
          27,
          55,
          23,
          24,
          53,
          40,
          28,
          22,
          35,
          23,
          49,
          31,
          50,
          32,
          40,
          36,
          41,
          48,
          43,
          43,
          64,
          33,
          45,
          63,
          34,
          56,
          36,
          35,
          35,
          38,
          47,
          63,
          37,
          34,
          51,
          71,
          58,
          53,
          49,
          53,
          82,
          70,
          68,
          50,
          58,
          52,
          66,
          71,
          50,
          54,
          87,
          76,
          84,
          59,
          127,
          96,
          81,
          139,
          117,
          89,
          49,
          67,
          57,
          63,
          74,
          83,
          73,
          62,
          43,
          66,
          86,
          64,
          69,
          72,
          65,
          65,
          42,
          59,
          79,
          65,
          53,
          50,
          79,
          57,
          70,
          69,
          72,
          82,
          94,
          86,
          79,
          99,
          86,
          120,
          105,
          92,
          82,
          74,
          88,
          111,
          134,
          82,
          108,
          85,
          105,
          100,
          106,
          120,
          88,
          106,
          73,
          118,
          124,
          135,
          122,
          114,
          112,
          105,
          124,
          160,
          140,
          128,
          113,
          90,
          78,
          87,
          128,
          139,
          116,
          116,
          83,
          96,
          102,
          121,
          98,
          108,
          97,
          88,
          79,
          91,
          92,
          129,
          112,
          79,
          84,
          80,
          106,
          117,
          123,
          102,
          118,
          128,
          94,
          112,
          101,
          100,
          89,
          81,
          87,
          74,
          101,
          102,
          113,
          89,
          94,
          98,
          74,
          75,
          72,
          75,
          97,
          104,
          111,
          63
         ],
         "yaxis": "y"
        },
        {
         "hovertemplate": "variable=daily_new_recovered<br>date=%{x}<br>value=%{y}<extra></extra>",
         "legendgroup": "daily_new_recovered",
         "line": {
          "color": "#00cc96",
          "dash": "solid"
         },
         "mode": "lines",
         "name": "daily_new_recovered",
         "orientation": "v",
         "showlegend": true,
         "type": "scatter",
         "x": [
          "1/22/20",
          "1/23/20",
          "1/24/20",
          "1/25/20",
          "1/26/20",
          "1/27/20",
          "1/28/20",
          "1/29/20",
          "1/30/20",
          "1/31/20",
          "2/1/20",
          "2/2/20",
          "2/3/20",
          "2/4/20",
          "2/5/20",
          "2/6/20",
          "2/7/20",
          "2/8/20",
          "2/9/20",
          "2/10/20",
          "2/11/20",
          "2/12/20",
          "2/13/20",
          "2/14/20",
          "2/15/20",
          "2/16/20",
          "2/17/20",
          "2/18/20",
          "2/19/20",
          "2/20/20",
          "2/21/20",
          "2/22/20",
          "2/23/20",
          "2/24/20",
          "2/25/20",
          "2/26/20",
          "2/27/20",
          "2/28/20",
          "2/29/20",
          "3/1/20",
          "3/2/20",
          "3/3/20",
          "3/4/20",
          "3/5/20",
          "3/6/20",
          "3/7/20",
          "3/8/20",
          "3/9/20",
          "3/10/20",
          "3/11/20",
          "3/12/20",
          "3/13/20",
          "3/14/20",
          "3/15/20",
          "3/16/20",
          "3/17/20",
          "3/18/20",
          "3/19/20",
          "3/20/20",
          "3/21/20",
          "3/22/20",
          "3/23/20",
          "3/24/20",
          "3/25/20",
          "3/26/20",
          "3/27/20",
          "3/28/20",
          "3/29/20",
          "3/30/20",
          "3/31/20",
          "4/1/20",
          "4/2/20",
          "4/3/20",
          "4/4/20",
          "4/5/20",
          "4/6/20",
          "4/7/20",
          "4/8/20",
          "4/9/20",
          "4/10/20",
          "4/11/20",
          "4/12/20",
          "4/13/20",
          "4/14/20",
          "4/15/20",
          "4/16/20",
          "4/17/20",
          "4/18/20",
          "4/19/20",
          "4/20/20",
          "4/21/20",
          "4/22/20",
          "4/23/20",
          "4/24/20",
          "4/25/20",
          "4/26/20",
          "4/27/20",
          "4/28/20",
          "4/29/20",
          "4/30/20",
          "5/1/20",
          "5/2/20",
          "5/3/20",
          "5/4/20",
          "5/5/20",
          "5/6/20",
          "5/7/20",
          "5/8/20",
          "5/9/20",
          "5/10/20",
          "5/11/20",
          "5/12/20",
          "5/13/20",
          "5/14/20",
          "5/15/20",
          "5/16/20",
          "5/17/20",
          "5/18/20",
          "5/19/20",
          "5/20/20",
          "5/21/20",
          "5/22/20",
          "5/23/20",
          "5/24/20",
          "5/25/20",
          "5/26/20",
          "5/27/20",
          "5/28/20",
          "5/29/20",
          "5/30/20",
          "5/31/20",
          "6/1/20",
          "6/2/20",
          "6/3/20",
          "6/4/20",
          "6/5/20",
          "6/6/20",
          "6/7/20",
          "6/8/20",
          "6/9/20",
          "6/10/20",
          "6/11/20",
          "6/12/20",
          "6/13/20",
          "6/14/20",
          "6/15/20",
          "6/16/20",
          "6/17/20",
          "6/18/20",
          "6/19/20",
          "6/20/20",
          "6/21/20",
          "6/22/20",
          "6/23/20",
          "6/24/20",
          "6/25/20",
          "6/26/20",
          "6/27/20",
          "6/28/20",
          "6/29/20",
          "6/30/20",
          "7/1/20",
          "7/2/20",
          "7/3/20",
          "7/4/20",
          "7/5/20",
          "7/6/20",
          "7/7/20",
          "7/8/20",
          "7/9/20",
          "7/10/20",
          "7/11/20",
          "7/12/20",
          "7/13/20",
          "7/14/20",
          "7/15/20",
          "7/16/20",
          "7/17/20",
          "7/18/20",
          "7/19/20",
          "7/20/20",
          "7/21/20",
          "7/22/20",
          "7/23/20",
          "7/24/20",
          "7/25/20",
          "7/26/20",
          "7/27/20",
          "7/28/20",
          "7/29/20",
          "7/30/20",
          "7/31/20",
          "8/1/20",
          "8/2/20",
          "8/3/20",
          "8/4/20",
          "8/5/20",
          "8/6/20",
          "8/7/20",
          "8/8/20",
          "8/9/20",
          "8/10/20",
          "8/11/20",
          "8/12/20",
          "8/13/20",
          "8/14/20",
          "8/15/20",
          "8/16/20",
          "8/17/20",
          "8/18/20",
          "8/19/20",
          "8/20/20",
          "8/21/20",
          "8/22/20",
          "8/23/20",
          "8/24/20",
          "8/25/20",
          "8/26/20",
          "8/27/20",
          "8/28/20",
          "8/29/20",
          "8/30/20",
          "8/31/20",
          "9/1/20",
          "9/2/20",
          "9/3/20",
          "9/4/20",
          "9/5/20",
          "9/6/20",
          "9/7/20",
          "9/8/20",
          "9/9/20",
          "9/10/20",
          "9/11/20",
          "9/12/20",
          "9/13/20",
          "9/14/20",
          "9/15/20",
          "9/16/20",
          "9/17/20",
          "9/18/20",
          "9/19/20",
          "9/20/20",
          "9/21/20",
          "9/22/20",
          "9/23/20",
          "9/24/20",
          "9/25/20",
          "9/26/20",
          "9/27/20",
          "9/28/20",
          "9/29/20",
          "9/30/20",
          "10/1/20",
          "10/2/20",
          "10/3/20",
          "10/4/20",
          "10/5/20",
          "10/6/20",
          "10/7/20",
          "10/8/20",
          "10/9/20",
          "10/10/20",
          "10/11/20",
          "10/12/20",
          "10/13/20",
          "10/14/20",
          "10/15/20",
          "10/16/20",
          "10/17/20",
          "10/18/20",
          "10/19/20",
          "10/20/20",
          "10/21/20",
          "10/22/20",
          "10/23/20",
          "10/24/20",
          "10/25/20",
          "10/26/20",
          "10/27/20",
          "10/28/20",
          "10/29/20",
          "10/30/20",
          "10/31/20",
          "11/1/20",
          "11/2/20",
          "11/3/20",
          "11/4/20",
          "11/5/20",
          "11/6/20",
          "11/7/20",
          "11/8/20",
          "11/9/20",
          "11/10/20",
          "11/11/20",
          "11/12/20",
          "11/13/20",
          "11/14/20",
          "11/15/20"
         ],
         "xaxis": "x",
         "y": [
          0,
          0,
          0,
          0,
          0,
          0,
          0,
          0,
          0,
          0,
          0,
          0,
          0,
          0,
          0,
          0,
          0,
          0,
          0,
          0,
          0,
          0,
          0,
          0,
          0,
          0,
          0,
          0,
          0,
          0,
          0,
          0,
          0,
          0,
          0,
          0,
          0,
          0,
          0,
          0,
          0,
          0,
          0,
          0,
          0,
          0,
          0,
          0,
          2,
          0,
          0,
          0,
          6,
          0,
          0,
          0,
          3,
          0,
          4,
          0,
          14,
          0,
          1,
          1,
          4,
          11,
          13,
          5,
          11,
          6,
          22,
          9,
          22,
          16,
          14,
          28,
          12,
          18,
          30,
          30,
          4,
          73,
          21,
          46,
          20,
          102,
          59,
          24,
          55,
          61,
          95,
          71,
          47,
          42,
          40,
          65,
          44,
          103,
          137,
          131,
          69,
          74,
          211,
          78,
          243,
          120,
          64,
          113,
          113,
          91,
          183,
          182,
          224,
          231,
          285,
          108,
          218,
          195,
          143,
          108,
          263,
          219,
          192,
          153,
          240,
          235,
          180,
          183,
          252,
          523,
          293,
          329,
          298,
          471,
          486,
          551,
          464,
          591,
          406,
          510,
          715,
          507,
          577,
          563,
          755,
          592,
          580,
          540,
          555,
          551,
          534,
          521,
          331,
          506,
          417,
          791,
          884,
          576,
          1027,
          864,
          1006,
          789,
          1072,
          901,
          651,
          886,
          814,
          866,
          800,
          1066,
          878,
          1190,
          919,
          1051,
          947,
          1414,
          1295,
          1489,
          1434,
          2133,
          1576,
          1489,
          1789,
          1909,
          1781,
          1409,
          1301,
          1518,
          2366,
          1599,
          2154,
          1615,
          2012,
          1056,
          1262,
          1813,
          1839,
          1756,
          1912,
          1749,
          1646,
          1284,
          1474,
          2088,
          1760,
          2060,
          1703,
          1782,
          1355,
          1848,
          2351,
          2017,
          2317,
          2207,
          2302,
          3560,
          1807,
          2542,
          3166,
          2325,
          1902,
          1383,
          1774,
          2098,
          1914,
          2084,
          2126,
          2220,
          2174,
          2077,
          2306,
          2242,
          2310,
          2707,
          2241,
          2552,
          3395,
          2660,
          3036,
          2585,
          4088,
          3576,
          2977,
          3470,
          3501,
          3660,
          3895,
          4343,
          3207,
          3611,
          3856,
          3567,
          4510,
          3540,
          2853,
          3712,
          3401,
          4140,
          3844,
          3854,
          3769,
          3607,
          3814,
          3546,
          3492,
          4777,
          4555,
          5810,
          3883,
          4048,
          3732,
          3919,
          4410,
          3856,
          3497,
          4094,
          4119,
          4545,
          3908,
          4576,
          3545,
          3985,
          4517,
          3506,
          4141,
          3624,
          3931,
          3785,
          3860,
          3563,
          3712,
          3881,
          3968,
          3475,
          3241,
          3102,
          3010,
          3000,
          3897
         ],
         "yaxis": "y"
        }
       ],
       "layout": {
        "legend": {
         "title": {
          "text": "variable"
         },
         "tracegroupgap": 0
        },
        "template": {
         "data": {
          "bar": [
           {
            "error_x": {
             "color": "#2a3f5f"
            },
            "error_y": {
             "color": "#2a3f5f"
            },
            "marker": {
             "line": {
              "color": "#E5ECF6",
              "width": 0.5
             }
            },
            "type": "bar"
           }
          ],
          "barpolar": [
           {
            "marker": {
             "line": {
              "color": "#E5ECF6",
              "width": 0.5
             }
            },
            "type": "barpolar"
           }
          ],
          "carpet": [
           {
            "aaxis": {
             "endlinecolor": "#2a3f5f",
             "gridcolor": "white",
             "linecolor": "white",
             "minorgridcolor": "white",
             "startlinecolor": "#2a3f5f"
            },
            "baxis": {
             "endlinecolor": "#2a3f5f",
             "gridcolor": "white",
             "linecolor": "white",
             "minorgridcolor": "white",
             "startlinecolor": "#2a3f5f"
            },
            "type": "carpet"
           }
          ],
          "choropleth": [
           {
            "colorbar": {
             "outlinewidth": 0,
             "ticks": ""
            },
            "type": "choropleth"
           }
          ],
          "contour": [
           {
            "colorbar": {
             "outlinewidth": 0,
             "ticks": ""
            },
            "colorscale": [
             [
              0,
              "#0d0887"
             ],
             [
              0.1111111111111111,
              "#46039f"
             ],
             [
              0.2222222222222222,
              "#7201a8"
             ],
             [
              0.3333333333333333,
              "#9c179e"
             ],
             [
              0.4444444444444444,
              "#bd3786"
             ],
             [
              0.5555555555555556,
              "#d8576b"
             ],
             [
              0.6666666666666666,
              "#ed7953"
             ],
             [
              0.7777777777777778,
              "#fb9f3a"
             ],
             [
              0.8888888888888888,
              "#fdca26"
             ],
             [
              1,
              "#f0f921"
             ]
            ],
            "type": "contour"
           }
          ],
          "contourcarpet": [
           {
            "colorbar": {
             "outlinewidth": 0,
             "ticks": ""
            },
            "type": "contourcarpet"
           }
          ],
          "heatmap": [
           {
            "colorbar": {
             "outlinewidth": 0,
             "ticks": ""
            },
            "colorscale": [
             [
              0,
              "#0d0887"
             ],
             [
              0.1111111111111111,
              "#46039f"
             ],
             [
              0.2222222222222222,
              "#7201a8"
             ],
             [
              0.3333333333333333,
              "#9c179e"
             ],
             [
              0.4444444444444444,
              "#bd3786"
             ],
             [
              0.5555555555555556,
              "#d8576b"
             ],
             [
              0.6666666666666666,
              "#ed7953"
             ],
             [
              0.7777777777777778,
              "#fb9f3a"
             ],
             [
              0.8888888888888888,
              "#fdca26"
             ],
             [
              1,
              "#f0f921"
             ]
            ],
            "type": "heatmap"
           }
          ],
          "heatmapgl": [
           {
            "colorbar": {
             "outlinewidth": 0,
             "ticks": ""
            },
            "colorscale": [
             [
              0,
              "#0d0887"
             ],
             [
              0.1111111111111111,
              "#46039f"
             ],
             [
              0.2222222222222222,
              "#7201a8"
             ],
             [
              0.3333333333333333,
              "#9c179e"
             ],
             [
              0.4444444444444444,
              "#bd3786"
             ],
             [
              0.5555555555555556,
              "#d8576b"
             ],
             [
              0.6666666666666666,
              "#ed7953"
             ],
             [
              0.7777777777777778,
              "#fb9f3a"
             ],
             [
              0.8888888888888888,
              "#fdca26"
             ],
             [
              1,
              "#f0f921"
             ]
            ],
            "type": "heatmapgl"
           }
          ],
          "histogram": [
           {
            "marker": {
             "colorbar": {
              "outlinewidth": 0,
              "ticks": ""
             }
            },
            "type": "histogram"
           }
          ],
          "histogram2d": [
           {
            "colorbar": {
             "outlinewidth": 0,
             "ticks": ""
            },
            "colorscale": [
             [
              0,
              "#0d0887"
             ],
             [
              0.1111111111111111,
              "#46039f"
             ],
             [
              0.2222222222222222,
              "#7201a8"
             ],
             [
              0.3333333333333333,
              "#9c179e"
             ],
             [
              0.4444444444444444,
              "#bd3786"
             ],
             [
              0.5555555555555556,
              "#d8576b"
             ],
             [
              0.6666666666666666,
              "#ed7953"
             ],
             [
              0.7777777777777778,
              "#fb9f3a"
             ],
             [
              0.8888888888888888,
              "#fdca26"
             ],
             [
              1,
              "#f0f921"
             ]
            ],
            "type": "histogram2d"
           }
          ],
          "histogram2dcontour": [
           {
            "colorbar": {
             "outlinewidth": 0,
             "ticks": ""
            },
            "colorscale": [
             [
              0,
              "#0d0887"
             ],
             [
              0.1111111111111111,
              "#46039f"
             ],
             [
              0.2222222222222222,
              "#7201a8"
             ],
             [
              0.3333333333333333,
              "#9c179e"
             ],
             [
              0.4444444444444444,
              "#bd3786"
             ],
             [
              0.5555555555555556,
              "#d8576b"
             ],
             [
              0.6666666666666666,
              "#ed7953"
             ],
             [
              0.7777777777777778,
              "#fb9f3a"
             ],
             [
              0.8888888888888888,
              "#fdca26"
             ],
             [
              1,
              "#f0f921"
             ]
            ],
            "type": "histogram2dcontour"
           }
          ],
          "mesh3d": [
           {
            "colorbar": {
             "outlinewidth": 0,
             "ticks": ""
            },
            "type": "mesh3d"
           }
          ],
          "parcoords": [
           {
            "line": {
             "colorbar": {
              "outlinewidth": 0,
              "ticks": ""
             }
            },
            "type": "parcoords"
           }
          ],
          "pie": [
           {
            "automargin": true,
            "type": "pie"
           }
          ],
          "scatter": [
           {
            "marker": {
             "colorbar": {
              "outlinewidth": 0,
              "ticks": ""
             }
            },
            "type": "scatter"
           }
          ],
          "scatter3d": [
           {
            "line": {
             "colorbar": {
              "outlinewidth": 0,
              "ticks": ""
             }
            },
            "marker": {
             "colorbar": {
              "outlinewidth": 0,
              "ticks": ""
             }
            },
            "type": "scatter3d"
           }
          ],
          "scattercarpet": [
           {
            "marker": {
             "colorbar": {
              "outlinewidth": 0,
              "ticks": ""
             }
            },
            "type": "scattercarpet"
           }
          ],
          "scattergeo": [
           {
            "marker": {
             "colorbar": {
              "outlinewidth": 0,
              "ticks": ""
             }
            },
            "type": "scattergeo"
           }
          ],
          "scattergl": [
           {
            "marker": {
             "colorbar": {
              "outlinewidth": 0,
              "ticks": ""
             }
            },
            "type": "scattergl"
           }
          ],
          "scattermapbox": [
           {
            "marker": {
             "colorbar": {
              "outlinewidth": 0,
              "ticks": ""
             }
            },
            "type": "scattermapbox"
           }
          ],
          "scatterpolar": [
           {
            "marker": {
             "colorbar": {
              "outlinewidth": 0,
              "ticks": ""
             }
            },
            "type": "scatterpolar"
           }
          ],
          "scatterpolargl": [
           {
            "marker": {
             "colorbar": {
              "outlinewidth": 0,
              "ticks": ""
             }
            },
            "type": "scatterpolargl"
           }
          ],
          "scatterternary": [
           {
            "marker": {
             "colorbar": {
              "outlinewidth": 0,
              "ticks": ""
             }
            },
            "type": "scatterternary"
           }
          ],
          "surface": [
           {
            "colorbar": {
             "outlinewidth": 0,
             "ticks": ""
            },
            "colorscale": [
             [
              0,
              "#0d0887"
             ],
             [
              0.1111111111111111,
              "#46039f"
             ],
             [
              0.2222222222222222,
              "#7201a8"
             ],
             [
              0.3333333333333333,
              "#9c179e"
             ],
             [
              0.4444444444444444,
              "#bd3786"
             ],
             [
              0.5555555555555556,
              "#d8576b"
             ],
             [
              0.6666666666666666,
              "#ed7953"
             ],
             [
              0.7777777777777778,
              "#fb9f3a"
             ],
             [
              0.8888888888888888,
              "#fdca26"
             ],
             [
              1,
              "#f0f921"
             ]
            ],
            "type": "surface"
           }
          ],
          "table": [
           {
            "cells": {
             "fill": {
              "color": "#EBF0F8"
             },
             "line": {
              "color": "white"
             }
            },
            "header": {
             "fill": {
              "color": "#C8D4E3"
             },
             "line": {
              "color": "white"
             }
            },
            "type": "table"
           }
          ]
         },
         "layout": {
          "annotationdefaults": {
           "arrowcolor": "#2a3f5f",
           "arrowhead": 0,
           "arrowwidth": 1
          },
          "coloraxis": {
           "colorbar": {
            "outlinewidth": 0,
            "ticks": ""
           }
          },
          "colorscale": {
           "diverging": [
            [
             0,
             "#8e0152"
            ],
            [
             0.1,
             "#c51b7d"
            ],
            [
             0.2,
             "#de77ae"
            ],
            [
             0.3,
             "#f1b6da"
            ],
            [
             0.4,
             "#fde0ef"
            ],
            [
             0.5,
             "#f7f7f7"
            ],
            [
             0.6,
             "#e6f5d0"
            ],
            [
             0.7,
             "#b8e186"
            ],
            [
             0.8,
             "#7fbc41"
            ],
            [
             0.9,
             "#4d9221"
            ],
            [
             1,
             "#276419"
            ]
           ],
           "sequential": [
            [
             0,
             "#0d0887"
            ],
            [
             0.1111111111111111,
             "#46039f"
            ],
            [
             0.2222222222222222,
             "#7201a8"
            ],
            [
             0.3333333333333333,
             "#9c179e"
            ],
            [
             0.4444444444444444,
             "#bd3786"
            ],
            [
             0.5555555555555556,
             "#d8576b"
            ],
            [
             0.6666666666666666,
             "#ed7953"
            ],
            [
             0.7777777777777778,
             "#fb9f3a"
            ],
            [
             0.8888888888888888,
             "#fdca26"
            ],
            [
             1,
             "#f0f921"
            ]
           ],
           "sequentialminus": [
            [
             0,
             "#0d0887"
            ],
            [
             0.1111111111111111,
             "#46039f"
            ],
            [
             0.2222222222222222,
             "#7201a8"
            ],
            [
             0.3333333333333333,
             "#9c179e"
            ],
            [
             0.4444444444444444,
             "#bd3786"
            ],
            [
             0.5555555555555556,
             "#d8576b"
            ],
            [
             0.6666666666666666,
             "#ed7953"
            ],
            [
             0.7777777777777778,
             "#fb9f3a"
            ],
            [
             0.8888888888888888,
             "#fdca26"
            ],
            [
             1,
             "#f0f921"
            ]
           ]
          },
          "colorway": [
           "#636efa",
           "#EF553B",
           "#00cc96",
           "#ab63fa",
           "#FFA15A",
           "#19d3f3",
           "#FF6692",
           "#B6E880",
           "#FF97FF",
           "#FECB52"
          ],
          "font": {
           "color": "#2a3f5f"
          },
          "geo": {
           "bgcolor": "white",
           "lakecolor": "white",
           "landcolor": "#E5ECF6",
           "showlakes": true,
           "showland": true,
           "subunitcolor": "white"
          },
          "hoverlabel": {
           "align": "left"
          },
          "hovermode": "closest",
          "mapbox": {
           "style": "light"
          },
          "paper_bgcolor": "white",
          "plot_bgcolor": "#E5ECF6",
          "polar": {
           "angularaxis": {
            "gridcolor": "white",
            "linecolor": "white",
            "ticks": ""
           },
           "bgcolor": "#E5ECF6",
           "radialaxis": {
            "gridcolor": "white",
            "linecolor": "white",
            "ticks": ""
           }
          },
          "scene": {
           "xaxis": {
            "backgroundcolor": "#E5ECF6",
            "gridcolor": "white",
            "gridwidth": 2,
            "linecolor": "white",
            "showbackground": true,
            "ticks": "",
            "zerolinecolor": "white"
           },
           "yaxis": {
            "backgroundcolor": "#E5ECF6",
            "gridcolor": "white",
            "gridwidth": 2,
            "linecolor": "white",
            "showbackground": true,
            "ticks": "",
            "zerolinecolor": "white"
           },
           "zaxis": {
            "backgroundcolor": "#E5ECF6",
            "gridcolor": "white",
            "gridwidth": 2,
            "linecolor": "white",
            "showbackground": true,
            "ticks": "",
            "zerolinecolor": "white"
           }
          },
          "shapedefaults": {
           "line": {
            "color": "#2a3f5f"
           }
          },
          "ternary": {
           "aaxis": {
            "gridcolor": "white",
            "linecolor": "white",
            "ticks": ""
           },
           "baxis": {
            "gridcolor": "white",
            "linecolor": "white",
            "ticks": ""
           },
           "bgcolor": "#E5ECF6",
           "caxis": {
            "gridcolor": "white",
            "linecolor": "white",
            "ticks": ""
           }
          },
          "title": {
           "x": 0.05
          },
          "xaxis": {
           "automargin": true,
           "gridcolor": "white",
           "linecolor": "white",
           "ticks": "",
           "title": {
            "standoff": 15
           },
           "zerolinecolor": "white",
           "zerolinewidth": 2
          },
          "yaxis": {
           "automargin": true,
           "gridcolor": "white",
           "linecolor": "white",
           "ticks": "",
           "title": {
            "standoff": 15
           },
           "zerolinecolor": "white",
           "zerolinewidth": 2
          }
         }
        },
        "title": {
         "text": "Indonesia daily new cases"
        },
        "xaxis": {
         "anchor": "y",
         "domain": [
          0,
          1
         ],
         "rangeslider": {
          "visible": true
         },
         "title": {
          "text": "date"
         }
        },
        "yaxis": {
         "anchor": "x",
         "domain": [
          0,
          1
         ],
         "title": {
          "text": "value"
         }
        }
       }
      },
      "text/html": [
       "<div>\n",
       "        \n",
       "        \n",
       "            <div id=\"0879c9a0-d031-48d8-876b-c9fd29e23509\" class=\"plotly-graph-div\" style=\"height:525px; width:100%;\"></div>\n",
       "            <script type=\"text/javascript\">\n",
       "                require([\"plotly\"], function(Plotly) {\n",
       "                    window.PLOTLYENV=window.PLOTLYENV || {};\n",
       "                    \n",
       "                if (document.getElementById(\"0879c9a0-d031-48d8-876b-c9fd29e23509\")) {\n",
       "                    Plotly.newPlot(\n",
       "                        '0879c9a0-d031-48d8-876b-c9fd29e23509',\n",
       "                        [{\"hovertemplate\": \"variable=daily_new_confirmed<br>date=%{x}<br>value=%{y}<extra></extra>\", \"legendgroup\": \"daily_new_confirmed\", \"line\": {\"color\": \"#636efa\", \"dash\": \"solid\"}, \"mode\": \"lines\", \"name\": \"daily_new_confirmed\", \"orientation\": \"v\", \"showlegend\": true, \"type\": \"scatter\", \"x\": [\"1/22/20\", \"1/23/20\", \"1/24/20\", \"1/25/20\", \"1/26/20\", \"1/27/20\", \"1/28/20\", \"1/29/20\", \"1/30/20\", \"1/31/20\", \"2/1/20\", \"2/2/20\", \"2/3/20\", \"2/4/20\", \"2/5/20\", \"2/6/20\", \"2/7/20\", \"2/8/20\", \"2/9/20\", \"2/10/20\", \"2/11/20\", \"2/12/20\", \"2/13/20\", \"2/14/20\", \"2/15/20\", \"2/16/20\", \"2/17/20\", \"2/18/20\", \"2/19/20\", \"2/20/20\", \"2/21/20\", \"2/22/20\", \"2/23/20\", \"2/24/20\", \"2/25/20\", \"2/26/20\", \"2/27/20\", \"2/28/20\", \"2/29/20\", \"3/1/20\", \"3/2/20\", \"3/3/20\", \"3/4/20\", \"3/5/20\", \"3/6/20\", \"3/7/20\", \"3/8/20\", \"3/9/20\", \"3/10/20\", \"3/11/20\", \"3/12/20\", \"3/13/20\", \"3/14/20\", \"3/15/20\", \"3/16/20\", \"3/17/20\", \"3/18/20\", \"3/19/20\", \"3/20/20\", \"3/21/20\", \"3/22/20\", \"3/23/20\", \"3/24/20\", \"3/25/20\", \"3/26/20\", \"3/27/20\", \"3/28/20\", \"3/29/20\", \"3/30/20\", \"3/31/20\", \"4/1/20\", \"4/2/20\", \"4/3/20\", \"4/4/20\", \"4/5/20\", \"4/6/20\", \"4/7/20\", \"4/8/20\", \"4/9/20\", \"4/10/20\", \"4/11/20\", \"4/12/20\", \"4/13/20\", \"4/14/20\", \"4/15/20\", \"4/16/20\", \"4/17/20\", \"4/18/20\", \"4/19/20\", \"4/20/20\", \"4/21/20\", \"4/22/20\", \"4/23/20\", \"4/24/20\", \"4/25/20\", \"4/26/20\", \"4/27/20\", \"4/28/20\", \"4/29/20\", \"4/30/20\", \"5/1/20\", \"5/2/20\", \"5/3/20\", \"5/4/20\", \"5/5/20\", \"5/6/20\", \"5/7/20\", \"5/8/20\", \"5/9/20\", \"5/10/20\", \"5/11/20\", \"5/12/20\", \"5/13/20\", \"5/14/20\", \"5/15/20\", \"5/16/20\", \"5/17/20\", \"5/18/20\", \"5/19/20\", \"5/20/20\", \"5/21/20\", \"5/22/20\", \"5/23/20\", \"5/24/20\", \"5/25/20\", \"5/26/20\", \"5/27/20\", \"5/28/20\", \"5/29/20\", \"5/30/20\", \"5/31/20\", \"6/1/20\", \"6/2/20\", \"6/3/20\", \"6/4/20\", \"6/5/20\", \"6/6/20\", \"6/7/20\", \"6/8/20\", \"6/9/20\", \"6/10/20\", \"6/11/20\", \"6/12/20\", \"6/13/20\", \"6/14/20\", \"6/15/20\", \"6/16/20\", \"6/17/20\", \"6/18/20\", \"6/19/20\", \"6/20/20\", \"6/21/20\", \"6/22/20\", \"6/23/20\", \"6/24/20\", \"6/25/20\", \"6/26/20\", \"6/27/20\", \"6/28/20\", \"6/29/20\", \"6/30/20\", \"7/1/20\", \"7/2/20\", \"7/3/20\", \"7/4/20\", \"7/5/20\", \"7/6/20\", \"7/7/20\", \"7/8/20\", \"7/9/20\", \"7/10/20\", \"7/11/20\", \"7/12/20\", \"7/13/20\", \"7/14/20\", \"7/15/20\", \"7/16/20\", \"7/17/20\", \"7/18/20\", \"7/19/20\", \"7/20/20\", \"7/21/20\", \"7/22/20\", \"7/23/20\", \"7/24/20\", \"7/25/20\", \"7/26/20\", \"7/27/20\", \"7/28/20\", \"7/29/20\", \"7/30/20\", \"7/31/20\", \"8/1/20\", \"8/2/20\", \"8/3/20\", \"8/4/20\", \"8/5/20\", \"8/6/20\", \"8/7/20\", \"8/8/20\", \"8/9/20\", \"8/10/20\", \"8/11/20\", \"8/12/20\", \"8/13/20\", \"8/14/20\", \"8/15/20\", \"8/16/20\", \"8/17/20\", \"8/18/20\", \"8/19/20\", \"8/20/20\", \"8/21/20\", \"8/22/20\", \"8/23/20\", \"8/24/20\", \"8/25/20\", \"8/26/20\", \"8/27/20\", \"8/28/20\", \"8/29/20\", \"8/30/20\", \"8/31/20\", \"9/1/20\", \"9/2/20\", \"9/3/20\", \"9/4/20\", \"9/5/20\", \"9/6/20\", \"9/7/20\", \"9/8/20\", \"9/9/20\", \"9/10/20\", \"9/11/20\", \"9/12/20\", \"9/13/20\", \"9/14/20\", \"9/15/20\", \"9/16/20\", \"9/17/20\", \"9/18/20\", \"9/19/20\", \"9/20/20\", \"9/21/20\", \"9/22/20\", \"9/23/20\", \"9/24/20\", \"9/25/20\", \"9/26/20\", \"9/27/20\", \"9/28/20\", \"9/29/20\", \"9/30/20\", \"10/1/20\", \"10/2/20\", \"10/3/20\", \"10/4/20\", \"10/5/20\", \"10/6/20\", \"10/7/20\", \"10/8/20\", \"10/9/20\", \"10/10/20\", \"10/11/20\", \"10/12/20\", \"10/13/20\", \"10/14/20\", \"10/15/20\", \"10/16/20\", \"10/17/20\", \"10/18/20\", \"10/19/20\", \"10/20/20\", \"10/21/20\", \"10/22/20\", \"10/23/20\", \"10/24/20\", \"10/25/20\", \"10/26/20\", \"10/27/20\", \"10/28/20\", \"10/29/20\", \"10/30/20\", \"10/31/20\", \"11/1/20\", \"11/2/20\", \"11/3/20\", \"11/4/20\", \"11/5/20\", \"11/6/20\", \"11/7/20\", \"11/8/20\", \"11/9/20\", \"11/10/20\", \"11/11/20\", \"11/12/20\", \"11/13/20\", \"11/14/20\", \"11/15/20\"], \"xaxis\": \"x\", \"y\": [0.0, 0.0, 0.0, 0.0, 0.0, 0.0, 0.0, 0.0, 0.0, 0.0, 0.0, 0.0, 0.0, 0.0, 0.0, 0.0, 0.0, 0.0, 0.0, 0.0, 0.0, 0.0, 0.0, 0.0, 0.0, 0.0, 0.0, 0.0, 0.0, 0.0, 0.0, 0.0, 0.0, 0.0, 0.0, 0.0, 0.0, 0.0, 0.0, 0.0, 2.0, 0.0, 0.0, 0.0, 2.0, 0.0, 2.0, 13.0, 8.0, 7.0, 0.0, 35.0, 27.0, 21.0, 17.0, 38.0, 55.0, 84.0, 58.0, 81.0, 64.0, 65.0, 107.0, 104.0, 103.0, 153.0, 109.0, 130.0, 129.0, 114.0, 149.0, 113.0, 196.0, 106.0, 181.0, 218.0, 247.0, 218.0, 337.0, 219.0, 330.0, 399.0, 316.0, 282.0, 297.0, 380.0, 407.0, 325.0, 327.0, 185.0, 375.0, 283.0, 357.0, 436.0, 396.0, 275.0, 214.0, 415.0, 260.0, 347.0, 433.0, 292.0, 349.0, 395.0, 484.0, 367.0, 338.0, 336.0, 533.0, 387.0, 233.0, 484.0, 689.0, 568.0, 490.0, 529.0, 489.0, 496.0, 486.0, 693.0, 973.0, 634.0, 949.0, 526.0, 479.0, 415.0, 686.0, 687.0, 678.0, 557.0, 700.0, 467.0, 609.0, 684.0, 585.0, 703.0, 993.0, 672.0, 847.0, 1043.0, 1240.0, 979.0, 1111.0, 1014.0, 857.0, 1017.0, 1106.0, 1031.0, 1331.0, 1041.0, 1226.0, 862.0, 954.0, 1051.0, 1113.0, 1178.0, 1240.0, 1385.0, 1198.0, 1082.0, 1293.0, 1385.0, 1624.0, 1301.0, 1447.0, 1607.0, 1209.0, 1268.0, 1853.0, 2657.0, 1611.0, 1671.0, 1681.0, 1282.0, 1591.0, 1522.0, 1574.0, 1462.0, 1752.0, 1639.0, 1693.0, 1655.0, 1882.0, 1906.0, 1761.0, 1868.0, 1492.0, 1525.0, 1748.0, 2381.0, 1904.0, 2040.0, 1560.0, 1519.0, 1679.0, 1922.0, 1815.0, 1882.0, 2473.0, 2277.0, 1893.0, 1687.0, 1693.0, 1942.0, 2098.0, 2307.0, 2345.0, 2081.0, 1821.0, 1673.0, 1902.0, 2266.0, 2197.0, 2090.0, 2037.0, 1877.0, 2447.0, 2306.0, 2719.0, 3003.0, 3308.0, 2858.0, 2743.0, 2775.0, 3075.0, 3622.0, 3269.0, 3128.0, 3444.0, 2880.0, 3046.0, 3307.0, 3861.0, 3737.0, 3806.0, 3636.0, 3141.0, 3507.0, 3963.0, 3635.0, 3891.0, 4168.0, 3989.0, 4176.0, 4071.0, 4465.0, 4634.0, 4823.0, 4494.0, 3874.0, 3509.0, 4002.0, 4284.0, 4174.0, 4317.0, 4007.0, 3992.0, 3622.0, 4056.0, 4538.0, 4850.0, 4094.0, 4294.0, 4497.0, 3267.0, 3906.0, 4127.0, 4411.0, 4301.0, 4301.0, 4105.0, 3373.0, 3602.0, 4267.0, 4432.0, 4369.0, 4070.0, 3732.0, 3222.0, 3520.0, 4029.0, 3565.0, 2897.0, 3143.0, 2696.0, 2618.0, 2973.0, 3356.0, 4065.0, 3778.0, 4262.0, 3880.0, 2853.0, 3779.0, 3770.0, 4173.0, 5444.0, 5272.0, 4106.0], \"yaxis\": \"y\"}, {\"hovertemplate\": \"variable=daily_new_death<br>date=%{x}<br>value=%{y}<extra></extra>\", \"legendgroup\": \"daily_new_death\", \"line\": {\"color\": \"#EF553B\", \"dash\": \"solid\"}, \"mode\": \"lines\", \"name\": \"daily_new_death\", \"orientation\": \"v\", \"showlegend\": true, \"type\": \"scatter\", \"x\": [\"1/22/20\", \"1/23/20\", \"1/24/20\", \"1/25/20\", \"1/26/20\", \"1/27/20\", \"1/28/20\", \"1/29/20\", \"1/30/20\", \"1/31/20\", \"2/1/20\", \"2/2/20\", \"2/3/20\", \"2/4/20\", \"2/5/20\", \"2/6/20\", \"2/7/20\", \"2/8/20\", \"2/9/20\", \"2/10/20\", \"2/11/20\", \"2/12/20\", \"2/13/20\", \"2/14/20\", \"2/15/20\", \"2/16/20\", \"2/17/20\", \"2/18/20\", \"2/19/20\", \"2/20/20\", \"2/21/20\", \"2/22/20\", \"2/23/20\", \"2/24/20\", \"2/25/20\", \"2/26/20\", \"2/27/20\", \"2/28/20\", \"2/29/20\", \"3/1/20\", \"3/2/20\", \"3/3/20\", \"3/4/20\", \"3/5/20\", \"3/6/20\", \"3/7/20\", \"3/8/20\", \"3/9/20\", \"3/10/20\", \"3/11/20\", \"3/12/20\", \"3/13/20\", \"3/14/20\", \"3/15/20\", \"3/16/20\", \"3/17/20\", \"3/18/20\", \"3/19/20\", \"3/20/20\", \"3/21/20\", \"3/22/20\", \"3/23/20\", \"3/24/20\", \"3/25/20\", \"3/26/20\", \"3/27/20\", \"3/28/20\", \"3/29/20\", \"3/30/20\", \"3/31/20\", \"4/1/20\", \"4/2/20\", \"4/3/20\", \"4/4/20\", \"4/5/20\", \"4/6/20\", \"4/7/20\", \"4/8/20\", \"4/9/20\", \"4/10/20\", \"4/11/20\", \"4/12/20\", \"4/13/20\", \"4/14/20\", \"4/15/20\", \"4/16/20\", \"4/17/20\", \"4/18/20\", \"4/19/20\", \"4/20/20\", \"4/21/20\", \"4/22/20\", \"4/23/20\", \"4/24/20\", \"4/25/20\", \"4/26/20\", \"4/27/20\", \"4/28/20\", \"4/29/20\", \"4/30/20\", \"5/1/20\", \"5/2/20\", \"5/3/20\", \"5/4/20\", \"5/5/20\", \"5/6/20\", \"5/7/20\", \"5/8/20\", \"5/9/20\", \"5/10/20\", \"5/11/20\", \"5/12/20\", \"5/13/20\", \"5/14/20\", \"5/15/20\", \"5/16/20\", \"5/17/20\", \"5/18/20\", \"5/19/20\", \"5/20/20\", \"5/21/20\", \"5/22/20\", \"5/23/20\", \"5/24/20\", \"5/25/20\", \"5/26/20\", \"5/27/20\", \"5/28/20\", \"5/29/20\", \"5/30/20\", \"5/31/20\", \"6/1/20\", \"6/2/20\", \"6/3/20\", \"6/4/20\", \"6/5/20\", \"6/6/20\", \"6/7/20\", \"6/8/20\", \"6/9/20\", \"6/10/20\", \"6/11/20\", \"6/12/20\", \"6/13/20\", \"6/14/20\", \"6/15/20\", \"6/16/20\", \"6/17/20\", \"6/18/20\", \"6/19/20\", \"6/20/20\", \"6/21/20\", \"6/22/20\", \"6/23/20\", \"6/24/20\", \"6/25/20\", \"6/26/20\", \"6/27/20\", \"6/28/20\", \"6/29/20\", \"6/30/20\", \"7/1/20\", \"7/2/20\", \"7/3/20\", \"7/4/20\", \"7/5/20\", \"7/6/20\", \"7/7/20\", \"7/8/20\", \"7/9/20\", \"7/10/20\", \"7/11/20\", \"7/12/20\", \"7/13/20\", \"7/14/20\", \"7/15/20\", \"7/16/20\", \"7/17/20\", \"7/18/20\", \"7/19/20\", \"7/20/20\", \"7/21/20\", \"7/22/20\", \"7/23/20\", \"7/24/20\", \"7/25/20\", \"7/26/20\", \"7/27/20\", \"7/28/20\", \"7/29/20\", \"7/30/20\", \"7/31/20\", \"8/1/20\", \"8/2/20\", \"8/3/20\", \"8/4/20\", \"8/5/20\", \"8/6/20\", \"8/7/20\", \"8/8/20\", \"8/9/20\", \"8/10/20\", \"8/11/20\", \"8/12/20\", \"8/13/20\", \"8/14/20\", \"8/15/20\", \"8/16/20\", \"8/17/20\", \"8/18/20\", \"8/19/20\", \"8/20/20\", \"8/21/20\", \"8/22/20\", \"8/23/20\", \"8/24/20\", \"8/25/20\", \"8/26/20\", \"8/27/20\", \"8/28/20\", \"8/29/20\", \"8/30/20\", \"8/31/20\", \"9/1/20\", \"9/2/20\", \"9/3/20\", \"9/4/20\", \"9/5/20\", \"9/6/20\", \"9/7/20\", \"9/8/20\", \"9/9/20\", \"9/10/20\", \"9/11/20\", \"9/12/20\", \"9/13/20\", \"9/14/20\", \"9/15/20\", \"9/16/20\", \"9/17/20\", \"9/18/20\", \"9/19/20\", \"9/20/20\", \"9/21/20\", \"9/22/20\", \"9/23/20\", \"9/24/20\", \"9/25/20\", \"9/26/20\", \"9/27/20\", \"9/28/20\", \"9/29/20\", \"9/30/20\", \"10/1/20\", \"10/2/20\", \"10/3/20\", \"10/4/20\", \"10/5/20\", \"10/6/20\", \"10/7/20\", \"10/8/20\", \"10/9/20\", \"10/10/20\", \"10/11/20\", \"10/12/20\", \"10/13/20\", \"10/14/20\", \"10/15/20\", \"10/16/20\", \"10/17/20\", \"10/18/20\", \"10/19/20\", \"10/20/20\", \"10/21/20\", \"10/22/20\", \"10/23/20\", \"10/24/20\", \"10/25/20\", \"10/26/20\", \"10/27/20\", \"10/28/20\", \"10/29/20\", \"10/30/20\", \"10/31/20\", \"11/1/20\", \"11/2/20\", \"11/3/20\", \"11/4/20\", \"11/5/20\", \"11/6/20\", \"11/7/20\", \"11/8/20\", \"11/9/20\", \"11/10/20\", \"11/11/20\", \"11/12/20\", \"11/13/20\", \"11/14/20\", \"11/15/20\"], \"xaxis\": \"x\", \"y\": [0.0, 0.0, 0.0, 0.0, 0.0, 0.0, 0.0, 0.0, 0.0, 0.0, 0.0, 0.0, 0.0, 0.0, 0.0, 0.0, 0.0, 0.0, 0.0, 0.0, 0.0, 0.0, 0.0, 0.0, 0.0, 0.0, 0.0, 0.0, 0.0, 0.0, 0.0, 0.0, 0.0, 0.0, 0.0, 0.0, 0.0, 0.0, 0.0, 0.0, 0.0, 0.0, 0.0, 0.0, 0.0, 0.0, 0.0, 0.0, 0.0, 1.0, 0.0, 3.0, 1.0, 0.0, 0.0, 0.0, 14.0, 6.0, 7.0, 6.0, 10.0, 1.0, 6.0, 3.0, 20.0, 9.0, 15.0, 12.0, 8.0, 14.0, 21.0, 13.0, 11.0, 10.0, 7.0, 11.0, 12.0, 19.0, 40.0, 26.0, 21.0, 46.0, 26.0, 60.0, 10.0, 27.0, 24.0, 15.0, 47.0, 8.0, 26.0, 19.0, 12.0, 42.0, 31.0, 23.0, 22.0, 8.0, 11.0, 8.0, 8.0, 31.0, 14.0, 19.0, 8.0, 23.0, 35.0, 13.0, 16.0, 14.0, 18.0, 16.0, 21.0, 15.0, 33.0, 13.0, 59.0, 43.0, 30.0, 21.0, 36.0, 48.0, 25.0, 21.0, 19.0, 27.0, 55.0, 23.0, 24.0, 53.0, 40.0, 28.0, 22.0, 35.0, 23.0, 49.0, 31.0, 50.0, 32.0, 40.0, 36.0, 41.0, 48.0, 43.0, 43.0, 64.0, 33.0, 45.0, 63.0, 34.0, 56.0, 36.0, 35.0, 35.0, 38.0, 47.0, 63.0, 37.0, 34.0, 51.0, 71.0, 58.0, 53.0, 49.0, 53.0, 82.0, 70.0, 68.0, 50.0, 58.0, 52.0, 66.0, 71.0, 50.0, 54.0, 87.0, 76.0, 84.0, 59.0, 127.0, 96.0, 81.0, 139.0, 117.0, 89.0, 49.0, 67.0, 57.0, 63.0, 74.0, 83.0, 73.0, 62.0, 43.0, 66.0, 86.0, 64.0, 69.0, 72.0, 65.0, 65.0, 42.0, 59.0, 79.0, 65.0, 53.0, 50.0, 79.0, 57.0, 70.0, 69.0, 72.0, 82.0, 94.0, 86.0, 79.0, 99.0, 86.0, 120.0, 105.0, 92.0, 82.0, 74.0, 88.0, 111.0, 134.0, 82.0, 108.0, 85.0, 105.0, 100.0, 106.0, 120.0, 88.0, 106.0, 73.0, 118.0, 124.0, 135.0, 122.0, 114.0, 112.0, 105.0, 124.0, 160.0, 140.0, 128.0, 113.0, 90.0, 78.0, 87.0, 128.0, 139.0, 116.0, 116.0, 83.0, 96.0, 102.0, 121.0, 98.0, 108.0, 97.0, 88.0, 79.0, 91.0, 92.0, 129.0, 112.0, 79.0, 84.0, 80.0, 106.0, 117.0, 123.0, 102.0, 118.0, 128.0, 94.0, 112.0, 101.0, 100.0, 89.0, 81.0, 87.0, 74.0, 101.0, 102.0, 113.0, 89.0, 94.0, 98.0, 74.0, 75.0, 72.0, 75.0, 97.0, 104.0, 111.0, 63.0], \"yaxis\": \"y\"}, {\"hovertemplate\": \"variable=daily_new_recovered<br>date=%{x}<br>value=%{y}<extra></extra>\", \"legendgroup\": \"daily_new_recovered\", \"line\": {\"color\": \"#00cc96\", \"dash\": \"solid\"}, \"mode\": \"lines\", \"name\": \"daily_new_recovered\", \"orientation\": \"v\", \"showlegend\": true, \"type\": \"scatter\", \"x\": [\"1/22/20\", \"1/23/20\", \"1/24/20\", \"1/25/20\", \"1/26/20\", \"1/27/20\", \"1/28/20\", \"1/29/20\", \"1/30/20\", \"1/31/20\", \"2/1/20\", \"2/2/20\", \"2/3/20\", \"2/4/20\", \"2/5/20\", \"2/6/20\", \"2/7/20\", \"2/8/20\", \"2/9/20\", \"2/10/20\", \"2/11/20\", \"2/12/20\", \"2/13/20\", \"2/14/20\", \"2/15/20\", \"2/16/20\", \"2/17/20\", \"2/18/20\", \"2/19/20\", \"2/20/20\", \"2/21/20\", \"2/22/20\", \"2/23/20\", \"2/24/20\", \"2/25/20\", \"2/26/20\", \"2/27/20\", \"2/28/20\", \"2/29/20\", \"3/1/20\", \"3/2/20\", \"3/3/20\", \"3/4/20\", \"3/5/20\", \"3/6/20\", \"3/7/20\", \"3/8/20\", \"3/9/20\", \"3/10/20\", \"3/11/20\", \"3/12/20\", \"3/13/20\", \"3/14/20\", \"3/15/20\", \"3/16/20\", \"3/17/20\", \"3/18/20\", \"3/19/20\", \"3/20/20\", \"3/21/20\", \"3/22/20\", \"3/23/20\", \"3/24/20\", \"3/25/20\", \"3/26/20\", \"3/27/20\", \"3/28/20\", \"3/29/20\", \"3/30/20\", \"3/31/20\", \"4/1/20\", \"4/2/20\", \"4/3/20\", \"4/4/20\", \"4/5/20\", \"4/6/20\", \"4/7/20\", \"4/8/20\", \"4/9/20\", \"4/10/20\", \"4/11/20\", \"4/12/20\", \"4/13/20\", \"4/14/20\", \"4/15/20\", \"4/16/20\", \"4/17/20\", \"4/18/20\", \"4/19/20\", \"4/20/20\", \"4/21/20\", \"4/22/20\", \"4/23/20\", \"4/24/20\", \"4/25/20\", \"4/26/20\", \"4/27/20\", \"4/28/20\", \"4/29/20\", \"4/30/20\", \"5/1/20\", \"5/2/20\", \"5/3/20\", \"5/4/20\", \"5/5/20\", \"5/6/20\", \"5/7/20\", \"5/8/20\", \"5/9/20\", \"5/10/20\", \"5/11/20\", \"5/12/20\", \"5/13/20\", \"5/14/20\", \"5/15/20\", \"5/16/20\", \"5/17/20\", \"5/18/20\", \"5/19/20\", \"5/20/20\", \"5/21/20\", \"5/22/20\", \"5/23/20\", \"5/24/20\", \"5/25/20\", \"5/26/20\", \"5/27/20\", \"5/28/20\", \"5/29/20\", \"5/30/20\", \"5/31/20\", \"6/1/20\", \"6/2/20\", \"6/3/20\", \"6/4/20\", \"6/5/20\", \"6/6/20\", \"6/7/20\", \"6/8/20\", \"6/9/20\", \"6/10/20\", \"6/11/20\", \"6/12/20\", \"6/13/20\", \"6/14/20\", \"6/15/20\", \"6/16/20\", \"6/17/20\", \"6/18/20\", \"6/19/20\", \"6/20/20\", \"6/21/20\", \"6/22/20\", \"6/23/20\", \"6/24/20\", \"6/25/20\", \"6/26/20\", \"6/27/20\", \"6/28/20\", \"6/29/20\", \"6/30/20\", \"7/1/20\", \"7/2/20\", \"7/3/20\", \"7/4/20\", \"7/5/20\", \"7/6/20\", \"7/7/20\", \"7/8/20\", \"7/9/20\", \"7/10/20\", \"7/11/20\", \"7/12/20\", \"7/13/20\", \"7/14/20\", \"7/15/20\", \"7/16/20\", \"7/17/20\", \"7/18/20\", \"7/19/20\", \"7/20/20\", \"7/21/20\", \"7/22/20\", \"7/23/20\", \"7/24/20\", \"7/25/20\", \"7/26/20\", \"7/27/20\", \"7/28/20\", \"7/29/20\", \"7/30/20\", \"7/31/20\", \"8/1/20\", \"8/2/20\", \"8/3/20\", \"8/4/20\", \"8/5/20\", \"8/6/20\", \"8/7/20\", \"8/8/20\", \"8/9/20\", \"8/10/20\", \"8/11/20\", \"8/12/20\", \"8/13/20\", \"8/14/20\", \"8/15/20\", \"8/16/20\", \"8/17/20\", \"8/18/20\", \"8/19/20\", \"8/20/20\", \"8/21/20\", \"8/22/20\", \"8/23/20\", \"8/24/20\", \"8/25/20\", \"8/26/20\", \"8/27/20\", \"8/28/20\", \"8/29/20\", \"8/30/20\", \"8/31/20\", \"9/1/20\", \"9/2/20\", \"9/3/20\", \"9/4/20\", \"9/5/20\", \"9/6/20\", \"9/7/20\", \"9/8/20\", \"9/9/20\", \"9/10/20\", \"9/11/20\", \"9/12/20\", \"9/13/20\", \"9/14/20\", \"9/15/20\", \"9/16/20\", \"9/17/20\", \"9/18/20\", \"9/19/20\", \"9/20/20\", \"9/21/20\", \"9/22/20\", \"9/23/20\", \"9/24/20\", \"9/25/20\", \"9/26/20\", \"9/27/20\", \"9/28/20\", \"9/29/20\", \"9/30/20\", \"10/1/20\", \"10/2/20\", \"10/3/20\", \"10/4/20\", \"10/5/20\", \"10/6/20\", \"10/7/20\", \"10/8/20\", \"10/9/20\", \"10/10/20\", \"10/11/20\", \"10/12/20\", \"10/13/20\", \"10/14/20\", \"10/15/20\", \"10/16/20\", \"10/17/20\", \"10/18/20\", \"10/19/20\", \"10/20/20\", \"10/21/20\", \"10/22/20\", \"10/23/20\", \"10/24/20\", \"10/25/20\", \"10/26/20\", \"10/27/20\", \"10/28/20\", \"10/29/20\", \"10/30/20\", \"10/31/20\", \"11/1/20\", \"11/2/20\", \"11/3/20\", \"11/4/20\", \"11/5/20\", \"11/6/20\", \"11/7/20\", \"11/8/20\", \"11/9/20\", \"11/10/20\", \"11/11/20\", \"11/12/20\", \"11/13/20\", \"11/14/20\", \"11/15/20\"], \"xaxis\": \"x\", \"y\": [0.0, 0.0, 0.0, 0.0, 0.0, 0.0, 0.0, 0.0, 0.0, 0.0, 0.0, 0.0, 0.0, 0.0, 0.0, 0.0, 0.0, 0.0, 0.0, 0.0, 0.0, 0.0, 0.0, 0.0, 0.0, 0.0, 0.0, 0.0, 0.0, 0.0, 0.0, 0.0, 0.0, 0.0, 0.0, 0.0, 0.0, 0.0, 0.0, 0.0, 0.0, 0.0, 0.0, 0.0, 0.0, 0.0, 0.0, 0.0, 2.0, 0.0, 0.0, 0.0, 6.0, 0.0, 0.0, 0.0, 3.0, 0.0, 4.0, 0.0, 14.0, 0.0, 1.0, 1.0, 4.0, 11.0, 13.0, 5.0, 11.0, 6.0, 22.0, 9.0, 22.0, 16.0, 14.0, 28.0, 12.0, 18.0, 30.0, 30.0, 4.0, 73.0, 21.0, 46.0, 20.0, 102.0, 59.0, 24.0, 55.0, 61.0, 95.0, 71.0, 47.0, 42.0, 40.0, 65.0, 44.0, 103.0, 137.0, 131.0, 69.0, 74.0, 211.0, 78.0, 243.0, 120.0, 64.0, 113.0, 113.0, 91.0, 183.0, 182.0, 224.0, 231.0, 285.0, 108.0, 218.0, 195.0, 143.0, 108.0, 263.0, 219.0, 192.0, 153.0, 240.0, 235.0, 180.0, 183.0, 252.0, 523.0, 293.0, 329.0, 298.0, 471.0, 486.0, 551.0, 464.0, 591.0, 406.0, 510.0, 715.0, 507.0, 577.0, 563.0, 755.0, 592.0, 580.0, 540.0, 555.0, 551.0, 534.0, 521.0, 331.0, 506.0, 417.0, 791.0, 884.0, 576.0, 1027.0, 864.0, 1006.0, 789.0, 1072.0, 901.0, 651.0, 886.0, 814.0, 866.0, 800.0, 1066.0, 878.0, 1190.0, 919.0, 1051.0, 947.0, 1414.0, 1295.0, 1489.0, 1434.0, 2133.0, 1576.0, 1489.0, 1789.0, 1909.0, 1781.0, 1409.0, 1301.0, 1518.0, 2366.0, 1599.0, 2154.0, 1615.0, 2012.0, 1056.0, 1262.0, 1813.0, 1839.0, 1756.0, 1912.0, 1749.0, 1646.0, 1284.0, 1474.0, 2088.0, 1760.0, 2060.0, 1703.0, 1782.0, 1355.0, 1848.0, 2351.0, 2017.0, 2317.0, 2207.0, 2302.0, 3560.0, 1807.0, 2542.0, 3166.0, 2325.0, 1902.0, 1383.0, 1774.0, 2098.0, 1914.0, 2084.0, 2126.0, 2220.0, 2174.0, 2077.0, 2306.0, 2242.0, 2310.0, 2707.0, 2241.0, 2552.0, 3395.0, 2660.0, 3036.0, 2585.0, 4088.0, 3576.0, 2977.0, 3470.0, 3501.0, 3660.0, 3895.0, 4343.0, 3207.0, 3611.0, 3856.0, 3567.0, 4510.0, 3540.0, 2853.0, 3712.0, 3401.0, 4140.0, 3844.0, 3854.0, 3769.0, 3607.0, 3814.0, 3546.0, 3492.0, 4777.0, 4555.0, 5810.0, 3883.0, 4048.0, 3732.0, 3919.0, 4410.0, 3856.0, 3497.0, 4094.0, 4119.0, 4545.0, 3908.0, 4576.0, 3545.0, 3985.0, 4517.0, 3506.0, 4141.0, 3624.0, 3931.0, 3785.0, 3860.0, 3563.0, 3712.0, 3881.0, 3968.0, 3475.0, 3241.0, 3102.0, 3010.0, 3000.0, 3897.0], \"yaxis\": \"y\"}],\n",
       "                        {\"legend\": {\"title\": {\"text\": \"variable\"}, \"tracegroupgap\": 0}, \"template\": {\"data\": {\"bar\": [{\"error_x\": {\"color\": \"#2a3f5f\"}, \"error_y\": {\"color\": \"#2a3f5f\"}, \"marker\": {\"line\": {\"color\": \"#E5ECF6\", \"width\": 0.5}}, \"type\": \"bar\"}], \"barpolar\": [{\"marker\": {\"line\": {\"color\": \"#E5ECF6\", \"width\": 0.5}}, \"type\": \"barpolar\"}], \"carpet\": [{\"aaxis\": {\"endlinecolor\": \"#2a3f5f\", \"gridcolor\": \"white\", \"linecolor\": \"white\", \"minorgridcolor\": \"white\", \"startlinecolor\": \"#2a3f5f\"}, \"baxis\": {\"endlinecolor\": \"#2a3f5f\", \"gridcolor\": \"white\", \"linecolor\": \"white\", \"minorgridcolor\": \"white\", \"startlinecolor\": \"#2a3f5f\"}, \"type\": \"carpet\"}], \"choropleth\": [{\"colorbar\": {\"outlinewidth\": 0, \"ticks\": \"\"}, \"type\": \"choropleth\"}], \"contour\": [{\"colorbar\": {\"outlinewidth\": 0, \"ticks\": \"\"}, \"colorscale\": [[0.0, \"#0d0887\"], [0.1111111111111111, \"#46039f\"], [0.2222222222222222, \"#7201a8\"], [0.3333333333333333, \"#9c179e\"], [0.4444444444444444, \"#bd3786\"], [0.5555555555555556, \"#d8576b\"], [0.6666666666666666, \"#ed7953\"], [0.7777777777777778, \"#fb9f3a\"], [0.8888888888888888, \"#fdca26\"], [1.0, \"#f0f921\"]], \"type\": \"contour\"}], \"contourcarpet\": [{\"colorbar\": {\"outlinewidth\": 0, \"ticks\": \"\"}, \"type\": \"contourcarpet\"}], \"heatmap\": [{\"colorbar\": {\"outlinewidth\": 0, \"ticks\": \"\"}, \"colorscale\": [[0.0, \"#0d0887\"], [0.1111111111111111, \"#46039f\"], [0.2222222222222222, \"#7201a8\"], [0.3333333333333333, \"#9c179e\"], [0.4444444444444444, \"#bd3786\"], [0.5555555555555556, \"#d8576b\"], [0.6666666666666666, \"#ed7953\"], [0.7777777777777778, \"#fb9f3a\"], [0.8888888888888888, \"#fdca26\"], [1.0, \"#f0f921\"]], \"type\": \"heatmap\"}], \"heatmapgl\": [{\"colorbar\": {\"outlinewidth\": 0, \"ticks\": \"\"}, \"colorscale\": [[0.0, \"#0d0887\"], [0.1111111111111111, \"#46039f\"], [0.2222222222222222, \"#7201a8\"], [0.3333333333333333, \"#9c179e\"], [0.4444444444444444, \"#bd3786\"], [0.5555555555555556, \"#d8576b\"], [0.6666666666666666, \"#ed7953\"], [0.7777777777777778, \"#fb9f3a\"], [0.8888888888888888, \"#fdca26\"], [1.0, \"#f0f921\"]], \"type\": \"heatmapgl\"}], \"histogram\": [{\"marker\": {\"colorbar\": {\"outlinewidth\": 0, \"ticks\": \"\"}}, \"type\": \"histogram\"}], \"histogram2d\": [{\"colorbar\": {\"outlinewidth\": 0, \"ticks\": \"\"}, \"colorscale\": [[0.0, \"#0d0887\"], [0.1111111111111111, \"#46039f\"], [0.2222222222222222, \"#7201a8\"], [0.3333333333333333, \"#9c179e\"], [0.4444444444444444, \"#bd3786\"], [0.5555555555555556, \"#d8576b\"], [0.6666666666666666, \"#ed7953\"], [0.7777777777777778, \"#fb9f3a\"], [0.8888888888888888, \"#fdca26\"], [1.0, \"#f0f921\"]], \"type\": \"histogram2d\"}], \"histogram2dcontour\": [{\"colorbar\": {\"outlinewidth\": 0, \"ticks\": \"\"}, \"colorscale\": [[0.0, \"#0d0887\"], [0.1111111111111111, \"#46039f\"], [0.2222222222222222, \"#7201a8\"], [0.3333333333333333, \"#9c179e\"], [0.4444444444444444, \"#bd3786\"], [0.5555555555555556, \"#d8576b\"], [0.6666666666666666, \"#ed7953\"], [0.7777777777777778, \"#fb9f3a\"], [0.8888888888888888, \"#fdca26\"], [1.0, \"#f0f921\"]], \"type\": \"histogram2dcontour\"}], \"mesh3d\": [{\"colorbar\": {\"outlinewidth\": 0, \"ticks\": \"\"}, \"type\": \"mesh3d\"}], \"parcoords\": [{\"line\": {\"colorbar\": {\"outlinewidth\": 0, \"ticks\": \"\"}}, \"type\": \"parcoords\"}], \"pie\": [{\"automargin\": true, \"type\": \"pie\"}], \"scatter\": [{\"marker\": {\"colorbar\": {\"outlinewidth\": 0, \"ticks\": \"\"}}, \"type\": \"scatter\"}], \"scatter3d\": [{\"line\": {\"colorbar\": {\"outlinewidth\": 0, \"ticks\": \"\"}}, \"marker\": {\"colorbar\": {\"outlinewidth\": 0, \"ticks\": \"\"}}, \"type\": \"scatter3d\"}], \"scattercarpet\": [{\"marker\": {\"colorbar\": {\"outlinewidth\": 0, \"ticks\": \"\"}}, \"type\": \"scattercarpet\"}], \"scattergeo\": [{\"marker\": {\"colorbar\": {\"outlinewidth\": 0, \"ticks\": \"\"}}, \"type\": \"scattergeo\"}], \"scattergl\": [{\"marker\": {\"colorbar\": {\"outlinewidth\": 0, \"ticks\": \"\"}}, \"type\": \"scattergl\"}], \"scattermapbox\": [{\"marker\": {\"colorbar\": {\"outlinewidth\": 0, \"ticks\": \"\"}}, \"type\": \"scattermapbox\"}], \"scatterpolar\": [{\"marker\": {\"colorbar\": {\"outlinewidth\": 0, \"ticks\": \"\"}}, \"type\": \"scatterpolar\"}], \"scatterpolargl\": [{\"marker\": {\"colorbar\": {\"outlinewidth\": 0, \"ticks\": \"\"}}, \"type\": \"scatterpolargl\"}], \"scatterternary\": [{\"marker\": {\"colorbar\": {\"outlinewidth\": 0, \"ticks\": \"\"}}, \"type\": \"scatterternary\"}], \"surface\": [{\"colorbar\": {\"outlinewidth\": 0, \"ticks\": \"\"}, \"colorscale\": [[0.0, \"#0d0887\"], [0.1111111111111111, \"#46039f\"], [0.2222222222222222, \"#7201a8\"], [0.3333333333333333, \"#9c179e\"], [0.4444444444444444, \"#bd3786\"], [0.5555555555555556, \"#d8576b\"], [0.6666666666666666, \"#ed7953\"], [0.7777777777777778, \"#fb9f3a\"], [0.8888888888888888, \"#fdca26\"], [1.0, \"#f0f921\"]], \"type\": \"surface\"}], \"table\": [{\"cells\": {\"fill\": {\"color\": \"#EBF0F8\"}, \"line\": {\"color\": \"white\"}}, \"header\": {\"fill\": {\"color\": \"#C8D4E3\"}, \"line\": {\"color\": \"white\"}}, \"type\": \"table\"}]}, \"layout\": {\"annotationdefaults\": {\"arrowcolor\": \"#2a3f5f\", \"arrowhead\": 0, \"arrowwidth\": 1}, \"coloraxis\": {\"colorbar\": {\"outlinewidth\": 0, \"ticks\": \"\"}}, \"colorscale\": {\"diverging\": [[0, \"#8e0152\"], [0.1, \"#c51b7d\"], [0.2, \"#de77ae\"], [0.3, \"#f1b6da\"], [0.4, \"#fde0ef\"], [0.5, \"#f7f7f7\"], [0.6, \"#e6f5d0\"], [0.7, \"#b8e186\"], [0.8, \"#7fbc41\"], [0.9, \"#4d9221\"], [1, \"#276419\"]], \"sequential\": [[0.0, \"#0d0887\"], [0.1111111111111111, \"#46039f\"], [0.2222222222222222, \"#7201a8\"], [0.3333333333333333, \"#9c179e\"], [0.4444444444444444, \"#bd3786\"], [0.5555555555555556, \"#d8576b\"], [0.6666666666666666, \"#ed7953\"], [0.7777777777777778, \"#fb9f3a\"], [0.8888888888888888, \"#fdca26\"], [1.0, \"#f0f921\"]], \"sequentialminus\": [[0.0, \"#0d0887\"], [0.1111111111111111, \"#46039f\"], [0.2222222222222222, \"#7201a8\"], [0.3333333333333333, \"#9c179e\"], [0.4444444444444444, \"#bd3786\"], [0.5555555555555556, \"#d8576b\"], [0.6666666666666666, \"#ed7953\"], [0.7777777777777778, \"#fb9f3a\"], [0.8888888888888888, \"#fdca26\"], [1.0, \"#f0f921\"]]}, \"colorway\": [\"#636efa\", \"#EF553B\", \"#00cc96\", \"#ab63fa\", \"#FFA15A\", \"#19d3f3\", \"#FF6692\", \"#B6E880\", \"#FF97FF\", \"#FECB52\"], \"font\": {\"color\": \"#2a3f5f\"}, \"geo\": {\"bgcolor\": \"white\", \"lakecolor\": \"white\", \"landcolor\": \"#E5ECF6\", \"showlakes\": true, \"showland\": true, \"subunitcolor\": \"white\"}, \"hoverlabel\": {\"align\": \"left\"}, \"hovermode\": \"closest\", \"mapbox\": {\"style\": \"light\"}, \"paper_bgcolor\": \"white\", \"plot_bgcolor\": \"#E5ECF6\", \"polar\": {\"angularaxis\": {\"gridcolor\": \"white\", \"linecolor\": \"white\", \"ticks\": \"\"}, \"bgcolor\": \"#E5ECF6\", \"radialaxis\": {\"gridcolor\": \"white\", \"linecolor\": \"white\", \"ticks\": \"\"}}, \"scene\": {\"xaxis\": {\"backgroundcolor\": \"#E5ECF6\", \"gridcolor\": \"white\", \"gridwidth\": 2, \"linecolor\": \"white\", \"showbackground\": true, \"ticks\": \"\", \"zerolinecolor\": \"white\"}, \"yaxis\": {\"backgroundcolor\": \"#E5ECF6\", \"gridcolor\": \"white\", \"gridwidth\": 2, \"linecolor\": \"white\", \"showbackground\": true, \"ticks\": \"\", \"zerolinecolor\": \"white\"}, \"zaxis\": {\"backgroundcolor\": \"#E5ECF6\", \"gridcolor\": \"white\", \"gridwidth\": 2, \"linecolor\": \"white\", \"showbackground\": true, \"ticks\": \"\", \"zerolinecolor\": \"white\"}}, \"shapedefaults\": {\"line\": {\"color\": \"#2a3f5f\"}}, \"ternary\": {\"aaxis\": {\"gridcolor\": \"white\", \"linecolor\": \"white\", \"ticks\": \"\"}, \"baxis\": {\"gridcolor\": \"white\", \"linecolor\": \"white\", \"ticks\": \"\"}, \"bgcolor\": \"#E5ECF6\", \"caxis\": {\"gridcolor\": \"white\", \"linecolor\": \"white\", \"ticks\": \"\"}}, \"title\": {\"x\": 0.05}, \"xaxis\": {\"automargin\": true, \"gridcolor\": \"white\", \"linecolor\": \"white\", \"ticks\": \"\", \"title\": {\"standoff\": 15}, \"zerolinecolor\": \"white\", \"zerolinewidth\": 2}, \"yaxis\": {\"automargin\": true, \"gridcolor\": \"white\", \"linecolor\": \"white\", \"ticks\": \"\", \"title\": {\"standoff\": 15}, \"zerolinecolor\": \"white\", \"zerolinewidth\": 2}}}, \"title\": {\"text\": \"Indonesia daily new cases\"}, \"xaxis\": {\"anchor\": \"y\", \"domain\": [0.0, 1.0], \"rangeslider\": {\"visible\": true}, \"title\": {\"text\": \"date\"}}, \"yaxis\": {\"anchor\": \"x\", \"domain\": [0.0, 1.0], \"title\": {\"text\": \"value\"}}},\n",
       "                        {\"responsive\": true}\n",
       "                    ).then(function(){\n",
       "                            \n",
       "var gd = document.getElementById('0879c9a0-d031-48d8-876b-c9fd29e23509');\n",
       "var x = new MutationObserver(function (mutations, observer) {{\n",
       "        var display = window.getComputedStyle(gd).display;\n",
       "        if (!display || display === 'none') {{\n",
       "            console.log([gd, 'removed!']);\n",
       "            Plotly.purge(gd);\n",
       "            observer.disconnect();\n",
       "        }}\n",
       "}});\n",
       "\n",
       "// Listen for the removal of the full notebook cells\n",
       "var notebookContainer = gd.closest('#notebook-container');\n",
       "if (notebookContainer) {{\n",
       "    x.observe(notebookContainer, {childList: true});\n",
       "}}\n",
       "\n",
       "// Listen for the clearing of the current output cell\n",
       "var outputEl = gd.closest('.output');\n",
       "if (outputEl) {{\n",
       "    x.observe(outputEl, {childList: true});\n",
       "}}\n",
       "\n",
       "                        })\n",
       "                };\n",
       "                });\n",
       "            </script>\n",
       "        </div>"
      ]
     },
     "metadata": {},
     "output_type": "display_data"
    }
   ],
   "source": [
    "#Plotly plot 3a per country time series chart for daily new cases, recovered, and deaths\n",
    "# I use Indonesia data\n",
    "df = get_by_country_merged(total_confirmed, total_death, total_recovered, \"Indonesia\")\n",
    "#column name: date\tvalue_confirmed\tdaily_new_confirmed\tvalue_death\tdaily_new_death\tvalue_recovered\tdaily_new_recovered\n",
    "\n",
    "fig = px.line(df, x='date', y=['daily_new_confirmed','daily_new_death', 'daily_new_recovered'], title='Indonesia daily new cases')\n",
    "\n",
    "fig.update_xaxes(rangeslider_visible=True)\n",
    "fig.show()"
   ]
  },
  {
   "cell_type": "markdown",
   "metadata": {},
   "source": [
    "### [Back to table of content](#main)"
   ]
  },
  {
   "cell_type": "markdown",
   "metadata": {},
   "source": [
    "## 4. Put all of it into functions <a name=\"ch4\"></a>"
   ]
  },
  {
   "cell_type": "markdown",
   "metadata": {},
   "source": [
    "### 4.1 Data Preprocessing"
   ]
  },
  {
   "cell_type": "code",
   "execution_count": null,
   "metadata": {},
   "outputs": [],
   "source": [
    "#loading data\n",
    "def load_data():\n",
    "    \n",
    "    #loading data\n",
    "    total_confirmed=pd.read_csv('https://raw.githubusercontent.com/CSSEGISandData/COVID-19/master/csse_covid_19_data/csse_covid_19_time_series/time_series_covid19_confirmed_global.csv',encoding='utf-8',na_values=None)\n",
    "    #Replace US with United States\n",
    "    total_confirmed.replace(to_replace='US', value='United States', regex=True, inplace=True)\n",
    "    total_death=pd.read_csv('https://raw.githubusercontent.com/CSSEGISandData/COVID-19/master/csse_covid_19_data/csse_covid_19_time_series/time_series_covid19_deaths_global.csv',encoding='utf-8',na_values=None)\n",
    "    total_death.replace(to_replace='US', value='United States', regex=True, inplace=True)\n",
    "    total_recovered=pd.read_csv('https://raw.githubusercontent.com/CSSEGISandData/COVID-19/master/csse_covid_19_data/csse_covid_19_time_series/time_series_covid19_recovered_global.csv',encoding='utf-8',na_values=None)\n",
    "    total_recovered.replace(to_replace='US', value='United States', regex=True, inplace=True)\n",
    "    \n",
    "    # I need data that contain population for each country to calculate confirmed cases/population\n",
    "    # I download it from : https://github.com/samayo/country-json/blob/master/src/country-by-population.json\n",
    "    df_pop = pd.read_json('https://raw.githubusercontent.com/samayo/country-json/master/src/country-by-population.json')\n",
    "    #some country name has different  format, so I need to change it to match my first dataset\n",
    "    df_pop.columns=['Country/Region','population']\n",
    "    df_pop=df_pop.replace(to_replace='Russian Federation', value='Russia')\n",
    "    \n",
    "    # total confirmed cases globally\n",
    "    total_all_confirmed = total_confirmed[total_confirmed.columns[-1]].sum()\n",
    "    total_all_recovered= total_recovered[total_recovered.columns[-1]].sum()\n",
    "    total_all_deaths = total_death[total_death.columns[-1]].sum()\n",
    "    return total_confirmed, total_death, total_recovered, df_pop, total_all_confirmed, total_all_recovered, total_all_deaths\n"
   ]
  },
  {
   "cell_type": "code",
   "execution_count": null,
   "metadata": {},
   "outputs": [],
   "source": [
    "def preprocessed_data(total_confirmed, total_death, total_recovered):\n",
    "    #grouped total confirmed data\n",
    "    grouped_total_confirmed = total_confirmed[[\"Country/Region\",total_confirmed.columns[-1]]].groupby(\"Country/Region\").sum().sort_values(by=total_confirmed.columns[-1], ascending=False)\n",
    "    grouped_total_confirmed.reset_index(inplace=True)\n",
    "    grouped_total_confirmed.columns=[\"Country/Region\", 'confirmed']\n",
    "    grouped_total_confirmed.replace(to_replace='US', value='United States', regex=True, inplace=True)\n",
    "\n",
    "    #Chart.js can't plot dataframe object, so we need to change some to list\n",
    "    barplot_confirmed_values=grouped_total_confirmed[\"confirmed\"].values.tolist()\n",
    "    country_names=grouped_total_confirmed[\"Country/Region\"].values.tolist()\n",
    "    \n",
    "\n",
    "    #global time series confirmed data frame\n",
    "    global_confirmed_timeseries = pd.DataFrame(total_confirmed[total_confirmed.columns[4:]].sum())\n",
    "    global_confirmed_timeseries.reset_index(inplace=True)\n",
    "    global_confirmed_timeseries.columns= ['date', 'total confirmed']\n",
    "\n",
    "    #global daily new cases = global daily confirmed at date (t) -  global daily confirmed at date (t-1)\n",
    "    global_confirmed_timeseries[\"daily new cases\"] = global_confirmed_timeseries['total confirmed'] - global_confirmed_timeseries['total confirmed'].shift()\n",
    "    global_confirmed_timeseries=global_confirmed_timeseries.fillna(0)\n",
    "    \n",
    "\n",
    "    #grouped total recovered data\n",
    "    grouped_total_recovered = total_recovered[[\"Country/Region\",total_recovered.columns[-1]]].groupby(\"Country/Region\").sum().sort_values(by=total_recovered.columns[-1], ascending=False)\n",
    "    grouped_total_recovered.reset_index(inplace=True)\n",
    "    grouped_total_recovered.columns=[\"Country/Region\", 'recovered']\n",
    "    grouped_total_recovered.replace(to_replace='US', value='United States', regex=True, inplace=True)\n",
    "\n",
    "    #Chart.js can't plot dataframe object, so we need to change some to list\n",
    "    barplot_recovered_values=grouped_total_recovered[\"recovered\"].values.tolist()\n",
    "    country_names=grouped_total_confirmed[\"Country/Region\"].values.tolist()\n",
    "    \n",
    "\n",
    "    #global time series recovered data frame\n",
    "    global_recovered_timeseries = pd.DataFrame(total_recovered[total_recovered.columns[4:]].sum())\n",
    "    global_recovered_timeseries.reset_index(inplace=True)\n",
    "    global_recovered_timeseries.columns= ['date', 'total recovered']\n",
    "\n",
    "    #global daily recovered = global daily recovered at date (t) -  global daily recovered at date (t-1)\n",
    "    global_recovered_timeseries[\"daily new recovered\"] = global_recovered_timeseries['total recovered'] - global_recovered_timeseries['total recovered'].shift()\n",
    "    global_recovered_timeseries=global_recovered_timeseries.fillna(0)\n",
    "    \n",
    "\n",
    "    # grouping the data by each country to get total confirmed cases\n",
    "    grouped_total_death = total_death[[\"Country/Region\",total_death.columns[-1]]].groupby(\"Country/Region\").sum().sort_values(by=total_death.columns[-1], ascending=False)\n",
    "    grouped_total_death.reset_index(inplace=True)\n",
    "    grouped_total_death.columns=[\"Country/Region\", 'deaths']\n",
    "    grouped_total_death.replace(to_replace='US', value='United States', regex=True, inplace=True)\n",
    "\n",
    "    #Chart.js can't plot dataframe object, so we need to change some to list\n",
    "    barplot_death_values=grouped_total_death[\"deaths\"].values.tolist()\n",
    "    global_death_timeseries = total_death[total_death.columns[4:]].sum()\n",
    "    \n",
    "    #global time series death data frame\n",
    "    global_death_timeseries = pd.DataFrame(total_death[total_death.columns[4:]].sum())\n",
    "    global_death_timeseries.reset_index(inplace=True)\n",
    "    global_death_timeseries.columns= ['date', 'total deaths']\n",
    "\n",
    "    #global daily deaths = global daily deaths at date (t) -  global daily deaths at date (t-1)\n",
    "    global_death_timeseries[\"daily new deaths\"] = global_death_timeseries['total deaths'] - global_death_timeseries['total deaths'].shift()\n",
    "    global_death_timeseries=global_death_timeseries.fillna(0)\n",
    "    global_death_timeseries\n",
    "\n",
    "\n",
    "    #merge all the data to get full time series dataframe\n",
    "    timeseries_final=pd.merge(global_confirmed_timeseries,global_recovered_timeseries,how='inner',on='date')\n",
    "    timeseries_final = pd.merge(timeseries_final,global_death_timeseries,how='inner',on='date')\n",
    "    timeseries_final\n",
    "    return grouped_total_confirmed,grouped_total_recovered,grouped_total_death, timeseries_final, country_names"
   ]
  },
  {
   "cell_type": "code",
   "execution_count": null,
   "metadata": {},
   "outputs": [],
   "source": [
    "def merge_data(grouped_total_confirmed, grouped_total_recovered, grouped_total_death):\n",
    "# I also need country code for geographical analysis, Altair need numerical code and Plotly need alfabetical code\n",
    "    #country code and id for later geographical analysis\n",
    "    url = \"https://gist.githubusercontent.com/komasaru/9303029/raw/9ea6e5900715afec6ce4ff79a0c4102b09180ddd/iso_3166_1.csv\"\n",
    "    country_code = pd.read_csv(url)\n",
    "    country_code = country_code[[\"English short name\",\"Alpha-3 code\",\"Numeric\"]]\n",
    "    country_code.columns=[\"Country/Region\", \"code3\", \"id\"]\n",
    "\n",
    "    #Change the data for later merging\n",
    "    #If not match the value will be deleted, so we need to make sure each country name from each table has same value\n",
    "    country_code=country_code.replace(to_replace='Russian Federation (the)', value='Russia')\n",
    "    country_code=country_code.replace(to_replace='United Kingdom (the)', value='United Kingdom')\n",
    "    country_code=country_code.replace(to_replace='United States (the)', value='United States')\n",
    "    country_code=country_code.replace(to_replace='Viet Nam', value='Vietnam')\n",
    "\n",
    "    # merge them all\n",
    "    final_df=pd.merge(grouped_total_confirmed,grouped_total_recovered,how='inner',on='Country/Region')\n",
    "    final_df=pd.merge(final_df,grouped_total_death,how='inner',on='Country/Region')\n",
    "    final_df=pd.merge(final_df,df_pop,how='inner',on='Country/Region')\n",
    "    final_df=pd.merge(country_code2,final_df,how='inner',on='Country/Region')\n",
    "    final_df = final_df.sort_values(by=\"confirmed\", ascending=False)\n",
    "    final_df.reset_index(inplace=True, drop=True)\n",
    "    final_df.to_json(\"new_map.json\")\n",
    "\n",
    "    # calculate cases/million and total death rate\n",
    "    final_df['cases/million'] = ((final_df['confirmed']/final_df['population'])*1000000).round(2)\n",
    "    final_df['death rate(%)'] = ((final_df['deaths']/final_df['confirmed'])*100).round(2)\n",
    "\n",
    "    return final_df\n"
   ]
  },
  {
   "cell_type": "markdown",
   "metadata": {},
   "source": [
    "### 4.2 Plotting"
   ]
  },
  {
   "cell_type": "code",
   "execution_count": null,
   "metadata": {},
   "outputs": [],
   "source": [
    "def altair_global_cases_per_country(final_df):\n",
    "# Plot Altair 1: Per country total cases and cases/million populations\n",
    "\n",
    "    source = final_df\n",
    "\n",
    "    #base configuration\n",
    "    base = alt.Chart(source).encode(\n",
    "            alt.X('Country/Region:N',sort=None), tooltip=['Country/Region', 'confirmed', 'cases/million']\n",
    "    )\n",
    "\n",
    "    #bar chart\n",
    "    bar = base.mark_bar(color='#5276A7').encode(\n",
    "        alt.Y('confirmed:Q', axis=alt.Axis(titleColor='#5276A7'))\n",
    "    )\n",
    "    #point for cases/million and its axis\n",
    "    point = base.mark_circle(size=60, color='red').encode(\n",
    "        alt.Y('cases/million:Q', axis=alt.Axis(titleColor='red'))\n",
    "    )\n",
    "    #merge the plot\n",
    "    chart = alt.layer(bar, point).resolve_scale(y='independent')\n",
    "    chart_json = chart.to_json()\n",
    "    return chart_json"
   ]
  },
  {
   "cell_type": "code",
   "execution_count": null,
   "metadata": {},
   "outputs": [],
   "source": [
    "def altair_global_time_series(timeseries_final):\n",
    "    #Plot Altair 6; Global time series chart for daily new cases, recovered, and deaths - version 3 (more fancy selector)\n",
    "    #declare data and initialization\n",
    "    data = timeseries_final\n",
    "\n",
    "    #specifying form of data; read: https://altair-viz.github.io/user_guide/data.html#long-form-vs-wide-form-data\n",
    "    base = alt.Chart(data).transform_fold(\n",
    "        ['daily new cases', 'daily new recovered', 'daily new deaths']\n",
    "    )\n",
    "\n",
    "    # Create a selection that chooses the nearest point & selects based on x-value\n",
    "    nearest = alt.selection(type='single', nearest=True, on='mouseover',\n",
    "                            fields=['date'], empty='none')\n",
    "\n",
    "    # The basic line\n",
    "    line = base.mark_line().encode(\n",
    "        x='date:T',\n",
    "        y=alt.Y('value:Q', axis=alt.Axis(title='# of cases')),\n",
    "        color='key:N',\n",
    "\n",
    "    )\n",
    "\n",
    "    # Transparent selectors across the chart. This is what tells us\n",
    "    # the x-value of the cursor\n",
    "    selectors = base.mark_point().encode(\n",
    "        x='date:T',\n",
    "        opacity=alt.value(0),\n",
    "        tooltip=[ alt.Tooltip('yearmonthdate(date)', title=\"Date\")]\n",
    "    ).add_selection(\n",
    "        nearest\n",
    "    )\n",
    "\n",
    "    # Draw points on the line, and highlight based on selection\n",
    "    points = line.mark_point().encode(\n",
    "        opacity=alt.condition(nearest, alt.value(1), alt.value(0))\n",
    "    )\n",
    "\n",
    "    # Draw text labels near the points, and highlight based on selection\n",
    "    text = line.mark_text(align='left', dx=5, dy=-5).encode(\n",
    "        text=alt.condition(nearest, 'value:Q', alt.value(' '))\n",
    "    )\n",
    "\n",
    "    # Draw a rule at the location of the selection\n",
    "    rules = alt.Chart(data).mark_rule(color='gray').encode(\n",
    "        x='date:T',\n",
    "\n",
    "    ).transform_filter(\n",
    "        nearest\n",
    "    )\n",
    "\n",
    "    # Put the five layers into a chart and bind the data\n",
    "    chart = alt.layer(\n",
    "        line, selectors, points, rules, text\n",
    "    ).properties(\n",
    "        width=900, height=300\n",
    "    )\n",
    "    chart_json = chart.to_json()\n",
    "    return chart_json"
   ]
  },
  {
   "cell_type": "code",
   "execution_count": 48,
   "metadata": {},
   "outputs": [],
   "source": [
    "def  altair_per_country_time_series(total_confirmed, total_death, total_recovered, country_name):\n",
    "    #Plot Altair 6a; per_country time series chart for daily new cases, recovered, and deaths - version 3 (more fancy selector)\n",
    "    # I use US data\n",
    "\n",
    "    #declare data and initialization\n",
    "    data = get_by_country_merged(total_confirmed, total_death, total_recovered, country_name)\n",
    "    #column name: date\tvalue_confirmed\tdaily_new_confirmed\tvalue_death\tdaily_new_death\tvalue_recovered\tdaily_new_recovered\n",
    "\n",
    "    #specifying form of data; read: https://altair-viz.github.io/user_guide/data.html#long-form-vs-wide-form-data\n",
    "    base = alt.Chart(data).transform_fold(\n",
    "        ['daily_new_confirmed', 'daily_new_recovered', 'daily_new_death']\n",
    "    )\n",
    "\n",
    "    # Create a selection that chooses the nearest point & selects based on x-value\n",
    "    nearest = alt.selection(type='single', nearest=True, on='mouseover',\n",
    "                            fields=['date'], empty='none')\n",
    "\n",
    "    # The basic line\n",
    "    line = base.mark_line().encode(\n",
    "        x='date:T',\n",
    "        y=alt.Y('value:Q', axis=alt.Axis(title='# of cases')),\n",
    "        color='key:N',\n",
    "\n",
    "    )\n",
    "\n",
    "    # Transparent selectors across the chart. This is what tells us\n",
    "    # the x-value of the cursor\n",
    "    selectors = base.mark_point().encode(\n",
    "        x='date:T',\n",
    "        opacity=alt.value(0),\n",
    "        tooltip=[ alt.Tooltip('yearmonthdate(date)', title=\"Date\")]\n",
    "    ).add_selection(\n",
    "        nearest\n",
    "    )\n",
    "\n",
    "    # Draw points on the line, and highlight based on selection\n",
    "    points = line.mark_point().encode(\n",
    "        opacity=alt.condition(nearest, alt.value(1), alt.value(0))\n",
    "    )\n",
    "\n",
    "    # Draw text labels near the points, and highlight based on selection\n",
    "    text = line.mark_text(align='left', dx=5, dy=-5).encode(\n",
    "        text=alt.condition(nearest, 'value:Q', alt.value(' '))\n",
    "    )\n",
    "\n",
    "    # Draw a rule at the location of the selection\n",
    "    rules = alt.Chart(data).mark_rule(color='gray').encode(\n",
    "        x='date:T',\n",
    "\n",
    "    ).transform_filter(\n",
    "        nearest\n",
    "    )\n",
    "\n",
    "    # Put the five layers into a chart and bind the data\n",
    "    chart = alt.layer(\n",
    "        line, selectors, points, rules, text\n",
    "    ).properties(\n",
    "        width=900, height=300\n",
    "    )\n",
    "    chart\n",
    "    chart_json = chart.to_json()\n",
    "    return chart_json"
   ]
  },
  {
   "cell_type": "code",
   "execution_count": null,
   "metadata": {},
   "outputs": [],
   "source": [
    "#Plot Altair 7 geographical analysis; ref : https://github.com/altair-viz/altair/issues/2044\n",
    "def altair_geo_analysis(final_df):\n",
    "    world_source = final_df\n",
    "\n",
    "    source = alt.topo_feature(data.world_110m.url, \"countries\")\n",
    "    background = alt.Chart(source).mark_geoshape(fill=\"white\")\n",
    "\n",
    "    foreground = (\n",
    "        alt.Chart(source)\n",
    "        .mark_geoshape(stroke=\"black\", strokeWidth=0.15)\n",
    "        .encode(\n",
    "            color=alt.Color(\n",
    "                \"confirmed:N\", scale=alt.Scale(scheme=\"redpurple\"), legend=None,\n",
    "            ),\n",
    "            tooltip=[\n",
    "                alt.Tooltip(\"Country/Region:N\", title=\"Country\"),\n",
    "                alt.Tooltip(\"confirmed:Q\", title=\"confirmed cases\"),\n",
    "            ],\n",
    "\n",
    "        ).transform_lookup(\n",
    "            lookup=\"id\",\n",
    "            from_=alt.LookupData(world_source, \"id\", [\"confirmed\", \"Country/Region\"]),\n",
    "        )\n",
    "    )\n",
    "\n",
    "    final_map = (\n",
    "        (background + foreground)\n",
    "        .configure_view(strokeWidth=0)\n",
    "        .properties(width=700, height=400)\n",
    "        .project(\"naturalEarth1\")\n",
    "    )\n",
    "    final_map_json = final_map.to_json()\n",
    "    return final_map_json\n"
   ]
  },
  {
   "cell_type": "code",
   "execution_count": null,
   "metadata": {},
   "outputs": [],
   "source": [
    "#Plotly plot 1: Geographical analysis\n",
    "\n",
    "def plotly_geo_analysis(final_df):\n",
    "    df = final_df\n",
    "\n",
    "    fig = go.Figure(data=go.Choropleth(\n",
    "        locations = df['code3'],\n",
    "        z = df['cases/million'],\n",
    "        text = df['Country/Region'],\n",
    "        colorscale = 'Darkmint',\n",
    "        autocolorscale=False,\n",
    "        reversescale=False,\n",
    "        marker_line_color='darkgray',\n",
    "        marker_line_width=0.5,\n",
    "        colorbar_tickprefix = '',\n",
    "        colorbar_title = '#cases <br>per million populations',\n",
    "    ))\n",
    "\n",
    "    fig.update_layout(\n",
    "        title_text='Covid 19 confirmed cases',\n",
    "        geo=dict(\n",
    "            showframe=False,\n",
    "            showcoastlines=False,\n",
    "            projection_type='equirectangular'\n",
    "        ),\n",
    "        annotations = [dict(\n",
    "            x=0.55,\n",
    "            y=0.1,\n",
    "            xref='paper',\n",
    "            yref='paper',\n",
    "            text='Source: <a href=\"https://github.com/CSSEGISandData/COVID-19\">\\\n",
    "                CSSE at Johns Hopkins University</a>',\n",
    "            showarrow = False\n",
    "        )]\n",
    "    )\n",
    "    plot_json = json.dumps(fig, cls=plotly.utils.PlotlyJSONEncoder)\n",
    "    return plot_json\n"
   ]
  },
  {
   "cell_type": "code",
   "execution_count": null,
   "metadata": {},
   "outputs": [],
   "source": [
    "def global_cases_per_country(final_df):\n",
    "# Plotly plot 2: Per country total cases and cases/million populations\n",
    "\n",
    "    df = final_df\n",
    "    #print(df.head())\n",
    "    df.index = df['Country/Region']\n",
    "    fig = go.Figure()\n",
    "    fig = make_subplots(specs=[[{\"secondary_y\": True}]])\n",
    "\n",
    "    fig.add_trace(\n",
    "      go.Bar(\n",
    "          x=df.index,\n",
    "          y=df[\"confirmed\"],\n",
    "          name=\"# of confirmed cases\",\n",
    "          marker_color='#39ac39',\n",
    "          opacity=1\n",
    "      ),\n",
    "      secondary_y=False\n",
    "    )\n",
    "\n",
    "    fig.add_trace(\n",
    "      go.Scatter(\n",
    "          x=df.index,\n",
    "          y=df[\"cases/million\"],\n",
    "          mode=\"lines\",\n",
    "          name=\"cases/million\",\n",
    "          marker_color='#b23434',\n",
    "          opacity=0.7\n",
    "      ),\n",
    "      secondary_y=True\n",
    "    )\n",
    "\n",
    "    # Add figure title\n",
    "    fig.update_layout(legend=dict(\n",
    "      orientation=\"h\",\n",
    "      yanchor=\"bottom\",\n",
    "      y=1.02,\n",
    "      xanchor=\"right\",\n",
    "      x=0.93),\n",
    "      title={\n",
    "      'text': '<span style=\"font-size: 20px;\">Global aggregate cases</span><br><span style=\"font-size: 10px;\">(click and drag)</span>',\n",
    "      'y': 0.97,\n",
    "      'x': 0.45,\n",
    "      'xanchor': 'center',\n",
    "      'yanchor': 'top'},\n",
    "      paper_bgcolor=\"#ffffff\",\n",
    "      plot_bgcolor=\"#ffffff\",\n",
    "      width=1500, height=700\n",
    "    )\n",
    "\n",
    "\n",
    "    # Set x-axis title\n",
    "    fig.update_xaxes( tickangle=45)\n",
    "\n",
    "    # Set y-axes titles\n",
    "    fig.update_yaxes(title_text=\"# of confirmed cases\",\n",
    "                   secondary_y=False, showgrid=False)\n",
    "    fig.update_yaxes(title_text=\"cases/millions\", tickangle=45 , secondary_y=True, showgrid=False)\n",
    "    plot_json = json.dumps(fig, cls=plotly.utils.PlotlyJSONEncoder)\n",
    "    return plot_json"
   ]
  },
  {
   "cell_type": "code",
   "execution_count": null,
   "metadata": {},
   "outputs": [],
   "source": [
    "def plotly_global_timeseries(timeseries_final):\n",
    "    #Plotly plot 3: Global time series chart for daily new cases, recovered, and deaths\n",
    "    df = timeseries_final\n",
    "    #notice that I use plotly express (px) not graph_objects as before, just for more variances\n",
    "    fig = px.line(df, x='date', y=['daily new cases','daily new recovered', 'daily new deaths'], title='Global daily new cases')\n",
    "\n",
    "    fig = fig.update_xaxes(rangeslider_visible=True)\n",
    "    fig.update_layout(width=1500, height=500)\n",
    "    plot_json = json.dumps(fig, cls=plotly.utils.PlotlyJSONEncoder)\n",
    "    return plot_json\n"
   ]
  },
  {
   "cell_type": "code",
   "execution_count": 50,
   "metadata": {},
   "outputs": [],
   "source": [
    "def plotly_per_country_time_series(total_confirmed, total_death, total_recovered, country_name):\n",
    "    #Plotly plot 3a per country time series chart for daily new cases, recovered, and deaths\n",
    "    # I use Indonesia data\n",
    "    df = get_by_country_merged(total_confirmed, total_death, total_recovered, country_name)\n",
    "    #column name: date\tvalue_confirmed\tdaily_new_confirmed\tvalue_death\tdaily_new_death\tvalue_recovered\tdaily_new_recovered\n",
    "\n",
    "    fig = px.line(df, x='date', y=['daily_new_confirmed','daily_new_death', 'daily_new_recovered'], title=f'{country_name} daily new cases')\n",
    "\n",
    "    fig.update_xaxes(rangeslider_visible=True)\n",
    "    fig.update_layout(width=1500, height=500)\n",
    "    plot_json = json.dumps(fig, cls=plotly.utils.PlotlyJSONEncoder)\n",
    "    return plot_json"
   ]
  },
  {
   "cell_type": "markdown",
   "metadata": {},
   "source": [
    "### 4.3 Other functions"
   ]
  },
  {
   "cell_type": "code",
   "execution_count": null,
   "metadata": {},
   "outputs": [],
   "source": [
    "# function to filter timeseries analysis by country\n",
    "# I use \"case\" variable just for column name: e.g, case = confirmed, case = deaths\n",
    "def get_by_country(df, country, case):\n",
    "    mask = (df['Country/Region'] == country) \n",
    "    df = df.loc[mask]\n",
    "    df_country = df.groupby(\"Country/Region\").sum()\n",
    "    df_country = pd.DataFrame(df[df.columns[4:]].sum())\n",
    "    df_country.reset_index(inplace=True)\n",
    "    df_country.columns=['date', f\"value_{case}\"]\n",
    "    df_country[f\"daily_new_{case}\"] = df_country[f\"value_{case}\"] - df_country[f\"value_{case}\"].shift()\n",
    "    df_country=df_country.fillna(0)\n",
    "    return df_country\n",
    "\n",
    "\n",
    "#use function above to get merged dataframe\n",
    "def get_by_country_merged(total_confirmed, total_death, total_recovered, country):\n",
    "    #apply to each timeseries\n",
    "    country_confirmed_tseries = get_by_country(total_confirmed, country, \"confirmed\" )\n",
    "    country_death_tseries = get_by_country(total_death, country, \"death\" )\n",
    "    country_recovered_tseries = get_by_country(total_recovered, country, \"recovered\" )\n",
    "    \n",
    "    #merge them all\n",
    "    country_timeseries_final=pd.merge(country_confirmed_tseries,country_death_tseries,how='inner',on='date')\n",
    "    country_timeseries_final = pd.merge(country_timeseries_final,country_recovered_tseries,how='inner',on='date')\n",
    "    country_timeseries_final\n",
    "    return country_timeseries_final"
   ]
  },
  {
   "cell_type": "code",
   "execution_count": 67,
   "metadata": {},
   "outputs": [
    {
     "data": {
      "text/html": [
       "<div>\n",
       "<style scoped>\n",
       "    .dataframe tbody tr th:only-of-type {\n",
       "        vertical-align: middle;\n",
       "    }\n",
       "\n",
       "    .dataframe tbody tr th {\n",
       "        vertical-align: top;\n",
       "    }\n",
       "\n",
       "    .dataframe thead th {\n",
       "        text-align: right;\n",
       "    }\n",
       "</style>\n",
       "<table border=\"1\" class=\"dataframe\">\n",
       "  <thead>\n",
       "    <tr style=\"text-align: right;\">\n",
       "      <th></th>\n",
       "      <th>date</th>\n",
       "      <th>value_confirmed</th>\n",
       "      <th>daily_new_confirmed</th>\n",
       "      <th>value_death</th>\n",
       "      <th>daily_new_death</th>\n",
       "      <th>value_recovered</th>\n",
       "      <th>daily_new_recovered</th>\n",
       "    </tr>\n",
       "  </thead>\n",
       "  <tbody>\n",
       "    <tr>\n",
       "      <th>0</th>\n",
       "      <td>1/22/20</td>\n",
       "      <td>548</td>\n",
       "      <td>0.0</td>\n",
       "      <td>17</td>\n",
       "      <td>0.0</td>\n",
       "      <td>28</td>\n",
       "      <td>0.0</td>\n",
       "    </tr>\n",
       "    <tr>\n",
       "      <th>1</th>\n",
       "      <td>1/23/20</td>\n",
       "      <td>643</td>\n",
       "      <td>95.0</td>\n",
       "      <td>18</td>\n",
       "      <td>1.0</td>\n",
       "      <td>30</td>\n",
       "      <td>2.0</td>\n",
       "    </tr>\n",
       "    <tr>\n",
       "      <th>2</th>\n",
       "      <td>1/24/20</td>\n",
       "      <td>920</td>\n",
       "      <td>277.0</td>\n",
       "      <td>26</td>\n",
       "      <td>8.0</td>\n",
       "      <td>36</td>\n",
       "      <td>6.0</td>\n",
       "    </tr>\n",
       "    <tr>\n",
       "      <th>3</th>\n",
       "      <td>1/25/20</td>\n",
       "      <td>1406</td>\n",
       "      <td>486.0</td>\n",
       "      <td>42</td>\n",
       "      <td>16.0</td>\n",
       "      <td>39</td>\n",
       "      <td>3.0</td>\n",
       "    </tr>\n",
       "    <tr>\n",
       "      <th>4</th>\n",
       "      <td>1/26/20</td>\n",
       "      <td>2075</td>\n",
       "      <td>669.0</td>\n",
       "      <td>56</td>\n",
       "      <td>14.0</td>\n",
       "      <td>49</td>\n",
       "      <td>10.0</td>\n",
       "    </tr>\n",
       "    <tr>\n",
       "      <th>...</th>\n",
       "      <td>...</td>\n",
       "      <td>...</td>\n",
       "      <td>...</td>\n",
       "      <td>...</td>\n",
       "      <td>...</td>\n",
       "      <td>...</td>\n",
       "      <td>...</td>\n",
       "    </tr>\n",
       "    <tr>\n",
       "      <th>295</th>\n",
       "      <td>11/12/20</td>\n",
       "      <td>91783</td>\n",
       "      <td>31.0</td>\n",
       "      <td>4742</td>\n",
       "      <td>0.0</td>\n",
       "      <td>86488</td>\n",
       "      <td>37.0</td>\n",
       "    </tr>\n",
       "    <tr>\n",
       "      <th>296</th>\n",
       "      <td>11/13/20</td>\n",
       "      <td>91807</td>\n",
       "      <td>24.0</td>\n",
       "      <td>4742</td>\n",
       "      <td>0.0</td>\n",
       "      <td>86518</td>\n",
       "      <td>30.0</td>\n",
       "    </tr>\n",
       "    <tr>\n",
       "      <th>297</th>\n",
       "      <td>11/14/20</td>\n",
       "      <td>91828</td>\n",
       "      <td>21.0</td>\n",
       "      <td>4742</td>\n",
       "      <td>0.0</td>\n",
       "      <td>86543</td>\n",
       "      <td>25.0</td>\n",
       "    </tr>\n",
       "    <tr>\n",
       "      <th>298</th>\n",
       "      <td>11/15/20</td>\n",
       "      <td>91850</td>\n",
       "      <td>22.0</td>\n",
       "      <td>4742</td>\n",
       "      <td>0.0</td>\n",
       "      <td>86572</td>\n",
       "      <td>29.0</td>\n",
       "    </tr>\n",
       "    <tr>\n",
       "      <th>299</th>\n",
       "      <td>11/16/20</td>\n",
       "      <td>91872</td>\n",
       "      <td>22.0</td>\n",
       "      <td>4742</td>\n",
       "      <td>0.0</td>\n",
       "      <td>86616</td>\n",
       "      <td>44.0</td>\n",
       "    </tr>\n",
       "  </tbody>\n",
       "</table>\n",
       "<p>300 rows × 7 columns</p>\n",
       "</div>"
      ],
      "text/plain": [
       "         date  value_confirmed  daily_new_confirmed  value_death  \\\n",
       "0     1/22/20              548                  0.0           17   \n",
       "1     1/23/20              643                 95.0           18   \n",
       "2     1/24/20              920                277.0           26   \n",
       "3     1/25/20             1406                486.0           42   \n",
       "4     1/26/20             2075                669.0           56   \n",
       "..        ...              ...                  ...          ...   \n",
       "295  11/12/20            91783                 31.0         4742   \n",
       "296  11/13/20            91807                 24.0         4742   \n",
       "297  11/14/20            91828                 21.0         4742   \n",
       "298  11/15/20            91850                 22.0         4742   \n",
       "299  11/16/20            91872                 22.0         4742   \n",
       "\n",
       "     daily_new_death  value_recovered  daily_new_recovered  \n",
       "0                0.0               28                  0.0  \n",
       "1                1.0               30                  2.0  \n",
       "2                8.0               36                  6.0  \n",
       "3               16.0               39                  3.0  \n",
       "4               14.0               49                 10.0  \n",
       "..               ...              ...                  ...  \n",
       "295              0.0            86488                 37.0  \n",
       "296              0.0            86518                 30.0  \n",
       "297              0.0            86543                 25.0  \n",
       "298              0.0            86572                 29.0  \n",
       "299              0.0            86616                 44.0  \n",
       "\n",
       "[300 rows x 7 columns]"
      ]
     },
     "execution_count": 67,
     "metadata": {},
     "output_type": "execute_result"
    }
   ],
   "source": [
    "#example\n",
    "china_ts = get_by_country_merged(total_confirmed, total_death, total_recovered, \"China\")\n",
    "china_ts\n"
   ]
  },
  {
   "cell_type": "code",
   "execution_count": 65,
   "metadata": {},
   "outputs": [],
   "source": [
    "def get_per_country_data(total_confirmed, total_death, total_recovered, country_name):\n",
    "    #total confirmed per country\n",
    "    total_confirmed_per_country = total_confirmed.groupby(\"Country/Region\").sum()\n",
    "    total_confirmed_per_country.reset_index(inplace=True)\n",
    "    mask = (total_confirmed_per_country['Country/Region'] == country_name) \n",
    "    total_confirmed_per_country = total_confirmed_per_country.loc[mask]\n",
    "    total_confirmed_per_country = total_confirmed_per_country[total_confirmed_per_country.columns[-1]].sum()\n",
    "    \n",
    "    #total deaths per country\n",
    "    total_death_per_country = total_death.groupby(\"Country/Region\").sum()\n",
    "    total_death_per_country.reset_index(inplace=True)\n",
    "    mask = (total_death_per_country['Country/Region'] == country_name) \n",
    "    total_death_per_country=total_death_per_country.loc[mask]\n",
    "    total_death_per_country = total_death_per_country[total_death_per_country.columns[-1]].sum()\n",
    "    \n",
    "    #total recovered per country\n",
    "    total_recovered_per_country = total_recovered.groupby(\"Country/Region\").sum()\n",
    "    total_recovered_per_country.reset_index(inplace=True)\n",
    "    mask = (total_recovered_per_country['Country/Region'] == country_name) \n",
    "    total_recovered_per_country=total_recovered_per_country.loc[mask]\n",
    "    total_recovered_per_country = total_recovered_per_country[total_recovered_per_country.columns[-1]].sum()\n",
    "    return total_confirmed_per_country, total_death_per_country, total_death_per_country"
   ]
  },
  {
   "cell_type": "code",
   "execution_count": 43,
   "metadata": {},
   "outputs": [],
   "source": [
    "\"\"\" HTML selector for user input in web page\n",
    "ref : https://www.w3schools.com/tags/tag_select.asp\n",
    "\n",
    "I need HTML selector for retrieving country input : https://stackoverflow.com/questions/53388003/select-country-dropdown-in-html-page\n",
    "e.g:\n",
    "<select>\n",
    "<option value=\"Afghanistan\">Afghanistan</option>\n",
    "<option value=\"Albania\">Albania</option>\n",
    "<option value=\"Algeria\">Algeria</option>\n",
    "<option value=\"American Samoa\">American Samoa</option>\n",
    "...\n",
    "</select>\n",
    "\n",
    "If I use the selector from stack overflow solution, I need to filter manualy which country that doesnt exist in my table \n",
    "and also which country that has different format, so I will create my own selector based on countries in \"final_df\"\n",
    "\"\"\"\n",
    "#I also need to sort my final_df alphabetically by Country name so the selector also sorted\n",
    "final_df.reset_index(inplace=True, drop=True)\n",
    "with open('custom_html_selector.txt', 'w') as opened_file:\n",
    "    for key,value in final_df.sort_values(by=[\"Country/Region\"]).iterrows():\n",
    "        opened_file.write(f\"\"\"<option value=\"{value['Country/Region']}\">{value['Country/Region']}</option>\\n\"\"\")\n",
    "        print(f\"\"\"<option value=\"{value['Country/Region']}\">{value['Country/Region']}</option>\\n\"\"\")"
   ]
  },
  {
   "cell_type": "code",
   "execution_count": null,
   "metadata": {},
   "outputs": [],
   "source": [
    "def load_chartjs_map_data():\n",
    "  # ref : https://www.highcharts.com/demo/maps/tooltip\n",
    "  chartjs_ccode = pd.read_json(\n",
    "      \"https://cdn.jsdelivr.net/gh/highcharts/highcharts@v7.0.0/samples/data/world-population-density.json\")\n",
    "  chartjs_ccode\n",
    "  chartjs_map = final_df[[\"code3\", \"Country/Region\", \"confirmed\"]]\n",
    "  chartjs_map.columns = [\"code3\", \"name\", \"value\"]\n",
    "  chart_json = chartjs_map.to_dict('records')\n",
    "\n",
    "  with open('chart_js.json', 'w') as fout:\n",
    "      json.dump(chart_json, fout)"
   ]
  },
  {
   "cell_type": "markdown",
   "metadata": {},
   "source": [
    "### [Back to table of content](#main)"
   ]
  },
  {
   "cell_type": "code",
   "execution_count": null,
   "metadata": {},
   "outputs": [],
   "source": []
  },
  {
   "cell_type": "code",
   "execution_count": null,
   "metadata": {},
   "outputs": [],
   "source": []
  },
  {
   "cell_type": "code",
   "execution_count": null,
   "metadata": {},
   "outputs": [],
   "source": []
  },
  {
   "cell_type": "code",
   "execution_count": null,
   "metadata": {},
   "outputs": [],
   "source": []
  },
  {
   "cell_type": "code",
   "execution_count": null,
   "metadata": {},
   "outputs": [],
   "source": []
  },
  {
   "cell_type": "code",
   "execution_count": null,
   "metadata": {},
   "outputs": [],
   "source": []
  }
 ],
 "metadata": {
  "kernelspec": {
   "display_name": "Python 3.7.7 64-bit ('streamlit': conda)",
   "language": "python",
   "name": "python37764bitstreamlitconda02d7929af85c47fca1a84061f77f86fe"
  },
  "language_info": {
   "codemirror_mode": {
    "name": "ipython",
    "version": 3
   },
   "file_extension": ".py",
   "mimetype": "text/x-python",
   "name": "python",
   "nbconvert_exporter": "python",
   "pygments_lexer": "ipython3",
   "version": "3.7.7"
  }
 },
 "nbformat": 4,
 "nbformat_minor": 4
}
